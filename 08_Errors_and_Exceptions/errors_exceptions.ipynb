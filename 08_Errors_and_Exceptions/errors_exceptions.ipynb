{
  "nbformat": 4,
  "nbformat_minor": 0,
  "metadata": {
    "colab": {
      "provenance": [],
      "toc_visible": true,
      "authorship_tag": "ABX9TyN/JUIdlIPo0/oe/Cr5F098"
    },
    "kernelspec": {
      "name": "python3",
      "display_name": "Python 3"
    },
    "language_info": {
      "name": "python"
    }
  },
  "cells": [
    {
      "cell_type": "markdown",
      "source": [
        "# 8. Errors and Exceptions\n"
      ],
      "metadata": {
        "id": "CipN2c-3Av84"
      }
    },
    {
      "cell_type": "markdown",
      "source": [
        "當你嘗試運行，你可能會發現一些錯誤訊息。\n",
        "\n",
        "常見的（至少）兩種不同的錯誤類別為：**語法錯誤 (syntax error)** 和 **例外 (exception)**。"
      ],
      "metadata": {
        "id": "4CAf5DReA3fm"
      }
    },
    {
      "cell_type": "markdown",
      "source": [
        "## 8.1 語法錯誤 (Syntax Error)\n",
        "\n",
        "語法錯誤又稱剖析錯誤 (parsing error)。\n",
        "* 剖析器 (parser) 會重複犯錯的那一行，並用一個小「箭頭」指向該行檢測到的第一個錯誤點。\n",
        "* 錯誤是由箭頭之前的標記 (token) 導致的（或至少是在這裡檢測到的）：\n",
        "    * 此例中，錯誤是在 print() 函式中被檢測到，因為在它前面少了一個冒號（':'）。\n",
        "    * 檔案名稱和行號會被印出來，所以如果訊息是來自腳本時，就可以知道去哪裡找問題。"
      ],
      "metadata": {
        "id": "E6p0DGisBN6X"
      }
    },
    {
      "cell_type": "code",
      "source": [
        "while True print('Hello world')"
      ],
      "metadata": {
        "colab": {
          "base_uri": "https://localhost:8080/",
          "height": 106
        },
        "id": "NrVHqfdJi4MJ",
        "outputId": "d91ccdb7-9aa8-4757-e6fb-55d655b1b94e"
      },
      "execution_count": null,
      "outputs": [
        {
          "output_type": "error",
          "ename": "SyntaxError",
          "evalue": "invalid syntax (ipython-input-2884618176.py, line 1)",
          "traceback": [
            "\u001b[0;36m  File \u001b[0;32m\"/tmp/ipython-input-2884618176.py\"\u001b[0;36m, line \u001b[0;32m1\u001b[0m\n\u001b[0;31m    while True print('Hello world')\u001b[0m\n\u001b[0m               ^\u001b[0m\n\u001b[0;31mSyntaxError\u001b[0m\u001b[0;31m:\u001b[0m invalid syntax\n"
          ]
        }
      ]
    },
    {
      "cell_type": "markdown",
      "source": [
        "## 8.2 例外 (Exception)\n",
        "\n",
        "即使一段陳述式或運算式使用了正確的語法，嘗試執行時仍可能導致錯誤。\n",
        "* 執行時檢測到的錯誤稱為例外，例外不一定都很嚴重：你很快就能學會在 Python 程式中如何處理它們。\n",
        "* 不過大多數的例外不會被程式處理，並且會顯示如下的錯誤訊息："
      ],
      "metadata": {
        "id": "ef1qIf8xAvbK"
      }
    },
    {
      "cell_type": "code",
      "source": [
        "10 * (1/0)"
      ],
      "metadata": {
        "colab": {
          "base_uri": "https://localhost:8080/",
          "height": 141
        },
        "id": "Jj8UaIBwjhJD",
        "outputId": "8e444c67-0262-44c8-85fe-d71a5f87faeb"
      },
      "execution_count": null,
      "outputs": [
        {
          "output_type": "error",
          "ename": "ZeroDivisionError",
          "evalue": "division by zero",
          "traceback": [
            "\u001b[0;31m---------------------------------------------------------------------------\u001b[0m",
            "\u001b[0;31mZeroDivisionError\u001b[0m                         Traceback (most recent call last)",
            "\u001b[0;32m/tmp/ipython-input-734848216.py\u001b[0m in \u001b[0;36m<cell line: 0>\u001b[0;34m()\u001b[0m\n\u001b[0;32m----> 1\u001b[0;31m \u001b[0;36m10\u001b[0m \u001b[0;34m*\u001b[0m \u001b[0;34m(\u001b[0m\u001b[0;36m1\u001b[0m\u001b[0;34m/\u001b[0m\u001b[0;36m0\u001b[0m\u001b[0;34m)\u001b[0m\u001b[0;34m\u001b[0m\u001b[0;34m\u001b[0m\u001b[0m\n\u001b[0m",
            "\u001b[0;31mZeroDivisionError\u001b[0m: division by zero"
          ]
        }
      ]
    },
    {
      "cell_type": "code",
      "source": [
        "4 + spam*3"
      ],
      "metadata": {
        "colab": {
          "base_uri": "https://localhost:8080/",
          "height": 141
        },
        "id": "1n8IVuNqjlW_",
        "outputId": "4c44f264-e154-4686-a223-ff3612eafc8e"
      },
      "execution_count": null,
      "outputs": [
        {
          "output_type": "error",
          "ename": "NameError",
          "evalue": "name 'spam' is not defined",
          "traceback": [
            "\u001b[0;31m---------------------------------------------------------------------------\u001b[0m",
            "\u001b[0;31mNameError\u001b[0m                                 Traceback (most recent call last)",
            "\u001b[0;32m/tmp/ipython-input-2481180859.py\u001b[0m in \u001b[0;36m<cell line: 0>\u001b[0;34m()\u001b[0m\n\u001b[0;32m----> 1\u001b[0;31m \u001b[0;36m4\u001b[0m \u001b[0;34m+\u001b[0m \u001b[0mspam\u001b[0m\u001b[0;34m*\u001b[0m\u001b[0;36m3\u001b[0m\u001b[0;34m\u001b[0m\u001b[0;34m\u001b[0m\u001b[0m\n\u001b[0m",
            "\u001b[0;31mNameError\u001b[0m: name 'spam' is not defined"
          ]
        }
      ]
    },
    {
      "cell_type": "code",
      "source": [
        "'2' + 2"
      ],
      "metadata": {
        "colab": {
          "base_uri": "https://localhost:8080/",
          "height": 141
        },
        "id": "OTv09VQ7jsVL",
        "outputId": "6b507cc1-594e-46b7-bc35-b00ed3368047"
      },
      "execution_count": null,
      "outputs": [
        {
          "output_type": "error",
          "ename": "TypeError",
          "evalue": "can only concatenate str (not \"int\") to str",
          "traceback": [
            "\u001b[0;31m---------------------------------------------------------------------------\u001b[0m",
            "\u001b[0;31mTypeError\u001b[0m                                 Traceback (most recent call last)",
            "\u001b[0;32m/tmp/ipython-input-209420021.py\u001b[0m in \u001b[0;36m<cell line: 0>\u001b[0;34m()\u001b[0m\n\u001b[0;32m----> 1\u001b[0;31m \u001b[0;34m'2'\u001b[0m \u001b[0;34m+\u001b[0m \u001b[0;36m2\u001b[0m\u001b[0;34m\u001b[0m\u001b[0;34m\u001b[0m\u001b[0m\n\u001b[0m",
            "\u001b[0;31mTypeError\u001b[0m: can only concatenate str (not \"int\") to str"
          ]
        }
      ]
    },
    {
      "cell_type": "markdown",
      "source": [
        "* 錯誤訊息的最後一行指示發生了什麼事。\n",
        "* 例外有不同的類型，而類型名稱會作為訊息的一部份被印出。範例中的例外類型為：\n",
        "    * `ZeroDivisionError`、`NameError` 和 `TypeError`。\n",
        "    * 作為例外類型被印出的字串，就是發生的內建例外 (built-in exception) 的名稱。\n",
        "    * 所有的內建例外都是如此運作，但對於使用者自定的例外則不一定需要遵守（雖然這是一個有用的慣例）。\n",
        "    * 標準例外名稱是內建的識別字 (identifier)，不是保留關鍵字 (reserved keyword)。\n",
        "\n",
        "\n",
        "* 錯誤訊息的開頭，用堆疊回溯 (stack traceback) 的形式顯示發生例外的語境。"
      ],
      "metadata": {
        "id": "4mNvsXPZj4V3"
      }
    },
    {
      "cell_type": "markdown",
      "source": [
        "## 8.3 Handling Exceptions\n",
        "\n",
        "編寫程式處理選定的例外是可行的。\n",
        "\n",
        "以下範例會要求使用者輸入內容，直到有效的整數被輸入為止，但它允許使用者中斷程式（使用 Control-C 或作業系統支援的指令）；請注意，由使用者產生的程式中斷會引發 `KeyboardInterrupt` 例外信號。"
      ],
      "metadata": {
        "id": "o3_EX9iXlTs6"
      }
    },
    {
      "cell_type": "code",
      "source": [
        "while True:\n",
        "    try:\n",
        "        x = int(input(\"Please enter a number: \"))\n",
        "        break\n",
        "    except ValueError:\n",
        "        print(\"Oops!  That was no valid number.  Try again...\")"
      ],
      "metadata": {
        "colab": {
          "base_uri": "https://localhost:8080/"
        },
        "id": "yuDR4ZrTjwBe",
        "outputId": "9b8e4b33-316a-4b01-d572-a525b9fa5d8b"
      },
      "execution_count": null,
      "outputs": [
        {
          "name": "stdout",
          "output_type": "stream",
          "text": [
            "Please enter a number: test\n",
            "Oops!  That was no valid number.  Try again...\n",
            "Please enter a number: 123\n"
          ]
        }
      ]
    },
    {
      "cell_type": "markdown",
      "source": [
        "(1) `try` 陳述式運作方式如下。\n",
        "\n",
        "* 首先，執行 `try` 子句（`try` 和 `except` 關鍵字之間的陳述式）。\n",
        "\n",
        "* 如果沒有發生例外，則 `except` 子句會被跳過，`try` 陳述式執行完畢。\n",
        "\n",
        "* 如果執行 `try` 子句時發生了例外，則該子句中剩下的部分會被跳過。如果例外的類型與 `except` 關鍵字後面的例外名稱相符，則 `except` 子句被執行，然後，繼續執行 `try`/`except` 區塊之後的程式碼。\n",
        "\n",
        "* 如果發生的例外未符合 `except` 子句中的例外名稱，則將其傳遞到外層的 try 陳述式；如果仍無法找到處理者，則它是一個未處理例外 (`unhandled exception`)，執行將停止，並顯示如上所示的訊息。\n"
      ],
      "metadata": {
        "id": "_RcFZBXTmGjD"
      }
    },
    {
      "cell_type": "markdown",
      "source": [
        "(2) try 陳述式可以有不只一個 `except` 子句，為不同的例外指定處理者，而最多只有一個處理者會被執行。\n",
        "\n",
        "* 處理者只處理對應的 `try` 子句中發生的例外，而不會處理同一 `try` 陳述式裡其他處理者內的例外。\n",
        "\n",
        "* 一個 `except` 子句可以用一組括號內的 `tuple` 列舉多個例外，例如：\n",
        "```python\n",
        "... except (RuntimeError, TypeError, NameError):\n",
        "...     pass\n",
        "```"
      ],
      "metadata": {
        "id": "6_5HAM8DdFnH"
      }
    },
    {
      "cell_type": "code",
      "source": [
        "# Example 1：一個 try 陳述式與多個 except 子句\n",
        "# 一個 try 陳述式與多個 except 子句\n",
        "# 當 try 區塊中發生不同類型的錯誤時，程式會如何跳到對應的 except 區塊，並且只執行那一個。\n",
        "# 一個簡單的「數字相除」，它可能會因為使用者的輸入而產生不同的錯誤。\n",
        "\n",
        "def simple_divider():\n",
        "    try:\n",
        "        print(\"--- 開始進行除法運算 ---\")\n",
        "        numerator_str = input(\"請輸入被除數 (一個整數): \")\n",
        "        numerator = int(numerator_str)      # 可能發生 ValueError\n",
        "\n",
        "        denominator_str = input(\"請輸入除數 (一個整數): \")\n",
        "        denominator = int(denominator_str)  # 可能發生 ValueError\n",
        "\n",
        "        result = numerator / denominator    # 可能發生 ZeroDivisionError\n",
        "        print(f\"運算結果: {result}\")\n",
        "\n",
        "    except ValueError:\n",
        "        # 這個區塊只會在 int() 轉型失敗時執行\n",
        "        print(\"錯誤：您輸入的不是有效的整數，請重新執行程式。\")\n",
        "\n",
        "    except ZeroDivisionError:\n",
        "         # 這個區塊只在除數為 0 時執行\n",
        "        print(\"錯誤：除數不能為零！\")\n",
        "\n",
        "    except Exception as e:\n",
        "        # 捕捉其他所有未預期的錯誤\n",
        "        print(f\"發生了未預期的錯誤: {e}\")\n",
        "\n",
        "    finally:\n",
        "        # 無論是否發生錯誤，這個區塊一定會被執行\n",
        "        print(\"--- 運算結束 ---\")\n",
        "\n"
      ],
      "metadata": {
        "id": "ptnX3xzPl6AK"
      },
      "execution_count": null,
      "outputs": []
    },
    {
      "cell_type": "code",
      "source": [
        "simple_divider()"
      ],
      "metadata": {
        "colab": {
          "base_uri": "https://localhost:8080/"
        },
        "id": "L7AuCT9Whlmy",
        "outputId": "fa8f449a-7e70-44b1-da53-deb1f34ccb19"
      },
      "execution_count": null,
      "outputs": [
        {
          "output_type": "stream",
          "name": "stdout",
          "text": [
            "--- 開始進行除法運算 ---\n",
            "請輸入被除數 (一個整數): 25\n",
            "請輸入除數 (一個整數): 0\n",
            "錯誤：除數不能為零！\n",
            "--- 運算結束 ---\n"
          ]
        }
      ]
    },
    {
      "cell_type": "code",
      "source": [
        "# Example 2：處理者只處理 try 子句中的例外\n",
        "# 如果在一個 except 區塊內部又發生了新的錯誤，這個新錯誤不會被同層級的其他 except 區塊捕捉。\n",
        "\n",
        "def exception_handling_test1():\n",
        "    try:\n",
        "        print(\"步驟 1: 進入 try 區塊。\")\n",
        "        # 我們故意在這裡引發一個 ValueError\n",
        "        int('xyz')\n",
        "        print(\"這句話不會被執行。\")\n",
        "\n",
        "    except ValueError:\n",
        "        print(\"步驟 2: 成功捕捉到 ValueError，進入這個處理者。\")\n",
        "        # 現在，我們在「處理者內部」引發一個新的錯誤\n",
        "        print(\"步驟 3: 準備在 except 區塊內引發 ZeroDivisionError...\")\n",
        "        result = 10 / 0  # 在 except 區塊內發生了新錯誤\n",
        "        print(\"這句話也不會被執行。\")\n",
        "\n",
        "    except ZeroDivisionError:\n",
        "        # 這個區塊是用來捕捉「try 區塊」中的 ZeroDivisionError 的\n",
        "        # 它不會捕捉上面 except ValueError 區塊中發生的錯誤\n",
        "        print(\"這個 ZeroDivisionError 處理者會被執行嗎？ -> 不會\")\n",
        "\n",
        "    print(\"程式結束。\") # 這句話會被執行嗎？ -> 不"
      ],
      "metadata": {
        "id": "pUXXNdVBh540"
      },
      "execution_count": null,
      "outputs": []
    },
    {
      "cell_type": "code",
      "source": [
        "exception_handling_test1()"
      ],
      "metadata": {
        "colab": {
          "base_uri": "https://localhost:8080/",
          "height": 460
        },
        "id": "ywpavTU8i0aQ",
        "outputId": "b3e46d9a-94fb-4649-c495-7e1736633872"
      },
      "execution_count": null,
      "outputs": [
        {
          "output_type": "stream",
          "name": "stdout",
          "text": [
            "步驟 1: 進入 try 區塊。\n",
            "步驟 2: 成功捕捉到 ValueError，進入這個處理者。\n",
            "步驟 3: 準備在 except 區塊內引發 ZeroDivisionError...\n"
          ]
        },
        {
          "output_type": "error",
          "ename": "ZeroDivisionError",
          "evalue": "division by zero",
          "traceback": [
            "\u001b[0;31m---------------------------------------------------------------------------\u001b[0m",
            "\u001b[0;31mValueError\u001b[0m                                Traceback (most recent call last)",
            "\u001b[0;32m/tmp/ipython-input-4068984907.py\u001b[0m in \u001b[0;36mexception_handling_test1\u001b[0;34m()\u001b[0m\n\u001b[1;32m      7\u001b[0m         \u001b[0;31m# 我們故意在這裡引發一個 ValueError\u001b[0m\u001b[0;34m\u001b[0m\u001b[0;34m\u001b[0m\u001b[0m\n\u001b[0;32m----> 8\u001b[0;31m         \u001b[0mint\u001b[0m\u001b[0;34m(\u001b[0m\u001b[0;34m'xyz'\u001b[0m\u001b[0;34m)\u001b[0m\u001b[0;34m\u001b[0m\u001b[0;34m\u001b[0m\u001b[0m\n\u001b[0m\u001b[1;32m      9\u001b[0m         \u001b[0mprint\u001b[0m\u001b[0;34m(\u001b[0m\u001b[0;34m\"這句話不會被執行。\"\u001b[0m\u001b[0;34m)\u001b[0m\u001b[0;34m\u001b[0m\u001b[0;34m\u001b[0m\u001b[0m\n",
            "\u001b[0;31mValueError\u001b[0m: invalid literal for int() with base 10: 'xyz'",
            "\nDuring handling of the above exception, another exception occurred:\n",
            "\u001b[0;31mZeroDivisionError\u001b[0m                         Traceback (most recent call last)",
            "\u001b[0;32m/tmp/ipython-input-2578004762.py\u001b[0m in \u001b[0;36m<cell line: 0>\u001b[0;34m()\u001b[0m\n\u001b[0;32m----> 1\u001b[0;31m \u001b[0mexception_handling_test1\u001b[0m\u001b[0;34m(\u001b[0m\u001b[0;34m)\u001b[0m\u001b[0;34m\u001b[0m\u001b[0;34m\u001b[0m\u001b[0m\n\u001b[0m",
            "\u001b[0;32m/tmp/ipython-input-4068984907.py\u001b[0m in \u001b[0;36mexception_handling_test1\u001b[0;34m()\u001b[0m\n\u001b[1;32m     13\u001b[0m         \u001b[0;31m# 現在，我們在「處理者內部」引發一個新的錯誤\u001b[0m\u001b[0;34m\u001b[0m\u001b[0;34m\u001b[0m\u001b[0m\n\u001b[1;32m     14\u001b[0m         \u001b[0mprint\u001b[0m\u001b[0;34m(\u001b[0m\u001b[0;34m\"步驟 3: 準備在 except 區塊內引發 ZeroDivisionError...\"\u001b[0m\u001b[0;34m)\u001b[0m\u001b[0;34m\u001b[0m\u001b[0;34m\u001b[0m\u001b[0m\n\u001b[0;32m---> 15\u001b[0;31m         \u001b[0mresult\u001b[0m \u001b[0;34m=\u001b[0m \u001b[0;36m10\u001b[0m \u001b[0;34m/\u001b[0m \u001b[0;36m0\u001b[0m  \u001b[0;31m# 在 except 區塊內發生了新錯誤\u001b[0m\u001b[0;34m\u001b[0m\u001b[0;34m\u001b[0m\u001b[0m\n\u001b[0m\u001b[1;32m     16\u001b[0m         \u001b[0mprint\u001b[0m\u001b[0;34m(\u001b[0m\u001b[0;34m\"這句話也不會被執行。\"\u001b[0m\u001b[0;34m)\u001b[0m\u001b[0;34m\u001b[0m\u001b[0;34m\u001b[0m\u001b[0m\n\u001b[1;32m     17\u001b[0m \u001b[0;34m\u001b[0m\u001b[0m\n",
            "\u001b[0;31mZeroDivisionError\u001b[0m: division by zero"
          ]
        }
      ]
    },
    {
      "cell_type": "code",
      "source": [
        "# 如何正確處理這種情況？\n",
        "# 如果你預期 except 區塊內也可能發生錯誤，你需要在其內部再嵌套一層 try...except：\n",
        "def exception_handling_test2():\n",
        "    try:\n",
        "        print(\"步驟 1: 進入 try 區塊。\")\n",
        "        int('xyz')\n",
        "\n",
        "    except ValueError:\n",
        "        print(\"步驟 2: 捕捉到 ValueError。\")\n",
        "        try:\n",
        "            print(\"步驟 3: 在 except 區塊內，準備引發新錯誤...\")\n",
        "            result = 10 / 0\n",
        "        except ZeroDivisionError:\n",
        "            print(\"步驟 4: 在內層成功捕捉到 ZeroDivisionError！\")\n",
        "\n",
        "    print(\"步驟 5: 程式正常結束。\")"
      ],
      "metadata": {
        "id": "DQXpUg87jJ1-"
      },
      "execution_count": null,
      "outputs": []
    },
    {
      "cell_type": "code",
      "source": [
        "exception_handling_test2()"
      ],
      "metadata": {
        "colab": {
          "base_uri": "https://localhost:8080/"
        },
        "id": "6h8PKj9tj1vQ",
        "outputId": "82191e45-820e-4583-e08b-ff6b02788bd8"
      },
      "execution_count": null,
      "outputs": [
        {
          "output_type": "stream",
          "name": "stdout",
          "text": [
            "步驟 1: 進入 try 區塊。\n",
            "步驟 2: 捕捉到 ValueError。\n",
            "步驟 3: 在 except 區塊內，準備引發新錯誤...\n",
            "步驟 4: 在內層成功捕捉到 ZeroDivisionError！\n",
            "步驟 5: 程式正常結束。\n"
          ]
        }
      ]
    },
    {
      "cell_type": "markdown",
      "source": [
        "一個在 `except` 子句中的 `class`（類別）和一個例外是可相容的，只要它與例外是同一個 `class` 或是為其 `base class`（基底類別）；反之則無法成立 —— 列出 `derived class` （衍生類別）的 `except` 子句並不能與 `base class` 相容。\n",
        "\n",
        "例如，以下程式碼會依序印出 B、C、D：\n",
        "\n",
        "```python\n",
        "# B 是一個基礎的例外類型。\n",
        "class B(Exception):  # 交通工具問題\n",
        "    pass\n",
        "\n",
        "# C 繼承自 B，所以**「C 是一種 B」**。\n",
        "class C(B):  # 汽車問題\n",
        "    pass\n",
        "\n",
        "# D 繼承自 C，所以**「D 是一種 C」，同時「D 也是一種 B」**。\n",
        "class D(C):  # 跑車引擎問題\n",
        "    pass\n",
        "\n",
        "for cls in [B, C, D]:\n",
        "    try:\n",
        "        raise cls()  # 拋出問題\n",
        "    except D:\n",
        "        print(\"D\")   # 由跑車引擎專家處理\n",
        "    except C:\n",
        "        print(\"C\")   # 由汽車專家處理\n",
        "    except B:\n",
        "        print(\"B\")   # 由交通工具專家處理\n",
        "```\n",
        "\n",
        "* `except` 的捕捉規則：由專精到普通: 當一個問題發生時，它會從上到下詢問每一個專家，看誰能處理這個問題。一旦找到第一個能處理的專家，問題就交給他，後面的專家就不會再被詢問了。\n",
        "    * 一個專家能處理某個問題，有兩種情況：\n",
        "        * 1. 專業完全符合：跑車引擎問題 (D) 被 跑車引擎專家 (except D) 處理。\n",
        "        * 2. 專業領域包含：跑車引擎問題 (D) 也可以被 汽車專家 (except C) 處理，因為跑車引擎問題也算是一種汽車問題。當然，它也能被 交通工具專家 (except B) 處理。\n",
        "\n",
        "* 所以，請注意，如果 `except` 子句的順序被反轉（把 `except B` 放到第一個），則會印出 `B`、`B`、`B` ­­—— 第一個符合的 `except` 子句會被觸發。\n",
        "\n",
        "* 結論與最佳實踐\n",
        "    * 規則：Python 在 `try...except` 中會由上到下檢查哪一個 `except` 子句可以處理發生的例外。\n",
        "\n",
        "    * 繼承的影響：一個 `except` 子句如果指定的是基底類別 (Base Class)，那麼它也能捕捉到所有繼承自它的衍生類別 (Derived Class) 的例外。\n",
        "\n",
        "    * 最佳實踐：撰寫 `except` 子句時，順序至關重要。你應該永遠將最具體、最衍生的例外類別寫在最前面，最通用、最基礎的例外類別寫在最後面。這樣才能確保每種特定的例外都能被它專屬的處理者精準捕捉，而不會被一個過於通用的處理者「攔胡」。"
      ],
      "metadata": {
        "id": "0SNvwW7ckVto"
      }
    },
    {
      "cell_type": "markdown",
      "source": [
        "---\n",
        "\n",
        "所有例外繼承自 `BaseException`，以統一處理所有其他例外，但使用上要極其小心，因為這種方式容易遮蔽真正的程式設計錯誤！它也可用於印出錯誤訊息，然後重新引發例外（也讓呼叫者可以處理該例外）：\n"
      ],
      "metadata": {
        "id": "LF_TZXMSs2hp"
      }
    },
    {
      "cell_type": "code",
      "source": [
        "import sys\n",
        "\n",
        "try:\n",
        "    f = open('myfile.txt')\n",
        "    s = f.readline()\n",
        "    i = int(s.strip())\n",
        "except OSError as err:\n",
        "    print(f\"OS error: {err}\")\n",
        "except ValueError:\n",
        "    print(\"Could not convert data to an integer.\")\n",
        "except BaseException as err:\n",
        "    print(f\"Unexpected {err=}, {type(err)=}\")\n",
        "    raise"
      ],
      "metadata": {
        "colab": {
          "base_uri": "https://localhost:8080/"
        },
        "id": "m24Ovl9diX4i",
        "outputId": "1e8a5991-dec6-4611-d082-c2efe8edf7c0"
      },
      "execution_count": null,
      "outputs": [
        {
          "output_type": "stream",
          "name": "stdout",
          "text": [
            "OS error: [Errno 2] No such file or directory: 'myfile.txt'\n"
          ]
        }
      ]
    },
    {
      "cell_type": "markdown",
      "source": [
        "補充:\n",
        "\n",
        "這段話包含了三個核心概念：\n",
        "1. `BaseException` 是什麼？ 為什麼它能捕捉所有例外？\n",
        "2. 為什麼捕捉 `BaseException` 很危險？\n",
        "3. 「紀錄並重新引發」(Log and Re-raise) 模式：print(...) 後面接著 raise 的用途是什麼？\n",
        "\n",
        "以下:\n",
        "\n",
        "1. `BaseException`：所有例外的「老祖宗」\n",
        "你可以想像一個簡化的結構：\n",
        "```\n",
        "BaseException (所有例外的老祖宗)\n",
        " ├── SystemExit (當你呼叫 sys.exit() 時引發，目的是為了「正常」地終止程式)\n",
        " ├── KeyboardInterrupt (當使用者按下 Ctrl+C 時引發，目的是想「手動」中斷程式)\n",
        " └── Exception (絕大多數「程式錯誤」的老祖宗)\n",
        "      ├── OSError (檔案讀寫錯誤)\n",
        "      ├── ValueError (數值轉換錯誤)\n",
        "      ├── TypeError (型別錯誤)\n",
        "      └── ... (其他所有你常見的錯誤)\n",
        "```\n",
        "從這個結構可以看出：\n",
        "* `except ValueError`: 只能捕捉 `ValueError`。\n",
        "* `except Exception`: 可以捕捉到 `OSError`, `ValueError`, `TypeError` 等幾乎所有的程式性錯誤。\n",
        "* `except BaseException`: 可以捕捉到上面的一切，甚至包括使用者想按 `Ctrl+C` 中斷程式的意圖 (`KeyboardInterrupt`)！\n",
        "\n",
        "2. 為什麼捕捉 `BaseException` 很危險？\n",
        "* 這就像你設置了一個「天羅地網」，能捕捉到任何飛過的東西，但問題是，你可能捕捉到了你根本不想捕捉的東西，從而導致更糟的後果。\n",
        "* 危險情境舉例：假設你寫了一個需要執行 10 分鐘的程式。\n",
        "```python\n",
        "import time\n",
        "\n",
        "try:\n",
        "    print(\"程式開始執行，預計需要 10 分鐘...\")\n",
        "    # 這裡模擬一個長時間的工作\n",
        "    time.sleep(600)\n",
        "    print(\"程式執行完畢！\")\n",
        "\n",
        "# 錯誤的寫法：使用 BaseException\n",
        "except BaseException as err:\n",
        "    print(f\"捕捉到一個問題: {err}，但程式會繼續...\")\n",
        "\n",
        "print(\"程式結束。\")\n",
        "```\n",
        "當你執行這個程式時，你可能會覺得等太久了，想用 `Ctrl+C` 來強制停止它。\n",
        "* 你期望的結果： 按下 `Ctrl+C` 後，程式立刻停止。\n",
        "* 實際發生的結果：\n",
        "    1. 你按下 `Ctrl+C`，這會引發一個 `KeyboardInterrupt` 例外。\n",
        "    2. `except BaseException` 這個「天羅地網」把 `KeyboardInterrupt` 給捕捉到了！\n",
        "    3. 程式印出 `\"捕捉到一個問題: ，但程式會繼續...\"`。\n",
        "    4. 程式沒有停止！它會繼續執行，直到 `print(\"程式結束。\")`。\n",
        "\n",
        "這完全違背了使用者的意圖！使用者會發現他無法正常地中斷你的程式，體驗非常糟糕。這就是原文所說的「遮蔽真正的問題」— 在這裡，它遮蔽了「使用者想要終止程式」這個正常的訊號。\n",
        "\n",
        "最佳實踐：\n",
        "如果你真的需要一個廣泛的 `except` 來捕捉所有程式性的錯誤，你應該使用 `except Exception`:。它能捕捉 `ValueError`, `OSError` 等，但不會捕捉到 `SystemExit` 或 `KeyboardInterrupt`，讓程式可以正常被中斷。\n",
        "\n",
        "3. 「紀錄並重新引發」模式 (`raise`)\n",
        "範例中的最後一個 `except` 區塊：\n",
        "```python\n",
        "except BaseException as err:\n",
        "    print(f\"Unexpected {err=}, {type(err)=}\")\n",
        "    raise\n",
        "```\n",
        "這個模式的中文可以翻譯成「**我知道出事了，但我不知道怎麼處理，所以我先記錄下來，然後把問題往上拋給別人處理**」。\n",
        "\n",
        "讓我們用一個比喻來理解：\n",
        "想像一個大型工廠的生產線，你是一個基層員工。\n",
        "\n",
        "* `try` 區塊：你正在執行你的日常工作。\n",
        "* `except ValueError`:你發現一個零件尺寸不對 (`ValueError`)，你知道該怎麼辦，於是你把它挑出來，換上對的零件。問題在你這裡就被解決了。\n",
        "* `except BaseException`:：突然，整台機器冒出了你從沒見過的黑煙 (`Unexpected error`)！\n",
        "    * 你完全不知道這是什麼問題，也不知道該如何修復。\n",
        "    * 如果你什麼都不做（只 `print`），那就像是你看到了黑煙卻假裝沒事，生產線繼續跑，最後可能導致整間工廠爆炸。\n",
        "    * **正確的做法是**：\n",
        "        * `print(...)`: 你立刻在工作日誌上寫下：「下午3點15分，機器冒出不明黑煙，錯誤類型為...」。(紀錄)\n",
        "        `raise`: 你立刻拉下警報，通知你的主管來處理這個你無法解決的問題。(重新引發/往上拋)\n",
        "\n",
        "`raise` 這個關鍵字的作用就是把捕捉到的例外**原封不動地**再拋出去。(關於`raise`，參考8.4)\n",
        "\n",
        "這樣做的好處是：\n",
        "1. **不會遺失錯誤資訊**：你可以在程式的最底層捕捉到最原始的錯誤訊息並記錄下來，這對於除錯至關重要。\n",
        "2. **不中斷錯誤傳遞鏈**：你承認這個錯誤超出了你當前函式的處理能力，於是把它交給更高層的呼叫者（或最終的 Python 直譯器）來決定該怎麼辦，比如終止程式並顯示完整的錯誤追蹤訊息 (Traceback)。\n",
        "\n",
        "這是一個在大型專案中非常常見且健壯的錯誤處理模式。\n",
        "\n",
        "---"
      ],
      "metadata": {
        "id": "_k184uLzlfkK"
      }
    },
    {
      "cell_type": "markdown",
      "source": [
        "如果一段程式碼只有在 `try` 成功後才應該執行，那它應該放在哪裡？\n",
        "\n",
        "直覺上可能會想直接放在 `try` 區塊的結尾，但 `else` 子句提供了一個**更好、更安全**的地方。\n",
        "\n",
        "\n",
        "用一個更生活化的比喻來拆解這整件事。\n",
        "\n",
        "**四個區塊，四種職責**\n",
        "\n",
        "想像你在家裡嘗試做一道困難的料理：\n",
        "\n",
        "* `try`：【冒險區】\n",
        "    * 職責： 執行最關鍵、最可能失敗的步驟。\n",
        "    * 比喻： 點燃爐火，並把油倒入熱鍋。這一步驟可能因為瓦斯沒了或油濺出來而失敗。\n",
        "\n",
        "* `except`：【失敗備案】\n",
        "    * 職責： `try` 區塊失敗時的處理方案。\n",
        "    * 比喻： 如果油鍋起火了 (`OSError`)，立刻蓋上鍋蓋滅火。\n",
        "\n",
        "* `else`：【成功之路】\n",
        "    * 職責： `try` 區塊**完全成功、沒有發生任何意外**時，才要執行的後續步驟。\n",
        "    * 比喻： 既然油已經安全地熱好了，現在可以把食材下鍋開始炒菜了。\n",
        "\n",
        "* `finally`：【善後工作】\n",
        "    * 職責： 無論成功或失敗，最後都必須執行的清理工作。\n",
        "    * 比喻： 不管菜有沒有炒成功，最後都要關閉瓦斯、清理廚房。\n",
        "\n",
        "為什麼 `else` 比直接寫在 `try` 裡更好？\n",
        "\n",
        "**「這可以避免意外地捕獲不是由 `try` ... `except` 陳述式保護的程式碼所引發的例外。」**\n",
        "\n",
        "這句話的意思是：**讓 `try` 區塊的範圍越小越好，只保護你真正預期可能出錯的那一行程式碼。**\n",
        "\n",
        "**不好的寫法：把所有程式碼都塞進 `try`**\n",
        "```python\n",
        "# 不建議的寫法\n",
        "try:\n",
        "    # --- 你真正想保護的只有這一行 ---\n",
        "    f = open('myfile.txt', 'r')\n",
        "    # --------------------------------\n",
        "\n",
        "    # 以下是成功後才要執行的程式碼，但也一起被放進了「冒險區」\n",
        "    print(\"檔案已開啟，準備讀取...\")\n",
        "    content = f.readlines() # 如果檔案不是純文字檔，這行也可能出錯 (例如 UnicodeDecodeError)\n",
        "    print('myfile.txt has', len(content), 'lines')\n",
        "    f.close()\n",
        "\n",
        "except OSError:\n",
        "    # 這個備案原本只想處理「檔案打不開」的問題\n",
        "    print('cannot open myfile.txt')\n",
        "```\n",
        "\n",
        "**問題點：**\n",
        "`try` 區塊太大了！它的職責應該只是「嘗試打開檔案」。但現在，它還包含了 `readlines()` 和 `len()`。如果 `f.readlines()` 因為檔案編碼問題而引發了它自己的錯誤（例如 `UnicodeDecodeError`），而這個錯誤又剛好是 `OSError` 的一種（雖然在此例中不是，但這是有可能的），那麼 `except OSError` 就會意外地捕捉到這個它本不該處理的錯誤。\n",
        "\n",
        "你會得到「cannot open myfile.txt」的訊息，但事實上檔案已經打開了，是讀取時才出的錯。這會誤導你除錯的方向。\n",
        "\n",
        "好的寫法：使用 `else` 分離職責\n",
        "```python\n",
        "# 建議的寫法\n",
        "try:\n",
        "    # 【冒險區】：只放最核心、最可能出錯的一行\n",
        "    f = open('myfile.txt', 'r')\n",
        "\n",
        "except OSError:\n",
        "    # 【失敗備案】：只處理 open() 的失敗\n",
        "    print('cannot open myfile.txt')\n",
        "\n",
        "else:\n",
        "    # 【成功之路】：只有在 open() 成功後，才執行這些程式碼\n",
        "    print(\"檔案已開啟，準備讀取...\")\n",
        "    content = f.readlines()\n",
        "    print('myfile.txt has', len(content), 'lines')\n",
        "    f.close()\n",
        "```\n",
        "\n",
        "優點：\n",
        "1. 職責清晰：`try` 只負責打開檔案。`else` 負責處理已打開的檔案。\n",
        "2. 錯誤精準：`except OSError` 現在只會捕捉 `open()` 失敗時的錯誤。如果 `else` 區塊中的 `f.readlines()` 出了其他問題（如 `UnicodeDecodeError`），程式會用它自己的錯誤類型直接中斷，你就能立刻知道問題出在「讀取」而不是「打開」。\n",
        "3. 程式碼更易讀：這樣的結構清楚地告訴閱讀者，「這段程式碼是成功之後的流程」。\n",
        "\n",
        "---"
      ],
      "metadata": {
        "id": "BgWa8NdL4IHp"
      }
    },
    {
      "cell_type": "markdown",
      "source": [
        "當例外發生時，它可能有一個相關的值，也就是例外的引數。\n",
        "此引數的存在與否及它的類型，是取決於例外的類型。\n",
        "\n",
        "`except` 子句可以在例外名稱後面指定一個變數。\n",
        "* 這個變數被綁定到一個例外實例 (`instance`)，其引數儲存在 `instance.args` 中。\n",
        "* 為了方便，例外實例會定義 `__str__()`，因此引數可以直接被印出而無須引用 `.args`。\n",
        "* 你也可以在引發例外前就先建立一個例外實例，並隨心所欲地為它加入任何屬性。"
      ],
      "metadata": {
        "id": "I0lzo0LsdQIr"
      }
    },
    {
      "cell_type": "code",
      "source": [
        "try:\n",
        "    raise Exception('spam', 'eggs')\n",
        "except Exception as inst:\n",
        "    print(type(inst))       # the exception instance\n",
        "    print(inst.args)        # arguments stored in args\n",
        "    print(inst)             # __str__ allows args to be printed directly,\n",
        "                            # but may be overridden in exception subclasses\n",
        "    x, y = inst.args        # unpack args\n",
        "    print(f\"{x=}\")\n",
        "    print(f\"{y=}\")\n"
      ],
      "metadata": {
        "colab": {
          "base_uri": "https://localhost:8080/"
        },
        "id": "BO4kURZDdmRa",
        "outputId": "179a6a57-802d-4a9e-f864-07e0fff1cd52"
      },
      "execution_count": null,
      "outputs": [
        {
          "output_type": "stream",
          "name": "stdout",
          "text": [
            "<class 'Exception'>\n",
            "('spam', 'eggs')\n",
            "('spam', 'eggs')\n",
            "x='spam'\n",
            "y='eggs'\n"
          ]
        }
      ]
    },
    {
      "cell_type": "markdown",
      "source": [
        "例外的處理者不僅處理 `try` 子句內立即發生的例外，\n",
        "還處理 `try` 子句內（即使是間接地）呼叫的函式內部發生的例外。例如："
      ],
      "metadata": {
        "id": "AW1losUZe5Ni"
      }
    },
    {
      "cell_type": "code",
      "source": [
        "def this_fails():\n",
        "    x = 1/0\n",
        "\n",
        "try:\n",
        "    this_fails()\n",
        "except ZeroDivisionError as err:\n",
        "    print(f\"Handling run time error: {err}\")"
      ],
      "metadata": {
        "colab": {
          "base_uri": "https://localhost:8080/"
        },
        "id": "9MREYzxoenCG",
        "outputId": "31c01319-7fc5-4feb-c210-46a711d5dd91"
      },
      "execution_count": null,
      "outputs": [
        {
          "output_type": "stream",
          "name": "stdout",
          "text": [
            "Handling run time error: division by zero\n"
          ]
        }
      ]
    },
    {
      "cell_type": "markdown",
      "source": [
        "## 8.4 引發例外 (Raising Exceptions)\n",
        "\n",
        "`raise` 陳述式可讓程式設計師強制引發指定的例外。例如："
      ],
      "metadata": {
        "id": "YaFdVkMtgJBC"
      }
    },
    {
      "cell_type": "code",
      "source": [
        "raise NameError('HiThere')"
      ],
      "metadata": {
        "id": "KxLqGwjHf7zj",
        "colab": {
          "base_uri": "https://localhost:8080/",
          "height": 141
        },
        "outputId": "66f29325-a9be-4237-f46f-a612de93db46"
      },
      "execution_count": null,
      "outputs": [
        {
          "output_type": "error",
          "ename": "NameError",
          "evalue": "HiThere",
          "traceback": [
            "\u001b[0;31m---------------------------------------------------------------------------\u001b[0m",
            "\u001b[0;31mNameError\u001b[0m                                 Traceback (most recent call last)",
            "\u001b[0;32m/tmp/ipython-input-2916444848.py\u001b[0m in \u001b[0;36m<cell line: 0>\u001b[0;34m()\u001b[0m\n\u001b[0;32m----> 1\u001b[0;31m \u001b[0;32mraise\u001b[0m \u001b[0mNameError\u001b[0m\u001b[0;34m(\u001b[0m\u001b[0;34m'HiThere'\u001b[0m\u001b[0;34m)\u001b[0m\u001b[0;34m\u001b[0m\u001b[0;34m\u001b[0m\u001b[0m\n\u001b[0m",
            "\u001b[0;31mNameError\u001b[0m: HiThere"
          ]
        }
      ]
    },
    {
      "cell_type": "markdown",
      "source": [
        "`raise` 唯一的引數就是要引發的例外。\n",
        "* 該引數必須是一個例外實例或例外 class（衍生自 Exception 的 class）。\n",
        "* 如果一個例外 class 被傳遞，它會不含引數地呼叫它的建構函式 (constructor) ，使它被自動建立實例 (implicitly instantiated)："
      ],
      "metadata": {
        "id": "-IzIHwkobt92"
      }
    },
    {
      "cell_type": "code",
      "source": [
        "raise ValueError    # shorthand for 'raise ValueError()'"
      ],
      "metadata": {
        "colab": {
          "base_uri": "https://localhost:8080/",
          "height": 141
        },
        "id": "NJSVS8nIbnq8",
        "outputId": "941cbda2-659c-4bb6-fa97-41ac05b63113"
      },
      "execution_count": null,
      "outputs": [
        {
          "output_type": "error",
          "ename": "ValueError",
          "evalue": "",
          "traceback": [
            "\u001b[0;31m---------------------------------------------------------------------------\u001b[0m",
            "\u001b[0;31mValueError\u001b[0m                                Traceback (most recent call last)",
            "\u001b[0;32m/tmp/ipython-input-1429730918.py\u001b[0m in \u001b[0;36m<cell line: 0>\u001b[0;34m()\u001b[0m\n\u001b[0;32m----> 1\u001b[0;31m \u001b[0;32mraise\u001b[0m \u001b[0mValueError\u001b[0m    \u001b[0;31m# shorthand for 'raise ValueError()'\u001b[0m\u001b[0;34m\u001b[0m\u001b[0;34m\u001b[0m\u001b[0m\n\u001b[0m",
            "\u001b[0;31mValueError\u001b[0m: "
          ]
        }
      ]
    },
    {
      "cell_type": "markdown",
      "source": [
        "如果你只想判斷是否引發了例外，但並不打算處理它，則可以使用簡單的 `raise` 陳述式來重新引發該例外："
      ],
      "metadata": {
        "id": "onF6DmNXcBE3"
      }
    },
    {
      "cell_type": "code",
      "source": [
        "try:\n",
        "    raise NameError('HiThere')\n",
        "except NameError:\n",
        "    print('An exception flew by!')"
      ],
      "metadata": {
        "colab": {
          "base_uri": "https://localhost:8080/"
        },
        "id": "R_UPzMF_b7lI",
        "outputId": "fbcb9990-af79-4ab1-a698-804b1b26f412"
      },
      "execution_count": null,
      "outputs": [
        {
          "output_type": "stream",
          "name": "stdout",
          "text": [
            "An exception flew by!\n"
          ]
        }
      ]
    },
    {
      "cell_type": "code",
      "source": [
        "try:\n",
        "    raise NameError('HiThere')\n",
        "except NameError:\n",
        "    print('An exception flew by!')\n",
        "    raise"
      ],
      "metadata": {
        "colab": {
          "base_uri": "https://localhost:8080/",
          "height": 228
        },
        "id": "RO1cAkwNcVM1",
        "outputId": "41ccceae-aa21-4d7b-b262-a591a9ca1c35"
      },
      "execution_count": null,
      "outputs": [
        {
          "output_type": "stream",
          "name": "stdout",
          "text": [
            "An exception flew by!\n"
          ]
        },
        {
          "output_type": "error",
          "ename": "NameError",
          "evalue": "HiThere",
          "traceback": [
            "\u001b[0;31m---------------------------------------------------------------------------\u001b[0m",
            "\u001b[0;31mNameError\u001b[0m                                 Traceback (most recent call last)",
            "\u001b[0;32m/tmp/ipython-input-310744692.py\u001b[0m in \u001b[0;36m<cell line: 0>\u001b[0;34m()\u001b[0m\n\u001b[1;32m      1\u001b[0m \u001b[0;32mtry\u001b[0m\u001b[0;34m:\u001b[0m\u001b[0;34m\u001b[0m\u001b[0;34m\u001b[0m\u001b[0m\n\u001b[0;32m----> 2\u001b[0;31m     \u001b[0;32mraise\u001b[0m \u001b[0mNameError\u001b[0m\u001b[0;34m(\u001b[0m\u001b[0;34m'HiThere'\u001b[0m\u001b[0;34m)\u001b[0m\u001b[0;34m\u001b[0m\u001b[0;34m\u001b[0m\u001b[0m\n\u001b[0m\u001b[1;32m      3\u001b[0m \u001b[0;32mexcept\u001b[0m \u001b[0mNameError\u001b[0m\u001b[0;34m:\u001b[0m\u001b[0;34m\u001b[0m\u001b[0;34m\u001b[0m\u001b[0m\n\u001b[1;32m      4\u001b[0m     \u001b[0mprint\u001b[0m\u001b[0;34m(\u001b[0m\u001b[0;34m'An exception flew by!'\u001b[0m\u001b[0;34m)\u001b[0m\u001b[0;34m\u001b[0m\u001b[0;34m\u001b[0m\u001b[0m\n\u001b[1;32m      5\u001b[0m     \u001b[0;32mraise\u001b[0m\u001b[0;34m\u001b[0m\u001b[0;34m\u001b[0m\u001b[0m\n",
            "\u001b[0;31mNameError\u001b[0m: HiThere"
          ]
        }
      ]
    },
    {
      "cell_type": "markdown",
      "source": [
        "---\n",
        "補充: `raise`\n",
        "* 理解 `raise` 的使用時機，是區分初學者和有經驗的開發者的關鍵之一。\n",
        "* 簡單來說，`raise` 的作用是 **主動、刻意地觸發一個例外（錯誤）**。\n",
        "* 一般的例外是 Python 自動觸發的，例如：\n",
        "    * `1 / 0` → Python 自動觸發 `ZeroDivisionError`\n",
        "    * `int('abc')` → Python 自動觸發 `ValueError`\n",
        "* 而 `raise` 則是讓你 **在 Python 認為「沒問題」但根據你的程式邏輯「有問題」** 的時候，**手動觸發** 一個錯誤，來中斷程式的正常流程。\n"
      ],
      "metadata": {
        "id": "KeJDEOA-dXqG"
      }
    },
    {
      "cell_type": "markdown",
      "source": [
        "一、如何使用 `raise` (語法)\n",
        "\n",
        "1. `raise` [例外類型](\"錯誤訊息\")\n",
        "    * 這是最常見的用法，用來引發一個新的例外。\n",
        "        ```python\n",
        "        # 引發一個內建的 ValueError\n",
        "        raise ValueError(\"年齡不能是負數！\")\n",
        "\n",
        "        # 引發一個 TypeError\n",
        "        raise TypeError(\"請提供一個數字列表，而不是字串。\")\n",
        "        ```\n",
        "2. `raise` (不帶任何參數)\n",
        "    * 這種形式只能用在 `except` 區塊中，它的作用是將剛剛捕捉到的例外，原封不動地重新拋出。\n",
        "        ```python\n",
        "        try:\n",
        "            # ... 一些可能出錯的程式碼 ...\n",
        "            result = 10 / 0\n",
        "        except Exception as err:\n",
        "            print(f\"在底層捕捉到錯誤: {err}\")\n",
        "            # 我處理不了，重新拋出給上層處理\n",
        "            raise\n",
        "        ```\n",
        "    "
      ],
      "metadata": {
        "id": "C-smaZtFf6ug"
      }
    },
    {
      "cell_type": "markdown",
      "source": [
        "二、何時使用 `raise` (關鍵的使用時機)\n",
        "\n",
        "這才是問題的核心。`raise` 不是用來回報正常結果的，而是 **用來表明一個函式無法完成它被賦予的任務**。\n",
        "\n",
        "以下是幾個最經典的使用時機：\n",
        "\n",
        "**時機一：函式接收到無效的參數時 (Input Validation)**\n",
        "    \n",
        "    當一個函式的參數不符合要求，導致它根本無法執行下去時，就應該引發例外。\n",
        "\n",
        "範例： 計算 BMI 的函式，身高和體重必須是正數。\n"
      ],
      "metadata": {
        "id": "xpNSR2JooZS_"
      }
    },
    {
      "cell_type": "code",
      "source": [
        "def calculate_bmi(height_m, weight_kg):\n",
        "    \"\"\"計算 BMI 值\"\"\"\n",
        "    if not isinstance(height_m, (int, float)) or not isinstance(weight_kg, (int, float)):\n",
        "        # 檢查型別是否正確\n",
        "        raise TypeError(\"身高和體重必須是數字。\")\n",
        "\n",
        "    if height_m <= 0 or weight_kg <= 0:\n",
        "        # 檢查數值是否有效\n",
        "        raise ValueError(\"身高和體重必須是正數。\")\n",
        "\n",
        "    bmi = weight_kg / (height_m ** 2)\n",
        "    return bmi"
      ],
      "metadata": {
        "id": "bQXhQXbscXd7"
      },
      "execution_count": null,
      "outputs": []
    },
    {
      "cell_type": "code",
      "source": [
        "# --- 嘗試呼叫 ---\n",
        "try:\n",
        "    # 1. 正確呼叫\n",
        "    print(f\"1. BMI: {calculate_bmi(1.75, 70)}\")\n",
        "\n",
        "    # 2. 錯誤呼叫：傳入負數\n",
        "    print(f\"2. BMI: {calculate_bmi(-1.75, 70)}\")\n",
        "\n",
        "except (ValueError, TypeError) as e:\n",
        "    print(f\"計算失敗，錯誤原因: {e}\")"
      ],
      "metadata": {
        "colab": {
          "base_uri": "https://localhost:8080/"
        },
        "id": "QV9V1FeZpuTX",
        "outputId": "0ab59060-5b21-4ccf-ee63-10e4a4cd4832"
      },
      "execution_count": null,
      "outputs": [
        {
          "output_type": "stream",
          "name": "stdout",
          "text": [
            "1. BMI: 22.857142857142858\n",
            "計算失敗，錯誤原因: 身高和體重必須是正數。\n"
          ]
        }
      ]
    },
    {
      "cell_type": "markdown",
      "source": [
        "為什麼這麼做？\n",
        "\n",
        "* 如果不 `raise`，這個函式要回傳什麼？`None`? `-1`? `0`? 這些回傳值都可能被誤解。\n",
        "* 直接引發 `ValueError`，可以最清楚地告訴呼叫者：「你給我的資料有問題，我無法完成計算！」"
      ],
      "metadata": {
        "id": "I2bEaKXFp93c"
      }
    },
    {
      "cell_type": "markdown",
      "source": [
        "**時機二：當程式狀態不符合預期，無法繼續執行時**\n",
        "\n",
        "有時候，錯誤不是來自外部參數，而是來自程式內部的狀態。\n",
        "\n",
        "範例： 銀行帳戶提款，餘額不足時不能提款。"
      ],
      "metadata": {
        "id": "-0zdIZUou_hr"
      }
    },
    {
      "cell_type": "code",
      "source": [
        "class InsufficientFundsError(Exception):\n",
        "    \"\"\"自訂一個餘額不足的例外，讓錯誤更明確\"\"\"\n",
        "    pass\n",
        "\n",
        "class BankAccount:\n",
        "    def __init__(self, balance):\n",
        "        self.balance = balance\n",
        "\n",
        "    def withdraw(self, amount):\n",
        "        if amount < 0:\n",
        "            raise ValueError(\"提款金額不能是負數。\")\n",
        "\n",
        "        if self.balance < amount:\n",
        "            # 程式狀態（餘額）不允許此操作\n",
        "            raise InsufficientFundsError(f\"餘額不足。目前餘額: {self.balance}, 提款金額: {amount}\")\n",
        "\n",
        "        self.balance -= amount\n",
        "        print(f\"成功提款 {amount}。剩餘餘額: {self.balance}\")\n",
        "\n",
        "# --- 模擬操作 ---\n",
        "account = BankAccount(1000)\n",
        "try:\n",
        "    account.withdraw(500)   # 成功\n",
        "    account.withdraw(600)   # 失敗，餘額不足\n",
        "except (ValueError, InsufficientFundsError) as e:\n",
        "    print(f\"操作失敗: {e}\")"
      ],
      "metadata": {
        "colab": {
          "base_uri": "https://localhost:8080/"
        },
        "id": "DjYAEXWWu2ek",
        "outputId": "304e60b0-d142-4c09-d25c-d32888c1e62d"
      },
      "execution_count": null,
      "outputs": [
        {
          "output_type": "stream",
          "name": "stdout",
          "text": [
            "成功提款 500。剩餘餘額: 500\n",
            "操作失敗: 餘額不足。目前餘額: 500, 提款金額: 600\n"
          ]
        }
      ]
    },
    {
      "cell_type": "markdown",
      "source": [
        "**為什麼這麼做？**\n",
        "\n",
        "`withdraw` 函式的核心任務是「提款」。當餘額不足時，這個任務`無法完成`。與其默默地失敗或回傳一個 `False`，不如直接引發一個描述性的例外，強制讓呼叫者必須處理這個「提款失敗」的異常情況。"
      ],
      "metadata": {
        "id": "CAqxDTDJzFXl"
      }
    },
    {
      "cell_type": "markdown",
      "source": [
        "**時機三：在抽象類別中，強制子類別實作特定方法**\n",
        "\n",
        "在物件導向設計中，你可能會有一個基礎類別，它定義了一個介面，但本身不提供實作。\n",
        "\n",
        "範例： 一個 `Shape` (形狀) 類別要求所有繼承它的子類別都必須有 `area` (面積) 方法。"
      ],
      "metadata": {
        "id": "bBPsjL8izYzv"
      }
    },
    {
      "cell_type": "code",
      "source": [
        "class Shape:\n",
        "    def area(self):\n",
        "        # 如果子類別沒有覆寫(override)這個方法，呼叫時就會出錯\n",
        "        raise NotImplementedError(\"子類別必須實作 area() 方法\")\n",
        "\n",
        "class Circle(Shape):\n",
        "    def __init__(self, radius):\n",
        "        self.radius = radius\n",
        "\n",
        "    # Circle 正確地實作了 area()\n",
        "    def area(self):\n",
        "        return 3.14159 * (self.radius ** 2)\n",
        "\n",
        "class Triangle(Shape):\n",
        "    # 這個子類別忘了實作 area()\n",
        "    def __init__(self, base, height):\n",
        "        self.base = base\n",
        "        self.height = height\n",
        "\n",
        "# --- 使用 ---\n",
        "c = Circle(10)\n",
        "print(f\"圓形面積: {c.area()}\")\n",
        "\n",
        "t = Triangle(10, 5)\n",
        "try:\n",
        "    # 這裡會出錯，因為 Triangle 沒有實作 area\n",
        "    print(f\"三角形面積: {t.area()}\")\n",
        "except NotImplementedError as e:\n",
        "    print(f\"錯誤: {e}\")"
      ],
      "metadata": {
        "colab": {
          "base_uri": "https://localhost:8080/"
        },
        "id": "NcnvXiUSy-PI",
        "outputId": "271ffbb1-4a4f-4750-df6f-3cc72db89170"
      },
      "execution_count": null,
      "outputs": [
        {
          "output_type": "stream",
          "name": "stdout",
          "text": [
            "圓形面積: 314.159\n",
            "錯誤: 子類別必須實作 area() 方法\n"
          ]
        }
      ]
    },
    {
      "cell_type": "markdown",
      "source": [
        "**為什麼這麼做？**\n",
        "\n",
        "`raise NotImplementedError` 是一種契約，它強制其他開發者在繼承你的類別時，必須遵守你訂下的規則，確保程式設計的完整性。"
      ],
      "metadata": {
        "id": "cWt-fvXp0SH6"
      }
    },
    {
      "cell_type": "markdown",
      "source": [
        "總結\n",
        "```\n",
        "何時使用 `raise`\t目的\n",
        "函式參數驗證\t    保護函式不被無效的輸入破壞，清楚地拒絕無法處理的請求。\n",
        "保護業務邏輯/內部狀態\t當程式處於一個不該執行某項操作的狀態時，立即停止並發出警告。\n",
        "抽象方法\t        在框架或基礎類別中定義規範，強制子類別完成必要的實作。\n",
        "重新拋出例外\t    在捕捉到例外後，進行紀錄或部分處理，然後再將例外交給上層處理。\n",
        "```\n",
        "\n"
      ],
      "metadata": {
        "id": "GA7ttixU0bZI"
      }
    },
    {
      "cell_type": "markdown",
      "source": [
        "## 8.5. 例外鏈接 (Exception Chaining)\n",
        "\n",
        "如果一个未处理的异常发生在 `except` 部分内，它将会有被处理的异常附加到它上面，并包括在错误信息中:"
      ],
      "metadata": {
        "id": "gCIcbwpT09DP"
      }
    },
    {
      "cell_type": "code",
      "source": [
        "try:\n",
        "    open(\"database.sqlite\")\n",
        "except OSError:\n",
        "    raise RuntimeError(\"unable to handle error\")"
      ],
      "metadata": {
        "colab": {
          "base_uri": "https://localhost:8080/",
          "height": 349
        },
        "id": "BBXT4iHH0O_J",
        "outputId": "2a7ef464-be1a-4260-89e3-ac59cc081935"
      },
      "execution_count": null,
      "outputs": [
        {
          "output_type": "error",
          "ename": "RuntimeError",
          "evalue": "unable to handle error",
          "traceback": [
            "\u001b[0;31m---------------------------------------------------------------------------\u001b[0m",
            "\u001b[0;31mFileNotFoundError\u001b[0m                         Traceback (most recent call last)",
            "\u001b[0;32m/tmp/ipython-input-2449819076.py\u001b[0m in \u001b[0;36m<cell line: 0>\u001b[0;34m()\u001b[0m\n\u001b[1;32m      1\u001b[0m \u001b[0;32mtry\u001b[0m\u001b[0;34m:\u001b[0m\u001b[0;34m\u001b[0m\u001b[0;34m\u001b[0m\u001b[0m\n\u001b[0;32m----> 2\u001b[0;31m     \u001b[0mopen\u001b[0m\u001b[0;34m(\u001b[0m\u001b[0;34m\"database.sqlite\"\u001b[0m\u001b[0;34m)\u001b[0m\u001b[0;34m\u001b[0m\u001b[0;34m\u001b[0m\u001b[0m\n\u001b[0m\u001b[1;32m      3\u001b[0m \u001b[0;32mexcept\u001b[0m \u001b[0mOSError\u001b[0m\u001b[0;34m:\u001b[0m\u001b[0;34m\u001b[0m\u001b[0;34m\u001b[0m\u001b[0m\n",
            "\u001b[0;31mFileNotFoundError\u001b[0m: [Errno 2] No such file or directory: 'database.sqlite'",
            "\nDuring handling of the above exception, another exception occurred:\n",
            "\u001b[0;31mRuntimeError\u001b[0m                              Traceback (most recent call last)",
            "\u001b[0;32m/tmp/ipython-input-2449819076.py\u001b[0m in \u001b[0;36m<cell line: 0>\u001b[0;34m()\u001b[0m\n\u001b[1;32m      2\u001b[0m     \u001b[0mopen\u001b[0m\u001b[0;34m(\u001b[0m\u001b[0;34m\"database.sqlite\"\u001b[0m\u001b[0;34m)\u001b[0m\u001b[0;34m\u001b[0m\u001b[0;34m\u001b[0m\u001b[0m\n\u001b[1;32m      3\u001b[0m \u001b[0;32mexcept\u001b[0m \u001b[0mOSError\u001b[0m\u001b[0;34m:\u001b[0m\u001b[0;34m\u001b[0m\u001b[0;34m\u001b[0m\u001b[0m\n\u001b[0;32m----> 4\u001b[0;31m     \u001b[0;32mraise\u001b[0m \u001b[0mRuntimeError\u001b[0m\u001b[0;34m(\u001b[0m\u001b[0;34m\"unable to handle error\"\u001b[0m\u001b[0;34m)\u001b[0m\u001b[0;34m\u001b[0m\u001b[0;34m\u001b[0m\u001b[0m\n\u001b[0m",
            "\u001b[0;31mRuntimeError\u001b[0m: unable to handle error"
          ]
        }
      ]
    },
    {
      "cell_type": "markdown",
      "source": [
        "---\n",
        "補充: `Exception Chaining`\n",
        "\n",
        "**「例外鏈接 (Exception Chaining)」**是 Python 3 中一個非常強大且重要的錯誤處理機制。核心思想：**講清楚一個錯誤發生的「來龍去脈」。**\n",
        "\n",
        "* 是撰寫高品質、易於除錯的現代 Python 程式碼的關鍵一環。\n",
        "\n",
        "拆解三種情況，用一個「偵探辦案」的比喻來理解。\n",
        "\n",
        "想像一下：\n",
        "* **第一個例外（根本原因）**：原始的案發現場。\n",
        "* **`except` 區塊**：偵探抵達現場進行調查。\n",
        "* **第二個例外（新引發的）**：偵探根據調查結果寫出的「結案報告」。"
      ],
      "metadata": {
        "id": "HBXLNAtL7yEH"
      }
    },
    {
      "cell_type": "markdown",
      "source": [
        "1. **隱性鏈接 (Implicit Chaining) - 「調查時發生的意外」**"
      ],
      "metadata": {
        "id": "42GsI7OA8np6"
      }
    },
    {
      "cell_type": "code",
      "source": [
        "try:\n",
        "    open(\"database.sqlite\")\n",
        "except OSError:\n",
        "    # 偵探在調查 OSError 案發現場時，自己不小心引發了另一個問題\n",
        "    raise RuntimeError(\"unable to handle error\")"
      ],
      "metadata": {
        "colab": {
          "base_uri": "https://localhost:8080/",
          "height": 349
        },
        "id": "rXApa06i1Q1_",
        "outputId": "1bb8110c-9c35-4635-d277-36b767c4743e"
      },
      "execution_count": null,
      "outputs": [
        {
          "output_type": "error",
          "ename": "RuntimeError",
          "evalue": "unable to handle error",
          "traceback": [
            "\u001b[0;31m---------------------------------------------------------------------------\u001b[0m",
            "\u001b[0;31mFileNotFoundError\u001b[0m                         Traceback (most recent call last)",
            "\u001b[0;32m/tmp/ipython-input-3012441873.py\u001b[0m in \u001b[0;36m<cell line: 0>\u001b[0;34m()\u001b[0m\n\u001b[1;32m      1\u001b[0m \u001b[0;32mtry\u001b[0m\u001b[0;34m:\u001b[0m\u001b[0;34m\u001b[0m\u001b[0;34m\u001b[0m\u001b[0m\n\u001b[0;32m----> 2\u001b[0;31m     \u001b[0mopen\u001b[0m\u001b[0;34m(\u001b[0m\u001b[0;34m\"database.sqlite\"\u001b[0m\u001b[0;34m)\u001b[0m\u001b[0;34m\u001b[0m\u001b[0;34m\u001b[0m\u001b[0m\n\u001b[0m\u001b[1;32m      3\u001b[0m \u001b[0;32mexcept\u001b[0m \u001b[0mOSError\u001b[0m\u001b[0;34m:\u001b[0m\u001b[0;34m\u001b[0m\u001b[0;34m\u001b[0m\u001b[0m\n",
            "\u001b[0;31mFileNotFoundError\u001b[0m: [Errno 2] No such file or directory: 'database.sqlite'",
            "\nDuring handling of the above exception, another exception occurred:\n",
            "\u001b[0;31mRuntimeError\u001b[0m                              Traceback (most recent call last)",
            "\u001b[0;32m/tmp/ipython-input-3012441873.py\u001b[0m in \u001b[0;36m<cell line: 0>\u001b[0;34m()\u001b[0m\n\u001b[1;32m      3\u001b[0m \u001b[0;32mexcept\u001b[0m \u001b[0mOSError\u001b[0m\u001b[0;34m:\u001b[0m\u001b[0;34m\u001b[0m\u001b[0;34m\u001b[0m\u001b[0m\n\u001b[1;32m      4\u001b[0m     \u001b[0;31m# 偵探在調查 OSError 案發現場時，自己不小心引發了另一個問題\u001b[0m\u001b[0;34m\u001b[0m\u001b[0;34m\u001b[0m\u001b[0m\n\u001b[0;32m----> 5\u001b[0;31m     \u001b[0;32mraise\u001b[0m \u001b[0mRuntimeError\u001b[0m\u001b[0;34m(\u001b[0m\u001b[0;34m\"unable to handle error\"\u001b[0m\u001b[0;34m)\u001b[0m\u001b[0;34m\u001b[0m\u001b[0;34m\u001b[0m\u001b[0m\n\u001b[0m",
            "\u001b[0;31mRuntimeError\u001b[0m: unable to handle error"
          ]
        }
      ]
    },
    {
      "cell_type": "markdown",
      "source": [
        "**Traceback 訊息**： During handling of the above exception, another exception occurred\n",
        "\n",
        "\n",
        "比喻解說：\n",
        "* 偵探（`except` 區塊）來到一個「檔案找不到 (`FileNotFoundError`)」的案發現場。在調查的過程中，他不小心滑了一跤，引發了一個新的「騷動 (`RuntimeError`)」。\n",
        "\n",
        "* 最終的報告（Traceback）會如實記錄這一切：\n",
        "    * 報告首先會呈現原始的案發現場：`FileNotFoundError: ... database.sqlite`。\n",
        "    * 然後用一句話轉折：「在調查上面這個案件的過程中，又發生了另一件事...」\n",
        "    * 接著報告偵探自己引發的新問題：`RuntimeError: unable to handle error`。\n",
        "\n",
        "這種鏈接是**自動發生**的。它告訴我們，第二個錯誤是在處理第一個錯誤時「意外」發生的，兩者有時間上的關聯，但不一定是直接的因果關係。"
      ],
      "metadata": {
        "id": "c5mF3xkU80zq"
      }
    },
    {
      "cell_type": "markdown",
      "source": [
        "2. **顯性鏈接 (`raise from`) - 「清晰的因果報告」**"
      ],
      "metadata": {
        "id": "n5w4_pRD9TH2"
      }
    },
    {
      "cell_type": "code",
      "source": [
        "def func():\n",
        "    raise ConnectionError\n",
        "\n",
        "try:\n",
        "    func()\n",
        "except ConnectionError as exc:\n",
        "    # 偵探明確指出，他接下來的行動是「由」原始案件「直接導致」的\n",
        "    raise RuntimeError('Failed to open database') from exc"
      ],
      "metadata": {
        "colab": {
          "base_uri": "https://localhost:8080/",
          "height": 460
        },
        "id": "qDyUywa88w3-",
        "outputId": "6b401c60-3826-4bad-e7da-cb9d6bf07d1f"
      },
      "execution_count": null,
      "outputs": [
        {
          "output_type": "error",
          "ename": "RuntimeError",
          "evalue": "Failed to open database",
          "traceback": [
            "\u001b[0;31m---------------------------------------------------------------------------\u001b[0m",
            "\u001b[0;31mConnectionError\u001b[0m                           Traceback (most recent call last)",
            "\u001b[0;32m/tmp/ipython-input-1456715984.py\u001b[0m in \u001b[0;36m<cell line: 0>\u001b[0;34m()\u001b[0m\n\u001b[1;32m      4\u001b[0m \u001b[0;32mtry\u001b[0m\u001b[0;34m:\u001b[0m\u001b[0;34m\u001b[0m\u001b[0;34m\u001b[0m\u001b[0m\n\u001b[0;32m----> 5\u001b[0;31m     \u001b[0mfunc\u001b[0m\u001b[0;34m(\u001b[0m\u001b[0;34m)\u001b[0m\u001b[0;34m\u001b[0m\u001b[0;34m\u001b[0m\u001b[0m\n\u001b[0m\u001b[1;32m      6\u001b[0m \u001b[0;32mexcept\u001b[0m \u001b[0mConnectionError\u001b[0m \u001b[0;32mas\u001b[0m \u001b[0mexc\u001b[0m\u001b[0;34m:\u001b[0m\u001b[0;34m\u001b[0m\u001b[0;34m\u001b[0m\u001b[0m\n",
            "\u001b[0;32m/tmp/ipython-input-1456715984.py\u001b[0m in \u001b[0;36mfunc\u001b[0;34m()\u001b[0m\n\u001b[1;32m      1\u001b[0m \u001b[0;32mdef\u001b[0m \u001b[0mfunc\u001b[0m\u001b[0;34m(\u001b[0m\u001b[0;34m)\u001b[0m\u001b[0;34m:\u001b[0m\u001b[0;34m\u001b[0m\u001b[0;34m\u001b[0m\u001b[0m\n\u001b[0;32m----> 2\u001b[0;31m     \u001b[0;32mraise\u001b[0m \u001b[0mConnectionError\u001b[0m\u001b[0;34m\u001b[0m\u001b[0;34m\u001b[0m\u001b[0m\n\u001b[0m\u001b[1;32m      3\u001b[0m \u001b[0;34m\u001b[0m\u001b[0m\n",
            "\u001b[0;31mConnectionError\u001b[0m: ",
            "\nThe above exception was the direct cause of the following exception:\n",
            "\u001b[0;31mRuntimeError\u001b[0m                              Traceback (most recent call last)",
            "\u001b[0;32m/tmp/ipython-input-1456715984.py\u001b[0m in \u001b[0;36m<cell line: 0>\u001b[0;34m()\u001b[0m\n\u001b[1;32m      6\u001b[0m \u001b[0;32mexcept\u001b[0m \u001b[0mConnectionError\u001b[0m \u001b[0;32mas\u001b[0m \u001b[0mexc\u001b[0m\u001b[0;34m:\u001b[0m\u001b[0;34m\u001b[0m\u001b[0;34m\u001b[0m\u001b[0m\n\u001b[1;32m      7\u001b[0m     \u001b[0;31m# 偵探明確指出，他接下來的行動是「由」原始案件「直接導致」的\u001b[0m\u001b[0;34m\u001b[0m\u001b[0;34m\u001b[0m\u001b[0m\n\u001b[0;32m----> 8\u001b[0;31m     \u001b[0;32mraise\u001b[0m \u001b[0mRuntimeError\u001b[0m\u001b[0;34m(\u001b[0m\u001b[0;34m'Failed to open database'\u001b[0m\u001b[0;34m)\u001b[0m \u001b[0;32mfrom\u001b[0m \u001b[0mexc\u001b[0m\u001b[0;34m\u001b[0m\u001b[0;34m\u001b[0m\u001b[0m\n\u001b[0m",
            "\u001b[0;31mRuntimeError\u001b[0m: Failed to open database"
          ]
        }
      ]
    },
    {
      "cell_type": "markdown",
      "source": [
        "**Traceback 訊息**： The above exception was the direct cause of the following exception\n",
        "\n",
        "\n",
        "比喻解說：\n",
        "* 偵探來到一個「網路連線失敗 (`ConnectionError`)」的案發現場。經過調查，他得出結論，並提交了一份非常清晰的結案報告 (`RuntimeError`)。\n",
        "* 這份報告是這樣寫的：\n",
        "    * 首先呈現原始的案發現場：`ConnectionError`。\n",
        "    * 然後用一句非常強烈的因果關係詞：「上面這個案件，是導致我提交這份報告的直接原因！」\n",
        "    * 最後呈現偵探的最終結論：`RuntimeError: Failed to open database`。\n",
        "\n",
        "`raise ... from ...` 的核心用途：\n",
        "這是「例外翻譯 (Exception Translation)」或「例外包裝 (Exception Wrapping)」的最佳實踐。\n",
        "\n",
        "* 它允許你將一個低階、技術性的例外（如 `ConnectionError`, `KeyError`, `FileNotFoundError`）轉換成一個更高階、對應用程式更有意義的例外（如 `DatabaseError`, `InvalidConfigurationError`），同時完整保留了原始的案情（根本原因），讓後續的除錯變得極其方便。"
      ],
      "metadata": {
        "id": "JfmKYvdi9q-w"
      }
    },
    {
      "cell_type": "markdown",
      "source": [
        "3. **禁用鏈接 (from None) - 「隱藏原始案情」**"
      ],
      "metadata": {
        "id": "ceVxIdJj-WMg"
      }
    },
    {
      "cell_type": "code",
      "source": [
        "try:\n",
        "    open('database.sqlite')\n",
        "except OSError:\n",
        "    # 偵探決定，原始案情不重要或需要保密，結案報告中完全不要提\n",
        "    raise RuntimeError from None"
      ],
      "metadata": {
        "colab": {
          "base_uri": "https://localhost:8080/",
          "height": 176
        },
        "id": "B8r_227J9dWu",
        "outputId": "6b81bd52-e958-4221-eb5c-6d4c985c0c2e"
      },
      "execution_count": null,
      "outputs": [
        {
          "output_type": "error",
          "ename": "RuntimeError",
          "evalue": "",
          "traceback": [
            "\u001b[0;31m---------------------------------------------------------------------------\u001b[0m",
            "\u001b[0;31mRuntimeError\u001b[0m                              Traceback (most recent call last)",
            "\u001b[0;32m/tmp/ipython-input-1917615297.py\u001b[0m in \u001b[0;36m<cell line: 0>\u001b[0;34m()\u001b[0m\n\u001b[1;32m      3\u001b[0m \u001b[0;32mexcept\u001b[0m \u001b[0mOSError\u001b[0m\u001b[0;34m:\u001b[0m\u001b[0;34m\u001b[0m\u001b[0;34m\u001b[0m\u001b[0m\n\u001b[1;32m      4\u001b[0m     \u001b[0;31m# 偵探決定，原始案情不重要或需要保密，結案報告中完全不要提\u001b[0m\u001b[0;34m\u001b[0m\u001b[0;34m\u001b[0m\u001b[0m\n\u001b[0;32m----> 5\u001b[0;31m     \u001b[0;32mraise\u001b[0m \u001b[0mRuntimeError\u001b[0m \u001b[0;32mfrom\u001b[0m \u001b[0;32mNone\u001b[0m\u001b[0;34m\u001b[0m\u001b[0;34m\u001b[0m\u001b[0m\n\u001b[0m",
            "\u001b[0;31mRuntimeError\u001b[0m: "
          ]
        }
      ]
    },
    {
      "cell_type": "markdown",
      "source": [
        "**Traceback 訊息**： 只會顯示最後的 `RuntimeError`，完全看不到原始的 `OSError`。\n",
        "\n",
        "比喻解說：\n",
        "* 偵探調查了「檔案找不到」的案件後，決定最終的結案報告中**完全不必提及**原始的案情，可能是因為：\n",
        "\n",
        "    * **原始案情太瑣碎**：原始的錯誤對上層邏輯沒有幫助，只會造成干擾。例如，一個複雜的內部計算錯誤，對外只需要簡單報告「輸入無效 (`ValueError`)」即可。\n",
        "\n",
        "    * **需要隱藏細節**：原始的錯誤訊息可能包含敏感資訊（例如完整的檔案路徑、資料庫密碼等），出於安全考量，不應向上層或使用者暴露。\n",
        "\n",
        "`from None` 就像是偵探把原始的卷宗銷毀，只提交一份全新的、乾淨的報告。"
      ],
      "metadata": {
        "id": "vborJFpg-sHw"
      }
    },
    {
      "cell_type": "markdown",
      "source": [
        "總結\n",
        "```\n",
        "語法\t            含義\t                    偵探比喻\t        實務用途\n",
        "raise NewError (在 except 中)\t隱性鏈接：在處理舊錯誤時，意外引發了新錯誤。\t調查時發生的意外。\t比較少刻意使用，是 Python 的一種安全機制，防止錯誤資訊意外丟失。\n",
        "raise NewError from old_error\t顯性鏈接：新錯誤是由舊錯誤「直接導致」的。\t清晰的因果報告。\t最常用！ 用於包裝、翻譯例外，在保留根本原因的同時提供更高層次的錯誤資訊。\n",
        "raise NewError from None\t禁用鏈接：完全隱藏舊錯誤，只顯示新錯誤。\t隱藏原始案情。\t當原始錯誤是無關緊要的實現細節，或包含敏感資訊時使用。\n",
        "```"
      ],
      "metadata": {
        "id": "eS429ORZ_PZ8"
      }
    },
    {
      "cell_type": "markdown",
      "source": [
        "## 8.6 使用者自定的例外 (User-defined Exceptions)\n",
        "* 程式可以通過建立新的例外 `class` 來命名自己的例外。\n",
        "    * 不論是直接還是間接地，例外通常應該從 `Exception class` 衍生出來。\n",
        "\n",
        "* 例外 `class` 可被定義來做任何其他 `class` 能夠做的事，但通常會讓它維持簡單，只提供一些屬性，讓關於錯誤的資訊可被例外的處理者抽取出來。\n",
        "\n",
        "* 大多數的例外定義，都會以「`Error`」作為名稱結尾，類似於標準例外的命名。\n",
        "\n",
        "* 許多標準模組會定義它們自己的例外，以報告在其定義的函式中發生的錯誤。"
      ],
      "metadata": {
        "id": "jEQ6yJ8vAIZj"
      }
    },
    {
      "cell_type": "markdown",
      "source": [
        "---\n",
        "補充: 讓您的 Python 程式碼變得更專業、更清晰、更易於維護的重要技巧：**建立屬於您自己的例外類別。**\n",
        "\n",
        "**為什麼要自訂例外？醫院的「緊急代碼」**\n",
        "\n",
        "想像一下，您在一間大醫院裡。如果發生了緊急情況，廣播系統只會喊：「三樓有緊急情況！」，所有醫生和護士都衝過去，但沒人知道該帶什麼設備，因為「緊急情況」這個詞太模糊了。是心臟病發？是火災？還是有暴力事件？\n",
        "\n",
        "這就像在您的程式碼中，到處都只使用通用的例外，例如 `ValueError` 或 `Exception`。\n",
        "\n",
        "一個管理有方的醫院，會使用緊急代碼 (Emergency Codes)：\n",
        "\n",
        "**「Code Blue (藍色警報)」**：代表有病患心跳停止，需要立即進行心肺復甦。心臟科醫生會立刻帶上電擊器衝過去。\n",
        "\n",
        "**「Code Red (紅色警報)」**：代表發生火災。所有人員會立刻按照消防流程行動。\n",
        "\n",
        "**「Code White (白色警報)」**：代表有暴力或攻擊事件，保全人員會立刻前往支援。\n",
        "\n"
      ],
      "metadata": {
        "id": "1Inc-sPZBB3L"
      }
    },
    {
      "cell_type": "markdown",
      "source": [
        "**自訂例外的好處**\n",
        "\n",
        "1. **讓錯誤處理更精準 (Precise Handling)**\n",
        "\n",
        "這是最重要的優點。假設您正在寫一個銀行提款的函式，可能會有多種「值錯誤」的情況：\n",
        "\n"
      ],
      "metadata": {
        "id": "9eMUITkyBqBg"
      }
    },
    {
      "cell_type": "code",
      "source": [
        "# 不好的寫法\n",
        "#   1. 只用通用的 ValueError\n",
        "#   2. 這種靠「猜測錯誤訊息文字」的方式非常脆弱，只要有人修改了錯誤訊息，您的 except 邏輯就壞了。\n",
        "\n",
        "def withdraw(balance, amount):\n",
        "    if amount < 0:\n",
        "        raise ValueError(\"提款金額不能是負數\")\n",
        "    if balance < amount:\n",
        "        raise ValueError(\"帳戶餘額不足\")\n",
        "    return balance - amount\n",
        "\n",
        "# 嘗試處理錯誤\n",
        "try:\n",
        "    withdraw(100, 500)\n",
        "except ValueError as e:\n",
        "    # 我抓到了一個 ValueError，但到底是哪一種？\n",
        "    # 我必須靠檢查錯誤「字串」來判斷，這非常不穩定！\n",
        "    if \"餘額不足\" in str(e):\n",
        "        print(\"錯誤：您的存款不夠喔。\")\n",
        "    elif \"不能是負數\" in str(e):\n",
        "        print(\"錯誤：請輸入有效的提款金額。\")"
      ],
      "metadata": {
        "colab": {
          "base_uri": "https://localhost:8080/"
        },
        "id": "mgk8M5ok-bJF",
        "outputId": "5b0fa050-49c6-4404-ee4f-61599e3d8b7e"
      },
      "execution_count": null,
      "outputs": [
        {
          "output_type": "stream",
          "name": "stdout",
          "text": [
            "錯誤：您的存款不夠喔。\n"
          ]
        }
      ]
    },
    {
      "cell_type": "code",
      "source": [
        "# 好的寫法 (使用自訂的「緊急代碼」)：\n",
        "\n",
        "# 步驟 1: 定義我們自己的「緊急代碼」\n",
        "class BankError(Exception): # 建立一個基礎的銀行錯誤類別\n",
        "    pass\n",
        "\n",
        "class InsufficientFundsError(BankError): # 專門用於餘額不足\n",
        "    pass\n",
        "\n",
        "class InvalidAmountError(BankError): # 專門用於金額無效\n",
        "    pass\n",
        "\n",
        "# 步驟 2: 在程式中引發這些明確的錯誤\n",
        "def withdraw_v2(balance, amount):\n",
        "    if amount < 0:\n",
        "        raise InvalidAmountError(\"提款金額不能是負數\")\n",
        "    if balance < amount:\n",
        "        raise InsufficientFundsError(\"帳戶餘額不足\")\n",
        "    return balance - amount\n",
        "\n",
        "# 步驟 3: 精準地捕捉並處理！\n",
        "try:\n",
        "    withdraw_v2(100, 500)\n",
        "except InvalidAmountError as e:\n",
        "    print(f\"錯誤：提款金額無效。 {e}\")\n",
        "except InsufficientFundsError as e:\n",
        "    print(f\"錯誤：您的存款不夠喔。 {e}\")"
      ],
      "metadata": {
        "colab": {
          "base_uri": "https://localhost:8080/"
        },
        "id": "UeER2lWyCVPS",
        "outputId": "a0908a51-4199-4fae-a2d2-8362453fc031"
      },
      "execution_count": null,
      "outputs": [
        {
          "output_type": "stream",
          "name": "stdout",
          "text": [
            "錯誤：您的存款不夠喔。 帳戶餘額不足\n"
          ]
        }
      ]
    },
    {
      "cell_type": "markdown",
      "source": [
        "看到了嗎？現在我們的 `except` 區塊非常清晰，程式碼本身就在自我解釋，我們可以直接捕捉 `InsufficientFundsError`，完全不必去猜測錯誤訊息的內容。"
      ],
      "metadata": {
        "id": "yytaTzIrFu8a"
      }
    },
    {
      "cell_type": "markdown",
      "source": [
        "2. 讓例外攜帶更多有用資訊\n",
        "\n",
        "* 您的自訂例外是一個 `Class`，所以您可以為它添加任何您需要的屬性，以攜帶更多關於錯誤現場的資訊。\n",
        "* 這對於紀錄日誌 (logging) 或向使用者顯示詳細的錯誤報告非常有用。"
      ],
      "metadata": {
        "id": "u0uBSHmbF4TF"
      }
    },
    {
      "cell_type": "code",
      "source": [
        "# 進階範例：\n",
        "\n",
        "class InsufficientFundsError(BankError):\n",
        "    def __init__(self, message, balance, amount):\n",
        "        super().__init__(message) # 呼叫父類別的初始化方法\n",
        "        self.balance = balance   # 當前餘額\n",
        "        self.amount = amount     # 試圖提款的金額\n",
        "        self.shortage = amount - balance # 還差多少錢\n",
        "\n",
        "# --- 引發時，可以傳入更多資訊 ---\n",
        "def withdraw_v3(balance, amount):\n",
        "    if balance < amount:\n",
        "        raise InsufficientFundsError(\n",
        "            \"帳戶餘額不足\",\n",
        "            balance=balance,\n",
        "            amount=amount\n",
        "        )\n",
        "    return balance - amount\n",
        "\n",
        "# --- 處理時，可以取得這些資訊 ---\n",
        "try:\n",
        "    withdraw_v3(100, 500)\n",
        "except InsufficientFundsError as e:\n",
        "    print(\"--- 交易失敗報告 ---\")\n",
        "    print(f\"錯誤訊息: {e}\")\n",
        "    print(f\"當時帳戶餘額: {e.balance}\")\n",
        "    print(f\"您試圖提領: {e.amount}\")\n",
        "    print(f\"您的存款還差 {e.shortage} 元\")"
      ],
      "metadata": {
        "colab": {
          "base_uri": "https://localhost:8080/"
        },
        "id": "bzgNoZppFqlS",
        "outputId": "1e71e5ef-e819-493d-9fed-7ab2e0688da9"
      },
      "execution_count": null,
      "outputs": [
        {
          "output_type": "stream",
          "name": "stdout",
          "text": [
            "--- 交易失敗報告 ---\n",
            "錯誤訊息: 帳戶餘額不足\n",
            "當時帳戶餘額: 100\n",
            "您試圖提領: 500\n",
            "您的存款還差 400 元\n"
          ]
        }
      ]
    },
    {
      "cell_type": "markdown",
      "source": [
        "我們回頭看官方文件的每一句話，您會發現它們都很有道理：\n",
        "\n",
        "* 「程式可以通過建立新的例外 class 來命名自己的例外」\n",
        "\n",
        "    * 這就是我們做的 `class InsufficientFundsError(Exception): ...`。\n",
        "\n",
        "* 「例外通常應該從 `Exception` class 衍生出來」\n",
        "\n",
        "    * 這是 Python 的慣例。繼承自 `Exception` 可以確保您的自訂例外行為與所有內建的標準錯誤一致。\n",
        "\n",
        "* 「通常會讓它維持簡單，只提供一些屬性...」\n",
        "\n",
        "    * 最簡單的情況下，`class MyError(Exception): pass` 就夠用了。\n",
        "    * 更進階的用法就是像我們一樣，加上 `balance`, `amount` 等屬性來攜帶額外資訊。\n",
        "\n",
        "* 「大多數的例外定義，都會以『Error』作為名稱結尾」\n",
        "\n",
        "    * 這是一個命名慣例，例如 `ValueError`, `TypeError`, `InsufficientFundsError`。這讓其他開發者一看就知道這是一個例外類別。\n",
        "\n",
        "* 「許多標準模組會定義它們自己的例外...」\n",
        "\n",
        "    * 例如，知名的網路請求函式庫 `requests` 就有自己的 `requests.exceptions.ConnectionError`。這樣您就知道錯誤是來自網路層，而不是您自己的程式碼邏輯。\n",
        "\n",
        "總而言之，**自訂例外是組織化、規模化程式碼中不可或缺的一環**。它能大幅提升程式碼的可讀性和穩健性，是從「能跑就行」邁向「高品質軟體」的關鍵一步。"
      ],
      "metadata": {
        "id": "d3CWAjG3G8Vp"
      }
    },
    {
      "cell_type": "markdown",
      "source": [
        "## 8.7 定義清理動作 (Defining Clean-up Actions)\n",
        "\n",
        "`try` 陳述式有另一個選擇性子句，用於定義在所有情況下都必須被執行的清理動作。例如：\n"
      ],
      "metadata": {
        "id": "aCgvLvVdHv4-"
      }
    },
    {
      "cell_type": "code",
      "source": [
        "try:\n",
        "    raise KeyboardInterrupt\n",
        "finally:\n",
        "    print('Goodbye, world!')"
      ],
      "metadata": {
        "colab": {
          "base_uri": "https://localhost:8080/",
          "height": 211
        },
        "id": "NDCYYj50GrLN",
        "outputId": "d2cd0419-73ce-4b6a-f476-31268bea67a6"
      },
      "execution_count": null,
      "outputs": [
        {
          "output_type": "stream",
          "name": "stdout",
          "text": [
            "Goodbye, world!\n"
          ]
        },
        {
          "output_type": "error",
          "ename": "KeyboardInterrupt",
          "evalue": "",
          "traceback": [
            "\u001b[0;31m---------------------------------------------------------------------------\u001b[0m",
            "\u001b[0;31mKeyboardInterrupt\u001b[0m                         Traceback (most recent call last)",
            "\u001b[0;32m/tmp/ipython-input-163421838.py\u001b[0m in \u001b[0;36m<cell line: 0>\u001b[0;34m()\u001b[0m\n\u001b[1;32m      1\u001b[0m \u001b[0;32mtry\u001b[0m\u001b[0;34m:\u001b[0m\u001b[0;34m\u001b[0m\u001b[0;34m\u001b[0m\u001b[0m\n\u001b[0;32m----> 2\u001b[0;31m     \u001b[0;32mraise\u001b[0m \u001b[0mKeyboardInterrupt\u001b[0m\u001b[0;34m\u001b[0m\u001b[0;34m\u001b[0m\u001b[0m\n\u001b[0m\u001b[1;32m      3\u001b[0m \u001b[0;32mfinally\u001b[0m\u001b[0;34m:\u001b[0m\u001b[0;34m\u001b[0m\u001b[0;34m\u001b[0m\u001b[0m\n\u001b[1;32m      4\u001b[0m     \u001b[0mprint\u001b[0m\u001b[0;34m(\u001b[0m\u001b[0;34m'Goodbye, world!'\u001b[0m\u001b[0;34m)\u001b[0m\u001b[0;34m\u001b[0m\u001b[0;34m\u001b[0m\u001b[0m\n",
            "\u001b[0;31mKeyboardInterrupt\u001b[0m: "
          ]
        }
      ]
    },
    {
      "cell_type": "markdown",
      "source": [
        "如果 `finally` 子句存在，則 `finally` 子句會是 `try` 陳述式結束前執行的最後一項任務。\n",
        "* 不論 `try` 陳述式是否產生例外，都會執行 `finally` 子句。\n",
        "\n",
        "以下幾點將探討例外發生時，比較複雜的情況：\n",
        "1. 若一個例外發生於 `try` 子句的執行過程，則該例外會被某個 `except` 子句處理。\n",
        "    * 如果該例外沒有被 `except` 子句處理，它會在 `finally` 子句執行後被重新引發。\n",
        "\n",
        "2. 一個例外可能發生於 `except` 或 `else` 子句的執行過程。同樣地，該例外會在 `finally` 子句執行後被重新引發。\n",
        "\n",
        "3. 如果 `finally` 子句執行 `break`、`continue` 或 `return` 陳述式，則例外不會被重新引發。\n",
        "\n",
        "4. 如果 `try` 陳述式遇到 `break`、`continue` 或 `return` 陳述式，則 `finally` 子句會在執行 `break`、`continue` 或 `return` 陳述式之前先執行。\n",
        "\n",
        "5. 如果 `finally` 子句中包含 `return` 陳述式，則回傳值會是來自 `finally` 子句的 `return` 陳述式的回傳值，而不是來自 `try` 子句的 `return` 陳述式的回傳值。"
      ],
      "metadata": {
        "id": "DG1NXcgOITNm"
      }
    },
    {
      "cell_type": "code",
      "source": [
        "# Ex1:\n",
        "\n",
        "def bool_return():\n",
        "    try:\n",
        "        return True\n",
        "    finally:\n",
        "        return False\n",
        "\n",
        "bool_return()"
      ],
      "metadata": {
        "colab": {
          "base_uri": "https://localhost:8080/"
        },
        "id": "d3bWDn-eINuK",
        "outputId": "f8d14e84-e8bd-49b1-8962-1ebe862d5555"
      },
      "execution_count": null,
      "outputs": [
        {
          "output_type": "execute_result",
          "data": {
            "text/plain": [
              "False"
            ]
          },
          "metadata": {},
          "execution_count": 22
        }
      ]
    },
    {
      "cell_type": "code",
      "source": [
        "# Ex2:\n",
        "def divide(x, y):\n",
        "    try:\n",
        "        result = x / y\n",
        "    except ZeroDivisionError:\n",
        "        print(\"division by zero!\")\n",
        "    else:\n",
        "        print(f\"result is {result}\")\n",
        "    finally:\n",
        "        print(\"executing finally clause\")"
      ],
      "metadata": {
        "id": "vT2R4srSLF1o"
      },
      "execution_count": null,
      "outputs": []
    },
    {
      "cell_type": "code",
      "source": [
        "divide(2, 1)"
      ],
      "metadata": {
        "id": "B4CK1I54LeoY",
        "colab": {
          "base_uri": "https://localhost:8080/"
        },
        "outputId": "161f903f-5648-45ed-83fa-e9fabbec3461"
      },
      "execution_count": null,
      "outputs": [
        {
          "output_type": "stream",
          "name": "stdout",
          "text": [
            "result is 2.0\n",
            "executing finally clause\n"
          ]
        }
      ]
    },
    {
      "cell_type": "code",
      "source": [
        "divide(2, 0)"
      ],
      "metadata": {
        "colab": {
          "base_uri": "https://localhost:8080/"
        },
        "id": "87e9diUbAkUc",
        "outputId": "edea2157-29bf-4706-e564-b38929dc3b5c"
      },
      "execution_count": null,
      "outputs": [
        {
          "output_type": "stream",
          "name": "stdout",
          "text": [
            "division by zero!\n",
            "executing finally clause\n"
          ]
        }
      ]
    },
    {
      "cell_type": "code",
      "source": [
        "divide(\"2\", \"1\")"
      ],
      "metadata": {
        "colab": {
          "base_uri": "https://localhost:8080/",
          "height": 280
        },
        "id": "NRN_VRnPAoRD",
        "outputId": "9657a911-8137-4a5e-823b-acf6e4c845f8"
      },
      "execution_count": null,
      "outputs": [
        {
          "output_type": "stream",
          "name": "stdout",
          "text": [
            "executing finally clause\n"
          ]
        },
        {
          "output_type": "error",
          "ename": "TypeError",
          "evalue": "unsupported operand type(s) for /: 'str' and 'str'",
          "traceback": [
            "\u001b[0;31m---------------------------------------------------------------------------\u001b[0m",
            "\u001b[0;31mTypeError\u001b[0m                                 Traceback (most recent call last)",
            "\u001b[0;32m/tmp/ipython-input-1759864827.py\u001b[0m in \u001b[0;36m<cell line: 0>\u001b[0;34m()\u001b[0m\n\u001b[0;32m----> 1\u001b[0;31m \u001b[0mdivide\u001b[0m\u001b[0;34m(\u001b[0m\u001b[0;34m\"2\"\u001b[0m\u001b[0;34m,\u001b[0m \u001b[0;34m\"1\"\u001b[0m\u001b[0;34m)\u001b[0m\u001b[0;34m\u001b[0m\u001b[0;34m\u001b[0m\u001b[0m\n\u001b[0m",
            "\u001b[0;32m/tmp/ipython-input-3276745498.py\u001b[0m in \u001b[0;36mdivide\u001b[0;34m(x, y)\u001b[0m\n\u001b[1;32m      2\u001b[0m \u001b[0;32mdef\u001b[0m \u001b[0mdivide\u001b[0m\u001b[0;34m(\u001b[0m\u001b[0mx\u001b[0m\u001b[0;34m,\u001b[0m \u001b[0my\u001b[0m\u001b[0;34m)\u001b[0m\u001b[0;34m:\u001b[0m\u001b[0;34m\u001b[0m\u001b[0;34m\u001b[0m\u001b[0m\n\u001b[1;32m      3\u001b[0m     \u001b[0;32mtry\u001b[0m\u001b[0;34m:\u001b[0m\u001b[0;34m\u001b[0m\u001b[0;34m\u001b[0m\u001b[0m\n\u001b[0;32m----> 4\u001b[0;31m         \u001b[0mresult\u001b[0m \u001b[0;34m=\u001b[0m \u001b[0mx\u001b[0m \u001b[0;34m/\u001b[0m \u001b[0my\u001b[0m\u001b[0;34m\u001b[0m\u001b[0;34m\u001b[0m\u001b[0m\n\u001b[0m\u001b[1;32m      5\u001b[0m     \u001b[0;32mexcept\u001b[0m \u001b[0mZeroDivisionError\u001b[0m\u001b[0;34m:\u001b[0m\u001b[0;34m\u001b[0m\u001b[0;34m\u001b[0m\u001b[0m\n\u001b[1;32m      6\u001b[0m         \u001b[0mprint\u001b[0m\u001b[0;34m(\u001b[0m\u001b[0;34m\"division by zero!\"\u001b[0m\u001b[0;34m)\u001b[0m\u001b[0;34m\u001b[0m\u001b[0;34m\u001b[0m\u001b[0m\n",
            "\u001b[0;31mTypeError\u001b[0m: unsupported operand type(s) for /: 'str' and 'str'"
          ]
        }
      ]
    },
    {
      "cell_type": "markdown",
      "source": [
        "* 如你所見，`finally` 子句在任何情況下都會被執行。\n",
        "* 兩個字串相除所引發的 `TypeError` 沒有被 `except` 子句處理，因此**會在 `finally` 子句執行後被重新引發(re-raise)**。\n",
        "\n",
        "在真實應用程式中，`finally` 子句對於釋放外部資源（例如檔案或網路連線）很有用，無論該資源的使用是否成功。"
      ],
      "metadata": {
        "id": "X_Glz83yA4n5"
      }
    },
    {
      "cell_type": "markdown",
      "source": [
        "---\n",
        "補充: 針對 1.~5. 補充學習"
      ],
      "metadata": {
        "id": "SlrdEtylKrDp"
      }
    },
    {
      "cell_type": "markdown",
      "source": [
        "(1) **`try` 中未被處理的例外，會在 `finally` 執行後被重新引發(re-raise)**\n",
        "\n",
        "情境： 我們的 `try` 區塊發生了 `ValueError`，但我們只有準備處理 `TypeError` 的 `except` 區塊。這意味著這個 `ValueError` 對於此 `try...except` 結構來說是「未處理的」。"
      ],
      "metadata": {
        "id": "Oxlc6iufBsAA"
      }
    },
    {
      "cell_type": "code",
      "source": [
        "def unhandled_exception_in_try():\n",
        "    print(\"--- 範例 1: 進入函式 ---\")\n",
        "    try:\n",
        "        print(\"  [TRY]   : 準備引發一個 ValueError...\")\n",
        "        # 這裡發生了例外，但下面沒有對應的 except ValueError\n",
        "        raise ValueError(\"資料格式不正確！\")\n",
        "    except TypeError:\n",
        "        # 這個區塊不會被執行，因為例外類型不符\n",
        "        print(\"  [EXCEPT]: 正在處理 TypeError...\")\n",
        "    finally:\n",
        "        # 即使沒有 except 區塊能處理 ValueError，finally 仍然會執行！\n",
        "        print(\"  [FINALLY]: 正在執行清理工作 (例如：關閉檔案)。\")\n",
        "\n",
        "    # 因為例外未被處理，函式會在此中斷，這行不會執行到\n",
        "    print(\"--- 函式正常結束 ---\")\n",
        "\n",
        "\n",
        "print(\"準備呼叫函式...\")\n",
        "try:\n",
        "    unhandled_exception_in_try()\n",
        "except ValueError as e:\n",
        "    # 函式內部的 finally 執行完後，例外被重新拋出，最終在這裡被捕捉到\n",
        "    print(f\"在函式外部捕捉到被重新引發的例外: {e}\")\n",
        "print(\"程式結束。\")"
      ],
      "metadata": {
        "id": "XwR0gMhWKwMo",
        "colab": {
          "base_uri": "https://localhost:8080/"
        },
        "outputId": "b9481668-ccb8-4154-b017-0bdc9f681242"
      },
      "execution_count": 1,
      "outputs": [
        {
          "output_type": "stream",
          "name": "stdout",
          "text": [
            "準備呼叫函式...\n",
            "--- 範例 1: 進入函式 ---\n",
            "  [TRY]   : 準備引發一個 ValueError...\n",
            "  [FINALLY]: 正在執行清理工作 (例如：關閉檔案)。\n",
            "在函式外部捕捉到被重新引發的例外: 資料格式不正確！\n",
            "程式結束。\n"
          ]
        }
      ]
    },
    {
      "cell_type": "markdown",
      "source": [
        "執行順序與說明：\n",
        "\n",
        "1. 進入 `try` 區塊，`ValueError` 被引發。\n",
        "\n",
        "2. Python 尋找 `except` 區塊，發現 `except TypeError` 不匹配，所以跳過。\n",
        "\n",
        "3. 在將 `ValueError` 向上拋出導致程式崩潰之前，Python 執行了 `finally` 區塊，印出「正在執行清理工作」。\n",
        "\n",
        "4. `finally` 執行完畢後，`ValueError` 被重新引發，就像它從未被內部處理過一樣，最終被外層的 `try...except` 捕捉到。"
      ],
      "metadata": {
        "id": "_xV7ECF9CQSB"
      }
    },
    {
      "cell_type": "markdown",
      "source": [
        "(2) **`except` 或 `else` 中發生例外，也會在 `finally` 執行後被重新引發(re-raise)**\n",
        "\n",
        "情境： 這次 `try` 區塊的 `ValueError` 被成功捕捉了，但在 `except` 區塊內，我們不小心寫了有問題的程式碼，引發了新的 `ZeroDivisionError`。"
      ],
      "metadata": {
        "id": "m3VfuWZ8E02M"
      }
    },
    {
      "cell_type": "code",
      "source": [
        "def exception_in_except():\n",
        "    print(\"\\n--- 範例 2: 進入函式 ---\")\n",
        "    try:\n",
        "        print(\"  [TRY]   : 準備引發一個 ValueError...\")\n",
        "        raise ValueError(\"原始錯誤\")\n",
        "    except ValueError:\n",
        "        print(\"  [EXCEPT]: 成功捕捉 ValueError。但在處理時發生了新錯誤...\")\n",
        "        # 在 except 區塊內引發了新的例外\n",
        "        result = 1 / 0\n",
        "    finally:\n",
        "        # 即使 except 區塊自己也出錯了，finally 依然會被執行！\n",
        "        print(\"  [FINALLY]: 即使天下大亂，我還是會執行清理工作。\")\n",
        "\n",
        "print(\"準備呼叫函式...\")\n",
        "try:\n",
        "    exception_in_except()\n",
        "except ZeroDivisionError as e:\n",
        "    # except 區塊中的新例外，在 finally 執行後被重新引發，並在這裡被捕捉\n",
        "    print(f\"在函式外部捕捉到來自 except 區塊的新例外: {e}\")\n",
        "print(\"程式結束。\")"
      ],
      "metadata": {
        "colab": {
          "base_uri": "https://localhost:8080/"
        },
        "id": "kxRZKtM2CMbE",
        "outputId": "b2424502-e1f0-4bc8-dbb7-0c0a6a87c1f6"
      },
      "execution_count": 2,
      "outputs": [
        {
          "output_type": "stream",
          "name": "stdout",
          "text": [
            "準備呼叫函式...\n",
            "\n",
            "--- 範例 2: 進入函式 ---\n",
            "  [TRY]   : 準備引發一個 ValueError...\n",
            "  [EXCEPT]: 成功捕捉 ValueError。但在處理時發生了新錯誤...\n",
            "  [FINALLY]: 即使天下大亂，我還是會執行清理工作。\n",
            "在函式外部捕捉到來自 except 區塊的新例外: division by zero\n",
            "程式結束。\n"
          ]
        }
      ]
    },
    {
      "cell_type": "markdown",
      "source": [
        "執行順序與說明：\n",
        "\n",
        "1. `try` 區塊引發 `ValueError`。\n",
        "\n",
        "2. `except ValueError` 成功捕捉到它並開始執行。\n",
        "\n",
        "3. 在 `except` 區塊內，`1 / 0` 引發了一個新的 `ZeroDivisionError`。\n",
        "\n",
        "4. 在將這個新的 `ZeroDivisionError` 向上拋出之前，Python 堅守承諾，執行了 `finally` 區塊。\n",
        "\n",
        "5. `finally` 執行完畢後，這個 `ZeroDivisionError` 被重新引發，並被外層捕捉。"
      ],
      "metadata": {
        "id": "FHZBP-VqFOeH"
      }
    },
    {
      "cell_type": "markdown",
      "source": [
        "(3) **`finally` 中的 `break`, `continue`, `return` 會讓例外「被消失」**\n",
        "\n",
        "情境： `try` 區塊發生了例外，但 `finally` 區塊有一個 `return` 陳述式。`finally` 的 `return` 會「終結」一切，包括那個正準備被拋出的例外。\n",
        "\n",
        "⚠️ **注意： 這種寫法通常是不良實踐，因為它會讓錯誤被無聲無息地隱藏起來，導致除錯變得極為困難。**"
      ],
      "metadata": {
        "id": "Oox4X5zVFlm_"
      }
    },
    {
      "cell_type": "code",
      "source": [
        "def finally_cancels_exception():\n",
        "    print(\"\\n--- 範例 3: 進入函式 ---\")\n",
        "    try:\n",
        "        print(\"  [TRY]   : 準備引發一個例外...\")\n",
        "        raise IndexError(\"一個即將被忽略的錯誤\")\n",
        "    finally:\n",
        "        print(\"  [FINALLY]: 我要強行 return，管它有沒有例外！\")\n",
        "        # 這個 return 會讓函式立刻結束，那個 IndexError 就被「吞掉」了\n",
        "        return \"來自 finally 的強制回傳值\"\n",
        "\n",
        "print(\"準備呼叫函式...\")\n",
        "result = finally_cancels_exception()\n",
        "print(f\"函式回傳了: '{result}'。那個 IndexError 從未被拋出，彷彿沒發生過。\")\n",
        "print(\"程式結束。\")"
      ],
      "metadata": {
        "id": "eEIpPkdBFIM-",
        "colab": {
          "base_uri": "https://localhost:8080/"
        },
        "outputId": "69534585-1dc4-4837-b602-af452bee42ea"
      },
      "execution_count": 3,
      "outputs": [
        {
          "output_type": "stream",
          "name": "stdout",
          "text": [
            "準備呼叫函式...\n",
            "\n",
            "--- 範例 3: 進入函式 ---\n",
            "  [TRY]   : 準備引發一個例外...\n",
            "  [FINALLY]: 我要強行 return，管它有沒有例外！\n",
            "函式回傳了: '來自 finally 的強制回傳值'。那個 IndexError 從未被拋出，彷彿沒發生過。\n",
            "程式結束。\n"
          ]
        }
      ]
    },
    {
      "cell_type": "markdown",
      "source": [
        "執行順序與說明：\n",
        "\n",
        "1. `try` 區塊引發 `IndexError`。\n",
        "\n",
        "2. Python 準備將例外向上拋出，但它必須先執行 `finally`。\n",
        "\n",
        "3. `finally` 區塊執行了 `return \"...\"`。`return` 陳述式會立即終止函式的執行並提供一個回傳值。\n",
        "\n",
        "4. 因為函式已經被 `return` 終止了，那個原本正「懸而未決」的 `IndexError` 就被拋棄了，永遠沒有機會被重新引發。"
      ],
      "metadata": {
        "id": "HyQho3kUm9IG"
      }
    },
    {
      "cell_type": "markdown",
      "source": [
        "(4) **`finally` 會在 `try` 的 `break`, `continue`, `return` 前執行**\n",
        "\n",
        "情境： `try` 區塊執行到一半，決定要 `return` 一個值。在函式真正帶著這個值離開之前，`finally` 會「插隊」先進來執行。"
      ],
      "metadata": {
        "id": "hY1BjpMPnPQn"
      }
    },
    {
      "cell_type": "code",
      "source": [
        "def finally_runs_before_try_return():\n",
        "    print(\"\\n--- 範例 4: 進入函式 ---\")\n",
        "    try:\n",
        "        print(\"  [TRY]   : 準備從 try 區塊 return...\")\n",
        "        return \"來自 TRY 的回傳值\"\n",
        "    finally:\n",
        "        # 這個區塊會在 return \"來自 TRY...\" 這句話真正生效前被執行\n",
        "        print(\"  [FINALLY]: 等一下！在我完成清理之前，你還不能 return！\")\n",
        "\n",
        "print(\"準備呼叫函式...\")\n",
        "return_value = finally_runs_before_try_return()\n",
        "print(f\"最終收到的回傳值是: '{return_value}'\")\n",
        "print(\"程式結束。\")"
      ],
      "metadata": {
        "colab": {
          "base_uri": "https://localhost:8080/"
        },
        "id": "ub4o3ooWm3rT",
        "outputId": "b411d1f9-bc53-47f6-c61a-0a4d629cf729"
      },
      "execution_count": 4,
      "outputs": [
        {
          "output_type": "stream",
          "name": "stdout",
          "text": [
            "準備呼叫函式...\n",
            "\n",
            "--- 範例 4: 進入函式 ---\n",
            "  [TRY]   : 準備從 try 區塊 return...\n",
            "  [FINALLY]: 等一下！在我完成清理之前，你還不能 return！\n",
            "最終收到的回傳值是: '來自 TRY 的回傳值'\n",
            "程式結束。\n"
          ]
        }
      ]
    },
    {
      "cell_type": "markdown",
      "source": [
        "執行順序與說明：\n",
        "\n",
        "1. `try` 區塊執行到 `return \"來自 TRY 的回傳值\"`。\n",
        "\n",
        "2. Python「暫停」了這個 `return` 動作，記住了要回傳的值是 `\"來自 TRY 的回傳值\"`。\n",
        "\n",
        "3. 接著，Python 執行 `finally` 區塊，印出「等一下！...」。\n",
        "\n",
        "4. `finally` 區塊執行完畢後，Python 回復之前被暫停的 `return` 動作，函式正式回傳 `\"來自 TRY 的回傳值\"`。"
      ],
      "metadata": {
        "id": "mrIyCc24oJ7B"
      }
    },
    {
      "cell_type": "markdown",
      "source": [
        "(5) `finally` 中的 `return` 會覆蓋 `try` 中的 `return`\n",
        "\n",
        "情境： 這是上一點的延伸。如果 `try` 和 `finally` 都有 `return`，那麼誰是老大？答案是：`finally` 是老大。\n",
        "\n",
        "⚠️ 注意： 這同樣是**極力不建議**的寫法，因為它違反了正常的邏輯，讓程式碼的行為變得非常難以預測。"
      ],
      "metadata": {
        "id": "hPWyKNvXpERg"
      }
    },
    {
      "cell_type": "code",
      "source": [
        "def finally_overwrites_try_return():\n",
        "    print(\"\\n--- 範例 5: 進入函式 ---\")\n",
        "    try:\n",
        "        print(\"  [TRY]   : 準備 return 'A'...\")\n",
        "        return \"A\" # Python 記住了：喔，等一下要回傳 'A'\n",
        "    finally:\n",
        "        print(\"  [FINALLY]: 我才是老大！我們要 return 'B'！\")\n",
        "        return \"B\" # finally 的 return 會覆蓋掉 try 的 return\n",
        "\n",
        "print(\"準備呼叫函式...\")\n",
        "final_value = finally_overwrites_try_return()\n",
        "print(f\"函式最終的回傳值是: '{final_value}'\") # 結果會是 'B'\n",
        "print(\"程式結束。\")"
      ],
      "metadata": {
        "colab": {
          "base_uri": "https://localhost:8080/"
        },
        "id": "OWVjTABdoFl7",
        "outputId": "82bd902d-8ffe-4b3d-c61f-838eccccfe08"
      },
      "execution_count": 5,
      "outputs": [
        {
          "output_type": "stream",
          "name": "stdout",
          "text": [
            "準備呼叫函式...\n",
            "\n",
            "--- 範例 5: 進入函式 ---\n",
            "  [TRY]   : 準備 return 'A'...\n",
            "  [FINALLY]: 我才是老大！我們要 return 'B'！\n",
            "函式最終的回傳值是: 'B'\n",
            "程式結束。\n"
          ]
        }
      ]
    },
    {
      "cell_type": "markdown",
      "source": [
        "執行順序與說明：\n",
        "\n",
        "1. `try` 區塊執行 `return \"A\"`。Python 暫存了這個回傳值。\n",
        "\n",
        "2. `finally` 區塊開始執行。\n",
        "\n",
        "3. `finally` 區塊自己也執行了 `return \"B\"`。\n",
        "\n",
        "4. 因為 `finally` 的 `return` 會立即終止函式，所以它會直接帶著 `\"B\"` 這個值離開，之前暫存的 `\"A\"` 就被永遠地拋棄了。\n",
        "\n",
        "---"
      ],
      "metadata": {
        "id": "sg4SExBFrKrd"
      }
    },
    {
      "cell_type": "markdown",
      "source": [
        "## 8.8 預定義的清理動作 (Predefined Clean-up Actions)\n",
        "\n",
        "某些物件定義了在物件不再被需要時的標準清理動作，無論使用該物件的作業是成功或失敗。\n",
        "\n",
        "請看以下範例，它嘗試開啟一個檔案，並印出檔案內容至螢幕。\n",
        "```python\n",
        "for line in open(\"myfile.txt\"):\n",
        "    print(line, end=\"\")\n",
        "```\n",
        "\n",
        "這段程式碼的問題在於，\n",
        "* 執行完該程式碼後，它讓檔案在一段不確定的時間內處於開啟狀態。\n",
        "* 在簡單腳本中這不是問題，但對於較大的應用程式來說可能會是個問題。\n",
        "* `with` 陳述式讓物件（例如檔案）在被使用時，能保證它們總是及時、正確地被清理。\n",
        "\n",
        "```python\n",
        "with open(\"myfile.txt\") as f:\n",
        "    for line in f:\n",
        "        print(line, end=\"\")\n",
        "```\n",
        "陳述式執行完畢後，**就算是在處理內容時遇到問題**，檔案 `f` 總是會被關閉。"
      ],
      "metadata": {
        "id": "4rmAze6ysE0C"
      }
    },
    {
      "cell_type": "code",
      "source": [],
      "metadata": {
        "id": "6Xq43i9rq_aI"
      },
      "execution_count": null,
      "outputs": []
    }
  ]
}