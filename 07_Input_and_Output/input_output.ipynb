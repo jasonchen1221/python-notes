{
  "nbformat": 4,
  "nbformat_minor": 0,
  "metadata": {
    "colab": {
      "provenance": [],
      "toc_visible": true,
      "authorship_tag": "ABX9TyMDzkZlbkKzfnNIXRO83wDc"
    },
    "kernelspec": {
      "name": "python3",
      "display_name": "Python 3"
    },
    "language_info": {
      "name": "python"
    }
  },
  "cells": [
    {
      "cell_type": "markdown",
      "source": [
        "#7. Input and Output"
      ],
      "metadata": {
        "id": "PqMYepT1RZ5b"
      }
    },
    {
      "cell_type": "markdown",
      "source": [
        "##7.1. Fancier Output Formatting\n",
        "\n",
        "通常你會想要對輸出格式有更多地控制，而不是僅列印出以空格隔開的值。\n",
        "\n",
        "以下是幾種格式化輸出的方式。"
      ],
      "metadata": {
        "id": "A6-PCTmgRhD9"
      }
    },
    {
      "cell_type": "code",
      "execution_count": 1,
      "metadata": {
        "id": "hfjCkrSgRTDB",
        "colab": {
          "base_uri": "https://localhost:8080/",
          "height": 35
        },
        "outputId": "f2491aa9-0454-4014-f20b-f09d5e330051"
      },
      "outputs": [
        {
          "output_type": "execute_result",
          "data": {
            "text/plain": [
              "'Results of the 2016 Referendum'"
            ],
            "application/vnd.google.colaboratory.intrinsic+json": {
              "type": "string"
            }
          },
          "metadata": {},
          "execution_count": 1
        }
      ],
      "source": [
        "# 要使用格式化字串文本 (formatted string literals)，需在字串開始前的引號或連續三個引號前加上 f 或 F。\n",
        "# 你可以在這個字串中使用 { 與 } 包夾 Python 的運算式，引用變數或其他字面值 (literal values)。\n",
        "year = 2016\n",
        "event = 'Referendum'\n",
        "f'Results of the {year} {event}'"
      ]
    },
    {
      "cell_type": "code",
      "source": [
        "# 字串的 str.format() method 需要更多手動操作。\n",
        "# 你還是可以用 { 和 } 標示欲替代變數的位置，且可給予詳細的格式指令，但你也需提供要被格式化的資訊。\n",
        "yes_votes = 42_572_654\n",
        "no_votes = 43_132_495\n",
        "percentage = yes_votes / (yes_votes + no_votes)\n",
        "'{:-9} YES votes  {:2.2%}'.format(yes_votes, percentage)"
      ],
      "metadata": {
        "colab": {
          "base_uri": "https://localhost:8080/",
          "height": 35
        },
        "id": "vmjiGdFi05Xh",
        "outputId": "7ced83c6-4d68-4dff-bb75-746ef27438e5"
      },
      "execution_count": 2,
      "outputs": [
        {
          "output_type": "execute_result",
          "data": {
            "text/plain": [
              "' 42572654 YES votes  49.67%'"
            ],
            "application/vnd.google.colaboratory.intrinsic+json": {
              "type": "string"
            }
          },
          "metadata": {},
          "execution_count": 2
        }
      ]
    },
    {
      "cell_type": "code",
      "source": [
        "# 如果你不需要華麗的輸出，只想快速顯示變數以進行除錯，可以用 repr() 或 str() 函式把任何的值轉換為字串。\n",
        "# str() 函式的用意是回傳一個人類易讀的表示法，\n",
        "# 而 repr() 的用意是產生直譯器可讀取的表示法（如果沒有等效的語法，則造成 SyntaxError）。\n",
        "# 如果物件沒有人類易讀的特定表示法，str() 會回傳與 repr() 相同的值。\n",
        "# 有許多的值，像是數字，或 list 及 dictionary 等結構，使用這兩個函式會有相同的表示法。\n",
        "# 而字串，則較為特別，有兩種不同的表示法。\n",
        "\n",
        "# string 模組包含一個 Template class（類別），提供了將值替代為字串的另一種方法。\n",
        "# 該方法使用 $x 佔位符號，並以 dictionary 的值進行取代，但對格式的控制明顯較少。"
      ],
      "metadata": {
        "id": "lJOCqDip2xzT"
      },
      "execution_count": 3,
      "outputs": []
    },
    {
      "cell_type": "code",
      "source": [
        "s = 'Hello, world.'\n",
        "str(s)"
      ],
      "metadata": {
        "id": "MVuQzIx04cjT",
        "colab": {
          "base_uri": "https://localhost:8080/",
          "height": 35
        },
        "outputId": "f519b29a-31f2-4911-f997-431808550078"
      },
      "execution_count": 4,
      "outputs": [
        {
          "output_type": "execute_result",
          "data": {
            "text/plain": [
              "'Hello, world.'"
            ],
            "application/vnd.google.colaboratory.intrinsic+json": {
              "type": "string"
            }
          },
          "metadata": {},
          "execution_count": 4
        }
      ]
    },
    {
      "cell_type": "code",
      "source": [
        "repr(s)"
      ],
      "metadata": {
        "colab": {
          "base_uri": "https://localhost:8080/",
          "height": 35
        },
        "id": "LqnytP4jUWeA",
        "outputId": "dcab257c-e3f7-4bc1-de98-38098af90696"
      },
      "execution_count": 5,
      "outputs": [
        {
          "output_type": "execute_result",
          "data": {
            "text/plain": [
              "\"'Hello, world.'\""
            ],
            "application/vnd.google.colaboratory.intrinsic+json": {
              "type": "string"
            }
          },
          "metadata": {},
          "execution_count": 5
        }
      ]
    },
    {
      "cell_type": "code",
      "source": [
        "str(1/7)"
      ],
      "metadata": {
        "colab": {
          "base_uri": "https://localhost:8080/",
          "height": 35
        },
        "id": "EeSjrYwiUczt",
        "outputId": "32831a06-c6ff-4cd4-902c-6a3ca9756241"
      },
      "execution_count": 6,
      "outputs": [
        {
          "output_type": "execute_result",
          "data": {
            "text/plain": [
              "'0.14285714285714285'"
            ],
            "application/vnd.google.colaboratory.intrinsic+json": {
              "type": "string"
            }
          },
          "metadata": {},
          "execution_count": 6
        }
      ]
    },
    {
      "cell_type": "code",
      "source": [
        "repr(1/7)"
      ],
      "metadata": {
        "colab": {
          "base_uri": "https://localhost:8080/",
          "height": 35
        },
        "id": "e6PJ2Z-5U72Z",
        "outputId": "35efa324-f07b-48c9-cfe1-fd8f63d487e5"
      },
      "execution_count": 7,
      "outputs": [
        {
          "output_type": "execute_result",
          "data": {
            "text/plain": [
              "'0.14285714285714285'"
            ],
            "application/vnd.google.colaboratory.intrinsic+json": {
              "type": "string"
            }
          },
          "metadata": {},
          "execution_count": 7
        }
      ]
    },
    {
      "cell_type": "code",
      "source": [
        "x = 10 * 3.25\n",
        "y = 200 * 200\n",
        "s = 'The value of x is ' + repr(x) + ', and y is ' + repr(y) + '...'\n",
        "print(s)\n",
        "s2 = 'The value of x is ' + str(x) + ', and y is ' + str(y) + '...'\n",
        "print(s2)"
      ],
      "metadata": {
        "colab": {
          "base_uri": "https://localhost:8080/"
        },
        "id": "T5jwk5UfUfeB",
        "outputId": "a2ff40ba-9535-4c37-e394-fd3452bf29db"
      },
      "execution_count": 8,
      "outputs": [
        {
          "output_type": "stream",
          "name": "stdout",
          "text": [
            "The value of x is 32.5, and y is 40000...\n",
            "The value of x is 32.5, and y is 40000...\n"
          ]
        }
      ]
    },
    {
      "cell_type": "code",
      "source": [
        "# The repr() of a string adds string quotes and backslashes:\n",
        "hello = 'hello, world\\n'\n",
        "hello_1 = repr(hello)\n",
        "hello_2 = str(hello)\n",
        "\n",
        "print(hello)\n",
        "print(hello_1)\n",
        "print(hello_2)"
      ],
      "metadata": {
        "colab": {
          "base_uri": "https://localhost:8080/"
        },
        "id": "qn2maSh7Uv3I",
        "outputId": "a543848a-8031-44d1-e6cd-75af2f76dd6c"
      },
      "execution_count": 9,
      "outputs": [
        {
          "output_type": "stream",
          "name": "stdout",
          "text": [
            "hello, world\n",
            "\n",
            "'hello, world\\n'\n",
            "hello, world\n",
            "\n"
          ]
        }
      ]
    },
    {
      "cell_type": "code",
      "source": [
        "# The argument to repr() may be any Python object:\n",
        "repr((x, y, ('spam', 'eggs')))"
      ],
      "metadata": {
        "colab": {
          "base_uri": "https://localhost:8080/",
          "height": 35
        },
        "id": "D9ePGJDxVSyE",
        "outputId": "e6808ca1-c48d-4820-b3bf-431c672be2bf"
      },
      "execution_count": 10,
      "outputs": [
        {
          "output_type": "execute_result",
          "data": {
            "text/plain": [
              "\"(32.5, 40000, ('spam', 'eggs'))\""
            ],
            "application/vnd.google.colaboratory.intrinsic+json": {
              "type": "string"
            }
          },
          "metadata": {},
          "execution_count": 10
        }
      ]
    },
    {
      "cell_type": "markdown",
      "source": [
        "###7.1.1. 格式化的字串文本 (Formatted String Literals)"
      ],
      "metadata": {
        "id": "2e29OiwaV8nc"
      }
    },
    {
      "cell_type": "markdown",
      "source": [
        "格式化的字串文本（簡稱為 f-字串），透過在字串加入前綴 `f` 或 `F`，並將運算式編寫為 `{expression}`，讓你可以在字串內加入 Python 運算式的值。"
      ],
      "metadata": {
        "id": "aUMf-iZHWYhT"
      }
    },
    {
      "cell_type": "code",
      "source": [
        "# 格式說明符 (format specifier) 是選擇性的，寫在運算式後面，可以更好地控制值的格式化方式。\n",
        "# 以下範例將 pi 捨入到小數點後三位：\n",
        "import math\n",
        "print(f'The value of pi is approximately {math.pi:.3f}.')"
      ],
      "metadata": {
        "colab": {
          "base_uri": "https://localhost:8080/"
        },
        "id": "jPYYUgb8VhcV",
        "outputId": "bef8d07a-d53d-4572-81df-0c3e3a6631a6"
      },
      "execution_count": 11,
      "outputs": [
        {
          "output_type": "stream",
          "name": "stdout",
          "text": [
            "The value of pi is approximately 3.142.\n"
          ]
        }
      ]
    },
    {
      "cell_type": "code",
      "source": [
        "# 在 ':' 後傳遞一個整數，可以設定該欄位至少為幾個字元寬，常用於將每一欄對齊。\n",
        "table = {'Sjoerd': 4127, 'Jack': 4098, 'Dcab': 7678}\n",
        "for name, phone in table.items():\n",
        "    print(f'{name:10} ==> {phone:10d}')"
      ],
      "metadata": {
        "id": "_D_tOWf8XQrG",
        "colab": {
          "base_uri": "https://localhost:8080/"
        },
        "outputId": "9948e9a5-9114-42b8-a494-60d5f0466dd3"
      },
      "execution_count": 14,
      "outputs": [
        {
          "output_type": "stream",
          "name": "stdout",
          "text": [
            "Sjoerd     ==>       4127\n",
            "Jack       ==>       4098\n",
            "Dcab       ==>       7678\n"
          ]
        }
      ]
    },
    {
      "cell_type": "code",
      "source": [
        "# 還有一些修飾符號可以在格式化前先將值轉換過。\n",
        "# '!a' 會套用 ascii()，'!s' 會套用 str()，'!r' 會套用 repr()：\n",
        "animals = 'eels'\n",
        "print(f'My hovercraft is full of {animals}.')\n",
        "print(f'My hovercraft is full of {animals!r}.')"
      ],
      "metadata": {
        "colab": {
          "base_uri": "https://localhost:8080/"
        },
        "id": "uOsfp6ogHwQZ",
        "outputId": "0f410141-a847-4921-de8c-e0ed39a2c7bb"
      },
      "execution_count": 15,
      "outputs": [
        {
          "output_type": "stream",
          "name": "stdout",
          "text": [
            "My hovercraft is full of eels.\n",
            "My hovercraft is full of 'eels'.\n"
          ]
        }
      ]
    },
    {
      "cell_type": "code",
      "source": [
        "# = 說明符可用於將一個運算式擴充為該運算式的文字、一個等號、以及對該運算式求值 (evaluate) 後的表示法：\n",
        "bugs = 'roaches'\n",
        "count = 13\n",
        "area = 'living room'\n",
        "\n",
        "print(f'Debugging {bugs} {count} {area}')\n",
        "print(f'Debugging {bugs=} {count=} {area=}')"
      ],
      "metadata": {
        "colab": {
          "base_uri": "https://localhost:8080/"
        },
        "id": "-XW_QjD6IJ9H",
        "outputId": "20bf9be9-a7bd-409e-946f-c7e344647a0a"
      },
      "execution_count": 16,
      "outputs": [
        {
          "output_type": "stream",
          "name": "stdout",
          "text": [
            "Debugging roaches 13 living room\n",
            "Debugging bugs='roaches' count=13 area='living room'\n"
          ]
        }
      ]
    },
    {
      "cell_type": "markdown",
      "source": [
        "###7.1.2. 字串的 format() method"
      ],
      "metadata": {
        "id": "WmJ1l3uWJRxl"
      }
    },
    {
      "cell_type": "code",
      "source": [
        "# str.format() method 的基本用法如下：\n",
        "print('We are the {} who say \"{}!\"'.format('knights', 'Ni'))"
      ],
      "metadata": {
        "colab": {
          "base_uri": "https://localhost:8080/"
        },
        "id": "daS__9mbJIRP",
        "outputId": "f08f38f8-4450-4399-a583-b9b30205cb23"
      },
      "execution_count": 17,
      "outputs": [
        {
          "output_type": "stream",
          "name": "stdout",
          "text": [
            "We are the knights who say \"Ni!\"\n"
          ]
        }
      ]
    },
    {
      "cell_type": "code",
      "source": [
        "# 大括號及其內的字元（稱為格式欄位）會被取代為傳遞給 str.format() method 的物件。\n",
        "# 大括號中的數字表示該物件在傳遞給 str.format() method 時所在的位置。\n",
        "print('{0} and {1}'.format('spam', 'eggs'))\n",
        "print('{1} and {0}'.format('spam', 'eggs'))"
      ],
      "metadata": {
        "colab": {
          "base_uri": "https://localhost:8080/"
        },
        "id": "GNGFkjSIJ0fg",
        "outputId": "29f6ef79-b9ab-46b8-99ee-d51d706b4777"
      },
      "execution_count": 18,
      "outputs": [
        {
          "output_type": "stream",
          "name": "stdout",
          "text": [
            "spam and eggs\n",
            "eggs and spam\n"
          ]
        }
      ]
    },
    {
      "cell_type": "code",
      "source": [
        "# 如果在 str.format() method 中使用關鍵字引數，可以使用引數名稱去引用它們的值。\n",
        "print('This {food} is {adjective}.'.format(\n",
        "      food='spam', adjective='absolutely horrible'))"
      ],
      "metadata": {
        "colab": {
          "base_uri": "https://localhost:8080/"
        },
        "id": "EFSuY2pQKCQL",
        "outputId": "93119b9d-0365-4f30-8315-5f360a59768f"
      },
      "execution_count": 20,
      "outputs": [
        {
          "output_type": "stream",
          "name": "stdout",
          "text": [
            "This spam is absolutely horrible.\n"
          ]
        }
      ]
    },
    {
      "cell_type": "code",
      "source": [
        "# 位置引數和關鍵字引數可以任意組合：\n",
        "print('The story of {0}, {1}, and {other}.'.format('Bill', 'Manfred',\n",
        "                                                   other='Georg'))"
      ],
      "metadata": {
        "colab": {
          "base_uri": "https://localhost:8080/"
        },
        "id": "SPqDRMqbKaQh",
        "outputId": "50b67157-2d99-4a39-9d55-465a16f2abce"
      },
      "execution_count": 21,
      "outputs": [
        {
          "output_type": "stream",
          "name": "stdout",
          "text": [
            "The story of Bill, Manfred, and Georg.\n"
          ]
        }
      ]
    },
    {
      "cell_type": "code",
      "source": [
        "# 如果你有一個不想分割的長格式化字串，比較好的方式是按名稱而不是按位置來引用變數。\n",
        "# 這項操作可以透過傳遞字典 (dict)，並用方括號 '[]' 使用鍵 (key) 來輕鬆完成。\n",
        "table = {'Sjoerd': 4127, 'Jack': 4098, 'Dcab': 8637678}\n",
        "print('Jack: {0[Jack]:d}; Sjoerd: {0[Sjoerd]:d}; '\n",
        "      'Dcab: {0[Dcab]:d}'.format(table))"
      ],
      "metadata": {
        "colab": {
          "base_uri": "https://localhost:8080/"
        },
        "id": "fCF69h6-Kv8F",
        "outputId": "e607f5fe-06a9-4c32-a968-9a868bab3b66"
      },
      "execution_count": 22,
      "outputs": [
        {
          "output_type": "stream",
          "name": "stdout",
          "text": [
            "Jack: 4098; Sjoerd: 4127; Dcab: 8637678\n"
          ]
        }
      ]
    },
    {
      "cell_type": "code",
      "source": [
        "# 用 '**' 符號，把 table 字典當作關鍵字引數來傳遞，也有一樣的結果。\n",
        "table = {'Sjoerd': 4127, 'Jack': 4098, 'Dcab': 8637678}\n",
        "print('Jack: {Jack:d}; Sjoerd: {Sjoerd:d}; Dcab: {Dcab:d}'.format(**table))"
      ],
      "metadata": {
        "colab": {
          "base_uri": "https://localhost:8080/"
        },
        "id": "R1lTgRO9XtzF",
        "outputId": "78694f2e-3be7-4e88-bfb7-50ca9af3872d"
      },
      "execution_count": 23,
      "outputs": [
        {
          "output_type": "stream",
          "name": "stdout",
          "text": [
            "Jack: 4098; Sjoerd: 4127; Dcab: 8637678\n"
          ]
        }
      ]
    },
    {
      "cell_type": "code",
      "source": [
        "# 下面的程式碼產生一組排列整齊的欄，列出整數及其平方與立方：\n",
        "for x in range(1, 11):\n",
        "    print('{0:2d} {1:3d} {2:4d}'.format(x, x*x, x*x*x))"
      ],
      "metadata": {
        "colab": {
          "base_uri": "https://localhost:8080/"
        },
        "id": "GIiJ-8L7X6FD",
        "outputId": "66e53d17-7434-47b4-b8f2-b78fc1ed79f4"
      },
      "execution_count": 24,
      "outputs": [
        {
          "output_type": "stream",
          "name": "stdout",
          "text": [
            " 1   1    1\n",
            " 2   4    8\n",
            " 3   9   27\n",
            " 4  16   64\n",
            " 5  25  125\n",
            " 6  36  216\n",
            " 7  49  343\n",
            " 8  64  512\n",
            " 9  81  729\n",
            "10 100 1000\n"
          ]
        }
      ]
    },
    {
      "cell_type": "markdown",
      "source": [
        "##7.2 讀寫檔案\n",
        "`open()` 回傳一個 `file object`，而它最常使用的兩個位置引數和一個關鍵字引數是：`open(filename, mode, encoding=None)`\n",
        "\n",
        "```python\n",
        "f = open('workfile', 'w', encoding=\"utf-8\")\n",
        "```\n",
        "\n",
        "第一個引數是一個包含檔案名稱的字串。第二個引數是另一個字串，包含了描述檔案使用方式的幾個字元。\n",
        "* *mode* 為 `'r'` 時，表示以唯讀模式開啟檔案；\n",
        "* 為 `'w'` 時，表示以唯寫模式開啟檔案（已存在的同名檔案會被抹除）；\n",
        "* 為 `'a'` 時，以附加內容為目的開啟檔案，任何寫入檔案的資料會自動被加入到檔案的結尾。\n",
        "* `'r+'` 可以開啟檔案並進行讀取和寫入。\n",
        "* *mode* 引數是選擇性的，若省略時會預設為 `'r'`。\n",
        "\n",
        "\n",
        "通常，檔案以 *text mode* 開啟，意即，從檔案中讀取或寫入字串時，都以特定編碼方式 *encoding* 進行編碼。如未指定 *encoding*，則預設值會取決於系統平台。因為 UTF-8 是現時的標準，除非你很清楚該用什麼編碼，否則推薦使用 `encoding=\"utf-8\"`。在 mode 後面加上 `'b'` 會以 *binary mode*（二進制模式）開啟檔案，二進制模式資料以 bytes 物件的形式被讀寫。以二進制模式開啟檔案時不可以指定 encoding。\n",
        "\n",
        "\n",
        "在文字模式 (*text mode*) 下，讀取時會預設把平台特定的行尾符號（Unix 上為 \\n，Windows 上為 \\r\\n）轉換為 \\n。在文字模式下寫入時，預設會把 \\n 出現之處轉換回平台特定的行尾符號。這種在幕後對檔案資料的修改方式對文字檔案來說沒有問題，但會毀壞像是 JPEG 或 EXE 檔案中的二進制資料。在讀寫此類檔案時，注意一定要使用二進制模式。"
      ],
      "metadata": {
        "id": "7ppLjkIKYnBF"
      }
    },
    {
      "cell_type": "markdown",
      "source": [
        "在處理檔案物件時，使用 `with` 關鍵字是個好習慣。\n",
        "* 優點是，當它的套件結束後，即使在某個時刻引發了例外，檔案仍會正確地被關閉。\n",
        "* 使用 `with` 也比寫等效的 `try-finally` 區塊，來得簡短許多：\n",
        "```python\n",
        "with open('workfile', encoding=\"utf-8\") as f:\n",
        "    read_data = f.read()\n",
        "```\n",
        "* 如果你沒有使用 `with` 關鍵字，則應呼叫 `f.close()` 關閉檔案，可以立即釋放被它所使用的系統資源。\n",
        "* 警告 呼叫 `f.write()` 時，若未使用 `with` 關鍵字或呼叫 `f.close()`，即使程式成功退出，也可能導致 `f.write()` 的引數沒有被完全寫入硬碟。\n",
        "\n",
        "不論是透過 `with` 陳述式，或呼叫 `f.close()` 關閉一個檔案物件之後，嘗試使用該檔案物件將會自動失效。\n",
        "```python\n",
        "f.close()\n",
        "f.read()\n",
        "Traceback (most recent call last):\n",
        "  File \"<stdin>\", line 1, in <module>\n",
        "ValueError: I/O operation on closed file.\n",
        "```"
      ],
      "metadata": {
        "id": "tKsY9Rp-cvV7"
      }
    },
    {
      "cell_type": "markdown",
      "source": [
        "###7.2.1. 檔案物件的 method\n",
        "..."
      ],
      "metadata": {
        "id": "ODdbA9CugLGJ"
      }
    },
    {
      "cell_type": "code",
      "source": [],
      "metadata": {
        "id": "VslPlJbnYU-r"
      },
      "execution_count": null,
      "outputs": []
    }
  ]
}