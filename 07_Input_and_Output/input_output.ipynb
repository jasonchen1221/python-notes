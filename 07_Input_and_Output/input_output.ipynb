{
  "nbformat": 4,
  "nbformat_minor": 0,
  "metadata": {
    "colab": {
      "provenance": [],
      "toc_visible": true,
      "authorship_tag": "ABX9TyNDNEkHToiUM+fD666OJbYl"
    },
    "kernelspec": {
      "name": "python3",
      "display_name": "Python 3"
    },
    "language_info": {
      "name": "python"
    }
  },
  "cells": [
    {
      "cell_type": "markdown",
      "source": [
        "#7. Input and Output"
      ],
      "metadata": {
        "id": "PqMYepT1RZ5b"
      }
    },
    {
      "cell_type": "markdown",
      "source": [
        "##7.1. Fancier Output Formatting\n",
        "\n",
        "通常你會想要對輸出格式有更多地控制，而不是僅列印出以空格隔開的值。\n",
        "\n",
        "以下是幾種格式化輸出的方式。"
      ],
      "metadata": {
        "id": "A6-PCTmgRhD9"
      }
    },
    {
      "cell_type": "code",
      "execution_count": 1,
      "metadata": {
        "id": "hfjCkrSgRTDB",
        "colab": {
          "base_uri": "https://localhost:8080/",
          "height": 35
        },
        "outputId": "7fcb798e-957d-49a3-9266-e1f92423ec68"
      },
      "outputs": [
        {
          "output_type": "execute_result",
          "data": {
            "text/plain": [
              "'Results of the 2016 Referendum'"
            ],
            "application/vnd.google.colaboratory.intrinsic+json": {
              "type": "string"
            }
          },
          "metadata": {},
          "execution_count": 1
        }
      ],
      "source": [
        "# 要使用格式化字串文本 (formatted string literals)，需在字串開始前的引號或連續三個引號前加上 f 或 F。\n",
        "# 你可以在這個字串中使用 { 與 } 包夾 Python 的運算式，引用變數或其他字面值 (literal values)。\n",
        "year = 2016\n",
        "event = 'Referendum'\n",
        "f'Results of the {year} {event}'"
      ]
    },
    {
      "cell_type": "code",
      "source": [
        "# 字串的 str.format() method 需要更多手動操作。\n",
        "# 你還是可以用 { 和 } 標示欲替代變數的位置，且可給予詳細的格式指令，但你也需提供要被格式化的資訊。\n",
        "yes_votes = 42_572_654\n",
        "no_votes = 43_132_495\n",
        "percentage = yes_votes / (yes_votes + no_votes)\n",
        "'{:-9} YES votes  {:2.2%}'.format(yes_votes, percentage)"
      ],
      "metadata": {
        "colab": {
          "base_uri": "https://localhost:8080/",
          "height": 35
        },
        "id": "vmjiGdFi05Xh",
        "outputId": "8abb85d0-3089-4965-e50d-247be0c28954"
      },
      "execution_count": 2,
      "outputs": [
        {
          "output_type": "execute_result",
          "data": {
            "text/plain": [
              "' 42572654 YES votes  49.67%'"
            ],
            "application/vnd.google.colaboratory.intrinsic+json": {
              "type": "string"
            }
          },
          "metadata": {},
          "execution_count": 2
        }
      ]
    },
    {
      "cell_type": "code",
      "source": [
        "# 如果你不需要華麗的輸出，只想快速顯示變數以進行除錯，可以用 repr() 或 str() 函式把任何的值轉換為字串。\n",
        "# str() 函式的用意是回傳一個 \"人類易讀\" 的表示法，\n",
        "# 而 repr() 的用意是產生 \"直譯器可讀取\" 的表示法（如果沒有等效的語法，則造成 SyntaxError）。\n",
        "# 如果物件沒有人類易讀的特定表示法，str() 會回傳與 repr() 相同的值。\n",
        "# 有許多的值，像是數字，或 list 及 dictionary 等結構，使用這兩個函式會有相同的表示法。\n",
        "# 而字串，則較為特別，有兩種不同的表示法。\n",
        "\n",
        "# string 模組包含一個 Template class（類別），提供了將值替代為字串的另一種方法。\n",
        "# 該方法使用 $x 佔位符號，並以 dictionary 的值進行取代，但對格式的控制明顯較少。"
      ],
      "metadata": {
        "id": "lJOCqDip2xzT"
      },
      "execution_count": 3,
      "outputs": []
    },
    {
      "cell_type": "code",
      "source": [
        "s = 'Hello, world.'\n",
        "str(s)"
      ],
      "metadata": {
        "id": "MVuQzIx04cjT",
        "colab": {
          "base_uri": "https://localhost:8080/",
          "height": 35
        },
        "outputId": "3cb8911e-9925-40db-deda-c1503f18fd87"
      },
      "execution_count": 4,
      "outputs": [
        {
          "output_type": "execute_result",
          "data": {
            "text/plain": [
              "'Hello, world.'"
            ],
            "application/vnd.google.colaboratory.intrinsic+json": {
              "type": "string"
            }
          },
          "metadata": {},
          "execution_count": 4
        }
      ]
    },
    {
      "cell_type": "code",
      "source": [
        "repr(s)"
      ],
      "metadata": {
        "colab": {
          "base_uri": "https://localhost:8080/",
          "height": 35
        },
        "id": "LqnytP4jUWeA",
        "outputId": "00caff37-473d-44e1-b107-c380c4629f5a"
      },
      "execution_count": 5,
      "outputs": [
        {
          "output_type": "execute_result",
          "data": {
            "text/plain": [
              "\"'Hello, world.'\""
            ],
            "application/vnd.google.colaboratory.intrinsic+json": {
              "type": "string"
            }
          },
          "metadata": {},
          "execution_count": 5
        }
      ]
    },
    {
      "cell_type": "code",
      "source": [
        "str(1/7)"
      ],
      "metadata": {
        "colab": {
          "base_uri": "https://localhost:8080/",
          "height": 35
        },
        "id": "EeSjrYwiUczt",
        "outputId": "5d9ba0f1-ac43-41ca-89d9-86636cac026d"
      },
      "execution_count": 6,
      "outputs": [
        {
          "output_type": "execute_result",
          "data": {
            "text/plain": [
              "'0.14285714285714285'"
            ],
            "application/vnd.google.colaboratory.intrinsic+json": {
              "type": "string"
            }
          },
          "metadata": {},
          "execution_count": 6
        }
      ]
    },
    {
      "cell_type": "code",
      "source": [
        "repr(1/7)"
      ],
      "metadata": {
        "colab": {
          "base_uri": "https://localhost:8080/",
          "height": 35
        },
        "id": "e6PJ2Z-5U72Z",
        "outputId": "6e30296e-bff7-47f9-bd8e-973d08f17af1"
      },
      "execution_count": 7,
      "outputs": [
        {
          "output_type": "execute_result",
          "data": {
            "text/plain": [
              "'0.14285714285714285'"
            ],
            "application/vnd.google.colaboratory.intrinsic+json": {
              "type": "string"
            }
          },
          "metadata": {},
          "execution_count": 7
        }
      ]
    },
    {
      "cell_type": "code",
      "source": [
        "x = 10 * 3.25\n",
        "y = 200 * 200\n",
        "s = 'The value of x is ' + repr(x) + ', and y is ' + repr(y) + '...'\n",
        "print(s)\n",
        "s2 = 'The value of x is ' + str(x) + ', and y is ' + str(y) + '...'\n",
        "print(s2)"
      ],
      "metadata": {
        "colab": {
          "base_uri": "https://localhost:8080/"
        },
        "id": "T5jwk5UfUfeB",
        "outputId": "b97072f8-2830-4bca-8eb8-4ff52470003b"
      },
      "execution_count": 8,
      "outputs": [
        {
          "output_type": "stream",
          "name": "stdout",
          "text": [
            "The value of x is 32.5, and y is 40000...\n",
            "The value of x is 32.5, and y is 40000...\n"
          ]
        }
      ]
    },
    {
      "cell_type": "code",
      "source": [
        "# The repr() of a string adds string quotes and backslashes:\n",
        "hello = 'hello, world\\n'\n",
        "hello_1 = repr(hello)\n",
        "hello_2 = str(hello)\n",
        "\n",
        "print(hello)\n",
        "print(hello_1)\n",
        "print(hello_2)"
      ],
      "metadata": {
        "colab": {
          "base_uri": "https://localhost:8080/"
        },
        "id": "qn2maSh7Uv3I",
        "outputId": "114f30b0-2ea1-4727-ca22-9fbefb295686"
      },
      "execution_count": 9,
      "outputs": [
        {
          "output_type": "stream",
          "name": "stdout",
          "text": [
            "hello, world\n",
            "\n",
            "'hello, world\\n'\n",
            "hello, world\n",
            "\n"
          ]
        }
      ]
    },
    {
      "cell_type": "code",
      "source": [
        "# The argument to repr() may be any Python object:\n",
        "repr((x, y, ('spam', 'eggs')))"
      ],
      "metadata": {
        "colab": {
          "base_uri": "https://localhost:8080/",
          "height": 35
        },
        "id": "D9ePGJDxVSyE",
        "outputId": "17342dfe-5640-4e56-cb82-820a6b8e9515"
      },
      "execution_count": 10,
      "outputs": [
        {
          "output_type": "execute_result",
          "data": {
            "text/plain": [
              "\"(32.5, 40000, ('spam', 'eggs'))\""
            ],
            "application/vnd.google.colaboratory.intrinsic+json": {
              "type": "string"
            }
          },
          "metadata": {},
          "execution_count": 10
        }
      ]
    },
    {
      "cell_type": "markdown",
      "source": [
        "###7.1.1. 格式化的字串文本 (Formatted String Literals)"
      ],
      "metadata": {
        "id": "2e29OiwaV8nc"
      }
    },
    {
      "cell_type": "markdown",
      "source": [
        "格式化的字串文本（簡稱為 f-字串），透過在字串加入前綴 `f` 或 `F`，並將運算式編寫為 `{expression}`，讓你可以在字串內加入 Python 運算式的值。"
      ],
      "metadata": {
        "id": "aUMf-iZHWYhT"
      }
    },
    {
      "cell_type": "code",
      "source": [
        "# 格式說明符 (format specifier) 是選擇性的，寫在運算式後面，可以更好地控制值的格式化方式。\n",
        "# 以下範例將 pi 捨入到小數點後三位：\n",
        "import math\n",
        "print(f'The value of pi is approximately {math.pi:.3f}.')"
      ],
      "metadata": {
        "colab": {
          "base_uri": "https://localhost:8080/"
        },
        "id": "jPYYUgb8VhcV",
        "outputId": "0893aac4-4049-4243-caad-be28179f4c4c"
      },
      "execution_count": 11,
      "outputs": [
        {
          "output_type": "stream",
          "name": "stdout",
          "text": [
            "The value of pi is approximately 3.142.\n"
          ]
        }
      ]
    },
    {
      "cell_type": "code",
      "source": [
        "# 在 ':' 後傳遞一個整數，可以設定該欄位至少為幾個字元寬，常用於將每一欄對齊。\n",
        "table = {'Sjoerd': 4127, 'Jack': 4098, 'Dcab': 7678}\n",
        "for name, phone in table.items():\n",
        "    print(f'{name:10} ==> {phone:10d}')"
      ],
      "metadata": {
        "id": "_D_tOWf8XQrG",
        "colab": {
          "base_uri": "https://localhost:8080/"
        },
        "outputId": "e0c3c32e-a698-49ed-ddce-ad0f1b148939"
      },
      "execution_count": 12,
      "outputs": [
        {
          "output_type": "stream",
          "name": "stdout",
          "text": [
            "Sjoerd     ==>       4127\n",
            "Jack       ==>       4098\n",
            "Dcab       ==>       7678\n"
          ]
        }
      ]
    },
    {
      "cell_type": "code",
      "source": [
        "# 還有一些修飾符號可以在格式化前先將值轉換過。\n",
        "# '!a' 會套用 ascii()，'!s' 會套用 str()，'!r' 會套用 repr()：\n",
        "animals = 'eels'\n",
        "print(f'My hovercraft is full of {animals}.')\n",
        "print(f'My hovercraft is full of {animals!r}.')"
      ],
      "metadata": {
        "colab": {
          "base_uri": "https://localhost:8080/"
        },
        "id": "uOsfp6ogHwQZ",
        "outputId": "3461a56e-ce40-4622-a617-798a91ec5f76"
      },
      "execution_count": 13,
      "outputs": [
        {
          "output_type": "stream",
          "name": "stdout",
          "text": [
            "My hovercraft is full of eels.\n",
            "My hovercraft is full of 'eels'.\n"
          ]
        }
      ]
    },
    {
      "cell_type": "code",
      "source": [
        "# = 說明符可用於將一個運算式擴充為該運算式的文字、一個等號、以及對該運算式求值 (evaluate) 後的表示法：\n",
        "bugs = 'roaches'\n",
        "count = 13\n",
        "area = 'living room'\n",
        "\n",
        "print(f'Debugging {bugs} {count} {area}')\n",
        "print(f'Debugging {bugs=} {count=} {area=}')"
      ],
      "metadata": {
        "colab": {
          "base_uri": "https://localhost:8080/"
        },
        "id": "-XW_QjD6IJ9H",
        "outputId": "80d24a97-d1ad-4dfa-d3c6-6f090aa6dce6"
      },
      "execution_count": 14,
      "outputs": [
        {
          "output_type": "stream",
          "name": "stdout",
          "text": [
            "Debugging roaches 13 living room\n",
            "Debugging bugs='roaches' count=13 area='living room'\n"
          ]
        }
      ]
    },
    {
      "cell_type": "markdown",
      "source": [
        "###7.1.2. 字串的 format() method"
      ],
      "metadata": {
        "id": "WmJ1l3uWJRxl"
      }
    },
    {
      "cell_type": "code",
      "source": [
        "# str.format() method 的基本用法如下：\n",
        "print('We are the {} who say \"{}!\"'.format('knights', 'Ni'))"
      ],
      "metadata": {
        "colab": {
          "base_uri": "https://localhost:8080/"
        },
        "id": "daS__9mbJIRP",
        "outputId": "6409d4f8-cb08-4862-df68-a0e4e8c4b19d"
      },
      "execution_count": 15,
      "outputs": [
        {
          "output_type": "stream",
          "name": "stdout",
          "text": [
            "We are the knights who say \"Ni!\"\n"
          ]
        }
      ]
    },
    {
      "cell_type": "code",
      "source": [
        "# 大括號及其內的字元（稱為格式欄位）會被取代為傳遞給 str.format() method 的物件。\n",
        "# 大括號中的數字表示該物件在傳遞給 str.format() method 時所在的位置。\n",
        "print('{0} and {1}'.format('spam', 'eggs'))\n",
        "print('{1} and {0}'.format('spam', 'eggs'))"
      ],
      "metadata": {
        "colab": {
          "base_uri": "https://localhost:8080/"
        },
        "id": "GNGFkjSIJ0fg",
        "outputId": "eb2222ba-dd9a-4f44-f7a8-05d1b55f5375"
      },
      "execution_count": 16,
      "outputs": [
        {
          "output_type": "stream",
          "name": "stdout",
          "text": [
            "spam and eggs\n",
            "eggs and spam\n"
          ]
        }
      ]
    },
    {
      "cell_type": "code",
      "source": [
        "# 如果在 str.format() method 中使用關鍵字引數，可以使用引數名稱去引用它們的值。\n",
        "print('This {food} is {adjective}.'.format(\n",
        "      food='spam', adjective='absolutely horrible'))"
      ],
      "metadata": {
        "colab": {
          "base_uri": "https://localhost:8080/"
        },
        "id": "EFSuY2pQKCQL",
        "outputId": "560f97a9-8e95-4949-e55d-f7beadeea2e2"
      },
      "execution_count": 17,
      "outputs": [
        {
          "output_type": "stream",
          "name": "stdout",
          "text": [
            "This spam is absolutely horrible.\n"
          ]
        }
      ]
    },
    {
      "cell_type": "code",
      "source": [
        "# 位置引數和關鍵字引數可以任意組合：\n",
        "print('The story of {0}, {1}, and {other}.'.format('Bill', 'Manfred',\n",
        "                                                   other='Georg'))"
      ],
      "metadata": {
        "colab": {
          "base_uri": "https://localhost:8080/"
        },
        "id": "SPqDRMqbKaQh",
        "outputId": "adb24f22-b2c7-4c76-d60d-2d379064f343"
      },
      "execution_count": 18,
      "outputs": [
        {
          "output_type": "stream",
          "name": "stdout",
          "text": [
            "The story of Bill, Manfred, and Georg.\n"
          ]
        }
      ]
    },
    {
      "cell_type": "code",
      "source": [
        "# 如果你有一個不想分割的長格式化字串，比較好的方式是按名稱而不是按位置來引用變數。\n",
        "# 這項操作可以透過傳遞字典 (dict)，並用方括號 '[]' 使用鍵 (key) 來輕鬆完成。\n",
        "table = {'Sjoerd': 4127, 'Jack': 4098, 'Dcab': 8637678}\n",
        "print('Jack: {0[Jack]:d}; Sjoerd: {0[Sjoerd]:d}; '\n",
        "      'Dcab: {0[Dcab]:d}'.format(table))"
      ],
      "metadata": {
        "colab": {
          "base_uri": "https://localhost:8080/"
        },
        "id": "fCF69h6-Kv8F",
        "outputId": "14e50f5e-fe4e-4534-c10e-2d2ec57b1e21"
      },
      "execution_count": 19,
      "outputs": [
        {
          "output_type": "stream",
          "name": "stdout",
          "text": [
            "Jack: 4098; Sjoerd: 4127; Dcab: 8637678\n"
          ]
        }
      ]
    },
    {
      "cell_type": "code",
      "source": [
        "# 用 '**' 符號，把 table 字典當作關鍵字引數來傳遞，也有一樣的結果。\n",
        "table = {'Sjoerd': 4127, 'Jack': 4098, 'Dcab': 8637678}\n",
        "print('Jack: {Jack:d}; Sjoerd: {Sjoerd:d}; Dcab: {Dcab:d}'.format(**table))"
      ],
      "metadata": {
        "colab": {
          "base_uri": "https://localhost:8080/"
        },
        "id": "R1lTgRO9XtzF",
        "outputId": "2e1634f6-464a-4f4d-c68d-6144b0b7fe9c"
      },
      "execution_count": 20,
      "outputs": [
        {
          "output_type": "stream",
          "name": "stdout",
          "text": [
            "Jack: 4098; Sjoerd: 4127; Dcab: 8637678\n"
          ]
        }
      ]
    },
    {
      "cell_type": "code",
      "source": [
        "# 下面的程式碼產生一組排列整齊的欄，列出整數及其平方與立方：\n",
        "for x in range(1, 11):\n",
        "    print('{0:2d} {1:3d} {2:4d}'.format(x, x*x, x*x*x))"
      ],
      "metadata": {
        "colab": {
          "base_uri": "https://localhost:8080/"
        },
        "id": "GIiJ-8L7X6FD",
        "outputId": "8d545901-b3c7-49fe-d279-c7587ed6af20"
      },
      "execution_count": 21,
      "outputs": [
        {
          "output_type": "stream",
          "name": "stdout",
          "text": [
            " 1   1    1\n",
            " 2   4    8\n",
            " 3   9   27\n",
            " 4  16   64\n",
            " 5  25  125\n",
            " 6  36  216\n",
            " 7  49  343\n",
            " 8  64  512\n",
            " 9  81  729\n",
            "10 100 1000\n"
          ]
        }
      ]
    },
    {
      "cell_type": "markdown",
      "source": [
        "##7.2 讀寫檔案\n",
        "`open()` 回傳一個 `file object`，而它最常使用的兩個位置引數和一個關鍵字引數是：`open(filename, mode, encoding=None)`\n",
        "\n",
        "```python\n",
        "f = open('workfile', 'w', encoding=\"utf-8\")\n",
        "```\n",
        "\n",
        "第一個引數是一個包含檔案名稱的字串。第二個引數是另一個字串，包含了描述檔案使用方式的幾個字元。\n",
        "* *mode* 為 `'r'` 時，表示以唯讀模式開啟檔案；\n",
        "* 為 `'w'` 時，表示以唯寫模式開啟檔案（已存在的同名檔案會被抹除）；\n",
        "* 為 `'a'` 時，以附加內容為目的開啟檔案，任何寫入檔案的資料會自動被加入到檔案的結尾。\n",
        "* `'r+'` 可以開啟檔案並進行讀取和寫入。\n",
        "* *mode* 引數是選擇性的，若省略時會預設為 `'r'`。\n",
        "\n",
        "\n",
        "通常，檔案以 *text mode* 開啟，意即，從檔案中讀取或寫入字串時，都以特定編碼方式 *encoding* 進行編碼。如未指定 *encoding*，則預設值會取決於系統平台。因為 UTF-8 是現時的標準，除非你很清楚該用什麼編碼，否則推薦使用 `encoding=\"utf-8\"`。在 mode 後面加上 `'b'` 會以 *binary mode*（二進制模式）開啟檔案，二進制模式資料以 bytes 物件的形式被讀寫。以二進制模式開啟檔案時不可以指定 encoding。\n",
        "\n",
        "\n",
        "在文字模式 (*text mode*) 下，讀取時會預設把平台特定的行尾符號（Unix 上為 \\n，Windows 上為 \\r\\n）轉換為 \\n。在文字模式下寫入時，預設會把 \\n 出現之處轉換回平台特定的行尾符號。這種在幕後對檔案資料的修改方式對文字檔案來說沒有問題，但會毀壞像是 JPEG 或 EXE 檔案中的二進制資料。在讀寫此類檔案時，注意一定要使用二進制模式。"
      ],
      "metadata": {
        "id": "7ppLjkIKYnBF"
      }
    },
    {
      "cell_type": "markdown",
      "source": [
        "在處理檔案物件時，使用 `with` 關鍵字是個好習慣。\n",
        "* 優點是，當它的套件結束後，即使在某個時刻引發了例外，檔案仍會正確地被關閉。\n",
        "* 使用 `with` 也比寫等效的 `try-finally` 區塊，來得簡短許多：\n",
        "```python\n",
        "with open('workfile', encoding=\"utf-8\") as f:\n",
        "    read_data = f.read()\n",
        "```\n",
        "* 如果你沒有使用 `with` 關鍵字，則應呼叫 `f.close()` 關閉檔案，可以立即釋放被它所使用的系統資源。\n",
        "* 警告 呼叫 `f.write()` 時，若未使用 `with` 關鍵字或呼叫 `f.close()`，即使程式成功退出，也可能導致 `f.write()` 的引數沒有被完全寫入硬碟。\n",
        "\n",
        "不論是透過 `with` 陳述式，或呼叫 `f.close()` 關閉一個檔案物件之後，嘗試使用該檔案物件將會自動失效。\n",
        "```python\n",
        "f.close()\n",
        "f.read()\n",
        "Traceback (most recent call last):\n",
        "  File \"<stdin>\", line 1, in <module>\n",
        "ValueError: I/O operation on closed file.\n",
        "```"
      ],
      "metadata": {
        "id": "tKsY9Rp-cvV7"
      }
    },
    {
      "cell_type": "markdown",
      "source": [
        "###7.2.1. 檔案物件的 method\n",
        "本節其餘的範例皆假設一個名為 f 的檔案物件已被建立。\n",
        "\n",
        "要讀取檔案的內容，可呼叫 `f.read(size)`，\n",
        "* 它可讀取一部份的資料，並以字串（文字模式）或位元組串物件（二進制模式）形式回傳。\n",
        "* `size` 是個選擇性的數字引數。當 `size` 被省略或為負數時，檔案的全部內容會被讀取並回傳；\n",
        "* 如果檔案是機器記憶體容量的兩倍大時，這會是你的問題。否則，最多只有等同於 `size` 數量的字元（文字模式）或 `size` 數量的位元組串（二進制模式）會被讀取及回傳。如果之前已經到達檔案的末端，`f.read()` 會回傳空字串（`''`）。\n",
        "\n",
        "```python\n",
        ">>> f.read()\n",
        "'This is the entire file.\\n'\n",
        ">>> f.read()\n",
        "''\n",
        "```"
      ],
      "metadata": {
        "id": "ODdbA9CugLGJ"
      }
    },
    {
      "cell_type": "markdown",
      "source": [
        "`f.readline()` 從檔案中讀取單獨一行；\n",
        "* 換行字元（`\\n`）會被留在字串的結尾，只有當檔案末端不是換行字元時，它才會在檔案的最後一行被省略。\n",
        "* 這種方式讓回傳值清晰明確；只要 `f.readline()` 回傳一個空字串，就表示已經到達了檔案末端，而空白行的表示法是 `'\\n'`，也就是只含一個換行字元的字串。\n",
        "\n",
        "```python\n",
        ">>> f.readline()\n",
        "'This is the first line of the file.\\n'\n",
        ">>> f.readline()\n",
        "'Second line of the file\\n'\n",
        ">>> f.readline()\n",
        "''\n",
        "```"
      ],
      "metadata": {
        "id": "Iyc-_DLlcj_N"
      }
    },
    {
      "cell_type": "markdown",
      "source": [
        "想從檔案中讀取多行時，可以對檔案物件進行迴圈。這種方法能有效地使用記憶體、快速，且程式碼簡潔：\n",
        "\n",
        "```python\n",
        ">>> for line in f:\n",
        "...     print(line, end='')\n",
        "...\n",
        "This is the first line of the file.\n",
        "Second line of the file\n",
        "```\n",
        "\n",
        "* 如果你想把一個檔案的所有行讀進一個 `list` 裡，可以用 `list(f)` 或 `f.readlines()`。"
      ],
      "metadata": {
        "id": "0SxOCu39c_JQ"
      }
    },
    {
      "cell_type": "markdown",
      "source": [
        "`f.write(string)` 把 *string* 的內容寫入檔案，並回傳寫入的字元數。\n",
        "```python\n",
        ">>> f.write('This is a test\\n')\n",
        "15\n",
        "```"
      ],
      "metadata": {
        "id": "OXI9oe1edfed"
      }
    },
    {
      "cell_type": "markdown",
      "source": [
        "寫入其他類型的物件之前，要先把它們轉換為字串（文字模式）或位元組串物件（二進制模式）：\n",
        "```python\n",
        ">>> value = ('the answer', 42)\n",
        ">>> s = str(value)  # convert the tuple to string\n",
        ">>> f.write(s)\n",
        "18\n",
        "```"
      ],
      "metadata": {
        "id": "LcY1akFThVIx"
      }
    },
    {
      "cell_type": "markdown",
      "source": [
        "###7.2.2. 使用 json 儲存結構化資料\n",
        "\n",
        "字串可以簡單地從檔案中被寫入和讀取。\n",
        "* 數字則稍嫌麻煩，因為 `read()` method 只回傳字串，這些字串必須傳遞給像 `int()` 這樣的函式，它接受 `'123'` 這樣的字串，並回傳數值 `123`。\n",
        "* 當你想儲存像是巢狀 `list` 和 `dictionary`等複雜的資料類型時，手動剖析 (parsing) 和序列化 (serializing) 就變得複雜。\n",
        "\n",
        "相較於讓使用者不斷地編寫和除錯程式碼才能把複雜的資料類型儲存到檔案，Python 支援一個普及的資料交換格式，稱為 JSON (JavaScript Object Notation)。\n",
        "* 標準模組 json 可接收 Python 資料階層，並將它們轉換為字串表示法；這個過程稱為 *serializing*（序列化）。\n",
        "* 從字串表示法中重建資料則稱為 deserializing（反序列化）。在序列化和反序列化之間，表示物件的字串可以被儲存在檔案或資料中，或通過網路連接發送到遠端的機器。\n",
        "\n",
        "備註: JSON 格式經常地使用於現代應用程式的資料交換。許多程序設計師早已對它耳熟能詳，使它成為提升互操作性 (interoperability) 的好選擇。"
      ],
      "metadata": {
        "id": "9BegO5e1hy5Y"
      }
    },
    {
      "cell_type": "code",
      "source": [
        "# 如果你有一個物件 x，只需一行簡單的程式碼即可檢視它的 JSON 字串表示法：\n",
        "import json\n",
        "x = [1, 'simple', 'list']\n",
        "json.dumps(x)"
      ],
      "metadata": {
        "id": "VslPlJbnYU-r",
        "colab": {
          "base_uri": "https://localhost:8080/",
          "height": 35
        },
        "outputId": "8d6daefc-fea9-477f-fada-ced898af7729"
      },
      "execution_count": 22,
      "outputs": [
        {
          "output_type": "execute_result",
          "data": {
            "text/plain": [
              "'[1, \"simple\", \"list\"]'"
            ],
            "application/vnd.google.colaboratory.intrinsic+json": {
              "type": "string"
            }
          },
          "metadata": {},
          "execution_count": 22
        }
      ]
    },
    {
      "cell_type": "markdown",
      "source": [
        "`dumps()` 函式有一個變體，稱為 `dump()`，它單純地將物件序列化為 text file。\n",
        "因此，如果 `f` 是一個為了寫入而開啟的 text file 物件，我們可以這樣做：\n",
        "\n",
        "```python\n",
        "json.dump(x, f)\n",
        "```\n",
        "\n",
        "備註: JSON 檔案必須以 UTF-8 格式編碼。在開啟 JSON 檔案以作為一個可讀取與寫入的 text file 時，要用 encoding=\"utf-8\"。\n",
        "\n",
        "這種簡單的序列化技術可以處理 list 和 dictionary，但要在 JSON 中序列化任意的 class（類別）實例，則需要一些額外的工作。json 模組的參考資料包含對此的說明。\n",
        "\n",
        "\n",
        "---\n",
        "\n",
        "也參考 pickle - pickle 模組\n",
        "與 JSON 不同，pickle 是一種允許對任意的複雜 Python 物件進行序列化的協定。因此，它為 Python 所特有，不能用於與其他語言編寫的應用程式溝通。在預設情況，它也是不安全的：如果資料是由手段高明的攻擊者精心設計，將這段來自於不受信任來源的 pickle 資料反序列化，可以執行任意的程式碼。"
      ],
      "metadata": {
        "id": "ihakevNhkCLk"
      }
    },
    {
      "cell_type": "markdown",
      "source": [
        "##JSON\n",
        "1. 什麼是 JSON？\n",
        "\n",
        "JSON 的全名是 **JavaScript Object Notation** (JavaScript 物件表示法)。它是一種輕量級的資料交換格式，基於 JavaScript 語法的一個子集。\n",
        "\n",
        "儘管它的名字來自 JavaScript，但 JSON 是完全獨立於語言的。幾乎所有的程式語言（包括 Python、Java、C#、PHP 等）都有解析和生成 JSON 資料的函式庫。\n",
        "\n",
        "它的主要優點是：\n",
        "\n",
        "**人類可讀性高**：它的結構清晰，非常容易閱讀和編寫。\n",
        "\n",
        "**機器易於解析**：對於電腦程式來說，解析和生成 JSON 資料非常高效。\n",
        "\n",
        "JSON 主要由兩種結構組成：\n",
        "\n",
        "**物件 (Object)**：由大括號 `{}` 包圍的「鍵/值」(key/value) 對集合。鍵是字串，值可以是字串、數字、布林值、陣列或另一個物件。這在 Python 中對應的就是**字典 (dictionary)**。\n",
        "\n",
        "**陣列 (Array)**：由中括號 `[]` 包圍的值的有序列表。值可以是字串、數字、布林值、物件或另一個陣列。這在 Python 中對應的就是**列表 (list)**。\n",
        "\n",
        "一個簡單的 JSON 範例：\n",
        "\n",
        "```js\n",
        "{\n",
        "  \"name\": \"John Doe\",\n",
        "  \"age\": 30,\n",
        "  \"isStudent\": false,\n",
        "  \"courses\": [\n",
        "    {\n",
        "      \"title\": \"History\",\n",
        "      \"credits\": 3\n",
        "    },\n",
        "    {\n",
        "      \"title\": \"Math\",\n",
        "      \"credits\": 4\n",
        "    }\n",
        "  ],\n",
        "  \"address\": null\n",
        "}\n",
        "```"
      ],
      "metadata": {
        "id": "ie3K5mYweT77"
      }
    },
    {
      "cell_type": "markdown",
      "source": [
        "2. JSON 的主要用途\n",
        "JSON 已經成為在不同系統之間傳輸資料的標準格式，主要用途包括：\n",
        "\n",
        "* **Web API 資料交換**：這是最常見的用途。當你的瀏覽器或手機 App 需要從伺服器獲取資料時（例如，天氣資訊、社群媒體貼文、新聞列表），伺服器最常回傳的格式就是 JSON。你的程式接收到這個 JSON 字串後，再將其轉換為程式內部的物件來使用。\n",
        "\n",
        "* **設定檔 (Configuration Files)**：許多應用程式使用 `.json` 檔案來儲存設定。因為它的結構清晰，比傳統的 INI 或 XML 格式更容易閱讀和修改。\n",
        "\n",
        "* **NoSQL 資料庫**：像 MongoDB 這樣的 NoSQL 資料庫使用類似 JSON 的格式 (稱為 BSON) 來儲存文件，讓資料的儲存和查詢變得非常靈活。\n",
        "\n",
        "* **非同步通訊**：在網頁上，當 JavaScript 需要在不重新整理頁面的情況下與伺服器交換資料時（這種技術稱為 AJAX），JSON 是首選的資料格式。\n"
      ],
      "metadata": {
        "id": "Me233VSffami"
      }
    },
    {
      "cell_type": "markdown",
      "source": [
        "3. 如何在 Python 中使用 JSON\n",
        "Python 內建了一個非常強大且易於使用的函式庫叫做 `json`，你只需要 `import json` 就可以開始使用。\n",
        "\n",
        "操作 JSON 主要有兩個核心過程：\n",
        "\n",
        "* **序列化 (Serialization) 或 編碼 (Encoding)**：將 Python 物件 (例如 `dict` 或 `list`) 轉換成 JSON 格式的字串。\n",
        "\n",
        "* **反序列化 (Deserialization) 或 解碼 (Decoding)**：將 JSON 格式的字串轉換回 Python 物件。\n",
        "\n",
        "Python 與 JSON 型別的對應關係\n",
        "```\n",
        "Python          JSON\n",
        "dict           object\n",
        "list, tuple       array\n",
        "str           string\n",
        "int, float        number\n",
        "True/False        true/false\n",
        "None           null\n",
        "```"
      ],
      "metadata": {
        "id": "V6YzvNShLtLV"
      }
    },
    {
      "cell_type": "code",
      "source": [
        "# (A) 將 Python 物件轉換為 JSON 字串 (序列化)\n",
        "# 使用 json.dumps() (dump string) 函式。\n",
        "import json\n",
        "\n",
        "# 1. Prepare a Python dict\n",
        "python_data = {\n",
        "    \"name\": \"Jason\",\n",
        "    \"age\": 32,\n",
        "    \"is_active\": True,\n",
        "    \"skills\": [\"Python\", \"Data Analysis\", \"Machine Learning\"],\n",
        "    \"pet\": None\n",
        "}\n",
        "\n",
        "# 2. Use dumps() to convert Python dict into JSON string\n",
        "# indent=4 -> output format with 4 indents. More readable.\n",
        "json_string = json.dumps(python_data, indent=4)\n",
        "\n",
        "# 3. Print\n",
        "print(json_string)\n",
        "print(type(json_string))"
      ],
      "metadata": {
        "id": "IdzGVcEkj1h9",
        "colab": {
          "base_uri": "https://localhost:8080/"
        },
        "outputId": "6be395af-6a5e-47b6-9aaa-c614556a5b05"
      },
      "execution_count": 23,
      "outputs": [
        {
          "output_type": "stream",
          "name": "stdout",
          "text": [
            "{\n",
            "    \"name\": \"Jason\",\n",
            "    \"age\": 32,\n",
            "    \"is_active\": true,\n",
            "    \"skills\": [\n",
            "        \"Python\",\n",
            "        \"Data Analysis\",\n",
            "        \"Machine Learning\"\n",
            "    ],\n",
            "    \"pet\": null\n",
            "}\n",
            "<class 'str'>\n"
          ]
        }
      ]
    },
    {
      "cell_type": "code",
      "source": [
        "# (B) 將 JSON 字串轉換回 Python 物件 (反序列化)\n",
        "# 使用 json.loads() (load string) 函式。\n",
        "\n",
        "# Use loads() to parse json string to Python object\n",
        "python_obj = json.loads(json_string)\n",
        "\n",
        "# Print\n",
        "print(python_obj)\n",
        "print(type(python_obj))"
      ],
      "metadata": {
        "colab": {
          "base_uri": "https://localhost:8080/"
        },
        "id": "tcTCpZFWaYXe",
        "outputId": "5c73ce92-a6f6-4f77-9a6b-c85ef2d946bc"
      },
      "execution_count": 24,
      "outputs": [
        {
          "output_type": "stream",
          "name": "stdout",
          "text": [
            "{'name': 'Jason', 'age': 32, 'is_active': True, 'skills': ['Python', 'Data Analysis', 'Machine Learning'], 'pet': None}\n",
            "<class 'dict'>\n"
          ]
        }
      ]
    },
    {
      "cell_type": "code",
      "source": [
        "# (C) 讀寫 JSON 檔案\n",
        "# 當你需要將資料儲存到檔案或從檔案讀取設定時，json 模組也提供了方便的函式：\n",
        "# json.dump()：將 Python 物件序列化後寫入一個檔案。\n",
        "# json.load()：從一個檔案中讀取 JSON 資料並載入為 Python 物件。\n"
      ],
      "metadata": {
        "id": "at_F7SwgcPjz"
      },
      "execution_count": 25,
      "outputs": []
    },
    {
      "cell_type": "code",
      "source": [
        "# 寫入檔案 (dump)\n",
        "import json\n",
        "\n",
        "user_profile = {\n",
        "    \"user_id\": 12345,\n",
        "    \"username\": \"testuser\",\n",
        "    \"email\": \"test@example.com\",\n",
        "    \"settings\": {\n",
        "        \"theme\": \"dark\",\n",
        "        \"notifications_enabled\": True\n",
        "    }\n",
        "}\n",
        "\n",
        "# 使用 'w' (寫入模式) 開啟檔案\n",
        "# encoding='utf-8' 確保能正確處理中文字元\n",
        "with open('test_user_profile.json', 'w', encoding='utf-8') as f:\n",
        "    json.dump(user_profile, f, indent=4)"
      ],
      "metadata": {
        "id": "BPip8n58-McN"
      },
      "execution_count": 26,
      "outputs": []
    },
    {
      "cell_type": "code",
      "source": [
        "# 讀取檔案 (load)\n",
        "with open('test_user_profile.json', 'r', encoding='utf-8') as f:\n",
        "    loaded_data = json.load(f)\n",
        "\n",
        "print(type(loaded_data))\n",
        "print(loaded_data)"
      ],
      "metadata": {
        "colab": {
          "base_uri": "https://localhost:8080/"
        },
        "id": "p5wIZYoG-oyc",
        "outputId": "aad00cf4-f0aa-410f-c25f-83a5d0d2ab07"
      },
      "execution_count": 27,
      "outputs": [
        {
          "output_type": "stream",
          "name": "stdout",
          "text": [
            "<class 'dict'>\n",
            "{'user_id': 12345, 'username': 'testuser', 'email': 'test@example.com', 'settings': {'theme': 'dark', 'notifications_enabled': True}}\n"
          ]
        }
      ]
    }
  ]
}