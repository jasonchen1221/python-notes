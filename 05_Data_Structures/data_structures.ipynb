{
  "nbformat": 4,
  "nbformat_minor": 0,
  "metadata": {
    "colab": {
      "provenance": [],
      "toc_visible": true,
      "authorship_tag": "ABX9TyOf2+HFAG+QZXx54/q0CzDX"
    },
    "kernelspec": {
      "name": "python3",
      "display_name": "Python 3"
    },
    "language_info": {
      "name": "python"
    }
  },
  "cells": [
    {
      "cell_type": "markdown",
      "source": [
        "#Data Structures"
      ],
      "metadata": {
        "id": "o-jw7YCjl2mT"
      }
    },
    {
      "cell_type": "markdown",
      "source": [
        "##5.1 More on Lists"
      ],
      "metadata": {
        "id": "XNNTzFWZmLiV"
      }
    },
    {
      "cell_type": "code",
      "source": [
        "fruits = [\"apple\", \"banana\"]\n",
        "\n",
        "# append\n",
        "# 將項目 加到尾端\n",
        "fruits.append(\"cherry\")              # ['apple', 'banana', 'cherry']\n",
        "\n",
        "# extend\n",
        "# 將可疊代物件(iterable) 接到尾端\n",
        "fruits.extend([\"date\", \"elderberry\"])# ['apple', 'banana', 'cherry', 'date', 'elderberry']\n",
        "\n",
        "# insert\n",
        "# 將一個項目插入至 list 中給定的位置。第一個引數為插入處前元素的索引值，所以 a.insert(0, x) 會插入在 list 首位\n",
        "fruits.insert(1, \"blueberry\")        # ['apple', 'blueberry', 'banana', 'cherry', 'date', 'elderberry']\n",
        "\n",
        "# remove\n",
        "# 刪除 list 中第一個值等於 x 的元素。若 list 中無此元素則會觸發 ValueError。\n",
        "fruits.remove(\"banana\")              # ['apple', 'blueberry', 'cherry', 'date', 'elderberry']\n",
        "\n",
        "# pop\n",
        "# list.pop([i]): 移除 list 中給定位置的項目，並回傳它。如果沒有指定位置， a.pop() 將會移除 list 中最後的項目並回傳它。\n",
        "last_fruit = fruits.pop()            # 回傳 'elderberry', fruits = ['apple', 'blueberry', 'cherry', 'date']\n",
        "\n",
        "# clear\n",
        "# 刪除 list 中所有項目\n",
        "fruits.clear()\n",
        "fruits = ['apple', 'blueberry', 'cherry', 'date']\n",
        "\n",
        "# index\n",
        "# 回傳 list 中第一個值等於 x 的項目之索引值（從零開始的索引）。若 list 中無此項目，則丟出 ValueError 錯誤。\n",
        "idx = fruits.index(\"cherry\")         # 2\n",
        "\n",
        "# count\n",
        "# 回傳 x 在 list 中所出現的次數。\n",
        "count_date = fruits.count(\"date\")    # 1\n",
        "\n",
        "# sort\n",
        "# list.sort(*, key=None, reverse=False)\n",
        "# 將 list 中的項目排序。（可使用引數來進行客製化的排序)）\n",
        "# 不是所有資料都可以被排序或比較。例如，[None, 'hello', 10] 就不可排序，因為整數不能與字串比較，而 None 不能與其他型別比較。\n",
        "fruits.sort()                        # ['apple', 'blueberry', 'cherry', 'date']\n",
        "\n",
        "# reverse\n",
        "fruits.reverse()                     # ['date', 'cherry', 'blueberry', 'apple']\n",
        "\n",
        "# copy\n",
        "# 回傳一個淺複製 (shallow copy) 的 list。\n",
        "fruits_copy = fruits.copy()"
      ],
      "metadata": {
        "id": "WW75kO2cl7Uy"
      },
      "execution_count": 1,
      "outputs": []
    },
    {
      "cell_type": "markdown",
      "source": [
        "###5.1.1 將 List 作為 Stack（堆疊）使用\n",
        "\n",
        "- 使用方法 append() 將一個項目放到堆疊的頂層。\n",
        "\n",
        "- 使用方法 pop() 且不給定索引值去取得堆疊最上面的項目。"
      ],
      "metadata": {
        "id": "Ot0qVekzvCc6"
      }
    },
    {
      "cell_type": "code",
      "source": [
        "stack = [3, 4, 5]\n",
        "stack.append(6)\n",
        "stack.append(7)\n",
        "print(stack)\n",
        "\n",
        "stack.pop()\n",
        "print(stack)\n",
        "\n",
        "stack.pop()\n",
        "top_item = stack.pop()\n",
        "print(top_item)\n",
        "print(stack)"
      ],
      "metadata": {
        "id": "16EWtM54p493",
        "colab": {
          "base_uri": "https://localhost:8080/"
        },
        "outputId": "3504be06-ed2b-46a3-cf6e-cc8928214119"
      },
      "execution_count": 2,
      "outputs": [
        {
          "output_type": "stream",
          "name": "stdout",
          "text": [
            "[3, 4, 5, 6, 7]\n",
            "[3, 4, 5, 6]\n",
            "5\n",
            "[3, 4]\n"
          ]
        }
      ]
    },
    {
      "cell_type": "markdown",
      "source": [
        "### 5.1.2. 將 List 作為 Queue（佇列）使用\n",
        "\n",
        "- 也可以將 list 當作 queue（佇列）使用。然而，list 在這種使用方式下效率較差:\n",
        "    - 使用 append 和 pop 來加入和取出尾端的元素較快，\n",
        "    - 而使用 insert 和 pop 來插入和取出頭端的元素較慢（因為其他元素都需要挪動一格）\n",
        "\n",
        "- 如果要實作 queue，請使用 collections.deque，其被設計成能快速的從頭尾兩端加入和取出"
      ],
      "metadata": {
        "id": "chIx5mNdv5NV"
      }
    },
    {
      "cell_type": "code",
      "source": [
        "from collections import deque\n",
        "queue = deque([\"Eric\", \"John\", \"Michael\"])\n",
        "\n",
        "queue.append(\"Sherry\")      # Sherry arrives\n",
        "queue.append(\"Jason\")       # Jason arrives\n",
        "\n",
        "queue.popleft()             # The first to arrive now leaves\n",
        "queue.popleft()             # The second to arrive now leaves\n",
        "\n",
        "print(queue)\n"
      ],
      "metadata": {
        "colab": {
          "base_uri": "https://localhost:8080/"
        },
        "id": "tpMawWSVvlWK",
        "outputId": "c96306ac-6e84-4121-8ba3-b8010a22b55c"
      },
      "execution_count": 3,
      "outputs": [
        {
          "output_type": "stream",
          "name": "stdout",
          "text": [
            "deque(['Michael', 'Sherry', 'Jason'])\n"
          ]
        }
      ]
    },
    {
      "cell_type": "markdown",
      "source": [
        "### 5.1.3. List Comprehensions（串列綜合運算）\n",
        "\n",
        "常見的應用:\n",
        "- 基於一個序列或 iterable（可疊代物件），將每一個元素經過某個運算的結果串接起來成為新的 list。\n",
        "- 創建一個子序列，其每一個元素皆滿足一個特定的條件。"
      ],
      "metadata": {
        "id": "wEZdjjxn5Bco"
      }
    },
    {
      "cell_type": "code",
      "source": [
        "# 創建一個「平方的 list」\n",
        "squares = []\n",
        "for x in range(10):\n",
        "    squares.append(x**2)\n",
        "\n",
        "print(squares)"
      ],
      "metadata": {
        "colab": {
          "base_uri": "https://localhost:8080/"
        },
        "id": "HZGISC02xukj",
        "outputId": "5d1a5d54-4b2a-4452-cd97-27b6c796a91c"
      },
      "execution_count": 4,
      "outputs": [
        {
          "output_type": "stream",
          "name": "stdout",
          "text": [
            "[0, 1, 4, 9, 16, 25, 36, 49, 64, 81]\n"
          ]
        }
      ]
    },
    {
      "cell_type": "code",
      "source": [
        "squares = [x**2 for x in range(10)]\n",
        "\n",
        "print(squares)"
      ],
      "metadata": {
        "colab": {
          "base_uri": "https://localhost:8080/"
        },
        "id": "9qVMDYXM5i4L",
        "outputId": "89296d89-bc47-499e-ccac-4c1908f37d21"
      },
      "execution_count": 5,
      "outputs": [
        {
          "output_type": "stream",
          "name": "stdout",
          "text": [
            "[0, 1, 4, 9, 16, 25, 36, 49, 64, 81]\n"
          ]
        }
      ]
    },
    {
      "cell_type": "markdown",
      "source": [
        "一個 list comprehension 的組成，是在一對方括號內，\n",
        "- 放入一個 expression（運算式）、\n",
        "- 一個 for 子句、\n",
        "- 再接著零個或多個 for 或 if 子句。\n",
        "\n",
        "結果會是一個新的 list，內容是在後面的 for 和 if 子句情境下，對前面運算式求值的結果。"
      ],
      "metadata": {
        "id": "_2ccauwt6DKO"
      }
    },
    {
      "cell_type": "code",
      "source": [
        "# Example: 組合兩個 list 中彼此相異的元素\n",
        "[(x, y) for x in [1, 2, 3] for y in [3, 1, 4] if x != y]"
      ],
      "metadata": {
        "colab": {
          "base_uri": "https://localhost:8080/"
        },
        "id": "USnpRUbi5wkw",
        "outputId": "35a4cee1-a5fc-48e1-9d75-726f0d8062d9"
      },
      "execution_count": 6,
      "outputs": [
        {
          "output_type": "execute_result",
          "data": {
            "text/plain": [
              "[(1, 3), (1, 4), (2, 3), (2, 1), (2, 4), (3, 1), (3, 4)]"
            ]
          },
          "metadata": {},
          "execution_count": 6
        }
      ]
    },
    {
      "cell_type": "code",
      "source": [
        "# 等同於以下 (注意 for, if 的順序)\n",
        "combs = []\n",
        "for x in [1, 2, 3]:\n",
        "    for y in [3, 1, 4]:\n",
        "        if x != y:\n",
        "            combs.append((x, y))\n",
        "\n",
        "print(combs)"
      ],
      "metadata": {
        "colab": {
          "base_uri": "https://localhost:8080/"
        },
        "id": "wakAsHEe6cI_",
        "outputId": "89727347-ef78-4155-c720-c7ccfafe9e86"
      },
      "execution_count": 7,
      "outputs": [
        {
          "output_type": "stream",
          "name": "stdout",
          "text": [
            "[(1, 3), (1, 4), (2, 3), (2, 1), (2, 4), (3, 1), (3, 4)]\n"
          ]
        }
      ]
    },
    {
      "cell_type": "code",
      "source": [
        "# Examples:\n",
        "vec = [-4, -2, 0, 2, 4]\n",
        "\n",
        "# create a new list with the values doubled\n",
        "print([x*2 for x in vec])\n",
        "\n",
        "# filter the list to exclude negative numbers\n",
        "print([x for x in vec if x >= 0])\n",
        "\n",
        "# apply a function to all the elements\n",
        "print([abs(x) for x in vec])\n",
        "\n",
        "# call a method on each element\n",
        "freshfruit = ['  banana', '  loganberry ', 'passion fruit  ']\n",
        "print([x.strip() for x in freshfruit])\n",
        "\n",
        "# create a list of 2-tuples like (number, square)\n",
        "print([(x, x**2) for x in range(6)])\n"
      ],
      "metadata": {
        "colab": {
          "base_uri": "https://localhost:8080/"
        },
        "id": "v-mA8BU46wrN",
        "outputId": "10dbfafa-c622-4ca4-babd-47585a140598"
      },
      "execution_count": 8,
      "outputs": [
        {
          "output_type": "stream",
          "name": "stdout",
          "text": [
            "[-8, -4, 0, 4, 8]\n",
            "[0, 2, 4]\n",
            "[4, 2, 0, 2, 4]\n",
            "['banana', 'loganberry', 'passion fruit']\n",
            "[(0, 0), (1, 1), (2, 4), (3, 9), (4, 16), (5, 25)]\n"
          ]
        }
      ]
    },
    {
      "cell_type": "code",
      "source": [
        "# the tuple must be parenthesized, otherwise an error is raised\n",
        "[x, x**2 for x in range(6)]"
      ],
      "metadata": {
        "id": "RkODdmtl7a8j",
        "colab": {
          "base_uri": "https://localhost:8080/",
          "height": 106
        },
        "outputId": "38809bbd-144f-4cb5-a349-4621a11f1d1a"
      },
      "execution_count": 9,
      "outputs": [
        {
          "output_type": "error",
          "ename": "SyntaxError",
          "evalue": "did you forget parentheses around the comprehension target? (ipython-input-3265058268.py, line 2)",
          "traceback": [
            "\u001b[0;36m  File \u001b[0;32m\"/tmp/ipython-input-3265058268.py\"\u001b[0;36m, line \u001b[0;32m2\u001b[0m\n\u001b[0;31m    [x, x**2 for x in range(6)]\u001b[0m\n\u001b[0m     ^\u001b[0m\n\u001b[0;31mSyntaxError\u001b[0m\u001b[0;31m:\u001b[0m did you forget parentheses around the comprehension target?\n"
          ]
        }
      ]
    },
    {
      "cell_type": "code",
      "source": [
        "# flatten a list using a listcomp with two 'for'\n",
        "vec = [[1,2,3], [4,5,6], [7,8,9]]\n",
        "[num for elem in vec for num in elem]"
      ],
      "metadata": {
        "colab": {
          "base_uri": "https://localhost:8080/"
        },
        "id": "LM1v9QLsCj6s",
        "outputId": "d9d53f9d-36ae-4de0-e0e4-8b0a7600a61b"
      },
      "execution_count": 10,
      "outputs": [
        {
          "output_type": "execute_result",
          "data": {
            "text/plain": [
              "[1, 2, 3, 4, 5, 6, 7, 8, 9]"
            ]
          },
          "metadata": {},
          "execution_count": 10
        }
      ]
    },
    {
      "cell_type": "code",
      "source": [
        "# List comprehensions 可以含有複雜的 expression 和巢狀的函式：\n",
        "from math import pi\n",
        "[str(round(pi, i)) for i in range(1, 6)]"
      ],
      "metadata": {
        "colab": {
          "base_uri": "https://localhost:8080/"
        },
        "id": "PmCA7jOKC-Rm",
        "outputId": "14817fad-c9f7-49e8-f959-150c8323ab26"
      },
      "execution_count": 11,
      "outputs": [
        {
          "output_type": "execute_result",
          "data": {
            "text/plain": [
              "['3.1', '3.14', '3.142', '3.1416', '3.14159']"
            ]
          },
          "metadata": {},
          "execution_count": 11
        }
      ]
    },
    {
      "cell_type": "markdown",
      "source": [
        "### 5.1.4 巢狀的 List Comprehensions\n",
        "\n"
      ],
      "metadata": {
        "id": "NA38b9DzFvLU"
      }
    },
    {
      "cell_type": "code",
      "source": [
        "# 在 list comprehesion 中開頭的 expression 可以是任何形式的 expression，包括再寫一個 list comprehension。\n",
        "# 考慮以下表示 3x4 矩陣的範例，使用 list 包含 3 個長度為 4 的 list\n",
        "matrix = [\n",
        "    [1, 2, 3, 4],\n",
        "    [5, 6, 7, 8],\n",
        "    [9, 10, 11, 12],\n",
        "]\n",
        "\n",
        "transposed = []\n",
        "for i in range(4):\n",
        "    transposed_row = []\n",
        "    for row in matrix:\n",
        "        transposed_row.append(row[i])\n",
        "    transposed.append(transposed_row)\n",
        "\n",
        "print(transposed)"
      ],
      "metadata": {
        "colab": {
          "base_uri": "https://localhost:8080/"
        },
        "id": "JSo8I-s5Fo4g",
        "outputId": "16d3e1b2-0df9-4e21-9239-b54f193ec67d"
      },
      "execution_count": 12,
      "outputs": [
        {
          "output_type": "stream",
          "name": "stdout",
          "text": [
            "[[1, 5, 9], [2, 6, 10], [3, 7, 11], [4, 8, 12]]\n"
          ]
        }
      ]
    },
    {
      "cell_type": "code",
      "source": [
        "# list comprehension\n",
        "[[row[i] for row in matrix] for i in range(4)]"
      ],
      "metadata": {
        "colab": {
          "base_uri": "https://localhost:8080/"
        },
        "id": "dFbyTa-bGpwn",
        "outputId": "486e3736-b181-42b5-bc07-a6fb3048f87b"
      },
      "execution_count": 13,
      "outputs": [
        {
          "output_type": "execute_result",
          "data": {
            "text/plain": [
              "[[1, 5, 9], [2, 6, 10], [3, 7, 11], [4, 8, 12]]"
            ]
          },
          "metadata": {},
          "execution_count": 13
        }
      ]
    },
    {
      "cell_type": "code",
      "source": [
        "# 在實際運用上，我們傾向於使用內建函式 (built-in functions) 而不是複雜的流程控制陳述式。\n",
        "# 在這個例子中，使用 zip() 函式會非常有效率：\n",
        "list(zip(*matrix))"
      ],
      "metadata": {
        "colab": {
          "base_uri": "https://localhost:8080/"
        },
        "id": "Hx6jwlxwHU7n",
        "outputId": "17bd85de-48ea-42f9-f1b0-7a73358767e3"
      },
      "execution_count": 14,
      "outputs": [
        {
          "output_type": "execute_result",
          "data": {
            "text/plain": [
              "[(1, 5, 9), (2, 6, 10), (3, 7, 11), (4, 8, 12)]"
            ]
          },
          "metadata": {},
          "execution_count": 14
        }
      ]
    },
    {
      "cell_type": "code",
      "source": [
        "# zip\n",
        "# zip() 是一個非常實用的內建函式，它的核心原理是將多個可疊代物件（iterables）\n",
        "# 「並行打包」成一個個 tuple，並回傳一個迭代器。\n",
        "# 這個迭代器會依序產生「第 i 個元素組合」的 tuple，直到最短的輸入序列耗盡為止。\n",
        "\n",
        "# zip(iterable1, iterable2, ...)\n",
        "# - 運作方式\n",
        "#   - 同時從每個 iterable 取出一個元素，組成 tuple\n",
        "#   - 當最短的 iterable 沒有更多元素時，停止產生\n",
        "#   - zip() 回傳的是 zip 物件（迭代器），需要用 list() 或 tuple() 轉換才能看到全部內容\n",
        "\n",
        "# 1. 記憶體效率高：因為回傳迭代器，不會一次建立完整列表\n",
        "# 2. 搭配 enumerate：可同時取得索引與多序列元素\n",
        "# 3. 處理長度不一致：zip() 會截斷到最短序列；若要補齊，可用 itertools.zip_longest()"
      ],
      "metadata": {
        "id": "bIiBgdufHwCc"
      },
      "execution_count": 15,
      "outputs": []
    },
    {
      "cell_type": "code",
      "source": [
        "from itertools import zip_longest\n",
        "\n",
        "a = [1, 2, 3]\n",
        "b = ['A', 'B']\n",
        "\n",
        "print(list(zip(a, b)))\n",
        "\n",
        "print(list(zip_longest(a, b, fillvalue='*')))"
      ],
      "metadata": {
        "colab": {
          "base_uri": "https://localhost:8080/"
        },
        "id": "7YmLplMWJFf3",
        "outputId": "05e69d06-f128-4ab3-a1e7-9b364bebe14e"
      },
      "execution_count": 16,
      "outputs": [
        {
          "output_type": "stream",
          "name": "stdout",
          "text": [
            "[(1, 'A'), (2, 'B')]\n",
            "[(1, 'A'), (2, 'B'), (3, '*')]\n"
          ]
        }
      ]
    },
    {
      "cell_type": "code",
      "source": [
        "# 搭配 enumerate() 同時取得索引與多序列元素\n",
        "names = ['Jason', 'Sherry', 'Ruth']\n",
        "scores = [60, 70, 80]\n",
        "\n",
        "for idx, (name, score) in enumerate(zip(names, scores), start=1):\n",
        "    print(f\"{idx}, {name} - {score}\")\n"
      ],
      "metadata": {
        "colab": {
          "base_uri": "https://localhost:8080/"
        },
        "id": "YadUpNp7JQwb",
        "outputId": "6537cfee-07c4-41da-92e8-02d97ee9c53f"
      },
      "execution_count": 17,
      "outputs": [
        {
          "output_type": "stream",
          "name": "stdout",
          "text": [
            "1, Jason - 60\n",
            "2, Sherry - 70\n",
            "3, Ruth - 80\n"
          ]
        }
      ]
    },
    {
      "cell_type": "markdown",
      "source": [
        "## 5.2 The del statement"
      ],
      "metadata": {
        "id": "HBLGLB4nLnJR"
      }
    },
    {
      "cell_type": "code",
      "source": [
        "# 有一個方法可以藉由索引而不是值來刪除 list 中的項目：del 陳述式。\n",
        "# 這和 pop() method 傳回一個值不同，del 陳述式可以用來刪除 list 中的片段或者清空整個 list\n",
        "a = [-1, 1, 66.25, 333, 333, 1234.5]\n",
        "\n",
        "del a[0]\n",
        "print(a)\n",
        "\n",
        "del a[2:4]\n",
        "print(a)\n",
        "\n",
        "del a[:]\n",
        "print(a)"
      ],
      "metadata": {
        "id": "B8mGP1OaKDod",
        "colab": {
          "base_uri": "https://localhost:8080/"
        },
        "outputId": "86f22f36-242a-478d-87ff-51c247b05757"
      },
      "execution_count": 18,
      "outputs": [
        {
          "output_type": "stream",
          "name": "stdout",
          "text": [
            "[1, 66.25, 333, 333, 1234.5]\n",
            "[1, 66.25, 1234.5]\n",
            "[]\n"
          ]
        }
      ]
    },
    {
      "cell_type": "code",
      "source": [
        "del a\n",
        "print(a)"
      ],
      "metadata": {
        "id": "gzRXrtoBL_Fp",
        "colab": {
          "base_uri": "https://localhost:8080/",
          "height": 158
        },
        "outputId": "81194257-208c-4643-f99e-3e07ac2b55ff"
      },
      "execution_count": 19,
      "outputs": [
        {
          "output_type": "error",
          "ename": "NameError",
          "evalue": "name 'a' is not defined",
          "traceback": [
            "\u001b[0;31m---------------------------------------------------------------------------\u001b[0m",
            "\u001b[0;31mNameError\u001b[0m                                 Traceback (most recent call last)",
            "\u001b[0;32m/tmp/ipython-input-1497285116.py\u001b[0m in \u001b[0;36m<cell line: 0>\u001b[0;34m()\u001b[0m\n\u001b[1;32m      1\u001b[0m \u001b[0;32mdel\u001b[0m \u001b[0ma\u001b[0m\u001b[0;34m\u001b[0m\u001b[0;34m\u001b[0m\u001b[0m\n\u001b[0;32m----> 2\u001b[0;31m \u001b[0mprint\u001b[0m\u001b[0;34m(\u001b[0m\u001b[0ma\u001b[0m\u001b[0;34m)\u001b[0m\u001b[0;34m\u001b[0m\u001b[0;34m\u001b[0m\u001b[0m\n\u001b[0m",
            "\u001b[0;31mNameError\u001b[0m: name 'a' is not defined"
          ]
        }
      ]
    },
    {
      "cell_type": "markdown",
      "source": [
        "## 5.3. Tuples and Sequences\n",
        "\n",
        "- tuple 是 immutable（不可變的），通常儲存異質的元素序列，並可經由拆解 (unpacking)或索引 (indexing) 來存取（或者在使用 namedtuples 的時候藉由屬性 (attribute) 來存取）。\n",
        "- List 是 mutable（可變的），其元素通常是同質的且可藉由疊代整個 list 來存取。\n"
      ],
      "metadata": {
        "id": "wIDRRX7pCzOh"
      }
    },
    {
      "cell_type": "code",
      "source": [
        "# 一個 tuple 是由若干個值藉由逗號區隔而組成，例如：\n",
        "t = 12345, 54321, 'hello!'\n",
        "print(t)\n",
        "print(t[0])\n",
        "\n",
        "# Tuples may be nested:\n",
        "u = t, (1, 2, 3, 4, 5)\n",
        "print(u)\n"
      ],
      "metadata": {
        "colab": {
          "base_uri": "https://localhost:8080/"
        },
        "id": "OxOP3Fl7Cth8",
        "outputId": "541da633-2c35-484b-a3a3-05cfaa665483"
      },
      "execution_count": 20,
      "outputs": [
        {
          "output_type": "stream",
          "name": "stdout",
          "text": [
            "(12345, 54321, 'hello!')\n",
            "12345\n",
            "((12345, 54321, 'hello!'), (1, 2, 3, 4, 5))\n"
          ]
        }
      ]
    },
    {
      "cell_type": "code",
      "source": [
        "# Tuples are immutable:\n",
        "t[0] = 88888"
      ],
      "metadata": {
        "colab": {
          "base_uri": "https://localhost:8080/",
          "height": 158
        },
        "id": "L-qLfbMYDm69",
        "outputId": "935bb891-23c3-4158-b749-f306e63e8775"
      },
      "execution_count": 21,
      "outputs": [
        {
          "output_type": "error",
          "ename": "TypeError",
          "evalue": "'tuple' object does not support item assignment",
          "traceback": [
            "\u001b[0;31m---------------------------------------------------------------------------\u001b[0m",
            "\u001b[0;31mTypeError\u001b[0m                                 Traceback (most recent call last)",
            "\u001b[0;32m/tmp/ipython-input-3712877911.py\u001b[0m in \u001b[0;36m<cell line: 0>\u001b[0;34m()\u001b[0m\n\u001b[1;32m      1\u001b[0m \u001b[0;31m# Tuples are immutable:\u001b[0m\u001b[0;34m\u001b[0m\u001b[0;34m\u001b[0m\u001b[0m\n\u001b[0;32m----> 2\u001b[0;31m \u001b[0mt\u001b[0m\u001b[0;34m[\u001b[0m\u001b[0;36m0\u001b[0m\u001b[0;34m]\u001b[0m \u001b[0;34m=\u001b[0m \u001b[0;36m88888\u001b[0m\u001b[0;34m\u001b[0m\u001b[0;34m\u001b[0m\u001b[0m\n\u001b[0m",
            "\u001b[0;31mTypeError\u001b[0m: 'tuple' object does not support item assignment"
          ]
        }
      ]
    },
    {
      "cell_type": "code",
      "source": [
        "# but they can contain mutable objects:\n",
        "k = [1, 2, 3]\n",
        "v = (k, [3, 2, 1])\n",
        "print(v)\n",
        "\n",
        "k.append(4)\n",
        "print(v)"
      ],
      "metadata": {
        "colab": {
          "base_uri": "https://localhost:8080/"
        },
        "id": "wEuil0AED7cB",
        "outputId": "dd246e8f-1051-42b5-cd2e-ee44dbe8096f"
      },
      "execution_count": 22,
      "outputs": [
        {
          "output_type": "stream",
          "name": "stdout",
          "text": [
            "([1, 2, 3], [3, 2, 1])\n",
            "([1, 2, 3, 4], [3, 2, 1])\n"
          ]
        }
      ]
    },
    {
      "cell_type": "code",
      "source": [
        "# 陳述式 t = 12345, 54321, 'hello!' 就是一個 tuple packing 的例子：\n",
        "# 12345，54321 和 'hello!' 一起被放進 tuple 裡。\n",
        "# 反向操作也可以：\n",
        "x, y, z = t\n",
        "print(f\"{x}, {y}, {z}\")\n",
        "\n",
        "# 這個正是序列拆解 (sequence unpacking)，可運用在任何位在等號右邊的序列。\n",
        "# 序列拆解要求等號左邊的變數數量必須與等號右邊的序列中的元素數量相同。"
      ],
      "metadata": {
        "colab": {
          "base_uri": "https://localhost:8080/"
        },
        "id": "9OX5ln75EKYz",
        "outputId": "7800f4ef-c603-4c40-9bb3-5c2d922c725a"
      },
      "execution_count": 23,
      "outputs": [
        {
          "output_type": "stream",
          "name": "stdout",
          "text": [
            "12345, 54321, hello!\n"
          ]
        }
      ]
    },
    {
      "cell_type": "code",
      "source": [
        "# 一個特別的議題是，關於創建一個含有 0 個或 1 個項目的 tuple：語法上會採納一些奇怪的用法。\n",
        "# 空的 tuple 藉由一對空括號來創建；\n",
        "# 含有一個項目的 tuple 經由一個值加上一個逗點來創建（用括號把一個單一的值包住是不夠的）。醜，但有效率\n",
        "empty = ()\n",
        "print(len(empty))\n",
        "\n",
        "a = 'hello',    # <-- note trailing comma\n",
        "print(a)\n",
        "print(len(a))"
      ],
      "metadata": {
        "colab": {
          "base_uri": "https://localhost:8080/"
        },
        "id": "hEZ04wJSHUIK",
        "outputId": "af3cdd6d-771d-41b8-bb1d-492849f96679"
      },
      "execution_count": 24,
      "outputs": [
        {
          "output_type": "stream",
          "name": "stdout",
          "text": [
            "0\n",
            "('hello',)\n",
            "1\n"
          ]
        }
      ]
    },
    {
      "cell_type": "markdown",
      "source": [
        "## 5.4 Sets\n",
        "\n",
        "- 一個 set 是一組無序且沒有重複的元素。\n",
        "- 基本的使用方式包括了成員測試和消除重複元素。\n",
        "- Set 物件也支援聯集、交集、差集和互斥等數學運算。\n",
        "\n",
        "    - 大括號或 set() 函式都可以用來創建 set。\n",
        "    - 注意：要創建一個空的 set，你必須使用 set() 而不是 {}；後者會創建一個空的 dictionary"
      ],
      "metadata": {
        "id": "C56jSbEbIuc_"
      }
    },
    {
      "cell_type": "code",
      "source": [
        "basket = {'apple', 'orange', 'apple', 'pear', 'orange', 'banana'}\n",
        "print(basket)                   # show that duplicates have been removed\n",
        "\n",
        "print('orange' in basket)       # fast membership testing\n",
        "\n",
        "print('candy' in basket)\n"
      ],
      "metadata": {
        "colab": {
          "base_uri": "https://localhost:8080/"
        },
        "id": "7v1_HBH4Hozq",
        "outputId": "2cd41ddb-d822-4cf7-cb6e-439202c5e17f"
      },
      "execution_count": 25,
      "outputs": [
        {
          "output_type": "stream",
          "name": "stdout",
          "text": [
            "{'apple', 'pear', 'orange', 'banana'}\n",
            "True\n",
            "False\n"
          ]
        }
      ]
    },
    {
      "cell_type": "code",
      "source": [
        "# set operations on unique letters from two words\n",
        "a = set('abracadabra')\n",
        "b = set('alacazam')\n",
        "\n",
        "print(a)        # unique letters in a\n",
        "\n",
        "print(a - b)    # letters in a but not in b\n",
        "\n",
        "print(a | b)    # letters in a or b or both\n",
        "\n",
        "print(a & b)    # letters in both a and b\n",
        "\n",
        "print(a ^ b)    # letters in a or b but not both\n"
      ],
      "metadata": {
        "colab": {
          "base_uri": "https://localhost:8080/"
        },
        "id": "CvW1LklFLQRI",
        "outputId": "9d54d73c-924a-40bc-be21-df50b3b530fd"
      },
      "execution_count": 26,
      "outputs": [
        {
          "output_type": "stream",
          "name": "stdout",
          "text": [
            "{'b', 'd', 'c', 'a', 'r'}\n",
            "{'b', 'r', 'd'}\n",
            "{'z', 'b', 'd', 'c', 'l', 'a', 'm', 'r'}\n",
            "{'a', 'c'}\n",
            "{'z', 'l', 'm', 'b', 'r', 'd'}\n"
          ]
        }
      ]
    },
    {
      "cell_type": "code",
      "source": [
        "# 和 list comprehensions 類似，也有 set comprehensions（集合綜合運算）\n",
        "a = {x for x in 'abracadabra' if x not in 'abc'}\n",
        "print(a)"
      ],
      "metadata": {
        "colab": {
          "base_uri": "https://localhost:8080/"
        },
        "id": "JtwzdPNlNdYR",
        "outputId": "f9d4d223-2555-4096-a8e5-6e0f560cd56e"
      },
      "execution_count": 27,
      "outputs": [
        {
          "output_type": "stream",
          "name": "stdout",
          "text": [
            "{'r', 'd'}\n"
          ]
        }
      ]
    },
    {
      "cell_type": "markdown",
      "source": [
        "## 5.5. Dictionaries\n",
        "\n",
        " - Dictionary 有時被稱為「關聯記憶體」(associative memories) 或「關聯陣列」(associative arrays)。\n",
        " - 不像序列是由一個範圍內的數字當作索引，dictionary 是由鍵 (key) 來當索引，\n",
        "    - 鍵可以是任何不可變的類型；字串和數字都可以當作鍵。Tuple 也可以當作鍵，如果他們只含有字串、數字或 tuple；\n",
        "    - 若一個 tuple 直接或間接地含有任何可變的物件，它就不能當作鍵。\n",
        "    - 你無法使用 list 當作鍵，因為 list 可以經由索引指派 (index assignment)、切片指派 (slice assignment) 或是像 append() 和 extend() 等 method 被修改。\n",
        "\n",
        "- 思考 dictionary 最好的方式是把它想成是一組鍵值對 (key: value pair) 的 set，其中鍵在同一個 dictionary 裡必須是獨一無二的。\n",
        "    - 使用一對大括號可創建一個空的 dictionary：{}。\n",
        "    - 將一串由逗號分隔的鍵值對置於大括號則可初始化字典的鍵值對。\n",
        "\n",
        "- 可以使用 del 來刪除鍵值對\n",
        "- 對 dictionary 使用 list(d) 會得到一個包含該字典所有鍵的 list，其排列順序為插入時的順序。（若想要排序，則使用 sorted(d) 代替即可）。\n",
        "- 如果想確認一個鍵是否已存在於字典中，可使用關鍵字 in。\n",
        "\n"
      ],
      "metadata": {
        "id": "98OezMMVOVZQ"
      }
    },
    {
      "cell_type": "code",
      "source": [
        "tel = {'jason': 123, 'sherry': 456}\n",
        "\n",
        "tel['ruth'] = 789\n",
        "print(tel)\n",
        "\n",
        "del tel['jason']\n",
        "print(tel)\n",
        "\n",
        "print(list(tel))\n",
        "\n",
        "print(sorted(tel))\n",
        "\n",
        "print('jason' in tel)\n",
        "\n",
        "print('ruth' in tel)"
      ],
      "metadata": {
        "colab": {
          "base_uri": "https://localhost:8080/"
        },
        "id": "91VqhIaPOHpQ",
        "outputId": "5d41fcd0-1c30-4505-e246-0602997a8afb"
      },
      "execution_count": 28,
      "outputs": [
        {
          "output_type": "stream",
          "name": "stdout",
          "text": [
            "{'jason': 123, 'sherry': 456, 'ruth': 789}\n",
            "{'sherry': 456, 'ruth': 789}\n",
            "['sherry', 'ruth']\n",
            "['ruth', 'sherry']\n",
            "False\n",
            "True\n"
          ]
        }
      ]
    },
    {
      "cell_type": "code",
      "source": [
        "# 函式 dict() 可直接透過一串鍵值對序列來創建 dictionary\n",
        "dict([('jason', 123), ('sherry', 456), ('ruth', 789)])"
      ],
      "metadata": {
        "colab": {
          "base_uri": "https://localhost:8080/"
        },
        "id": "66m718SJnt2J",
        "outputId": "dea28aad-6ab5-46db-9a45-3bdf649f8860"
      },
      "execution_count": 29,
      "outputs": [
        {
          "output_type": "execute_result",
          "data": {
            "text/plain": [
              "{'jason': 123, 'sherry': 456, 'ruth': 789}"
            ]
          },
          "metadata": {},
          "execution_count": 29
        }
      ]
    },
    {
      "cell_type": "code",
      "source": [
        "# dict comprehensions: 也可以透過任意鍵與值的運算式來創建 dictionary\n",
        "{x: x**2 for x in (2, 4, 6)}"
      ],
      "metadata": {
        "colab": {
          "base_uri": "https://localhost:8080/"
        },
        "id": "6cuHi2hjod2i",
        "outputId": "6c9a8685-5ead-4762-8099-1dd3fcf5166a"
      },
      "execution_count": 30,
      "outputs": [
        {
          "output_type": "execute_result",
          "data": {
            "text/plain": [
              "{2: 4, 4: 16, 6: 36}"
            ]
          },
          "metadata": {},
          "execution_count": 30
        }
      ]
    },
    {
      "cell_type": "code",
      "source": [
        "# 當鍵是簡單的字串時，使用關鍵字引數 (keyword arguments) 有時會較為簡潔：\n",
        "dict(jason=123, sherry=456, ruth=789)"
      ],
      "metadata": {
        "colab": {
          "base_uri": "https://localhost:8080/"
        },
        "id": "BRxTy0DGosc-",
        "outputId": "ab91365f-acda-467c-ea00-1bca3a9ccb72"
      },
      "execution_count": 31,
      "outputs": [
        {
          "output_type": "execute_result",
          "data": {
            "text/plain": [
              "{'jason': 123, 'sherry': 456, 'ruth': 789}"
            ]
          },
          "metadata": {},
          "execution_count": 31
        }
      ]
    },
    {
      "cell_type": "markdown",
      "source": [
        "## 5.6 Looping Techniques\n",
        "\n"
      ],
      "metadata": {
        "id": "FDQggFe3tpFF"
      }
    },
    {
      "cell_type": "code",
      "source": [
        "# 當對 dictionary 作迴圈時，鍵以及其對應的值可以藉由使用 items() method 來同時取得\n",
        "knights = {'gallahad': 'the pure', 'robin': 'the brave'}\n",
        "for key, val in knights.items():\n",
        "    print(key, val)"
      ],
      "metadata": {
        "colab": {
          "base_uri": "https://localhost:8080/"
        },
        "id": "iq_yFLPCo250",
        "outputId": "dc23b90c-552a-4402-96f6-53a0f1e8413c"
      },
      "execution_count": 32,
      "outputs": [
        {
          "output_type": "stream",
          "name": "stdout",
          "text": [
            "gallahad the pure\n",
            "robin the brave\n"
          ]
        }
      ]
    },
    {
      "cell_type": "code",
      "source": [
        "# 要同時對兩個以上的序列作迴圈，可以將其以成對的方式放入 zip() 函式：\n",
        "questions = ['name', 'quest', 'favorite color']\n",
        "answers = ['lancelot', 'the holy grail', 'blue']\n",
        "for q, a in zip(questions, answers):\n",
        "    print(f\"What is your {q}? It is {a}!\")"
      ],
      "metadata": {
        "colab": {
          "base_uri": "https://localhost:8080/"
        },
        "id": "RjS9GHG8wVsf",
        "outputId": "8c220cdb-0311-403f-caf9-e9e5fba15d4f"
      },
      "execution_count": 33,
      "outputs": [
        {
          "output_type": "stream",
          "name": "stdout",
          "text": [
            "What is your name? It is lancelot!\n",
            "What is your quest? It is the holy grail!\n",
            "What is your favorite color? It is blue!\n"
          ]
        }
      ]
    },
    {
      "cell_type": "code",
      "source": [
        "# 要對序列作反向的迴圈，首先先寫出正向的序列，再對其使用 reversed() 函式; 但不會改變原本的序列:\n",
        "a = [1, 2, 3, 4, 5]\n",
        "for i in reversed(a):\n",
        "    print(i)\n",
        "\n",
        "print(a)"
      ],
      "metadata": {
        "id": "99NJSTRAwujo",
        "colab": {
          "base_uri": "https://localhost:8080/"
        },
        "outputId": "56363889-aa4e-4d4c-d103-f885ce0dc48c"
      },
      "execution_count": 34,
      "outputs": [
        {
          "output_type": "stream",
          "name": "stdout",
          "text": [
            "5\n",
            "4\n",
            "3\n",
            "2\n",
            "1\n",
            "[1, 2, 3, 4, 5]\n"
          ]
        }
      ]
    },
    {
      "cell_type": "code",
      "source": [
        "# 要以迴圈對序列作排序，使用 sorted() 函式會得到一個新的經排序過的 list ，但不會改變原本的序列：\n",
        "basket = ['apple', 'orange', 'apple', 'pear', 'orange', 'banana']\n",
        "for i in sorted(basket):\n",
        "    print(i)\n",
        "\n",
        "print(basket)"
      ],
      "metadata": {
        "colab": {
          "base_uri": "https://localhost:8080/"
        },
        "id": "63TDZ-B4Xb37",
        "outputId": "e9f93cfa-1711-47be-d976-54d7adbc5519"
      },
      "execution_count": 35,
      "outputs": [
        {
          "output_type": "stream",
          "name": "stdout",
          "text": [
            "apple\n",
            "apple\n",
            "banana\n",
            "orange\n",
            "orange\n",
            "pear\n",
            "['apple', 'orange', 'apple', 'pear', 'orange', 'banana']\n"
          ]
        }
      ]
    },
    {
      "cell_type": "code",
      "source": [
        "# 對序列使用 set() 可去除重複元素。\n",
        "# 對序列使用 sorted() 加上 set()，則是對經過排序後的非重複元素跑迴圈的慣用方法：\n",
        "basket = ['apple', 'orange', 'apple', 'pear', 'orange', 'banana']\n",
        "for i in sorted(set(basket)):\n",
        "    print(i)\n",
        "\n",
        "print(basket)"
      ],
      "metadata": {
        "colab": {
          "base_uri": "https://localhost:8080/"
        },
        "id": "nlrkmxvYYNzB",
        "outputId": "a088db02-4de5-4fa2-91e6-f62e55817877"
      },
      "execution_count": 36,
      "outputs": [
        {
          "output_type": "stream",
          "name": "stdout",
          "text": [
            "apple\n",
            "banana\n",
            "orange\n",
            "pear\n",
            "['apple', 'orange', 'apple', 'pear', 'orange', 'banana']\n"
          ]
        }
      ]
    },
    {
      "cell_type": "code",
      "source": [
        "# 有時我們會想要以迴圈來改變的一個 list，但是，通常創建一個新的 list 會更簡單且安全：\n",
        "import math\n",
        "raw_data = [56.2, float('NaN'), float('NaN'), 51.7, float('NaN'), 47.8]\n",
        "\n",
        "# wrong\n",
        "for val in raw_data:\n",
        "    if math.isnan(val):\n",
        "        raw_data.remove(val)\n",
        "\n",
        "print(raw_data)\n"
      ],
      "metadata": {
        "id": "Zn-DomV0Yve9",
        "colab": {
          "base_uri": "https://localhost:8080/"
        },
        "outputId": "0b02fc02-4e9b-4ccb-c00d-0ea235b7aa93"
      },
      "execution_count": 37,
      "outputs": [
        {
          "output_type": "stream",
          "name": "stdout",
          "text": [
            "[56.2, nan, 51.7, 47.8]\n"
          ]
        }
      ]
    },
    {
      "cell_type": "code",
      "source": [
        "# correct\n",
        "raw_data = [56.2, float('NaN'), float('NaN'), 51.7, float('NaN'), 47.8]\n",
        "\n",
        "filtered_data = []\n",
        "for val in raw_data:\n",
        "    if not math.isnan(val):\n",
        "        filtered_data.append(val)\n",
        "\n",
        "print(filtered_data)"
      ],
      "metadata": {
        "id": "-66_m-eRbhcT",
        "colab": {
          "base_uri": "https://localhost:8080/"
        },
        "outputId": "6e912f18-35cc-4656-dcd3-1fcc8d4f8d09"
      },
      "execution_count": 38,
      "outputs": [
        {
          "output_type": "stream",
          "name": "stdout",
          "text": [
            "[56.2, 51.7, 47.8]\n"
          ]
        }
      ]
    },
    {
      "cell_type": "markdown",
      "source": [
        "## 5.7 More on Conditions\n",
        "\n",
        "- 比較運算子\n",
        "    - `in` 和 `not in` 用於成員檢查，在容器中檢查一個值是否存在（或不存在）\n",
        "    - `is` 和 `not is` 比較兩個物件是否真的是相同的物件\n",
        "- 比較運算可以結合布林運算子 `and` 和 `or`\n"
      ],
      "metadata": {
        "id": "5hEShkwz9xXI"
      }
    },
    {
      "cell_type": "markdown",
      "source": [
        "## 5.8 Comparing Sequences and Other Types\n",
        "\n",
        "- 序列物件通常可以拿來和其他相同類型的物件做比較。這種比較使用詞典式 (lexicographical) 順序：\n",
        "    - 首先比較各自最前面的那項，若不相同，便可決定結果；若相同，則比較下一項，以此類推，直到其中一個序列完全用完。\n",
        "    - 如果被拿出來比較的兩項本身又是相同的序列類型，則詞典式比較會遞迴地執行。\n",
        "    - 如果兩個序列所有的項目都相等，則此兩個序列被認為是相等的。"
      ],
      "metadata": {
        "id": "ugJIyb6m_wxA"
      }
    },
    {
      "cell_type": "code",
      "source": [
        "print(f\"(1, 2, 3) < (1, 2, 4): {(1, 2, 3) < (1, 2, 4)}\")\n",
        "\n",
        "print(f\"[1, 2, 3] < [1, 2, 4]: {[1, 2, 3] < [1, 2, 4]}\")\n",
        "\n",
        "print(f\"(1, 2, 3, 4) < (1, 2, 4): {(1, 2, 3, 4) < (1, 2, 4)}\")\n",
        "\n",
        "# 如果其中一個序列的所有元素都比較完了，而另一個序列還有剩餘的元素，那麼較短的序列被視為 \"較小\"。\n",
        "print(f\"(1, 2) < (1, 2, -1): {(1, 2) < (1, 2, -1)}\")\n",
        "\n",
        "print(f\"(1, 2, 3) == (1.0, 2.0, 3.0): {(1, 2, 3) == (1.0, 2.0, 3.0)}\")\n",
        "\n",
        "# 相等的話，繼續比下去\n",
        "# 比較在此結束: 因為 'aa' < 'abc' 為 True，所以就不再往下比。最後結果為 True。\n",
        "print(f\"(1, 2, ('aa', 'ab')) < (1, 2, ('abc', 'a'), 4): {(1, 2, ('aa', 'ab')) < (1, 2, ('abc', 'a'), 4)}\")\n"
      ],
      "metadata": {
        "colab": {
          "base_uri": "https://localhost:8080/"
        },
        "id": "nnmEBtVv89OM",
        "outputId": "03a6301e-3ad8-4de5-98dc-ce987aeff07c"
      },
      "execution_count": 39,
      "outputs": [
        {
          "output_type": "stream",
          "name": "stdout",
          "text": [
            "(1, 2, 3) < (1, 2, 4): True\n",
            "[1, 2, 3] < [1, 2, 4]: True\n",
            "(1, 2, 3, 4) < (1, 2, 4): True\n",
            "(1, 2) < (1, 2, -1): True\n",
            "(1, 2, 3) == (1.0, 2.0, 3.0): True\n",
            "(1, 2, ('aa', 'ab')) < (1, 2, ('abc', 'a'), 4): True\n"
          ]
        }
      ]
    },
    {
      "cell_type": "code",
      "source": [],
      "metadata": {
        "id": "k8K9lOcDDPPN"
      },
      "execution_count": null,
      "outputs": []
    }
  ]
}