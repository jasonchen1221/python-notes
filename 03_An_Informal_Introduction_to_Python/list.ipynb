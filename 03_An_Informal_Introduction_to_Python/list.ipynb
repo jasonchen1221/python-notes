{
  "nbformat": 4,
  "nbformat_minor": 0,
  "metadata": {
    "colab": {
      "provenance": [],
      "toc_visible": true,
      "authorship_tag": "ABX9TyPtFGgU2ifXyYsAiJGQxU3J",
      "include_colab_link": true
    },
    "kernelspec": {
      "name": "python3",
      "display_name": "Python 3"
    },
    "language_info": {
      "name": "python"
    }
  },
  "cells": [
    {
      "cell_type": "markdown",
      "metadata": {
        "id": "view-in-github",
        "colab_type": "text"
      },
      "source": [
        "<a href=\"https://colab.research.google.com/github/jasonchen1221/python-notes/blob/main/03_An_Informal_Introduction_to_Python/list.ipynb\" target=\"_parent\"><img src=\"https://colab.research.google.com/assets/colab-badge.svg\" alt=\"Open In Colab\"/></a>"
      ]
    },
    {
      "cell_type": "markdown",
      "source": [
        "# 3.1.3 List"
      ],
      "metadata": {
        "id": "GqcNcrz3gTMQ"
      }
    },
    {
      "cell_type": "markdown",
      "source": [
        "Shallow Copy vs. Deep Copy\n",
        "\n",
        "\n",
        "*   immutable contents: no influence\n",
        "*   mutable contents: with influence!\n",
        "\n"
      ],
      "metadata": {
        "id": "l5wwKS09iwC9"
      }
    },
    {
      "cell_type": "code",
      "source": [
        "# List with immutable contents\n",
        "original = [1, 2, 3]\n",
        "print(original)"
      ],
      "metadata": {
        "colab": {
          "base_uri": "https://localhost:8080/"
        },
        "id": "gr597mbJi2Rr",
        "outputId": "f0ba2d84-c25f-44bf-e33a-e96d13786616"
      },
      "execution_count": 12,
      "outputs": [
        {
          "output_type": "stream",
          "name": "stdout",
          "text": [
            "[1, 2, 3]\n"
          ]
        }
      ]
    },
    {
      "cell_type": "code",
      "source": [
        "slice = original[0:2]\n",
        "print(slice)"
      ],
      "metadata": {
        "colab": {
          "base_uri": "https://localhost:8080/"
        },
        "id": "54IxID_skDDA",
        "outputId": "2cafed35-dc7f-4863-c148-44c9cfe8059e"
      },
      "execution_count": 13,
      "outputs": [
        {
          "output_type": "stream",
          "name": "stdout",
          "text": [
            "[1, 2]\n"
          ]
        }
      ]
    },
    {
      "cell_type": "code",
      "source": [
        "# Slicing: shallow copy\n",
        "slice_copy = original[:]\n",
        "print(slice_copy)\n",
        "\n",
        "print(id(original))\n",
        "print(id(slice_copy))"
      ],
      "metadata": {
        "colab": {
          "base_uri": "https://localhost:8080/"
        },
        "id": "uidgbUuHjdK5",
        "outputId": "1d963df5-a4a7-44f3-f130-dcb4b5f2cae9"
      },
      "execution_count": 14,
      "outputs": [
        {
          "output_type": "stream",
          "name": "stdout",
          "text": [
            "[1, 2, 3]\n",
            "139902478718848\n",
            "139902478714560\n"
          ]
        }
      ]
    },
    {
      "cell_type": "code",
      "source": [
        "# .copy: shallow copy\n",
        "method_copy = original.copy()\n",
        "print(method_copy)\n",
        "\n",
        "print(id(original))\n",
        "print(id(method_copy))"
      ],
      "metadata": {
        "colab": {
          "base_uri": "https://localhost:8080/"
        },
        "id": "SzeOSmdWj-Cu",
        "outputId": "d49e931b-d8b0-4273-dea7-e046effe06ec"
      },
      "execution_count": 15,
      "outputs": [
        {
          "output_type": "stream",
          "name": "stdout",
          "text": [
            "[1, 2, 3]\n",
            "139902478718848\n",
            "139902478725504\n"
          ]
        }
      ]
    },
    {
      "cell_type": "code",
      "source": [
        "# copy.deepcopy: deep copy\n",
        "import copy\n",
        "deep_copy = copy.deepcopy(original)\n",
        "print(deep_copy)\n",
        "\n",
        "print(id(original))\n",
        "print(id(deep_copy))"
      ],
      "metadata": {
        "colab": {
          "base_uri": "https://localhost:8080/"
        },
        "id": "pgwnPjXMlRVG",
        "outputId": "e474673f-f4b6-4d7e-904b-6e252b8be772"
      },
      "execution_count": 16,
      "outputs": [
        {
          "output_type": "stream",
          "name": "stdout",
          "text": [
            "[1, 2, 3]\n",
            "139902478718848\n",
            "139902479647232\n"
          ]
        }
      ]
    },
    {
      "cell_type": "code",
      "source": [
        "# immutable contents -> No influence for \"shallow copy\" or \"deep copy\"\n",
        "slice_copy[0] = -1\n",
        "method_copy[1] = -2\n",
        "deep_copy[2] = -3\n",
        "\n",
        "print(\"original\", original)\n",
        "print(\"slice_copy:\", slice_copy)\n",
        "print(\"method_copy:\", method_copy)\n",
        "print(\"deep_copy:\", deep_copy)\n",
        "print(\"original:\", original)"
      ],
      "metadata": {
        "colab": {
          "base_uri": "https://localhost:8080/"
        },
        "id": "6gbRVnzZlnIQ",
        "outputId": "6b20ed1e-2411-4f9b-f046-a8300aaa9f11"
      },
      "execution_count": 18,
      "outputs": [
        {
          "output_type": "stream",
          "name": "stdout",
          "text": [
            "original [1, 2, 3]\n",
            "slice_copy: [-1, 2, 3]\n",
            "method_copy: [1, -2, 3]\n",
            "deep_copy: [1, 2, -3]\n",
            "original: [1, 2, 3]\n"
          ]
        }
      ]
    },
    {
      "cell_type": "code",
      "source": [
        " # List with mutable contents\n",
        " original = [[1, 2], [3, 4]]\n",
        " print(original)"
      ],
      "metadata": {
        "colab": {
          "base_uri": "https://localhost:8080/"
        },
        "id": "LKFME06hnRgx",
        "outputId": "146a1147-c167-4c16-e186-d69431ad0a39"
      },
      "execution_count": 19,
      "outputs": [
        {
          "output_type": "stream",
          "name": "stdout",
          "text": [
            "[[1, 2, 3], [4, 5, 6]]\n"
          ]
        }
      ]
    },
    {
      "cell_type": "code",
      "source": [
        "# Slicing: shallow copy\n",
        "slice_copy = original[:]\n",
        "print(slice_copy)"
      ],
      "metadata": {
        "colab": {
          "base_uri": "https://localhost:8080/"
        },
        "id": "YX1zm4Fmoqcl",
        "outputId": "6184b038-e8f9-4baa-e750-d3a00ec0daa7"
      },
      "execution_count": 21,
      "outputs": [
        {
          "output_type": "stream",
          "name": "stdout",
          "text": [
            "[[1, 2, 3], [4, 5, 6]]\n"
          ]
        }
      ]
    },
    {
      "cell_type": "code",
      "source": [
        "slice_copy[0][0] = -1\n",
        "print(slice_copy)\n",
        "\n",
        "print(original) # Be influenced"
      ],
      "metadata": {
        "colab": {
          "base_uri": "https://localhost:8080/"
        },
        "id": "d9ELAm8epIoy",
        "outputId": "c6ab15b8-f3f1-4905-de23-6124eba7c330"
      },
      "execution_count": 22,
      "outputs": [
        {
          "output_type": "stream",
          "name": "stdout",
          "text": [
            "[[-1, 2, 3], [4, 5, 6]]\n",
            "[[-1, 2, 3], [4, 5, 6]]\n"
          ]
        }
      ]
    },
    {
      "cell_type": "code",
      "source": [
        "# .copy: shallow copy\n"
      ],
      "metadata": {
        "id": "rjGc-kWUpcpC"
      },
      "execution_count": null,
      "outputs": []
    }
  ]
}