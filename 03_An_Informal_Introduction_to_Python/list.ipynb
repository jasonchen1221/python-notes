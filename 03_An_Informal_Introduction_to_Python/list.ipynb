{
  "nbformat": 4,
  "nbformat_minor": 0,
  "metadata": {
    "colab": {
      "provenance": [],
      "toc_visible": true,
      "authorship_tag": "ABX9TyPlmt9PP0peu2tvruV6VRyY"
    },
    "kernelspec": {
      "name": "python3",
      "display_name": "Python 3"
    },
    "language_info": {
      "name": "python"
    }
  },
  "cells": [
    {
      "cell_type": "markdown",
      "source": [
        "# 3.1.3 List"
      ],
      "metadata": {
        "id": "GqcNcrz3gTMQ"
      }
    },
    {
      "cell_type": "markdown",
      "source": [
        "Shallow Copy vs. Deep Copy\n",
        "\n",
        "\n",
        "*   immutable contents: no influence\n",
        "*   mutable contents: has influence\n",
        "\n"
      ],
      "metadata": {
        "id": "l5wwKS09iwC9"
      }
    },
    {
      "cell_type": "code",
      "source": [
        "# List with immutable contents\n",
        "original = [1, 2, 3]\n",
        "print(original)"
      ],
      "metadata": {
        "colab": {
          "base_uri": "https://localhost:8080/"
        },
        "id": "gr597mbJi2Rr",
        "outputId": "4eb3b189-51a0-475f-fde5-8ebafc8ecfaf"
      },
      "execution_count": 23,
      "outputs": [
        {
          "output_type": "stream",
          "name": "stdout",
          "text": [
            "[1, 2, 3]\n"
          ]
        }
      ]
    },
    {
      "cell_type": "code",
      "source": [
        "slice = original[0:2]\n",
        "print(slice)"
      ],
      "metadata": {
        "colab": {
          "base_uri": "https://localhost:8080/"
        },
        "id": "54IxID_skDDA",
        "outputId": "b421b982-ecfd-4d2e-e975-d42e6129f317"
      },
      "execution_count": 24,
      "outputs": [
        {
          "output_type": "stream",
          "name": "stdout",
          "text": [
            "[1, 2]\n"
          ]
        }
      ]
    },
    {
      "cell_type": "code",
      "source": [
        "# Slicing: shallow copy\n",
        "slice_copy = original[:]\n",
        "print(slice_copy)\n",
        "\n",
        "print(id(original))\n",
        "print(id(slice_copy))"
      ],
      "metadata": {
        "colab": {
          "base_uri": "https://localhost:8080/"
        },
        "id": "uidgbUuHjdK5",
        "outputId": "31e3d2ea-06f9-40b9-9909-cd5d5dffcbf8"
      },
      "execution_count": 25,
      "outputs": [
        {
          "output_type": "stream",
          "name": "stdout",
          "text": [
            "[1, 2, 3]\n",
            "139903038310464\n",
            "139902478720128\n"
          ]
        }
      ]
    },
    {
      "cell_type": "code",
      "source": [
        "# .copy: shallow copy\n",
        "method_copy = original.copy()\n",
        "print(method_copy)\n",
        "\n",
        "print(id(original))\n",
        "print(id(method_copy))"
      ],
      "metadata": {
        "colab": {
          "base_uri": "https://localhost:8080/"
        },
        "id": "SzeOSmdWj-Cu",
        "outputId": "dd523269-e914-48c3-9e1e-36560894bc99"
      },
      "execution_count": 26,
      "outputs": [
        {
          "output_type": "stream",
          "name": "stdout",
          "text": [
            "[1, 2, 3]\n",
            "139903038310464\n",
            "139902478714624\n"
          ]
        }
      ]
    },
    {
      "cell_type": "code",
      "source": [
        "# copy.deepcopy: deep copy\n",
        "import copy\n",
        "deep_copy = copy.deepcopy(original)\n",
        "print(deep_copy)\n",
        "\n",
        "print(id(original))\n",
        "print(id(deep_copy))"
      ],
      "metadata": {
        "colab": {
          "base_uri": "https://localhost:8080/"
        },
        "id": "pgwnPjXMlRVG",
        "outputId": "943cbf0f-a23b-4f7a-80aa-7c7e0bd7d6c8"
      },
      "execution_count": 27,
      "outputs": [
        {
          "output_type": "stream",
          "name": "stdout",
          "text": [
            "[1, 2, 3]\n",
            "139903038310464\n",
            "139902478718848\n"
          ]
        }
      ]
    },
    {
      "cell_type": "code",
      "source": [
        "# immutable contents -> No influence for \"shallow copy\" or \"deep copy\"\n",
        "slice_copy[0] = -1\n",
        "method_copy[1] = -2\n",
        "deep_copy[2] = -3\n",
        "\n",
        "print(\"original\", original)\n",
        "print(\"slice_copy:\", slice_copy)\n",
        "print(\"method_copy:\", method_copy)\n",
        "print(\"deep_copy:\", deep_copy)\n",
        "print(\"original:\", original)"
      ],
      "metadata": {
        "colab": {
          "base_uri": "https://localhost:8080/"
        },
        "id": "6gbRVnzZlnIQ",
        "outputId": "66d474d7-f6bb-4fe4-ab8c-ae26dbdae25b"
      },
      "execution_count": 28,
      "outputs": [
        {
          "output_type": "stream",
          "name": "stdout",
          "text": [
            "original [1, 2, 3]\n",
            "slice_copy: [-1, 2, 3]\n",
            "method_copy: [1, -2, 3]\n",
            "deep_copy: [1, 2, -3]\n",
            "original: [1, 2, 3]\n"
          ]
        }
      ]
    },
    {
      "cell_type": "code",
      "source": [
        " # List with mutable contents\n",
        " original = [[1, 2], [3, 4]]\n",
        " print(original)"
      ],
      "metadata": {
        "colab": {
          "base_uri": "https://localhost:8080/"
        },
        "id": "LKFME06hnRgx",
        "outputId": "1157d548-eb6c-42b0-b432-52991890ee9e"
      },
      "execution_count": 29,
      "outputs": [
        {
          "output_type": "stream",
          "name": "stdout",
          "text": [
            "[[1, 2], [3, 4]]\n"
          ]
        }
      ]
    },
    {
      "cell_type": "code",
      "source": [
        "# Slicing: shallow copy\n",
        "slice_copy = original[:]\n",
        "print(slice_copy)"
      ],
      "metadata": {
        "colab": {
          "base_uri": "https://localhost:8080/"
        },
        "id": "YX1zm4Fmoqcl",
        "outputId": "7b044cff-b2e7-4f43-9404-6fbb1bed596a"
      },
      "execution_count": 30,
      "outputs": [
        {
          "output_type": "stream",
          "name": "stdout",
          "text": [
            "[[1, 2], [3, 4]]\n"
          ]
        }
      ]
    },
    {
      "cell_type": "code",
      "source": [
        "slice_copy[0][0] = -1\n",
        "print(slice_copy)\n",
        "\n",
        "print(original) # Be influenced"
      ],
      "metadata": {
        "colab": {
          "base_uri": "https://localhost:8080/"
        },
        "id": "d9ELAm8epIoy",
        "outputId": "0885b5d5-3dd3-414e-abf0-cebc99c5a1cf"
      },
      "execution_count": 31,
      "outputs": [
        {
          "output_type": "stream",
          "name": "stdout",
          "text": [
            "[[-1, 2], [3, 4]]\n",
            "[[-1, 2], [3, 4]]\n"
          ]
        }
      ]
    },
    {
      "cell_type": "code",
      "source": [
        "# .copy: shallow copy\n"
      ],
      "metadata": {
        "id": "rjGc-kWUpcpC"
      },
      "execution_count": 32,
      "outputs": []
    }
  ]
}