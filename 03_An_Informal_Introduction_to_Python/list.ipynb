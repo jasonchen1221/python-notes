{
  "nbformat": 4,
  "nbformat_minor": 0,
  "metadata": {
    "colab": {
      "provenance": [],
      "toc_visible": true,
      "authorship_tag": "ABX9TyNm7ygMlDIcyFxmBPD+udu6"
    },
    "kernelspec": {
      "name": "python3",
      "display_name": "Python 3"
    },
    "language_info": {
      "name": "python"
    }
  },
  "cells": [
    {
      "cell_type": "markdown",
      "source": [
        "# 3.1.3 List"
      ],
      "metadata": {
        "id": "GqcNcrz3gTMQ"
      }
    },
    {
      "cell_type": "markdown",
      "source": [
        "Shallow Copy vs. Deep Copy\n",
        "\n",
        "* A *shallow copy* constructs a new compound object and then (to the extent possible) inserts *references* into it to the objects found in the original.\n",
        "\n",
        "* A *deep copy* constructs a new compound object and then, recursively, inserts *copies* into it of the objects found in the original.\n",
        "\n",
        "Notes:\n",
        "*   immutable contents: no impacts\n",
        "*   mutable contents: has impacts\n",
        "\n"
      ],
      "metadata": {
        "id": "l5wwKS09iwC9"
      }
    },
    {
      "cell_type": "code",
      "source": [
        "# List with immutable contents\n",
        "original = [1, 2, 3]\n",
        "print(original)"
      ],
      "metadata": {
        "colab": {
          "base_uri": "https://localhost:8080/"
        },
        "id": "gr597mbJi2Rr",
        "outputId": "27dcd45b-6e6c-433b-9b61-7d7aa2323489"
      },
      "execution_count": 48,
      "outputs": [
        {
          "output_type": "stream",
          "name": "stdout",
          "text": [
            "[1, 2, 3]\n"
          ]
        }
      ]
    },
    {
      "cell_type": "code",
      "source": [
        "slice = original[0:2]\n",
        "print(slice)"
      ],
      "metadata": {
        "colab": {
          "base_uri": "https://localhost:8080/"
        },
        "id": "54IxID_skDDA",
        "outputId": "c174e973-49e7-449c-a912-a4b41da17f16"
      },
      "execution_count": 49,
      "outputs": [
        {
          "output_type": "stream",
          "name": "stdout",
          "text": [
            "[1, 2]\n"
          ]
        }
      ]
    },
    {
      "cell_type": "code",
      "source": [
        "# Slicing: will return the shallow copy of the original list\n",
        "slice_copy = original[:]\n",
        "print(slice_copy)"
      ],
      "metadata": {
        "colab": {
          "base_uri": "https://localhost:8080/"
        },
        "id": "uidgbUuHjdK5",
        "outputId": "7bdae476-1396-464b-dad0-fe43cade3f40"
      },
      "execution_count": 50,
      "outputs": [
        {
          "output_type": "stream",
          "name": "stdout",
          "text": [
            "[1, 2, 3]\n"
          ]
        }
      ]
    },
    {
      "cell_type": "code",
      "source": [
        "# .copy: shallow copy\n",
        "method_copy = original.copy()\n",
        "print(method_copy)"
      ],
      "metadata": {
        "colab": {
          "base_uri": "https://localhost:8080/"
        },
        "id": "SzeOSmdWj-Cu",
        "outputId": "ab360a60-f86d-4454-8d77-187a90812681"
      },
      "execution_count": 51,
      "outputs": [
        {
          "output_type": "stream",
          "name": "stdout",
          "text": [
            "[1, 2, 3]\n"
          ]
        }
      ]
    },
    {
      "cell_type": "code",
      "source": [
        "# copy.deepcopy: deep copy\n",
        "import copy\n",
        "deep_copy = copy.deepcopy(original)\n",
        "print(deep_copy)"
      ],
      "metadata": {
        "colab": {
          "base_uri": "https://localhost:8080/"
        },
        "id": "pgwnPjXMlRVG",
        "outputId": "e91698d9-6ae3-4ad8-fc91-5201cff828fe"
      },
      "execution_count": 52,
      "outputs": [
        {
          "output_type": "stream",
          "name": "stdout",
          "text": [
            "[1, 2, 3]\n"
          ]
        }
      ]
    },
    {
      "cell_type": "code",
      "source": [
        "# immutable contents -> No influence for \"shallow copy\" or \"deep copy\"\n",
        "slice_copy[0] = -1\n",
        "method_copy[1] = -2\n",
        "deep_copy[2] = -3\n",
        "\n",
        "print(\"original\", original)\n",
        "print(\"slice_copy:\", slice_copy)\n",
        "print(\"method_copy:\", method_copy)\n",
        "print(\"deep_copy:\", deep_copy)\n",
        "print(\"original:\", original)"
      ],
      "metadata": {
        "colab": {
          "base_uri": "https://localhost:8080/"
        },
        "id": "6gbRVnzZlnIQ",
        "outputId": "5d785885-8be9-45ff-d72e-40c5ef4ff5e7"
      },
      "execution_count": 53,
      "outputs": [
        {
          "output_type": "stream",
          "name": "stdout",
          "text": [
            "original [1, 2, 3]\n",
            "slice_copy: [-1, 2, 3]\n",
            "method_copy: [1, -2, 3]\n",
            "deep_copy: [1, 2, -3]\n",
            "original: [1, 2, 3]\n"
          ]
        }
      ]
    },
    {
      "cell_type": "code",
      "source": [
        "# List with mutable contents\n",
        "original = [[1, 2], [3, 4]]\n",
        "print(original)"
      ],
      "metadata": {
        "colab": {
          "base_uri": "https://localhost:8080/"
        },
        "id": "LKFME06hnRgx",
        "outputId": "c793ce1b-502b-4f87-e2cb-ca159a7f3236"
      },
      "execution_count": 54,
      "outputs": [
        {
          "output_type": "stream",
          "name": "stdout",
          "text": [
            "[[1, 2], [3, 4]]\n"
          ]
        }
      ]
    },
    {
      "cell_type": "code",
      "source": [
        "# Slicing: will return the shallow copy of the original list\n",
        "slice_copy = original[:]\n",
        "print(slice_copy)"
      ],
      "metadata": {
        "colab": {
          "base_uri": "https://localhost:8080/"
        },
        "id": "YX1zm4Fmoqcl",
        "outputId": "96f2baad-27b4-40e9-9f71-1be71782a011"
      },
      "execution_count": 55,
      "outputs": [
        {
          "output_type": "stream",
          "name": "stdout",
          "text": [
            "[[1, 2], [3, 4]]\n"
          ]
        }
      ]
    },
    {
      "cell_type": "code",
      "source": [
        "slice_copy[0][0] = -1\n",
        "print(slice_copy)\n",
        "\n",
        "print(original) # Be influenced"
      ],
      "metadata": {
        "colab": {
          "base_uri": "https://localhost:8080/"
        },
        "id": "d9ELAm8epIoy",
        "outputId": "a0bfaca4-fb94-48dc-9134-0d471787b36d"
      },
      "execution_count": 56,
      "outputs": [
        {
          "output_type": "stream",
          "name": "stdout",
          "text": [
            "[[-1, 2], [3, 4]]\n",
            "[[-1, 2], [3, 4]]\n"
          ]
        }
      ]
    },
    {
      "cell_type": "code",
      "source": [
        "# .copy: shallow copy\n",
        "method_copy = original.copy()\n",
        "print(method_copy)"
      ],
      "metadata": {
        "id": "rjGc-kWUpcpC",
        "colab": {
          "base_uri": "https://localhost:8080/"
        },
        "outputId": "9cc7aa26-c208-49a1-c293-d6c66f5144c6"
      },
      "execution_count": 57,
      "outputs": [
        {
          "output_type": "stream",
          "name": "stdout",
          "text": [
            "[[-1, 2], [3, 4]]\n"
          ]
        }
      ]
    },
    {
      "cell_type": "code",
      "source": [
        "method_copy[0][0] = -10\n",
        "print(method_copy)\n",
        "\n",
        "print(original)"
      ],
      "metadata": {
        "colab": {
          "base_uri": "https://localhost:8080/"
        },
        "id": "sWTb8Dy2S-aL",
        "outputId": "ec4b8563-5875-43c5-ab2c-da7e4dec8516"
      },
      "execution_count": 58,
      "outputs": [
        {
          "output_type": "stream",
          "name": "stdout",
          "text": [
            "[[-10, 2], [3, 4]]\n",
            "[[-10, 2], [3, 4]]\n"
          ]
        }
      ]
    },
    {
      "cell_type": "code",
      "source": [
        "# copy.deepcopy: deep copy\n",
        "deep_copy = copy.deepcopy(original)\n",
        "print(deep_copy)\n"
      ],
      "metadata": {
        "colab": {
          "base_uri": "https://localhost:8080/"
        },
        "id": "CfLN2TFuTHvA",
        "outputId": "17e08601-a122-49f9-f1ae-b5a9d5132d00"
      },
      "execution_count": 59,
      "outputs": [
        {
          "output_type": "stream",
          "name": "stdout",
          "text": [
            "[[-10, 2], [3, 4]]\n"
          ]
        }
      ]
    },
    {
      "cell_type": "code",
      "source": [
        "deep_copy[0][0] = -100\n",
        "print(deep_copy)\n",
        "\n",
        "print(original)"
      ],
      "metadata": {
        "colab": {
          "base_uri": "https://localhost:8080/"
        },
        "id": "4wVpbzF7TYyy",
        "outputId": "fc75e890-ceda-4339-f0cc-a976f79919f2"
      },
      "execution_count": 60,
      "outputs": [
        {
          "output_type": "stream",
          "name": "stdout",
          "text": [
            "[[-100, 2], [3, 4]]\n",
            "[[-10, 2], [3, 4]]\n"
          ]
        }
      ]
    }
  ]
}