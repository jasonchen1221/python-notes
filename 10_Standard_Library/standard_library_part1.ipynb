{
  "nbformat": 4,
  "nbformat_minor": 0,
  "metadata": {
    "colab": {
      "provenance": [],
      "toc_visible": true,
      "authorship_tag": "ABX9TyPNNCkbgKHzItT4gKETmMzp"
    },
    "kernelspec": {
      "name": "python3",
      "display_name": "Python 3"
    },
    "language_info": {
      "name": "python"
    }
  },
  "cells": [
    {
      "cell_type": "markdown",
      "source": [
        "# 10. Python 標準函式庫概覽 (Brief Tour of the Standard Library)"
      ],
      "metadata": {
        "id": "PQIcXIr7gLYO"
      }
    },
    {
      "cell_type": "markdown",
      "source": [
        "## 10.1 作業系統介面 (Operating System Interface)"
      ],
      "metadata": {
        "id": "FYqgIUwdgRxX"
      }
    },
    {
      "cell_type": "markdown",
      "source": [
        "* `os` 和 `shutil` 模組是 Python 進行檔案和系統管理的基礎。\n",
        "\n",
        "* 這兩個模組功能相輔相成：\n",
        "\n",
        "    * `os` 模組：提供了與作業系統互動的基礎功能，如路徑處理、目錄操作、執行命令等。\n",
        "\n",
        "    * `shutil` 模組：提供了更高階的檔案操作，像是複製、移動、刪除整個目錄樹等，讓日常管理任務更簡單。\n",
        "\n",
        "1. **作業系統介面 (`os` 模組)**\n",
        "\n",
        "    * `os` 模組提供了數十個與作業系統溝通的函式。\n",
        "\n",
        "    ```python\n",
        "    import os\n",
        "\n",
        "    # 1. 獲取目前的工作目錄 (Current Working Directory)\n",
        "    >>> os.getcwd()\n",
        "    'C:\\\\Python310'  # 範例輸出 (在 Windows 上)\n",
        "    # 在 Linux/macOS 上可能是 '/home/user'\n",
        "\n",
        "    # 2. 變更目前的工作目錄\n",
        "    >>> os.chdir('/server/accesslogs')\n",
        "    # 注意：路徑必須存在，否則會報錯\n",
        "\n",
        "    # 3. 執行系統 shell 命令\n",
        "    >>> os.system('mkdir today')  # 在 shell 中執行 'mkdir today' 命令\n",
        "    0  # 傳回值 0 通常代表執行成功\n",
        "    ```\n",
        "\n",
        "    * 重要提醒： 務必使用 `import os` 而非 `from os import *`。這將避免因系統不同而有實作差異的 `os.open()` 覆蓋內建函式 `open()`。\n",
        "\n",
        "    * `os` 模組的更多常用函式\n",
        "\n",
        "    ```python\n",
        "    # 4. 列出目錄內容\n",
        "    # 會回傳一個包含所有檔案和子目錄名稱的清單 (list)\n",
        "    >>> os.listdir('.')  # '.' 代表目前目錄\n",
        "    ['data.db', 'archive.db', 'today', 'README.txt']\n",
        "\n",
        "    # 5. 建立目錄\n",
        "    >>> os.mkdir('new_project')  # 只能建立一層目錄，如果 'new_project' 已存在會報錯\n",
        "\n",
        "    # 6. 遞迴建立多層目錄\n",
        "    # 這非常有用，例如你想建立 'a/b/c'\n",
        "    >>> os.makedirs('data/images/thumbnails', exist_ok=True)\n",
        "    # exist_ok=True 是一個好用的參數，如果目錄已經存在，它不會報錯\n",
        "\n",
        "    # 7. 刪除檔案\n",
        "    >>> os.remove('data.db')\n",
        "\n",
        "    # 8. 刪除 \"空\" 的目錄\n",
        "    >>> os.rmdir('today')  # 如果 'today' 目錄不是空的，會報錯\n",
        "\n",
        "    # 9. 獲取環境變數\n",
        "    # 這在讀取 API 金鑰或設定時非常有用\n",
        "    >>> os.getenv('PATH')\n",
        "    '/usr/bin:/bin:/usr/sbin:...'\n",
        "    >>> os.getenv('NON_EXISTENT_VAR')  # 如果變數不存在，回傳 None\n",
        "\n",
        "    # 你也可以用 os.environ 字典來存取\n",
        "    >>> os.environ['PATH']\n",
        "    # (同上，但如果變數不存在，會拋出 KeyError)\n",
        "\n",
        "    ```\n",
        "\n",
        "    * `os.path`：處理路徑的關鍵子模組\n",
        "\n",
        "        * 在 `os` 模組中，`os.path` 子模組對於處理檔案路徑至關重要，它能確保您的程式碼在 Windows, Linux 和 macOS 之間都能正確運作。\n",
        "    \n",
        "    ```python\n",
        "    import os\n",
        "\n",
        "    # 1. 智慧地拼接路徑 (非常重要！)\n",
        "    # 這是跨平台寫作的標準做法，它會自動使用正確的分隔符 ('\\' 或 '/')\n",
        "    >>> path1 = os.path.join('data', 'images', 'photo.jpg')\n",
        "    >>> print(path1)\n",
        "    # Windows 輸出: 'data\\\\images\\\\photo.jpg'\n",
        "    # Linux/macOS 輸出: 'data/images/photo.jpg'\n",
        "\n",
        "    # 2. 檢查路徑是否存在 (檔案或目錄)\n",
        "    >>> os.path.exists('data/images')\n",
        "    True\n",
        "\n",
        "    # 3. 檢查是否為檔案\n",
        "    >>> os.path.isfile('data/images/photo.jpg')\n",
        "    True\n",
        "\n",
        "    # 4. 檢查是否為目錄\n",
        "    >>> os.path.isdir('data/images')\n",
        "    True\n",
        "\n",
        "    # 5. 獲取檔案大小 (單位：bytes)\n",
        "    >>> os.path.getsize('data/images/photo.jpg')\n",
        "    123456  # 範例大小\n",
        "\n",
        "    # 6. 拆分路徑\n",
        "    >>> os.path.basename(path1)  # 獲取檔名\n",
        "    'photo.jpg'\n",
        "    >>> os.path.dirname(path1)   # 獲取目錄名\n",
        "    'data/images'\n",
        "    >>> os.path.split(path1)     # 將 (目錄, 檔名) 拆成一個 tuple\n",
        "    ('data/images', 'photo.jpg')\n",
        "    ```\n",
        "\n",
        "2. 高階檔案操作 (`shutil` 模組)\n",
        "\n",
        "    * 對於日常檔案和目錄管理任務，`shutil`（Shell Utilities）模組提供了更容易使用的高階介面。\n",
        "\n",
        "    * 基礎操作\n",
        "\n",
        "    ```python\n",
        "    import shutil\n",
        "\n",
        "    # 1. 複製檔案 (僅內容)\n",
        "    >>> shutil.copyfile('data.db', 'archive.db')\n",
        "    'archive.db'\n",
        "    # 注意：copyfile 只複製內容，不包含檔案權限等元資料 (metadata)\n",
        "\n",
        "    # 2. 移動 / 重新命名 檔案或目錄\n",
        "    >>> shutil.move('/build/executables', 'installdir')\n",
        "    'installdir'\n",
        "    # 這也可以用來重新命名檔案：shutil.move('old_name.txt', 'new_name.txt')\n",
        "    ```\n",
        "\n",
        "    * `shutil` 模組的更多常用函式\n",
        "\n",
        "    ```python\n",
        "    # 3. 複製檔案 (更推薦)\n",
        "    # copy 會嘗試保留檔案權限\n",
        "    >>> shutil.copy('data.db', 'backup_folder/')\n",
        "    # 如果第二個參數是目錄，它會將檔案複製到該目錄下\n",
        "\n",
        "    # 4. 複製檔案 (包含所有元資料)\n",
        "    # copy2 類似 copy，但會額外嘗試保留所有元資料，如最後修改時間\n",
        "    >>> shutil.copy2('data.db', 'archive_full.db')\n",
        "    'archive_full.db'\n",
        "\n",
        "    # 5. 遞迴複製整個目錄樹\n",
        "    # 這會將 'my_project' 目錄下的 \"所有\" 內容 (包含子目錄和檔案) 複製到 'project_backup'\n",
        "    >>> shutil.copytree('my_project', 'project_backup')\n",
        "    'project_backup'\n",
        "\n",
        "    # 6. 遞迴刪除整個目錄樹\n",
        "    # (!!!) 這是一個非常強大且危險的操作，請小心使用 (!!!)\n",
        "    # 它會刪除 'old_project' 目錄及其包含的所有內容，無論目錄是否為空\n",
        "    >>> shutil.rmtree('old_project')\n",
        "\n",
        "    # 7. 尋找程式執行檔的路徑 (像 Linux 的 'which' 命令)\n",
        "    >>> shutil.which('python')\n",
        "    '/usr/bin/python' # 範例輸出\n",
        "    >>> shutil.which('git')\n",
        "    'C:\\\\Program Files\\\\Git\\\\bin\\\\git.exe' # 範例輸出\n",
        "    ```\n",
        "\n",
        "3. 學習與探索\n",
        "\n",
        "    * 在使用 `os` 諸如此類大型模組時，搭配內建函式 `dir()` 和 `help()` 非常有用\n",
        "\n",
        "    ```python\n",
        "    >>> import os\n",
        "    >>> import shutil\n",
        "\n",
        "    # 查看模組提供了哪些功能\n",
        "    >>> dir(os)\n",
        "    <returns a list of all module functions>\n",
        "\n",
        "    >>> dir(shutil)\n",
        "    <returns a list of all module functions>\n",
        "\n",
        "    # 查看特定功能的詳細說明文件 (docstrings)\n",
        "    >>> help(os.path.join)\n",
        "    <returns extensive help on how to use os.path.join>\n",
        "\n",
        "    >>> help(shutil.copytree)\n",
        "    <returns extensive help on how to use shutil.copytree>\n",
        "    ```\n",
        "\n",
        "4. 總結：\n",
        "\n",
        "* `os`：處理路徑 (`os.path`)、讀取環境變數 (`os.getenv`)、建立/刪除空目錄 (`os.mkdir`, `os.rmdir`)、執行命令 (`os.system`)。\n",
        "\n",
        "* `shutil`：處理檔案 (`shutil.copy2`, `shutil.move`)、處理非空目錄 (`shutil.copytree`, `shutil.rmtree`)。\n",
        "\n",
        "* 最佳實踐：永遠使用 `os.path.join()` 來組合路徑，以確保您的程式碼可以跨平台執行。"
      ],
      "metadata": {
        "id": "M-cISE3ijHiy"
      }
    },
    {
      "cell_type": "markdown",
      "source": [
        "## 10.2 檔案之萬用字元 (File Wildcards)"
      ],
      "metadata": {
        "id": "63JgrCTqmJZk"
      }
    },
    {
      "cell_type": "markdown",
      "source": [
        "* `glob` 模組雖然小，但在需要批次處理檔案時非常實用。\n",
        "\n",
        "* 檔案萬用字元 (`glob` 模組)\n",
        "\n",
        "    * `glob` 模組提供了一個函式 `glob.glob()`，它可以使用類似 shell 在命令列中使用的「萬用字元」（Wildcards），來搜尋符合特定模式的檔案和目錄，並回傳一個包含所有匹配路徑的清單（list）。\n",
        "\n",
        "    * 基礎操作\n",
        "        \n",
        "        * glob 最常見的用法：找出目前目錄下所有符合特定副檔名的檔案。\n",
        "\n",
        "        ```python\n",
        "        import glob\n",
        "\n",
        "        # 找出所有以 .py 結尾的檔案\n",
        "        >>> glob.glob('*.py')\n",
        "        ['primes.py', 'random.py', 'quote.py'] # 範例輸出\n",
        "        ```\n",
        "\n",
        "* `glob` 模組的常用函式與用法\n",
        "\n",
        "    * `glob` 主要就是 `glob()` 這個函式，但它的強大之處在於靈活運用不同的萬用字元。\n",
        "\n",
        "1. 常用的萬用字元\n",
        "\n",
        "    * `*` (星號): 代表 0 個或多個任意字元。\n",
        "\n",
        "    * `?` (問號): 代表剛好 1 個任意字元。\n",
        "\n",
        "    * `[]` (方括號): 代表匹配方括號中指定的任一字元。\n",
        "\n",
        "    ```python\n",
        "    # 範例 1: 使用 * 匹配多個字元\n",
        "\n",
        "    # 找出所有 .txt 檔案\n",
        "    >>> glob.glob('*.txt')\n",
        "    ['log1.txt', 'notes.txt', 'readme.txt']\n",
        "\n",
        "    # 找出所有檔名以 'data' 開頭的檔案\n",
        "    >>> glob.glob('data*')\n",
        "    ['data_2024.csv', 'data_2025.csv', 'database.db']\n",
        "\n",
        "    # 找出檔名中包含 'report' 的檔案\n",
        "    >>> glob.glob('*report*.pdf')\n",
        "    ['final_report.pdf', 'report_summary.pdf', 'draft_report_v2.pdf']\n",
        "\n",
        "    # ---\n",
        "\n",
        "    # 範例 2: 使用 ? 匹配單一字元\n",
        "\n",
        "    # 找出檔名為 'log' 加上 \"剛好一個字元\" 再加上 '.csv' 的檔案\n",
        "    >>> glob.glob('log?.csv')\n",
        "    # 會匹配到: 'log1.csv', 'logA.csv', 'log9.csv'\n",
        "    # 不會匹配到: 'log10.csv' (因為 '10' 是兩個字元)\n",
        "\n",
        "    # ---\n",
        "\n",
        "    # 範例 3: 使用 [] 匹配特定字元\n",
        "\n",
        "    # 找出檔名為 'file' 加上 '1' 或 '2' 或 '3' 的檔案\n",
        "    >>> glob.glob('file[123].txt')\n",
        "    # 會匹配到: 'file1.txt', 'file2.txt', 'file3.txt'\n",
        "\n",
        "    # 使用連字號 '-' 表示範圍\n",
        "    # 找出檔名為 'image' 加上 '0' 到 '5' 之間的數字\n",
        "    >>> glob.glob('image[0-5].png')\n",
        "    ['image0.png', 'image1.png', 'image3.png', 'image5.png']\n",
        "\n",
        "    # 找出檔名為 'data' 加上 'a' 或 'b' 或 'c' 開頭的檔案\n",
        "    >>> glob.glob('data[a-c]*.csv')\n",
        "    ['data_apple.csv', 'data_banana.csv']\n",
        "    ```\n",
        "\n",
        "2. 遞迴搜尋 (搜尋子目錄)\n",
        "\n",
        "    * 在 Python 3.5+ 中，`glob` 變得更加強大。你可以使用 `**` 搭配 `recursive=True` 參數來遞迴地搜尋所有子目錄。\n",
        "\n",
        "    * `**`：代表匹配任意層級的目錄（包含 0 層，也就是目前目錄）。\n",
        "\n",
        "    ```python\n",
        "    # 範例 4: 遞迴搜尋所有 .py 檔案\n",
        "\n",
        "    # 假設你有以下目錄結構:\n",
        "    # .\n",
        "    # ├── main.py\n",
        "    # ├── project/\n",
        "    # │   ├── __init__.py\n",
        "    # │   └── utils.py\n",
        "    # └── data/\n",
        "    #     └── scripts/\n",
        "    #         └── process.py\n",
        "\n",
        "    # 在 \"所有\" 子目錄中找出 .py 檔案\n",
        "    >>> glob.glob('**/*.py', recursive=True)\n",
        "    [\n",
        "    'main.py',\n",
        "    'project/__init__.py',\n",
        "    'project/utils.py',\n",
        "    'data/scripts/process.py'\n",
        "    ]\n",
        "\n",
        "    # 範例 5: 只搜尋特定目錄下的所有 .csv 檔案\n",
        "\n",
        "    # 找出 'data/' 目錄及其所有子目錄下的 .csv 檔案\n",
        "    >>> glob.glob('data/**/*.csv', recursive=True)\n",
        "    ['data/report_2024.csv', 'data/archive/2023/sales.csv']\n",
        "    ```\n",
        "\n",
        "3. 搭配 `os` 模組使用\n",
        "\n",
        "    * `glob` 經常和 `os` 模組一起使用，例如 `os.path.join`，來建立跨平台的安全路徑。\n",
        "\n",
        "    ```python\n",
        "    import os\n",
        "\n",
        "    # 假設你想搜尋 'C:\\Users\\MyUser\\Documents' (Windows)\n",
        "    # 或 '/home/MyUser/Documents' (Linux)\n",
        "    search_path = os.path.join(os.getenv('HOME'), 'Documents', '*.pdf') # Linux/macOS\n",
        "    # (在 Windows 上，你可能需要用 os.getenv('USERPROFILE'))\n",
        "\n",
        "    # glob 會正確處理組合好的路徑\n",
        "    >>> glob.glob(search_path)\n",
        "    ['/home/MyUser/Documents/resume.pdf', '/home/MyUser/Documents/manual.pdf']\n",
        "    ```\n",
        "\n",
        "4. `iglob`：迭代器版本\n",
        "\n",
        "    * 如果預期匹配的檔案非常多（例如數十萬個），使用 `glob.glob()` 會一次將所有路徑載入記憶體，可能消耗大量資源。\n",
        "\n",
        "    * 這時，可以使用 `glob.iglob()`，它會回傳一個迭代器 (iterator)。迭代器允許你一次只處理一個檔案路徑，更節省記憶體。\n",
        "\n",
        "    ```python\n",
        "    # 範例 6: 處理大量日誌檔案\n",
        "\n",
        "    # 找出 'logs/' 目錄下所有的 .log 檔案\n",
        "    # 假設這裡有 100,000 個檔案\n",
        "    file_iterator = glob.iglob('logs/*.log')\n",
        "\n",
        "    # 這不會立刻載入所有檔名，而是等到 for 迴圈需要時才一個個抓\n",
        "    for filepath in file_iterator:\n",
        "        # 逐一處理檔案，例如讀取並分析\n",
        "        print(f\"Processing: {filepath}\")\n",
        "\n",
        "    # 這在遞迴搜尋時也同樣適用\n",
        "    recursive_iterator = glob.iglob('**/*.tmp', recursive=True)\n",
        "    for f in recursive_iterator:\n",
        "        print(f\"Deleting temp file: {f}\")\n",
        "        # os.remove(f) # 範例：可以搭配 os.remove 刪除\n",
        "    ```\n",
        "\n",
        "* 總結：\n",
        "\n",
        "    * `glob` 是你在 Python 中需要尋找符合特定模式的檔案時的首選工具。\n",
        "\n",
        "        * 用 `*`, `?`, `[]` 來定義你的搜尋模式。\n",
        "\n",
        "        * 當需要深入子目錄時，使用 `**` 配合 `recursive=True`。\n",
        "\n",
        "        * 當預期檔案數量非常多時，使用 `iglob()` 來節省記憶體。"
      ],
      "metadata": {
        "id": "2p8ymLT7mofU"
      }
    },
    {
      "cell_type": "markdown",
      "source": [
        "## 10.3. 命令列引數 (Command Line Arguments)\n",
        "\n",
        "當您在終端機執行一個 Python 腳本時，您可以在腳本名稱後面加上額外的資訊，這些就是「命令列引數」。"
      ],
      "metadata": {
        "id": "zKO9WPIP_X13"
      }
    },
    {
      "cell_type": "markdown",
      "source": [
        "1. 基本方式：`sys.argv` 模組\n",
        "\n",
        "* `sys` 模組是 Python 內建的系統相關模組。它有一個 `argv` 屬性 (argument vector)，這是一個字串列表 (list)，包含了所有傳遞給腳本的引數。\n",
        "\n",
        "    * `sys.argv[0]`：永遠是腳本自己的名稱。\n",
        "\n",
        "    * `sys.argv[1]`：是第一個引數。\n",
        "\n",
        "    * `sys.argv[2]`：是第二個引數，以此類推。\n",
        "\n",
        "* `sys.argv` 的缺點：\n",
        "    * 所有引數都是字串，需要手動轉型別和錯誤處理。\n",
        "\n",
        "    * 難以處理「選用引數」(optional arguments) 或「旗標」(flags)，例如 `-l` 或 `--lines`。\n",
        "\n",
        "    * 需要手動撰寫說明文件 (例如 `-h` 或 `--help`)。\n",
        "\n",
        "\n",
        "2. 進階且推薦的方式：`argparse` 模組\n",
        "\n",
        "* `argparse` 模組（Python 內建）是處理命令列引數的黃金標準。它讓您定義腳本需要哪些引數，然後它會自動從 `sys.argv` 中解析這些引數，並免費提供強大的功能：\n",
        "\n",
        "    * 自動進行型別轉換 (如 `type=int`)。\n",
        "\n",
        "    * 設定預設值 (如 `default=10`)。\n",
        "\n",
        "    * 自動產生 `-h` 或 `--help` 說明訊息。\n",
        "\n",
        "    * 輕鬆處理「位置引數」(Positional) 和「選用引數」(Optional)。"
      ],
      "metadata": {
        "id": "RJKyXDI-_3ph"
      }
    },
    {
      "cell_type": "code",
      "source": [
        "# 範例\n",
        "# 以下腳本可擷取一個或多個檔案名稱，並可選擇要顯示的行數：\n",
        "\n",
        "# top.py\n",
        "import argparse\n",
        "\n",
        "# 1. 建立解析器 (Parser)\n",
        "parser = argparse.ArgumentParser(\n",
        "    prog='top',    # 程式名稱 (顯示在 help 訊息中)\n",
        "    description='從每個檔案中顯示開頭的幾行'    # 程式描述\n",
        ")\n",
        "\n",
        "# 2. 新增引數\n",
        "# 'filenames' 是一個 \"位置引數\" (Positional Argument)\n",
        "# 位置引數是必要的 (除非有特殊設定)\n",
        "parser.add_argument('filenames',\n",
        "                    nargs='+',  # nargs='+' 代表 \"1 個或多個\"\n",
        "                    help='要處理的檔案名稱列表')\n",
        "\n",
        "# '--lines' 是一個 \"選用引數\" (Optional Argument)\n",
        "# 因為它以 '-' 或 '--' 開頭\n",
        "parser.add_argument('-l', '--lines',    # '-l' 是簡寫, '--lines' 是全名\n",
        "                    type=int,           # 自動將輸入值轉為 int\n",
        "                    default=10,         # 如果使用者未提供此引數，預設值為 10\n",
        "                    help='要顯示的行數 (預設: 10)')\n",
        "\n",
        "# 3. 解析引數\n",
        "# parse_args() 會自動從 sys.argv 讀取引數\n",
        "args = parser.parse_args()\n",
        "\n",
        "# 4. 使用引數\n",
        "print(args) # args 是一個物件，儲存了所有解析後的引數\n",
        "\n",
        "# --- 實際應用 ---\n",
        "print(f\"\\n將顯示 {args.lines} 行，從 {len(args.filenames)} 個檔案中：\")\n",
        "for filename in args.filenames:\n",
        "    print(f\"正在處理 {filename}...\")\n",
        "    # (此處可以加入 open(filename) ... 等實際讀取檔案的程式碼)\n"
      ],
      "metadata": {
        "id": "JZzL4PI8hcEk"
      },
      "execution_count": null,
      "outputs": []
    },
    {
      "cell_type": "markdown",
      "source": [
        "執行結果：\n",
        "\n",
        "* 執行 `python top.py --lines=5 alpha.txt beta.txt`\n",
        "\n",
        "    * `argparse` 會解析 `sys.argv` (`['top.py', '--lines=5', 'alpha.txt', 'beta.txt']`)\n",
        "\n",
        "    * `print(args)` 的輸出會是：`Namespace(filenames=['alpha.txt', 'beta.txt'], lines=5)`\n",
        "\n",
        "    * `args.lines` 會是 `5` (int)\n",
        "\n",
        "    * `args.filenames` 會是 `['alpha.txt', 'beta.txt']` (list)\n",
        "\n",
        "* 執行 `python top.py notes.txt` (不提供 `--lines`)\n",
        "\n",
        "    * `print(args)` 的輸出會是：`Namespace(filenames=['notes.txt'], lines=10)`\n",
        "\n",
        "    * `args.lines` 會使用預設值 `10`\n",
        "\n",
        "\n",
        "* `argparse` 的強大之處：免費的 `--help` 訊息\n",
        "\n",
        "    * 如果您執行 `python top.py --help` 或 `python top.py -h`，`argparse` 會自動產生說明文件：\n",
        "\n",
        "    ```\n",
        "    usage: top [-h] [-l LINES] filenames [filenames ...]\n",
        "\n",
        "    從每個檔案中顯示開頭的幾行\n",
        "\n",
        "    positional arguments:\n",
        "    filenames             要處理的檔案名稱列表\n",
        "\n",
        "    options:\n",
        "    -h, --help            show this help message and exit\n",
        "    -l LINES, --lines LINES\n",
        "                        要顯示的行數 (預設: 10)\n",
        "    ```"
      ],
      "metadata": {
        "id": "rqS75hXITf2J"
      }
    },
    {
      "cell_type": "markdown",
      "source": [
        "* `argparse` 的更多實用範例\n",
        "\n",
        "**範例 1：布林旗標 (Boolean Flag / Switch)**\n",
        "\n",
        "* 有時候您只需要一個「開關」，例如 `--verbose` (囉嗦模式) 或 `--quiet` (安靜模式)。"
      ],
      "metadata": {
        "id": "lXHpLEcvUyC4"
      }
    },
    {
      "cell_type": "code",
      "source": [
        "import argparse\n",
        "parser = argparse.ArgumentParser()\n",
        "\n",
        "# action='store_true' 的意思是：\n",
        "# 如果提供了 -v 或 --verbose，就將 args.verbose 設為 True\n",
        "# 如果沒提供，預設為 False\n",
        "parser.add_argument('-v', '--verbose',\n",
        "                    action='store_true',\n",
        "                    help='開啟詳細資訊模式')\n",
        "\n",
        "args = parser.parse_args()\n",
        "\n",
        "if args.verbose:\n",
        "    print(\"詳細模式已開啟。\")\n",
        "else:\n",
        "    print(\"標準模式。\")\n"
      ],
      "metadata": {
        "id": "9zvv4B81BA_0"
      },
      "execution_count": null,
      "outputs": []
    },
    {
      "cell_type": "markdown",
      "source": [
        "* 執行 `python script.py` -> 輸出: `標準模式。` (`args.verbose` 是 `False`)\n",
        "\n",
        "* 執行 `python script.py -v` -> 輸出: `詳細模式已開啟。` (`args.verbose` 是 `True`)"
      ],
      "metadata": {
        "id": "pCvD_5yMWT_c"
      }
    },
    {
      "cell_type": "markdown",
      "source": [
        "**範例 2：限定選項 (Choices)**\n",
        "\n",
        "* 您可以限制引數只能是某幾個特定的值。"
      ],
      "metadata": {
        "id": "TYSfbXuUXrxJ"
      }
    },
    {
      "cell_type": "code",
      "source": [
        "import argparse\n",
        "parser = argparse.ArgumentParser()\n",
        "\n",
        "parser.add_argument('--mode',\n",
        "                    choices=['dev', 'prod', 'test'],    # 只能是這三者之一\n",
        "                    default='dev',\n",
        "                    help='設定執行模式')\n",
        "\n",
        "args = parser.parse_args()\n",
        "print(f\"目前模式: {args.mode}\")"
      ],
      "metadata": {
        "id": "XNNVuOa8D7kC"
      },
      "execution_count": null,
      "outputs": []
    },
    {
      "cell_type": "markdown",
      "source": [
        "* 執行 `python script.py --mode prod` -> 輸出: `目前模式: prod`\n",
        "\n",
        "* 執行 `python script.py --mode staging`\n",
        "\n",
        "    * `argparse` 會自動報錯並退出：\n",
        "\n",
        "    * `usage: script.py [-h] [--mode {dev,prod,test}]`\n",
        "\n",
        "    * `script.py: error: argument --mode: invalid choice: 'staging' (choose from 'dev', 'prod', 'test')`"
      ],
      "metadata": {
        "id": "IHGJOat-Eegk"
      }
    },
    {
      "cell_type": "markdown",
      "source": [
        "總結：\n",
        "\n",
        "* `sys.argv`：簡單、快速，適用於只有一兩個簡單引數的小腳本。\n",
        "\n",
        "* `argparse`：功能強大、穩健，是撰寫任何「工具型」或「給他人使用」的腳本時的標準首選。它能自動處理型別、預設值、錯誤和說明文件。"
      ],
      "metadata": {
        "id": "Q5TbhM_QE0o9"
      }
    },
    {
      "cell_type": "markdown",
      "source": [
        "## 10.4. 錯誤輸出重新導向與程式終止 (Error Output Redirection and Program Termination)\n",
        "\n",
        "* `sys` 模組提供了三個標準的「I/O 串流」(stream)，它們是 Python 與終端機溝通的橋樑：\n",
        "\n",
        "    * `sys.stdin` (標準輸入): 預設是您的鍵盤。`input()` 函式就是從這裡讀取資料。\n",
        "\n",
        "    * `sys.stdout` (標準輸出): 預設是您的螢幕。`print()` 函式預設會將內容寫入到這裡。\n",
        "\n",
        "    * `sys.stderr` (標準錯誤輸出): 預設也是您的螢幕。它專門用來輸出警告和錯誤訊息。"
      ],
      "metadata": {
        "id": "RgbxBpllFAU8"
      }
    },
    {
      "cell_type": "markdown",
      "source": [
        "1. `stdout` 與 `stderr` 的區別 (為何重要)\n",
        "\n",
        "    * `stdout` 用於程式的「正常」輸出 (結果)，而 `stderr` 用於錯誤、警告或日誌訊息。\n",
        "\n",
        "    * 這樣區分的最大好處是，您可以將「乾淨的資料」和「吵雜的錯誤訊息」分開。\n",
        "\n",
        "基礎範例：\n",
        "\n",
        "* 即使您將 `stdout` 重新導向（例如存到檔案中），`stderr` 仍然會顯示在您的螢幕上，讓您能即時看到問題。\n",
        "\n",
        "```python\n",
        ">>> import sys\n",
        "\n",
        "# 試著寫入一條警告訊息到 \"標準錯誤\"\n",
        ">>> sys.stderr.write('Warning, log file not found starting a new one\\n')\n",
        "Warning, log file not found starting a new one\n",
        "```\n",
        "\n",
        "注意：`.write()` 是個較低階的函式，它不會自動換行，所以我們手動加上 `\\n`。"
      ],
      "metadata": {
        "id": "Wz6c3tM3QGcy"
      }
    },
    {
      "cell_type": "markdown",
      "source": [
        "實戰範例：重新導向\n",
        "\n",
        "* 讓我們建立一個腳本 `demo.py` 來看看實際效果：\n",
        "```python\n",
        "# demo.py\n",
        "import sys\n",
        "\n",
        "# 1. 寫入 \"標準輸出\" (正常的資料)\n",
        "sys.stdout.write(\"這是正常的資料輸出 (stdout)\\n\")\n",
        "\n",
        "# 2. 寫入 \"標準錯誤\" (錯誤/警告)\n",
        "sys.stderr.write(\"這是一個錯誤訊息 (stderr)\\n\")\n",
        "\n",
        "# 3. 再次寫入 \"標準輸出\"\n",
        "sys.stdout.write(\"這是另一筆正常的資料 (stdout)\\n\")\n",
        "```\n",
        "\n",
        "在您的終端機 (命令列) 中執行：\n",
        "\n",
        "* **情況 1：正常執行**\n",
        "    * 如果您直接執行它，`stdout` 和 `stderr` 都會印在螢幕上：\n",
        "\n",
        "    ```bash\n",
        "    $ python demo.py\n",
        "    這是正常的資料輸出 (stdout)\n",
        "    這是一個錯誤訊息 (stderr)\n",
        "    這是另一筆正常的資料 (stdout)\n",
        "    ```\n",
        "\n",
        "* **情況 2：重新導向**\n",
        "    * `stdout` (關鍵！) 使用 `>` 符號，您可以將 `stdout` 的內容「重新導向」到一個檔案中，例如 `data.txt`。\n",
        "\n",
        "    ```bash\n",
        "    $ python demo.py > data.txt\n",
        "    ```\n",
        "\n",
        "    * 執行結果：\n",
        "\n",
        "        * 在您的螢幕上 (終端機)：\n",
        "            ```\n",
        "            這是一個錯誤訊息 (stderr)\n",
        "            ```\n",
        "            * (注意！只有 `stderr` 的訊息出現了，讓您立刻看到發生了錯誤。)\n",
        "\n",
        "        * 在 `data.txt` 檔案中：\n",
        "            ```\n",
        "            這是正常的資料輸出 (stdout)\n",
        "            這是另一筆正常的資料 (stdout)\n",
        "            ```\n",
        "            * (檔案中只包含「乾淨」的資料，沒有被錯誤訊息汙染。)"
      ],
      "metadata": {
        "id": "FpydDKRYQxeF"
      }
    },
    {
      "cell_type": "markdown",
      "source": [
        "**`print()` 的進階用法 (更推薦)**\n",
        "\n",
        "* 在 Python 3+，您不需要使用 `sys.stderr.write()`。`print()` 函式有一個 `file` 參數，讓您可以輕鬆地將訊息印到 `stderr`：\n",
        "\n",
        "```python\n",
        "import sys\n",
        "\n",
        "print(\"這是一筆正常資料。\") # 預設 file=sys.stdout\n",
        "print(\"錯誤：找不到必要的設定！\", file=sys.stderr)\n",
        "print(\"處理完成。\")\n",
        "```\n",
        "\n",
        "* 這是在 Python 中印出錯誤訊息的最佳實踐。"
      ],
      "metadata": {
        "id": "8ths5AjESa3K"
      }
    },
    {
      "cell_type": "markdown",
      "source": [
        "2. 程式終止 (`sys.exit()`)\n",
        "\n",
        "* 終止腳本最直接的方式就是利用 `sys.exit()`。\n",
        "\n",
        "    * 當您的程式遇到無法繼續的嚴重錯誤時（例如：必要的檔案不存在、網路連線失敗），您應該使用 `sys.exit()` 來立即停止腳本執行。\n",
        "\n",
        "    * 更重要的是：`sys.exit()` 可以傳回一個「結束代碼」(Exit Code)。\n",
        "\n",
        "        * 結束代碼 `0`：代表成功。\n",
        "\n",
        "        * 非 0 的數字 (通常是 `1`)：代表失敗或錯誤。\n",
        "\n",
        "    * 這對於其他程式或 shell 腳本來說非常有用，它們可以根據您的腳本是成功 (0) 還是失敗 (非 0) 來決定下一步要做什麼。"
      ],
      "metadata": {
        "id": "bCZwul3gUT_3"
      }
    },
    {
      "cell_type": "code",
      "source": [
        "# check_file.py\n",
        "import sys\n",
        "import os\n",
        "\n",
        "# 檢查使用者是否提供了足夠的引數 (至少 1 個)\n",
        "if len(sys.argv) < 2:\n",
        "    print(f\"用法錯誤: {sys.argv[0]} <filename>\", file=sys.stderr)\n",
        "    sys.exit(1) # 傳回錯誤代碼 1，代表 \"用法錯誤\"\n",
        "\n",
        "# 獲取檔名\n",
        "filename = sys.argv[1]\n",
        "\n",
        "# 檢查檔案是否存在\n",
        "if not os.path.exists(filename):\n",
        "    print(f\"錯誤: 檔案 '{filename}' 不存在。\", file=sys.stderr)\n",
        "    sys.exit(2) # 傳回錯誤代碼 2，代表 \"檔案找不到\"\n",
        "\n",
        "# 如果一切正常...\n",
        "print(f\"成功: 檔案 '{filename}' 存在。\")\n",
        "sys.exit(0) # 傳回成功代碼 0"
      ],
      "metadata": {
        "id": "m_drb_j2SQW8"
      },
      "execution_count": null,
      "outputs": []
    },
    {
      "cell_type": "markdown",
      "source": [
        "在終端機中執行：\n",
        "\n",
        "* 情況 1：用法錯誤\n",
        "\n",
        "    ```\n",
        "    $ python check_file.py\n",
        "    用法錯誤: check_file.py <filename>\n",
        "    ```\n",
        "\n",
        "* 情況 2：檔案不存在\n",
        "\n",
        "    ```\n",
        "    $ python check_file.py non_existent_file.txt\n",
        "    錯誤: 檔案 'non_existent_file.txt' 不存在。\n",
        "    ```\n",
        "\n",
        "* 情況 3：成功 (假設您有一個 `demo.py` 檔案)\n",
        "\n",
        "    ```\n",
        "    $ python check_file.py demo.py\n",
        "    成功: 檔案 'demo.py' 存在。\n",
        "    ```\n",
        "\n",
        "* 在 Linux/macOS 中，您可以用 `echo $?` 來查看上一個命令的結束代碼；\n",
        "* 在 Windows 中用 `echo %ERRORLEVEL%`。這在自動化腳本中非常有用。"
      ],
      "metadata": {
        "id": "Fr0CIJA9VYOh"
      }
    },
    {
      "cell_type": "markdown",
      "source": [
        "總結：\n",
        "\n",
        "* 使用 `print(..., file=sys.stderr)` 來輸出錯誤和警告。\n",
        "\n",
        "* 使用 `sys.exit(0)` 來表示腳本成功結束。\n",
        "\n",
        "* 使用 `sys.exit(非 0 數字)` 來表示腳本因錯誤而終止。"
      ],
      "metadata": {
        "id": "mHioRiVgWqag"
      }
    },
    {
      "cell_type": "markdown",
      "source": [
        "## 10.5. 字串樣式比對 (String Pattern Matching)"
      ],
      "metadata": {
        "id": "XqTXm4DhfsG-"
      }
    },
    {
      "cell_type": "markdown",
      "source": [
        "* `re`（正規表示式）是一個極其強大的工具，\n",
        "\n",
        "    * 但「殺雞焉用牛刀」，如果簡單的字串方法 (string methods) 能解決問題，就應該優先使用它們。\n",
        "\n",
        "* 在 Python 中處理字串時，您有兩種主要的選擇：\n",
        "\n",
        "    1. **字串內建方法 (String Methods)**：用於固定的、簡單的字串操作（如替換、尋找、分割）。可讀性高，易於除錯。\n",
        "\n",
        "    2. **`re` 模組 (正規表示式)**：用於複雜的、模式(Pattern)導向的比對與操作（如驗證 Email 格式、擷取所有數字、移除重複的單字）。"
      ],
      "metadata": {
        "id": "y6kSdWKuhtGm"
      }
    },
    {
      "cell_type": "markdown",
      "source": [
        "1. 基礎：字串內建方法 (String Methods)\n",
        "\n",
        "    * 當您只需要處理簡單、固定的字串時，使用字串本身的方法是比較建議的，因為可讀性高。"
      ],
      "metadata": {
        "id": "CxdYJIwviHP7"
      }
    },
    {
      "cell_type": "code",
      "source": [
        "'tea for too'.replace('too', 'two')"
      ],
      "metadata": {
        "colab": {
          "base_uri": "https://localhost:8080/",
          "height": 35
        },
        "id": "-Uw_mwcXhcVB",
        "outputId": "8ec144b8-47e4-4d49-9aec-c370f1717481"
      },
      "execution_count": null,
      "outputs": [
        {
          "output_type": "execute_result",
          "data": {
            "text/plain": [
              "'tea for two'"
            ],
            "application/vnd.google.colaboratory.intrinsic+json": {
              "type": "string"
            }
          },
          "metadata": {},
          "execution_count": 3
        }
      ]
    },
    {
      "cell_type": "code",
      "source": [
        "text = \"  Hello, World! Welcome to Python.  \"\n",
        "\n",
        "# 1. .strip() - 移除開頭和結尾的空白\n",
        "print(text.strip())\n",
        "\n",
        "# 2. .startswith() / .endswith() - 檢查開頭/結尾\n",
        "print(text.strip().startswith('Hello'))\n",
        "print(text.strip().endswith('Java'))\n",
        "\n",
        "# 3. .find() - 尋找子字串的 \"第一個\" 索引\n",
        "print(text.find('World'))   # 'W' 在索引 9 的位置\n",
        "print(text.find('Mars'))    # 找不到時回傳 -1\n",
        "\n",
        "# 4. .split() - 用 \"固定\" 的分隔符號分割字串\n",
        "csv_line = \"apple,banana,orange\"\n",
        "print(csv_line.split(','))\n",
        "\n",
        "# 5. .lower() / .upper() - 轉換大小寫\n",
        "print(\"Python\".lower())"
      ],
      "metadata": {
        "id": "GUqeTBA_iRCx",
        "colab": {
          "base_uri": "https://localhost:8080/"
        },
        "outputId": "4d0c5171-c3b7-4e0f-d9f2-d4a4c2914647"
      },
      "execution_count": null,
      "outputs": [
        {
          "output_type": "stream",
          "name": "stdout",
          "text": [
            "Hello, World! Welcome to Python.\n",
            "True\n",
            "False\n",
            "9\n",
            "-1\n",
            "['apple', 'banana', 'orange']\n",
            "python\n"
          ]
        }
      ]
    },
    {
      "cell_type": "markdown",
      "source": [
        "何時會不夠用？ 如果您想「用逗號 或 分號」來分割，`split()` 就做不到了。這時 `re` 就派上用場了。"
      ],
      "metadata": {
        "id": "D0s19UkwjFX4"
      }
    },
    {
      "cell_type": "markdown",
      "source": [
        "2. 進階：正規表示式 (`re` 模組)\n",
        "\n",
        "    * `re` 模組提供正規表示式 (Regular Expression) 來做進階的字串處理。\n",
        "        \n",
        "        * 當要處理複雜的比對以及基於模式的操作時，正規表示式是簡潔且經過最佳化的解決方案。\n",
        "\n",
        "    * 一個重要提示： 在 Python 中定義 regex 模式時，請一律使用「原始字串」(Raw String)，在字串前加上 `r` (例如 `r'\\n'` 而非 `'\\n'`)。 這能防止 Python 誤解 `\\` 符號（例如 `\\b` 在 Python 字串中是「退格鍵」，但在 regex 中是「單字邊界」）。使用 `r'\\b'` 能確保它被當作 regex 的 `\\b`。"
      ],
      "metadata": {
        "id": "YITPFX7hjM5T"
      }
    },
    {
      "cell_type": "code",
      "source": [
        "import re\n",
        "\n",
        "# 1. re.findall() - 找出所有匹配的字串\n",
        "# 模式 r'\\bf[a-z]*' 的意思是：\n",
        "# \\b : 必須是 \"單字邊界\" (word boundary)，確保 'f' 是一個單字的開頭\n",
        "# f  : 必須以 'f' 開頭\n",
        "# [a-z]* : 後面跟著 0 個或多個 ( * ) 小寫字母 ( [a-z] )\n",
        "print(re.findall(r'\\bf[a-z]*', 'which foot or hand fell fastest'))\n",
        "\n",
        "# (如果沒有 \\b，它也會匹配到 'which' 裡面的 'hich'，如果模式是 r'h[a-z]*')\n",
        "\n",
        "# 2. re.sub() - 搜尋並替換\n",
        "# 模式 r'(\\b[a-z]+) \\1' 的意思是：\n",
        "# (\\b[a-z]+) : ( ) 是一個 \"擷取組 (Group 1)\"。\n",
        "#             \\b[a-z]+ 匹配一個 \"完整的單字\"\n",
        "#            : 後面跟著一個空格\n",
        "# \\1         : \"反向參考 (backreference)\"，代表「必須匹配跟 Group 1 完全一樣的內容」\n",
        "#\n",
        "# 替換 r'\\1' 的意思是：\n",
        "# 把 \"單字 + 空格 + 重複的單字\" (例如 'the the') 替換成 \"只有 Group 1 的內容\" (例如 'the')\n",
        "print(re.sub(r'(\\b[a-z]+) \\1', r'\\1', 'cat in the the hat'))"
      ],
      "metadata": {
        "colab": {
          "base_uri": "https://localhost:8080/"
        },
        "id": "W95JflDIi-Bt",
        "outputId": "2451960a-ba16-46df-c9b6-2b43036813cc"
      },
      "execution_count": null,
      "outputs": [
        {
          "output_type": "stream",
          "name": "stdout",
          "text": [
            "['foot', 'fell', 'fastest']\n",
            "cat in the hat\n"
          ]
        }
      ]
    },
    {
      "cell_type": "markdown",
      "source": [
        "**`re` 模組的更多常用函式與用法**\n",
        "\n"
      ],
      "metadata": {
        "id": "NzO_vRZfkPu3"
      }
    },
    {
      "cell_type": "markdown",
      "source": [
        "1. `re.search(pattern, string)` - 尋找「第一個」匹配項\n",
        "\n",
        "    * `re.search()` 會掃描整個字串，並回傳第一個匹配的「Match 物件」，如果找不到則回傳 `None`。\n",
        "    \n",
        "        * 這非常適合用來「驗證」字串是否包含某種模式。"
      ],
      "metadata": {
        "id": "8ThfuoFukUhT"
      }
    },
    {
      "cell_type": "code",
      "source": [
        "text = \"User's email is example@domain.com, please contact him.\"\n",
        "\n",
        "# 模式：(一個或多個單字字元) + @ + (一個或多個單字字元) + . + (一個或多個單字字元)\n",
        "# \\w+ : 1 個以上的 [a-zA-Z0-9_]\n",
        "# \\.  : 匹配真正的 '.' 符號 (因為 '.' 在 regex 中是特殊字元)\n",
        "pattern = r'[\\w.-]+@[\\w.-]+\\.[\\w]+'\n",
        "\n",
        "match = re.search(pattern, text)\n",
        "\n",
        "if match:\n",
        "    print(f\"找到了 Email: {match.group(0)}\") # .group(0) 或 .group() 回傳完整匹配的字串\n",
        "else:\n",
        "    print(\"沒有找到 Email。\")"
      ],
      "metadata": {
        "colab": {
          "base_uri": "https://localhost:8080/"
        },
        "id": "HTX97li4j8rm",
        "outputId": "acd2524d-2a6f-4d60-ae37-a0650a699f6c"
      },
      "execution_count": null,
      "outputs": [
        {
          "output_type": "stream",
          "name": "stdout",
          "text": [
            "找到了 Email: example@domain.com\n"
          ]
        }
      ]
    },
    {
      "cell_type": "markdown",
      "source": [
        "2. `re.match(pattern, string)` - 從「開頭」開始匹配\n",
        "\n",
        "    * `re.match()` 只會從字串的開頭（索引 `0`）開始嘗試匹配。如果開頭不符，就立刻回傳 `None`。\n",
        "\n",
        "        * 這適合用來「驗證」整個字串是否符合特定格式。"
      ],
      "metadata": {
        "id": "RozkM-ouoSWL"
      }
    },
    {
      "cell_type": "code",
      "source": [
        "# 範例：驗證 SKU (商品編號) 是否為 'SKU-12345' 格式\n",
        "pattern = r'SKU-\\d{5}' # \\d{5} 代表 5 個數字\n",
        "\n",
        "a = re.match(pattern, 'SKU-12345')\n",
        "# <re.Match object; span=(0, 9), match='SKU-12345'>\n",
        "print(a)\n",
        "\n",
        "b = re.match(pattern, 'Product SKU-12345') # 開頭不是 'SKU'\n",
        "# None # 匹配失敗\n",
        "print(b)\n",
        "\n",
        "# re.search 則會在中間找到\n",
        "c = re.search(pattern, 'Product SKU-12345')\n",
        "# <re.Match object; span=(8, 17), match='SKU-12345'>\n",
        "print(c)"
      ],
      "metadata": {
        "colab": {
          "base_uri": "https://localhost:8080/"
        },
        "id": "kepfWKd-kofz",
        "outputId": "85ecbb84-7ae5-4e42-9d20-f6a53528d32f"
      },
      "execution_count": null,
      "outputs": [
        {
          "output_type": "stream",
          "name": "stdout",
          "text": [
            "<re.Match object; span=(0, 9), match='SKU-12345'>\n",
            "None\n",
            "<re.Match object; span=(8, 17), match='SKU-12345'>\n"
          ]
        }
      ]
    },
    {
      "cell_type": "markdown",
      "source": [
        "3. `re.split(pattern, string)` - 用「模式」分割\n",
        "\n",
        "    * 這比 `str.split()` 強大。您可以用「多種」或「不固定」的分隔符來分割。"
      ],
      "metadata": {
        "id": "FjrSp7SyqfIB"
      }
    },
    {
      "cell_type": "code",
      "source": [
        "text = \"apple,banana;cherry orange\\tgrape\" # 混雜了 4 種分隔符\n",
        "\n",
        "# 模式 r'[,\\s;]+' 的意思是：\n",
        "# [,\\s;] : 匹配 ',' 或 ' ' (空白) 或 '\\t' (Tab) 或 ';'\n",
        "# +       : 匹配 1 次或多次 (這可以處理 'apple,,banana' 這樣連續的分隔符)\n",
        "# (\\s 代表任何空白字元，包含空格、Tab、換行)\n",
        "\n",
        "re.split(r'[,\\s;]+', text)"
      ],
      "metadata": {
        "colab": {
          "base_uri": "https://localhost:8080/"
        },
        "id": "P79TQbtEoq1T",
        "outputId": "67b3c9b4-c29d-42b8-eb2e-ad7b5f6d9c04"
      },
      "execution_count": null,
      "outputs": [
        {
          "output_type": "execute_result",
          "data": {
            "text/plain": [
              "['apple', 'banana', 'cherry', 'orange', 'grape']"
            ]
          },
          "metadata": {},
          "execution_count": 9
        }
      ]
    },
    {
      "cell_type": "markdown",
      "source": [
        "4. `re.sub(pattern, replacement, string)` - 強大的替換\n",
        "\n",
        "    * `re.sub()` 可以用模式來替換。"
      ],
      "metadata": {
        "id": "ilprSTH_rHeT"
      }
    },
    {
      "cell_type": "code",
      "source": [
        "# 範例：將所有 \"數字\" 替換為 [REDACTED]\n",
        "text = \"My phone is 0912-345-678, my order ID is 98765.\"\n",
        "\n",
        "# \\d+ : 匹配 1 個或多個連續的數字\n",
        "a = re.sub(r'\\d+', '[REDACTED]', text)\n",
        "print(a)\n",
        "\n",
        "# 範例：只替換連字號\n",
        "b = re.sub(r'-', ' ', text)\n",
        "print(b)"
      ],
      "metadata": {
        "colab": {
          "base_uri": "https://localhost:8080/"
        },
        "id": "nDC6ZD8FrB-N",
        "outputId": "24b525e9-ce18-4b68-a583-e8488a52b068"
      },
      "execution_count": null,
      "outputs": [
        {
          "output_type": "stream",
          "name": "stdout",
          "text": [
            "My phone is [REDACTED]-[REDACTED]-[REDACTED], my order ID is [REDACTED].\n",
            "My phone is 0912 345 678, my order ID is 98765.\n"
          ]
        }
      ]
    },
    {
      "cell_type": "markdown",
      "source": [
        "5. `re.findall(pattern, string)` - 找出「所有」匹配項\n",
        "\n",
        "    * 這是擷取資料最好用的函式之一。"
      ],
      "metadata": {
        "id": "8dCQRoH1rg8P"
      }
    },
    {
      "cell_type": "code",
      "source": [
        "# 範例：從一段文字中擷取所有的 \"標籤\" (Hashtags)\n",
        "text = \"This is a #great day for #Python and #Regex! #learning\"\n",
        "\n",
        "# 模式 r'#\\w+' 的意思是：\n",
        "# # : 匹配 '#' 符號\n",
        "# \\w+ : 匹配 1 個或多個 \"單字字元\" (字母, 數字, 底線)\n",
        "re.findall(r'#\\w+', text)"
      ],
      "metadata": {
        "colab": {
          "base_uri": "https://localhost:8080/"
        },
        "id": "_69oi3eTrXVn",
        "outputId": "2b81a905-ec6a-4766-daa4-c978cf2afb2c"
      },
      "execution_count": null,
      "outputs": [
        {
          "output_type": "execute_result",
          "data": {
            "text/plain": [
              "['#great', '#Python', '#Regex', '#learning']"
            ]
          },
          "metadata": {},
          "execution_count": 12
        }
      ]
    },
    {
      "cell_type": "markdown",
      "source": [
        "**總結建議**\n",
        "\n",
        "1. 優先使用字串方法：如果您的需求是「把 'A' 換成 'B'」、「檢查是否以 'http' 開頭」、「用 ',' 分割」，請使用 `.replace()`, `.startswith()`, `.split()`。\n",
        "\n",
        "2. 升級到 `re` 模組：當您的需求變成：\n",
        "\n",
        "    * 「把『重複的單字』換成『單個單字』」 (-> `re.sub`)\n",
        "\n",
        "    * 「檢查是否 看起來 像一個 Email」 (-> `re.search`)\n",
        "\n",
        "    * 「用『逗號、分號或空格』分割」 (-> `re.split`)\n",
        "\n",
        "    * 「找出所有『$』符號後面的數字」 (-> `re.findall`)"
      ],
      "metadata": {
        "id": "GXOzf5nMrsre"
      }
    },
    {
      "cell_type": "markdown",
      "source": [
        "## 10.6. 數學相關 (Mathematics)"
      ],
      "metadata": {
        "id": "_vw18_hesRcZ"
      }
    },
    {
      "cell_type": "markdown",
      "source": [
        "Python 在其「標準函式庫」中內建了許多強大的**數學**、**隨機數**和**統計模組**。\n",
        "\n",
        "1. **`math` 模組 (數學運算)**\n",
        "\n",
        "    * `math` 模組提供了 C 函式庫中底層的浮點數運算的函式。\n",
        "    * 它專注於**精確的浮點數數學**，但不包含複數 (complex numbers，複數有專門的 `cmath` 模組)。"
      ],
      "metadata": {
        "id": "n3S9F1B2e0Fv"
      }
    },
    {
      "cell_type": "code",
      "source": [
        "import math\n",
        "\n",
        "# 三角函數 (cos)，參數是 \"弧度\" (radians)\n",
        "print(math.cos(math.pi / 4))   # math.pi 是圓周率 (π)\n",
        "\n",
        "# 對數 (Logarithm)\n",
        "print(math.log(1024, 2)) # 1024 以 2 為底的對數 (log₂(1024))\n"
      ],
      "metadata": {
        "colab": {
          "base_uri": "https://localhost:8080/"
        },
        "id": "aTCDS_3Ycrc_",
        "outputId": "de299abb-2d30-4b6b-ddc3-2daeb87a7d08"
      },
      "execution_count": null,
      "outputs": [
        {
          "output_type": "stream",
          "name": "stdout",
          "text": [
            "0.7071067811865476\n",
            "10.0\n"
          ]
        }
      ]
    },
    {
      "cell_type": "code",
      "source": [
        "# --- 常用常數 ---\n",
        "math.pi # 圓周率 π\n",
        "# 3.141592653589793\n",
        "math.e  # 自然常數 e\n",
        "# 2.718281828459045\n",
        "\n",
        "# --- 取整數相關 ---\n",
        "\n",
        "# 4. ceil() (Ceiling)：無條件進位，取 \"大於等於\" x 的最小整數\n",
        "math.ceil(5.2)\n",
        "# 6\n",
        "math.ceil(-5.8) # 注意負數\n",
        "# -5\n",
        "\n",
        "# 5. floor()：無條件捨去，取 \"小於等於\" x 的最大整數\n",
        "math.floor(5.8)\n",
        "# 5\n",
        "math.floor(-5.2) # 注意負數\n",
        "# -6\n",
        "\n",
        "# 6. trunc() (Truncate)：無條件捨去 \"小數部分\"，只取整數 (朝向 0)\n",
        "math.trunc(5.8)\n",
        "# 5\n",
        "math.trunc(-5.2)\n",
        "# -5\n",
        "\n",
        "# --- 冪次與開方 ---\n",
        "\n",
        "# 7. sqrt() (Square Root)：開平方根\n",
        "math.sqrt(64)\n",
        "# 8.0\n",
        "\n",
        "# 8. pow(x, y)：計算 x 的 y 次方 (等同於 x ** y，但 math.pow 恆定回傳 float)\n",
        "math.pow(2, 10)\n",
        "# 1024.0\n",
        "\n",
        "# 9. exp(x)：計算 e 的 x 次方 (e**x)\n",
        "math.log(math.e) # log(e)\n",
        "# 1.0\n",
        "\n",
        "# --- 角度轉換 (非常重要) ---\n",
        "# math 的三角函數 (sin, cos, tan) 預設都使用 \"弧度\" (radians)，\n",
        "# 但我們日常習慣用 \"角度\" (degrees)，因此需要轉換。\n",
        "\n",
        "# 10. radians()：將 \"角度\" 轉為 \"弧度\"\n",
        "math.radians(180) # 180 度 = π 弧度\n",
        "# 3.141592653589793\n",
        "\n",
        "# 11. degrees()：將 \"弧度\" 轉為 \"角度\"\n",
        "math.degrees(math.pi)\n",
        "# 180.0\n",
        "\n",
        "# 實用範例：計算 90 度的 sin 值\n",
        "math.sin(math.radians(90)) # 先把 90 度轉為弧度\n",
        "# 1.0\n",
        "\n",
        "# --- 其他 ---\n",
        "\n",
        "# 12. factorial(n)：計算 n 的階乘 (n!)\n",
        "math.factorial(5) # 5 * 4 * 3 * 2 * 1\n",
        "# 120\n",
        "\n",
        "# 13. gcd(a, b)：計算 a 和 b 的最大公因數\n",
        "math.gcd(80, 64)\n",
        "# 16"
      ],
      "metadata": {
        "colab": {
          "base_uri": "https://localhost:8080/"
        },
        "id": "Ful1_VAvfexv",
        "outputId": "66526a93-104c-4b46-d586-f80bcc965afa"
      },
      "execution_count": null,
      "outputs": [
        {
          "output_type": "execute_result",
          "data": {
            "text/plain": [
              "16"
            ]
          },
          "metadata": {},
          "execution_count": 3
        }
      ]
    },
    {
      "cell_type": "markdown",
      "source": [
        "2. **`random` 模組 (隨機選擇)**\n",
        "\n",
        "    * `random` 模組提供了產生各種隨機數的工具。"
      ],
      "metadata": {
        "id": "5vz_tvE5grzS"
      }
    },
    {
      "cell_type": "code",
      "source": [
        "import random\n",
        "\n",
        "# 1. choice(seq)：從一個序列 (list, tuple) 中隨機選 1 個元素\n",
        "random.choice(['apple', 'pear', 'banana'])\n",
        "# 'apple' # 範例輸出\n",
        "\n",
        "# 2. sample(population, k)：從 population 中隨機選出 k 個 \"不重複\" 的元素\n",
        "random.sample(range(100), 10)   # 從 0~99 中選 10 個不重複的\n",
        "# [30, 83, 16, 4, 8, 81, 41, 50, 18, 33] # 範例輸出\n",
        "\n",
        "# 3. random()：產生 0.0 <= X < 1.0 之間的一個隨機浮點數\n",
        "random.random()\n",
        "# 0.17970987693706186 # 範例輸出\n",
        "\n",
        "# 4. randrange(stop)：從 range(stop) [即 0 到 stop-1] 中隨機選 1 個整數\n",
        "random.randrange(6) # 等同於 choice([0, 1, 2, 3, 4, 5])\n",
        "# 4 # 範例輸出"
      ],
      "metadata": {
        "colab": {
          "base_uri": "https://localhost:8080/"
        },
        "id": "4tpwqIy-gDXT",
        "outputId": "a8cf70da-2ad7-4334-d190-f698046f7163"
      },
      "execution_count": null,
      "outputs": [
        {
          "output_type": "execute_result",
          "data": {
            "text/plain": [
              "2"
            ]
          },
          "metadata": {},
          "execution_count": 5
        }
      ]
    },
    {
      "cell_type": "code",
      "source": [
        "# random 模組的更多常用函式與用法：\n",
        "\n",
        "# 5. randint(a, b)：產生 a <= X <= b 之間的一個隨機整數 (包含 a 和 b)\n",
        "# (這和 randrange(a, b) 不同，randrange 不包含 b)\n",
        "random.randint(1, 6) # 模擬擲骰子 (1, 2, 3, 4, 5, 6)\n",
        "# 3 # 範例輸出\n",
        "\n",
        "# 6. shuffle(list)：\"原地\" 打亂一個 list 的順序 (In-place)\n",
        "# (注意：這個函式 \"沒有\" 回傳值，它直接修改原來的 list)\n",
        "cards = ['A', 'K', 'Q', 'J']\n",
        "random.shuffle(cards)\n",
        "# ['Q', 'A', 'J', 'K'] # 範例輸出\n",
        "\n",
        "# 7. uniform(a, b)：產生 a <= X <= b 之間的一個隨機浮點數\n",
        "random.uniform(1.5, 10.0)\n",
        "# 8.345... # 範例輸出 (等同於 random.random() 的指定範圍版本)\n",
        "\n",
        "# 8. seed(a)：設定隨機數種子\n",
        "# 預設情況下，random 模組使用目前系統時間當種子，所以每次執行都不同。\n",
        "# 如果你設定了 \"種子\"，那麼 \"接下來\" 產生的隨機數序列將會是固定的。\n",
        "# 這在除錯或需要 \"可重現\" 的隨機性時非常有用。\n",
        "\n",
        "random.seed(10)\n",
        "random.random()\n",
        "# 0.5714025946899135\n",
        "random.random()\n",
        "# 0.4288890546751146\n",
        "# --- 重新執行 ---\n",
        "random.seed(10) # 只要種子相同\n",
        "random.random() # 第一次 random 必是 0.5714...\n",
        "# 0.5714025946899135\n",
        "random.random() # 第二次 random 必是 0.4288...\n",
        "# 0.4288890546751146"
      ],
      "metadata": {
        "colab": {
          "base_uri": "https://localhost:8080/"
        },
        "id": "mmyJUL4YhCLo",
        "outputId": "1e8cef41-d55a-4d3a-f90f-8b3c40dde4fb"
      },
      "execution_count": null,
      "outputs": [
        {
          "output_type": "execute_result",
          "data": {
            "text/plain": [
              "0.4288890546751146"
            ]
          },
          "metadata": {},
          "execution_count": 6
        }
      ]
    },
    {
      "cell_type": "markdown",
      "source": [
        "3. **`statistics` 模組 (基本統計)**\n",
        "\n",
        "    * `statistics` 模組提供了替數值資料計算基本統計量（包括平均、中位數、變異量數等）的功能。"
      ],
      "metadata": {
        "id": "xlALWBiYnJUh"
      }
    },
    {
      "cell_type": "code",
      "source": [
        "import statistics\n",
        "\n",
        "data = [2.75, 1.75, 1.25, 0.25, 0.5, 1.25, 3.5]\n",
        "\n",
        "# 1. mean()：計算平均數\n",
        "statistics.mean(data)\n",
        "# 1.6071428571428572\n",
        "\n",
        "# 2. median()：計算中位數 (資料排序後的正中間值)\n",
        "statistics.median(data)\n",
        "# 1.25\n",
        "\n",
        "# 3. variance()：計算樣本變異數\n",
        "statistics.variance(data)\n",
        "# 1.3720238095238095"
      ],
      "metadata": {
        "colab": {
          "base_uri": "https://localhost:8080/"
        },
        "id": "m9_GrOK5hhXI",
        "outputId": "a357f06d-6537-42fd-c4ff-50a47ca2b841"
      },
      "execution_count": null,
      "outputs": [
        {
          "output_type": "execute_result",
          "data": {
            "text/plain": [
              "1.3720238095238095"
            ]
          },
          "metadata": {},
          "execution_count": 7
        }
      ]
    },
    {
      "cell_type": "code",
      "source": [
        "# statistics 模組的更多常用函式與用法：\n",
        "data = [1, 2, 2, 3, 4, 5, 10]\n",
        "data_with_mode = [1, 5, 2, 8, 5, 3, 5, 1]\n",
        "\n",
        "# 4. stdev() (Standard Deviation)：計算樣本標準差\n",
        "# (標準差就是 \"變異數的平方根\"，描述資料的離散程度)\n",
        "statistics.stdev(data)\n",
        "# 2.943920288775949\n",
        "\n",
        "# (驗證： math.sqrt(statistics.variance(data)) == statistics.stdev(data))\n",
        "\n",
        "# 5. mode()：計算眾數 (資料中出現最多次的數)\n",
        "statistics.mode(data_with_mode)\n",
        "# 5 # (因為 5 出現了 3 次，最多)\n",
        "# statistics.mode([1, 2, 3]) # (如果沒有眾數，會引發 StatisticsError)\n",
        "\n",
        "# 6. fmean()：計算浮點數平均值 (Python 3.8+ 新增)\n",
        "# (它和 mean() 類似，但速度更快，且會先將所有資料轉為 float)\n",
        "statistics.fmean(data)\n",
        "# 3.857142857142857\n",
        "\n",
        "# 7. median_low() / median_high()：處理中位數 (當資料個數為 \"偶數\" 時)\n",
        "even_data = [1, 2, 3, 4, 5, 100]\n",
        "# 排序後: [1, 2, 3, 4, 5, 100]\n",
        "# 中間是 3 和 4\n",
        "\n",
        "statistics.median(even_data) # 預設是取兩者平均\n",
        "# 3.5\n",
        "\n",
        "statistics.median_low(even_data) # 取較小的那一個\n",
        "# 3\n",
        "\n",
        "statistics.median_high(even_data) # 取較大的那一個\n",
        "# 4"
      ],
      "metadata": {
        "colab": {
          "base_uri": "https://localhost:8080/"
        },
        "id": "OVlZJHYEnT_2",
        "outputId": "73a52f2e-1adf-4aad-c50e-a552819dd5e6"
      },
      "execution_count": null,
      "outputs": [
        {
          "output_type": "execute_result",
          "data": {
            "text/plain": [
              "4"
            ]
          },
          "metadata": {},
          "execution_count": 8
        }
      ]
    },
    {
      "cell_type": "markdown",
      "source": [
        "* 如果需要進行更複雜的數值計算，例如矩陣運算、訊號處理或科學計算， `NumPy` 和 `SciPy` 專案 (https://scipy.org) 才是更專業的工具。"
      ],
      "metadata": {
        "id": "vHPW4pbPo-n-"
      }
    },
    {
      "cell_type": "markdown",
      "source": [
        "## 10.7. 網路存取 (Internet Access)\n",
        "\n",
        "PASS"
      ],
      "metadata": {
        "id": "_JAJ_Op3pSzT"
      }
    },
    {
      "cell_type": "markdown",
      "source": [
        "## 10.8. 日期與時間 (Dates and Times)\n",
        "\n",
        "PASS"
      ],
      "metadata": {
        "id": "KihoNPloqKhF"
      }
    },
    {
      "cell_type": "markdown",
      "source": [
        "## 10.9. 資料壓縮 (Data Compression)\n",
        "\n",
        "PASS"
      ],
      "metadata": {
        "id": "3K8yVBXsucC7"
      }
    },
    {
      "cell_type": "markdown",
      "source": [
        "## 10.10. 效能量測 (Performance Measurement)"
      ],
      "metadata": {
        "id": "cBL14iZruj0s"
      }
    },
    {
      "cell_type": "markdown",
      "source": [
        "* 兩種不同層級的效能分析工具：\n",
        "\n",
        "    1. `timeit`：用於「微觀」的效能測試，精確測量小程式碼片段 (snippets) 的執行速度。\n",
        "\n",
        "    2. `profile` / `pstats`：用於「宏觀」的效能分析，找出大型程式中的效能瓶頸（時間關鍵區塊）。"
      ],
      "metadata": {
        "id": "TEftInxzzCv8"
      }
    },
    {
      "cell_type": "markdown",
      "source": [
        "1. `timeit` 模組 (微觀效能測試)\n",
        "\n",
        "    * `timeit` 模組專門用於精確測量小段程式碼的執行時間。它比您自己手動記錄「開始時間」和「結束時間」要準確得多，因為它會：\n",
        "\n",
        "        * 重複執行程式碼非常多次（預設 100 萬次）來取平均值，消除單次運行的隨機干擾。\n",
        "\n",
        "        * 在測試期間暫時關閉「垃圾回收」(Garbage Collection, GC)機制，避免 GC 突然啟動影響測試結果。\n",
        "\n",
        "        "
      ],
      "metadata": {
        "id": "S9fdGiufzLlm"
      }
    },
    {
      "cell_type": "code",
      "source": [
        "# 這個範例比較了兩種交換變數的方式：(a) 傳統的暫存變數 vs. (b) Python 的 tuple 打包機制。\n",
        "\n",
        "from timeit import Timer\n",
        "\n",
        "# 1. 傳統方式\n",
        "# stmt (statement): 要測量的程式碼\n",
        "# setup: 測試 \"之前\" 執行一次的準備程式碼\n",
        "t_traditional = Timer('t=a; a=b; b=t', 'a=1; b=2')\n",
        "t_traditional.timeit() # 預設執行 1,000,000 次\n",
        "#0.57535828626024577 # (範例：總共花了 0.575 秒)\n",
        "\n",
        "# 2. Tuple 交換方式\n",
        "t_tuple = Timer('a,b = b,a', 'a=1; b=2')\n",
        "t_tuple.timeit()\n",
        "#0.54962537085770791 # (範例：總共花了 0.549 秒)\n",
        "\n",
        "# 結論： 從這個快速測試中，我們可以看到 tuple 交換 (a,b = b,a) 的效能略微進步 (速度稍快)。"
      ],
      "metadata": {
        "colab": {
          "base_uri": "https://localhost:8080/"
        },
        "id": "Vg7LCMLsuNkn",
        "outputId": "1e7160f2-74cc-40c6-a7d1-03a38614e810"
      },
      "execution_count": null,
      "outputs": [
        {
          "output_type": "execute_result",
          "data": {
            "text/plain": [
              "0.01333106600031897"
            ]
          },
          "metadata": {},
          "execution_count": 11
        }
      ]
    },
    {
      "cell_type": "markdown",
      "source": [
        "* `timeit` 模組的更多常用函式與用法\n",
        "\n",
        "    * `timeit` 模組提供了一個更簡單的函式 `timeit.timeit()`，它封裝了 `Timer` 物件，使用起來更方便。\n",
        "\n",
        "        * `timeit.timeit(stmt, setup, number=1000000)`"
      ],
      "metadata": {
        "id": "Ml81ZQvSzzmL"
      }
    },
    {
      "cell_type": "code",
      "source": [
        "# 範例 1：for 迴圈 vs. 列表推導式 (List Comprehension)\n",
        "\n",
        "import timeit\n",
        "\n",
        "# 1. 準備程式碼：建立一個 1000 個數字的 range\n",
        "# (注意：setup 中的變數 'items' 在 stmt 中可以存取到)\n",
        "setup_code = \"items = range(1000)\"\n",
        "\n",
        "# 2. 要測量的程式碼 (stmt1)：使用 for 迴圈\n",
        "stmt_loop = \"\"\"\n",
        "new_list = []\n",
        "for i in items:\n",
        "    new_list.append(i * i)\n",
        "\"\"\"\n",
        "\n",
        "# 3. 要測量的程式碼 (stmt2)：使用列表推導式\n",
        "stmt_comprehension = \"[i * i for i in items]\"\n",
        "\n",
        "# --- 開始測試 ---\n",
        "# 為了讓結果更明顯，我們設定 number=10000 (執行 1 萬次)\n",
        "\n",
        "# 測試 for 迴圈\n",
        "timeit.timeit(stmt=stmt_loop, setup=setup_code, number=10000)\n",
        "# 0.435... # (範例：花了 0.435 秒)\n",
        "\n",
        "# 測試列表推導式\n",
        "timeit.timeit(stmt=stmt_comprehension, setup=setup_code, number=10000)\n",
        "# 0.218... # (範例：花了 0.218 秒)\n",
        "\n",
        "# 結論： 列表推導式在建立新列表時，效能幾乎是 for 迴圈的兩倍快。"
      ],
      "metadata": {
        "colab": {
          "base_uri": "https://localhost:8080/"
        },
        "id": "ZqWIJS6Nzn5n",
        "outputId": "cba5c081-ad9b-40a6-dc75-56ba642ef0c7"
      },
      "execution_count": null,
      "outputs": [
        {
          "output_type": "execute_result",
          "data": {
            "text/plain": [
              "0.36798930700024357"
            ]
          },
          "metadata": {},
          "execution_count": 14
        }
      ]
    },
    {
      "cell_type": "code",
      "source": [
        "# 範例 2：字串串接 ( + vs. join )\n",
        "\n",
        "import timeit\n",
        "\n",
        "# 準備程式碼：一個包含 1000 個短字串的列表\n",
        "setup_code = \"words = ['hello'] * 1000\"\n",
        "\n",
        "# 方式 1：使用 += 迴圈\n",
        "stmt_plus = \"\"\"\n",
        "s = ''\n",
        "for w in words:\n",
        "    s += w\n",
        "\"\"\"\n",
        "\n",
        "# 方式 2：使用 .join()\n",
        "stmt_join = \"''.join(words)\"\n",
        "\n",
        "# --- 開始測試 --- (執行 1 萬次)\n",
        "timeit.timeit(stmt=stmt_plus, setup=setup_code, number=10000)\n",
        "# 0.085... # (範例：花了 0.085 秒)\n",
        "\n",
        "timeit.timeit(stmt=stmt_join, setup=setup_code, number=10000)\n",
        "# 0.009... # (範例：花了 0.009 秒)\n",
        "\n",
        "# 結論： 在處理大量字串串接時，.join() 的效能比 += 迴圈快了近 10 倍。"
      ],
      "metadata": {
        "colab": {
          "base_uri": "https://localhost:8080/"
        },
        "id": "7q9DmMYZ0ZvD",
        "outputId": "6dfa743a-f45e-4fde-ef97-211df9508148"
      },
      "execution_count": null,
      "outputs": [
        {
          "output_type": "execute_result",
          "data": {
            "text/plain": [
              "0.14979837100054283"
            ]
          },
          "metadata": {},
          "execution_count": 16
        }
      ]
    },
    {
      "cell_type": "code",
      "source": [
        "# 範例 3：使用 repeat 參數\n",
        "# .timeit() 只執行一次測試 (包含 100 萬次運算)。但有時您可能想執行「多次測試」來檢查結果是否穩定。這時可以使用 Timer 物件的 .repeat() 方法。\n",
        "\n",
        "from timeit import Timer\n",
        "\n",
        "t = Timer('a,b = b,a', 'a=1; b=2')\n",
        "\n",
        "# repeat=5: 執行 5 次完整的 timeit 測試\n",
        "# number=1000000: 每次測試中，stmt 執行 100 萬次\n",
        "t.repeat(repeat=5, number=1000000)\n",
        "# [0.551, 0.548, 0.549, 0.552, 0.547] # (範例：回傳一個包含 5 次結果的 list)\n",
        "\n",
        "# 這可以幫助您取 min() (最快的一次，通常最接近真實效能) 或 mean() (平均) 來得到更可靠的數據。"
      ],
      "metadata": {
        "colab": {
          "base_uri": "https://localhost:8080/"
        },
        "id": "a10nr03_0zIj",
        "outputId": "26409ff1-80c2-4655-8faa-eabcec5a27ba"
      },
      "execution_count": null,
      "outputs": [
        {
          "output_type": "execute_result",
          "data": {
            "text/plain": [
              "[0.011003795999386057,\n",
              " 0.01216975899933459,\n",
              " 0.011304022999865992,\n",
              " 0.012442052000551485,\n",
              " 0.011868525999489066]"
            ]
          },
          "metadata": {},
          "execution_count": 18
        }
      ]
    },
    {
      "cell_type": "markdown",
      "source": [
        "2. **`profile` 與 `pstats` 模組 (宏觀效能分析)**\n",
        "\n",
        "* 相對於 `timeit` 模組提供這麼細的粒度 (granularity)，`profile`（或更快的 `cProfile`）模組則提供了不同的功能：分析您的完整程式。\n",
        "\n",
        "* 當您的程式碼很龐大且執行緩慢時，您通常不知道「瓶頸」在哪裡。`profile` 模組會執行您的整個腳本，並產生一份詳細報告，告訴您：\n",
        "\n",
        "    * 哪個函式被呼叫了最多次？\n",
        "\n",
        "    * 哪個函式（包含它呼叫的子函式）總共花了最多時間？\n",
        "\n",
        "    * 哪個函式「本身」花了最多時間？\n",
        "\n",
        "* `pstats` 模組則是 用來讀取和分析 `profile` 產生的報告的工具。\n",
        "\n",
        "如何使用 (簡易範例)：\n",
        "\n",
        "* 假設您有一個很慢的腳本 `my_slow_script.py`。\n",
        "\n",
        "* 步驟 1：在終端機中執行 `cProfile`. `cProfile` 會執行您的腳本，並將分析報告儲存到 `output.prof` 檔案中。\n",
        "\n",
        "```bash\n",
        "$ python -m cProfile -o output.prof my_slow_script.py\n",
        "```\n",
        "\n",
        "* 步驟 2：使用 `pstats` 分析報告 在 Python 解譯器中：\n",
        "\n",
        "```python\n",
        "import pstats\n",
        "from pstats import SortKey\n",
        "\n",
        "# 1. 讀取報告檔案\n",
        "p = pstats.Stats('output.prof')\n",
        "\n",
        "# 2. 排序並印出報告\n",
        "# .sort_stats() 可以用 'cumulative' (累計時間) 或 'tottime' (函式自身時間) 排序\n",
        "# .print_stats(10) 只印出前 10 名\n",
        "p.sort_stats(SortKey.CUMULATIVE).print_stats(10)\n",
        "```\n",
        "\n",
        "* 這將會印出一個表格，顯示您的程式中前 10 個最耗時的函式，讓您可以準確地找出效能瓶頸（時間關鍵區塊）並進行優化。"
      ],
      "metadata": {
        "id": "_d2UV9o71Jw2"
      }
    },
    {
      "cell_type": "markdown",
      "source": [
        "**在 Python 程式碼中直接使用 `cProfile`**\n",
        "\n",
        "* `cProfile` 有兩種主要的使用方式：\n",
        "\n",
        "    * 簡單方式 (`cProfile.run()`)：直接執行一個函式呼叫的字串，並將結果印到終端機。\n",
        "\n",
        "    * 推薦方式 (`cProfile.Profile` 物件)：使用物件來啟用/停用分析器，並將結果儲存到檔案中，以便稍後使用 `pstats` 模組進行更詳細的分析。"
      ],
      "metadata": {
        "id": "puwCx7MK2srY"
      }
    },
    {
      "cell_type": "markdown",
      "source": [
        "方法一：簡單方式 (`cProfile.run()`)\n",
        "\n",
        "這是最快的方法，適用於快速檢查單一函式呼叫的效能。"
      ],
      "metadata": {
        "id": "8EMi1Vc_3Als"
      }
    },
    {
      "cell_type": "code",
      "source": [
        "import cProfile\n",
        "import time\n",
        "\n",
        "def slow_function():\n",
        "    \"\"\"一個刻意做得很慢的函式\"\"\"\n",
        "    total = 0\n",
        "    for i in range(10**6):\n",
        "        total += i\n",
        "    time.sleep(0.1) # 模擬 I/O 延遲\n",
        "    return total\n",
        "\n",
        "def fast_function():\n",
        "    \"\"\"一個很快的函式，但會被呼叫很多次\"\"\"\n",
        "    return 1 + 1\n",
        "\n",
        "def main():\n",
        "    \"\"\"主程式，呼叫其他函式\"\"\"\n",
        "    print(\"開始執行...\")\n",
        "    slow_function()\n",
        "\n",
        "    for _ in range(500000):\n",
        "        fast_function()\n",
        "\n",
        "    print(\"執行完畢。\")\n",
        "\n",
        "if __name__ == \"__main__\":\n",
        "    # 執行 'main()' 函式並立即印出 cProfile 報告\n",
        "    print(\"--- 開始 cProfile.run() 測試 ---\")\n",
        "    cProfile.run('main()')\n",
        "    print(\"--- cProfile.run() 測試結束 ---\")"
      ],
      "metadata": {
        "colab": {
          "base_uri": "https://localhost:8080/"
        },
        "id": "tbR9kIwU0Qfi",
        "outputId": "dd0e0276-9ab7-4053-aec1-e340cd828234"
      },
      "execution_count": null,
      "outputs": [
        {
          "output_type": "stream",
          "name": "stdout",
          "text": [
            "--- 開始 cProfile.run() 測試 ---\n",
            "開始執行...\n",
            "執行完畢。\n",
            "         501297 function calls (501268 primitive calls) in 0.514 seconds\n",
            "\n",
            "   Ordered by: standard name\n",
            "\n",
            "   ncalls  tottime  percall  cumtime  percall filename:lineno(function)\n",
            "        5    0.000    0.000    0.000    0.000 <frozen abc>:121(__subclasscheck__)\n",
            "       11    0.000    0.000    0.000    0.000 <frozen importlib._bootstrap>:1390(_handle_fromlist)\n",
            "      2/1    0.081    0.040    0.277    0.277 <string>:1(<module>)\n",
            "        4    0.000    0.000    0.000    0.000 __init__.py:183(dumps)\n",
            "        1    0.000    0.000    0.023    0.023 _base.py:337(_invoke_callbacks)\n",
            "        1    0.000    0.000    0.023    0.023 _base.py:537(set_result)\n",
            "        2    0.000    0.000    0.000    0.000 _weakrefset.py:85(add)\n",
            "        3    0.000    0.000    0.001    0.000 asyncio.py:206(_handle_events)\n",
            "        2    0.000    0.000    0.000    0.000 asyncio.py:216(call_at)\n",
            "        2    0.000    0.000    0.000    0.000 asyncio.py:231(add_callback)\n",
            "        3    0.000    0.000    0.000    0.000 attrsettr.py:17(__setattr__)\n",
            "        1    0.000    0.000    0.000    0.000 attrsettr.py:39(_set_attr_opt)\n",
            "       11    0.000    0.000    0.000    0.000 attrsettr.py:43(__getattr__)\n",
            "       11    0.000    0.000    0.000    0.000 attrsettr.py:66(_get_attr_opt)\n",
            "        4    0.000    0.000    0.000    0.000 base_events.py:1907(_add_callback)\n",
            "        7    0.000    0.000    0.238    0.034 base_events.py:1922(_run_once)\n",
            "        8    0.000    0.000    0.000    0.000 base_events.py:2017(get_debug)\n",
            "        6    0.000    0.000    0.000    0.000 base_events.py:543(_check_closed)\n",
            "        1    0.000    0.000    0.000    0.000 base_events.py:724(is_closed)\n",
            "       12    0.000    0.000    0.000    0.000 base_events.py:738(time)\n",
            "        2    0.000    0.000    0.000    0.000 base_events.py:747(call_later)\n",
            "        2    0.000    0.000    0.000    0.000 base_events.py:771(call_at)\n",
            "        3    0.000    0.000    0.000    0.000 base_events.py:789(call_soon)\n",
            "        4    0.000    0.000    0.000    0.000 base_events.py:818(_call_soon)\n",
            "        1    0.000    0.000    0.010    0.010 base_events.py:842(call_soon_threadsafe)\n",
            "        1    0.000    0.000    0.000    0.000 concurrent.py:185(future_set_result_unless_cancelled)\n",
            "        1    0.000    0.000    0.000    0.000 context.py:281(_add_socket)\n",
            "        1    0.000    0.000    0.000    0.000 context.py:326(socket)\n",
            "        4    0.000    0.000    0.000    0.000 encoder.py:105(__init__)\n",
            "        4    0.000    0.000    0.000    0.000 encoder.py:183(encode)\n",
            "        4    0.000    0.000    0.000    0.000 encoder.py:205(iterencode)\n",
            "       63    0.000    0.000    0.000    0.000 enum.py:1128(__new__)\n",
            "        1    0.000    0.000    0.000    0.000 enum.py:1286(name)\n",
            "      126    0.000    0.000    0.000    0.000 enum.py:1543(_get_value)\n",
            "       25    0.000    0.000    0.000    0.000 enum.py:1550(__or__)\n",
            "       17    0.000    0.000    0.000    0.000 enum.py:1561(__and__)\n",
            "        1    0.000    0.000    0.000    0.000 enum.py:202(__get__)\n",
            "       63    0.000    0.000    0.000    0.000 enum.py:720(__call__)\n",
            "        2    0.000    0.000    0.000    0.000 events.py:111(__init__)\n",
            "        6    0.000    0.000    0.000    0.000 events.py:36(__init__)\n",
            "      9/4    0.012    0.001    0.025    0.006 events.py:86(_run)\n",
            "        1    0.000    0.000    0.023    0.023 futures.py:396(_call_set_state)\n",
            "        4    0.000    0.000    0.000    0.000 ioloop.py:549(time)\n",
            "        2    0.000    0.000    0.000    0.000 ioloop.py:604(call_later)\n",
            "        4    0.000    0.000    0.001    0.000 ioloop.py:750(_run_callback)\n",
            "        5    0.000    0.000    0.000    0.000 iostream.py:107(_handle_event)\n",
            "        3    0.000    0.000    0.000    0.000 iostream.py:162(_is_master_process)\n",
            "        3    0.000    0.000    0.000    0.000 iostream.py:165(_check_mp_mode)\n",
            "        3    0.000    0.000    0.000    0.000 iostream.py:198(closed)\n",
            "        2    0.000    0.000    0.002    0.001 iostream.py:202(schedule)\n",
            "        1    0.000    0.000    0.000    0.000 iostream.py:214(send_multipart)\n",
            "        3    0.000    0.000    0.007    0.002 iostream.py:219(<lambda>)\n",
            "        3    0.000    0.000    0.007    0.002 iostream.py:221(_really_send)\n",
            "        4    0.000    0.000    0.000    0.000 iostream.py:437(_is_master_process)\n",
            "        4    0.000    0.000    0.002    0.000 iostream.py:456(_schedule_flush)\n",
            "        2    0.000    0.000    0.000    0.000 iostream.py:466(_schedule_in_thread)\n",
            "        1    0.000    0.000    0.001    0.001 iostream.py:495(_flush)\n",
            "        4    0.000    0.000    0.004    0.001 iostream.py:526(write)\n",
            "        1    0.000    0.000    0.000    0.000 iostream.py:577(_flush_buffer)\n",
            "        1    0.000    0.000    0.000    0.000 iostream.py:584(_rotate_buffer)\n",
            "        2    0.000    0.000    0.000    0.000 iostream.py:90(_event_pipe)\n",
            "   500000    0.082    0.000    0.082    0.000 ipython-input-2356075788.py:12(fast_function)\n",
            "      2/1    0.127    0.064    0.171    0.171 ipython-input-2356075788.py:16(main)\n",
            "        1    0.036    0.036    0.136    0.136 ipython-input-2356075788.py:4(slow_function)\n",
            "        2    0.000    0.000    0.000    0.000 jsonutil.py:108(json_default)\n",
            "        2    0.000    0.000    0.000    0.000 jsonutil.py:39(_ensure_tzinfo)\n",
            "        1    0.000    0.000    0.024    0.024 kernelbase.py:277(poll_control_queue)\n",
            "        1    0.000    0.000    0.000    0.000 kernelbase.py:299(_flush)\n",
            "        1    0.000    0.000    0.000    0.000 locks.py:224(clear)\n",
            "        1    0.000    0.000    0.000    0.000 poll.py:31(register)\n",
            "        1    0.000    0.000    0.000    0.000 poll.py:80(poll)\n",
            "        7    0.000    0.000    0.000    0.000 queue.py:209(_qsize)\n",
            "        7    0.000    0.000    0.000    0.000 queue.py:97(empty)\n",
            "        1    0.000    0.000    0.000    0.000 queues.py:173(qsize)\n",
            "        1    0.000    0.000    0.000    0.000 queues.py:177(empty)\n",
            "        1    0.000    0.000    0.000    0.000 queues.py:186(put)\n",
            "        1    0.000    0.000    0.000    0.000 queues.py:209(put_nowait)\n",
            "        1    0.000    0.000    0.000    0.000 queues.py:225(get)\n",
            "        1    0.000    0.000    0.000    0.000 queues.py:256(get_nowait)\n",
            "        1    0.000    0.000    0.000    0.000 queues.py:309(_get)\n",
            "        1    0.000    0.000    0.000    0.000 queues.py:312(_put)\n",
            "        1    0.000    0.000    0.000    0.000 queues.py:317(__put_internal)\n",
            "        2    0.000    0.000    0.000    0.000 queues.py:322(_consume_expired)\n",
            "        1    0.000    0.000    0.000    0.000 queues.py:59(_set_timeout)\n",
            "        1    0.000    0.000    0.005    0.005 selector_events.py:129(_read_from_self)\n",
            "        1    0.000    0.000    0.010    0.010 selector_events.py:141(_write_to_self)\n",
            "        8    0.000    0.000    0.000    0.000 selector_events.py:750(_process_events)\n",
            "        4    0.000    0.000    0.000    0.000 selectors.py:275(_key_from_fd)\n",
            "      6/3    0.046    0.008    0.000    0.000 selectors.py:451(select)\n",
            "        1    0.000    0.000    0.000    0.000 session.py:201(utcnow)\n",
            "        1    0.000    0.000    0.000    0.000 session.py:273(msg_header)\n",
            "        1    0.000    0.000    0.000    0.000 session.py:280(extract_header)\n",
            "        1    0.000    0.000    0.000    0.000 session.py:599(msg_id)\n",
            "        1    0.000    0.000    0.000    0.000 session.py:643(msg_header)\n",
            "        1    0.000    0.000    0.000    0.000 session.py:646(msg)\n",
            "        1    0.000    0.000    0.000    0.000 session.py:672(sign)\n",
            "        1    0.000    0.000    0.000    0.000 session.py:687(serialize)\n",
            "        1    0.000    0.000    0.001    0.001 session.py:751(send)\n",
            "        4    0.000    0.000    0.000    0.000 session.py:97(json_packer)\n",
            "        1    0.000    0.000    0.000    0.000 socket.py:128(__init__)\n",
            "        1    0.000    0.000    0.000    0.000 socket.py:267(_connect_cm)\n",
            "        1    0.000    0.000    0.000    0.000 socket.py:323(connect)\n",
            "        3    0.000    0.000    0.000    0.000 socket.py:373(__setattr__)\n",
            "        1    0.000    0.000    0.000    0.000 socket.py:54(__init__)\n",
            "       23    0.008    0.000    0.008    0.000 socket.py:632(send)\n",
            "        3    0.000    0.000    0.007    0.002 socket.py:709(send_multipart)\n",
            "        5    0.000    0.000    0.000    0.000 socket.py:780(recv_multipart)\n",
            "        2    0.000    0.000    0.000    0.000 threading.py:1155(_wait_for_tstate_lock)\n",
            "        2    0.000    0.000    0.000    0.000 threading.py:1222(is_alive)\n",
            "        1    0.000    0.000    0.000    0.000 threading.py:299(__enter__)\n",
            "        1    0.000    0.000    0.000    0.000 threading.py:302(__exit__)\n",
            "        1    0.000    0.000    0.000    0.000 threading.py:394(notify)\n",
            "        1    0.000    0.000    0.000    0.000 threading.py:424(notify_all)\n",
            "        2    0.000    0.000    0.000    0.000 threading.py:601(is_set)\n",
            "        1    0.000    0.000    0.000    0.000 traitlets.py:2336(_validate_bounds)\n",
            "        1    0.000    0.000    0.000    0.000 traitlets.py:2373(validate)\n",
            "       15    0.000    0.000    0.000    0.000 traitlets.py:651(get)\n",
            "       15    0.000    0.000    0.000    0.000 traitlets.py:689(__get__)\n",
            "        1    0.000    0.000    0.000    0.000 traitlets.py:702(set)\n",
            "        1    0.000    0.000    0.000    0.000 traitlets.py:720(__set__)\n",
            "        1    0.000    0.000    0.000    0.000 traitlets.py:731(_validate)\n",
            "        1    0.000    0.000    0.000    0.000 traitlets.py:740(_cross_validate)\n",
            "        5    0.000    0.000    0.000    0.000 typing.py:1221(__instancecheck__)\n",
            "       10    0.000    0.000    0.000    0.000 typing.py:1285(__hash__)\n",
            "        5    0.000    0.000    0.000    0.000 typing.py:1492(__subclasscheck__)\n",
            "        6    0.000    0.000    0.000    0.000 typing.py:2187(cast)\n",
            "       15    0.000    0.000    0.000    0.000 typing.py:392(inner)\n",
            "        1    0.000    0.000    0.000    0.000 unix_events.py:81(_process_self_data)\n",
            "        1    0.000    0.000    0.000    0.000 zmqstream.py:418(flush)\n",
            "        1    0.000    0.000    0.000    0.000 zmqstream.py:459(update_flag)\n",
            "       11    0.000    0.000    0.000    0.000 zmqstream.py:529(receiving)\n",
            "        7    0.000    0.000    0.000    0.000 zmqstream.py:533(sending)\n",
            "        5    0.000    0.000    0.001    0.000 zmqstream.py:547(_run_callback)\n",
            "        5    0.000    0.000    0.001    0.000 zmqstream.py:574(_handle_events)\n",
            "        5    0.000    0.000    0.001    0.000 zmqstream.py:615(_handle_recv)\n",
            "        1    0.000    0.000    0.000    0.000 zmqstream.py:650(_check_closed)\n",
            "        6    0.000    0.000    0.000    0.000 zmqstream.py:654(_rebuild_io_state)\n",
            "        6    0.000    0.000    0.000    0.000 zmqstream.py:677(_update_handler)\n",
            "        2    0.000    0.000    0.000    0.000 zmqstream.py:685(<lambda>)\n",
            "        5    0.000    0.000    0.000    0.000 {built-in method _abc._abc_subclasscheck}\n",
            "        2    0.000    0.000    0.000    0.000 {built-in method _asyncio.get_running_loop}\n",
            "        5    0.000    0.000    0.000    0.000 {built-in method _contextvars.copy_context}\n",
            "        1    0.000    0.000    0.000    0.000 {built-in method _heapq.heappop}\n",
            "        2    0.000    0.000    0.000    0.000 {built-in method _heapq.heappush}\n",
            "      2/1    0.000    0.000    0.277    0.277 {built-in method builtins.exec}\n",
            "       17    0.000    0.000    0.000    0.000 {built-in method builtins.getattr}\n",
            "       13    0.000    0.000    0.000    0.000 {built-in method builtins.hasattr}\n",
            "       10    0.000    0.000    0.000    0.000 {built-in method builtins.hash}\n",
            "  279/269    0.000    0.000    0.000    0.000 {built-in method builtins.isinstance}\n",
            "        5    0.000    0.000    0.000    0.000 {built-in method builtins.issubclass}\n",
            "       49    0.000    0.000    0.000    0.000 {built-in method builtins.len}\n",
            "        1    0.000    0.000    0.000    0.000 {built-in method builtins.locals}\n",
            "       13    0.000    0.000    0.000    0.000 {built-in method builtins.max}\n",
            "        2    0.000    0.000    0.000    0.000 {built-in method builtins.min}\n",
            "        2    0.000    0.000    0.004    0.002 {built-in method builtins.print}\n",
            "        2    0.000    0.000    0.000    0.000 {built-in method math.ceil}\n",
            "       10    0.000    0.000    0.000    0.000 {built-in method posix.getpid}\n",
            "        1    0.000    0.000    0.000    0.000 {built-in method posix.getppid}\n",
            "       12    0.000    0.000    0.000    0.000 {built-in method time.monotonic}\n",
            "        1    0.100    0.100    0.100    0.100 {built-in method time.sleep}\n",
            "        4    0.000    0.000    0.000    0.000 {built-in method time.time}\n",
            "        1    0.000    0.000    0.000    0.000 {built-in method utcnow}\n",
            "        1    0.000    0.000    0.000    0.000 {method '__enter__' of '_thread.RLock' objects}\n",
            "        6    0.000    0.000    0.000    0.000 {method '__exit__' of '_thread.RLock' objects}\n",
            "        7    0.000    0.000    0.000    0.000 {method '__exit__' of '_thread.lock' objects}\n",
            "        1    0.000    0.000    0.000    0.000 {method '_is_owned' of '_thread.RLock' objects}\n",
            "        2    0.000    0.000    0.000    0.000 {method 'acquire' of '_thread.lock' objects}\n",
            "        2    0.000    0.000    0.000    0.000 {method 'add' of 'set' objects}\n",
            "       13    0.000    0.000    0.000    0.000 {method 'append' of 'collections.deque' objects}\n",
            "        7    0.000    0.000    0.000    0.000 {method 'append' of 'list' objects}\n",
            "        2    0.000    0.000    0.000    0.000 {method 'cancelled' of '_asyncio.Future' objects}\n",
            "        1    0.000    0.000    0.000    0.000 {method 'close' of '_io.StringIO' objects}\n",
            "        1    0.000    0.000    0.000    0.000 {method 'copy' of 'dict' objects}\n",
            "        1    0.000    0.000    0.000    0.000 {method 'disable' of '_lsprof.Profiler' objects}\n",
            "        1    0.000    0.000    0.000    0.000 {method 'done' of '_asyncio.Future' objects}\n",
            "        4    0.000    0.000    0.000    0.000 {method 'encode' of 'str' objects}\n",
            "        2    0.000    0.000    0.000    0.000 {method 'extend' of 'list' objects}\n",
            "        1    0.000    0.000    0.000    0.000 {method 'get' of 'dict' objects}\n",
            "        1    0.000    0.000    0.000    0.000 {method 'getvalue' of '_io.StringIO' objects}\n",
            "        2    0.000    0.000    0.000    0.000 {method 'isoformat' of 'datetime.datetime' objects}\n",
            "        1    0.000    0.000    0.000    0.000 {method 'items' of 'dict' objects}\n",
            "        4    0.000    0.000    0.000    0.000 {method 'join' of 'str' objects}\n",
            "        3    0.000    0.000    0.000    0.000 {method 'lower' of 'str' objects}\n",
            "        3    0.000    0.000    0.000    0.000 {method 'mro' of 'type' objects}\n",
            "      6/3    0.002    0.000    0.000    0.000 {method 'poll' of 'select.epoll' objects}\n",
            "       16    0.000    0.000    0.000    0.000 {method 'popleft' of 'collections.deque' objects}\n",
            "        2    0.005    0.003    0.005    0.003 {method 'recv' of '_socket.socket' objects}\n",
            "        1    0.000    0.000    0.000    0.000 {method 'replace' of 'datetime.datetime' objects}\n",
            "        2    0.000    0.000    0.000    0.000 {method 'replace' of 'str' objects}\n",
            "      9/4    0.000    0.000    0.025    0.006 {method 'run' of '_contextvars.Context' objects}\n",
            "        1    0.010    0.010    0.010    0.010 {method 'send' of '_socket.socket' objects}\n",
            "        2    0.000    0.000    0.000    0.000 {method 'set_result' of '_asyncio.Future' objects}\n",
            "       12    0.000    0.000    0.000    0.000 {method 'upper' of 'str' objects}\n",
            "        4    0.000    0.000    0.000    0.000 {method 'write' of '_io.StringIO' objects}\n",
            "\n",
            "\n",
            "--- cProfile.run() 測試結束 ---\n"
          ]
        }
      ]
    },
    {
      "cell_type": "markdown",
      "source": [
        "如何閱讀：\n",
        "\n",
        "* `ncalls`：呼叫次數。\n",
        "\n",
        "* `tottime` (Total Time)：函式本身執行的總時間（不包含它呼叫的子函式）。\n",
        "\n",
        "* `cumtime` (Cumulative Time)：函式包含子函式在內所花費的總時間。\n",
        "\n",
        "* `percall`： `tottime` / `ncalls`。\n",
        "\n",
        "觀察：\n",
        "\n",
        "* `slow_function` 的 `tottime` 是 `0.036` 秒，但 `cumtime` 是 `0.136` 秒。這中間的 `0.1` 秒差在哪？在 `time.sleep` (下一行)。\n",
        "\n",
        "* `fast_function` 被呼叫了 `50` 萬次，總共也花了 `0.082` 秒。"
      ],
      "metadata": {
        "id": "YwAcwQKj04Ul"
      }
    },
    {
      "cell_type": "markdown",
      "source": [
        "**方法二：推薦方式 (`cProfile.Profile` + `pstats`)**\n",
        "\n",
        "* 這種方法更靈活、更強大。您可以將分析結果儲存到檔案中，然後使用 `pstats` 模組以各種方式（例如按 `cumtime` 排序）來分析報告。\n",
        "\n",
        "* 這是您在優化大型應用程式時真正會使用的方法。"
      ],
      "metadata": {
        "id": "JWwprHPL14ew"
      }
    },
    {
      "cell_type": "code",
      "source": [
        "import cProfile\n",
        "import pstats\n",
        "import io # 用於在程式碼中讀取\n",
        "import time\n",
        "\n",
        "# --- (這裡使用與方法一相同的範例函式) ---\n",
        "def slow_function():\n",
        "    \"\"\"一個刻意做得很慢的函式\"\"\"\n",
        "    total = 0\n",
        "    for i in range(10**6):\n",
        "        total += i\n",
        "    time.sleep(0.1) # 模擬 I/O 延遲\n",
        "    return total\n",
        "\n",
        "def fast_function():\n",
        "    \"\"\"一個很快的函式，但會被呼叫很多次\"\"\"\n",
        "    return 1 + 1\n",
        "\n",
        "def main():\n",
        "    \"\"\"主程式，呼叫其他函式\"\"\"\n",
        "    print(\"開始執行...\")\n",
        "    slow_function()\n",
        "\n",
        "    for _ in range(500000):\n",
        "        fast_function()\n",
        "\n",
        "    print(\"執行完畢。\")\n",
        "\n",
        "if __name__ == \"__main__\":\n",
        "\n",
        "    # 1. 建立 Profile 物件\n",
        "    profiler = cProfile.Profile()\n",
        "\n",
        "    # 2. 啟用分析器並執行您的程式碼\n",
        "    profiler.enable()\n",
        "    main() # 執行主函式\n",
        "    profiler.disable()\n",
        "\n",
        "    # 3. (可選) 將結果儲存到檔案\n",
        "    # profiler.dump_stats(\"profile_output.pstat\")\n",
        "    #\n",
        "    # (或者，我們可以在記憶體中直接處理它)\n",
        "\n",
        "    # 4. 建立 pstats.Stats 物件來讀取分析結果\n",
        "    # (我們使用 io.StringIO 來假裝 profiler 是一個檔案)\n",
        "    s = io.StringIO()\n",
        "    # sort_stats('cumulative') 告訴 pstats 按 \"累計時間\" 排序\n",
        "    ps = pstats.Stats(profiler, stream=s).sort_stats('cumulative')\n",
        "\n",
        "    # 5. 印出報告\n",
        "    ps.print_stats()\n",
        "\n",
        "    print(\"--- cProfile.Profile + pstats 測試 (按 cumulative time 排序) ---\")\n",
        "    print(s.getvalue()) # 印出排序後的結果\n",
        "\n",
        "    # --- 6. 展示另一種排序方式 ---\n",
        "    s = io.StringIO()\n",
        "    # 這次按 'tottime' (函式自身時間) 排序\n",
        "    ps = pstats.Stats(profiler, stream=s).sort_stats('tottime')\n",
        "\n",
        "    # 我們也可以只印出前 5 名\n",
        "    ps.print_stats(5)\n",
        "\n",
        "    print(\"\\n--- 測試 (按 tottime 排序, 僅顯示前 5 名) ---\")\n",
        "    print(s.getvalue())"
      ],
      "metadata": {
        "colab": {
          "base_uri": "https://localhost:8080/"
        },
        "id": "925HYvhV0hU5",
        "outputId": "0259e6b3-4172-4557-ab12-5e734c18cfaf"
      },
      "execution_count": null,
      "outputs": [
        {
          "output_type": "stream",
          "name": "stdout",
          "text": [
            "開始執行...\n",
            "執行完畢。\n",
            "--- cProfile.Profile + pstats 測試 (按 cumulative time 排序) ---\n",
            "         500869 function calls (500838 primitive calls) in 0.457 seconds\n",
            "\n",
            "   Ordered by: cumulative time\n",
            "\n",
            "   ncalls  tottime  percall  cumtime  percall filename:lineno(function)\n",
            "        5    0.000    0.000    0.447    0.089 /usr/lib/python3.12/asyncio/base_events.py:1922(_run_once)\n",
            "        5    0.000    0.000    0.440    0.088 /usr/lib/python3.12/selectors.py:451(select)\n",
            "        1    0.178    0.178    0.232    0.232 /tmp/ipython-input-762172104.py:19(main)\n",
            "        4    0.090    0.023    0.207    0.052 {method 'poll' of 'select.epoll' objects}\n",
            "        1    0.033    0.033    0.100    0.100 /tmp/ipython-input-762172104.py:7(slow_function)\n",
            "   500000    0.071    0.000    0.071    0.000 /tmp/ipython-input-762172104.py:15(fast_function)\n",
            "        4    0.000    0.000    0.007    0.002 /usr/lib/python3.12/asyncio/events.py:86(_run)\n",
            "        4    0.000    0.000    0.007    0.002 {method 'run' of '_contextvars.Context' objects}\n",
            "        3    0.000    0.000    0.006    0.002 /usr/local/lib/python3.12/dist-packages/tornado/ioloop.py:750(_run_callback)\n",
            "        3    0.000    0.000    0.006    0.002 /usr/local/lib/python3.12/dist-packages/zmq/eventloop/zmqstream.py:574(_handle_events)\n",
            "        3    0.000    0.000    0.006    0.002 /usr/local/lib/python3.12/dist-packages/zmq/eventloop/zmqstream.py:615(_handle_recv)\n",
            "        2    0.000    0.000    0.006    0.003 /usr/local/lib/python3.12/dist-packages/zmq/eventloop/zmqstream.py:685(<lambda>)\n",
            "        3    0.000    0.000    0.006    0.002 /usr/local/lib/python3.12/dist-packages/zmq/eventloop/zmqstream.py:547(_run_callback)\n",
            "        3    0.000    0.000    0.006    0.002 /usr/local/lib/python3.12/dist-packages/ipykernel/iostream.py:107(_handle_event)\n",
            "        2    0.000    0.000    0.005    0.003 /usr/local/lib/python3.12/dist-packages/ipykernel/iostream.py:219(<lambda>)\n",
            "        2    0.000    0.000    0.005    0.003 /usr/local/lib/python3.12/dist-packages/ipykernel/iostream.py:221(_really_send)\n",
            "        2    0.000    0.000    0.005    0.003 /usr/local/lib/python3.12/dist-packages/zmq/sugar/socket.py:709(send_multipart)\n",
            "        1    0.000    0.000    0.001    0.001 /usr/local/lib/python3.12/dist-packages/ipykernel/iostream.py:495(_flush)\n",
            "        1    0.000    0.000    0.001    0.001 /usr/local/lib/python3.12/dist-packages/jupyter_client/session.py:751(send)\n",
            "        1    0.000    0.000    0.000    0.000 /usr/local/lib/python3.12/dist-packages/tornado/platform/asyncio.py:206(_handle_events)\n",
            "        4    0.000    0.000    0.000    0.000 /usr/local/lib/python3.12/dist-packages/zmq/eventloop/zmqstream.py:654(_rebuild_io_state)\n",
            "        1    0.000    0.000    0.000    0.000 /usr/local/lib/python3.12/dist-packages/jupyter_client/session.py:687(serialize)\n",
            "        7    0.000    0.000    0.000    0.000 /usr/local/lib/python3.12/dist-packages/zmq/sugar/attrsettr.py:43(__getattr__)\n",
            "        2    0.000    0.000    0.000    0.000 {built-in method builtins.print}\n",
            "        4    0.000    0.000    0.000    0.000 /usr/local/lib/python3.12/dist-packages/zmq/eventloop/zmqstream.py:677(_update_handler)\n",
            "        4    0.000    0.000    0.000    0.000 /usr/local/lib/python3.12/dist-packages/jupyter_client/session.py:97(json_packer)\n",
            "        4    0.000    0.000    0.000    0.000 /usr/local/lib/python3.12/dist-packages/ipykernel/iostream.py:526(write)\n",
            "       20    0.000    0.000    0.000    0.000 /usr/lib/python3.12/enum.py:1550(__or__)\n",
            "        3    0.000    0.000    0.000    0.000 /usr/local/lib/python3.12/dist-packages/ipykernel/iostream.py:202(schedule)\n",
            "        4    0.000    0.000    0.000    0.000 /usr/lib/python3.12/json/__init__.py:183(dumps)\n",
            "  209/201    0.000    0.000    0.000    0.000 {built-in method builtins.isinstance}\n",
            "       93    0.000    0.000    0.000    0.000 /usr/lib/python3.12/enum.py:1543(_get_value)\n",
            "        4    0.000    0.000    0.000    0.000 /usr/lib/python3.12/json/encoder.py:183(encode)\n",
            "       11    0.000    0.000    0.000    0.000 /usr/lib/python3.12/enum.py:1561(__and__)\n",
            "        3    0.000    0.000    0.000    0.000 /usr/local/lib/python3.12/dist-packages/zmq/sugar/socket.py:780(recv_multipart)\n",
            "        4    0.000    0.000    0.000    0.000 /usr/local/lib/python3.12/dist-packages/ipykernel/iostream.py:456(_schedule_flush)\n",
            "        1    0.000    0.000    0.000    0.000 /usr/local/lib/python3.12/dist-packages/jupyter_client/session.py:646(msg)\n",
            "        4    0.000    0.000    0.000    0.000 /usr/lib/python3.12/json/encoder.py:205(iterencode)\n",
            "        7    0.000    0.000    0.000    0.000 /usr/local/lib/python3.12/dist-packages/zmq/sugar/attrsettr.py:66(_get_attr_opt)\n",
            "        1    0.000    0.000    0.000    0.000 {method 'disable' of '_lsprof.Profiler' objects}\n",
            "        1    0.000    0.000    0.000    0.000 /usr/local/lib/python3.12/dist-packages/jupyter_client/session.py:643(msg_header)\n",
            "       41    0.000    0.000    0.000    0.000 /usr/lib/python3.12/enum.py:720(__call__)\n",
            "        1    0.000    0.000    0.000    0.000 /usr/local/lib/python3.12/dist-packages/ipykernel/iostream.py:466(_schedule_in_thread)\n",
            "        1    0.000    0.000    0.000    0.000 /usr/local/lib/python3.12/dist-packages/ipykernel/iostream.py:214(send_multipart)\n",
            "        4    0.000    0.000    0.000    0.000 /usr/lib/python3.12/typing.py:1221(__instancecheck__)\n",
            "        1    0.000    0.000    0.000    0.000 /usr/local/lib/python3.12/dist-packages/tornado/ioloop.py:604(call_later)\n",
            "        1    0.000    0.000    0.000    0.000 /usr/local/lib/python3.12/dist-packages/jupyter_client/session.py:273(msg_header)\n",
            "        9    0.000    0.000    0.000    0.000 /usr/lib/python3.12/typing.py:392(inner)\n",
            "        4    0.000    0.000    0.000    0.000 /usr/lib/python3.12/typing.py:1492(__subclasscheck__)\n",
            "        2    0.000    0.000    0.000    0.000 /usr/local/lib/python3.12/dist-packages/jupyter_client/jsonutil.py:108(json_default)\n",
            "        1    0.000    0.000    0.000    0.000 /usr/local/lib/python3.12/dist-packages/jupyter_client/session.py:201(utcnow)\n",
            "        1    0.000    0.000    0.000    0.000 /usr/local/lib/python3.12/dist-packages/tornado/platform/asyncio.py:216(call_at)\n",
            "        2    0.000    0.000    0.000    0.000 /usr/local/lib/python3.12/dist-packages/tornado/platform/asyncio.py:231(add_callback)\n",
            "        1    0.000    0.000    0.000    0.000 /usr/local/lib/python3.12/dist-packages/traitlets/traitlets.py:720(__set__)\n",
            "        4    0.000    0.000    0.000    0.000 /usr/local/lib/python3.12/dist-packages/zmq/eventloop/zmqstream.py:533(sending)\n",
            "        1    0.000    0.000    0.000    0.000 /usr/lib/python3.12/asyncio/base_events.py:747(call_later)\n",
            "        1    0.000    0.000    0.000    0.000 /usr/local/lib/python3.12/dist-packages/traitlets/traitlets.py:702(set)\n",
            "       41    0.000    0.000    0.000    0.000 /usr/lib/python3.12/enum.py:1128(__new__)\n",
            "        1    0.000    0.000    0.000    0.000 {built-in method utcnow}\n",
            "        1    0.000    0.000    0.000    0.000 /usr/local/lib/python3.12/dist-packages/ipykernel/iostream.py:577(_flush_buffer)\n",
            "       14    0.000    0.000    0.000    0.000 /usr/local/lib/python3.12/dist-packages/traitlets/traitlets.py:689(__get__)\n",
            "        4    0.000    0.000    0.000    0.000 /usr/lib/python3.12/queue.py:97(empty)\n",
            "        3    0.000    0.000    0.000    0.000 /usr/lib/python3.12/threading.py:1222(is_alive)\n",
            "        2    0.000    0.000    0.000    0.000 {method 'isoformat' of 'datetime.datetime' objects}\n",
            "        1    0.000    0.000    0.000    0.000 /usr/lib/python3.12/asyncio/base_events.py:771(call_at)\n",
            "        1    0.000    0.000    0.000    0.000 /usr/local/lib/python3.12/dist-packages/traitlets/traitlets.py:731(_validate)\n",
            "        2    0.000    0.000    0.000    0.000 /usr/lib/python3.12/asyncio/base_events.py:789(call_soon)\n",
            "     23/1    0.016    0.001    0.000    0.000 /usr/local/lib/python3.12/dist-packages/zmq/sugar/socket.py:632(send)\n",
            "        4    0.000    0.000    0.000    0.000 {built-in method builtins.issubclass}\n",
            "        6    0.000    0.000    0.000    0.000 /usr/lib/python3.12/typing.py:1285(__hash__)\n",
            "        7    0.000    0.000    0.000    0.000 <frozen importlib._bootstrap>:1390(_handle_fromlist)\n",
            "        6    0.000    0.000    0.000    0.000 /usr/lib/python3.12/asyncio/base_events.py:738(time)\n",
            "        2    0.000    0.000    0.000    0.000 /usr/lib/python3.12/asyncio/base_events.py:818(_call_soon)\n",
            "        3    0.000    0.000    0.000    0.000 /usr/lib/python3.12/asyncio/events.py:36(__init__)\n",
            "        9    0.000    0.000    0.000    0.000 {built-in method posix.getpid}\n",
            "        1    0.000    0.000    0.000    0.000 /usr/local/lib/python3.12/dist-packages/jupyter_client/session.py:599(msg_id)\n",
            "       32    0.000    0.000    0.000    0.000 {built-in method builtins.len}\n",
            "        3    0.000    0.000    0.000    0.000 /usr/lib/python3.12/threading.py:1155(_wait_for_tstate_lock)\n",
            "        4    0.000    0.000    0.000    0.000 <frozen abc>:121(__subclasscheck__)\n",
            "        1    0.000    0.000    0.000    0.000 /usr/local/lib/python3.12/dist-packages/ipykernel/iostream.py:584(_rotate_buffer)\n",
            "        1    0.000    0.000    0.000    0.000 /usr/lib/python3.12/asyncio/events.py:111(__init__)\n",
            "        4    0.000    0.000    0.000    0.000 /usr/local/lib/python3.12/dist-packages/ipykernel/iostream.py:437(_is_master_process)\n",
            "        7    0.000    0.000    0.000    0.000 {built-in method builtins.getattr}\n",
            "       14    0.000    0.000    0.000    0.000 /usr/local/lib/python3.12/dist-packages/traitlets/traitlets.py:651(get)\n",
            "        8    0.000    0.000    0.000    0.000 {built-in method builtins.max}\n",
            "        9    0.000    0.000    0.000    0.000 {built-in method builtins.hasattr}\n",
            "        2    0.000    0.000    0.000    0.000 /usr/local/lib/python3.12/dist-packages/tornado/ioloop.py:549(time)\n",
            "        4    0.000    0.000    0.000    0.000 /usr/lib/python3.12/asyncio/selector_events.py:750(_process_events)\n",
            "        2    0.000    0.000    0.000    0.000 /usr/local/lib/python3.12/dist-packages/ipykernel/iostream.py:165(_check_mp_mode)\n",
            "        1    0.000    0.000    0.000    0.000 /usr/local/lib/python3.12/dist-packages/traitlets/traitlets.py:740(_cross_validate)\n",
            "        3    0.000    0.000    0.000    0.000 /usr/local/lib/python3.12/dist-packages/ipykernel/iostream.py:90(_event_pipe)\n",
            "        3    0.000    0.000    0.000    0.000 {method 'acquire' of '_thread.lock' objects}\n",
            "        1    0.000    0.000    0.000    0.000 /usr/local/lib/python3.12/dist-packages/traitlets/traitlets.py:2373(validate)\n",
            "        4    0.000    0.000    0.000    0.000 {built-in method _abc._abc_subclasscheck}\n",
            "        1    0.000    0.000    0.000    0.000 {method 'replace' of 'datetime.datetime' objects}\n",
            "        4    0.000    0.000    0.000    0.000 {method 'encode' of 'str' objects}\n",
            "        4    0.000    0.000    0.000    0.000 /usr/lib/python3.12/queue.py:209(_qsize)\n",
            "        6    0.000    0.000    0.000    0.000 {built-in method time.monotonic}\n",
            "        1    0.000    0.000    0.000    0.000 /usr/local/lib/python3.12/dist-packages/jupyter_client/session.py:280(extract_header)\n",
            "        7    0.000    0.000    0.000    0.000 {method 'append' of 'collections.deque' objects}\n",
            "        7    0.000    0.000    0.000    0.000 {method 'upper' of 'str' objects}\n",
            "        2    0.000    0.000    0.000    0.000 /usr/local/lib/python3.12/dist-packages/ipykernel/iostream.py:162(_is_master_process)\n",
            "        1    0.000    0.000    0.000    0.000 {built-in method posix.getppid}\n",
            "        7    0.000    0.000    0.000    0.000 {method 'popleft' of 'collections.deque' objects}\n",
            "        4    0.000    0.000    0.000    0.000 {method 'write' of '_io.StringIO' objects}\n",
            "        1    0.000    0.000    0.000    0.000 {built-in method builtins.locals}\n",
            "        5    0.000    0.000    0.000    0.000 {method '__exit__' of '_thread.RLock' objects}\n",
            "        2    0.000    0.000    0.000    0.000 {method 'replace' of 'str' objects}\n",
            "        1    0.000    0.000    0.000    0.000 /usr/local/lib/python3.12/dist-packages/jupyter_client/session.py:672(sign)\n",
            "        2    0.000    0.000    0.000    0.000 {built-in method _asyncio.get_running_loop}\n",
            "        4    0.000    0.000    0.000    0.000 /usr/lib/python3.12/json/encoder.py:105(__init__)\n",
            "        3    0.000    0.000    0.000    0.000 {built-in method _contextvars.copy_context}\n",
            "        6    0.000    0.000    0.000    0.000 {built-in method builtins.hash}\n",
            "        4    0.000    0.000    0.000    0.000 {method 'join' of 'str' objects}\n",
            "        7    0.000    0.000    0.000    0.000 /usr/local/lib/python3.12/dist-packages/zmq/eventloop/zmqstream.py:529(receiving)\n",
            "        2    0.000    0.000    0.000    0.000 /usr/local/lib/python3.12/dist-packages/jupyter_client/jsonutil.py:39(_ensure_tzinfo)\n",
            "        4    0.000    0.000    0.000    0.000 {method 'append' of 'list' objects}\n",
            "        4    0.000    0.000    0.000    0.000 {method '__exit__' of '_thread.lock' objects}\n",
            "        1    0.000    0.000    0.000    0.000 /usr/lib/python3.12/asyncio/base_events.py:1907(_add_callback)\n",
            "        1    0.000    0.000    0.000    0.000 {method 'getvalue' of '_io.StringIO' objects}\n",
            "        2    0.000    0.000    0.000    0.000 {built-in method time.time}\n",
            "        1    0.000    0.000    0.000    0.000 {built-in method _heapq.heappop}\n",
            "        1    0.000    0.000    0.000    0.000 {method 'copy' of 'dict' objects}\n",
            "        1    0.000    0.000    0.000    0.000 {built-in method builtins.min}\n",
            "        2    0.000    0.000    0.000    0.000 {method 'extend' of 'list' objects}\n",
            "        1    0.000    0.000    0.000    0.000 {method 'get' of 'dict' objects}\n",
            "        1    0.000    0.000    0.000    0.000 /usr/local/lib/python3.12/dist-packages/traitlets/traitlets.py:2336(_validate_bounds)\n",
            "        1    0.000    0.000    0.000    0.000 {built-in method _heapq.heappush}\n",
            "        3    0.000    0.000    0.000    0.000 /usr/lib/python3.12/asyncio/base_events.py:543(_check_closed)\n",
            "        3    0.000    0.000    0.000    0.000 /usr/lib/python3.12/threading.py:601(is_set)\n",
            "        1    0.000    0.000    0.000    0.000 /usr/lib/python3.12/selectors.py:275(_key_from_fd)\n",
            "        1    0.000    0.000    0.000    0.000 {built-in method math.ceil}\n",
            "        2    0.000    0.000    0.000    0.000 /usr/local/lib/python3.12/dist-packages/ipykernel/iostream.py:198(closed)\n",
            "        1    0.000    0.000    0.000    0.000 {method 'close' of '_io.StringIO' objects}\n",
            "        3    0.000    0.000    0.000    0.000 /usr/lib/python3.12/asyncio/base_events.py:2017(get_debug)\n",
            "        3    0.000    0.000    0.000    0.000 /usr/lib/python3.12/typing.py:2187(cast)\n",
            "      1/0    0.067    0.067    0.000          {built-in method time.sleep}\n",
            "\n",
            "\n",
            "\n",
            "\n",
            "--- 測試 (按 tottime 排序, 僅顯示前 5 名) ---\n",
            "         500869 function calls (500838 primitive calls) in 0.457 seconds\n",
            "\n",
            "   Ordered by: internal time\n",
            "   List reduced from 137 to 5 due to restriction <5>\n",
            "\n",
            "   ncalls  tottime  percall  cumtime  percall filename:lineno(function)\n",
            "        1    0.178    0.178    0.232    0.232 /tmp/ipython-input-762172104.py:19(main)\n",
            "        4    0.090    0.023    0.207    0.052 {method 'poll' of 'select.epoll' objects}\n",
            "   500000    0.071    0.000    0.071    0.000 /tmp/ipython-input-762172104.py:15(fast_function)\n",
            "      1/0    0.067    0.067    0.000          {built-in method time.sleep}\n",
            "        1    0.033    0.033    0.100    0.100 /tmp/ipython-input-762172104.py:7(slow_function)\n",
            "\n",
            "\n",
            "\n"
          ]
        }
      ]
    },
    {
      "cell_type": "markdown",
      "source": [
        "觀察：\n",
        "\n",
        "* 在第一個報告中（按 `cumtime` 排序），`main` 函式排在最前面，因為它包含了「所有」執行時間 (`0.232` 秒)。\n",
        "\n",
        "* 在第二個報告中（按 `tottime` 排序），`time.sleep` (`0.067` 秒) 排在第一，`slow_function` (`0.033` 秒) 排在第二。這告訴您，瓶頸在於 `time.sleep`，其次才是 `slow_function` 中的 `for` 迴圈。\n",
        "\n",
        "總結：\n",
        "\n",
        "* 使用 `cProfile.run()` 進行快速測試。\n",
        "\n",
        "* 使用 `cProfile.Profile` 和 `pstats` 進行詳細分析、排序和儲存結果。"
      ],
      "metadata": {
        "id": "HHldKgpL2qFP"
      }
    },
    {
      "cell_type": "markdown",
      "source": [
        "## 10.11. 品質控管 (Quality Control)"
      ],
      "metadata": {
        "id": "_B640hx84Gr4"
      }
    },
    {
      "cell_type": "markdown",
      "source": [
        "**品質控管（Quality Control, QC)** 是軟體開發中極為重要的一環。\n",
        "\n",
        "* Python 內建的兩個主要測試框架：`doctest` 和 `unittest`。\n",
        "\n",
        "* 這兩種方法目的相同（確保程式碼正確），但適用情境不同：\n",
        "\n",
        "    * `doctest`：簡單、輕量，將測試「嵌入」到文件字串 (docstring) 中。\n",
        "\n",
        "    * `unittest`：功能完整、結構化，將測試「獨立」撰寫成測試集 (test suite)。\n",
        "\n",
        "* 達到高品質軟體的一個方法，是在開發時對每個函式寫測試，並在開發過程中不斷地執行這些測試。"
      ],
      "metadata": {
        "id": "MeEkc78I91JU"
      }
    },
    {
      "cell_type": "markdown",
      "source": [
        "1. **`doctest` 模組 (文件即測試)**\n",
        "\n",
        "* `doctest` 模組提供了一個工具，它會掃描模組並根據程式中內嵌的文件字串 (docstrings) 執行測試。\n",
        "\n",
        "* 核心概念： 撰寫測試就像在 Python 互動式 shell (REPL) 中一樣，簡單地將函式呼叫 (以 >>> 開頭) 及其「精確的」預期輸出結果剪下並貼上到文件字串中。\n",
        "\n",
        "* 這有雙重好處：\n",
        "\n",
        "    1. 強化文件：它為使用者提供了清晰可執行的範例。\n",
        "\n",
        "    2. 驗證程式：`doctest` 模組可以自動確認程式碼的執行結果與說明文件中的範例一致。\n",
        "\n",
        "基礎範例："
      ],
      "metadata": {
        "id": "iXkbr3dk-_Lq"
      }
    },
    {
      "cell_type": "code",
      "source": [
        "def average(values):\n",
        "    \"\"\"Computes the arithmetic mean of a list of numbers.\n",
        "\n",
        "    (這裡是 doctest)\n",
        "    >>> print(average([20, 30, 70]))\n",
        "    40.0\n",
        "    \"\"\"\n",
        "    return sum(values) / len(values)"
      ],
      "metadata": {
        "id": "Xvfdcfbj2WGc"
      },
      "execution_count": null,
      "outputs": []
    },
    {
      "cell_type": "markdown",
      "source": [
        "* 如何執行 `doctest`：\n",
        "\n",
        "    * 您可以將這段程式碼儲存為 `my_math.py`，並在檔案末尾加入以下程式碼：\n",
        "\n",
        "    ```python\n",
        "    if __name__ == \"__main__\":\n",
        "        import doctest\n",
        "        doctest.testmod()   # 自動驗證此模組中內嵌的測試\n",
        "    ```"
      ],
      "metadata": {
        "id": "a-0xe0MUA2wE"
      }
    },
    {
      "cell_type": "markdown",
      "source": [
        "當您執行 `python my_math.py` 時，\n",
        "\n",
        "* `doctest` 會執行 `>>> print(average([20, 30, 70]))`，並檢查其輸出是否「完全等於」 下一行的 `40.0`。\n",
        "    * 如果一致，它會安靜地通過；\n",
        "    * 如果不一致，它會印出詳細的失敗報告。"
      ],
      "metadata": {
        "id": "kImj-SllBLy_"
      }
    },
    {
      "cell_type": "code",
      "source": [
        "def average(values):\n",
        "    \"\"\"Computes the arithmetic mean of a list of numbers.\n",
        "\n",
        "    (這裡是 doctest)\n",
        "    >>> print(average([20, 30, 70]))\n",
        "    40.0\n",
        "    \"\"\"\n",
        "    return sum(values) / len(values)\n",
        "\n",
        "if __name__ == \"__main__\":\n",
        "    import doctest\n",
        "    doctest.testmod()   # 自動驗證此模組中內嵌的測試"
      ],
      "metadata": {
        "id": "QnBW_fz2A-4h"
      },
      "execution_count": null,
      "outputs": []
    },
    {
      "cell_type": "code",
      "source": [
        "def average(values):\n",
        "    \"\"\"Computes the arithmetic mean of a list of numbers.\n",
        "\n",
        "    (這裡是 doctest)\n",
        "    >>> print(average([20, 30, 70]))\n",
        "    25.0\n",
        "    \"\"\"\n",
        "    return sum(values) / len(values)\n",
        "\n",
        "if __name__ == \"__main__\":\n",
        "    import doctest\n",
        "    doctest.testmod()   # 自動驗證此模組中內嵌的測試\n"
      ],
      "metadata": {
        "colab": {
          "base_uri": "https://localhost:8080/"
        },
        "id": "TnoAHyGXBb08",
        "outputId": "1dc07ac4-6c66-4c4d-d03a-964010e55a6d"
      },
      "execution_count": null,
      "outputs": [
        {
          "output_type": "stream",
          "name": "stdout",
          "text": [
            "**********************************************************************\n",
            "File \"__main__\", line 5, in __main__.average\n",
            "Failed example:\n",
            "    print(average([20, 30, 70]))\n",
            "Expected:\n",
            "    25.0\n",
            "Got:\n",
            "    40.0\n",
            "**********************************************************************\n",
            "1 items had failures:\n",
            "   1 of   1 in __main__.average\n",
            "***Test Failed*** 1 failures.\n"
          ]
        }
      ]
    },
    {
      "cell_type": "markdown",
      "source": [
        "`doctest` 的更多用法與範例：\n",
        "\n",
        "**範例 1：處理多個測試和邊界情況 (Edge Cases)**\n",
        "\n",
        "`doctest` 會執行文件字串中 所有 的 `>>>` 範例。"
      ],
      "metadata": {
        "id": "4rSSGHHABsXj"
      }
    },
    {
      "cell_type": "code",
      "source": [
        "def average(values):\n",
        "    \"\"\"Computes the arithmetic mean of a list of numbers.\n",
        "\n",
        "    >>> print(average([20, 30, 70]))\n",
        "    40.0\n",
        "\n",
        "    測試單一元素：\n",
        "    >>> print(average([5]))\n",
        "    5.0\n",
        "\n",
        "    測試浮點數：\n",
        "    >>> print(average([1.5, 2.5, 3.5]))\n",
        "    2.5\n",
        "    \"\"\"\n",
        "    return sum(values) / len(values)\n",
        "\n",
        "def get_greeting(name):\n",
        "    \"\"\"Returns a personalized greeting.\n",
        "\n",
        "    >>> print(get_greeting(\"Alice\"))\n",
        "    Hello, Alice!\n",
        "\n",
        "    測試預設值：\n",
        "    >>> print(get_greeting(None))\n",
        "    Hello, World!\n",
        "    \"\"\"\n",
        "    if name:\n",
        "        return f\"Hello, {name}!\"\n",
        "    else:\n",
        "        return \"Hello, World!\"\n",
        "\n",
        "if __name__ == \"__main__\":\n",
        "    import doctest\n",
        "    doctest.testmod()"
      ],
      "metadata": {
        "id": "2t6NPefqBgkF"
      },
      "execution_count": null,
      "outputs": []
    },
    {
      "cell_type": "markdown",
      "source": [
        "**範例 2：預期錯誤 (Exceptions)**\n",
        "\n",
        "如果您的函式應該拋出錯誤，`doctest` 也需要捕捉「精確的」錯誤追蹤訊息 (`traceback`)。"
      ],
      "metadata": {
        "id": "HX1otfpkCB6R"
      }
    },
    {
      "cell_type": "code",
      "source": [
        "def average(values):\n",
        "    \"\"\"Computes the arithmetic mean...\n",
        "\n",
        "    ... (其他測試) ...\n",
        "\n",
        "    測試空列表 (應引發 ZeroDivisionError):\n",
        "    >>> print(average([]))\n",
        "    Traceback (most recent call last):\n",
        "        ...\n",
        "    ZeroDivisionError: division by zero\n",
        "    \"\"\"\n",
        "    if not values:\n",
        "        # 為了讓 doctest 運作，我們必須確保錯誤訊息一致\n",
        "        # 但在實務上，更好的做法是自訂錯誤\n",
        "        # raise ValueError(\"List cannot be empty\")\n",
        "        pass # 暫時跳過，以符合下面的範例\n",
        "\n",
        "    return sum(values) / len(values)"
      ],
      "metadata": {
        "id": "AkgkBReyB_AS"
      },
      "execution_count": null,
      "outputs": []
    },
    {
      "cell_type": "markdown",
      "source": [
        "注意：`doctest` 對錯誤追蹤的格式要求非常嚴格，`...` 是一個萬用字元，可以忽略可能變動的中間路徑。\n",
        "\n",
        "**`doctest` 的優缺點：**\n",
        "\n",
        "* 優點：非常簡單，強迫您撰寫良好的文件和範例。\n",
        "\n",
        "* 缺點：對於複雜的邏輯、浮點數的精確度、或需要複雜設定 (setup) 的測試，`doctest` 會變得很麻煩。"
      ],
      "metadata": {
        "id": "Ci7ddDMSCSWn"
      }
    },
    {
      "cell_type": "markdown",
      "source": [
        "2. **unittest 模組 (完整的測試集)**\n",
        "\n",
        "* `unittest` 模組（也稱為 \"PyUnit\"）不像 `doctest` 模組這般容易上手，但它是一個功能齊全的測試框架 (基於 xUnit 概念)，讓您可以在獨立的測試檔案中撰寫更完整、更結構化的測試集。\n",
        "\n",
        "* 核心概念：\n",
        "\n",
        "    1. **測試案例 (Test Case)**：建立一個繼承自 `unittest.TestCase` 的類別。\n",
        "\n",
        "    2. **測試方法 (Test Method)**：在類別中定義以 `test_` 開頭的方法。\n",
        "\n",
        "    3. **斷言 (Assertions)**：使用 `self.assertEqual`、`self.assertTrue`、`self.assertRaises` 等方法來驗證結果。\n",
        "\n",
        "    4. **測試執行器 (Test Runner)**：使用 `unittest.main()` 或命令列來執行測試。\n",
        "\n",
        "基礎範例：\n",
        "\n",
        "假設您將 `average` 函式存在 `my_math.py` 中。您可以建立一個新的檔案 `test_my_math.py`："
      ],
      "metadata": {
        "id": "hSQ5xPtYHWAG"
      }
    },
    {
      "cell_type": "code",
      "source": [
        "# test_my_math.py\n",
        "import unittest\n",
        "from my_math import average # 匯入您要測試的函式\n",
        "\n",
        "class TestStatisticalFunctions(unittest.TestCase):\n",
        "\n",
        "    # 每個 test_ 方法都是一個獨立的測試案例\n",
        "    def test_average(self):\n",
        "        # 1. 斷言 'assertEqual'：檢查 average([20, 30, 70]) 是否 \"等於\" 40.0\n",
        "        self.assertEqual(average([20, 30, 70]), 40.0)\n",
        "\n",
        "        # 2. 斷言浮點數 (您範例中的 round 是一種方法)\n",
        "        self.assertEqual(round(average([1, 5, 7]), 1), 4.3)\n",
        "\n",
        "        # 3. 斷言 'assertRaises' (使用 'with' 語法更推薦)\n",
        "        # 檢查當呼叫 average([]) 時，是否 \"拋出了\" ZeroDivisionError\n",
        "        with self.assertRaises(ZeroDivisionError):\n",
        "            average([])\n",
        "\n",
        "        # 4. 檢查型別錯誤\n",
        "        with self.assertRaises(TypeError):\n",
        "            # 這裡的 lambda 是必要的，因為 average() 需要一個 list\n",
        "            # 我們不能直接寫 average(20, 30, 70)\n",
        "            average(20, 30, 70)\n",
        "\n",
        "if __name__ == \"__main__\":\n",
        "    unittest.main()  # 呼叫 unittest 的主程式來執行所有測試"
      ],
      "metadata": {
        "id": "Q0UJ4z3RCQM-"
      },
      "execution_count": null,
      "outputs": []
    },
    {
      "cell_type": "markdown",
      "source": [
        "如何執行 `unittest`：\n",
        "\n",
        "* 在命令列中執行 `python test_my_math.py`。\n",
        "\n",
        "* `unittest.main()` 會自動尋找 `TestStatisticalFunctions` 類別中所有 `test_` 開頭的方法並執行它們。"
      ],
      "metadata": {
        "id": "QmAotPFNJLbV"
      }
    },
    {
      "cell_type": "markdown",
      "source": [
        "**`unittest` 的更多常用函式與用法**\n",
        "\n",
        "`unittest` 的強大之處在於其豐富的「斷言方法」和「測試裝置 (Fixtures)」。\n",
        "\n",
        "1. 更多常用的「斷言方法」："
      ],
      "metadata": {
        "id": "d9UX2rJQJbgS"
      }
    },
    {
      "cell_type": "code",
      "source": [
        "import unittest\n",
        "\n",
        "class TestMoreAssertions(unittest.TestCase):\n",
        "\n",
        "    def test_boolean_and_identity(self):\n",
        "        self.assertTrue(5 > 3)\n",
        "        self.assertFalse(3 > 5)\n",
        "\n",
        "        my_var = None\n",
        "        self.assertIsNone(my_var)\n",
        "        self.assertIsNotNone(\"Hello\")\n",
        "\n",
        "    def test_membership(self):\n",
        "        my_list = ['a', 'b', 'c']\n",
        "        self.assertIn('b', my_list)\n",
        "        self.assertNotIn('z', my_list)\n",
        "\n",
        "    def test_floating_point(self):\n",
        "        # 處理浮點數時，\"不要\" 用 assertEqual，因為有精度問題\n",
        "        # (例如 0.1 + 0.2 不等於 0.3)\n",
        "        # 應使用 'assertAlmostEqual'\n",
        "        self.assertAlmostEqual(0.1 + 0.2, 0.3, places=7)\n",
        "        self.assertAlmostEqual(average([1, 5, 7]), 4.3333333, places=5)"
      ],
      "metadata": {
        "id": "vnem0KHNI401"
      },
      "execution_count": 2,
      "outputs": []
    },
    {
      "cell_type": "markdown",
      "source": [
        "2. **測試裝置 (Test Fixtures)：`setUp` 和 `tearDown`**\n",
        "\n",
        "* 當許多測試都需要「相同的前置作業」（例如建立一個資料庫連線、建立一個複雜物件）時，您可以使用 `setUp` 和 `tearDown`。\n",
        "\n",
        "    * `setUp(self)`：在每一個 `test_` 方法執行之前都會被呼叫。\n",
        "\n",
        "    * `tearDown(self)`：在每一個 `test_` 方法執行之後都會被呼叫 (無論測試成功或失敗)。\n",
        "\n",
        "範例：測試一個「購物車」類別"
      ],
      "metadata": {
        "id": "sboq0O_oigIA"
      }
    },
    {
      "cell_type": "code",
      "source": [
        "# shopping_cart.py (假設您有這個檔案)\n",
        "class ShoppingCart:\n",
        "    def __init__(self):\n",
        "        self.items = {}\n",
        "\n",
        "    def add_item(self, item, price, quantity=1):\n",
        "        if item in self.items:\n",
        "            self.items[item]['quantity'] += quantity\n",
        "        else:\n",
        "            self.items[item] = {'price': price, 'quantity': quantity}\n",
        "\n",
        "    def get_total_price(self):\n",
        "        total = 0\n",
        "        for item, info in self.items.items():\n",
        "            total += info['price'] * info['quantity']\n",
        "        return total\n",
        "\n",
        "    def get_item_count(self):\n",
        "        return sum(info['quantity'] for info in self.items.values())\n",
        "\n",
        "# test_shopping_cart.py\n",
        "import unittest\n",
        "from shopping_cart import ShoppingCart\n",
        "\n",
        "class TestShoppingCart(unittest.TestCase):\n",
        "\n",
        "    # 1. 前置作業：建立一個 \"乾淨\" 的購物車供 \"每個\" 測試使用\n",
        "    def setUp(self):\n",
        "        # self.cart 會在 test_add_single_item 和 test_add_multiple_items 中被使用\n",
        "        self.cart = ShoppingCart()\n",
        "        print(\"\\n[Running setUp]: Creating a new cart...\")\n",
        "\n",
        "    # 2. 測試 1\n",
        "    def test_add_single_item(self):\n",
        "        self.cart.add_item(\"apple\", 0.5, 1)\n",
        "        self.assertEqual(self.cart.get_item_count(), 1)\n",
        "        self.assertEqual(self.cart.get_total_price(), 0.5)\n",
        "\n",
        "    # 3. 測試 2\n",
        "    def test_add_multiple_items(self):\n",
        "        self.cart.add_item(\"apple\", 0.5, 2)\n",
        "        self.cart.add_item(\"banana\", 0.25, 3)\n",
        "        self.assertEqual(self.cart.get_item_count(), 5) # 2 (apples) + 3 (bananas)\n",
        "        self.assertEqual(self.cart.get_total_price(), (0.5 * 2) + (0.25 * 3)) # 1.0 + 0.75 = 1.75\n",
        "\n",
        "    # 4. 測試 3\n",
        "    def test_add_existing_item(self):\n",
        "        self.cart.add_item(\"apple\", 0.5, 1) # 第一次加\n",
        "        self.cart.add_item(\"apple\", 0.5, 3) # 第二次加\n",
        "        self.assertEqual(self.cart.get_item_count(), 4) # 1 + 3\n",
        "        self.assertEqual(self.cart.get_total_price(), 0.5 * 4) # 2.0\n",
        "\n",
        "    # 5. 清理作業 (範例：如果需要關閉檔案或資料庫連線)\n",
        "    def tearDown(self):\n",
        "        print(\"[Running tearDown]: Cleaning up...\")\n",
        "        # 在這個例子中，self.cart 會自動被銷毀，但如果是檔案或連線，可以在這裡 .close()\n",
        "\n",
        "if __name__ == \"__main__\":\n",
        "    unittest.main()"
      ],
      "metadata": {
        "id": "Lr7P-X4HiUEy"
      },
      "execution_count": null,
      "outputs": []
    },
    {
      "cell_type": "markdown",
      "source": [
        "**執行上述測試，您會看到 `setUp` 和 `tearDown` 在 每個 測試（共 3 個）前後都被執行，確保了測試之間的隔離性。**"
      ],
      "metadata": {
        "id": "us2W9qowk66m"
      }
    },
    {
      "cell_type": "markdown",
      "source": [
        "總結建議：\n",
        "\n",
        "* `doctest`：用於簡單的函式，尤其是數學工具或資料處理函式。它可以確保您的文件範例永遠是正確的。\n",
        "\n",
        "* `unittest`：用於您應用程式的核心邏輯、類別 (Class) 和模組。當您需要處理複雜的設定 (`setUp`)、清理 (`tearDown`) 或需要多種斷言時，這是標準的選擇。"
      ],
      "metadata": {
        "id": "IWnWfF9TlCLr"
      }
    }
  ]
}