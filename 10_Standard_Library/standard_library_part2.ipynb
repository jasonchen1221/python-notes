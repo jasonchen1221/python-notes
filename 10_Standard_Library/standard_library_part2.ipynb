{
  "nbformat": 4,
  "nbformat_minor": 0,
  "metadata": {
    "colab": {
      "provenance": [],
      "toc_visible": true,
      "authorship_tag": "ABX9TyNJ5OsenAzz5tfO6gVTUdAe"
    },
    "kernelspec": {
      "name": "python3",
      "display_name": "Python 3"
    },
    "language_info": {
      "name": "python"
    }
  },
  "cells": [
    {
      "cell_type": "markdown",
      "source": [
        "# 11. Brief Tour of the Standard Library — Part II\n",
        "\n",
        "* 第二部分涵蓋更多支援專業程式設計所需要的進階模組。這些模組很少出現在小腳本中。"
      ],
      "metadata": {
        "id": "FIbeQ1hIbD5k"
      }
    },
    {
      "cell_type": "markdown",
      "source": [
        "## 11.1. 輸出格式化 (Output Formatting)\n",
        "\n",
        "* 當程式的輸出需要更具可讀性或特定格式時，可以使用以下模組。\n",
        "\n",
        "1. **`reprlib` 模組 (簡潔的容器表示)**\n",
        "\n",
        "* 主要用途：`reprlib` 模組提供了一個 `repr()` 的變體，專門用來以簡短的形式顯示大型或深層巢狀的容器（如 `list`, `set`, `dict`），避免因內容過多而佔滿整個螢幕。\n",
        "\n",
        "基礎範例"
      ],
      "metadata": {
        "id": "pmaCQks3bNV8"
      }
    },
    {
      "cell_type": "code",
      "source": [
        "import reprlib\n",
        "\n",
        "# 對一個包含很多元素的 set 使用 reprlib.repr()\n",
        "reprlib.repr(set('supercalifragilisticexpialidocious'))\n",
        "# \"{'a', 'c', 'd', 'e', 'f', 'g', ...}\" # 輸出被截斷並加上 ..."
      ],
      "metadata": {
        "colab": {
          "base_uri": "https://localhost:8080/",
          "height": 35
        },
        "id": "XINjWd0obIVx",
        "outputId": "a8624f85-1b40-4994-812d-3872f2c4dc7c"
      },
      "execution_count": null,
      "outputs": [
        {
          "output_type": "execute_result",
          "data": {
            "text/plain": [
              "\"{'a', 'c', 'd', 'e', 'f', 'g', ...}\""
            ],
            "application/vnd.google.colaboratory.intrinsic+json": {
              "type": "string"
            }
          },
          "metadata": {},
          "execution_count": 1
        }
      ]
    },
    {
      "cell_type": "markdown",
      "source": [
        "* `reprlib` 的更多常用函式與用法：\n",
        "\n",
        "    * `reprlib` 的強大之處在於可以自訂截斷的規則。"
      ],
      "metadata": {
        "id": "7CT0q23jchQj"
      }
    },
    {
      "cell_type": "code",
      "source": [
        "import reprlib\n",
        "\n",
        "long_list = list(range(100))\n",
        "deeply_nested_dict = {'a': 1, 'b': 2, 'c': {'d': 3, 'e': {'f': 4, 'g': 5}}}\n",
        "\n",
        "# 1. 預設行為\n",
        "print(f\"預設 reprlib: {reprlib.repr(long_list)}\")\n",
        "# 輸出: 預設 reprlib: [0, 1, 2, 3, 4, 5, ...]\n",
        "\n",
        "# 2. 自訂截斷規則\n",
        "# 建立一個 Repr 物件來自訂行為\n",
        "custom_repr = reprlib.Repr()\n",
        "\n",
        "# (a) 設定 list 的最大長度\n",
        "custom_repr.maxlist = 10\n",
        "print(f\"maxlist=10: {custom_repr.repr(long_list)}\")\n",
        "# 輸出: maxlist=10: [0, 1, 2, 3, 4, 5, 6, 7, 8, 9, ...]\n",
        "\n",
        "# (b) 設定字串的最大長度\n",
        "custom_repr.maxstring = 20\n",
        "long_string = \"This is a very long string that needs to be truncated.\"\n",
        "print(f\"maxstring=20: {custom_repr.repr(long_string)}\")\n",
        "# 輸出: maxstring=20: 'This is...uncated.'\n",
        "\n",
        "# (c) 設定巢狀結構的最大深度\n",
        "custom_repr.maxlevel = 2\n",
        "print(f\"maxlevel=2: {custom_repr.repr(deeply_nested_dict)}\")\n",
        "# 輸出: maxlevel=2: {'a': 1, 'b': 2, 'c': {'d': 3, 'e': {...}}}\n"
      ],
      "metadata": {
        "colab": {
          "base_uri": "https://localhost:8080/"
        },
        "id": "exnlBZVrccKi",
        "outputId": "dc6177c9-dd49-4c97-80f0-8e8579dcb93e"
      },
      "execution_count": null,
      "outputs": [
        {
          "output_type": "stream",
          "name": "stdout",
          "text": [
            "預設 reprlib: [0, 1, 2, 3, 4, 5, ...]\n",
            "maxlist=10: [0, 1, 2, 3, 4, 5, 6, 7, 8, 9, ...]\n",
            "maxstring=20: 'This is...uncated.'\n",
            "maxlevel=2: {'a': 1, 'b': 2, 'c': {'d': 3, 'e': {...}}}\n"
          ]
        }
      ]
    },
    {
      "cell_type": "markdown",
      "source": [
        "2. **`pprint` 模組 (漂亮的印表機)**\n",
        "\n",
        "* 主要用途：\n",
        "    * `pprint` (Pretty-Printer) 模組能對內建和使用者自訂的物件提供更複雜的列印控制。\n",
        "    \n",
        "    * 當結果超過一行時，它會自動加入換行和縮排，以更清楚地顯示複雜的資料結構（特別是巢狀的字典和列表），這在除錯時非常有用。\n",
        "\n",
        "基礎範例："
      ],
      "metadata": {
        "id": "CmnVYQsp-Hcp"
      }
    },
    {
      "cell_type": "code",
      "source": [
        "import pprint\n",
        "\n",
        "t = [[[['black', 'cyan'], 'white', ['green', 'red']], [['magenta', 'yellow'], 'blue']]]\n",
        "\n",
        "# pprint 會根據寬度自動換行和縮排\n",
        "pprint.pprint(t, width=30)"
      ],
      "metadata": {
        "colab": {
          "base_uri": "https://localhost:8080/"
        },
        "id": "YGofmkb89s-P",
        "outputId": "b92634b9-bfbd-42e6-bd8e-07b5c29369a1"
      },
      "execution_count": null,
      "outputs": [
        {
          "output_type": "stream",
          "name": "stdout",
          "text": [
            "[[[['black', 'cyan'],\n",
            "   'white',\n",
            "   ['green', 'red']],\n",
            "  [['magenta', 'yellow'],\n",
            "   'blue']]]\n"
          ]
        }
      ]
    },
    {
      "cell_type": "code",
      "source": [
        "# pprint 的更多常用函式與用法:\n",
        "\n",
        "import pprint\n",
        "\n",
        "# 一個典型的 API 回應範例 (複雜的字典)\n",
        "api_response = {\n",
        "    'status': 'OK',\n",
        "    'count': 2,\n",
        "    'results': [\n",
        "        {'id': 101, 'name': 'Alice', 'tags': ['Python', 'Data Science', 'AI']},\n",
        "        {'id': 102, 'name': 'Bob', 'tags': ['Web', 'JavaScript', 'React', 'Node.js']}\n",
        "    ]\n",
        "}\n",
        "\n",
        "# 1. 使用 indent 參數控制縮排寬度 (預設為 1)\n",
        "print(\"--- indent=4 ---\")\n",
        "pprint.pprint(api_response, indent=4)\n",
        "\n",
        "# 2. 使用 depth 參數控制顯示的巢狀深度\n",
        "print(\"\\n--- depth=2 ---\")\n",
        "pprint.pprint(api_response, depth=2) # 只顯示到第二層\n",
        "\n",
        "# 3. 使用 sort_dicts 參數 (Python 3.8+) 將字典的鍵排序後再印出\n",
        "# 這對於比較兩個字典或產生一致的輸出非常有用\n",
        "print(\"\\n--- sort_dicts=True ---\")\n",
        "pprint.pprint(api_response, sort_dicts=True)\n",
        "\n",
        "# 4. pprint.pformat()：將美化後的輸出 \"回傳為字串\" 而非直接印出\n",
        "# 這在您需要將格式化的字串存入日誌 (log) 或檔案時非常有用\n",
        "print(\"\\n--- pprint.pformat ---\")\n",
        "formatted_string = pprint.pformat(api_response, indent=2)\n",
        "print(formatted_string)\n",
        "#with open('api_log.txt', 'w', encoding='utf-8') as f:\n",
        "#    f.write(formatted_string)"
      ],
      "metadata": {
        "colab": {
          "base_uri": "https://localhost:8080/"
        },
        "id": "tKOesnHL-jLE",
        "outputId": "e31d7298-052c-4366-d3de-9907da3321b7"
      },
      "execution_count": null,
      "outputs": [
        {
          "output_type": "stream",
          "name": "stdout",
          "text": [
            "--- indent=4 ---\n",
            "{   'count': 2,\n",
            "    'results': [   {   'id': 101,\n",
            "                       'name': 'Alice',\n",
            "                       'tags': ['Python', 'Data Science', 'AI']},\n",
            "                   {   'id': 102,\n",
            "                       'name': 'Bob',\n",
            "                       'tags': ['Web', 'JavaScript', 'React', 'Node.js']}],\n",
            "    'status': 'OK'}\n",
            "\n",
            "--- depth=2 ---\n",
            "{'count': 2, 'results': [{...}, {...}], 'status': 'OK'}\n",
            "\n",
            "--- sort_dicts=True ---\n",
            "{'count': 2,\n",
            " 'results': [{'id': 101,\n",
            "              'name': 'Alice',\n",
            "              'tags': ['Python', 'Data Science', 'AI']},\n",
            "             {'id': 102,\n",
            "              'name': 'Bob',\n",
            "              'tags': ['Web', 'JavaScript', 'React', 'Node.js']}],\n",
            " 'status': 'OK'}\n",
            "\n",
            "--- pprint.pformat ---\n",
            "{ 'count': 2,\n",
            "  'results': [ { 'id': 101,\n",
            "                 'name': 'Alice',\n",
            "                 'tags': ['Python', 'Data Science', 'AI']},\n",
            "               { 'id': 102,\n",
            "                 'name': 'Bob',\n",
            "                 'tags': ['Web', 'JavaScript', 'React', 'Node.js']}],\n",
            "  'status': 'OK'}\n"
          ]
        }
      ]
    },
    {
      "cell_type": "markdown",
      "source": [
        "3. **`textwrap` 模組 (文本段落格式化)**\n",
        "\n",
        "* 主要用途：`textwrap` 模組能夠將長段落的純文字格式化，以符合指定的螢幕寬度，自動處理斷詞和換行。\n",
        "\n",
        "基礎範例:"
      ],
      "metadata": {
        "id": "mr3IbpwRAOHR"
      }
    },
    {
      "cell_type": "code",
      "source": [
        "import textwrap\n",
        "\n",
        "doc = \"\"\"The wrap() method is just like fill() except that it returns a list of strings instead of one big string with newlines to separate the wrapped lines.\"\"\"\n",
        "\n",
        "# .fill() 將長字串格式化為一個帶有換行符 (\\n) 的新字串\n",
        "print(textwrap.fill(doc, width=40))"
      ],
      "metadata": {
        "colab": {
          "base_uri": "https://localhost:8080/"
        },
        "id": "3QK2ris7-zbt",
        "outputId": "ba86aac5-afe4-48e1-dbdb-22291e4be6b7"
      },
      "execution_count": null,
      "outputs": [
        {
          "output_type": "stream",
          "name": "stdout",
          "text": [
            "The wrap() method is just like fill()\n",
            "except that it returns a list of strings\n",
            "instead of one big string with newlines\n",
            "to separate the wrapped lines.\n"
          ]
        }
      ]
    },
    {
      "cell_type": "code",
      "source": [
        "# textwrap 的更多常用函式與用法：\n",
        "import textwrap\n",
        "\n",
        "# 1. textwrap.wrap()：與 fill() 類似，但回傳一個 \"字串列表\"\n",
        "# 這讓你可以對每一行進行額外處理\n",
        "print(\"--- 1 ---\")\n",
        "lines = textwrap.wrap(doc, width=40)\n",
        "print(lines)\n",
        "# 輸出: ['The wrap() method is just like fill()', 'except that it returns a list of strings', ...]\n",
        "\n",
        "# 2. textwrap.shorten()：將文字截斷到指定長度，並加上預設的 [...]\n",
        "print(\"--- 2 ---\")\n",
        "shortened_text = textwrap.shorten(doc, width=100, placeholder=\"... (更多)\")\n",
        "print(shortened_text)\n",
        "# 輸出: The wrap() method is just like fill() except that it returns a list of strings instead... (更多)\n",
        "\n",
        "# 3. textwrap.dedent()：移除文字區塊 \"共同\" 的前導空白\n",
        "# 這在處理函式或類別中的多行字串時非常有用\n",
        "print(\"--- 3 ---\")\n",
        "def show_help():\n",
        "    # 這個字串在程式碼中有縮排，但我們希望輸出時是靠左對齊的\n",
        "    help_text = \"\"\"\n",
        "    歡迎使用本系統！\n",
        "    可用指令如下：\n",
        "      - run: 執行主要任務\n",
        "      - stop: 停止目前任務\n",
        "    \"\"\"\n",
        "    print(\"--- 未處理的輸出 ---\")\n",
        "    print(help_text)\n",
        "\n",
        "    print(\"--- 使用 dedent 處理後 ---\")\n",
        "    print(textwrap.dedent(help_text))\n",
        "\n",
        "show_help()"
      ],
      "metadata": {
        "colab": {
          "base_uri": "https://localhost:8080/"
        },
        "id": "YNHgt7UaA9bO",
        "outputId": "39c3cb99-8c03-4fc7-8aa8-259ad80da478"
      },
      "execution_count": null,
      "outputs": [
        {
          "output_type": "stream",
          "name": "stdout",
          "text": [
            "--- 1 ---\n",
            "['The wrap() method is just like fill()', 'except that it returns a list of strings', 'instead of one big string with newlines', 'to separate the wrapped lines.']\n",
            "--- 2 ---\n",
            "The wrap() method is just like fill() except that it returns a list of strings instead of... (更多)\n",
            "--- 3 ---\n",
            "--- 未處理的輸出 ---\n",
            "\n",
            "    歡迎使用本系統！\n",
            "    可用指令如下：\n",
            "      - run: 執行主要任務\n",
            "      - stop: 停止目前任務\n",
            "    \n",
            "--- 使用 dedent 處理後 ---\n",
            "\n",
            "歡迎使用本系統！\n",
            "可用指令如下：\n",
            "  - run: 執行主要任務\n",
            "  - stop: 停止目前任務\n",
            "\n"
          ]
        }
      ]
    },
    {
      "cell_type": "markdown",
      "source": [
        "## 11.2 模板化 (Templating)\n",
        "\n",
        "`string.Template` 是一個常被低估但非常實用的模組。當您需要處理的「模板」是來自使用者，或者格式非常簡單時，它比 `f-strings` 或 `.format()` 更安全、更簡單。"
      ],
      "metadata": {
        "id": "yeo42LW8Ce3n"
      }
    },
    {
      "cell_type": "markdown",
      "source": [
        "* `string` 模組包含一個多功能的 `Template` class，它提供了一種簡化的語法，特別適合讓終端使用者 (end-users) 進行編輯和客製化，而不需要變更應用程式的原始碼。\n",
        "\n",
        "* 核心語法\n",
        "    * 格式化方式是使用「佔位符號」(placeholder)，規則如下：\n",
        "\n",
        "        * `$identifier`：標準的佔位符號 (例如 `$name`, `$cause`)。它由 `$` 加上一個合法的 Python 識別符（字母、數字和下底線）構成。\n",
        "\n",
        "        * `${identifier}`：當佔位符號後面緊接著其他字母或數字時，必須使用大括號將其包覆，以避免混淆。\n",
        "\n",
        "        * `$$`：這是一個跳脫字元 (escape sequence)，會被替換為單一個 `$` 符號。"
      ],
      "metadata": {
        "id": "NPNAN1EiD68f"
      }
    },
    {
      "cell_type": "markdown",
      "source": [
        "1. **基礎用法：`substitute()`**\n",
        "\n",
        "    * `substitute()` method 會執行替換。您可以透過「關鍵字引數」或「字典」來傳遞要替換的值。\n",
        "\n",
        "範例:"
      ],
      "metadata": {
        "id": "BlHTUUaNEyaw"
      }
    },
    {
      "cell_type": "code",
      "source": [
        "from string import Template\n",
        "\n",
        "# --- 範例 1：使用關鍵字引數 ---\n",
        "# ${village}folk 是一個很好的例子，展示了為何需要大括號\n",
        "# $$10 則展示了跳脫\n",
        "t1 = Template('${village}folk send $$10 to $cause.')\n",
        "\n",
        "# 使用 .substitute() 搭配關鍵字引數\n",
        "result1 = t1.substitute(village='Nottingham', cause='the ditch fund')\n",
        "print(result1)"
      ],
      "metadata": {
        "colab": {
          "base_uri": "https://localhost:8080/"
        },
        "id": "VrOhBDzjDuMK",
        "outputId": "f0883db1-afd5-4d54-94c0-d757f85b49b1"
      },
      "execution_count": null,
      "outputs": [
        {
          "output_type": "stream",
          "name": "stdout",
          "text": [
            "Nottinghamfolk send $10 to the ditch fund.\n"
          ]
        }
      ]
    },
    {
      "cell_type": "code",
      "source": [
        "# --- 範例 2：使用字典 ---\n",
        "t2 = Template('Return the $item to $owner.')\n",
        "data_dict = dict(item='unladen swallow', owner='Mr. Cleese')\n",
        "\n",
        "# 使用 .substitute() 搭配字典 (使用 ** 運算子解包)\n",
        "result2 = t2.substitute(**data_dict)\n",
        "print(result2)\n",
        "\n",
        "# 或者直接傳入字典\n",
        "result3 = t2.substitute(data_dict)\n",
        "print(result3)"
      ],
      "metadata": {
        "colab": {
          "base_uri": "https://localhost:8080/"
        },
        "id": "7ahgkCquFO9K",
        "outputId": "4f1c8d74-975c-4293-f33c-fdaabada04b6"
      },
      "execution_count": null,
      "outputs": [
        {
          "output_type": "stream",
          "name": "stdout",
          "text": [
            "Return the unladen swallow to Mr. Cleese.\n",
            "Return the unladen swallow to Mr. Cleese.\n"
          ]
        }
      ]
    },
    {
      "cell_type": "markdown",
      "source": [
        "2. **處理不完整的資料：`safe_substitute()`**\n",
        "\n",
        "    * `substitute()` 的一個嚴格特性是：如果在字典或關鍵字引數中未提供某個佔位符號的值，它將引發 `KeyError`。\n",
        "\n",
        "    * 對於「郵件合併」(mail-merge) 類型的應用程式，使用者提供的資料有可能是不完整的，此時使用 `safe_substitute()` method 會更適當——如果資料有缺少，它會保持佔位符號不變。\n",
        "\n",
        "範例"
      ],
      "metadata": {
        "id": "FkKB3UEjFlM-"
      }
    },
    {
      "cell_type": "code",
      "source": [
        "from string import Template\n",
        "\n",
        "t = Template('Return the $item to $owner.')\n",
        "d = dict(item='unladen swallow') # 故意缺少 'owner'\n",
        "\n",
        "# 1. substitute() 會失敗\n",
        "#t.substitute(d)\n",
        "#Traceback (most recent call last):\n",
        "#  ...\n",
        "#KeyError: 'owner'\n",
        "\n",
        "# 2. safe_substitute() 會保留缺少的佔位符號\n",
        "t.safe_substitute(d)\n",
        "#'Return the unladen swallow to $owner.'"
      ],
      "metadata": {
        "colab": {
          "base_uri": "https://localhost:8080/",
          "height": 35
        },
        "id": "OS1pXF_iFfZN",
        "outputId": "5e88febd-a520-46e6-ea62-9c2406a7a70e"
      },
      "execution_count": null,
      "outputs": [
        {
          "output_type": "execute_result",
          "data": {
            "text/plain": [
              "'Return the unladen swallow to $owner.'"
            ],
            "application/vnd.google.colaboratory.intrinsic+json": {
              "type": "string"
            }
          },
          "metadata": {},
          "execution_count": 3
        }
      ]
    },
    {
      "cell_type": "markdown",
      "source": [
        "3. 更多實用的範例\n",
        "\n",
        "* `string.Template` 非常適合用於使用者可設定的字串。\n",
        "\n",
        "    * 範例 A：郵件合併 (Mail Merge)\n",
        "\n",
        "    * 假設您允許使用者自訂一封電子報的歡迎詞。"
      ],
      "metadata": {
        "id": "582QNQfoOu0E"
      }
    },
    {
      "cell_type": "code",
      "source": [
        "import string\n",
        "\n",
        "# 模板由使用者在設定檔中定義\n",
        "mail_template_str = \"\"\"\n",
        "Hi $name,\n",
        "\n",
        "Welcome to $product! We are thrilled to have you.\n",
        "As a special offer, please use this code: ${code}OFF\n",
        "\"\"\"\n",
        "\n",
        "mail_template = string.Template(mail_template_str)\n",
        "\n",
        "# 使用者 1 (資料完整)\n",
        "user1_data = {\n",
        "    'name': 'Alice',\n",
        "    'product': 'SuperApp',\n",
        "    'code': 'WELCOME20'\n",
        "}\n",
        "\n",
        "# 使用者 2 (資料不完整，缺少 'code')\n",
        "user2_data = {\n",
        "    'name': 'Bob',\n",
        "    'product': 'SuperApp'\n",
        "}\n",
        "\n",
        "# 替換使用者 1 (使用 substitute 沒問題)\n",
        "print(\"--- User 1 Email ---\")\n",
        "print(mail_template.substitute(user1_data))\n",
        "\n",
        "# 替換使用者 2 (必須使用 safe_substitute)\n",
        "print(\"\\n--- User 2 Email ---\")\n",
        "print(mail_template.safe_substitute(user2_data))"
      ],
      "metadata": {
        "colab": {
          "base_uri": "https://localhost:8080/"
        },
        "id": "eRpYK9LBOepI",
        "outputId": "695f40d0-feee-43d7-af55-3e070f83524a"
      },
      "execution_count": null,
      "outputs": [
        {
          "output_type": "stream",
          "name": "stdout",
          "text": [
            "--- User 1 Email ---\n",
            "\n",
            "Hi Alice,\n",
            "\n",
            "Welcome to SuperApp! We are thrilled to have you.\n",
            "As a special offer, please use this code: WELCOME20OFF\n",
            "\n",
            "\n",
            "--- User 2 Email ---\n",
            "\n",
            "Hi Bob,\n",
            "\n",
            "Welcome to SuperApp! We are thrilled to have you.\n",
            "As a special offer, please use this code: ${code}OFF\n",
            "\n"
          ]
        }
      ]
    },
    {
      "cell_type": "markdown",
      "source": [
        "* 範例 B：動態 API 端點 (URL)\n",
        "\n",
        "    * 假設您需要呼叫一個 API，但 API 的路徑和參數是動態的。"
      ],
      "metadata": {
        "id": "P080sU6MPMVO"
      }
    },
    {
      "cell_type": "code",
      "source": [
        "import string\n",
        "\n",
        "# 模板化 URL\n",
        "api_url_template = string.Template(\n",
        "    \"https://api.example.com/v1/users?region=$region&status=$status\"\n",
        ")\n",
        "\n",
        "# 查詢 1\n",
        "params1 = {'region': 'APAC', 'status': 'active'}\n",
        "print(api_url_template.substitute(params1))\n",
        "\n",
        "# 查詢 2\n",
        "params2 = {'region': 'EMEA', 'status': 'pending'}\n",
        "print(api_url_template.substitute(params2))"
      ],
      "metadata": {
        "colab": {
          "base_uri": "https://localhost:8080/"
        },
        "id": "xM3jCiraPEH1",
        "outputId": "0cc77b94-5687-48a1-a93a-37f5890f3994"
      },
      "execution_count": null,
      "outputs": [
        {
          "output_type": "stream",
          "name": "stdout",
          "text": [
            "https://api.example.com/v1/users?region=APAC&status=active\n",
            "https://api.example.com/v1/users?region=EMEA&status=pending\n"
          ]
        }
      ]
    },
    {
      "cell_type": "markdown",
      "source": [
        "`string.Template` vs. f-strings (為何要用它？)\n",
        "\n",
        "* 您可能會想：「為什麼不直接用 f-strings 就好了？」 (例如 `f\"{village}folk send $10 to {cause}\"`)\n",
        "\n",
        "* `string.Template` 的主要優勢在於**安全性**和**使用情境**：\n",
        "\n",
        "1. **安全性 (最重要)**：如果「模板字串本身」是由終端使用者提供的，絕對不要使用 `.format()` 或 f-strings。惡意的使用者可以注入程式碼，導致您的應用程式出錯或洩漏敏感資料。`string.Template` 則沒有這個問題，它只會進行簡單的字典鍵查找，是安全的。\n",
        "\n",
        "2. **簡單性**：`$` 語法對於非程式設計師 (例如，翻譯人員、系統管理員) 來說，比 f-strings 的 `{}` 語法更簡單、更直觀。\n",
        "\n",
        "3. **可分離性**：如您內容所提，`string.Template` 允許您將「邏輯」與「格式」完全分離。您可以將模板儲存在獨立的 `.txt` 檔案中，讓使用者去修改它，而您的 Python 程式碼只需讀取該檔案並執行 `.substitute()` 即可。"
      ],
      "metadata": {
        "id": "4IN57G7qQNlX"
      }
    },
    {
      "cell_type": "markdown",
      "source": [
        "## 11.3. 二進制資料記錄編排 (Binary Data Record Layouts)\n",
        "\n",
        "PASS"
      ],
      "metadata": {
        "id": "EWFnMjCvSdIf"
      }
    },
    {
      "cell_type": "markdown",
      "source": [
        "## 11.4 多執行緒 (Multi-threading)"
      ],
      "metadata": {
        "id": "Wg2pd1hPTAvi"
      }
    },
    {
      "cell_type": "markdown",
      "source": [
        "1. **基礎概念：什麼是多執行緒？**\n",
        "\n",
        "一個餐廳的比喻。\n",
        "\n",
        "* 情況 A：單執行緒 (Single-threading) - 一個服務生\n",
        "\n",
        "    * 想像一家餐廳只有一個服務生（他就是您的程式）。 他的工作流程是循序 (sequentially) 的：\n",
        "\n",
        "        1. 幫 A 桌點餐。\n",
        "\n",
        "        2. 把菜單送到廚房。\n",
        "\n",
        "        3. 【站在廚房門口，乾等 10 分鐘】 直到廚師（CPU/硬碟）做好菜。\n",
        "\n",
        "        4. 把菜送給 A 桌。\n",
        "\n",
        "        5. 然後，才能去 B 桌點餐。\n",
        "\n",
        "    * 問題： 當服務生在「等待」廚房做菜時（這就是 I/O 綁定 (I/O-bound)，例如：等待檔案寫入、等待網路下載），他整個人被卡住了，B 桌和 C 桌的客人會非常不滿。\n",
        "\n",
        "* 情況 B：多執行緒 (Multi-threading) - 兩個服務生\n",
        "\n",
        "    * 現在餐廳有兩個服務生（兩個執行緒）：\n",
        "\n",
        "        * 服務生 1 (主執行緒)：負責點餐和結帳。\n",
        "\n",
        "        * 服務生 2 (工作執行緒)：負責送菜單和從廚房端菜。\n",
        "\n",
        "    * 新的工作流程 (並行 Concurrency)：\n",
        "\n",
        "        1. 服務生 1 幫 A 桌點餐，把菜單交給服務生 2。\n",
        "\n",
        "        2. 同時發生：\n",
        "\n",
        "            * 服務生 2 跑去廚房送菜單，並**【在那裡等待 10 分鐘】**。\n",
        "\n",
        "            * 服務生 1 【不需等待】，立刻去 B 桌點餐。\n",
        "\n",
        "        3. 服務生 1 幫 B 桌點完餐，交給服務生 2。\n",
        "\n",
        "        4. 這時，A 桌的菜好了，服務生 2 馬上把菜送過去。\n",
        "\n",
        "    * 好處： 餐廳的「反應能力」(Responsiveness) 大幅提升。客人（使用者）不會因為廚房（I/O）很慢，就覺得服務生（主程式）卡住了。"
      ],
      "metadata": {
        "id": "D9aE2_xRUbUv"
      }
    },
    {
      "cell_type": "markdown",
      "source": [
        "2. **Python 中的多執行緒 (`threading` 模組)**\n",
        "\n",
        "* 執行緒 (Thread) 是一種用來對「非順序相依」的任務進行解耦 (decoupling) 的技術。\n",
        "\n",
        "    * I/O 綁定 (I/O-bound) 的救星： 如比喻所示，它最大的用例是「運行 I/O 的同時，在另一個執行緒中進行計算」。\n",
        "\n",
        "        * 等待網路下載\n",
        "\n",
        "        * 讀取或寫入大型檔案 (就像範例中的 `zipfile`)\n",
        "\n",
        "        * 等待資料庫回應\n",
        "\n",
        "        * `time.sleep()`\n",
        "\n",
        "    * CPU 綁定 (CPU-bound) 的限制 (GIL)：\n",
        "\n",
        "        * 重要限制：在 CPython（最主流的 Python）中，有一個「全域直譯器鎖」(Global Interpreter Lock, GIL)。它確保在任何時刻，只有一個執行緒能真正執行 Python 程式碼。\n",
        "\n",
        "        * 這就像餐廳雖然有 2 個服務生，但只有 1 支筆。他們必須快速輪流使用這支筆來寫單子。\n",
        "\n",
        "        * 結論：如果您想做「純數學運算」（例如算 1 億次 Pi），開 2 個執行緒不會比較快。但如果您的任務是「等待」，多執行緒就非常有用了（因為服務生 2 在等廚房時，會把筆交還給服務生 1）。"
      ],
      "metadata": {
        "id": "2-o8Pok2VPw7"
      }
    },
    {
      "cell_type": "markdown",
      "source": [
        "---\n",
        "Multi-threading 入門\n",
        "\n",
        "* 使用 `time.sleep()` 來模擬一個需要「等待」的 I/O 任務（就像服務生在等廚房做菜）。\n",
        "\n",
        "* 範例 1：**最基本的執行緒 (啟動與不等待)**\n",
        "* 目標： 證明主程式（主執行緒）在啟動子執行緒後，不會等待它，而是會繼續做自己的事。"
      ],
      "metadata": {
        "id": "P-qwgV5o-PS_"
      }
    },
    {
      "cell_type": "code",
      "source": [
        "import threading\n",
        "import time\n",
        "\n",
        "def background_task():\n",
        "    \"\"\"這是在 '背景' (子執行緒) 執行的函式\"\"\"\n",
        "    print(\"  [子執行緒] 開始執行...\")\n",
        "    # 模擬一個耗時 3 秒的 I/O 任務 (例如下載檔案)\n",
        "    time.sleep(3)\n",
        "    print(\"  [子執行緒] 執行完畢。\")\n",
        "\n",
        "# --- 主程式 (主執行緒) ---\n",
        "print(\"[主執行緒] 程式開始。\")\n",
        "\n",
        "# 1. 建立 Thread 物件\n",
        "#    target=background_task 告訴執行緒：「你去執行 background_task 這個函式」\n",
        "t = threading.Thread(target=background_task)\n",
        "\n",
        "# 2. 啟動執行緒\n",
        "#    .start() 會立刻返回，主程式會繼續往下跑\n",
        "t.start()\n",
        "\n",
        "# 3. 主程式繼續執行自己的工作\n",
        "print(\"[主執行緒] 主程式正在做其他事情...\")\n",
        "time.sleep(1) # 主程式也忙了 1 秒\n",
        "print(\"[主執行緒] 主程式執行完畢。\")\n",
        "\n",
        "#t.join() # 主程式等待子執行緒\n",
        "\n",
        "# (請注意：主程式執行完畢後，程式會等到子執行緒也完畢才會真正結束)"
      ],
      "metadata": {
        "colab": {
          "base_uri": "https://localhost:8080/"
        },
        "id": "JviMycAH-6X3",
        "outputId": "2bbd443e-718c-4748-bcb0-0c70c771a97a"
      },
      "execution_count": null,
      "outputs": [
        {
          "output_type": "stream",
          "name": "stdout",
          "text": [
            "[主執行緒] 程式開始。\n",
            "  [子執行緒] 開始執行...\n",
            "[主執行緒] 主程式正在做其他事情...\n",
            "[主執行緒] 主程式執行完畢。\n"
          ]
        }
      ]
    },
    {
      "cell_type": "markdown",
      "source": [
        "觀察： 「主程式執行完畢」這句話，比「子執行緒執行完畢」還要早出現！這證明了主程式沒有被 `time.sleep(3)` 卡住。"
      ],
      "metadata": {
        "id": "ZxFWPsdTAmTL"
      }
    },
    {
      "cell_type": "markdown",
      "source": [
        "範例 2：**主程式等待子執行緒 (`.join()`)**\n",
        "\n",
        "目標： 有時候，主程式需要確認子執行緒做完工作後，才能繼續執行（例如：下載完檔案後，主程式才能去讀取該檔案）。這時我們使用 `.join()`。\n",
        "\n",
        "* `.join()` 的意思是：「在這裡停下來，直到 `t` 這個執行緒結束為止」。"
      ],
      "metadata": {
        "id": "yCH3boSJA0bl"
      }
    },
    {
      "cell_type": "code",
      "source": [
        "import threading\n",
        "import time\n",
        "\n",
        "def background_task():\n",
        "    print(\"  [子執行緒] 開始執行...\")\n",
        "    time.sleep(3)\n",
        "    print(\"  [子執行緒] 執行完畢。\")\n",
        "\n",
        "# --- 主程式 ---\n",
        "print(\"[主執行緒] 程式開始。\")\n",
        "\n",
        "t = threading.Thread(target=background_task)\n",
        "t.start()\n",
        "\n",
        "print(\"[主執行緒] 主程式正在做其他事情...\")\n",
        "time.sleep(1)\n",
        "print(\"[主執行緒] 主程式做完其他事情了。\")\n",
        "\n",
        "# 4. 等待！\n",
        "print(\"[主執行緒] 呼叫 t.join()，等待子執行緒結束...\")\n",
        "t.join() # 主程式會 \"卡\" 在這一行，直到 background_task 完成\n",
        "\n",
        "# 5. 子執行緒結束後，主程式才會繼續往下\n",
        "print(\"[主執行緒] 子執行緒已結束，主程式現在才真正結束。\")"
      ],
      "metadata": {
        "colab": {
          "base_uri": "https://localhost:8080/"
        },
        "id": "mVQAiIC3BOpI",
        "outputId": "03124ac9-f92a-43fb-bea5-a6219e942c1e"
      },
      "execution_count": null,
      "outputs": [
        {
          "output_type": "stream",
          "name": "stdout",
          "text": [
            "[主執行緒] 程式開始。\n",
            "  [子執行緒] 開始執行...\n",
            "[主執行緒] 主程式正在做其他事情...\n",
            "[主執行緒] 主程式做完其他事情了。\n",
            "[主執行緒] 呼叫 t.join()，等待子執行緒結束...\n",
            "  [子執行緒] 執行完畢。\n",
            "[主執行緒] 子執行緒已結束，主程式現在才真正結束。\n"
          ]
        }
      ]
    },
    {
      "cell_type": "markdown",
      "source": [
        "觀察： 這次「主程式真正結束」這句話，一定在「子執行緒執行完畢」之後才出現。"
      ],
      "metadata": {
        "id": "guDpPpC4BdF-"
      }
    },
    {
      "cell_type": "markdown",
      "source": [
        "範例 3：**傳遞參數給執行緒 (`args`)**\n",
        "\n",
        "目標： 讓子執行緒執行更靈活的任務。如果我們想讓它 `sleep(2)` 或 `sleep(5)` 怎麼辦？我們需要傳遞參數。\n",
        "\n",
        "* 使用 `args` 參數，它必須是一個元組 (`tuple`)。"
      ],
      "metadata": {
        "id": "Vpq4VAGwBn43"
      }
    },
    {
      "cell_type": "code",
      "source": [
        "import threading\n",
        "import time\n",
        "\n",
        "def task_with_args(task_name, duration):\n",
        "    \"\"\"一個接受參數的任務\"\"\"\n",
        "    print(f\"  [子執行緒 {task_name}] 開始，將執行 {duration} 秒...\")\n",
        "    time.sleep(duration)\n",
        "    print(f\"  [子執行緒 {task_name}] 執行完畢。\")\n",
        "\n",
        "# --- 主程式 ---\n",
        "print(\"[主執行緒] 程式開始。\")\n",
        "\n",
        "# 1. 建立 Thread 物件，並傳遞 args\n",
        "#    args=(...) 裡面的順序，必須對應到函式的參數順序\n",
        "t = threading.Thread(target=task_with_args,\n",
        "                     args=(\"任務A\", 2)) # 傳遞 '任務A' 和 2\n",
        "t.start()\n",
        "t.join() # 等待它完成\n",
        "\n",
        "print(\"[主執行緒] 任務A 完成。\")\n",
        "\n",
        "# --- (重要！) 如果只有一個參數 ---\n",
        "# 必須寫成 args=( \"唯一的參數\", )\n",
        "# 後面的逗號 , 絕對不能少！\n",
        "t_single = threading.Thread(target=task_with_args, args=(\"任務B\", 1))\n",
        "t_single.start()\n",
        "t_single.join()\n",
        "\n",
        "print(\"[主執行緒] 任務B 完成。\")"
      ],
      "metadata": {
        "colab": {
          "base_uri": "https://localhost:8080/"
        },
        "id": "RBNvQXptBwmK",
        "outputId": "326b09d8-cbe3-48e2-fc4e-ebc82a598be0"
      },
      "execution_count": null,
      "outputs": [
        {
          "output_type": "stream",
          "name": "stdout",
          "text": [
            "[主執行緒] 程式開始。\n",
            "  [子執行緒 任務A] 開始，將執行 2 秒...\n",
            "  [子執行緒 任務A] 執行完畢。\n",
            "[主執行緒] 任務A 完成。\n",
            "  [子執行緒 任務B] 開始，將執行 1 秒...\n",
            "  [子執行緒 任務B] 執行完畢。\n",
            "[主執行緒] 任務B 完成。\n"
          ]
        }
      ]
    },
    {
      "cell_type": "markdown",
      "source": [
        "範例 4：**同時執行多個執行緒**\n",
        "\n",
        "目標： 展示多執行緒的真正威力 —— 同時處理多個任務。\n",
        "\n",
        "* 關鍵點：\n",
        "\n",
        "    1. 分開「啟動迴圈」和「等待迴圈」。\n",
        "\n",
        "    2. 您必須先啟動所有執行緒 (`.start()`)。\n",
        "\n",
        "    3. 然後再一起等待所有執行緒 (`.join()`)。\n",
        "\n",
        "（如果您在同一個迴圈裡 `start()` 又 `join()`，那程式就會又變回循序執行了！）"
      ],
      "metadata": {
        "id": "GiSc61hLCULF"
      }
    },
    {
      "cell_type": "code",
      "source": [
        "import threading\n",
        "import time\n",
        "\n",
        "def task_with_args(task_name, duration):\n",
        "    print(f\"  [{task_name}] 開始，將執行 {duration} 秒...\")\n",
        "    time.sleep(duration)\n",
        "    print(f\"  [{task_name}] 執行完畢。\")\n",
        "\n",
        "# --- 主程式 ---\n",
        "print(\"[主執行緒] 程式開始。\")\n",
        "\n",
        "tasks_to_run = [\n",
        "    (\"任務A\", 3),\n",
        "    (\"任務B\", 1),\n",
        "    (\"任務C\", 2),\n",
        "]\n",
        "\n",
        "threads = [] # 用一個列表來存放所有執行緒\n",
        "\n",
        "# --- 步驟 1：啟動 (Start) 迴圈 ---\n",
        "print(\"[主執行緒] 正在啟動所有執行緒...\")\n",
        "for name, duration in tasks_to_run:\n",
        "    t = threading.Thread(target=task_with_args, args=(name, duration))\n",
        "    threads.append(t)\n",
        "    t.start()\n",
        "    # 注意：迴圈裡沒有 .join()！\n",
        "\n",
        "# --- 步驟 2：等待 (Join) 迴圈 ---\n",
        "print(\"[主執行緒] 所有執行緒已啟動，現在開始等待它們全部結束...\")\n",
        "for t in threads:\n",
        "    t.join()\n",
        "\n",
        "print(\"[主執行緒] 所有任務皆已完成！程式結束。\")"
      ],
      "metadata": {
        "colab": {
          "base_uri": "https://localhost:8080/"
        },
        "id": "utl6N_sIDidv",
        "outputId": "1b9e5d79-9e6e-4b81-f078-a15206278b87"
      },
      "execution_count": null,
      "outputs": [
        {
          "output_type": "stream",
          "name": "stdout",
          "text": [
            "[主執行緒] 程式開始。\n",
            "[主執行緒] 正在啟動所有執行緒...\n",
            "  [任務A] 開始，將執行 3 秒...\n",
            "  [任務B] 開始，將執行 1 秒...\n",
            "  [任務C] 開始，將執行 2 秒...\n",
            "[主執行緒] 所有執行緒已啟動，現在開始等待它們全部結束...\n",
            "  [任務B] 執行完畢。\n",
            "  [任務C] 執行完畢。\n",
            "  [任務A] 執行完畢。\n",
            "[主執行緒] 所有任務皆已完成！程式結束。\n"
          ]
        }
      ]
    },
    {
      "cell_type": "markdown",
      "source": [
        "觀察： 任務 B (1秒) 最先結束，任務 C (2秒) 其次，任務 A (3秒) 最後。總耗時約 3 秒（而不是 3+1+2 = 6 秒）。這就是多執行緒的威力！"
      ],
      "metadata": {
        "id": "_89zNzJpHDzo"
      }
    },
    {
      "cell_type": "markdown",
      "source": [
        "範例 5：**使用「類別」(Class) 建立執行緒 (進階)**\n",
        "\n",
        "當您的執行緒邏輯很複雜，需要自己的變數和函式時，使用類別來封裝會很有用。\n",
        "\n",
        "目標： 將範例 3 改寫成類別形式。"
      ],
      "metadata": {
        "id": "vt6ftdogHq57"
      }
    },
    {
      "cell_type": "code",
      "source": [
        "import threading\n",
        "import time\n",
        "\n",
        "# 1. 繼承 threading.Thread\n",
        "class MyTask(threading.Thread):\n",
        "\n",
        "    # 2. 用 __init__ 接收參數\n",
        "    def __init__(self, task_name, duration):\n",
        "        super().__init__() # (重要) 必須呼叫父類別的 __init__\n",
        "        self.task_name = task_name\n",
        "        self.duration = duration\n",
        "\n",
        "    # 3. 執行緒要做的所有工作，都必須寫在 run() 這個函式裡\n",
        "    def run(self):\n",
        "        print(f\"  [類別執行緒 {self.task_name}] 開始，將執行 {self.duration} 秒...\")\n",
        "        time.sleep(self.duration)\n",
        "        print(f\"  [類別執行緒 {self.task_name}] 執行完畢。\")\n",
        "\n",
        "# --- 主程式 ---\n",
        "print(\"[主執行緒] 程式開始。\")\n",
        "\n",
        "# 4. 建立類別的 \"實例 (instance)\"\n",
        "t1 = MyTask(\"任務X\", 2)\n",
        "t2 = MyTask(\"任務Y\", 1)\n",
        "\n",
        "# 5. 啟動 (它會自動去呼叫 run())\n",
        "t1.start()\n",
        "t2.start()\n",
        "\n",
        "# 6. 等待\n",
        "t1.join()\n",
        "t2.join()\n",
        "\n",
        "print(\"[主執行S緒] 程式結束。\")"
      ],
      "metadata": {
        "colab": {
          "base_uri": "https://localhost:8080/"
        },
        "id": "o_NWwL-1Iw_K",
        "outputId": "b0c73d86-ab89-4d8a-d9fd-516af1d7e9c8"
      },
      "execution_count": null,
      "outputs": [
        {
          "output_type": "stream",
          "name": "stdout",
          "text": [
            "[主執行緒] 程式開始。\n",
            "  [類別執行緒 任務X] 開始，將執行 2 秒...\n",
            "  [類別執行緒 任務Y] 開始，將執行 1 秒...\n",
            "  [類別執行緒 任務Y] 執行完畢。\n",
            "  [類別執行緒 任務X] 執行完畢。\n",
            "[主執行S緒] 程式結束。\n"
          ]
        }
      ]
    },
    {
      "cell_type": "markdown",
      "source": [
        "---\n",
        "比較正式的 Multi-threading 範例\n",
        "\n",
        "方法 1：子類別化 `threading.Thread` (您提供的範例)\n",
        "\n",
        "這是比較「物件導向」的作法，適合封裝較複雜的任務。"
      ],
      "metadata": {
        "id": "3Ktk_kE--ZAQ"
      }
    },
    {
      "cell_type": "code",
      "source": [
        "import threading, zipfile\n",
        "import time\n",
        "\n",
        "# 1. 建立一個繼承自 threading.Thread 的類別\n",
        "class AsyncZip(threading.Thread):\n",
        "    # 2. (可選) 覆寫 __init__ 來接收參數\n",
        "    def __init__(self, infile, outfile):\n",
        "        threading.Thread.__init__(self) # 必須呼叫父類別的 __init__\n",
        "        self.infile = infile\n",
        "        self.outfile = outfile\n",
        "\n",
        "    # 3. 覆寫 run() 方法：這是新執行緒 \"真正\" 要做的工作\n",
        "    def run(self):\n",
        "        print(f\"  [Thread {self.name}] 開始壓縮 {self.infile}...\")\n",
        "        f = zipfile.ZipFile(self.outfile, 'w', zipfile.ZIP_DEFLATED)\n",
        "        f.write(self.infile)\n",
        "        # 故意讓它慢一點，模擬大檔案\n",
        "        time.sleep(2)\n",
        "        f.close()\n",
        "        print(f\"  [Thread {self.name}] 完成背景壓縮。\")\n",
        "\n",
        "# --- 主程式 (主執行緒) ---\n",
        "print(\"[Main Thread] 程式開始。\")\n",
        "print(\"[Main Thread] 準備建立 'mydata.txt'...\")\n",
        "with open('mydata.txt', 'w') as f:\n",
        "    f.write(\"This is my data\" * 10000)\n",
        "\n",
        "print(\"[Main Thread] 檔案準備完畢。\")\n",
        "\n",
        "# 4. 建立執行緒物件\n",
        "background = AsyncZip('mydata.txt', 'myarchive.zip')\n",
        "\n",
        "# 5. .start()：啟動新執行緒 (它會自動去呼叫 run())\n",
        "# (!!!) 永遠不要自己呼叫 .run()，否則它會卡在主執行緒\n",
        "background.start()\n",
        "\n",
        "print(\"[Main Thread] 主程式繼續在前景執行 (不用等壓縮)...\")\n",
        "time.sleep(0.5) # 主程式做點別的事\n",
        "print(\"[Main Thread] 主程式做完其他事了。\")\n",
        "\n",
        "# 6. .join()：主程式 \"暫停\" 在這裡，\"等待\" background 執行緒完成\n",
        "background.join()\n",
        "\n",
        "print(\"[Main Thread] 主程式確認背景任務已完成，現在才真正結束。\")"
      ],
      "metadata": {
        "id": "3B-KU63JQwmC"
      },
      "execution_count": null,
      "outputs": []
    },
    {
      "cell_type": "markdown",
      "source": [
        "方法 2：使用 `target` 參數 (更簡單、更常用)\n",
        "\n",
        "如果您只是想讓一個「函式」在背景執行，不需要建立一個完整的類別。\n",
        "\n",
        "新範例：背景下載器"
      ],
      "metadata": {
        "id": "NssqpEjIJy4b"
      }
    },
    {
      "cell_type": "code",
      "source": [
        "import threading\n",
        "import time\n",
        "\n",
        "def download_file(filename, url):\n",
        "    \"\"\"一個模擬下載的函式\"\"\"\n",
        "    print(f\"  [Thread {threading.current_thread().name}] 開始下載 {filename}...\")\n",
        "    # 模擬 I/O 等待\n",
        "    time.sleep(3)\n",
        "    print(f\"  [Thread {threading.current_thread().name}] 下載 {filename} 完成。\")\n",
        "\n",
        "print(\"[Main Thread] 程式開始。\")\n",
        "\n",
        "# 1. 建立 Thread 物件\n",
        "#    target=：指定要在新執行緒中執行的 \"函式\"\n",
        "#    args=：以 tuple 形式傳遞給 target 函式的參數\n",
        "t = threading.Thread(target=download_file,\n",
        "                     args=('report.pdf', 'http://example.com/report'),\n",
        "                     name=\"Downloader\") # (可選) 幫執行緒取個名字\n",
        "\n",
        "# 2. 啟動\n",
        "t.start()\n",
        "\n",
        "print(\"[Main Thread] 主程式不用等待下載，繼續執行...\")\n",
        "print(\"[Main Thread] 主程式執行完畢。\")\n",
        "\n",
        "# 如果主程式在這裡就結束了，背景執行緒可能會被強行終止\n",
        "# 所以我們通常還是會 .join() 來確保子執行緒完成\n",
        "t.join()\n",
        "print(\"[Main Thread] 確認下載執行緒已結束。\")"
      ],
      "metadata": {
        "colab": {
          "base_uri": "https://localhost:8080/"
        },
        "id": "44g2AmzDJ2k2",
        "outputId": "0a51715d-3b71-4b0c-a306-933f0be3b7ef"
      },
      "execution_count": null,
      "outputs": [
        {
          "output_type": "stream",
          "name": "stdout",
          "text": [
            "[Main Thread] 程式開始。\n",
            "  [Thread Downloader] 開始下載 report.pdf...\n",
            "[Main Thread] 主程式不用等待下載，繼續執行...\n",
            "[Main Thread] 主程式執行完畢。\n",
            "  [Thread Downloader] 下載 report.pdf 完成。\n",
            "[Main Thread] 確認下載執行緒已結束。\n"
          ]
        }
      ]
    },
    {
      "cell_type": "markdown",
      "source": [
        "**最大的挑戰：協調執行緒 (`queue` 模組)**\n",
        "\n",
        "* 最大的挑戰是協調「共享資料」的執行緒。\n",
        "\n",
        "* 糟糕的範例 (競速條件 **Race Condition**)： 想像兩個執行緒同時 `global_counter += 1`。\n",
        "\n",
        "    1. Thread A 讀取 `counter` (值=5)\n",
        "\n",
        "    2. Thread B 讀取 `counter` (值=5)\n",
        "\n",
        "    3. Thread A 計算 5 + 1 = 6\n",
        "\n",
        "    4. Thread B 計算 5 + 1 = 6\n",
        "\n",
        "    5. Thread A 寫入 6\n",
        "\n",
        "    6. Thread B 寫入 6 結果 `counter` 是 6，但我們預期是 7。這就是「競速條件」。\n",
        "\n",
        "* 雖然 `threading` 模組提供了 `threading.Lock()` (鎖) 這種工具來解決，但很容易出錯 (例如忘記釋放鎖，造成死鎖)。\n",
        "\n",
        "**最佳實踐：使用 `queue` 模組**\n",
        "\n",
        "* 任務協調的首選方法是：**不要讓執行緒共享資料**。 而是使用 `queue` 模組（它是執行緒安全的）作為「任務輸送帶」。\n",
        "\n",
        "    * 主執行緒 (生產者)：把任務（資料）放進 `queue`。\n",
        "\n",
        "    * 工作執行緒 (消費者)：從 `queue` 拿任務來執行。\n",
        "\n",
        "範例：一個安全的「生產者-消費者」模型\n",
        "\n",
        "這個 `queue` 模型更易於設計、更易讀、更可靠。"
      ],
      "metadata": {
        "id": "uSFvJqrVKcYa"
      }
    },
    {
      "cell_type": "code",
      "source": [
        "import threading\n",
        "import queue\n",
        "import time\n",
        "\n",
        "# 1. 建立一個 \"執行緒安全\" 的佇列 (Queue)\n",
        "task_queue = queue.Queue()\n",
        "\n",
        "def worker():\n",
        "    \"\"\"這就是我們的工作執行緒要執行的函式\"\"\"\n",
        "    thread_name = threading.current_thread().name\n",
        "    print(f\"  [{thread_name}] 已啟動，等待任務...\")\n",
        "\n",
        "    while True:\n",
        "        # 2. .get() 會 \"自動\" 阻塞 (等待)，直到佇列中有東西\n",
        "        try:\n",
        "            # 我們用 timeout 來讓它可以被主程式的 'None' 訊號關閉\n",
        "            task_data = task_queue.get(timeout=1)\n",
        "        except queue.Empty:\n",
        "            continue # 如果 1 秒都沒任務，就繼續等\n",
        "\n",
        "        # 3. 收到 \"毒丸 (Poison Pill)\" 訊號，結束迴圈\n",
        "        if task_data is None:\n",
        "            print(f\"  [{thread_name}] 收到結束訊號，即將關閉。\")\n",
        "            break\n",
        "\n",
        "        # 4. 執行任務\n",
        "        print(f\"  [{thread_name}] 正在處理任務: {task_data}\")\n",
        "        time.sleep(0.5) # 模擬工作\n",
        "\n",
        "        # 5. (可選) 通知佇列，這個任務已經完成了\n",
        "        task_queue.task_done()\n",
        "\n",
        "# --- 主程式 (生產者) ---\n",
        "print(\"[Main Thread] 建立 3 個工作執行緒...\")\n",
        "num_workers = 3\n",
        "workers = []\n",
        "for i in range(num_workers):\n",
        "    t = threading.Thread(target=worker, name=f\"Worker-{i}\")\n",
        "    t.start()\n",
        "    workers.append(t)\n",
        "\n",
        "# 6. 把任務 \"放進\" 佇列\n",
        "print(\"[Main Thread] 派發 10 個任務...\")\n",
        "for i in range(10):\n",
        "    task_queue.put(f\"任務編號 {i}\")\n",
        "    time.sleep(0.1) # 模擬任務派發\n",
        "\n",
        "# 7. .join() 佇列：等待 \"所有\" 被 .put() 的任務都被 .task_done()\n",
        "print(\"[Main Thread] 等待所有任務被處理完畢...\")\n",
        "task_queue.join()\n",
        "\n",
        "print(\"[Main Thread] 所有任務皆已完成。\")\n",
        "\n",
        "# 8. 傳送 \"毒丸\" 來關閉所有工作執行緒\n",
        "print(\"[Main Thread] 傳送 'None' 訊號以關閉所有 workers...\")\n",
        "for _ in range(num_workers):\n",
        "    task_queue.put(None)\n",
        "\n",
        "# 9. 等待所有執行緒都確實關閉\n",
        "for t in workers:\n",
        "    t.join()\n",
        "\n",
        "print(\"[Main Thread] 所有執行緒皆已關閉。程式結束。\")"
      ],
      "metadata": {
        "colab": {
          "base_uri": "https://localhost:8080/"
        },
        "id": "JNfgl2lLKMgy",
        "outputId": "65273d59-4f62-44f5-ca16-38c70b0d3020"
      },
      "execution_count": null,
      "outputs": [
        {
          "output_type": "stream",
          "name": "stdout",
          "text": [
            "[Main Thread] 建立 3 個工作執行緒...\n",
            "  [Worker-0] 已啟動，等待任務...\n",
            "  [Worker-1] 已啟動，等待任務...\n",
            "  [Worker-2] 已啟動，等待任務...\n",
            "[Main Thread] 派發 10 個任務...\n",
            "  [Worker-0] 正在處理任務: 任務編號 0\n",
            "  [Worker-1] 正在處理任務: 任務編號 1\n",
            "  [Worker-2] 正在處理任務: 任務編號 2\n",
            "  [Worker-0] 正在處理任務: 任務編號 3\n",
            "  [Worker-1] 正在處理任務: 任務編號 4\n",
            "  [Worker-2] 正在處理任務: 任務編號 5\n",
            "  [Worker-0] 正在處理任務: 任務編號 6\n",
            "[Main Thread] 等待所有任務被處理完畢...\n",
            "  [Worker-1] 正在處理任務: 任務編號 7\n",
            "  [Worker-2] 正在處理任務: 任務編號 8\n",
            "  [Worker-0] 正在處理任務: 任務編號 9\n",
            "[Main Thread] 所有任務皆已完成。\n",
            "[Main Thread] 傳送 'None' 訊號以關閉所有 workers...\n",
            "  [Worker-2] 收到結束訊號，即將關閉。\n",
            "  [Worker-0] 收到結束訊號，即將關閉。\n",
            "  [Worker-1] 收到結束訊號，即將關閉。\n",
            "[Main Thread] 所有執行緒皆已關閉。程式結束。\n"
          ]
        }
      ]
    },
    {
      "cell_type": "markdown",
      "source": [
        "## 非同步I/O (asyncio)\n",
        "\n"
      ],
      "metadata": {
        "id": "YpT-AECUik2L"
      }
    },
    {
      "cell_type": "markdown",
      "source": [
        "Multi-threading 與 async io 的差別:\n",
        "\n",
        "* 這兩者是 Python 中實現「並行 (Concurrency)」的兩種不同方式，它們的核心差異非常大：\n",
        "\n",
        "1. **執行緒數量**：\n",
        "\n",
        "    * **Multi-threading (多執行緒)**：使用**多個作業系統執行緒 (Thread)**。作業系統 (OS) 會強制在這些執行緒之間「切換」執行權，這稱為「先佔式多工 (Preemptive Multitasking)」。\n",
        "\n",
        "    * **Asyncio (非同步 I/O)**：**只使用一個執行緒 (Single Thread)**。它在一個「事件迴圈 (Event Loop)」中執行，程式碼必須**主動**使用 `await` 關鍵字來「暫停」自己，好讓迴圈去執行其他任務，這稱為「協同式多工 (Cooperative Multitasking)」。\n",
        "\n",
        "2. **切換時機**：\n",
        "\n",
        "    * **Multi-threading**：切換時機**由作業系統決定**，您的程式碼無法精確控制。\n",
        "\n",
        "    * **Asyncio**：切換時機**由您的程式碼決定**（在您寫 `await` 的地方）。\n",
        "\n",
        "3. **主要用途**：\n",
        "\n",
        "    * 兩者都主要用於 **I/O 綁定 (I/O-bound)** 的任務（如網路請求、檔案讀寫）。\n",
        "\n",
        "    * **Asyncio**：特別擅長處理**極大量 (數千到數萬個)** 的**同時 I/O 連線**（例如聊天室伺服器、網路爬蟲），因為建立執行緒的成本很高，而 `asyncio` 的任務 (Task) 成本極低。\n",
        "\n",
        "    * **Multi-threading**：適用於 I/O 任務數量**可控 (例如 10-100 個)**，或者當您需要與**不支持 `asyncio` 的舊版程式碼**整合時。\n",
        "\n",
        "4. **主要挑戰**：\n",
        "\n",
        "    * **Multi-threading**：最大的挑戰是「競速條件 (Race Conditions)」和「死鎖 (Deadlocks)」。您需要使用「鎖 (Locks)」來保護共享資料，這非常容易出錯。\n",
        "\n",
        "    * **Asyncio**：因為在單一執行緒中，您**永遠不需要擔心鎖**（在 `await` 之外）。最大的挑戰是您必須使用 `async`/`await` 語法，且您呼叫的所有 I/O 函式庫都**必須**支援 `asyncio`（例如 `requests` 要換成 `aiohttp`）。\n",
        "\n",
        "一句話總結：\n",
        "\n",
        "* Multi-threading 像是找多個服務生（執行緒），由經理（OS）來隨時調度他們。\n",
        "\n",
        "* Asyncio 像是只有一個超人服務生（單執行緒），他有能力在「等待廚房」的空檔，主動 (`await`) 跑去幫下一桌點餐。"
      ],
      "metadata": {
        "id": "jWPRmcaEivKg"
      }
    },
    {
      "cell_type": "markdown",
      "source": [
        "---\n",
        "**`asyncio` 教學**\n",
        "\n",
        "1. **核心概念：`asyncio` 是什麼？**\n",
        "\n",
        "* 回想一下我們的餐廳比喻：\n",
        "\n",
        "    * 多執行緒 (Multi-threading)：是找多個服務生（多個執行緒）。他們同時都在工作，但經理（作業系統）會隨時拍他們的肩膀，強制他們切換任務。\n",
        "\n",
        "    * Asyncio (非同步)：是只找一個「超人服務生」（單一執行緒）。\n",
        "\n",
        "* 這位「超人服務生」的工作模式是：\n",
        "\n",
        "    1. 他跑到 A 桌點餐。\n",
        "\n",
        "    2. 他把菜單送進廚房。廚師說：「這道菜要等 10 分鐘（I/O 等待）。」\n",
        "\n",
        "    3. 關鍵點： 這位超人服務生不會傻傻地在廚房門口等 10 分鐘。\n",
        "\n",
        "    4. 他會主動在小本本上註記：「A 桌的菜，10 分鐘後回來拿」，然後立刻跑去 B 桌點餐。\n",
        "\n",
        "    5. 他幫 B 桌點完餐，送到廚房，廚師說：「這要 5 分鐘。」\n",
        "\n",
        "    6. 他又在小本本上註記，立刻跑去 C 桌倒水。\n",
        "\n",
        "    7. 他會不斷地在「A 桌取餐」、「B 桌取餐」、「C 桌倒水」這些已經準備好的任務之間切換。\n",
        "\n",
        "* 這就是 `asyncio`：**在單一執行緒上，透過「主動讓出控制權」來實現並行 (Concurrency) 的一種方式**。"
      ],
      "metadata": {
        "id": "zlD-rDvxktRM"
      }
    },
    {
      "cell_type": "markdown",
      "source": [
        "2. **`asyncio` 的三個核心關鍵字**\n",
        "\n",
        "您必須先認識這三個新夥伴：\n",
        "\n",
        "1. `async def` (定義一個「協程 Coroutine」)\n",
        "\n",
        "    * `def` 用來定義一個普通函式。\n",
        "\n",
        "    * `async def` 用來定義一個「可暫停的」函式。\n",
        "\n",
        "    * 您可以把它想像成：這是一個「未來才能完成的承諾 (Promise)」。單獨呼叫它，它什麼也不會做，只會回傳一個「協程物件」。\n",
        "\n",
        "2. `await` (「暫停」並「等待」)\n",
        "\n",
        "    * `await` 只能用在 `async def` 函式內部。\n",
        "\n",
        "    * 這就是「超人服務生」主動讓出控制權的動作。\n",
        "\n",
        "    * 當程式碼執行到 `await` 一個耗時的 I/O 操作（例如 `await asyncio.sleep(10)` 或 `await network_request()`），它會說：\n",
        "\n",
        "        * 「OK，這個任務（例如等廚房 10 分鐘）我已經交代下去了。我（主執行緒）先去忙別的，等這個任務完成了再來叫我。」\n",
        "\n",
        "3. `asyncio.run( main() )` (事件迴圈 Event Loop)\n",
        "\n",
        "    * 如果 `async def` 是「承諾」，`await` 是「暫停點」，那麼事件迴圈 (Event Loop) 就是那個**「超人服務生的大腦」或「總調度中心」**。\n",
        "\n",
        "    * 它會執行您交給它的第一個任務（例如 `main()`）。\n",
        "\n",
        "    * 當任務 `await` 時，它就把這個任務暫停，然後去執行「小本本」上其他已經準備好的任務。\n",
        "\n",
        "    * `asyncio.run()` 是啟動這一切的起點。"
      ],
      "metadata": {
        "id": "4Gs5QwjJ8_GI"
      }
    },
    {
      "cell_type": "markdown",
      "source": [
        "範例 1：最基本的 `asyncio` 程式 (Hello World)\n",
        "\n",
        "目標： 學習如何定義並執行一個 `async` 函式。"
      ],
      "metadata": {
        "id": "vPQLBZCt_U_9"
      }
    },
    {
      "cell_type": "code",
      "source": [
        "import asyncio\n",
        "import time\n",
        "\n",
        "# 1. 使用 'async def' 定義一個 \"協程函式\"\n",
        "async def main():\n",
        "    print(f\"[{time.strftime('%X')}] Hello...\")\n",
        "\n",
        "    # 2. 模擬一個耗時 1 秒的 I/O 任務\n",
        "    #    (注意！我們用 'await asyncio.sleep()' 而非 'time.sleep()')\n",
        "    await asyncio.sleep(1)\n",
        "\n",
        "    print(f\"[{time.strftime('%X')}] ...World!\")\n",
        "\n",
        "# 3. 直接呼叫 main() 是沒有用的：\n",
        "# >>> main()\n",
        "# <coroutine object main at 0x...>  (它只會回傳一個協程物件)\n",
        "\n",
        "# 4. 必須使用 asyncio.run() 來啟動 \"事件迴圈\" 並執行它\n",
        "print(f\"[{time.strftime('%X')}] 準備執行 main...\")\n",
        "asyncio.run(main())\n",
        "print(f\"[{time.strftime('%X')}] main 執行完畢。\")"
      ],
      "metadata": {
        "colab": {
          "base_uri": "https://localhost:8080/",
          "height": 332
        },
        "id": "o2aSf8Bh_uU9",
        "outputId": "b1706bf4-e669-43be-cce3-f53c80404790"
      },
      "execution_count": null,
      "outputs": [
        {
          "output_type": "stream",
          "name": "stdout",
          "text": [
            "[15:35:47] 準備執行 main...\n"
          ]
        },
        {
          "output_type": "error",
          "ename": "RuntimeError",
          "evalue": "asyncio.run() cannot be called from a running event loop",
          "traceback": [
            "\u001b[0;31m---------------------------------------------------------------------------\u001b[0m",
            "\u001b[0;31mRuntimeError\u001b[0m                              Traceback (most recent call last)",
            "\u001b[0;32m/tmp/ipython-input-2228011578.py\u001b[0m in \u001b[0;36m<cell line: 0>\u001b[0;34m()\u001b[0m\n\u001b[1;32m     18\u001b[0m \u001b[0;31m# 4. 必須使用 asyncio.run() 來啟動 \"事件迴圈\" 並執行它\u001b[0m\u001b[0;34m\u001b[0m\u001b[0;34m\u001b[0m\u001b[0m\n\u001b[1;32m     19\u001b[0m \u001b[0mprint\u001b[0m\u001b[0;34m(\u001b[0m\u001b[0;34mf\"[{time.strftime('%X')}] 準備執行 main...\"\u001b[0m\u001b[0;34m)\u001b[0m\u001b[0;34m\u001b[0m\u001b[0;34m\u001b[0m\u001b[0m\n\u001b[0;32m---> 20\u001b[0;31m \u001b[0masyncio\u001b[0m\u001b[0;34m.\u001b[0m\u001b[0mrun\u001b[0m\u001b[0;34m(\u001b[0m\u001b[0mmain\u001b[0m\u001b[0;34m(\u001b[0m\u001b[0;34m)\u001b[0m\u001b[0;34m)\u001b[0m\u001b[0;34m\u001b[0m\u001b[0;34m\u001b[0m\u001b[0m\n\u001b[0m\u001b[1;32m     21\u001b[0m \u001b[0mprint\u001b[0m\u001b[0;34m(\u001b[0m\u001b[0;34mf\"[{time.strftime('%X')}] main 執行完畢。\"\u001b[0m\u001b[0;34m)\u001b[0m\u001b[0;34m\u001b[0m\u001b[0;34m\u001b[0m\u001b[0m\n",
            "\u001b[0;32m/usr/lib/python3.12/asyncio/runners.py\u001b[0m in \u001b[0;36mrun\u001b[0;34m(main, debug, loop_factory)\u001b[0m\n\u001b[1;32m    189\u001b[0m     \u001b[0;32mif\u001b[0m \u001b[0mevents\u001b[0m\u001b[0;34m.\u001b[0m\u001b[0m_get_running_loop\u001b[0m\u001b[0;34m(\u001b[0m\u001b[0;34m)\u001b[0m \u001b[0;32mis\u001b[0m \u001b[0;32mnot\u001b[0m \u001b[0;32mNone\u001b[0m\u001b[0;34m:\u001b[0m\u001b[0;34m\u001b[0m\u001b[0;34m\u001b[0m\u001b[0m\n\u001b[1;32m    190\u001b[0m         \u001b[0;31m# fail fast with short traceback\u001b[0m\u001b[0;34m\u001b[0m\u001b[0;34m\u001b[0m\u001b[0m\n\u001b[0;32m--> 191\u001b[0;31m         raise RuntimeError(\n\u001b[0m\u001b[1;32m    192\u001b[0m             \"asyncio.run() cannot be called from a running event loop\")\n\u001b[1;32m    193\u001b[0m \u001b[0;34m\u001b[0m\u001b[0m\n",
            "\u001b[0;31mRuntimeError\u001b[0m: asyncio.run() cannot be called from a running event loop"
          ]
        }
      ]
    },
    {
      "cell_type": "markdown",
      "source": [
        "這是一個在 Colab 或 Jupyter Notebook 中非常常見的錯誤！\n",
        "\n",
        "您的程式碼本身是完全正確的，如果將它儲存為一個 `.py` 檔案並從終端機執行，它會完美運作。\n",
        "\n",
        "錯誤原因 (Why?)\n",
        "\n",
        "這個錯誤的原因很簡單：Google Colab（以及 Jupyter Notebook）為了方便使用者，已經在背景為您啟動了一個 `asyncio` 事件迴圈 (Event Loop)。\n",
        "\n",
        "`asyncio.run()` 函式的功能是：\n",
        "\n",
        "1. 建立一個全新的事件迴圈。\n",
        "\n",
        "2. 執行您傳給它的任務（`main()`）。\n",
        "\n",
        "3. 關閉該迴圈。\n",
        "\n",
        "因此，當您在 Colab 中呼叫 `asyncio.run()` 時，它試圖建立一個「新」的迴圈，但偵測到「已經有一個迴圈正在執行中」，於是它為了避免衝突，就立刻拋出了 `RuntimeError`。\n",
        "\n",
        "如何處理 (How?)\n",
        "\n",
        "解決方案：(最簡單且推薦) 直接 `await` 您的函式\n",
        "\n",
        "既然 Colab 已經有了一個正在執行的迴圈，您不需要再啟動一個新的。您只需要把您的「協程 (coroutine)」提交給那個已經在執行的迴圈即可。\n",
        "\n",
        "在 Colab/Jupyter 中，最簡單的方法就是直接在函式呼叫前加上 `await`。"
      ],
      "metadata": {
        "id": "xkN6w1uxBRPd"
      }
    },
    {
      "cell_type": "code",
      "source": [
        "import asyncio\n",
        "import time\n",
        "\n",
        "# 1. 使用 'async def' 定義一個 \"協程函式\"\n",
        "async def main():\n",
        "    print(f\"[{time.strftime('%X')}] Hello...\")\n",
        "\n",
        "    # 2. 模擬一個耗時 1 秒的 I/O 任務\n",
        "    await asyncio.sleep(1)\n",
        "\n",
        "    print(f\"[{time.strftime('%X')}] ...World!\")"
      ],
      "metadata": {
        "id": "Mc1r7S28AvPR"
      },
      "execution_count": null,
      "outputs": []
    },
    {
      "cell_type": "code",
      "source": [
        "# 4. 必須使用 \"await\" 來啟動協程 (因為 Colab 已有事件迴圈)\n",
        "print(f\"[{time.strftime('%X')}] 準備執行 main...\")\n",
        "await main()\n",
        "print(f\"[{time.strftime('%X')}] main 執行完畢。\")"
      ],
      "metadata": {
        "colab": {
          "base_uri": "https://localhost:8080/"
        },
        "id": "R-QssXA_B0lB",
        "outputId": "de326dcf-7021-4dfa-95e4-2c4f7d611570"
      },
      "execution_count": null,
      "outputs": [
        {
          "output_type": "stream",
          "name": "stdout",
          "text": [
            "[15:40:51] 準備執行 main...\n",
            "[15:40:51] Hello...\n",
            "[15:40:52] ...World!\n",
            "[15:40:52] main 執行完畢。\n"
          ]
        }
      ]
    },
    {
      "cell_type": "markdown",
      "source": [
        "觀察： `await asyncio.sleep(1)` 確實暫停了 `main()` 函式 1 秒鐘，但它並沒有卡住整個程式，而是把控制權交還給了事件迴圈（雖然這個迴圈目前也沒別的事做）。"
      ],
      "metadata": {
        "id": "7tt5OUbQCEdK"
      }
    },
    {
      "cell_type": "markdown",
      "source": [
        "範例 2：`asyncio` 的真正威力 (同時執行多個任務)\n",
        "\n",
        "* 目標： 證明 `asyncio` 可以「同時」處理多個 I/O 任務，而不是一個接一個。\n",
        "\n",
        "* 關鍵函式：`asyncio.gather()`\n",
        "\n",
        "    * `asyncio.gather( task1, task2, ... )` 就像是告訴服務生：「這裡有 3 張菜單，你全部送進廚房，然後等到它們全部都做好再回來。」\n",
        "\n",
        "A. 錯誤的 (循序) 方式："
      ],
      "metadata": {
        "id": "SU33HCViCO2n"
      }
    },
    {
      "cell_type": "code",
      "source": [
        "import asyncio\n",
        "import time\n",
        "\n",
        "async def say_after(delay, what):\n",
        "    await asyncio.sleep(delay)\n",
        "    print(f\"[{time.strftime('%X')}] {what}\")\n",
        "\n",
        "async def main_sequential():\n",
        "    print(f\"[{time.strftime('%X')}] --- 循序執行開始 ---\")\n",
        "    start_time = time.time()\n",
        "\n",
        "    # 這裡會：\n",
        "    # 1. 等待 2 秒\n",
        "    # 2. 印出 'hello'\n",
        "    # 3. \"然後才\" 開始等待 1 秒\n",
        "    # 4. 印出 'world'\n",
        "    await say_after(2, 'hello')\n",
        "    await say_after(1, 'world')\n",
        "\n",
        "    end_time = time.time()\n",
        "    print(f\"[{time.strftime('%X')}] --- 循序執行結束 (耗時 {end_time - start_time:.2f} 秒) ---\")\n",
        "\n",
        "#asyncio.run(main_sequential())\n",
        "await main_sequential()"
      ],
      "metadata": {
        "colab": {
          "base_uri": "https://localhost:8080/"
        },
        "id": "XN767kMDB5nZ",
        "outputId": "61573d62-39a0-48c3-e07f-a2f8abdb7e72"
      },
      "execution_count": null,
      "outputs": [
        {
          "output_type": "stream",
          "name": "stdout",
          "text": [
            "[15:44:58] --- 循序執行開始 ---\n",
            "[15:45:00] hello\n",
            "[15:45:01] world\n",
            "[15:45:01] --- 循序執行結束 (耗時 3.00 秒) ---\n"
          ]
        }
      ]
    },
    {
      "cell_type": "markdown",
      "source": [
        "觀察： 總共花了 3 秒。這不是我們要的！"
      ],
      "metadata": {
        "id": "Bn0UJNdlC8WN"
      }
    },
    {
      "cell_type": "markdown",
      "source": [
        "B. 正確的 (並行) 方式：使用 `asyncio.gather()`"
      ],
      "metadata": {
        "id": "sufWgJiaC-js"
      }
    },
    {
      "cell_type": "code",
      "source": [
        "import asyncio\n",
        "import time\n",
        "\n",
        "async def say_after(delay, what):\n",
        "    await asyncio.sleep(delay)\n",
        "    print(f\"[{time.strftime('%X')}] {what}\")\n",
        "\n",
        "async def main_concurrent():\n",
        "    print(f\"[{time.strftime('%X')}] --- 並行執行開始 ---\")\n",
        "    start_time = time.time()\n",
        "\n",
        "    # asyncio.gather() 會 \"同時\" 啟動這兩個任務\n",
        "    # 服務生把 2 張菜單 \"同時\" 丟進廚房\n",
        "    await asyncio.gather(\n",
        "        say_after(2, 'hello (2秒任務)'),\n",
        "        say_after(1, 'world (1秒任務)')\n",
        "    )\n",
        "\n",
        "    end_time = time.time()\n",
        "    print(f\"[{time.strftime('%X')}] --- 並行執行結束 (耗時 {end_time - start_time:.2f} 秒) ---\")\n",
        "\n",
        "#asyncio.run(main_concurrent())\n",
        "await main_concurrent()"
      ],
      "metadata": {
        "colab": {
          "base_uri": "https://localhost:8080/"
        },
        "id": "kEuB3iLWC12S",
        "outputId": "f09a628c-f02e-4264-d481-a89a738b916b"
      },
      "execution_count": null,
      "outputs": [
        {
          "output_type": "stream",
          "name": "stdout",
          "text": [
            "[15:47:33] --- 並行執行開始 ---\n",
            "[15:47:34] world (1秒任務)\n",
            "[15:47:35] hello (2秒任務)\n",
            "[15:47:35] --- 並行執行結束 (耗時 2.00 秒) ---\n"
          ]
        }
      ]
    },
    {
      "cell_type": "markdown",
      "source": [
        "觀察： 總耗時只有 2 秒（即最長的那個任務所花的時間）！這證明了兩個 `sleep` 是同時開始的。"
      ],
      "metadata": {
        "id": "ETZEiXxSDo8q"
      }
    },
    {
      "cell_type": "markdown",
      "source": [
        "範例 3：`asyncio` 的最大陷阱 (Blocking Call)\n",
        "\n",
        "目標： 了解為什麼 `asyncio` 絕對不能與「傳統的、會阻塞的」函式混用（例如 `time.sleep()` 或 `requests.get()`）。\n",
        "\n",
        "* 記住，我們的服務生只有一個。如果他被「卡住」，整個餐廳（事件迴圈）就停擺了。\n",
        "\n",
        "    * `await asyncio.sleep(5)`：服務生主動讓出控制權（「我去忙別的」）。\n",
        "\n",
        "    * `time.sleep(5)`：服務生原地罰站 5 秒鐘（「卡住了」）。"
      ],
      "metadata": {
        "id": "pDjoThxaEzu_"
      }
    },
    {
      "cell_type": "code",
      "source": [
        "import asyncio\n",
        "import time\n",
        "\n",
        "async def task_asyncio():\n",
        "    \"\"\"非阻塞任務 (好)\"\"\"\n",
        "    print(f\"  [{time.strftime('%X')}] 任務A (asyncio.sleep) 開始...\")\n",
        "    await asyncio.sleep(2)\n",
        "    print(f\"  [{time.strftime('%X')}] 任務A (asyncio.sleep) 結束。\")\n",
        "\n",
        "async def task_blocking():\n",
        "    \"\"\"阻塞任務 (壞!)\"\"\"\n",
        "    print(f\"  [{time.strftime('%X')}] 任務B (time.sleep) 開始... (糟糕！整個迴圈會卡在這裡！)\")\n",
        "    # time.sleep() 會 \"凍結\" 唯一的執行緒\n",
        "    time.sleep(5)\n",
        "    print(f\"  [{time.strftime('%X')}] 任務B (time.sleep) 結束。\")\n",
        "\n",
        "async def main():\n",
        "    print(f\"[{time.strftime('%X')}] 準備同時執行 任務A (2秒) 和 任務B (5秒)\")\n",
        "    start_time = time.time()\n",
        "\n",
        "    await asyncio.gather(\n",
        "        task_asyncio(),\n",
        "        task_blocking()\n",
        "    )\n",
        "\n",
        "    end_time = time.time()\n",
        "    print(f\"[{time.strftime('%X')}] 全部執行結束 (耗時 {end_time - start_time:.2f} 秒)\")\n",
        "\n",
        "#asyncio.run(main())\n",
        "await main()\n",
        "# 輸出 (請仔細看時間戳)"
      ],
      "metadata": {
        "colab": {
          "base_uri": "https://localhost:8080/"
        },
        "id": "CsdECmrJDbrO",
        "outputId": "03d0c023-21e0-4b87-801b-464bc03f6028"
      },
      "execution_count": null,
      "outputs": [
        {
          "output_type": "stream",
          "name": "stdout",
          "text": [
            "[15:56:12] 準備同時執行 任務A (2秒) 和 任務B (5秒)\n",
            "  [15:56:12] 任務A (asyncio.sleep) 開始...\n",
            "  [15:56:12] 任務B (time.sleep) 開始... (糟糕！整個迴圈會卡在這裡！)\n",
            "  [15:56:17] 任務B (time.sleep) 結束。\n",
            "  [15:56:17] 任務A (asyncio.sleep) 結束。\n",
            "[15:56:17] 全部執行結束 (耗時 5.00 秒)\n"
          ]
        }
      ]
    },
    {
      "cell_type": "markdown",
      "source": [
        "觀察：\n",
        "\n",
        "* 任務 A 和 B 雖然是「同時」啟動的。\n",
        "\n",
        "* 但當事件迴圈執行到 `task_blocking` 裡的 `time.sleep(5)` 時，整個單一執行緒被凍結了 5 秒。\n",
        "\n",
        "* 在這 5 秒期間，事件迴圈無法去檢查「任務 A 的 2 秒 `asyncio.sleep` 是否完成了」。\n",
        "\n",
        "* 結果，任務 A 被迫等到任務 B 結束後，才有機會被執行完畢。\n",
        "\n",
        "* 這完全違背了 `asyncio` 的初衷！\n",
        "\n",
        "黃金法則： 在 `async def` 函式中，永遠不要使用會阻塞的 I/O 函式（如 `time.sleep()`, `requests.get()`）。您必須使用它們的 `async` 替代品（如 `await asyncio.sleep()`, `await aiohttp.get()`）。"
      ],
      "metadata": {
        "id": "M60ve3DsFrPM"
      }
    },
    {
      "cell_type": "markdown",
      "source": [
        "4. **常用函式與用法總結**\n",
        "\n",
        "1. `asyncio.run(coro)`\n",
        "\n",
        "    * 用途： 程式的唯一入口。它會建立事件迴圈、執行您給它的 `async` 函式、並在結束後關閉迴圈。您不應該在一個 `asyncio.run()` 中呼叫另一個 `asyncio.run()`。\n",
        "\n",
        "2. `await asyncio.sleep(seconds)`\n",
        "\n",
        "    * 用途： 最基本的「非阻塞等待」。它會告訴事件迴圈：「`seconds` 秒後再回來執行我。」\n",
        "\n",
        "3. `await asyncio.gather(*coros)`\n",
        "\n",
        "    * 用途： 並行執行多個 `async` 函式，並等待它們全部完成。這是最常用的並行工具。\n",
        "\n",
        "3. `asyncio.create_task(coro)`\n",
        "\n",
        "    * 用途： 立即將一個任務**「丟到背景」去排程執行，但不會**立刻等待它。這就像服務生把菜單丟給廚房後，不等待，直接去做別的事。\n",
        "\n",
        "    * 它會回傳一個 `Task` 物件，您可以稍後再 `await` 這個物件。\n",
        "\n",
        "`create_task` 範例 (「發射後不理」)："
      ],
      "metadata": {
        "id": "pwcdScONF-gJ"
      }
    },
    {
      "cell_type": "code",
      "source": [
        "import asyncio\n",
        "import time\n",
        "\n",
        "async def background_task(name):\n",
        "    print(f\"  [{time.strftime('%X')}] 背景任務 {name} 開始 (執行 3 秒)\")\n",
        "    await asyncio.sleep(3)\n",
        "    print(f\"  [{time.strftime('%X')}] 背景任務 {name} 完成\")\n",
        "\n",
        "async def main():\n",
        "    print(f\"[{time.strftime('%X')}] Main：準備 'create_task' (發射後不理)\")\n",
        "\n",
        "    # \"丟到背景\"，主程式會立刻繼續\n",
        "    task = asyncio.create_task(background_task(\"T1\"))\n",
        "\n",
        "    print(f\"[{time.strftime('%X')}] Main：任務已丟出，Main 繼續做自己的事 (1 秒)\")\n",
        "    await asyncio.sleep(1)\n",
        "\n",
        "    print(f\"[{time.strftime('%X')}] Main：自己的事做完了。\")\n",
        "\n",
        "    # (可選) 現在才決定要等待背景任務完成\n",
        "    await task\n",
        "\n",
        "# 注意：asyncio.run() 會自動等待所有被 create_task 的任務都完成\n",
        "#asyncio.run(main())\n",
        "await main()\n",
        "# 注意輸出的時間戳記"
      ],
      "metadata": {
        "id": "L2U69OMhFaZO",
        "colab": {
          "base_uri": "https://localhost:8080/"
        },
        "outputId": "d6940213-6b66-4bd9-f748-67da30acd120"
      },
      "execution_count": 2,
      "outputs": [
        {
          "output_type": "stream",
          "name": "stdout",
          "text": [
            "[08:48:39] Main：準備 'create_task' (發射後不理)\n",
            "[08:48:39] Main：任務已丟出，Main 繼續做自己的事 (1 秒)\n",
            "  [08:48:39] 背景任務 T1 開始 (執行 3 秒)\n",
            "[08:48:40] Main：自己的事做完了。\n",
            "  [08:48:42] 背景任務 T1 完成\n"
          ]
        }
      ]
    },
    {
      "cell_type": "markdown",
      "source": [
        "總結：\n",
        "\n",
        "* `asyncio` 是單執行緒的並行。\n",
        "\n",
        "* 它依靠 `async def` 和 `await` 來主動在 I/O 點釋放控制權。\n",
        "\n",
        "* 它非常適合高 I/O、低 CPU 的任務（例如網路伺服器、爬蟲）。\n",
        "\n",
        "* 絕對不要在 `async` 函式中混用「阻塞」的 I/O 函式。"
      ],
      "metadata": {
        "id": "aEl1jS1ctnFS"
      }
    },
    {
      "cell_type": "markdown",
      "source": [
        "## 11.5. 日誌記錄 (Logging)\n"
      ],
      "metadata": {
        "id": "vMtFMTuSt2cW"
      }
    },
    {
      "cell_type": "markdown",
      "source": [
        "`logging` 模組提供功能齊全且富彈性的日誌記錄系統。\n",
        "\n",
        "1. 基礎用法與「預設行為」\n",
        "\n",
        "    * 在最簡單的情況下，日誌訊息會被發送到 `sys.stderr`（標準錯誤輸出，通常是您的終端機）："
      ],
      "metadata": {
        "id": "n1S4cmysuT5_"
      }
    },
    {
      "cell_type": "code",
      "source": [
        "import logging\n",
        "\n",
        "logging.debug('Debugging information')\n",
        "logging.info('Informational message')\n",
        "logging.warning('Warning:config file %s not found', 'server.conf')\n",
        "logging.error('Error occurred')\n",
        "logging.critical('Critical error -- shutting down')"
      ],
      "metadata": {
        "colab": {
          "base_uri": "https://localhost:8080/"
        },
        "id": "UFD6gZLcs5rM",
        "outputId": "6fe5d6ba-c372-4f4a-c323-ab81dc5b10db"
      },
      "execution_count": 3,
      "outputs": [
        {
          "output_type": "stream",
          "name": "stderr",
          "text": [
            "WARNING:root:Warning:config file server.conf not found\n",
            "ERROR:root:Error occurred\n",
            "CRITICAL:root:Critical error -- shutting down\n"
          ]
        }
      ]
    },
    {
      "cell_type": "markdown",
      "source": [
        "2. 為什麼 `DEBUG` 和 `INFO` 消失了？\n",
        "\n",
        "* 這就是 `logging` 模組的第一個核心概念：**日誌級別 (Logging Levels)**。\n",
        "\n",
        "* `logging` 提供了 5 個標準級別，代表訊息的嚴重程度：\n",
        "\n",
        "1. `DEBUG`：最詳細的資訊，通常只在診斷問題時才關心。\n",
        "\n",
        "2. `INFO`：確認事情按預期工作的一般資訊。\n",
        "\n",
        "3. `WARNING`：(預設級別) 發生了意外情況，或未來可能出現問題的徵兆（例如「磁碟空間不足」）。程式碼仍按預期運作。\n",
        "\n",
        "4. `ERROR`：由於更嚴重的問題，程式的某些功能已經無法執行。\n",
        "\n",
        "5. `CRITICAL`：非常嚴重的錯誤，可能導致整個應用程式停止運作。\n",
        "\n",
        "關鍵點： 在預設情況下，`logging` 模組的日誌級別被設定為 `logging.WARNING`。 這意味著：它只會顯示 `WARNING`、`ERROR` 和 `CRITICAL` 級別的訊息，而 `DEBUG` 和 `INFO` 訊息會被自動忽略。"
      ],
      "metadata": {
        "id": "X7jHhQ_Kupsq"
      }
    },
    {
      "cell_type": "markdown",
      "source": [
        "3. 如何控制日誌：`logging.basicConfig()`\n",
        "\n",
        "* 要解決上述問題並獲取對日誌的控制權，最簡單的方法就是使用 `logging.basicConfig()`。\n",
        "\n",
        "* ⚠️ 重要提醒： `basicConfig()` 必須在您第一次呼叫 `logging.debug/info` 等函式之前被設定，它才能生效。它只能被有效設定一次。\n",
        "\n",
        "範例 1：顯示所有級別的訊息 (設定 Level)\n",
        "\n",
        "* 如果您想看到 `DEBUG` 和 `INFO` 訊息，您必須明確地告訴 `logging` 模組："
      ],
      "metadata": {
        "id": "pLpg5TdDvNdD"
      }
    },
    {
      "cell_type": "code",
      "source": [
        "import logging\n",
        "\n",
        "# (!!!) 在所有 logging 呼叫之前，先設定 BasicConfig\n",
        "logging.basicConfig(level=logging.DEBUG)\n",
        "\n",
        "logging.debug('Debugging information')\n",
        "logging.info('Informational message')\n",
        "logging.warning('Warning:config file %s not found', 'server.conf')\n",
        "logging.error('Error occurred')\n",
        "logging.critical('Critical error -- shutting down')\n",
        "\n",
        "# 輸出\n",
        "# DEBUG:root:Debugging information\n",
        "# INFO:root:Informational message\n",
        "# WARNING:root:Warning:config file server.conf not found\n",
        "# ERROR:root:Error occurred\n",
        "# CRITICAL:root:Critical error -- shutting down"
      ],
      "metadata": {
        "id": "4NlU15iYug8T"
      },
      "execution_count": null,
      "outputs": []
    },
    {
      "cell_type": "markdown",
      "source": [
        "4. 更多常用的函式與用法\n",
        "\n",
        "* `basicConfig()` 接受許多參數，讓您可以輕鬆客製化日誌。\n",
        "\n",
        "範例 2：將日誌寫入檔案 (filename)\n",
        "\n",
        "* 您可以將日誌發送到檔案而不是 `sys.stderr`。"
      ],
      "metadata": {
        "id": "gKxqTchvwVdY"
      }
    },
    {
      "cell_type": "code",
      "source": [
        "import logging\n",
        "\n",
        "logging.basicConfig(\n",
        "    filename='app.log',  # 檔名\n",
        "    filemode='w',        # 寫入模式 ('w'=覆蓋, 'a'=附加)\n",
        "    level=logging.INFO   # 寫入檔案的級別\n",
        ")\n",
        "\n",
        "logging.info('This will go to a file, not the console.')\n",
        "logging.warning('This will also go to the file.')\n",
        "\n",
        "# 執行後，您會發現終端機沒有任何輸出，但一個 app.log 檔案被建立，內容包含這兩行訊息。"
      ],
      "metadata": {
        "id": "CKci_IJJv6KQ"
      },
      "execution_count": null,
      "outputs": []
    },
    {
      "cell_type": "markdown",
      "source": [
        "範例 3：自訂日誌格式 (format)\n",
        "\n",
        "* 您看到的 `WARNING:root:...` 格式是預設的。\n",
        "\n",
        "    * `root` 是預設的「Logger 名稱」。我們可以自訂這個格式，讓它包含時間戳、級別名稱和訊息。"
      ],
      "metadata": {
        "id": "Luc6srbHwknw"
      }
    },
    {
      "cell_type": "code",
      "source": [
        "import logging\n",
        "\n",
        "# 這是一個非常實用的格式設定\n",
        "log_format = '%(asctime)s - %(levelname)s - %(message)s'\n",
        "\n",
        "# %(asctime)s: 人類可讀的時間。\n",
        "# %(levelname)s: INFO, WARNING 等級別名稱。\n",
        "# %(message)s: 您傳入的日誌訊息。\n",
        "\n",
        "logging.basicConfig(\n",
        "    level=logging.INFO,\n",
        "    format=log_format\n",
        ")\n",
        "\n",
        "logging.info('Informational message')\n",
        "logging.warning('A warning message')\n",
        "\n",
        "# 輸出 (格式變得更漂亮了)：\n",
        "# 2025-10-26 17:05:15,123 - INFO - Informational message\n",
        "# 2025-10-26 17:05:15,123 - WARNING - A warning message"
      ],
      "metadata": {
        "id": "ctGKgm2awrjK"
      },
      "execution_count": null,
      "outputs": []
    },
    {
      "cell_type": "markdown",
      "source": [
        "範例 4：記錄錯誤和異常 (Exception)\n",
        "\n",
        "當 `try...except` 捕捉到錯誤時，使用 `logging.exception()` 是一個非常好的習慣。它會自動在日誌中包含完整的錯誤堆疊追蹤 (Traceback)。"
      ],
      "metadata": {
        "id": "U6DCpLiBxGhz"
      }
    },
    {
      "cell_type": "code",
      "source": [
        "import logging\n",
        "\n",
        "logging.basicConfig(level=logging.ERROR)\n",
        "\n",
        "try:\n",
        "    x = 10 / 0\n",
        "except ZeroDivisionError:\n",
        "    # logging.error(\"Got a divide by zero error\") # (這只會記錄訊息)\n",
        "\n",
        "    # (!!!) 推薦使用 .exception()，它會包含完整的錯誤資訊\n",
        "    logging.exception(\"Got an exception while dividing:\")\n",
        "\n",
        "print(\"Program continues...\")"
      ],
      "metadata": {
        "id": "Gh3T3TyBw2dc"
      },
      "execution_count": null,
      "outputs": []
    },
    {
      "cell_type": "markdown",
      "source": [
        "輸出 (包含完整的 Traceback)：\n",
        "\n",
        "```\n",
        "ERROR:root:Got an exception while dividing:\n",
        "Traceback (most recent call last):\n",
        "  File \"...\", line 8, in <module>\n",
        "    x = 10 / 0\n",
        "ZeroDivisionError: division by zero\n",
        "Program continues...\n",
        "```"
      ],
      "metadata": {
        "id": "bY_qy4GOxR5g"
      }
    },
    {
      "cell_type": "markdown",
      "source": [
        "5. 最佳實踐：在模組中使用 `logging.getLogger(__name__)`\n",
        "\n",
        "* 當您的應用程式變大，分散到多個檔案（模組）時，您不應該再直接使用 `logging.warning()`。您應該使用**「具名 Logger」**。\n",
        "\n",
        "* `logging` 系統是階層式的。您看到的 `root` 是所有 `Logger` 的「根」。\n",
        "\n",
        "* 最佳實踐： 在每個模組的開頭，使用 `__name__` 變數來獲取一個以該模組命名的 `Logger`。\n",
        "\n",
        "檔案：`my_worker.py`"
      ],
      "metadata": {
        "id": "bPkJ5xGcxaWg"
      }
    },
    {
      "cell_type": "code",
      "source": [
        "import logging\n",
        "\n",
        "# 獲取一個以 \"my_worker\" 命名的 logger\n",
        "log = logging.getLogger(__name__)\n",
        "\n",
        "def do_work():\n",
        "    log.info(\"Worker is doing something.\")"
      ],
      "metadata": {
        "id": "aSGYbqa6xVDR"
      },
      "execution_count": null,
      "outputs": []
    },
    {
      "cell_type": "markdown",
      "source": [
        "檔案：`main.py`"
      ],
      "metadata": {
        "id": "n4ClWHXixv6q"
      }
    },
    {
      "cell_type": "code",
      "source": [
        "import logging\n",
        "import my_worker\n",
        "\n",
        "# 1. 在主程式中設定 \"一次\" BasicConfig\n",
        "#    我們加入 %(name)s 來顯示是哪個模組發出的日誌\n",
        "logging.basicConfig(\n",
        "    level=logging.INFO,\n",
        "    format='%(asctime)s - %(name)s - %(levelname)s - %(message)s'\n",
        ")\n",
        "\n",
        "# 2. 獲取主程式的 logger\n",
        "log = logging.getLogger(__name__) # 這裡 __name__ 會是 \"__main__\"\n",
        "\n",
        "log.info(\"Main program started.\")\n",
        "my_worker.do_work()\n",
        "log.info(\"Main program finished.\")"
      ],
      "metadata": {
        "id": "DC9yWDaJxu7I"
      },
      "execution_count": null,
      "outputs": []
    },
    {
      "cell_type": "markdown",
      "source": [
        "執行 `python main.py` 的輸出：\n",
        "\n",
        "```\n",
        "2025-10-26 17:10:30,456 - __main__ - INFO - Main program started.\n",
        "2025-10-26 17:10:30,456 - my_worker - INFO - Worker is doing something.\n",
        "2025-10-26 17:10:30,456 - __main__ - INFO - Main program finished.\n",
        "```\n",
        "\n",
        "* 觀察： 您現在可以清楚地看到 `__main__` 和 `my_worker` 的日誌，這對於除錯大型應用程式至關重要。\n"
      ],
      "metadata": {
        "id": "nIICbyeDx7h8"
      }
    },
    {
      "cell_type": "markdown",
      "source": [
        "## 11.6. 弱引用 (Weak References)"
      ],
      "metadata": {
        "id": "DNfsGgqgyO02"
      }
    },
    {
      "cell_type": "markdown",
      "source": [
        "1. **為什麼需要弱引用？(強引用 vs 弱引用)**\n",
        "\n",
        "首先，我們需要理解 Python 預設的運作方式：「強引用」(Strong Reference)。\n",
        "\n",
        "* 強引用 (Strong Reference)：\n",
        "\n",
        "    * Python 會自動進行記憶體管理。\n",
        "    * 它主要使用「參照計數」(reference counting)。\n",
        "    * 當您執行 `a = A(10)`，您就建立了一個 `A(10)` 物件，以及一個指向它的強引用 (變數 `a`)。\n",
        "    * `A(10)` 物件的參照計數變為 1。\n",
        "\n",
        "        * `my_list = [a]`：`my_list` 也指向了 `A(10)`，參照計數變為 2。\n",
        "\n",
        "        * `del a`：`a` 變數被刪除，參照計數變為 1。\n",
        "\n",
        "        * 只要參照計數**大於 0**（`my_list` 仍然指向它），這個物件就會**永遠存活**在記憶體中。\n",
        "\n",
        "* 問題：\n",
        "\n",
        "    * **快取 (Cache) 和循環參照 (Circular References)** 此方式對大多數應用程式都沒問題。\n",
        "    * 但，偶爾我們需要「追蹤」一個物件，但又不希望這個「追蹤」行為本身阻止該物件被銷毀。\n",
        "\n",
        "    * 最常見的例子就是快取 (Cache)：\n",
        "\n",
        "        1. `a = A(10)` (一個成本高昂的物件，計數=1)\n",
        "\n",
        "        2. `my_cache = {}`\n",
        "\n",
        "        3. `my_cache['key'] = a` (我們快取了它，計數=2)\n",
        "\n",
        "        4. 程式其他地方用完了 `a`，執行 `del a` (計數=1)\n",
        "\n",
        "        5. 問題： 由於 `my_cache` 仍然「強引用」著 `A(10)`，它的計數永遠是 1，導致這個物件永遠不會被銷毀，即使程式中再也沒有其他地方需要它了。這就是一種記憶體洩漏 (Memory Leak)。\n",
        "\n",
        "* **解決方案：弱引用 (Weak Reference)** `weakref` 模組提供的工具，可以讓您建立一個「弱引用」來追蹤物件。\n",
        "\n",
        "    * 弱引用不會增加物件的參照計數。\n",
        "\n",
        "    * 它允許垃圾回收 (Garbage Collection, GC) 在物件的「強引用」計數降至 0 時，正常地銷毀該物件。\n",
        "\n",
        "    * 當該物件不再被需要（被銷毀）時，弱引用會自動「失效」（變為 `None` 或從弱引用集合中被移除）。"
      ],
      "metadata": {
        "id": "P73ATHkDzJQ4"
      }
    },
    {
      "cell_type": "markdown",
      "source": [
        "2. 最基礎的工具：`weakref.ref()`\n",
        "\n",
        "* `WeakValueDictionary` 是高階工具，`weakref.ref()` 才是最基礎的 building block。\n",
        "\n",
        "* `weakref.ref(obj)` 會建立一個指向 `obj` 的弱引用物件。\n",
        "\n",
        "    * 若要存取原始物件，您需要「呼叫」(call) 這個弱引用物件 `r()`。"
      ],
      "metadata": {
        "id": "gTKq2Z7k0gQd"
      }
    },
    {
      "cell_type": "code",
      "source": [
        "import weakref\n",
        "import gc   # Garbage Collector 模組\n",
        "\n",
        "class A:\n",
        "    def __repr__(self) -> str:\n",
        "        return \"這是一個 A 物件\"\n",
        "\n",
        "# 1. 建立強引用\n",
        "obj = A()\n",
        "print(f\"原始物件: {obj}\")\n",
        "\n",
        "# 2. 建立弱引用\n",
        "r = weakref.ref(obj)\n",
        "\n",
        "# 3. 透過呼叫 () 來存取弱引用\n",
        "print(f\"透過弱引用存取: {r()}\")\n",
        "\n",
        "# 4. 刪除唯一的強引用\n",
        "print(\"--- 刪除強引用 (del obj) ---\")\n",
        "del obj\n",
        "\n",
        "# 5. 手動觸發垃圾回收 (GC)\n",
        "#    (gc.collect() 會強制 Python 清理那些計數為 0 的物件)\n",
        "gc.collect()\n",
        "\n",
        "# 6. 弱引用現在已經 \"死亡\" (失效)\n",
        "print(f\"再次透過弱引用存取: {r()}\")"
      ],
      "metadata": {
        "colab": {
          "base_uri": "https://localhost:8080/"
        },
        "id": "zV_PetjMyK9i",
        "outputId": "9bca131e-c74b-4435-a4b8-2c2298e297e3"
      },
      "execution_count": 9,
      "outputs": [
        {
          "output_type": "stream",
          "name": "stdout",
          "text": [
            "原始物件: 這是一個 A 物件\n",
            "透過弱引用存取: 這是一個 A 物件\n",
            "--- 刪除強引用 (del obj) ---\n",
            "再次透過弱引用存取: None\n"
          ]
        }
      ]
    },
    {
      "cell_type": "markdown",
      "source": [
        "觀察： 當 `obj` (唯一的強引用) 被 `del` 後，GC 就回收了 `A()` 物件，`r` 這個弱引用也自動變成了 `None`。"
      ],
      "metadata": {
        "id": "ikLQNvsPVUL0"
      }
    },
    {
      "cell_type": "markdown",
      "source": [
        "3. `weakref.WeakValueDictionary` (高階工具)\n",
        "\n",
        "* `WeakValueDictionary` 是一個幫您自動化了 `weakref.ref` 流程的字典。\n",
        "\n",
        "    * 它的**「值 (Value)」**被儲存為弱引用。"
      ],
      "metadata": {
        "id": "H_NoIJe7VbRS"
      }
    },
    {
      "cell_type": "code",
      "source": [
        "import weakref, gc\n",
        "\n",
        "class A:\n",
        "    def __init__(self, value):\n",
        "        self.value = value\n",
        "    def __repr__(self):\n",
        "        return str(self.value)\n",
        "\n",
        "# 1. 建立強引用 'a'\n",
        "a = A(10)                   # A(10) 物件的強引用計數 = 1\n",
        "\n",
        "# 2. 建立一個 WeakValueDictionary\n",
        "d = weakref.WeakValueDictionary()\n",
        "\n",
        "# 3. 將 'a' 存入字典\n",
        "#    字典 'd' 建立了一個指向 A(10) 的 \"弱引用\"\n",
        "#    A(10) 物件的強引用計數 \"仍然是 1\" (只被 'a' 指著)\n",
        "d['primary'] = a\n",
        "\n",
        "# 4. 存取：只要 'a' 還活著，物件就存在\n",
        "d['primary']\n",
        "#10\n",
        "\n",
        "# 5. 刪除唯一的強引用 'a'\n",
        "del a                   # A(10) 物件的強引用計數變為 0\n",
        "\n",
        "# 6. 強制執行垃圾回收\n",
        "#    GC 發現 A(10) 的強引用為 0，於是將其銷毀\n",
        "gc.collect()\n",
        "#0\n",
        "\n",
        "# 7. 再次存取\n",
        "#    WeakValueDictionary 內部偵測到 'primary' 指向的物件已死，\n",
        "#    於是 \"自動移除了這個條目 (entry)\"\n",
        "d['primary']\n",
        "#Traceback (most recent call last):\n",
        "#  ...\n",
        "#KeyError: 'primary'\n",
        "\n"
      ],
      "metadata": {
        "colab": {
          "base_uri": "https://localhost:8080/",
          "height": 332
        },
        "id": "zrtz6dO1U6Ll",
        "outputId": "30e5b43c-a094-4bc2-ae71-beb481b94051"
      },
      "execution_count": 11,
      "outputs": [
        {
          "output_type": "error",
          "ename": "KeyError",
          "evalue": "'primary'",
          "traceback": [
            "\u001b[0;31m---------------------------------------------------------------------------\u001b[0m",
            "\u001b[0;31mKeyError\u001b[0m                                  Traceback (most recent call last)",
            "\u001b[0;32m/tmp/ipython-input-2884928859.py\u001b[0m in \u001b[0;36m<cell line: 0>\u001b[0;34m()\u001b[0m\n\u001b[1;32m     33\u001b[0m \u001b[0;31m#    WeakValueDictionary 內部偵測到 'primary' 指向的物件已死，\u001b[0m\u001b[0;34m\u001b[0m\u001b[0;34m\u001b[0m\u001b[0m\n\u001b[1;32m     34\u001b[0m \u001b[0;31m#    於是 \"自動移除了這個條目 (entry)\"\u001b[0m\u001b[0;34m\u001b[0m\u001b[0;34m\u001b[0m\u001b[0m\n\u001b[0;32m---> 35\u001b[0;31m \u001b[0md\u001b[0m\u001b[0;34m[\u001b[0m\u001b[0;34m'primary'\u001b[0m\u001b[0;34m]\u001b[0m\u001b[0;34m\u001b[0m\u001b[0;34m\u001b[0m\u001b[0m\n\u001b[0m\u001b[1;32m     36\u001b[0m \u001b[0;31m#Traceback (most recent call last):\u001b[0m\u001b[0;34m\u001b[0m\u001b[0;34m\u001b[0m\u001b[0m\n\u001b[1;32m     37\u001b[0m \u001b[0;31m#  ...\u001b[0m\u001b[0;34m\u001b[0m\u001b[0;34m\u001b[0m\u001b[0m\n",
            "\u001b[0;32m/usr/lib/python3.12/weakref.py\u001b[0m in \u001b[0;36m__getitem__\u001b[0;34m(self, key)\u001b[0m\n\u001b[1;32m    134\u001b[0m         \u001b[0;32mif\u001b[0m \u001b[0mself\u001b[0m\u001b[0;34m.\u001b[0m\u001b[0m_pending_removals\u001b[0m\u001b[0;34m:\u001b[0m\u001b[0;34m\u001b[0m\u001b[0;34m\u001b[0m\u001b[0m\n\u001b[1;32m    135\u001b[0m             \u001b[0mself\u001b[0m\u001b[0;34m.\u001b[0m\u001b[0m_commit_removals\u001b[0m\u001b[0;34m(\u001b[0m\u001b[0;34m)\u001b[0m\u001b[0;34m\u001b[0m\u001b[0;34m\u001b[0m\u001b[0m\n\u001b[0;32m--> 136\u001b[0;31m         \u001b[0mo\u001b[0m \u001b[0;34m=\u001b[0m \u001b[0mself\u001b[0m\u001b[0;34m.\u001b[0m\u001b[0mdata\u001b[0m\u001b[0;34m[\u001b[0m\u001b[0mkey\u001b[0m\u001b[0;34m]\u001b[0m\u001b[0;34m(\u001b[0m\u001b[0;34m)\u001b[0m\u001b[0;34m\u001b[0m\u001b[0;34m\u001b[0m\u001b[0m\n\u001b[0m\u001b[1;32m    137\u001b[0m         \u001b[0;32mif\u001b[0m \u001b[0mo\u001b[0m \u001b[0;32mis\u001b[0m \u001b[0;32mNone\u001b[0m\u001b[0;34m:\u001b[0m\u001b[0;34m\u001b[0m\u001b[0;34m\u001b[0m\u001b[0m\n\u001b[1;32m    138\u001b[0m             \u001b[0;32mraise\u001b[0m \u001b[0mKeyError\u001b[0m\u001b[0;34m(\u001b[0m\u001b[0mkey\u001b[0m\u001b[0;34m)\u001b[0m\u001b[0;34m\u001b[0m\u001b[0;34m\u001b[0m\u001b[0m\n",
            "\u001b[0;31mKeyError\u001b[0m: 'primary'"
          ]
        }
      ]
    },
    {
      "cell_type": "markdown",
      "source": [
        "結論： 這完美地解決了快取問題。物件可以在不再被外部使用時，自動從快取中消失。"
      ],
      "metadata": {
        "id": "pmpAfyeHZter"
      }
    },
    {
      "cell_type": "markdown",
      "source": [
        "4. 更多常用的函式與用法\n",
        "\n",
        "* `weakref` 模組還提供了其他幾種有用的資料結構和功能：\n",
        "\n",
        "1. `weakref.WeakKeyDictionary` (鍵是弱引用)\n",
        "\n",
        "    * 與 `WeakValueDictionary` 相反，這次是**「鍵 (Key)」** 被儲存為弱引用。\n",
        "\n",
        "    * 用途： 當您想為物件「附加」額外資訊，但又不希望這些資訊阻止物件被銷毀時。"
      ],
      "metadata": {
        "id": "AQcmsUJ8Z0I4"
      }
    },
    {
      "cell_type": "code",
      "source": [
        "import weakref, gc\n",
        "\n",
        "class A:\n",
        "    def __repr__(self):\n",
        "        return f\"物件 {id(self)}\"\n",
        "\n",
        "# 鍵 (Key) 是弱引用\n",
        "d = weakref.WeakKeyDictionary()\n",
        "\n",
        "# 建立兩個物件 (強引用)\n",
        "obj1 = A()\n",
        "obj2 = A()\n",
        "\n",
        "# 使用物件作為 \"鍵\"，來儲存它們的 \"元資料 (metadata)\"\n",
        "d[obj1] = 'obj1 的元資料'\n",
        "d[obj2] = 'obj2 的元資料'\n",
        "\n",
        "print(f\"字典內容 (2 個): {list(d.items())}\")\n",
        "\n",
        "# 刪除 obj1 的強引用\n",
        "print(\"--- 刪除 obj1 ---\")\n",
        "del obj1\n",
        "gc.collect()\n",
        "\n",
        "# WeakKeyDictionary 會自動移除 \"鍵\" 已經死亡的條目\n",
        "print(f\"字典內容 (1 個): {list(d.items())}\")"
      ],
      "metadata": {
        "colab": {
          "base_uri": "https://localhost:8080/"
        },
        "id": "CCuluNkIZm5u",
        "outputId": "1329ec48-334e-4682-b8e6-293e2fd77125"
      },
      "execution_count": 12,
      "outputs": [
        {
          "output_type": "stream",
          "name": "stdout",
          "text": [
            "字典內容 (2 個): [(物件 136970896740464, 'obj1 的元資料'), (物件 136970896742480, 'obj2 的元資料')]\n",
            "--- 刪除 obj1 ---\n",
            "字典內容 (1 個): [(物件 136970896742480, 'obj2 的元資料')]\n"
          ]
        }
      ]
    },
    {
      "cell_type": "markdown",
      "source": [
        "2. `weakref.WeakSet`\n",
        "\n",
        "* 一個集合 (Set)，它儲存其成員的弱引用。"
      ],
      "metadata": {
        "id": "MMtE5rRTarD_"
      }
    },
    {
      "cell_type": "code",
      "source": [
        "import weakref, gc\n",
        "class A: pass\n",
        "\n",
        "s = weakref.WeakSet()\n",
        "obj1 = A()\n",
        "\n",
        "s.add(obj1) # 集合 \"弱引用\" obj1\n",
        "\n",
        "print(f\"obj1 是否在集合中? {obj1 in s}\")\n",
        "\n",
        "del obj1 # 刪除強引用\n",
        "gc.collect()\n",
        "\n",
        "print(f\"obj1 是否還在集合中? {list(s)}\") # 集合自動變空"
      ],
      "metadata": {
        "colab": {
          "base_uri": "https://localhost:8080/"
        },
        "id": "ygpEP_K9aVu4",
        "outputId": "fac40021-0f01-486a-ff48-f76d1fd17448"
      },
      "execution_count": 13,
      "outputs": [
        {
          "output_type": "stream",
          "name": "stdout",
          "text": [
            "obj1 是否在集合中? True\n",
            "obj1 是否還在集合中? []\n"
          ]
        }
      ]
    },
    {
      "cell_type": "markdown",
      "source": [
        "3. 弱引用的回呼 (Callback)\n",
        "\n",
        "* 弱引用可以在物件被銷毀時觸發一個「回呼 (callback)」。這可以使用 `weakref.finalize()` 來實現。\n",
        "\n",
        "* 用途： 當一個物件（例如代表「臨時檔案」的物件）被銷毀時，自動執行清理工作（例如「刪除硬碟上的臨時檔案」）。"
      ],
      "metadata": {
        "id": "4v5ex3Dsa5Zz"
      }
    },
    {
      "cell_type": "code",
      "source": [
        "import weakref\n",
        "import gc\n",
        "\n",
        "def cleanup_function(name):\n",
        "    \"\"\"這是一個回呼函式\"\"\"\n",
        "    print(f\"--- 回呼觸發 ---\")\n",
        "    print(f\"物件 {name} 已經被銷毀，正在執行清理工作...\")\n",
        "\n",
        "class MyData:\n",
        "    def __init__(self, name):\n",
        "        self.name = name\n",
        "        print(f\"{self.name} 已建立。\")\n",
        "\n",
        "        # 建立一個 \"終結器\"\n",
        "        # 當 'self' (這個 MyData 實例) 被銷毀時，\n",
        "        # 呼叫 cleanup_function，並傳入 self.name 作為參數\n",
        "        weakref.finalize(self, cleanup_function, self.name)\n",
        "\n",
        "print(\"--- 建立物件 ---\")\n",
        "d1 = MyData(\"檔案 A\")\n",
        "d2 = MyData(\"檔案 B\")\n",
        "\n",
        "print(\"--- 刪除 檔案 A ---\")\n",
        "del d1\n",
        "gc.collect() # 觸發 '檔案 A' 的回呼\n",
        "\n",
        "print(\"--- 程式即將結束 ---\")\n",
        "# d2 會在程式結束時才被銷毀，並觸發它的回呼"
      ],
      "metadata": {
        "colab": {
          "base_uri": "https://localhost:8080/"
        },
        "id": "_LJtkkaTa2tv",
        "outputId": "20bf59a8-e463-435e-d3e5-d3eb874069bb"
      },
      "execution_count": 1,
      "outputs": [
        {
          "output_type": "stream",
          "name": "stdout",
          "text": [
            "--- 建立物件 ---\n",
            "檔案 A 已建立。\n",
            "檔案 B 已建立。\n",
            "--- 刪除 檔案 A ---\n",
            "--- 回呼觸發 ---\n",
            "物件 檔案 A 已經被銷毀，正在執行清理工作...\n",
            "--- 程式即將結束 ---\n"
          ]
        }
      ]
    },
    {
      "cell_type": "markdown",
      "source": [
        "## 11.7. 使用於 List 的工具 (Tools for Working with Lists)"
      ],
      "metadata": {
        "id": "RECSFJq6boAa"
      }
    },
    {
      "cell_type": "markdown",
      "source": [
        "* 這幾個模組 `array`, `collections.deque`, `bisect`, `heapq` 都是 Python 中用來優化「列表 (list)」操作的利器。它們各自針對 `list` 的某個弱點（如記憶體、效能）提供了替代方案。\n",
        "\n",
        "* 許多需求可由內建的 `list` 滿足。但是，有時也會根據效能的各種取捨，需要一些替代的實作。"
      ],
      "metadata": {
        "id": "tgTsuAx6d6SW"
      }
    },
    {
      "cell_type": "markdown",
      "source": [
        "1. `array` 模組 (記憶體效率)\n",
        "\n",
        "* 是什麼：\n",
        "    * `array` 模組提供了一個 `array()` 物件。它像 `list`，但有一個嚴格限制：它只能儲存同類型的資料（例如，全部是整數，或全部是浮點數）。\n",
        "\n",
        "* 核心優勢：\n",
        "    * 它能「緊密地」儲存資料。\n",
        "    \n",
        "    * 一個 Python 的標準 `list` 中，每個整數物件可能佔用 16 個位元組或更多（因為它是一個完整的 Python 物件）。而 `array('H')` 中，每個項目就是 2 個位元組的原始二進制數。\n",
        "\n",
        "* 適用情境：\n",
        "    * 處理大量（數百萬）的數字時，能極度節省記憶體。\n",
        "    * 也非常適合用於二進制檔案 I/O（與 `struct` 模組搭配）。"
      ],
      "metadata": {
        "id": "ox8eKV5seLYS"
      }
    },
    {
      "cell_type": "code",
      "source": [
        "# 基礎範例\n",
        "from array import array\n",
        "\n",
        "# 'H' = 類型碼 (Type Code)，代表 2 個位元組的 \"無符號短整數\" (unsigned short)\n",
        "# 儲存 [4000, 10, 700, 22222]\n",
        "a = array('H', [4000, 10, 700, 22222])\n",
        "print(sum(a))\n",
        "#26932\n",
        "\n",
        "# 切片 (Slicing) 也和 list 一樣，回傳一個新的 array\n",
        "print(a[1:3])\n",
        "#array('H', [10, 700])"
      ],
      "metadata": {
        "colab": {
          "base_uri": "https://localhost:8080/"
        },
        "id": "Y1y9PASNbUEx",
        "outputId": "ce2532b2-82ed-4cb3-8f8e-90ced510418c"
      },
      "execution_count": 3,
      "outputs": [
        {
          "output_type": "stream",
          "name": "stdout",
          "text": [
            "26932\n",
            "array('H', [10, 700])\n"
          ]
        }
      ]
    },
    {
      "cell_type": "code",
      "source": [
        "# array 模組的更多常用函式與用法：\n",
        "from array import array\n",
        "\n",
        "# 1. 常見的類型碼 (Type Codes)\n",
        "# 'i': 帶正負號的整數 (signed int, 通常 4 bytes)\n",
        "# 'f': 浮點數 (float, 4 bytes)\n",
        "# 'd': 雙精度浮點數 (double, 8 bytes)\n",
        "a_float = array('f', [1.5, 2.5, 3.5])\n",
        "\n",
        "# 2. .append() 和 .pop() (與 list 相同)\n",
        "a.append(999)\n",
        "print(f\"Append 999: {a}\")\n",
        "a.pop()\n",
        "print(f\"Pop 999: {a}\")\n",
        "\n",
        "# 3. .itemsize 屬性：查看 \"每個\" 項目佔用多少位元組\n",
        "print(f\"Type code 'H' item size: {a.itemsize} bytes\")\n",
        "print(f\"Type code 'f' item size: {a_float.itemsize} bytes\")\n",
        "\n",
        "# 4. .frombytes() 和 .tobytes() (關鍵功能！)\n",
        "# 這讓 array 成為 struct 和 bytes 之間的橋樑\n",
        "\n",
        "# (a) .tobytes(): 將整個 array 轉換為 \"原始位元組 (raw bytes)\"\n",
        "raw_bytes = a.tobytes()\n",
        "print(f\"Array as bytes: {raw_bytes}\")\n",
        "\n",
        "# (b) .frombytes(): 從原始位元組讀取資料\n",
        "new_array = array('H') # 建立一個空的 'H' 類型 array\n",
        "new_array.frombytes(raw_bytes)\n",
        "print(f\"New array from bytes: {new_array}\")\n",
        "\n",
        "# 5. 嘗試加入錯誤的類型 (會失敗)\n",
        "try:\n",
        "    a.append(1.23) # a 是 'H' (整數)，不能加浮點數\n",
        "except TypeError as e:\n",
        "    print(f\"Error: {e}\")"
      ],
      "metadata": {
        "colab": {
          "base_uri": "https://localhost:8080/"
        },
        "id": "_aMPhbT8fGPk",
        "outputId": "2330b6b8-b2db-4214-d7a7-06dd0588ed92"
      },
      "execution_count": 4,
      "outputs": [
        {
          "output_type": "stream",
          "name": "stdout",
          "text": [
            "Append 999: array('H', [4000, 10, 700, 22222, 999])\n",
            "Pop 999: array('H', [4000, 10, 700, 22222])\n",
            "Type code 'H' item size: 2 bytes\n",
            "Type code 'f' item size: 4 bytes\n",
            "Array as bytes: b'\\xa0\\x0f\\n\\x00\\xbc\\x02\\xceV'\n",
            "New array from bytes: array('H', [4000, 10, 700, 22222])\n",
            "Error: 'float' object cannot be interpreted as an integer\n"
          ]
        }
      ]
    },
    {
      "cell_type": "markdown",
      "source": [
        "2. `collections.deque` (雙向佇列)\n",
        "\n",
        "* 是什麼：\n",
        "    * `collections` 模組提供了一個 `deque()` 物件（發音 \"deck\"，是 \"double-ended queue\" 的縮寫）。\n",
        "\n",
        "* 核心優勢：\n",
        "    * 它像 `list`，但提供了極快的「從開頭 (左側)」加入 (append) 和彈出 (pop) 的速度。\n",
        "    * `list` 從左側 `pop(0)` 或 `insert(0, ...)` 是非常慢的 (O(n))，因為它需要移動後面所有的元素。`deque` 則是極快的 (O(1))。\n",
        "\n",
        "* 適用情境： 實作佇列 (Queue, FIFO) 或堆疊 (Stack, LIFO)，以及廣度優先搜尋法 (BFS)。"
      ],
      "metadata": {
        "id": "rgQSbWmRf5Hs"
      }
    },
    {
      "cell_type": "code",
      "source": [
        "# 基礎範例\n",
        "from collections import deque\n",
        "\n",
        "# 實作 FIFO (First-In, First-Out) 佇列\n",
        "d = deque([\"task1\", \"task2\", \"task3\"])\n",
        "d.append(\"task4\") # 從 \"右側\" 加入\n",
        "print(\"Handling\", d.popleft()) # 從 \"左側\" 彈出\n",
        "\n",
        "print(d)"
      ],
      "metadata": {
        "colab": {
          "base_uri": "https://localhost:8080/"
        },
        "id": "Wmg-ijIvfk7r",
        "outputId": "87562677-e9cd-4ff8-f47f-631a9a5e1f59"
      },
      "execution_count": 6,
      "outputs": [
        {
          "output_type": "stream",
          "name": "stdout",
          "text": [
            "Handling task1\n",
            "deque(['task2', 'task3', 'task4'])\n"
          ]
        }
      ]
    },
    {
      "cell_type": "code",
      "source": [
        "# deque 模組的更多常用函式與用法：\n",
        "from collections import deque\n",
        "\n",
        "# 1. \"雙向\" 的所有操作\n",
        "dq = deque([10, 20, 30])\n",
        "\n",
        "# (a) 右側操作 (同 list)\n",
        "dq.append(40)       # [10, 20, 30, 40]\n",
        "dq.pop()            # 40 (回傳值), dq 變 [10, 20, 30]\n",
        "\n",
        "# (b) 左側操作 (list 沒有的)\n",
        "dq.appendleft(0)    # [0, 10, 20, 30]\n",
        "dq.popleft()        # 0 (回傳值), dq 變 [10, 20, 30]\n",
        "\n",
        "print(f\"Deque after operations: {dq}\")\n",
        "\n",
        "# 2. 限制長度的佇列 (maxlen) - 非常實用！\n",
        "# 可用於儲存「最後 N 筆紀錄」或「滑動視窗 (sliding window)」\n",
        "\n",
        "# (a) 建立一個最多 3 筆的 \"歷史紀錄\" deque\n",
        "history = deque(maxlen=3)\n",
        "history.append(\"Action 1\")\n",
        "history.append(\"Action 2\")\n",
        "history.append(\"Action 3\")\n",
        "print(f\"History (full): {history}\")\n",
        "\n",
        "# (b) 當加入第 4 筆時，\"最舊\" (左側) 的紀錄會 \"自動\" 被擠掉\n",
        "history.append(\"Action 4\")\n",
        "print(f\"History (newest): {history}\") # \"Action 1\" 消失了\n",
        "\n",
        "# 3. 旋轉 (rotate)\n",
        "d_rotate = deque([1, 2, 3, 4, 5])\n",
        "d_rotate.rotate(2) # 向 \"右\" 旋轉 2 步\n",
        "print(f\"Rotated right by 2: {d_rotate}\")\n",
        "\n",
        "d_rotate.rotate(-1) # 向 \"左\" 旋轉 1 步\n",
        "print(f\"Rotated left by 1: {d_rotate}\")"
      ],
      "metadata": {
        "colab": {
          "base_uri": "https://localhost:8080/"
        },
        "id": "S-l0Ynithhfv",
        "outputId": "758f5137-ee35-4e37-bbe2-2533ba238736"
      },
      "execution_count": 7,
      "outputs": [
        {
          "output_type": "stream",
          "name": "stdout",
          "text": [
            "Deque after operations: deque([10, 20, 30])\n",
            "History (full): deque(['Action 1', 'Action 2', 'Action 3'], maxlen=3)\n",
            "History (newest): deque(['Action 2', 'Action 3', 'Action 4'], maxlen=3)\n",
            "Rotated right by 2: deque([4, 5, 1, 2, 3])\n",
            "Rotated left by 1: deque([5, 1, 2, 3, 4])\n"
          ]
        }
      ]
    },
    {
      "cell_type": "markdown",
      "source": [
        "3. `bisect` 模組 (二分搜尋插入)\n",
        "\n",
        "* 是什麼：\n",
        "    * `bisect` 模組提供了在已排序串列 (Sorted List) 中進行快速查找和插入的函式。\n",
        "\n",
        "* 核心概念：\n",
        "    * bisect 不會幫您排序！它假設您的 list 已經是排序好的。\n",
        "    \n",
        "    * 它使用「二分搜尋法 (binary search)」來快速 (O(log n)) 找到新元素應該插入的位置，以維持串列的排序。\n",
        "\n",
        "* 適用情境：\n",
        "    * 當您有一個很大的排序列表，並且需要頻繁地「插入」新項目，同時又要保持列表的排序狀態時。"
      ],
      "metadata": {
        "id": "MefxiYYwiSn6"
      }
    },
    {
      "cell_type": "code",
      "source": [
        "# 基礎範例\n",
        "import bisect\n",
        "\n",
        "# 1. 列表 \"必須\" 已經排序\n",
        "scores = [(100, 'perl'), (200, 'tcl'), (400, 'lua'), (500, 'python')]\n",
        "\n",
        "# 2. bisect.insort() 會 \"找到位置\" 並 \"插入\"\n",
        "bisect.insort(scores, (300, 'ruby'))\n",
        "\n",
        "print(scores)"
      ],
      "metadata": {
        "colab": {
          "base_uri": "https://localhost:8080/"
        },
        "id": "Bp2vEa0viH6L",
        "outputId": "abd123e1-283d-420e-a905-dd4a52720fe1"
      },
      "execution_count": 9,
      "outputs": [
        {
          "output_type": "stream",
          "name": "stdout",
          "text": [
            "[(100, 'perl'), (200, 'tcl'), (300, 'ruby'), (400, 'lua'), (500, 'python')]\n"
          ]
        }
      ]
    },
    {
      "cell_type": "code",
      "source": [
        "# bisect 模組的更多常用函式與用法：\n",
        "import bisect\n",
        "\n",
        "data = [10, 20, 20, 30, 40]\n",
        "\n",
        "# 1. bisect.bisect(list, item) - 只 \"找出\" 索引\n",
        "#    (或 bisect.bisect_right，兩者相同)\n",
        "#    找出 item 應該插入 \"右側\" 的位置\n",
        "\n",
        "index = bisect.bisect(data, 25) # 25 應該插在哪裡？\n",
        "print(f\"25 應插入在索引 {index} (在 20 和 30 之間)\")\n",
        "\n",
        "index_dup = bisect.bisect(data, 20) # 20 應該插在哪裡？\n",
        "print(f\"20 (bisect_right) 應插入在索引 {index_dup} (在 20, 20 之後)\")\n",
        "\n",
        "# 2. bisect.bisect_left(list, item)\n",
        "#    找出 item 應該插入 \"左側\" 的位置\n",
        "index_left = bisect.bisect_left(data, 20)\n",
        "print(f\"20 (bisect_left) 應插入在索引 {index_left} (在 20, 20 之前)\")\n",
        "\n",
        "# 3. 實用範例：根據分數查表 (例如：成績等第)\n",
        "#    分數 -> 等第\n",
        "#    < 60  : F\n",
        "#    60-69 : D\n",
        "#    70-79 : C\n",
        "#    80-89 : B\n",
        "#    >= 90 : A\n",
        "\n",
        "def get_grade(score):\n",
        "    # 1. 分數斷點 (已排序)\n",
        "    breakpoints = [60, 70, 80, 90]\n",
        "    # 2. 對應的等第 (F 在 0 的位置)\n",
        "    grades = 'FDCBA'\n",
        "\n",
        "    # 3. 找出 score 應該插入 'breakpoints' 的索引\n",
        "    #    例如：score=75, bisect 會回傳 2 (在 70 和 80 之間)\n",
        "    #    例如：score=95, bisect 會回傳 4\n",
        "    i = bisect.bisect(breakpoints, score)\n",
        "\n",
        "    # 4. 索引 2 對應到 grades[2] ('C')\n",
        "    #    索引 4 對應到 grades[4] ('A')\n",
        "    return grades[i]\n",
        "\n",
        "print(f\"55  分是: {get_grade(55)}\")\n",
        "print(f\"65  分是: {get_grade(65)}\")\n",
        "print(f\"89  分是: {get_grade(89)}\")\n",
        "print(f\"100 分是: {get_grade(100)}\")"
      ],
      "metadata": {
        "colab": {
          "base_uri": "https://localhost:8080/"
        },
        "id": "DmvkzIrOipSK",
        "outputId": "6cae4507-a0bb-4d80-9487-45bef8571feb"
      },
      "execution_count": 10,
      "outputs": [
        {
          "output_type": "stream",
          "name": "stdout",
          "text": [
            "25 應插入在索引 3 (在 20 和 30 之間)\n",
            "20 (bisect_right) 應插入在索引 3 (在 20, 20 之後)\n",
            "20 (bisect_left) 應插入在索引 1 (在 20, 20 之前)\n",
            "55  分是: F\n",
            "65  分是: D\n",
            "89  分是: B\n",
            "100 分是: A\n"
          ]
        }
      ]
    },
    {
      "cell_type": "markdown",
      "source": [
        "4. `heapq` 模組 (堆積佇列)\n",
        "\n",
        "* 是什麼：\n",
        "    * `heapq` 模組提供了一些函式，能基於正規的 `list` 來實作「最小堆積 (Min-Heap)」。\n",
        "\n",
        "* 核心概念：\n",
        "    * 它不是一個類別，而是一組函式（`heappush`, `heappop`）。 它會維護一個「堆積」屬性，最重要的特性是：`list[0]` 永遠是整個串列中的最小元素。\n",
        "\n",
        "* 適用情境：\n",
        "    * 優先佇列 (Priority Queue)。當您需要高效率地「多次存取最小元素」，但又「不想」在每次插入新元素時都對整個 `list` 進行排序 (排序很慢) 時使用。"
      ],
      "metadata": {
        "id": "dHMfi4j3kA2O"
      }
    },
    {
      "cell_type": "code",
      "source": [
        "# 基礎範例\n",
        "from heapq import heapify, heappop, heappush\n",
        "\n",
        "data = [1, 3, 5, 7, 9, 2, 4, 6, 8, 0]\n",
        "\n",
        "# 1. heapify()： \"原地\" (in-place) 將 list 重新排列為堆積順序\n",
        "# (注意：這 \"不是\" 排序，只是確保 data[0] 是最小的)\n",
        "heapify(data)\n",
        "print(f\"Heapified data (data[0] is smallest): {data}\")\n",
        "# [0, 1, 3, 6, 2, 5, 4, 7, 8, 9]\n",
        "\n",
        "# 2. heappush(list, item)：加入一個新元素，並 \"保持\" 堆積屬性\n",
        "heappush(data, -5)\n",
        "print(f\"Pushed -5: {data}\")\n",
        "# [-5, 0, 3, 6, 1, 5, 4, 7, 8, 9, 2]\n",
        "\n",
        "# 3. heappop(list)： \"彈出\" 並 \"回傳\" 最小的元素 (data[0])\n",
        "[heappop(data) for i in range(3)]  # 抓出 3 個最小的\n",
        "# [-5, 0, 1]"
      ],
      "metadata": {
        "colab": {
          "base_uri": "https://localhost:8080/"
        },
        "id": "gPXvjJE_i98w",
        "outputId": "5808f62f-c881-45ea-ba3b-b8c2ac667be3"
      },
      "execution_count": 11,
      "outputs": [
        {
          "output_type": "stream",
          "name": "stdout",
          "text": [
            "Heapified data (data[0] is smallest): [0, 1, 2, 6, 3, 5, 4, 7, 8, 9]\n",
            "Pushed -5: [-5, 0, 2, 6, 1, 5, 4, 7, 8, 9, 3]\n"
          ]
        },
        {
          "output_type": "execute_result",
          "data": {
            "text/plain": [
              "[-5, 0, 1]"
            ]
          },
          "metadata": {},
          "execution_count": 11
        }
      ]
    },
    {
      "cell_type": "code",
      "source": [
        "# heapq 模組的更多常用函式與用法：\n",
        "from heapq import heappush, heappop, nsmallest, nlargest\n",
        "\n",
        "# 1. 存取最小元素 (不彈出)\n",
        "#    因為 data[0] 永遠是最小的，直接存取即可\n",
        "heap = [5, 10, 15]\n",
        "heappush(heap, 3)\n",
        "print(f\"Smallest item is: {heap[0]}\") # 輸出 3\n",
        "\n",
        "# 2. nsmallest(k, iterable) - 找出 \"前 K 個最小\" 的元素\n",
        "#    這比 \"sorted(data)[:k]\" 更有效率\n",
        "data = [1, 3, 5, 7, 9, 2, 4, 6, 8, 0]\n",
        "print(f\"3 Smallest: {nsmallest(3, data)}\")\n",
        "\n",
        "# 3. nlargest(k, iterable) - 找出 \"前 K 個最大\" 的元素\n",
        "#    這在找「排行榜前 10 名」時非常有用\n",
        "print(f\"3 Largest: {nlargest(3, data)}\")\n",
        "\n",
        "# 4. 實作優先佇列 (Priority Queue)\n",
        "#    我們將 (priority, task) 組成元組 (tuple)\n",
        "#    Heapq 會自動根據元組的第一個元素 (priority) 來排序\n",
        "pq = []\n",
        "heappush(pq, (5, \"Task: Write code\"))\n",
        "heappush(pq, (1, \"Task: Answer email (HIGH PRIORITY)\"))\n",
        "heappush(pq, (10, \"Task: Read docs\"))\n",
        "\n",
        "# 依序處理優先級最高的任務\n",
        "while pq:\n",
        "    priority, task = heappop(pq)\n",
        "    print(f\"Handling priority {priority}: {task}\")"
      ],
      "metadata": {
        "colab": {
          "base_uri": "https://localhost:8080/"
        },
        "id": "4gcLfDdUmZPu",
        "outputId": "5790e8a2-13d0-426b-aace-fd550228f31e"
      },
      "execution_count": 12,
      "outputs": [
        {
          "output_type": "stream",
          "name": "stdout",
          "text": [
            "Smallest item is: 3\n",
            "3 Smallest: [0, 1, 2]\n",
            "3 Largest: [9, 8, 7]\n",
            "Handling priority 1: Task: Answer email (HIGH PRIORITY)\n",
            "Handling priority 5: Task: Write code\n",
            "Handling priority 10: Task: Read docs\n"
          ]
        }
      ]
    },
    {
      "cell_type": "markdown",
      "source": [
        "![螢幕擷取畫面 2025-10-26 210500.png](data:image/png;base64,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)"
      ],
      "metadata": {
        "id": "X266977Snf5d"
      }
    },
    {
      "cell_type": "markdown",
      "source": [
        "## 11.8. 十進制 (Decimal) 浮點數運算 (Decimal Floating Point Arithmetic)"
      ],
      "metadata": {
        "id": "_UNuWRiHoECy"
      }
    },
    {
      "cell_type": "markdown",
      "source": [
        "PASS\n",
        "\n",
        "...\n",
        "\n",
        "總結：`Decimal` vs `float`\n",
        "\n",
        "* 使用 `Decimal` 的時機：\n",
        "\n",
        "    * 金融和貨幣計算（首選！）。\n",
        "\n",
        "    * 需要精確控制小數位數和捨入規則的應用（例如法規、稅務）。\n",
        "\n",
        "    * 需要重現手工十進制計算結果，不允許任何二進制誤差。\n",
        "\n",
        "* 使用 `float` 的時機：\n",
        "\n",
        "    * 科學計算、圖形學、機器學習 (ML)。\n",
        "\n",
        "    * 速度比絕對精確度更重要。\n",
        "\n",
        "    * 您處理的是本身就有誤差的「物理測量值」。"
      ],
      "metadata": {
        "id": "FxIuDHsyovIG"
      }
    },
    {
      "cell_type": "code",
      "source": [],
      "metadata": {
        "id": "bSwHVEfommsF"
      },
      "execution_count": null,
      "outputs": []
    }
  ]
}