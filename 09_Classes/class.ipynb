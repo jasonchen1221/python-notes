{
  "nbformat": 4,
  "nbformat_minor": 0,
  "metadata": {
    "colab": {
      "provenance": [],
      "toc_visible": true,
      "authorship_tag": "ABX9TyOekfeBI2SyRgjt3GfiIC4h"
    },
    "kernelspec": {
      "name": "python3",
      "display_name": "Python 3"
    },
    "language_info": {
      "name": "python"
    }
  },
  "cells": [
    {
      "cell_type": "markdown",
      "source": [
        "# 9. Class\n",
        "\n",
        "Python 的物件導向 (Class) 設計，在借鑒了前人 (C++, Modula-3) 經驗的基礎上，選擇了一條**更簡單、更靈活、更動態**的路線。它沒有創造太多複雜的新規則，而是把重點放在**易用性和彈性**上。\n",
        "\n",
        "一些要點如下:\n",
        "\n"
      ],
      "metadata": {
        "id": "XQei7Lhvqal7"
      }
    },
    {
      "cell_type": "markdown",
      "source": [
        "1. **class 繼承機制允許多個 base class（基底類別）**\n",
        "    * 一個新的 class（稱為衍生類別或子類別），可以一次同時繼承好幾個舊的 class（稱為基底類別或父類別）。\n",
        "    * 這就像一個小孩，可能同時遺傳了爸爸的聰明才智和媽媽的藝術天份。這個「小孩 class」將會同時擁有「爸爸 class」和「媽媽 class」的功能。這就是「多重繼承」。"
      ],
      "metadata": {
        "id": "cZUME4Rks5Ee"
      }
    },
    {
      "cell_type": "code",
      "source": [
        "class CanFly:\n",
        "    def fly(self):\n",
        "        print(\"I can fly!\")\n",
        "\n",
        "class CanSwim:\n",
        "    def swim(self):\n",
        "        print(\"I can swim!\")\n",
        "\n",
        "# Duck 同時繼承了 CanFly 和 CanSwim\n",
        "class Duck(CanFly, CanSwim):\n",
        "    pass\n",
        "\n",
        "# 建立一個 Duck 物件\n",
        "donald = Duck()\n",
        "donald.fly()   # 擁有 CanFly 的 fly() method\n",
        "donald.swim()  # 擁有 CanSwim 的 swim() method"
      ],
      "metadata": {
        "colab": {
          "base_uri": "https://localhost:8080/"
        },
        "id": "-ByeVxlJtFTc",
        "outputId": "1dbe7645-a9cc-4d9e-8457-e67a45f582b0"
      },
      "execution_count": null,
      "outputs": [
        {
          "output_type": "stream",
          "name": "stdout",
          "text": [
            "I can fly!\n",
            "I can swim!\n"
          ]
        }
      ]
    },
    {
      "cell_type": "markdown",
      "source": [
        "2. **一個 derived class（衍生類別）可以覆寫 (override) 其 base class 的任何 method，且一個 method 可以用相同的名稱呼叫其 base class 的 method。**\n",
        "    * **覆寫 (Override)**：子類別可以重新定義一個跟父類別同名的方法 (method)，用自己的版本蓋掉爸爸的版本。例如，爸爸的「打招呼」方法是揮手，兒子的「打招呼」方法可以是說 \"Hello\"。\n",
        "\n",
        "    * **呼叫父類別版本**：在兒子重新定義的「打招呼」方法裡，如果還想保留爸爸揮手的動作，可以明確地呼叫爸爸的版本，然後再加入自己的新行為。這通常透過 `super()` 來實現。"
      ],
      "metadata": {
        "id": "TGpZsJzptf2q"
      }
    },
    {
      "cell_type": "code",
      "source": [
        "class Animal:\n",
        "    def speak(self):\n",
        "        print(\"An animal makes a sound.\")\n",
        "\n",
        "class Dog(Animal):\n",
        "    # 覆寫 (override) 了父類別的 speak method\n",
        "    def speak(self):\n",
        "        # 用 super() 呼叫父類別 (Animal) 的 speak() method\n",
        "        super().speak()\n",
        "        # 再加上自己的行為\n",
        "        print(\"Woof! Woof!\")\n",
        "\n",
        "my_dog = Dog()\n",
        "my_dog.speak()"
      ],
      "metadata": {
        "id": "UL_TuVQAtawx",
        "colab": {
          "base_uri": "https://localhost:8080/"
        },
        "outputId": "d6b67ba7-d8ef-44d1-ed5e-184adebcab4c"
      },
      "execution_count": null,
      "outputs": [
        {
          "output_type": "stream",
          "name": "stdout",
          "text": [
            "An animal makes a sound.\n",
            "Woof! Woof!\n"
          ]
        }
      ]
    },
    {
      "cell_type": "markdown",
      "source": [
        "3. **物件可以包含任意數量及任意種類的資料。**\n",
        "\n",
        "    * 當你用一個 class 建立出一個物件 (object) 後，你可以隨時隨地幫這個物件「貼標籤」、增加新的屬性（資料）。\n",
        "    * 這在很多靜態語言（如 C++ 或 Java）中是不行的，它們要求在定義 class 時就把所有成員都固定好。"
      ],
      "metadata": {
        "id": "gjKs6hY43GzP"
      }
    },
    {
      "cell_type": "code",
      "source": [
        "class Person():\n",
        "    def __init__(self, name):\n",
        "        self.name = name\n",
        "\n",
        "# 建立一個 Person 物件，一開始只有 name 屬性\n",
        "p = Person(\"Jason\")\n",
        "print(p.name)\n",
        "\n",
        "# 在執行過程中，動態地為這個物件增加新的屬性\n",
        "p.age = 33\n",
        "p.city = \"Hsinchu\"\n",
        "\n",
        "print(f\"{p.name} is {p.age} and lives in {p.city}.\")"
      ],
      "metadata": {
        "colab": {
          "base_uri": "https://localhost:8080/"
        },
        "id": "zOyqZi5f24Li",
        "outputId": "8950e741-6193-4df6-82d6-a9b0cdb6dd4d"
      },
      "execution_count": null,
      "outputs": [
        {
          "output_type": "stream",
          "name": "stdout",
          "text": [
            "Jason\n",
            "Jason is 33 and lives in Hsinchu.\n"
          ]
        }
      ]
    },
    {
      "cell_type": "markdown",
      "source": [
        "4. **class 也具有 Python 的動態特性：他們在執行期 (runtime) 被建立，且可以在建立之後被修改。**\n",
        "\n",
        "    * 這比上一個更進階。不只是「物件」可以被動態修改，「class 本身」這個藍圖也可以在程式執行過程中被修改。\n",
        "    * 你可以為一個已經定義好的 class 增加新的 method 或屬性。"
      ],
      "metadata": {
        "id": "HlyguGwV4C6Y"
      }
    },
    {
      "cell_type": "code",
      "source": [
        "class Cat:\n",
        "    def __init__(self, name):\n",
        "        self.name = name\n",
        "    def meow(self):\n",
        "        print(\"Meow!\")\n",
        "\n",
        "# 建立一個 Cat 物件\n",
        "kitty = Cat(\"Kitty\")\n",
        "# 此時 Cat 還沒有 purr (呼嚕) 的 method\n",
        "# kitty.purr() # 這行會報錯\n",
        "\n",
        "# 在執行過程中，動態地為整個 Cat \"class\" 增加一個新 method\n",
        "def purr_func(self):\n",
        "    print(f\"{self.name} is purring...\")\n",
        "\n",
        "Cat.purr = purr_func    # 將函式綁定到 class 上\n",
        "\n",
        "# 現在所有的 Cat 物件（包括之前建立的）都有 purr method 了！\n",
        "kitty.purr()\n",
        "\n",
        "another_cat = Cat(\"Garfie\")\n",
        "another_cat.purr()"
      ],
      "metadata": {
        "colab": {
          "base_uri": "https://localhost:8080/"
        },
        "id": "jHCj2WsY3vEF",
        "outputId": "c367c5c1-cc6e-4023-9579-7fa920db2fa7"
      },
      "execution_count": null,
      "outputs": [
        {
          "output_type": "stream",
          "name": "stdout",
          "text": [
            "Kitty is purring...\n",
            "Garfie is purring...\n"
          ]
        }
      ]
    },
    {
      "cell_type": "markdown",
      "source": [
        "5.\n",
        "\n",
        "* **公開 (Public)**：\n",
        "    * 在 Python，class 裡的所有東西（變數、函式）預設都是「公開」的，意思就是你在 class 的外部可以直接存取它們。\n",
        "    * Python 沒有 C++ 或 Java 那樣嚴格的 `private` 關鍵字來禁止外部存取。我們用命名慣例（例如 `_private_variable`）來「建議」別人不要亂動，但沒有強制力。\n",
        "\n",
        "* **虛擬 (Virtual)**：\n",
        "    * 這是一個 C++ 的術語。\n",
        "    * 在 Python 的世界裡，你可以簡單理解成：「任何 method 預設都可以被子類別覆寫 (override)」。\n",
        "    * 你不需要像 C++ 一樣用 `virtual` 關鍵字特別宣告。這讓 Python 的繼承行為更簡單、更直覺。"
      ],
      "metadata": {
        "id": "Gg66EmG_5HoE"
      }
    },
    {
      "cell_type": "markdown",
      "source": [
        "6.\n",
        "\n",
        "* 為什麼 Python 的 method 都必須有 `self` 這個參數?\n",
        "    * 在 class 的 method 內部，如果你想存取這個物件自己的屬性（例如 `name`），你不能直接寫 `name`，你必須寫 `self.name`。\n",
        "    * 這個 `self` 就是代表「物件本身」的那個參數，它總是 method 的第一個參數，而且是**明確地 (explicitly)** 寫出來的。\n",
        "\n",
        "    * 這是 Python 哲學中的「**Explicit is better than implicit**」"
      ],
      "metadata": {
        "id": "Vp-zE7Ur9UWo"
      }
    },
    {
      "cell_type": "code",
      "source": [
        "class Point:\n",
        "    def __init__(self, x, y):\n",
        "        self.x = x\n",
        "        self.y = y\n",
        "\n",
        "    def move(self, dx, dy):\n",
        "        # 必須用 self.x, 不能只寫 x\n",
        "        self.x = self.x + dx\n",
        "        self.y = self.y + dy\n",
        "\n",
        "p = Point(10, 20)\n",
        "p.move(2, 3)    # 呼叫時不用給 self，Python 會自動傳入\n",
        "print(f\"New position: ({p.x}, {p.y})\")"
      ],
      "metadata": {
        "colab": {
          "base_uri": "https://localhost:8080/"
        },
        "id": "pTqKBFHV4_fU",
        "outputId": "645b2a01-8465-4268-ddce-aa6d27a1d8ac"
      },
      "execution_count": null,
      "outputs": [
        {
          "output_type": "stream",
          "name": "stdout",
          "text": [
            "New position: (12, 23)\n"
          ]
        }
      ]
    },
    {
      "cell_type": "markdown",
      "source": [
        "7. **class 都是物件**\n",
        "\n",
        "    * 在 Python 中，幾乎所有東西都是物件，連 class 本身也是一個物件。\n",
        "    * 這代表你可以像對待普通變數一樣對待一個 class，例如：把它賦值給另一個變數、把它當成參數傳遞給函式等。"
      ],
      "metadata": {
        "id": "sSeSSGlBfcKR"
      }
    },
    {
      "cell_type": "code",
      "source": [
        "class MyClass:\n",
        "    pass\n",
        "\n",
        "# 1. 把 class 賦值給一個變數\n",
        "AnotherNameForMyClass = MyClass\n",
        "\n",
        "# 用新的名字也可以建立物件\n",
        "inst = AnotherNameForMyClass()\n",
        "print(type(inst))\n",
        "\n",
        "# 2. 把 class 當成參數傳入函式\n",
        "def create_object(cls):\n",
        "    print(f\"Creating an object from {cls.__name__}...\")\n",
        "    return cls()\n",
        "\n",
        "new_obj = create_object(MyClass)"
      ],
      "metadata": {
        "id": "CrMQPxXl-DbP",
        "colab": {
          "base_uri": "https://localhost:8080/"
        },
        "outputId": "edf7aad1-4a51-4507-e2c6-b44ee4bbd6c7"
      },
      "execution_count": null,
      "outputs": [
        {
          "output_type": "stream",
          "name": "stdout",
          "text": [
            "<class '__main__.MyClass'>\n",
            "Creating an object from MyClass...\n"
          ]
        }
      ]
    },
    {
      "cell_type": "markdown",
      "source": [
        "8. **內建的型別可以被使用者以 base class 用於其他擴充**\n",
        "\n",
        "    * 你可以繼承 Python 內建的資料型別，像是 `list`, `dict`, `str` 等，然後加上你自己的功能。"
      ],
      "metadata": {
        "id": "WmaLT3WvgVdI"
      }
    },
    {
      "cell_type": "code",
      "source": [
        "# Ex: 你想做一個只能存放數字，且每次加入新元素時都會自動排序的列表\n",
        "\n",
        "# 繼承自內建的 list\n",
        "class SortedNumberList(list):\n",
        "    # 覆寫 append method\n",
        "    def append(self, value):\n",
        "        if not isinstance(value, (int, float)):\n",
        "            raise TypeError(\"Only numbers can be added.\")\n",
        "\n",
        "        # 呼叫父類別 (list) 的原始 append 功能\n",
        "        super().append(value)\n",
        "        # 加上自己的新功能：排序\n",
        "        self.sort()\n",
        "\n",
        "my_list = SortedNumberList()\n",
        "my_list.append(10)\n",
        "my_list.append(5)\n",
        "my_list.append(8)\n",
        "\n",
        "print(my_list)"
      ],
      "metadata": {
        "colab": {
          "base_uri": "https://localhost:8080/"
        },
        "id": "WmwkXGhhf0ga",
        "outputId": "a0e68dcb-c444-48cb-ffb3-810b28924496"
      },
      "execution_count": null,
      "outputs": [
        {
          "output_type": "stream",
          "name": "stdout",
          "text": [
            "[5, 8, 10]\n"
          ]
        }
      ]
    },
    {
      "cell_type": "code",
      "source": [
        "my_list.append(\"Hello\")"
      ],
      "metadata": {
        "colab": {
          "base_uri": "https://localhost:8080/",
          "height": 263
        },
        "id": "bfWDN73S9uE-",
        "outputId": "4ca0d25b-f61f-42e4-ac92-0c25ed598228"
      },
      "execution_count": null,
      "outputs": [
        {
          "output_type": "error",
          "ename": "TypeError",
          "evalue": "Only numbers can be added.",
          "traceback": [
            "\u001b[0;31m---------------------------------------------------------------------------\u001b[0m",
            "\u001b[0;31mTypeError\u001b[0m                                 Traceback (most recent call last)",
            "\u001b[0;32m/tmp/ipython-input-1838855013.py\u001b[0m in \u001b[0;36m<cell line: 0>\u001b[0;34m()\u001b[0m\n\u001b[0;32m----> 1\u001b[0;31m \u001b[0mmy_list\u001b[0m\u001b[0;34m.\u001b[0m\u001b[0mappend\u001b[0m\u001b[0;34m(\u001b[0m\u001b[0;34m\"Hello\"\u001b[0m\u001b[0;34m)\u001b[0m\u001b[0;34m\u001b[0m\u001b[0;34m\u001b[0m\u001b[0m\n\u001b[0m",
            "\u001b[0;32m/tmp/ipython-input-1861555039.py\u001b[0m in \u001b[0;36mappend\u001b[0;34m(self, value)\u001b[0m\n\u001b[1;32m      6\u001b[0m     \u001b[0;32mdef\u001b[0m \u001b[0mappend\u001b[0m\u001b[0;34m(\u001b[0m\u001b[0mself\u001b[0m\u001b[0;34m,\u001b[0m \u001b[0mvalue\u001b[0m\u001b[0;34m)\u001b[0m\u001b[0;34m:\u001b[0m\u001b[0;34m\u001b[0m\u001b[0;34m\u001b[0m\u001b[0m\n\u001b[1;32m      7\u001b[0m         \u001b[0;32mif\u001b[0m \u001b[0;32mnot\u001b[0m \u001b[0misinstance\u001b[0m\u001b[0;34m(\u001b[0m\u001b[0mvalue\u001b[0m\u001b[0;34m,\u001b[0m \u001b[0;34m(\u001b[0m\u001b[0mint\u001b[0m\u001b[0;34m,\u001b[0m \u001b[0mfloat\u001b[0m\u001b[0;34m)\u001b[0m\u001b[0;34m)\u001b[0m\u001b[0;34m:\u001b[0m\u001b[0;34m\u001b[0m\u001b[0;34m\u001b[0m\u001b[0m\n\u001b[0;32m----> 8\u001b[0;31m             \u001b[0;32mraise\u001b[0m \u001b[0mTypeError\u001b[0m\u001b[0;34m(\u001b[0m\u001b[0;34m\"Only numbers can be added.\"\u001b[0m\u001b[0;34m)\u001b[0m\u001b[0;34m\u001b[0m\u001b[0;34m\u001b[0m\u001b[0m\n\u001b[0m\u001b[1;32m      9\u001b[0m \u001b[0;34m\u001b[0m\u001b[0m\n\u001b[1;32m     10\u001b[0m         \u001b[0;31m# 呼叫父類別 (list) 的原始 append 功能\u001b[0m\u001b[0;34m\u001b[0m\u001b[0;34m\u001b[0m\u001b[0m\n",
            "\u001b[0;31mTypeError\u001b[0m: Only numbers can be added."
          ]
        }
      ]
    },
    {
      "cell_type": "markdown",
      "source": [
        "9. **大多數有著特別語法的內建運算子...都可以為了 class 實例而被重新定義**\n",
        "\n",
        "    * 可以讓你的自訂物件支援像是 `+`, `-`, `*`, `/` 這些運算子，\n",
        "    * 或是讓它能用 `len()` 取得長度，\n",
        "    * 或是用 `[]` 來存取元素。\n",
        "    * 透過實作特定的「特殊方法」(Special Methods，又稱 Magic Methods 或 Dunder Methods，因為它們的名字前後都有兩個底線) 來達成的。"
      ],
      "metadata": {
        "id": "tBxBPhK496Do"
      }
    },
    {
      "cell_type": "code",
      "source": [
        "# 定義一個 2D 向量 class，並讓它支援 + 運算子\n",
        "class Vector:\n",
        "    def __init__(self, x, y):\n",
        "        self.x = x\n",
        "        self.y = y\n",
        "\n",
        "    # 定義 '+' 運算子的行為\n",
        "    def __add__(self, other):\n",
        "        new_x = self.x + other.x\n",
        "        new_y = self.y + other.y\n",
        "        return Vector(new_x, new_y)\n",
        "\n",
        "    # 定義物件被 print() 時的顯示方式\n",
        "    def __str__(self):\n",
        "        return f\"Vector({self.x}, {self.y})\"\n",
        "\n",
        "v1 = Vector(2, 3)\n",
        "v2 = Vector(5, 1)\n",
        "v3 = v1 + v2\n",
        "\n",
        "print(v3)\n"
      ],
      "metadata": {
        "colab": {
          "base_uri": "https://localhost:8080/"
        },
        "id": "s2oTjb2g9wuY",
        "outputId": "d92b3a89-6658-4c60-aed6-e44ebdcf95be"
      },
      "execution_count": null,
      "outputs": [
        {
          "output_type": "stream",
          "name": "stdout",
          "text": [
            "Vector(7, 4)\n"
          ]
        }
      ]
    },
    {
      "cell_type": "markdown",
      "source": [
        "## 9.1 關於名稱與物件\n",
        "\n",
        "* 物件有個體性 (individuality)，且多個名稱（在多個作用域 (scope) ）可以被連結到相同的物件。\n",
        "    * 這在其他語言中被稱為別名 (aliasing)。\n",
        "    * 初次接觸 Python 時通常不會注意這件事，而在處理不可變(immutable)的基本型別（數值、字串、tuple）時，它也可以安全地被忽略。\n",
        "    * 然而，別名在含有可變(mutable)物件（如 list（串列）、dictionary（字典）、和大多數其他的型別）的 Python 程式碼語意中，可能會有意外的效果。\n",
        "        * 這通常有利於程式，因為別名在某些方面表現得像指標 (pointer)。\n",
        "        * 舉例來說，在實作時傳遞一個物件是便宜的，因為只有指標被傳遞；假如函式修改了一個作為引數傳遞的物件，呼叫函式者 (caller) 能夠見到這些改變 —— 這消除了在 Pascal 中兩個相異引數傳遞機制的需求。\n",
        "\n",
        "* 以下說明:"
      ],
      "metadata": {
        "id": "OH9oiEfCGYHv"
      }
    },
    {
      "cell_type": "markdown",
      "source": [
        "**核心概念：名稱只是貼在物件上的「標籤」**\n",
        "\n",
        "* 在 Python 中，你要把「變數名稱」和「物件」想成是兩回事。\n",
        "\n",
        "    * **物件 (Object)**：是真實存在記憶體中的資料。想像成一個箱子，裡面裝著東西（例如數字 `100`、字串 `\"Hello\"`、或是一個列表 `[1, 2, 3]`）。\n",
        "\n",
        "    * **名稱 (Name)**：是你為變數取的名字。想像成一張標籤，你可以把這張標籤貼在任何一個箱子上。\n",
        "\n",
        "* 當你寫下 `x = 100` 時，發生了兩件事：\n",
        "\n",
        "    1. Python 在記憶體中創造了一個物件（一個裝著 `100` 的箱子）。\n",
        "\n",
        "    2. Python 創造了一個名叫 `x` 的標籤，並把它貼在這個箱子上。\n",
        "```\n",
        "  x  ──────► [ 100 這個物件 ]\n",
        "(標籤)          (記憶體中的箱子)\n",
        "```"
      ],
      "metadata": {
        "id": "g3pyXP3qG-xh"
      }
    },
    {
      "cell_type": "markdown",
      "source": [
        "**1. 別名 (Aliasing)**\n",
        "\n",
        "* 你可以拿很多張不同的標籤，貼在同一個箱子上。\n",
        "* 這些指向同一個物件的不同名稱，就互為「別名」。\n",
        "```python\n",
        "x = [10, 20, 30]  # 步驟1: 創造一個列表物件，並貼上 'x' 標籤\n",
        "\n",
        "# 視覺化\n",
        "#   x  ───► [ [10, 20, 30] ]\n",
        "\n",
        "y = x    # 步驟2: 創造一個新的 'y' 標籤，把它貼到 'x' 標籤所在的同一個箱子上\n",
        "\n",
        "# 視覺化\n",
        "#   x  ───► [ [10, 20, 30] ] ◄─── y\n",
        "#              (同一個物件)\n",
        "```\n",
        "\n",
        "* 現在，`x` 和 `y` 都是同一個列表物件的「別名」。"
      ],
      "metadata": {
        "id": "bYB7eVRaHnZn"
      }
    },
    {
      "cell_type": "markdown",
      "source": [
        "**2. 為什麼處理「不可變 (Immutable) 物件」時可以忽略它?**\n",
        "\n",
        "* 「不可變」的意思是，箱子裡的東西是焊死的，你不能改變它。\n",
        "* 如果你想改變，Python 不會去動舊箱子，而是會直接給你一個裝著新內容的全新箱子，然後把你的標籤移到這個新箱子上。\n",
        "\n",
        "```python\n",
        "a = 100    # 'a' 標籤貼在 [100] 物件上\n",
        "b = a      # 'b' 標籤也貼在同一個 [100] 物件上\n",
        "\n",
        "# 此時： a ──► [ 100 ] ◄── b\n",
        "\n",
        "a = a + 1  # 這裡是關鍵！\n",
        "           # Python 先計算出 101，創造一個新的 [101] 物件\n",
        "           # 然後把 'a' 這張標籤從 [100] 上撕下來，貼到新的 [101] 上\n",
        "           # 'b' 標籤完全沒動，還在舊的 [100] 上\n",
        "\n",
        "# 現在： b ──► [ 100 ]\n",
        "#        a ───► [ 101 ] (新物件)\n",
        "\n",
        "print(f\"a 的值是: {a}\") # 輸出: 101\n",
        "print(f\"b 的值是: {b}\") # 輸出: 100\n",
        "```\n",
        "\n",
        "* 因為這個行為看起來就像 `a` 和 `b` 是兩個獨立的變數，所以當你處理數字、字串、tuple 這些「不可變」(Immutable)型別時，就算有別名存在，通常也不會出什麼問題。"
      ],
      "metadata": {
        "id": "Vm1dhz1zIUdH"
      }
    },
    {
      "cell_type": "markdown",
      "source": [
        "**3. 「可變 (Mutable) 物件」的「意外效果」**\n",
        "\n",
        "* 「可變」(Mutable)的意思是，箱子的蓋子可以打開，你可以直接修改裡面的東西。\n",
        "    * 如 list（串列）、dictionary（字典）、和大多數其他的型別\n",
        "* 當多個標籤貼在同一個可變的箱子上時，你用任何一張標籤去修改箱子裡的內容，其他標籤的使用者都會看到這個變化，因為箱子只有一個！\n",
        "\n",
        "```python\n",
        "list_a = [1, 2, 3]\n",
        "list_b = list_a  # list_a 和 list_b 現在是同一個列表物件的別名\n",
        "\n",
        "# 此時： list_a ──► [ [1, 2, 3] ] ◄── list_b\n",
        "\n",
        "# 我們透過 list_b 這張標籤，去修改箱子裡的內容\n",
        "list_b.append(99)\n",
        "\n",
        "# 現在箱子裡的內容被改變了\n",
        "#      list_a ──► [ [1, 2, 3, 99] ] ◄── list_b\n",
        "\n",
        "print(f\"list_a 的內容: {list_a}\") # 輸出: [1, 2, 3, 99]\n",
        "print(f\"list_b 的內容: {list_b}\") # 輸出: [1, 2, 3, 99]\n",
        "```\n",
        "\n",
        "* 這就是所謂的「意外效果」。初學者可能會以為修改 `list_b` 不會影響 `list_a`，但因為它們指向同一個物件，所以會一起改變。"
      ],
      "metadata": {
        "id": "Iq07f6FVJC5y"
      }
    },
    {
      "cell_type": "markdown",
      "source": [
        "## 9.2. Python 作用域 (Scope) 及命名空間 (Namespace)\n",
        "\n"
      ],
      "metadata": {
        "id": "6fjQRutqOy-v"
      }
    },
    {
      "cell_type": "markdown",
      "source": [
        "* 介紹 class 之前，我必須先告訴你一些關於 Python 作用域的規則。\n",
        "* Class definition（類別定義）以命名空間展現了一些俐落的技巧，而你需要了解作用域和命名空間的運作才能完整理解正在發生的事情。\n",
        "* 關於這個主題的知識對任何進階的 Python 程式設計師都是很有用的。"
      ],
      "metadata": {
        "id": "bIffGvdIQKEa"
      }
    },
    {
      "cell_type": "markdown",
      "source": [
        "**命名空間 (Namespace) 的定義**\n",
        "\n",
        "* 命名空間是從名稱到物件的映射。\n",
        "    \n",
        "    * 大部分的命名空間現在都是以 Python 的 dictionary 被實作，但通常不會以任何方式被察覺（除了性能），且它可能會在未來改變。\n",
        "    \n",
        "    * 命名空間的例子有：內建名稱的集合（包含如 `abs()` 的函式，和內建的例外名稱）；模組中的全域 (`global`) 名稱；和在函式調用中的區域 (`local`) 名稱。\n",
        "    \n",
        "    * 某種意義上，物件中的屬性集合也會形成一個命名空間。\n",
        "    \n",
        "    * 關於命名空間的重要一點是，不同命名空間中的名稱之間絕對沒有關係；\n",
        "        \n",
        "        * 舉例來說，兩個不一樣的模組都可以定義一個 `maximize` 函式而不會混淆: 模組的使用者必須為它加上前綴 (prefix) 模組名稱。\n",
        "\n",
        "* 舉例\n",
        "    \n",
        "    * 想像我們有兩個 Python 檔案 (模組)：一個用來處理數學，一個用來處理視窗。\n",
        "\n",
        "    `math_utils.py`:\n",
        "    ```python\n",
        "    def maximize(numbers):\n",
        "        \"\"\"返回一組數字中的最大值\"\"\"\n",
        "        return max(numbers)\n",
        "    ```\n",
        "\n",
        "    `window_utils.py`:\n",
        "    ```python\n",
        "    def maximize():\n",
        "        \"\"\"將視窗最大化\"\"\"\n",
        "        print(\"視窗已最大化！\")\n",
        "    ```\n",
        "\n",
        "    在另一個主程式 `main.py` 中使用它們:\n",
        "    ```python\n",
        "    import math_utils\n",
        "    import window_utils\n",
        "\n",
        "    # 因為 maximize 這個名稱在不同的「命名空間」 裡，\n",
        "    # 所以我們必須明確指出要用哪一命名空間。\n",
        "    # 這就是原文說的「加上前綴模組名稱」。\n",
        "\n",
        "    result = math_utils.maximize([1, 5, 3]) # 呼叫 math_utils 裡的 maximize\n",
        "    print(f\"最大值是: {result}\")\n",
        "\n",
        "    window_utils.maximize() # 呼叫 window_utils 裡的 maximize\n",
        "    ```\n",
        "\n",
        "    `math_utils` 和 `window_utils` 各自維護自己的命名空間，所以同樣叫做 `maximize` 的函式可以共存而不會打架。"
      ],
      "metadata": {
        "id": "u_yKFgXeQWID"
      }
    },
    {
      "cell_type": "markdown",
      "source": [
        "**屬性 (Attribute) 與其可寫性**\n",
        "\n",
        "* 屬性 (attribute) 這個字，統稱句號 (dot) 後面的任何名稱——\n",
        "    * 例如，運算式中的 `z.real`，`real` 是物件 `z` 的一個屬性。\n",
        "    * 嚴格來說，模組中名稱的參照都是屬性參照：\n",
        "        * 在運算式 `modname.funcname` 中，`modname` 是模組物件而 `funcname` 是它的屬性。\n",
        "        * 在這種情況下，模組的屬性和模組中定義的全域名稱碰巧有一個直接的對映：他們共享了相同的命名空間！\n",
        "\n",
        "    * 屬性可以是唯讀的或可寫的。\n",
        "        * 在後者的情況下，對屬性的賦值是可能的。\n",
        "            * 模組屬性是可寫的：你可以寫 `modname.the_answer = 42`。\n",
        "        * 可寫屬性也可以用 `del` 陳述式刪除。\n",
        "            * 例如，`del modname.the_answer` 將從名為 `modname` 的物件中刪除屬性 `the_answer`。\n",
        "\n",
        "* 以上面例子，\n",
        "    * `z.real` 的 `real` 是物件 `z` 的屬性。\n",
        "\n",
        "    * `math_utils.maximize` 的 `maximize` 是模組物件 `math_utils` 的屬性。\n",
        "\n",
        "    ```python\n",
        "    import math\n",
        "\n",
        "    # 1. 讀取屬性\n",
        "    print(f\"圓周率是: {math.pi}\")\n",
        "\n",
        "    # 2. 新增一個屬性 (在 math 的命名空間裡加一個新屬性)\n",
        "    math.golden_ratio = 1.618\n",
        "    print(f\"黃金比例是: {math.golden_ratio}\")\n",
        "\n",
        "    # 3. 修改一個屬性 (這通常不建議，但 Python 語法允許)\n",
        "    math.pi = 999\n",
        "    print(f\"被修改後的圓周率是: {math.pi}\")\n",
        "\n",
        "    # 4. 刪除一個屬性\n",
        "    del math.golden_ratio\n",
        "    # print(math.golden_ratio) # 這行現在會報錯: AttributeError\n",
        "    ```"
      ],
      "metadata": {
        "id": "vtJY9Y5h_NzS"
      }
    },
    {
      "cell_type": "markdown",
      "source": [
        "**命名空間的建立與壽命**\n",
        "\n",
        "* 命名空間在不同的時刻被建立，並且有不同的壽命。\n",
        "    * 當 Python 直譯器啟動時，含有內建名稱的命名空間會被建立，並且永遠不會被刪除。\n",
        "    * 當模組定義被讀入時，模組的全域命名空間會被建立；\n",
        "        * 一般情況下，模組的命名空間也會持續到直譯器結束。\n",
        "    * 被直譯器的頂層調用 (top-level invocation) 執行的陳述式，不論是從腳本檔案讀取的或是互動模式中的，會被視為一個稱為 `__main__` 的模組的一部分，因此它們具有自己的全域命名空間。（內建名稱實際上也存在一個模組中，它被稱為 `builtins`。）\n",
        "\n",
        "* 函式的區域命名空間是在呼叫函式時建立的，而當函式返回，或引發了未在函式中處理的例外時，此命名空間將會被刪除。（實際上，忘記是描述實際發生的事情的更好方法。）\n",
        "    * 當然，每個遞迴調用 (recursive invocation) 都有自己的區域命名空間。\n",
        "\n",
        "即\n",
        "\n",
        "* 命名空間在不同的時刻被建立，並且有不同的壽命...\n",
        "\n",
        "    * **內建 (Built-in) 命名空間**：Python 啟動時建立，永不刪除。\n",
        "        * 像是宇宙定律，程式一跑起來就存在，永遠都在。包含了 `print()`, `len()`, `str`, `int` 等你不需要 import 就能直接用的東西。\n",
        "\n",
        "    * **全域 (Global) 命名空間**：模組被讀取時建立，直到程式結束。\n",
        "        * 你寫的每一個 .py 檔案就是一個模組，它有自己的全域工作區。當你 import 或執行這個檔案時，這個工作區就被建立，直到整個程式結束為止，裡面的變數都還活著。\n",
        "\n",
        "    * **區域 (Local) 命名空間**：函式被呼叫時建立，函式結束時刪除。\n",
        "        * 這是最「短命」的。當你呼叫一個函式，Python 會給它一個暫時的、全新的工作區。函式在裡面定義的變數都放在這裡。一旦函式執行完畢（`return` 或結束），這個臨時工作區和裡面的所有東西都會被立刻銷毀。\n",
        "\n",
        "```python\n",
        "# 這裡屬於「全域 (Global)」命名空間\n",
        "global_var = \"我活在全域\"\n",
        "\n",
        "def my_function():\n",
        "    # 當 my_function 被呼叫時，這個「區域 (Local)」命名空間才誕生\n",
        "    local_var = \"我只活在函式裡\"\n",
        "    print(global_var) # 可以讀取外面的變數\n",
        "    print(local_var)\n",
        "    # 當函式執行到這裡結束時，local_var 和它的工作區就被銷毀了\n",
        "\n",
        "print(\"--- 第一次呼叫 ---\")\n",
        "my_function()\n",
        "\n",
        "print(\"\\n--- 函式結束後 ---\")\n",
        "print(global_var)\n",
        "# print(local_var) # 這行會報錯: NameError: name 'local_var' is not defined\n",
        "                   # 因為它的命名空間已經被刪除了\n",
        "```\n"
      ],
      "metadata": {
        "id": "CtfrR0a8Anf5"
      }
    },
    {
      "cell_type": "markdown",
      "source": [
        "**作用域 (Scope) 與 LEGB 規則**\n",
        "\n",
        "* 作用域是 Python 程式中的一個文本區域 (textual region)，在此區域，命名空間是可直接存取的。\n",
        "    * 這裡的「可直接存取的」意思是，對一個名稱的非限定參照 (unqualified reference) 可以在命名空間內嘗試尋找該名稱。\n",
        "\n",
        "* 儘管作用域是靜態地被決定，但它們是動態地被使用的。\n",
        "    * 在執行期間內的任何時間點，都會有 3 或 4 個巢狀的作用域，其命名空間是可以被直接存取的：\n",
        "\n",
        "        * 最內層作用域，會最先被搜尋，而它包含了區域名稱\n",
        "\n",
        "        * 那些外层闭包函数的作用域，包含“非局部、非全局”的名称，从最靠内层的那个作用域开始，逐层向外搜索。\n",
        "\n",
        "        * 倒數第二個作用域，包含當前模組的全域名稱\n",
        "\n",
        "        * 最外面的作用域（最後搜尋），是包含內建名稱的命名空間\n",
        "\n",
        "即\n",
        "\n",
        "* 當你在程式碼中使用一個變數名稱（如 `x`）時，Python 如何知道你指的是哪個 `x`？它會遵循一個稱為 **LEGB** 的順序來尋找。\n",
        "\n",
        "* **LEGB 規則：**\n",
        "\n",
        "    1. **L (Local)**: 先在自己的區域命名空間（函式內部）找。找到了就用，不再往外找。\n",
        "\n",
        "    2. **E (Enclosing)**: 如果 L 找不到，就去外層函式（如果你是個被包在裡面的巢狀函式）的命名空間找。\n",
        "\n",
        "    3. **G (Global)**: 如果 E 也找不到，就去模組的全域命名空間找。\n",
        "\n",
        "    4. **B (Built-in)**: 如果 G 還找不到，就去最後的內建命名空間找 (e.g., `print`, `len`)。\n",
        "\n",
        "    5. 如果連 B 都找不到，Python 就會放棄並報錯 `NameError`。\n",
        "\n",
        "\n",
        "```python\n",
        "# 4. Built-in Scope (例如 'print' 就是在這裡找到的)\n",
        "\n",
        "# 3. Global Scope\n",
        "x = \"我是 Global 的 x\"\n",
        "\n",
        "def outer_func():\n",
        "    # 2. Enclosing Scope (對 inner_func 來說)\n",
        "    x = \"我是 Enclosing 的 x\"\n",
        "\n",
        "    def inner_func():\n",
        "        # 1. Local Scope\n",
        "        # 註解掉下面這行，就會往外找到 Enclosing 的 x\n",
        "        # x = \"我是 Local 的 x\"\n",
        "        print(x) # Python 會從這裡開始，由內往外找 x\n",
        "\n",
        "    inner_func()\n",
        "\n",
        "outer_func()\n",
        "```"
      ],
      "metadata": {
        "id": "tWduix5HH1qS"
      }
    },
    {
      "cell_type": "markdown",
      "source": [
        "**修改變數、global 和 nonlocal**\n",
        "\n",
        "* 如果一个名称被声明为全局，则所有引用和赋值都将直接指向“倒数第二层作用域”，即包含模块的全局名称的作用域。\n",
        "    * 要重新绑定在最内层作用域以外找到的变量，可以使用 `nonlocal` 语句；\n",
        "    * 如果未使用 `nonlocal` 声明，这些变量将为只读（尝试写入这样的变量将在最内层作用域中创建一个 新的 局部变量，而使得同名的外部变量保持不变）。\n",
        "\n",
        "* 通常，區域作用域會參照（文本的）當前函式的區域名稱。\n",
        "    * 在函式外部，區域作用域與全域作用域參照相同的命名空間：模組的命名空間。\n",
        "    * 然而，Class definition 會在區域作用域中放置另一個命名空間。\n",
        "\n",
        "* 務必要了解，作用域是按文本被決定的：\n",
        "    * 在模組中定義的函式，其全域作用域便是該模組的命名空間，無論函式是從何處或以什麼別名被呼叫。\n",
        "    * 另一方面，對名稱的實際搜尋是在執行時期 (run time) 動態完成的——但是，語言定義的發展，正朝向在「編譯」時期 (compile time) 的靜態名稱解析 (static name resolution)，所以不要太依賴動態名稱解析 (dynamic name resolution)！ （事實上，局部變數已經是靜態地被決定。）\n",
        "\n",
        "* 一個 Python 的特殊癖好是 - 假如沒有 `global` 或 `nonlocal` 陳述式的效果 - 名稱的賦值 (assignment) 都會指向最內層作用域。\n",
        "    * 賦值不會複製資料 - 它們只會把名稱連結至物件。\n",
        "    * 刪除也是一樣：陳述式 `del x` 會從區域作用域參照的命名空間移除 `x` 的連結。\n",
        "    * 事實上，引入新名稱的所有運算都使用區域作用域：特別是 `import` 陳述式和函式定義，會連結區域作用域內的模組或函式名稱。\n",
        "\n",
        "* `global` 陳述式可以用來表示特定變數存活在全域作用域，應該被重新綁定到那裡。\n",
        "* `nonlocal` 陳述式表示特定變數存活在外圍作用域內，應該被重新綁定到那裡。"
      ],
      "metadata": {
        "id": "V-SZoKHyKcR1"
      }
    },
    {
      "cell_type": "markdown",
      "source": [
        "**最重要的規則：預設情況下，只要你在函式內對一個變數賦值 (`=`)，Python 就會認定它是一個新的「區域 (Local)」變數。**\n",
        "\n",
        "* 這會導致一個常見的錯誤：\n",
        "```python\n",
        "count = 0 # 全域變數\n",
        "def increment():\n",
        "    count = count + 1   # Python 看到 '='，認定 count 是新區域變數\n",
        "                        # 但等號右邊的 count 卻還沒定義，所以報錯！\n",
        "# increment() # UnboundLocalError\n",
        "```\n",
        "* `global` 關鍵字：告訴 Python：**「不要在區域層建立新變數！我現在要修改的是全域 (Global) 命名空間裡的那個變數！」**\n",
        "\n",
        "* `nonlocal` 關鍵字：告訴 Python：**「不要在區域層建立新變數！我要修改的是最近的外層函式 (Enclosing) 命名空間裡的那個變數！」**(它不能跳到 Global)"
      ],
      "metadata": {
        "id": "jBxOgPcYLwhL"
      }
    },
    {
      "cell_type": "code",
      "source": [
        "# 使用 global\n",
        "count = 0   # Global\n",
        "\n",
        "def increment_global():\n",
        "    global count        # 聲明：我要操作的是 Global 的 count\n",
        "    count = count + 1\n",
        "    print(f\"函式內: {count}\")\n",
        "\n",
        "increment_global()\n",
        "increment_global()\n",
        "print(f\"函式外: {count}\")"
      ],
      "metadata": {
        "id": "Dcx4wL5y_MxW",
        "colab": {
          "base_uri": "https://localhost:8080/"
        },
        "outputId": "ed73a884-f395-4e5c-8ee5-0a2f34a90b44"
      },
      "execution_count": null,
      "outputs": [
        {
          "output_type": "stream",
          "name": "stdout",
          "text": [
            "函式內: 1\n",
            "函式內: 2\n",
            "函式外: 2\n"
          ]
        }
      ]
    },
    {
      "cell_type": "code",
      "source": [
        "# 使用 nonlocal\n",
        "def counter_maker():\n",
        "    count = 0   # Enclosing (對於 increment_enclosing 來說)\n",
        "\n",
        "    def increment_enclosing():\n",
        "        nonlocal count      # 聲明：我要操作的是 Enclosing 的 count\n",
        "        count = count + 1\n",
        "        return count\n",
        "\n",
        "    return increment_enclosing      # 返回內層函式\n",
        "\n",
        "# c 是一個包含了自己 \"記憶\" (count) 的函式\n",
        "c = counter_maker()\n",
        "print(c())\n",
        "print(c())\n",
        "print(c())\n"
      ],
      "metadata": {
        "id": "e2luMb3HMY9g",
        "colab": {
          "base_uri": "https://localhost:8080/"
        },
        "outputId": "814044fb-a068-42a6-8ca3-19a0e7976498"
      },
      "execution_count": null,
      "outputs": [
        {
          "output_type": "stream",
          "name": "stdout",
          "text": [
            "1\n",
            "2\n",
            "3\n"
          ]
        }
      ]
    },
    {
      "cell_type": "markdown",
      "source": [
        "**以上例子深度解析:**\n",
        "    \n",
        "* 這正巧碰觸到了 Python 中一個非常強大且優雅的特性，稱為「**閉包 (Closure)**」。\n",
        "\n",
        "* 關鍵在於，程式碼的執行可以分為**兩個完全不同的階段**：\n",
        "\n",
        "    1. **第一階段：建立「計數器工廠」，並生產一個「計數器」**\n",
        "\n",
        "    2. **第二階段：使用我們生產出來的那個「計數器」**\n",
        "\n",
        "**第一階段：`c = counter_maker()`**\n",
        "\n",
        "* 當 Python 執行這一行程式碼時，發生了以下事情：\n",
        "\n",
        "    1. 呼叫 `counter_maker()` 函式。這是整個過程中唯一一次呼叫 `counter_maker`。\n",
        "\n",
        "    2. 進入 `counter_maker` 的內部，執行了 `count = 0`。此時，在這次函式呼叫的**臨時工作區（命名空間）**裡，一個名為 `count` 的變數被建立，其值為 `0`。\n",
        "\n",
        "    3. 接著，Python 定義了另一個內部函式 `increment_enclosing`。這個內部函式因為被定義在 `counter_maker` 裡面，所以它可以「看到」外面的 `count` 變數。\n",
        "\n",
        "    4. 最後，`counter_maker` 執行了 `return increment_enclosing`。這裡非常重要：它返回的不是 `count` 的值，而是 `increment_enclosing` 這個函式物件本身。\n",
        "\n",
        "* 閉包的魔法就在這裡發生了：\n",
        "\n",
        "    * 當 `counter_maker` 即將結束，它原本的臨時工作區（包含 `count = 0`）應該要被銷毀。但 Python 發現，我返回的 `increment_enclosing` 函式內部使用了 `nonlocal count`，代表這個函式未來還需要用到 `count` 這個變數。\n",
        "\n",
        "    * 所以，Python 很聰明地把 `count` 這個變數打包起來，「附加」 在了 `increment_enclosing` 這個函式身上。你可以想像成，這個函式自帶了一個「背包」，背包裡裝著它被建立時環境中的變數 `count`。\n",
        "\n",
        "    * 這個「函式 + 它記得的外部環境變數」的組合，就稱為閉包 (`Closure`)。\n",
        "\n",
        "    * 所以，執行完 `c = counter_maker()` 之後，變數 `c` 現在代表的，是一個內建了私有背包、且背包裡 `count` 為 `0` 的 `increment_enclosing` 函式。\n",
        "\n",
        "**第二階段：`print(c())`, `print(c())`, ...**\n",
        "\n",
        "現在，當你呼叫 `c()` 時，你不是在呼叫 `counter_maker`！你是在呼叫那個被返回、被賦值給 `c` 的 `increment_enclosing` 函式。\n",
        "\n",
        "* 第一次呼叫 `c()`：\n",
        "\n",
        "    1. 執行 `increment_enclosing` 函式的程式碼。\n",
        "\n",
        "    2. `nonlocal count` 告訴 Python：「去我背包裡找那個叫 `count` 的變數。」\n",
        "\n",
        "    3. Python 找到了背包裡的 `count`（目前是 `0`）。\n",
        "\n",
        "    4. `count += 1` 把它變成 `1`。\n",
        "\n",
        "    5. `return count` 返回 `1`。\n",
        "\n",
        "    6. 重點：`c` 的背包裡的 `count` 現在永久地變成了 `1`。\n",
        "\n",
        "* 第二次呼叫 `c()`：\n",
        "\n",
        "    1. 再次執行 `increment_enclosing` 的程式碼。\n",
        "\n",
        "    2. `nonlocal count` 再次找到同一個背包裡的 `count`（它記得上次已經變成 `1` 了）。\n",
        "\n",
        "    3. `count += 1` 把它變成 `2`。\n",
        "\n",
        "    4. `return count` 返回 `2`。\n",
        "\n",
        "    5. `c` 的背包裡的 `count` 現在是 `2`。\n",
        "\n",
        "* 第三次呼叫 `c()`：依此類推，返回 `3`。\n",
        "\n",
        "**總結**\n",
        "\n",
        "用一個比喻來說：\n",
        "\n",
        "* `counter_maker()` 是一個機器人製造工廠。\n",
        "\n",
        "* `count = 0` 是工廠設定機器人內部計數器的初始值的步驟。\n",
        "\n",
        "* `c = counter_maker()` 是你向工廠下訂單，生產了「一個」全新的機器人 `c`。這個生產步驟只發生一次。\n",
        "\n",
        "* 每次呼叫 `c()`，都是在按一下你手上這個機器人 `c` 的按鈕，讓它自己內部的計數器加一，然後回報數字。你並沒有回到工廠去重新設定它。\n",
        "\n",
        "* 如果你想得到另一個從 `0` 開始的計數器，你需要向工廠再訂購一個全新的機器人：\n",
        "```python\n",
        "# 從工廠生產第一個機器人 c1\n",
        "c1 = counter_maker()\n",
        "print(f\"機器人 c1 按第一次: {c1()}\") # 輸出 1\n",
        "print(f\"機器人 c1 按第二次: {c1()}\") # 輸出 2\n",
        "\n",
        "# 從工廠再生產一個全新的、獨立的機器人 c2\n",
        "c2 = counter_maker()\n",
        "print(f\"機器人 c2 按第一次: {c2()}\") # 輸出 1 (它的計數器是獨立的)\n",
        "print(f\"機器人 c1 按第三次: {c1()}\") # 輸出 3 (c1 的計數器不受影響)\n",
        "```"
      ],
      "metadata": {
        "id": "Q7RpW-GzPPdP"
      }
    },
    {
      "cell_type": "markdown",
      "source": [
        "### 9.2.1 作用域和命名空間的範例\n",
        "\n",
        "這是一個範例，演示如何參照不同的作用域和命名空間，以及 `global` 和 `nonlocal` 如何影響變數的綁定："
      ],
      "metadata": {
        "id": "j_xbiCfDZiIC"
      }
    },
    {
      "cell_type": "code",
      "source": [
        "def scope_test():\n",
        "    def do_local():\n",
        "        spam = \"local spam\"\n",
        "\n",
        "    def do_nonlocal():\n",
        "        nonlocal spam\n",
        "        spam = \"nonlocal spam\"\n",
        "\n",
        "    def do_global():\n",
        "        global spam\n",
        "        spam = \"global spam\"\n",
        "\n",
        "    spam = \"test spam\"\n",
        "    do_local()\n",
        "    print(\"After local assignment:\", spam)\n",
        "    do_nonlocal()\n",
        "    print(\"After nonlocal assignment:\", spam)\n",
        "    do_global()\n",
        "    print(\"After global assignment:\", spam)\n",
        "\n",
        "scope_test()\n",
        "print(\"In global scope:\", spam)"
      ],
      "metadata": {
        "colab": {
          "base_uri": "https://localhost:8080/"
        },
        "id": "cB8rftegNtHX",
        "outputId": "e4a6cff1-39e8-4dcc-bda7-5f1f73563a62"
      },
      "execution_count": null,
      "outputs": [
        {
          "output_type": "stream",
          "name": "stdout",
          "text": [
            "After local assignment: test spam\n",
            "After nonlocal assignment: nonlocal spam\n",
            "After global assignment: nonlocal spam\n",
            "In global scope: global spam\n"
          ]
        }
      ]
    },
    {
      "cell_type": "markdown",
      "source": [
        "**建立一個心智模型：作用域如房間**\n",
        "\n",
        "在開始之前，我們先建立一個比喻：\n",
        "\n",
        "* **全域作用域 (Global Scope)**：想像成一棟大房子的大廳。\n",
        "\n",
        "* `scope_test` **函式的作用域**：大廳裡的一個特定房間，我們叫它「實驗室」。\n",
        "\n",
        "* `do_local`, `do_nonlocal`, `do_global` **函式的作用域**：在「實驗室」裡搭建的三個臨時隔間。\n",
        "\n",
        "* 每個空間（大廳、房間、隔間）都可以有自己叫做 `spam` 的變數，它們是獨立的。\n",
        "\n",
        "程式碼執行逐步解析\n",
        "\n",
        "1. 程式開始執行\n",
        "\n",
        "    * 在呼叫 `scope_test()` 之前，大廳 (Global Scope) 是空的，還沒有一個叫做 `spam` 的變數。\n",
        "\n",
        "2. 呼叫 `scope_test()`\n",
        "\n",
        "    * 現在進入了「實驗室」房間。\n",
        "\n",
        "    ```python\n",
        "    def scope_test():\n",
        "    # ... 內部函式先被定義，但還沒執行 ...\n",
        "\n",
        "    spam = \"test spam\"  # <--- 關鍵步驟 1\n",
        "    # ...\n",
        "    ```\n",
        "\n",
        "    * `spam = \"test spam\"`：我們在「實驗室」這個房間裡，創造了一個屬於這個房間的變數 `spam`，它的值是 `\"test spam\"`。\n",
        "\n",
        "3. 呼叫 `do_local()`\n",
        "\n",
        "    ```python\n",
        "    do_local() # 進入 do_local 的臨時隔間\n",
        "    print(\"After local assignment:\", spam) # <--- 關鍵步驟 2\n",
        "    ```\n",
        "    進入 `do_local`\n",
        "    ```python\n",
        "    def do_local():\n",
        "        spam = \"local spam\"\n",
        "    ```\n",
        "\n",
        "    * Python 的預設規則是：在函式內賦值 (`=`) 會創造一個新的區域變數。所以，`spam = \"local spam\"` 這行程式碼，是在 `do_local` 這個臨時隔間裡，創造了一個全新的、僅限於此隔間的變數 `spam`。\n",
        "\n",
        "    * 離開 `do_local`：當 `do_local` 函式結束時，這個臨時隔間和裡面的所有東西（包括那個 `\"local spam\"`）都被立即銷毀。\n",
        "\n",
        "    * 回到實驗室：`do_local` 的行為完全沒有碰到「實驗室」裡的任何東西。所以當 `print` 函式被呼叫時，它看到的是「實驗室」自己的 `spam`。\n",
        "        * 所以第一行輸出是：`After local assignment: test spam`\n",
        "\n",
        "4. 呼叫 `do_nonlocal()`\n",
        "\n",
        "    ```python\n",
        "    do_nonlocal() # 進入 do_nonlocal 的臨時隔間\n",
        "    print(\"After nonlocal assignment:\", spam) # <--- 關鍵步驟 3\n",
        "    ```\n",
        "    進入 do_nonlocal\n",
        "    ```python\n",
        "    def do_nonlocal():\n",
        "        nonlocal spam\n",
        "        spam = \"nonlocal spam\"\n",
        "    ```\n",
        "\n",
        "    * `nonlocal spam` 這句話像一個指令：「不要在我的隔間裡創造新變數！接下來我對 `spam` 的操作，請直接去外面一層的房間（也就是『實驗室』）裡進行！」\n",
        "\n",
        "    * `spam = \"nonlocal spam\"`：因為上面的指令，這行程式碼沒有在臨時隔間裡創造新東西，而是直接走到外面的「實驗室」，把實驗室裡的那個 `spam` 變數的值，修改成了 `\"nonlocal spam\"`。\n",
        "\n",
        "    * 回到實驗室：當 `print` 函式再次被呼叫時，它發現「實驗室」裡的 `spam` 已經被 `do_nonlocal` 修改了。\n",
        "        * 所以第二行輸出是：`After nonlocal assignment: nonlocal spam`\n",
        "\n",
        "5. 呼叫 do_global()\n",
        "    \n",
        "    進入 do_global\n",
        "    ```python\n",
        "    def do_global():\n",
        "        global spam\n",
        "        spam = \"global spam\"\n",
        "    ```\n",
        "\n",
        "    * `global spam` 這句話是另一個更強的指令：「不要管我的隔間，也別管外面的『實驗室』房間！接下來我對 `spam` 的操作，請直接去最外面的『大廳』(Global Scope) 裡進行！」\n",
        "\n",
        "    * `spam = \"global spam\"`：這行程式碼直接穿過所有內層作用域，在大廳裡創造（或修改）了一個名為 `spam` 的變數，並把它的值設為 \"`global spam`\"。這個操作完全沒有碰到「實驗室」裡的 `spam`。\n",
        "\n",
        "    * 回到實驗室：當 `print` 函式被呼叫時，它看到「實驗室」裡的 `spam` 變數，仍然是上一步被修改後的值。`do_global` 的行為對「實驗室」內部沒有影響。\n",
        "        * 所以第三行輸出是：`After global assignment: nonlocal spam`\n",
        "\n",
        "6. `scope_test()` 函式結束\n",
        "\n",
        "    * `scope_test` 執行完畢，「實驗室」這個房間和裡面的所有東西（包括那個值為 `\"nonlocal spam\"` 的變數）都被銷毀了。我們回到了「大廳」。\n",
        "\n",
        "7. 執行最後的 `print`\n",
        "\n",
        "    ```python\n",
        "    scope_test()\n",
        "    print(\"In global scope:\", spam) # <--- 關鍵步驟 5\n",
        "    ```\n",
        "    \n",
        "    * 現在我們站在大廳 (Global Scope)。當我們 `print(spam)` 時，Python 會尋找大廳裡的 `spam` 變數。\n",
        "\n",
        "    * 我們回想一下，在步驟 5 中，`do_global()` 函式已經在大廳裡建立了一個 `spam` 變數，其值為 `\"global spam\"`。這個變數因為是在大廳，所以一直存在著。\n",
        "        * 在 `do_global()` 執行之前，全域作用域（大廳）裡是沒有 `spam` 這個變數的。是 `do_global()` 的執行才創造了它。\n",
        "        * 所以第四行輸出是：`In global scope: global spam`\n",
        "\n",
        "    \n",
        "\n"
      ],
      "metadata": {
        "id": "sDcayQCKa_cb"
      }
    },
    {
      "cell_type": "markdown",
      "source": [
        "## 9.3 A First Look at Classes\n",
        "\n",
        "Class 採用一些新的語法，三個新的物件型別，以及一些新的語意。"
      ],
      "metadata": {
        "id": "60PISMUTiGNL"
      }
    },
    {
      "cell_type": "markdown",
      "source": [
        "### 9.3.1. 類別定義語法 (Class Definition Syntax)\n",
        "\n",
        "Class definition 最簡單的形式如下：\n",
        "\n",
        "```python\n",
        "class ClassName:\n",
        "    <statement-1>\n",
        "    .\n",
        "    .\n",
        "    .\n",
        "    <statement-N>\n",
        "```\n",
        "\n",
        "* Class definition，如同函式定義（def 陳述式），必須在它們有任何效果前先執行。（你可以想像把 class definition 放在一個 if 陳述式的分支，或在函式裡。）\n",
        "\n",
        "* 在實作時，class definition 內的陳述式通常會是函式定義，但其他陳述式也是允許的，有時很有用——我們稍後會回到這裡。Class 中的函式定義通常會有一個獨特的引數列表形式，取決於 method 的呼叫慣例——再一次地，這將會在稍後解釋。\n",
        "\n",
        "* 當進入 class definition，一個新的命名空間將會被建立，並且作為區域作用域——因此，所有區域變數的賦值將進入這個新的命名空間。特別是，函式定義會在這裡連結新函式的名稱。\n",
        "\n",
        "* 正常地（從結尾處）離開 class definition 時，一個 class 物件會被建立。基本上這是一個包裝器 (wrapper)，裝著 class definition 建立的命名空間內容；我們將在下一節中更加了解 class 物件。原始的區域作用域（在進入 class definition 之前已生效的作用域）會恢復，在此 class 物件會被連結到 class definition 標頭中給出的 class 名稱（在範例中為 ClassName）。"
      ],
      "metadata": {
        "id": "QocjqizpiM0O"
      }
    },
    {
      "cell_type": "code",
      "source": [
        "# 這是 \"公司的檔案櫃\" (全域命名空間)\n",
        "# 目前檔案櫃裡還沒有叫做 Car 的東西\n",
        "\n",
        "print(\"--- 程式開始，準備定義 Class ---\")\n",
        "\n",
        "# 步驟 1: 進入 class definition，Python 建立一個新的、臨時的命名空間\n",
        "class Car:\n",
        "    # 步驟 2: 以下的陳述式會在這個臨時命名空間中 \"立刻\" 執行\n",
        "\n",
        "    print(\">>> 正在設計 Car 藍圖... (這行在定義時就會印出)\")\n",
        "\n",
        "    # 在臨時命名空間中，建立一個名為 'WHEELS' 的變數，並賦值為 4\n",
        "    WHEELS = 4\n",
        "\n",
        "    # 定義一個函式，並在臨時命名空間中，\n",
        "    # 將 'start_engine' 這個名字連結到這個函式物件。\n",
        "    # 注意：def 裡面的 print 還不會執行！\n",
        "    def start_engine(self):\n",
        "        print(f\"引擎啟動！這輛車有 {self.WHEELS} 個輪子。\")\n",
        "\n",
        "    print(\">>> Car 藍圖設計完成！\")\n",
        "\n",
        "# 步驟 3 & 4: class 區塊結束。\n",
        "# Python 將剛剛那個臨時命名空間打包成一個 \"class object\"，\n",
        "# 然後在 \"公司的檔案櫃\" (全域命名空間) 中，\n",
        "# 將 'Car' 這個名字連結到這個 class object。\n",
        "\n",
        "print(\"--- Class 定義完成 ---\")\n",
        "\n",
        "# 現在我們可以來使用這張藍圖了\n",
        "print(\"\\n--- 開始使用 Class ---\")\n",
        "\n",
        "# 檢查 Car 這個名字現在代表什麼\n",
        "print(f\"Car 這個名字現在是一個: {type(Car)}\")\n",
        "\n",
        "# 因為 WHEELS 是在設計藍圖時就寫上去的規格，所以可以直接從藍圖上讀取\n",
        "print(f\"從藍圖讀取規格：輪子數量是 {Car.WHEELS}\")\n",
        "\n",
        "# 根據藍圖，打造一輛真正的車 (建立一個 instance)\n",
        "my_car = Car()\n",
        "\n",
        "# 呼叫這輛車的方法，這時 'start_engine' 裡面的程式碼才會真正執行\n",
        "print(\"準備呼叫 my_car 的方法...\")\n",
        "my_car.start_engine()"
      ],
      "metadata": {
        "colab": {
          "base_uri": "https://localhost:8080/"
        },
        "id": "N1-fiC32T6ik",
        "outputId": "5b6b2200-1a91-49f4-f207-3a9af4650c41"
      },
      "execution_count": null,
      "outputs": [
        {
          "output_type": "stream",
          "name": "stdout",
          "text": [
            "--- 程式開始，準備定義 Class ---\n",
            ">>> 正在設計 Car 藍圖... (這行在定義時就會印出)\n",
            ">>> Car 藍圖設計完成！\n",
            "--- Class 定義完成 ---\n",
            "\n",
            "--- 開始使用 Class ---\n",
            "Car 這個名字現在是一個: <class 'type'>\n",
            "從藍圖讀取規格：輪子數量是 4\n",
            "準備呼叫 my_car 的方法...\n",
            "引擎啟動！這輛車有 4 個輪子。\n"
          ]
        }
      ]
    },
    {
      "cell_type": "markdown",
      "source": [
        "1. `>>> 正在設計 Car 藍圖...` 和 `>>> Car 藍圖設計完成！` 這兩行是在 `class` 被定義的過程中就印出來了，而不是在我們建立 `my_car` 物件時才印出。這證明了 `class` 區塊內的陳述式是會被執行的。\n",
        "\n",
        "2. 在 `class` 定義完成後，`Car` 這個名字就存在了，並且它的類型是 `<class 'type'>`，這就是那個被建立的「class 物件」。\n",
        "\n",
        "3. 我們可以透過 `Car.WHEELS` 直接存取 `WHEELS`，因為 `WHEELS = 4` 這個賦值操作在類別的命名空間中發生了。\n",
        "\n",
        "3. `start_engine` 裡面的 `print` 敘述，直到我們呼叫 `my_car.start_engine()` 時才被執行，這符合函式「先定義，後呼叫」的原則。"
      ],
      "metadata": {
        "id": "3WoiPRKHUtJC"
      }
    },
    {
      "cell_type": "markdown",
      "source": [
        "### 9.3.2. Class 物件 (Class Objects)\n",
        "\n",
        "Class 物件支援兩種運算：屬性參照 (attribute reference) 和實例化 (instantiation)。\n",
        "\n",
        "* 屬性參照使用 Python 中所有屬性參照的標準語法：`obj.name`\n",
        "    \n",
        "    * 有效的屬性名稱是 class 物件被建立時，class 的命名空間中所有的名稱。所以，如果 class definition 看起來像這樣：\n",
        "    \n",
        "    ```python\n",
        "    class MyClass:\n",
        "        \"\"\"A simple example class\"\"\"\n",
        "        i = 12345\n",
        "\n",
        "        def f(self):\n",
        "            return 'hello world'\n",
        "    ```\n",
        "\n",
        "    * 那麼 `MyClass.i` 和 `MyClass.f` 都是有效的屬性參照，會分別回傳一個整數和一個函式物件。\n",
        "    \n",
        "    * Class 屬性也可以被指派 (assign)，所以您可以透過賦值改變 MyClass.i 的值。\n",
        "    \n",
        "    * `__doc__` 也是一個有效的屬性，會回傳屬於該 class 的說明字串 (docstring)：`\"A simple example class\"`。\n",
        "\n",
        "* Class 實例化使用了函式記法 (function notation)。就好像 class 物件是一個沒有參數的函式，它回傳一個新的 class 實例。例如（假設是上述的 class）：\n",
        "\n",
        "    ```python\n",
        "    x = MyClass()\n",
        "    ```\n",
        "\n",
        "    * 建立 class 的一個新實例，並將此物件指派給區域變數 x。\n",
        "\n",
        "* 實例化運算（「呼叫」一個 class 物件）會建立一個空的物件。\n",
        "    \n",
        "* 許多 class 喜歡在建立物件時有著自訂的特定實例初始狀態。因此，class 可以定義一個名為 `__init__()` 的特別 method，像這樣：\n",
        "\n",
        "    ```python\n",
        "    def __init__(self):\n",
        "        self.data = []\n",
        "    ```\n",
        "\n",
        "    * 當 class 定義了 `__init__()` method，class 實例化會為新建的 class 實例自動調用 `__init__()`。所以在這個範例中，一個新的、初始化的實例可以如此獲得：\n",
        "\n",
        "    ```python\n",
        "    x = MyClass()\n",
        "    ```\n",
        "\n",
        "    * 當然，`__init__()` method 可能為了更多的彈性而有引數。在這種情況下，要給 class 實例化運算子的引數會被傳遞給 `__init__()`。例如：\n",
        "\n",
        "    ```python\n",
        "    >>> class Complex:\n",
        "    ...     def __init__(self, realpart, imagpart):\n",
        "    ...         self.r = realpart\n",
        "    ...         self.i = imagpart\n",
        "    ...\n",
        "    >>> x = Complex(3.0, -4.5)\n",
        "    >>> x.r, x.i\n",
        "    (3.0, -4.5)\n",
        "    ```\n"
      ],
      "metadata": {
        "id": "2A1n148oiREe"
      }
    },
    {
      "cell_type": "markdown",
      "source": [
        "### 9.3.3. 實例物件 (Instance Objects)\n",
        "\n",
        "* 如何處理實例物件？\n",
        "\n",
        "    * 有兩種有效的屬性名稱：資料屬性 (data attribute) 和 method。\n",
        "\n",
        "    * 資料屬性在 Smalltalk 中相當於“實例變數”，在 C++ 中相當於“資料成員”。\n",
        "        * 資料屬性無需宣告；與局部變數類似，它們在首次賦值時即刻生效。\n",
        "        * 例如，如果 `x` 是上面建立的 `MyClass` 的實例，則以下程式碼將列印值 16，且不留任何痕跡：\n",
        "\n",
        "        ```python\n",
        "        x.counter = 1\n",
        "        while x.counter < 10:\n",
        "            x.counter = x.counter * 2\n",
        "        print(x.counter)\n",
        "        del x.counter\n",
        "        ```\n",
        "\n",
        "    * Method 是一個「屬於」物件的函式。（在 Python 中，術語 method 並不是 class 實例所獨有的：其他物件型別也可以有 method。\n",
        "        * 例如，list 物件具有稱為 `append`、`insert`、`remove`、`sort` 等 method。\n",
        "        * 但是，在下面的討論中，我們將用術語 method 來專門表示 class 實例物件的 method，除非另有明確說明。）\n",
        "\n",
        "    * 實例物件的有效 method 名稱取決於其 class。\n",
        "        * 根據定義，一個 class 中所有的函式物件屬性，就定義了實例的對應 method。\n",
        "        * 所以在我們的例子中，`x.f` 是一個有效的 method 參照，因為 `MyClass.f` 是一個函式，但 `x.i` 不是，因為 `MyClass.i` 不是。\n",
        "        * 但 `x.f` 與 `MyClass.f` 是不一樣的 — 它是一個 method 物件，而不是函式物件。\n",
        "\n"
      ],
      "metadata": {
        "id": "oJ7rak8jiT9L"
      }
    },
    {
      "cell_type": "markdown",
      "source": [
        "### 9.3.4. Method 物件 (Method Objects)\n",
        "\n",
        "* 通常，一個 method 在它被連結後隨即被呼叫：\n",
        "    ```python\n",
        "    x.f()\n",
        "    ```\n",
        "\n",
        "    * 在 `MyClass` 的例子中，這將回傳字串 `’hello world’`。\n",
        "    * 然而，並沒有必要立即呼叫一個 method：`x.f` 是一個 method 物件，並且可以被儲藏起來，之後再被呼叫。舉例來說：\n",
        "    ```python\n",
        "    xf = x.f\n",
        "    while True:\n",
        "        print(xf())    \n",
        "    ```\n",
        "    * 將會持續印出 hello world 直到天荒地老。\n",
        "\n",
        "* 當一個 method 被呼叫時究竟會發生什麼事？\n",
        "    * 你可能已經注意到 `x.f()` 被呼叫時沒有任何的引數，儘管 `f()` 的函式定義有指定一個引數。\n",
        "    * 這個引數發生了什麼事？當一個需要引數的函式被呼叫而沒有給任何引數時，Python 肯定會引發例外 —— 即使該引數實際上沒有被使用...\n",
        "\n",
        "* 事實上，你可能已經猜到了答案：method 的特殊之處在於，\n",
        "    * 實例物件會作為函式中的第一個引數被傳遞。\n",
        "    * 在我們的例子中，`x.f()` 這個呼叫等同於 `MyClass.f(x)`。\n",
        "    * 一般來說，呼叫一個有 `n` 個引數的 method，等同於呼叫一個對應函式，其引數列表 (argument list) 被建立時，會在第一個引數前插入該 method 的實例物件。\n",
        "\n",
        "* 如果你仍然不了解 method 怎麼運作，看一眼實作可能會清楚一些事。\n",
        "    * 當一個實例的非資料屬性被參照時，該實例的 class 會被搜尋。\n",
        "    * 如果該名稱是一個有效的 class 屬性，而且是一個函式物件，則一個 method 物件會被建立，建立的方法是藉由打包（指向）該實例物件及剛被找到的函式物件，形成一個抽象的物件：這就是 method 物件。\n",
        "    * 當 method 物件帶著一個引數列表被呼叫，則一個新的引數列表會從實例物件和該引數列表被建構，而該函式物件會以這個新的引數列表被呼叫。\n",
        "\n",
        "---\n",
        "補充:\n",
        "\n",
        "* 這段敘述的核心在於揭開 Python 物件導向中 `self` 的「魔法」面紗。它解釋了為什麼我們在定義方法時寫 `def my_method(self, ...)`，但在呼叫時卻只寫 `my_instance.my_method(...)`。\n",
        "\n",
        "* **比喻：一把「認得主人」的智慧遙控器**\n",
        "    * **Class (類別)**：遙控器的「設計藍圖」。例如，`class TVRemote:`。\n",
        "\n",
        "    * **Function in Class (類別中的函式)**：藍圖上定義的一個「通用功能」。例如，`def change_channel(self, channel_number)`:。這個 `self` 就像是一個佔位符，意思是「將要使用這把遙控器的人」。\n",
        "\n",
        "    * **Instance (實例)**：你根據藍圖實際製造出來的一把特定的遙控器。例如，`my_remote = TVRemote()`。\n",
        "\n",
        "    * **Method Object (方法物件)**：當你拿起你那把特定的遙控器，準備按某個按鈕時的狀態。`my_remote.change_channel` 就是一個方法物件。它不僅僅是「換頻道」這個通用功能，而是**「『我的這把遙控器』準備要換頻道」這個更具體的指令。它已經綁定 (bound)** 了它的主人 (`my_remote`)。\n",
        "\n",
        "    * 當你按下按鈕 (`my_remote.change_channel(5)`)，遙控器內部會自動把「是誰在按我」（也就是 `my_remote` 本身）這個資訊，連同你要的頻道號碼 `5`，一起發送出去。這就是為什麼 `self` 會被自動傳遞。"
      ],
      "metadata": {
        "id": "fDwbXJPziZ1V"
      }
    },
    {
      "cell_type": "code",
      "source": [
        "class Dog:\n",
        "    # 這是類別的 \"藍圖\"\n",
        "    def __init__(self, name):\n",
        "        self.name = name # 每隻狗 (實例) 都有自己的名字\n",
        "\n",
        "    # 這是藍圖上定義的一個 \"通用功能\"\n",
        "    # 'self' 代表 \"將要執行這個動作的那隻狗\"\n",
        "    def bark(self):\n",
        "        print(f\"{self.name} says: Woof!\")\n",
        "\n",
        "# --- 創建實例 ---\n",
        "# 根據 Dog 藍圖，創建一隻特定的狗 fido\n",
        "fido = Dog(\"Fido\")\n",
        "\n",
        "# --- 1. 立即呼叫 Method ---\n",
        "print(\"--- 立即呼叫 ---\")\n",
        "# 這是最常見的用法\n",
        "# fido.bark() 看似没有引數，但 Python 偷偷把 fido 自己當作 self 傳入了\n",
        "fido.bark()\n",
        "\n",
        "print(\"\\n\" + \"=\"*20 + \"\\n\")\n",
        "\n",
        "# --- 2. 儲存 Method 物件，稍後再呼叫 ---\n",
        "print(\"--- 儲存並延後呼叫 ---\")\n",
        "\n",
        "# x.f 是一個 method 物件...可以被儲藏起來\n",
        "# fido.bark 不是 \"bark\" 這個通用功能，\n",
        "# 而是 \"Fido 準備要吠叫\" 這個已經綁定好主人的指令。\n",
        "fido_bark_command = fido.bark\n",
        "\n",
        "# 我們來看看這個 \"指令\" 是什麼東西\n",
        "print(f\"儲存的指令是: {fido_bark_command}\")\n",
        "\n",
        "# 之後在程式的任何地方，我們都可以執行這個儲存好的指令\n",
        "print(\"準備執行儲存的指令...\")\n",
        "fido_bark_command()\n",
        "fido_bark_command()\n",
        "\n",
        "print(\"\\n\" + \"=\"*20 + \"\\n\")\n",
        "\n",
        "\n",
        "# --- 3. 揭開 self 的秘密：兩種等價的呼叫方式 ---\n",
        "print(\"--- 揭開 self 的秘密 ---\")\n",
        "\n",
        "# 這是我們習慣的、Python 提供的語法糖 (syntactic sugar)\n",
        "print(\"方式一 (簡單好用):\")\n",
        "fido.bark()\n",
        "\n",
        "# 這才是 Python 在背後真正做的事情：\n",
        "# 從 Dog 的 \"藍圖\" 上直接拿出 \"bark\" 這個通用功能 (函式)，\n",
        "# 然後手動把 \"fido\" 這個實例作為第一個引數 (self) 傳進去。\n",
        "print(\"方式二 (背後的原理):\")\n",
        "Dog.bark(fido)\n",
        "\n",
        "\n",
        "print(\"\\n\" + \"=\"*20 + \"\\n\")\n",
        "\n",
        "# --- 4. 深入理解：綁定 (Bound) vs. 未綁定 (Unbound) ---\n",
        "print(\"--- 深入理解實作 ---\")\n",
        "\n",
        "# 當你透過 \"實例\" fido 去存取 bark，\n",
        "# Python 會打包 fido 和 bark 函式，建立一個 \"綁定方法\" 物件。\n",
        "# 它 \"記得\" fido 是誰。\n",
        "print(f\"透過實例存取 (fido.bark): {fido.bark}\")\n",
        "\n",
        "# 當你透過 \"類別\" Dog 去存取 bark，\n",
        "# 你得到的就是那個定義在藍圖上的 \"通用功能\" 函式。\n",
        "# 它還不知道要對哪隻狗操作，所以是一個普通的函式。\n",
        "print(f\"透過類別存取 (Dog.bark):  {Dog.bark}\")"
      ],
      "metadata": {
        "colab": {
          "base_uri": "https://localhost:8080/"
        },
        "id": "BGVBaALEdnIh",
        "outputId": "a9674636-4750-4678-c107-2affe8faf834"
      },
      "execution_count": null,
      "outputs": [
        {
          "output_type": "stream",
          "name": "stdout",
          "text": [
            "--- 立即呼叫 ---\n",
            "Fido says: Woof!\n",
            "\n",
            "====================\n",
            "\n",
            "--- 儲存並延後呼叫 ---\n",
            "儲存的指令是: <bound method Dog.bark of <__main__.Dog object at 0x7a1a30733710>>\n",
            "準備執行儲存的指令...\n",
            "Fido says: Woof!\n",
            "Fido says: Woof!\n",
            "\n",
            "====================\n",
            "\n",
            "--- 揭開 self 的秘密 ---\n",
            "方式一 (簡單好用):\n",
            "Fido says: Woof!\n",
            "方式二 (背後的原理):\n",
            "Fido says: Woof!\n",
            "\n",
            "====================\n",
            "\n",
            "--- 深入理解實作 ---\n",
            "透過實例存取 (fido.bark): <bound method Dog.bark of <__main__.Dog object at 0x7a1a30733710>>\n",
            "透過類別存取 (Dog.bark):  <function Dog.bark at 0x7a1a1b91a160>\n"
          ]
        }
      ]
    },
    {
      "cell_type": "markdown",
      "source": [
        "1. `fido_bark_command` 的內容：\n",
        "    * 它不是一個簡單的函式，而是一個 bound method (綁定方法)。\n",
        "    * 這清楚地說明了它已經將 `Dog.bark` 這個功能和 `fido` 這個實例「綁」在一起了。\n",
        "    * 這就是為什麼稍後呼叫 `fido_bark_command()` 時，它還記得要操作的主人是 `Fido`。\n",
        "\n",
        "2. 兩種呼叫方式的結果完全相同：\n",
        "    * 這證明了 `fido.bark()` 只是 `Dog.bark(fido)` 的一個更方便、更直觀的寫法。\n",
        "\n",
        "3. Bound vs. Unbound：\n",
        "    * `fido.bark` 和 `Dog.bark` 印出來是完全不同的東西。\n",
        "    * 前者是綁定方法，後者是普通函式。這就是原文最後一段所解釋的：當你透過實例 `fido` 存取 `bark` 時，Python 在背後為你做了一次「打包」，產生了那個特殊的 bound method 物件。"
      ],
      "metadata": {
        "id": "slXY_hFrmb8K"
      }
    },
    {
      "cell_type": "markdown",
      "source": [
        "### 9.3.5. Class 及實例變數 (Class and Instance Variables)\n",
        "\n",
        "* 一般來說，實例變數用於每一個實例的獨特資料，\n",
        "* 而 class 變數用於該 class 的所有實例共享的屬性和 method："
      ],
      "metadata": {
        "id": "ug7WUDFQibX7"
      }
    },
    {
      "cell_type": "code",
      "source": [
        "class Dog:\n",
        "    kind = 'canine'         # class variable shared by all instances\n",
        "\n",
        "    def __init__(self, name):\n",
        "        self.name = name    # instance variable unique to each instance\n"
      ],
      "metadata": {
        "id": "ePmW_ZtHTVaj"
      },
      "execution_count": null,
      "outputs": []
    },
    {
      "cell_type": "code",
      "source": [
        "d = Dog('Fido')\n",
        "e = Dog('Buddy')\n",
        "\n",
        "print(f\"{d.kind}\")\n",
        "print(f\"{e.kind}\")\n",
        "\n",
        "print(f\"{d.name}\")\n",
        "print(f\"{e.name}\")"
      ],
      "metadata": {
        "colab": {
          "base_uri": "https://localhost:8080/"
        },
        "id": "ZoSNarZ_TpXc",
        "outputId": "d4aa5331-4dae-4bdc-d1ce-44b1fe889986"
      },
      "execution_count": null,
      "outputs": [
        {
          "output_type": "stream",
          "name": "stdout",
          "text": [
            "canine\n",
            "canine\n",
            "Fido\n",
            "Buddy\n"
          ]
        }
      ]
    },
    {
      "cell_type": "markdown",
      "source": [
        "* 如同在關於名稱與物件的一段話的討論，\n",
        "\n",
        "    * 共享的資料若涉及 mutable 物件，如 list 和 dictionary，可能會產生意外的影響。\n",
        "        \n",
        "        * 舉例來說，下列程式碼的 `tricks list` 不應該作為一個 class 變數使用，因為這個 list 將會被所有的 `Dog` 實例所共享："
      ],
      "metadata": {
        "id": "YZpzgnoOUMuD"
      }
    },
    {
      "cell_type": "code",
      "source": [
        "class Dog:\n",
        "    tricks = []     # mistaken use of a class variable\n",
        "\n",
        "    def __init__(self, name):\n",
        "        self.name = name\n",
        "\n",
        "    def add_trick(self, trick):\n",
        "        self.tricks.append(trick)"
      ],
      "metadata": {
        "id": "PqmCZRttTpel"
      },
      "execution_count": null,
      "outputs": []
    },
    {
      "cell_type": "code",
      "source": [
        "d = Dog('Fido')\n",
        "e = Dog('Buddy')\n",
        "\n",
        "d.add_trick(\"trick1\")\n",
        "e.add_trick(\"trick2\")\n",
        "\n",
        "print(f\"{d.tricks}\")        # unexpectedly shared by all dogs\n",
        "print(f\"{e.tricks}\")        # unexpectedly shared by all dogs"
      ],
      "metadata": {
        "colab": {
          "base_uri": "https://localhost:8080/"
        },
        "id": "k1ejjr4ZVWZ3",
        "outputId": "ebb019ba-5eef-49f1-9dc1-40428036484d"
      },
      "execution_count": null,
      "outputs": [
        {
          "output_type": "stream",
          "name": "stdout",
          "text": [
            "['trick1', 'trick2']\n",
            "['trick1', 'trick2']\n"
          ]
        }
      ]
    },
    {
      "cell_type": "code",
      "source": [
        "# 正確的 class 設計應該使用實例變數：\n",
        "\n",
        "class Dog:\n",
        "\n",
        "    def __init__(self, name):\n",
        "        self.name = name\n",
        "        self.tricks = []    # creates a new empty list for each dog\n",
        "\n",
        "    def add_trick(self, trick):\n",
        "        self.tricks.append(trick)"
      ],
      "metadata": {
        "id": "9jXNFOInVsms"
      },
      "execution_count": null,
      "outputs": []
    },
    {
      "cell_type": "code",
      "source": [
        "d = Dog('Fido')\n",
        "e = Dog('Buddy')\n",
        "\n",
        "d.add_trick('trick1')\n",
        "e.add_trick('trick2')\n",
        "\n",
        "print(f\"{d.tricks}\")\n",
        "print(f\"{e.tricks}\")\n"
      ],
      "metadata": {
        "colab": {
          "base_uri": "https://localhost:8080/"
        },
        "id": "G4tnFp8iV5iN",
        "outputId": "61d250bd-ffa2-4936-d9f6-123ab3c6226f"
      },
      "execution_count": null,
      "outputs": [
        {
          "output_type": "stream",
          "name": "stdout",
          "text": [
            "['trick1']\n",
            "['trick2']\n"
          ]
        }
      ]
    },
    {
      "cell_type": "markdown",
      "source": [
        "## 9.4 隨意的備註 (Random Remarks)"
      ],
      "metadata": {
        "id": "g3ZlpTrtiy14"
      }
    },
    {
      "cell_type": "markdown",
      "source": [
        "1. **屬性尋找的優先順序：實例優先於類別**\n",
        "\n",
        "* 如果屬性名稱同時出現在一個實例和一個 class 中，則屬性的尋找會以實例為優先。\n",
        "\n",
        "* 解釋：當你試圖存取一個物件的屬性時 (例如 `my_object.name`)，Python 會先去這個物件本身的「背包」裡找。\n",
        "    * 如果找到了，就立刻回傳，不再往上找。\n",
        "    * 如果物件自己的背包裡沒有，它才會去這個物件的類別 (Class) 藍圖上找。"
      ],
      "metadata": {
        "id": "dNTgU5teXoJu"
      }
    },
    {
      "cell_type": "code",
      "source": [
        "class Warehouse:\n",
        "   purpose = 'storage'  # Class 屬性：所有倉庫的預設用途\n",
        "   region = 'west'      # Class 屬性：所有倉庫的預設區域\n",
        "\n",
        "# 建立 w1，它自己沒有 purpose 和 region 屬性\n",
        "w1 = Warehouse()\n",
        "# 當你查詢 w1.purpose，w1 自己沒有，所以 Python 去 Warehouse 類別找，找到 'storage'\n",
        "# 當你查詢 w1.region，w1 自己沒有，所以 Python 去 Warehouse 類別找，找到 'west'\n",
        "print(w1.purpose, w1.region)  # 輸出: storage west\n",
        "\n",
        "# 建立 w2\n",
        "w2 = Warehouse()\n",
        "# 這裡，我們在 w2 這個 \"實例\" 上直接設定了一個 region 屬性。\n",
        "w2.region = 'east'\n",
        "\n",
        "# 當你查詢 w2.purpose，w2 自己沒有，所以還是去類別找，找到 'storage'\n",
        "# 當你查詢 w2.region，w2 自己 \"有\" 這個屬性，所以 Python 立刻回傳 'east'，不再去類別裡找了。\n",
        "print(w2.purpose, w2.region)  # 輸出: storage east"
      ],
      "metadata": {
        "id": "PCvjLoY9alCz",
        "colab": {
          "base_uri": "https://localhost:8080/"
        },
        "outputId": "194b8b97-9d3c-4d54-a729-1ca62b75b5a7"
      },
      "execution_count": null,
      "outputs": [
        {
          "output_type": "stream",
          "name": "stdout",
          "text": [
            "storage west\n",
            "storage east\n"
          ]
        }
      ]
    },
    {
      "cell_type": "markdown",
      "source": [
        "2. **Python 中沒有真正的資料隱藏**\n",
        "\n",
        "* 在 Python 中沒有任何可能的方法，可強制隱藏資料——這都是基於慣例。\n",
        "\n",
        "* 客戶端應該小心使用資料屬性 - 客戶端可能會因為覆寫他們的資料屬性，而破壞了被 method 維護的不變性。\n",
        "    * 注意，客戶端可以增加他們自己的資料屬性到實例物件，但不影響 method 的有效性，只要避免名稱衝突即可 - 再一次提醒，命名慣例可以在這裡節省很多麻煩。\n",
        "\n",
        "* 不像 Java 或 C++ 有 private 關鍵字，Python 的所有屬性預設都是公開的。\n",
        "    * 任何人都可以從外部直接存取或修改它。\n",
        "    * 我們依賴的是「君子協定」的慣例：\n",
        "        * 如果一個屬性以底線 `_` 開頭 (例如 `_balance`)，這是在告訴其他開發者：「這是我內部使用的變數，請你最好不要直接碰它，否則可能會弄壞東西。」"
      ],
      "metadata": {
        "id": "qBecyyu0YVk0"
      }
    },
    {
      "cell_type": "code",
      "source": [
        "class BankAccount:\n",
        "    def __init__(self, initial_amount):\n",
        "        if initial_amount >= 0:\n",
        "            self._balance = initial_amount  # 用 _ 表示這是 \"內部\" 變數\n",
        "        else:\n",
        "            self._balance = 0\n",
        "\n",
        "    def deposit(self, amount):\n",
        "        self._balance += amount\n",
        "\n",
        "    def get_balance(self):\n",
        "        return self._balance"
      ],
      "metadata": {
        "id": "GlRBHdPfYP-o"
      },
      "execution_count": null,
      "outputs": []
    },
    {
      "cell_type": "code",
      "source": [
        "account = BankAccount(100)\n",
        "print(f\"餘額是: {account.get_balance()}\")\n",
        "\n",
        "# 一個 \"不守規矩\" 的客戶端可以直接修改它，繞過了所有檢查！\n",
        "# 這可能會破壞這個 class 的設計（例如，餘額不應該是負數）。\n",
        "account._balance = -5000\n",
        "print(f\"被亂改後的餘額: {account.get_balance()}\")"
      ],
      "metadata": {
        "id": "lZTaOzasaeEm",
        "colab": {
          "base_uri": "https://localhost:8080/"
        },
        "outputId": "fe016761-eb64-4886-a0e7-8c19ff5c3641"
      },
      "execution_count": null,
      "outputs": [
        {
          "output_type": "stream",
          "name": "stdout",
          "text": [
            "餘額是: 100\n",
            "被亂改後的餘額: -5000\n"
          ]
        }
      ]
    },
    {
      "cell_type": "markdown",
      "source": [
        "3. **在 Method 中沒有存取屬性的簡寫**\n",
        "\n",
        "* 在一個 class 的 method 內部，如果你要存取屬於這個實例的變數，你必須明確地寫出 `self`\n",
        "    * 這是一個非常有用的設計，因為它讓你一眼就能分清楚，哪些變數是這個 method 臨時使用的區域變數，哪些是屬於整個物件的實例變數。"
      ],
      "metadata": {
        "id": "K3U6VpRebh3u"
      }
    },
    {
      "cell_type": "code",
      "source": [
        "class Rectangle:\n",
        "    def __init__(self, width, height):\n",
        "        self.width = width   # 實例變數\n",
        "        self.height = height # 實例變數\n",
        "\n",
        "    def set_width(self, width):\n",
        "        # 如果不寫 self，會發生什麼事？\n",
        "        # width = width  <-- 這只會讓區域變數 width 等於它自己，完全沒碰到實例變數！\n",
        "        print(f\"收到的參數 width 是: {width}\")\n",
        "        print(f\"修改前，self.width 是: {self.width}\")\n",
        "\n",
        "        # 必須明確使用 self 來指定要修改的是 \"實例\" 的 width\n",
        "        self.width = width\n",
        "\n",
        "        print(f\"修改後，self.width 是: {self.width}\")\n",
        "\n",
        "rect = Rectangle(10, 20)\n",
        "print(rect.width)\n",
        "\n",
        "rect.set_width(30)\n",
        "print(rect.width)"
      ],
      "metadata": {
        "colab": {
          "base_uri": "https://localhost:8080/"
        },
        "id": "svASyzPLbRjN",
        "outputId": "c0ebf152-8174-46cd-f058-e4b9ffab281c"
      },
      "execution_count": null,
      "outputs": [
        {
          "output_type": "stream",
          "name": "stdout",
          "text": [
            "10\n",
            "收到的參數 width 是: 30\n",
            "修改前，self.width 是: 10\n",
            "修改後，self.width 是: 30\n",
            "30\n"
          ]
        }
      ]
    },
    {
      "cell_type": "markdown",
      "source": [
        "4. **`self` 只是個慣例**\n",
        "\n",
        "* 通常，方法的第一個引數稱為 `self`。這僅僅只是一個慣例...\n",
        "\n",
        "* Python 只在乎 method 的第一個參數會自動接收「實例物件」。\n",
        "    * 至於這個參數叫什麼名字，Python 完全不管。你可以叫它 `this`、`me`、`instance`，程式都能正常運作。\n",
        "    * 但是，整個 Python 社群都約定俗成使用 `self`，如果你用了別的名字，其他 Python 開發者會覺得你的程式碼很奇怪、很難讀。所以，請務必遵守這個慣例。"
      ],
      "metadata": {
        "id": "6wiKLdiPcc8v"
      }
    },
    {
      "cell_type": "markdown",
      "source": [
        "5. **Method 呼叫其他 Method**\n",
        "\n",
        "* Method 可以藉由使用 `self` 引數的 method 屬性，呼叫其他 method。\n",
        "\n",
        "* 就像你可以用 `self.data` 來存取實例的資料一樣，你也可以用 `self.other_method()` 來呼叫同一個物件的另一個方法。"
      ],
      "metadata": {
        "id": "AFDFlSm-cwoU"
      }
    },
    {
      "cell_type": "code",
      "source": [
        "class Bag:\n",
        "    def __init__(self):\n",
        "        self.data = []\n",
        "\n",
        "    def add(self, x):\n",
        "        \"\"\"定義了如何新增一個元素的基本操作\"\"\"\n",
        "        self.data.append(x)\n",
        "        print(f\"已新增: {x}\")\n",
        "\n",
        "    def addtwice(self, x):\n",
        "        \"\"\"\n",
        "        這個方法重用了 add 方法的邏輯，而不用重寫一遍。\n",
        "        它透過 self.add() 來呼叫自己的 add 方法。\n",
        "        \"\"\"\n",
        "        print(f\"--- 準備新增 {x} 兩次 ---\")\n",
        "        self.add(x) # 第一次呼叫 self.add\n",
        "        self.add(x) # 第二次呼叫 self.add\n",
        "\n",
        "my_bag = Bag()\n",
        "my_bag.addtwice('書')\n",
        "print(f\"袋子裡的內容: {my_bag.data}\")"
      ],
      "metadata": {
        "colab": {
          "base_uri": "https://localhost:8080/"
        },
        "id": "U01uBwHDcC9u",
        "outputId": "2811d43e-573e-4315-db13-ac79791d49c5"
      },
      "execution_count": null,
      "outputs": [
        {
          "output_type": "stream",
          "name": "stdout",
          "text": [
            "--- 準備新增 書 兩次 ---\n",
            "已新增: 書\n",
            "已新增: 書\n",
            "袋子裡的內容: ['書', '書']\n"
          ]
        }
      ]
    },
    {
      "cell_type": "markdown",
      "source": [
        "6. **Method 與全域作用域**\n",
        "\n",
        "* 在 class 的 method 裡，你仍然可以存取在模組最外層定義的全域變數或函式。雖然應避免用全域變數來儲存狀態，但用它來存取全域的常數、設定或工具函式是很常見且合理的。\n",
        "\n",
        "* Method 可以用與一般函式相同的方式參照全域名稱。\n",
        "    * 與 method 相關的全域作用域，就是包含其定義的模組。（class 永遠不會被用作全域作用域。）\n",
        "    * 雖然人們很少有在 method 中使用全域資料的充分理由，但全域作用域仍有許多合法的使用：\n",
        "        * 比方說，被 import 至全域作用域的函式和模組，可以被 method 以及在該作用域中定義的函式和 class 所使用。\n",
        "        * 通常，包含 method 的 class，它本身就是被定義在這個全域作用域，在下一節，我們將看到 method 想要參照自己的 class 的一些好原因。"
      ],
      "metadata": {
        "id": "5tKtsHyYf4GH"
      }
    },
    {
      "cell_type": "code",
      "source": [
        "# 全域作用域中定義的 \"常數\"\n",
        "TAX_RATE = 0.05\n",
        "\n",
        "# 全域作用域中定義的 \"工具函式\"\n",
        "def format_price(price):\n",
        "    return f\"NT${price:,.0f} 元\"\n",
        "\n",
        "class Product:\n",
        "    def __init__(self, name, price):\n",
        "        self.name = name\n",
        "        self.price = price # 實例變數\n",
        "\n",
        "    def get_price_with_tax(self):\n",
        "        # Method 內部可以直接使用全域變數 TAX_RATE\n",
        "        tax = self.price * TAX_RATE\n",
        "        total_price = self.price + tax\n",
        "        # Method 內部也可以直接呼叫全域函式 format_price\n",
        "        return format_price(total_price)\n",
        "\n",
        "apple = Product(\"蘋果\", 100)\n",
        "print(apple.get_price_with_tax())"
      ],
      "metadata": {
        "colab": {
          "base_uri": "https://localhost:8080/"
        },
        "id": "khtTPRi5fxAA",
        "outputId": "2a2683e0-d765-4a66-db19-fde5c042009c"
      },
      "execution_count": null,
      "outputs": [
        {
          "output_type": "stream",
          "name": "stdout",
          "text": [
            "NT$105 元\n"
          ]
        }
      ]
    },
    {
      "cell_type": "markdown",
      "source": [
        "7. **每個值都是一個物件**\n",
        "\n",
        "* 每個值都是一個物件，因此都具有一個 class...它以 `object.__class__` 被儲存。\n",
        "\n",
        "* 在 Python 的世界裡，萬物皆物件。\n",
        "    * 一個數字、一段文字、一個列表，甚至一個函式，它們都有自己的「類別」(Type)。\n",
        "    * 你可以透過 `__class__` 屬性來查看任何東西是根據哪個「藍圖」被創造出來的。"
      ],
      "metadata": {
        "id": "-APqriA-gpfZ"
      }
    },
    {
      "cell_type": "code",
      "source": [
        "num = 100\n",
        "text = \"Hello\"\n",
        "my_list = [1, 2, 3]\n",
        "my_bag = Bag() # 我們自己定義的類別的實例\n",
        "\n",
        "print(f\"100 的類別是: {num.__class__}\")      # 輸出: <class 'int'>\n",
        "print(f\"'Hello' 的類別是: {text.__class__}\")   # 輸出: <class 'str'>\n",
        "print(f\"[1,2,3] 的類別是: {my_list.__class__}\") # 輸出: <class 'list'>\n",
        "print(f\"my_bag 的類別是: {my_bag.__class__}\")  # 輸出: <class '__main__.Bag'>"
      ],
      "metadata": {
        "colab": {
          "base_uri": "https://localhost:8080/"
        },
        "id": "rlj-jPVygQIs",
        "outputId": "02595f4a-6d41-41f1-b2c3-57ef508961a8"
      },
      "execution_count": null,
      "outputs": [
        {
          "output_type": "stream",
          "name": "stdout",
          "text": [
            "100 的類別是: <class 'int'>\n",
            "'Hello' 的類別是: <class 'str'>\n",
            "[1,2,3] 的類別是: <class 'list'>\n",
            "my_bag 的類別是: <class '__main__.Bag'>\n"
          ]
        }
      ]
    },
    {
      "cell_type": "markdown",
      "source": [
        "## 9.5 繼承 (Inheritance)\n"
      ],
      "metadata": {
        "id": "OHdQKfYKhN7P"
      }
    },
    {
      "cell_type": "markdown",
      "source": [
        "1. **繼承的基本語法與概念**\n",
        "\n",
        "* ...`class DerivedClassName(BaseClassName):`\n",
        "\n",
        "* 繼承的核心思想是程式碼的重用和建立 **\"is-a\"** (是一種) 的關係。\n",
        "\n",
        "    * 你可以先定義一個通用的「基底類別」(Base Class)，它包含所有同類事物共有的屬性和方法。\n",
        "    \n",
        "    * 然後，你可以建立一個更具體的「衍生類別」(Derived Class)，它會自動繼承基底類別的所有功能，並且可以添加自己獨有的新功能。\n",
        "\n",
        "    * 當 class 物件被建構時，base class 會被記住。這是用於解析屬性參照：如果一個要求的屬性無法在該 class 中找到，則會繼續在 base class 中搜尋\n",
        "\n",
        "\n",
        "* 比喻：\n",
        "\n",
        "    * `Vehicle` (交通工具) 是我們的基底類別 (Base Class)。所有交通工具都有品牌 (`brand`)、都能移動 (`move()`)。\n",
        "\n",
        "    * `Car` (汽車) 是 `Vehicle` 的一種，所以它是衍生類別 (Derived Class)。汽車繼承了交通工具的所有特性，但它還有自己獨有的東西，比如它有四個輪子。"
      ],
      "metadata": {
        "id": "3q1v8hNciKvm"
      }
    },
    {
      "cell_type": "code",
      "source": [
        "# 這是基底類別 (父類別)\n",
        "class Vehicle:\n",
        "    def __init__(self, brand):\n",
        "        self.brand = brand\n",
        "\n",
        "    def move(self):\n",
        "        print(f\"{self.brand} is moving.\")\n",
        "\n",
        "# 這是衍生類別 (子類別)，它繼承自 Vehicle\n",
        "class Car(Vehicle):\n",
        "    # 這個 class 裡面是空的，但它已經 \"免費\" 獲得了 Vehicle 的所有功能\n",
        "    pass\n",
        "\n",
        "# --- 開始使用 ---\n",
        "my_car = Car(\"Toyota\") # 即使 Car 沒有定義 __init__，但它繼承了 Vehicle 的\n",
        "\n",
        "# 當你呼叫 my_car.move()，Python 的尋找順序是：\n",
        "# 1. 在 Car 類別裡找 move() -> 找不到。\n",
        "# 2. 於是，沿著繼承鏈往上，去它的基底類別 Vehicle 裡找 -> 找到了！\n",
        "my_car.move() # 輸出: Toyota is moving.\n",
        "print(f\"我的車的品牌是: {my_car.brand}\") # 輸出: 我的車的品牌是: Toyota"
      ],
      "metadata": {
        "colab": {
          "base_uri": "https://localhost:8080/"
        },
        "id": "-2wy5-u2g3JR",
        "outputId": "5a1381a9-5acd-4155-b42b-f1b50fee83c9"
      },
      "execution_count": null,
      "outputs": [
        {
          "output_type": "stream",
          "name": "stdout",
          "text": [
            "Toyota is moving.\n",
            "我的車的品牌是: Toyota\n"
          ]
        }
      ]
    },
    {
      "cell_type": "markdown",
      "source": [
        "2. **方法覆寫 (Method Overriding) 與 \"Virtual\" 方法**\n",
        "\n",
        "* 如果衍生類別覺得從父類別繼承來的方法不夠用或不完全正確，它可以定義一個同名的方法來覆寫 (override) 父類別的版本。\n",
        "\n",
        "* Derived class 可以覆寫其 base class 的 method...\n",
        "    \n",
        "    * 當 base class 的一個 method 在呼叫相同 base class 中定義的另一個 method 時，最終可能會呼叫到一個覆寫它的 derived class 中的 method。\n",
        "    \n",
        "    * （給 C++ 程式設計師：Python 中所有 method 實際上都是 virtual。）\n",
        "\n",
        "* \"Virtual\" 的白話解釋：\n",
        "\n",
        "    * 這是一個非常強大的特性。它的意思是，當一個物件呼叫方法時，Python 永遠會從這個物件自己的、最具體的類別開始找起，即使這個呼叫指令是從父類別的某個方法內部發出的。"
      ],
      "metadata": {
        "id": "FU-JqkXrjS2f"
      }
    },
    {
      "cell_type": "code",
      "source": [
        "class Vehicle:\n",
        "    def __init__(self, brand):\n",
        "        self.brand = brand\n",
        "\n",
        "    def move(self):\n",
        "        print(f\"{self.brand} is moving.\")\n",
        "\n",
        "    def report_movement(self):\n",
        "        print(\"--- Reporting movement ---\")\n",
        "        self.move() # 關鍵！這裡呼叫 self.move()\n",
        "        print(\"--- Report finished ---\")\n",
        "\n",
        "class ElectricCar(Vehicle):\n",
        "    # 1. 覆寫 (Override) 了父類別的 move 方法\n",
        "    def move(self):\n",
        "        print(f\"{self.brand} is gliding silently.\")\n",
        "\n",
        "# --- 開始使用 ---\n",
        "my_tesla = ElectricCar(\"Tesla\")\n",
        "\n",
        "# 這裡會發生什麼事？\n",
        "# 1. 呼叫 my_tesla.report_movement()。\n",
        "# 2. my_tesla 自己沒有 report_movement，所以去父類別 Vehicle 裡找到了。\n",
        "# 3. 執行 Vehicle 的 report_movement，它內部呼叫了 self.move()。\n",
        "# 4. 因為 self 指的是 my_tesla 這個 ElectricCar 的實例，\n",
        "#    所以 Python 會從 ElectricCar 類別開始找 move()。\n",
        "# 5. ElectricCar \"有\" 自己的 move() 版本，所以執行的是被覆寫後的版本！\n",
        "my_tesla.report_movement()\n",
        "\n",
        "# 即使 report_movement 是在 Vehicle 中定義的，\\\n",
        "# 它最終呼叫的卻是 ElectricCar 的 move 方法。這就是 \"virtual\" 的威力。"
      ],
      "metadata": {
        "colab": {
          "base_uri": "https://localhost:8080/"
        },
        "id": "d4G6XdR_jC7m",
        "outputId": "8efcd234-0c4c-42dc-8cf5-4bfa0a89e1e2"
      },
      "execution_count": null,
      "outputs": [
        {
          "output_type": "stream",
          "name": "stdout",
          "text": [
            "--- Reporting movement ---\n",
            "Tesla is gliding silently.\n",
            "--- Report finished ---\n"
          ]
        }
      ]
    },
    {
      "cell_type": "markdown",
      "source": [
        "3. **擴充 (Extend) 而非取代父類別方法**\n",
        "\n",
        "* 有時候你不想完全覆蓋掉父類別的功能，而是想在父類別的基礎上增加一些新功能。這時，你可以在子類別的方法中，明確地去呼叫父類別的同名方法。\n",
        "    \n",
        "    * 一個在 derived class 覆寫的 method 可能事實上是想要擴充而非單純取代... 只要呼叫 `BaseClassName.methodname(self, arguments)`。\n",
        "\n"
      ],
      "metadata": {
        "id": "0sBdHaxDkM0B"
      }
    },
    {
      "cell_type": "code",
      "source": [
        "class Vehicle:\n",
        "    def __init__(self, brand):\n",
        "        self.brand = brand\n",
        "        print(\"Vehicle __init__ called.\")\n",
        "\n",
        "class Car(Vehicle):\n",
        "    def __init__(self, brand, number_of_doors):\n",
        "        print(\"Car __init__ called.\")\n",
        "        # 我們需要先呼叫父類別的 __init__ 來處理 brand 的部分\n",
        "        # 這是原文提到的方法：\n",
        "        Vehicle.__init__(self, brand)\n",
        "\n",
        "        # 在此之上，再添加 Car 自己獨有的功能\n",
        "        self.number_of_doors = number_of_doors\n",
        "        print(f\"這輛車有 {self.number_of_doors} 個門。\")\n",
        "\n",
        "my_car = Car(\"Honda\", 4)\n",
        "print(f\"品牌: {my_car.brand}, 門數: {my_car.number_of_doors}\")\n",
        "\n",
        "# 附註：現在更流行、更推薦的作法是使用 super()，它更靈活且不需要寫死父類別名稱。\n",
        "# class Car(Vehicle):\n",
        "#     def __init__(self, brand, number_of_doors):\n",
        "#         super().__init__(brand) # super() 會自動幫你找到父類別\n",
        "#         self.number_of_doors = number_of_doors"
      ],
      "metadata": {
        "colab": {
          "base_uri": "https://localhost:8080/"
        },
        "id": "s_iIF4uCj-dp",
        "outputId": "d9f4fa9e-f306-4579-876c-b068bf65c290"
      },
      "execution_count": null,
      "outputs": [
        {
          "output_type": "stream",
          "name": "stdout",
          "text": [
            "Car __init__ called.\n",
            "Vehicle __init__ called.\n",
            "這輛車有 4 個門。\n",
            "品牌: Honda, 門數: 4\n"
          ]
        }
      ]
    },
    {
      "cell_type": "markdown",
      "source": [
        "4. **`isinstance()` 和 `issubclass()` 內建函式**\n",
        "\n",
        "* 使用 `isinstance()` 判斷一個實例的型別... 使用 `issubclass()` 判斷 class 繼承...\n",
        "\n",
        "* 這兩個函式是你的好幫手，用來檢查物件和類別之間的關係。\n",
        "\n",
        "    * `isinstance(物件, 類別)`: 問的是「這個實際的東西，是不是屬於這個類別（或其子類別）？」\n",
        "\n",
        "    * issubclass(子類別, 父類別): 問的是「這張藍圖，是不是繼承自另一張藍圖？」"
      ],
      "metadata": {
        "id": "Wvu7SKzxmo1z"
      }
    },
    {
      "cell_type": "code",
      "source": [
        "# 延續上面的例子\n",
        "v = Vehicle(\"Gogoro\")\n",
        "c = Car(\"Ford\", 2)\n",
        "\n",
        "# --- 檢查 isinstance ---\n",
        "# c 是一個 Car 的實例嗎？ -> 是\n",
        "print(f\"isinstance(c, Car): {isinstance(c, Car)}\") # True\n",
        "\n",
        "# c 也是一個 Vehicle 的實例嗎？ -> 是，因為 Car 繼承自 Vehicle\n",
        "print(f\"isinstance(c, Vehicle): {isinstance(c, Vehicle)}\") # True\n",
        "\n",
        "# v 是一個 Car 的實例嗎？ -> 不是，父類別的實例不是子類別的實例\n",
        "print(f\"isinstance(v, Car): {isinstance(v, Car)}\") # False\n",
        "\n",
        "# --- 檢查 issubclass ---\n",
        "# Car 這個類別是 Vehicle 的子類別嗎？ -> 是\n",
        "print(f\"issubclass(Car, Vehicle): {issubclass(Car, Vehicle)}\") # True\n",
        "\n",
        "# Vehicle 是 Car 的子類別嗎？ -> 不是\n",
        "print(f\"issubclass(Vehicle, Car): {issubclass(Vehicle, Car)}\") # False\n",
        "\n",
        "# bool 是 int 的子類別 (這是 Python 的一個有趣設計)\n",
        "print(f\"issubclass(bool, int): {issubclass(bool, int)}\") # True"
      ],
      "metadata": {
        "colab": {
          "base_uri": "https://localhost:8080/"
        },
        "id": "-IawEBjUmjIo",
        "outputId": "4aa7dda9-dc3b-4521-ec4b-98d40bf50143"
      },
      "execution_count": null,
      "outputs": [
        {
          "output_type": "stream",
          "name": "stdout",
          "text": [
            "Vehicle __init__ called.\n",
            "Car __init__ called.\n",
            "Vehicle __init__ called.\n",
            "這輛車有 2 個門。\n",
            "isinstance(c, Car): True\n",
            "isinstance(c, Vehicle): True\n",
            "isinstance(v, Car): False\n",
            "issubclass(Car, Vehicle): True\n",
            "issubclass(Vehicle, Car): False\n",
            "issubclass(bool, int): True\n"
          ]
        }
      ]
    },
    {
      "cell_type": "markdown",
      "source": [
        "### 9.5.1 多重繼承 (Multiple Inheritance)"
      ],
      "metadata": {
        "id": "su_jRwQnnKdI"
      }
    },
    {
      "cell_type": "markdown",
      "source": [
        "* 「多重繼承」它背後的核心問題是：「如果我從好幾個爸爸媽媽那裡繼承了東西，而他們又來自同一個爺爺奶奶，那麼當我需要某個東西時，應該遵循什麼樣的尋找順序才不會混亂？」\n",
        "\n",
        "* Python 的設計者為此提供了一個非常優雅且強大的解決方案，稱為 **MRO (Method Resolution Order, 方法解析順序)**。"
      ],
      "metadata": {
        "id": "nYKW080gxr8m"
      }
    },
    {
      "cell_type": "markdown",
      "source": [
        "1. **什麼是多重繼承？為什麼需要它？**\n",
        "\n",
        "* 單一繼承是 `Car` is a `Vehicle` 這樣的 \"is-a\" 關係。\n",
        "* 多重繼承則是讓一個類別可以同時混合 (mix-in) 多個不同類別的功能，\n",
        "    * 就像一個「瑞士軍刀」，它同時是一把刀、一個開罐器、一個螺絲起子。\n",
        "\n",
        "* 比喻：想像你要設計一個「水上飛機」(Amphibious Aircraft)。\n",
        "\n",
        "    * 它是一種「飛機」(Aircraft)，所以它需要繼承飛機的 `fly()` 方法。\n",
        "\n",
        "    * 它也是一種「船」(Boat)，所以它需要繼承船的 `sail()` 方法。\n",
        "\n",
        "    * 因此，`AmphibiousAircraft` 可以同時繼承 `Aircraft` 和 `Boat`。"
      ],
      "metadata": {
        "id": "cFRosiJFx5bV"
      }
    },
    {
      "cell_type": "code",
      "source": [
        "class CanFly():\n",
        "    def fly(self):\n",
        "        print(\"I am flying high!\")\n",
        "\n",
        "class CanSwim():\n",
        "    def swim(self):\n",
        "        print(\"I am swimming smoothly.\")\n",
        "\n",
        "# FlyingFish 同時繼承了 CanFly 和 CanSwim\n",
        "class FlyingFish(CanFly, CanSwim):\n",
        "    pass\n",
        "\n",
        "my_fish = FlyingFish()\n",
        "my_fish.fly()   # 來自 CanFly\n",
        "my_fish.swim()  # 來自 CanSwim"
      ],
      "metadata": {
        "id": "GtkDERdOm6bo",
        "colab": {
          "base_uri": "https://localhost:8080/"
        },
        "outputId": "651daed9-7663-49f4-d1ce-ed6aa349c9a9"
      },
      "execution_count": null,
      "outputs": [
        {
          "output_type": "stream",
          "name": "stdout",
          "text": [
            "I am flying high!\n",
            "I am swimming smoothly.\n"
          ]
        }
      ]
    },
    {
      "cell_type": "markdown",
      "source": [
        "2. **「從左到右，深度優先」的初步理解**\n",
        "\n",
        "* ...搜尋規則為：深度優先、從左到右... 假如有一個屬性在 `DerivedClassName` 沒有被找到，則在 `Base1` 搜尋它，接著（遞迴地）在 `Base1` 的 base class 中搜尋，假如在那裡又沒有找到的話，會在 `Base2` 搜尋...\n",
        "\n",
        "* 在上面的 `FlyingFish(CanFly, CanSwim)` 例子中，如果你要找一個方法，Python 的順序是：\n",
        "\n",
        "    1. 先在 `FlyingFish` 自己身上找。\n",
        "\n",
        "    2. 找不到，就看繼承列表的第一個 `CanFly`，去 `CanFly` 裡面找。\n",
        "\n",
        "    3. 如果 `CanFly` 還有父類別，會繼續往上找 (深度優先)。\n",
        "\n",
        "    4. `CanFly` 這條線都找完了還沒有，才會回頭看繼承列表的第二個 `CanSwim`，去 `CanSwim` 裡面找。 這就是「從左到右」。"
      ],
      "metadata": {
        "id": "7GmRm_Fiy4EN"
      }
    },
    {
      "cell_type": "markdown",
      "source": [
        "3. **挑戰：菱形問題 (The Diamond Problem)**\n",
        "\n",
        "* ...動態排序是必要的，因為多重繼承的所有情況都表現一或多的菱形關係... 為了避免 base class 被多次存取，動態演算法...將搜尋順序線性化...\n",
        "\n",
        "* 當不同的父類別，最終都繼承自同一個「祖先」類別時，問題就來了。這會形成一個像鑽石（菱形）一樣的繼承結構，導致尋找路徑出現歧義。\n",
        "\n",
        "* 比喻：想像一個「收音機鬧鐘」(`ClockRadio`)。\n",
        "\n",
        "    * 它繼承自「時鐘」(`Clock`)。\n",
        "\n",
        "    * 它也繼承自「收音機」(`Radio`)。\n",
        "\n",
        "    * 而「時鐘」和「收音機」都是一種「電子設備」(`Device`)，它們都繼承自 `Device`。\n",
        "\n",
        "    * 假設 `Device` 有一個 `power_on()` 方法。那麼，`ClockRadio` 的 `power_on()` 應該遵循 `Clock` 的路徑還是 `Radio` 的路徑去找到 `Device` 的版本？這就是菱形問題。"
      ],
      "metadata": {
        "id": "wcLYXHBczVIc"
      }
    },
    {
      "cell_type": "code",
      "source": [
        "class Device:\n",
        "    def power_on(self):\n",
        "        print(\"Device powered on.\")\n",
        "\n",
        "class Clock(Device):\n",
        "    def power_on(self):\n",
        "        print(\"Clock powered on.\")\n",
        "        super().power_on()\n",
        "\n",
        "class Radio(Device):\n",
        "    def power_on(self):\n",
        "        print(\"Radio powered on.\")\n",
        "        super().power_on()\n",
        "\n",
        "# 菱形的底部，繼承順序是 (Clock, Radio)\n",
        "class ClockRadio(Clock, Radio):\n",
        "    def power_on(self):\n",
        "        print(\"ClockRadio powered on.\")\n",
        "        super().power_on()\n",
        "\n",
        "cr = ClockRadio()\n",
        "cr.power_on()"
      ],
      "metadata": {
        "colab": {
          "base_uri": "https://localhost:8080/"
        },
        "id": "poEuEVLWyeyu",
        "outputId": "12bb0f76-7f8d-4d7e-8b12-56b0c77108fc"
      },
      "execution_count": null,
      "outputs": [
        {
          "output_type": "stream",
          "name": "stdout",
          "text": [
            "ClockRadio powered on.\n",
            "Clock powered on.\n",
            "Radio powered on.\n",
            "Device powered on.\n"
          ]
        }
      ]
    },
    {
      "cell_type": "code",
      "source": [
        "print(\"\\n--- 查看方法解析順序 (MRO) ---\")\n",
        "print(ClockRadio.__mro__)"
      ],
      "metadata": {
        "colab": {
          "base_uri": "https://localhost:8080/"
        },
        "id": "obE8fsE819PH",
        "outputId": "e7f911b4-e9b5-46b0-9b0c-07500c491112"
      },
      "execution_count": null,
      "outputs": [
        {
          "output_type": "stream",
          "name": "stdout",
          "text": [
            "\n",
            "--- 查看方法解析順序 (MRO) ---\n",
            "(<class '__main__.ClockRadio'>, <class '__main__.Clock'>, <class '__main__.Radio'>, <class '__main__.Device'>, <class 'object'>)\n"
          ]
        }
      ]
    },
    {
      "cell_type": "markdown",
      "source": [
        "4. **Python 的解決方案：MRO 與合作的 super()**\n",
        "\n",
        "* Python 不再使用簡單的「深度優先」，而是使用一種稱為 C3 線性化 (C3 Linearization) 的演算法來計算出一個唯一的、明確的、從頭到尾不重複的方法解析順序 (MRO)。\n",
        "\n",
        "* MRO (方法解析順序)：它是一個列表，清楚地定義了當你呼叫一個方法時，Python 應該依序去哪些類別裡尋找。你可以透過 `ClassName.__mro__` 來查看它。\n",
        "\n",
        "* 合作的 `super()`：在多重繼承中，`super()` 不僅僅是「呼叫我的父類別」。它真正的意思是：「呼叫 MRO 列表中，排在我後面的下一個類別的同名方法」。\n",
        "    \n",
        "    * 這讓所有父類別的方法可以像接力賽一樣，一個接一個地被呼叫，實現「合作」。\n",
        "\n",
        "讓我們來分析上面範例的輸出："
      ],
      "metadata": {
        "id": "pFjvWw8z2T3E"
      }
    },
    {
      "cell_type": "code",
      "source": [
        "print(\"\\n--- 查看方法解析順序 (MRO) ---\")\n",
        "print(ClockRadio.__mro__)"
      ],
      "metadata": {
        "colab": {
          "base_uri": "https://localhost:8080/"
        },
        "id": "DgVB7Ohg2FXa",
        "outputId": "f4cbb6e7-eb2d-4e57-e08f-cad1ad17b8c0"
      },
      "execution_count": null,
      "outputs": [
        {
          "output_type": "stream",
          "name": "stdout",
          "text": [
            "\n",
            "--- 查看方法解析順序 (MRO) ---\n",
            "(<class '__main__.ClockRadio'>, <class '__main__.Clock'>, <class '__main__.Radio'>, <class '__main__.Device'>, <class 'object'>)\n"
          ]
        }
      ]
    },
    {
      "cell_type": "markdown",
      "source": [
        "解讀輸出：\n",
        "\n",
        "* MRO 列表：Python 計算出的順序是 ClockRadio -> Clock -> Radio -> Device。\n",
        "    * 它遵守了 (Clock, Radio) 的從左到右順序，\n",
        "    * 並且確保了共同的祖先 Device 只會被訪問一次，而且是在所有子孫都訪問完之後。\n",
        "\n",
        "* `super()` 的合作：\n",
        "    * 當 `cr.power_on()` 被呼叫，`ClockRadio` 的版本先執行。\n",
        "    * 它的 `super().power_on()` 會呼叫 MRO 中的下一個，也就是 `Clock` 的版本。\n",
        "    * `Clock` 的版本執行後，它的 `super().power_on()` 會呼叫 MRO 中的下一個，也就是 `Radio` 的版本。\n",
        "    * `Radio` 的版本執行後，它的 `super().power_on()` 會呼叫 MRO 中的下一個，也就是 `Device` 的版本。\n",
        "\n",
        "* 最終形成了一個完美的呼叫鏈，所有相關的方法都被執行了，而且順序明確，沒有衝突。"
      ],
      "metadata": {
        "id": "ebAhLXfD28Sa"
      }
    },
    {
      "cell_type": "markdown",
      "source": [
        "總結\n",
        "\n",
        "1. 多重繼承讓你的類別可以像組裝電腦一樣，混合來自不同來源的功能。\n",
        "\n",
        "2. 它可能會導致菱形問題，使得方法尋找路徑變得模糊不清。\n",
        "\n",
        "3. Python 使用 MRO (方法解析順序) 這個強大的演算法，將繼承關係「線性化」，建立一個唯一的、可預測的尋找順序。\n",
        "\n",
        "4. `super()` 在多重繼承中扮演「合作」的角色，它會沿著 MRO 的順序呼叫下一個類別的方法，讓繼承鏈上的所有方法都能被執行到。\n",
        "\n",
        "這套機制讓 Python 的多重繼承既可靠又強大，是 Python 物件導向設計中的一大亮點。"
      ],
      "metadata": {
        "id": "ngS8icwq3YBG"
      }
    },
    {
      "cell_type": "markdown",
      "source": [
        "## 9.6 私有變數 (Private Variables)"
      ],
      "metadata": {
        "id": "tlsDi4-14LLf"
      }
    },
    {
      "cell_type": "markdown",
      "source": [
        "* 關於「私有變數」，Python 對於「隱私」的獨特哲學。不像其他語言用鎖頭把東西鎖起來，Python 更像是貼上一張「請勿打擾」的標籤，並相信你會尊重它。\n",
        "\n"
      ],
      "metadata": {
        "id": "g8jlMZGeFW8w"
      }
    },
    {
      "cell_type": "markdown",
      "source": [
        "1. **核心哲學：我們都是負責任的成年人**\n",
        "\n",
        "*「私有」(private) 實例變數...在 Python 中是不存在的...大多數 Python 的程式碼都遵守一個慣例：\n",
        "    * 前綴為一個底線的名稱（如：`_spam`）應被視為 API 的非公有 (`non-public`) 部分。\n",
        "\n",
        "* Python 的基本哲學是「We're all consenting adults here」（我們都是負責任的成年人）。它認為程式設計師應該知道自己在做什麼，所以不提供強制性的 `private` 關鍵字。取而代之的是一個慣例或君子協定。\n",
        "\n",
        "* 單底線 `_` 的意義：\n",
        "    * 當你看到一個變數或方法以單底線開頭，比如 `_balance`，它的意思是：「嘿，我是這個 class 內部使用的東西，不是設計給外面的人直接用的。\n",
        "    * 如果你硬要用，後果自負，而且未來我可能會修改或移除它，恕不另行通知。」\n"
      ],
      "metadata": {
        "id": "MOyJbyfFFhb_"
      }
    },
    {
      "cell_type": "code",
      "source": [
        "class Wallet:\n",
        "    def __init__(self, initial_amount):\n",
        "        # 這是一個 \"非公有\" 變數，表示錢包的內部餘額\n",
        "        self._balance = initial_amount\n",
        "\n",
        "    def spend(self, amount):\n",
        "        if self._balance >= amount:\n",
        "            self._balance -= amount\n",
        "            print(f\"花了 {amount}, 剩下 {self._balance}\")\n",
        "        else:\n",
        "            print(\"餘額不足！\")\n",
        "\n",
        "    def add_money(self, amount):\n",
        "        self._balance += amount\n",
        "        print(f\"存了 {amount}, 現在有 {self._balance}\")\n",
        "\n",
        "my_wallet = Wallet(100)\n",
        "my_wallet.spend(30) # 這是正常、公開的使用方式\n",
        "\n",
        "# 你 \"可以\" 這麼做，但這 \"違反\" 了君子協定\n",
        "# 你繞過了所有檢查邏輯，可能會讓物件狀態變得不穩定\n",
        "print(f\"偷看一下錢包有多少錢: {my_wallet._balance}\")\n",
        "my_wallet._balance = -500 # 直接亂改內部狀態\n",
        "print(f\"亂改後的餘額: {my_wallet._balance}\")"
      ],
      "metadata": {
        "colab": {
          "base_uri": "https://localhost:8080/"
        },
        "id": "dhGoxqyf23vu",
        "outputId": "54037c80-272e-4603-9646-9ac93a734260"
      },
      "execution_count": null,
      "outputs": [
        {
          "output_type": "stream",
          "name": "stdout",
          "text": [
            "花了 30, 剩下 70\n",
            "偷看一下錢包有多少錢: 70\n",
            "亂改後的餘額: -500\n"
          ]
        }
      ]
    },
    {
      "cell_type": "markdown",
      "source": [
        "2. **雙底線 `__`：名稱修飾 (Name Mangling)**\n",
        "\n",
        "* ...另一個有限的支援，稱為 name mangling... 任何格式為 `__spam`... 會被文本地被替換為 `_classname__spam`... 這是為了避免名稱與 subclass 定義的名稱衝突。\n",
        "\n",
        "* 解釋：雙底線不是為了讓變數更私有或更安全。它的唯一目的是為了在繼承的場景下，避免子類別意外地覆寫掉父類別中內部使用的方法或變數。\n",
        "\n",
        "* 如何運作：當 Python 在定義 class 時看到 `__spam` 這樣的名字，它會自動在背後把它「偷偷改名」，改成 `_ClassName__spam`。\n",
        "\n",
        "* 比喻：想像你在一個大家族裡，爺爺叫 update，爸爸也叫 update。為了避免混淆，家族裡的人在稱呼他們時會自動加上輩份，變成「爺爺輩的 update」和「爸爸輩的 update」。_ClassName 這個前綴就像是那個「輩份」。"
      ],
      "metadata": {
        "id": "2MRvwEgngca0"
      }
    },
    {
      "cell_type": "code",
      "source": [
        "# 這個範例設計得非常精妙，完美地展示了名稱修飾的用途。\n",
        "class Mapping:\n",
        "    def __init__(self, iterable):\n",
        "        self.items_list = []\n",
        "        # 關鍵點1: __init__ 內部呼叫了 self.__update\n",
        "        self.__update(iterable)\n",
        "\n",
        "    def update(self, iterable):\n",
        "        \"\"\"這是公開給使用者呼叫的 update 方法\"\"\"\n",
        "        print(\"正在執行 Mapping 的 update\")\n",
        "        for item in iterable:\n",
        "            self.items_list.append(item)\n",
        "\n",
        "    # 關鍵點2: 把公開的 update 方法，\"備份\" 到一個私有的 __update 名字上\n",
        "    __update = update\n",
        "\n",
        "class MappingSubclass(Mapping):\n",
        "    def update(self, keys, values):\n",
        "        \"\"\"\n",
        "        子類別提供了 \"全新\" 的 update 方法，有不同的參數和功能。\n",
        "        這是對父類別公開 update 方法的 \"覆寫\" (override)。\n",
        "        \"\"\"\n",
        "        print(\"正在執行 MappingSubclass 的 update\")\n",
        "        for item in zip(keys, values):\n",
        "            self.items_list.append(item)"
      ],
      "metadata": {
        "id": "gE6VUqyJF6Tb"
      },
      "execution_count": null,
      "outputs": []
    },
    {
      "cell_type": "markdown",
      "source": [
        "分析執行時會發生什麼事：\n",
        "\n",
        "1. 當 `Mapping` class 被定義時：\n",
        "\n",
        "    * Python 看到 `__update` 這個名字。\n",
        "\n",
        "    * 它立刻施展「名稱修飾」魔法，把所有在 `Mapping` 內部用到的 `__update` 都改名為 `_Mapping__update`。\n",
        "\n",
        "    * 所以，`__init__` 裡那行 `self.__update(iterable)` 實際上變成了 `self._Mapping__update(iterable)`。\n",
        "\n",
        "    * 而 `__update = update` 這行，實際上是 `_Mapping__update = update`。\n",
        "\n",
        "2. 當我們建立子類別的實例時：\n",
        "\n",
        "    * `s = MappingSubclass([1, 2, 3])`\n",
        "\n",
        "    * `MappingSubclass` 的 `__init__` 被呼叫。但它自己沒有定義，所以會去呼叫父類別 `Mapping` 的 `__init__`。\n",
        "\n",
        "    * 現在開始執行 `Mapping` 的 `__init__` 程式碼。\n",
        "\n",
        "    * 它執行到 `self.__update(iterable)` 這一行。因為這行程式碼是寫在 `Mapping` class 裡的，所以 Python 會使用它在第一步中已經改好的名字：`self._Mapping__update(iterable)`。\n",
        "\n",
        "    * `self._Mapping__update` 指向的是原始的、`Mapping` 版本的 `update` 方法。\n",
        "\n",
        "    * 因此，即使 `MappingSubclass` 已經覆寫了公開的 `update` 方法，父類別的 `__init__` 依然能夠安全地呼叫到它自己那個原始的、未被覆寫的版本。\n",
        "\n",
        "結論： 名稱修飾成功地保護了父類別的內部實作，讓它不會被子類別的修改所「意外破壞」。子類別可以自由地覆寫 `update`，而不用擔心會搞砸父類別的建構過程。"
      ],
      "metadata": {
        "id": "j3OlPuBuhg5f"
      }
    },
    {
      "cell_type": "markdown",
      "source": [
        "3. **仍然可以存取「私有」變數**\n",
        "\n",
        "* 名稱修飾只是一個「改名」的偽裝，不是一個真正的保險箱。只要你知道它被改成了什麼名字，你依然可以直接存取它。\n",
        "    * ...它仍可能存取或修改一個被視為私有的變數。這在特殊情況下甚至可能很有用，例如在除錯器...\n",
        "\n"
      ],
      "metadata": {
        "id": "7F10bzxfigRl"
      }
    },
    {
      "cell_type": "code",
      "source": [
        "m = Mapping([1, 2])\n",
        "print(m.items_list) # 輸出: [1, 2]\n",
        "\n",
        "# 你不能這樣存取，因為它已經被改名了\n",
        "# m.__update([3, 4]) # AttributeError: 'Mapping' object has no attribute '__update'\n",
        "\n",
        "# 但是，只要你知道它被改成了什麼名字，你就可以直接呼叫！\n",
        "# 這在除錯時可能很有用。\n",
        "print(\"--- 強行呼叫被修飾過的名字 ---\")\n",
        "m._Mapping__update([3, 4])\n",
        "print(m.items_list) # 輸出: [1, 2, 3, 4]"
      ],
      "metadata": {
        "colab": {
          "base_uri": "https://localhost:8080/"
        },
        "id": "9745hQD9hF6L",
        "outputId": "59558d9b-e90c-4506-ca07-a7dddf848007"
      },
      "execution_count": null,
      "outputs": [
        {
          "output_type": "stream",
          "name": "stdout",
          "text": [
            "正在執行 Mapping 的 update\n",
            "[1, 2]\n",
            "--- 強行呼叫被修飾過的名字 ---\n",
            "正在執行 Mapping 的 update\n",
            "[1, 2, 3, 4]\n"
          ]
        }
      ]
    },
    {
      "cell_type": "markdown",
      "source": [
        "## 9.7 補充說明\n",
        "\n",
        "三個在使用 Python Class 時非常實用的小技巧和觀念。它們分別是關於 (1) 如何方便地建立資料容器、(2) 如何利用類別的靈活性來模擬其他物件，以及 (3) 如何檢視方法物件的內部結構。"
      ],
      "metadata": {
        "id": "ASbbSGwfjSXU"
      }
    },
    {
      "cell_type": "markdown",
      "source": [
        "1. **使用 dataclasses 快速建立資料容器**\n",
        "\n",
        "* 在程式設計中，我們常常需要一個純粹的「容器」來存放一組相關的資料，例如，一個員工有姓名、部門、薪水。\n",
        "    * 在傳統的 C 語言中，你會使用 `struct`。\n",
        "    * 在 Python 中，雖然你可以寫一個完整的 class 並自己定義 `__init__` 方法來做這件事，但這有點繁瑣。\n",
        "\n",
        "* `dataclasses` 的魔力：\n",
        "    * 從 Python 3.7 開始，你可以使用 `@dataclass` 這個「裝飾器」(decorator)。\n",
        "    * 你只需要宣告你想要的資料欄位和它們的型別，Python 就會自動地、魔法般地幫你寫好 `__init__` (初始化)、`__repr__` (漂亮的印出格式) 和 `__eq__` (比較是否相等) 等常用的方法。這大大簡化了程式碼。\n",
        "\n",
        "範例程式碼 (傳統 vs. dataclass)："
      ],
      "metadata": {
        "id": "dxa1Uf-gkOFw"
      }
    },
    {
      "cell_type": "code",
      "source": [
        "# --- 傳統的寫法，很繁瑣 ---\n",
        "class OldEmployee:\n",
        "    def __init__(self, name: str, dept: str, salary: int):\n",
        "        self.name = name\n",
        "        self.dept = dept\n",
        "        self.salary = salary\n",
        "\n",
        "    # 為了能清楚地印出物件內容，你還得自己寫 __repr__\n",
        "    def __repr__(self):\n",
        "        return f\"OldEmployee(name='{self.name}', dept='{self.dept}', salary={self.salary})\""
      ],
      "metadata": {
        "id": "9wFdfD2vOZO8"
      },
      "execution_count": null,
      "outputs": []
    },
    {
      "cell_type": "code",
      "source": [
        "# --- 使用 dataclass 的現代寫法，超簡潔 ---\n",
        "from dataclasses import dataclass\n",
        "\n",
        "@dataclass\n",
        "class Employee:\n",
        "    name: str\n",
        "    dept: str\n",
        "    salary: int"
      ],
      "metadata": {
        "id": "BjD4Dq1jOlYo"
      },
      "execution_count": null,
      "outputs": []
    },
    {
      "cell_type": "code",
      "source": [
        "john_old = OldEmployee('john', 'computer lab', 1000)\n",
        "jane_new = Employee('jane', 'human resources', 1200)\n",
        "\n",
        "# dataclass 自動提供了漂亮的印出格式\n",
        "print(f\"傳統寫法: {john_old}\")\n",
        "print(f\"Dataclass 寫法: {jane_new}\")\n",
        "\n",
        "# 使用起來完全一樣\n",
        "print(f\"Jane 的部門是: {jane_new.dept}\")\n",
        "print(f\"Jane 的薪水是: {jane_new.salary}\")"
      ],
      "metadata": {
        "colab": {
          "base_uri": "https://localhost:8080/"
        },
        "id": "lSKDxsXZO4lT",
        "outputId": "2175156e-e482-4878-9129-5d7c60490f4b"
      },
      "execution_count": null,
      "outputs": [
        {
          "output_type": "stream",
          "name": "stdout",
          "text": [
            "傳統寫法: OldEmployee(name='john', dept='computer lab', salary=1000)\n",
            "Dataclass 寫法: Employee(name='jane', dept='human resources', salary=1200)\n",
            "Jane 的部門是: human resources\n",
            "Jane 的薪水是: 1200\n"
          ]
        }
      ]
    },
    {
      "cell_type": "markdown",
      "source": [
        "2. **用 Class 模擬其他物件 (鴨子測試 Duck Typing)**\n",
        "\n",
        "* ...如果你有一個函式，它會從一個檔案物件來格式化某些資料，你也可以定義一個有 `read()`和 `readline()` method 的 class 作為替代方式...\n",
        "\n",
        "* 解釋：這是 Python 一個非常重要的哲學，稱為「鴨子測試 (Duck Typing)」：「如果一個東西走起路來像鴨子，叫起來也像鴨子，那它就是一隻鴨子。」\n",
        "\n",
        "* 換句話說，Python 的函式通常不關心傳進來的物件是什麼類別，只關心它能不能執行我需要的操作 (也就是有沒有我需要的方法)。\n",
        "\n",
        "* 這段話的意思是，如果有一個函式需要讀取檔案，它真正在乎的不是你給它一個「真正的檔案」，而是給它一個任何帶有 `read()` 或 `readline()` 方法的物件。\n",
        "\n",
        "範例程式碼："
      ],
      "metadata": {
        "id": "kEznFHZNPNrA"
      }
    },
    {
      "cell_type": "code",
      "source": [
        "import io\n",
        "\n",
        "# 假設這是一個只能處理 \"檔案\" 的函式\n",
        "def process_file_content(file_object):\n",
        "    \"\"\"讀取檔案的前兩行並印出\"\"\"\n",
        "    print(\"--- 開始處理 ---\")\n",
        "    line1 = file_object.readline()\n",
        "    line2 = file_object.readline()\n",
        "    print(f\"第一行: {line1.strip()}\")\n",
        "    print(f\"第二行: {line2.strip()}\")\n",
        "    print(\"--- 處理完畢 ---\\n\")\n",
        "\n",
        "# 情況一：傳入一個 \"模擬的\" 檔案物件 (從字串建立)\n",
        "string_data = \"這是記憶體中的第一行資料\\n這是第二行\"\n",
        "string_file = io.StringIO(string_data) # StringIO 讓字串表現得像檔案\n",
        "print(\">>> 傳入一個 StringIO 物件:\")\n",
        "process_file_content(string_file)\n",
        "\n",
        "\n",
        "# 情況二：我們可以自己寫一個 \"假的\" 檔案類別\n",
        "class FakeFile:\n",
        "    def __init__(self, content_list):\n",
        "        self._lines = content_list\n",
        "\n",
        "    def readline(self):\n",
        "        if self._lines:\n",
        "            # 移除並回傳第一行\n",
        "            return self._lines.pop(0)\n",
        "        return \"\" # 如果沒內容了，回傳空字串，跟真檔案一樣\n",
        "\n",
        "my_fake_file = FakeFile([\n",
        "    \"這是我們自己做的第一行\\n\",\n",
        "    \"這是我們自己做的第二行\\n\",\n",
        "    \"這是多餘的第三行\\n\"\n",
        "])\n",
        "\n",
        "# 對 process_file_content 來說，my_fake_file 也是一隻 \"鴨子\"\n",
        "# 因為它也有 readline() 方法！\n",
        "print(\">>> 傳入我們自訂的 FakeFile 物件:\")\n",
        "process_file_content(my_fake_file)"
      ],
      "metadata": {
        "colab": {
          "base_uri": "https://localhost:8080/"
        },
        "id": "ig2qsCgCPDvk",
        "outputId": "54f89213-b0b5-4501-9acb-d49d74aef24e"
      },
      "execution_count": null,
      "outputs": [
        {
          "output_type": "stream",
          "name": "stdout",
          "text": [
            ">>> 傳入一個 StringIO 物件:\n",
            "--- 開始處理 ---\n",
            "第一行: 這是記憶體中的第一行資料\n",
            "第二行: 這是第二行\n",
            "--- 處理完畢 ---\n",
            "\n",
            ">>> 傳入我們自訂的 FakeFile 物件:\n",
            "--- 開始處理 ---\n",
            "第一行: 這是我們自己做的第一行\n",
            "第二行: 這是我們自己做的第二行\n",
            "--- 處理完畢 ---\n",
            "\n"
          ]
        }
      ]
    },
    {
      "cell_type": "markdown",
      "source": [
        "3. **方法物件的內部屬性 (`__self__` 和 `__func__`)**\n",
        "\n",
        "* 實例的 method 物件也具有屬性：`m.__self__` 就是帶有 method `m()` 的實例物件，而 `m.__func__` 則是該 method 所對應的函式物件。\n",
        "\n",
        "* 解釋：這是一個用於「反思」(Introspection) 或除錯的進階技巧，讓你窺探一個「綁定方法 (Bound Method)」的內部構造。\n",
        "\n",
        "* 當你寫 `my_instance.my_method` 時，你得到的是一個已經和 `my_instance` 綁定在一起的方法物件。這個物件其實是一個打包好的組合，裡面包含了兩樣東西：\n",
        "\n",
        "    1. `__self__`: 指向那個實例物件本身 (`my_instance`)。\n",
        "\n",
        "    2. `__func__`: 指向類別中定義的那個原始的、尚未綁定的函式。\n"
      ],
      "metadata": {
        "id": "dCRy85q6QhgA"
      }
    },
    {
      "cell_type": "code",
      "source": [
        "class Speaker:\n",
        "    def __init__(self, name):\n",
        "        self.name = name\n",
        "\n",
        "    # 這是原始的函式 (function)\n",
        "    def say_hello(self):\n",
        "        print(f\"{self.name} says hello!\")\n",
        "\n",
        "# 建立一個實例\n",
        "person = Speaker(\"David\")\n",
        "\n",
        "# 取得一個 \"綁定方法\" 物件\n",
        "bound_method = person.say_hello\n",
        "\n",
        "print(f\"綁定方法物件是: {bound_method}\\n\")\n",
        "\n",
        "# 1. 透過 __self__ 取得它所綁定的實例\n",
        "instance_object = bound_method.__self__\n",
        "print(f\"bound_method.__self__ 是: {instance_object}\")\n",
        "print(f\"它的名字是: {instance_object.name}\")\n",
        "\n",
        "print(\"-\" * 20)\n",
        "\n",
        "# 2. 透過 __func__ 取得它背後的原始函式\n",
        "function_object = bound_method.__func__\n",
        "print(f\"bound_method.__func__ 是: {function_object}\")\n",
        "\n",
        "# 我們可以證明，它和直接從類別中取出的函式是同一個東西\n",
        "is_same_function = (function_object is Speaker.say_hello)\n",
        "print(f\"它和 Speaker.say_hello 是同一個函式嗎? {is_same_function}\")\n",
        "\n",
        "# 你甚至可以透過原始函式，手動呼叫它，並傳入實例\n",
        "print(\"\\n手動呼叫原始函式:\")\n",
        "function_object(instance_object) # 這等同於 person.say_hello()"
      ],
      "metadata": {
        "colab": {
          "base_uri": "https://localhost:8080/"
        },
        "id": "dSpHNJdWP61m",
        "outputId": "ee355c26-207f-44d8-98b8-6ecf6b55edcf"
      },
      "execution_count": null,
      "outputs": [
        {
          "output_type": "stream",
          "name": "stdout",
          "text": [
            "綁定方法物件是: <bound method Speaker.say_hello of <__main__.Speaker object at 0x78b861768920>>\n",
            "\n",
            "bound_method.__self__ 是: <__main__.Speaker object at 0x78b861768920>\n",
            "它的名字是: David\n",
            "--------------------\n",
            "bound_method.__func__ 是: <function Speaker.say_hello at 0x78b85a9b7ce0>\n",
            "它和 Speaker.say_hello 是同一個函式嗎? True\n",
            "\n",
            "手動呼叫原始函式:\n",
            "David says hello!\n"
          ]
        }
      ]
    },
    {
      "cell_type": "markdown",
      "source": [
        "## 9.8 疊代器 (Iterator)\n"
      ],
      "metadata": {
        "id": "kLxXEhbqVg43"
      }
    },
    {
      "cell_type": "markdown",
      "source": [
        "到目前為止，大多數的容器 (container) 物件都可以使用 `for` 陳述式來進行迴圈：\n",
        "\n",
        "```python\n",
        "for element in [1, 2, 3]:\n",
        "    print(element)\n",
        "for element in (1, 2, 3):\n",
        "    print(element)\n",
        "for key in {'one':1, 'two':2}:\n",
        "    print(key)\n",
        "for char in \"123\":\n",
        "    print(char)\n",
        "for line in open(\"myfile.txt\"):\n",
        "    print(line, end='')\n",
        "```\n",
        "\n",
        "*「疊代器 (Iterator)」的內容是 Python 中一個極其重要且強大的核心概念。一旦你理解了它，你就會明白為什麼 `for` 迴圈能如此優雅且統一地處理各種不同的資料類型。\n",
        "\n",
        "讓我們用一個生動的比喻，然後一步步拆解這個「幕後機制」。\n",
        "\n",
        "* 比喻：一本有「智慧書籤」的書\n",
        "\n",
        "    * 可疊代的物件 (Iterable)：就是那本書本身。\n",
        "        * 例如，一個列表 `[1, 2, 3]`、一個字串 `\"abc\"`。它包含了所有的資料。\n",
        "\n",
        "    * 疊代器 (Iterator)：是一枚智慧書籤。這枚書籤很特別，它只做兩件事：\n",
        "\n",
        "        * 記得你當前讀到哪一頁。\n",
        "\n",
        "        * 有一個「翻到下一頁」的按鈕。\n",
        "\n",
        "    * 這個設計的巧妙之處在於，書（資料）和書籤（讀取位置）是分開的。你可以把同一本書借給好幾個人，每個人都有自己的書籤，他們可以獨立地閱讀，互不干擾。"
      ],
      "metadata": {
        "id": "cUNWDU-WhAko"
      }
    },
    {
      "cell_type": "markdown",
      "source": [
        "1. **for 迴圈的「秘密握手」**\n",
        "\n",
        "* 疊代器的使用在 Python 中處處可見且用法一致。\n",
        "    * 在幕後，`for` 陳述式會在容器物件上呼叫 `iter()`。\n",
        "    * 該函式回傳一個疊代器物件，此物件定義了 `__next__()` method，而此 method 會逐一存取容器中的元素。當元素用盡時，`__next__()` 將引發 `StopIteration` 例外，來通知 `for` 終止迴圈。\n",
        "\n",
        "* 當你寫下 `for element in my_list`: 時，Python 在背後進行了一場秘密的對話，就像一個固定的儀式或握手：\n",
        "\n",
        "    1. `for` 迴圈對 `my_list` 說：「嘿，`my_list`，我要開始遍歷你了。請給我一個『書籤』。」\n",
        "\n",
        "        * 這一步就是呼叫 `iter(my_list)`。`my_list` (書) 接收到請求後，會產生一個全新的疊代器物件 (智慧書籤) 並交給 `for` 迴圈。\n",
        "\n",
        "    2. `for` 迴圈拿到了書籤，然後開始重複做一件事：「嘿，書籤，請『翻到下一頁』，告訴我那一頁的內容是什麼。」\n",
        "\n",
        "        * 這一步就是呼叫 `next(書籤)`，它實際上是在執行書籤物件的 `__next__()` 方法。\n",
        "\n",
        "        * 書籤會回傳下一頁的內容，`for` 迴圈把它賦值給 `element`，然後執行你寫的迴圈內部的程式碼。\n",
        "\n",
        "    3. 重複步驟 2，直到...\n",
        "\n",
        "    4. `for` 迴圈再次對書籤說：「再翻到下一頁！」但書籤發現已經是最後一頁了。\n",
        "\n",
        "        * 這時，書籤不會回傳內容，而是會大喊一聲：「沒了！讀完了！」\n",
        "\n",
        "        * 這個「大喊」的動作就是 `raise StopIteration` (引發一個 `StopIteration` 例外)。\n",
        "\n",
        "    5. `for` 迴圈聽到這個信號，就知道遍歷已經結束，於是它會優雅地結束迴圈，而不會讓程式崩潰。"
      ],
      "metadata": {
        "id": "TzbamWs0h3te"
      }
    },
    {
      "cell_type": "code",
      "source": [
        "# 手動模擬 for 迴圈的運作\n",
        "\n",
        "s = 'abc' # 這本書\n",
        "\n",
        "# 步驟 1: 取得 'abc' 這本書的 \"書籤\"\n",
        "it = iter(s)\n",
        "print(it) # <str_iterator object at ...> 這就是那個智慧書籤物件\n",
        "\n",
        "# 步驟 2: 手動按 \"翻到下一頁\" 按鈕\n",
        "print(next(it)) # 輸出: 'a'\n",
        "\n",
        "# 步驟 2 (再次): 繼續按\n",
        "print(next(it)) # 輸出: 'b'\n",
        "\n",
        "# 步驟 2 (再次): 繼續按\n",
        "print(next(it)) # 輸出: 'c'\n",
        "\n",
        "# 步驟 4: 書籤發現沒內容了，大喊 \"StopIteration\"\n",
        "next(it) # 這行會報錯，因為 for 迴圈會自動處理這個錯誤，但我們手動呼叫時不會"
      ],
      "metadata": {
        "colab": {
          "base_uri": "https://localhost:8080/",
          "height": 245
        },
        "id": "oEJSL3SIg-Zr",
        "outputId": "bd8d2219-bdc2-4d60-e9ed-dd20caa9f7e3"
      },
      "execution_count": null,
      "outputs": [
        {
          "output_type": "stream",
          "name": "stdout",
          "text": [
            "<str_ascii_iterator object at 0x78b85a820730>\n",
            "a\n",
            "b\n",
            "c\n"
          ]
        },
        {
          "output_type": "error",
          "ename": "StopIteration",
          "evalue": "",
          "traceback": [
            "\u001b[0;31m---------------------------------------------------------------------------\u001b[0m",
            "\u001b[0;31mStopIteration\u001b[0m                             Traceback (most recent call last)",
            "\u001b[0;32m/tmp/ipython-input-189158419.py\u001b[0m in \u001b[0;36m<cell line: 0>\u001b[0;34m()\u001b[0m\n\u001b[1;32m     17\u001b[0m \u001b[0;34m\u001b[0m\u001b[0m\n\u001b[1;32m     18\u001b[0m \u001b[0;31m# 步驟 4: 書籤發現沒內容了，大喊 \"StopIteration\"\u001b[0m\u001b[0;34m\u001b[0m\u001b[0;34m\u001b[0m\u001b[0m\n\u001b[0;32m---> 19\u001b[0;31m \u001b[0mnext\u001b[0m\u001b[0;34m(\u001b[0m\u001b[0mit\u001b[0m\u001b[0;34m)\u001b[0m \u001b[0;31m# 這行會報錯，因為 for 迴圈會自動處理這個錯誤，但我們手動呼叫時不會\u001b[0m\u001b[0;34m\u001b[0m\u001b[0;34m\u001b[0m\u001b[0m\n\u001b[0m",
            "\u001b[0;31mStopIteration\u001b[0m: "
          ]
        }
      ]
    },
    {
      "cell_type": "markdown",
      "source": [
        "2. **在你自己的 Class 中加入疊代行為**\n",
        "\n",
        "* 看過疊代器協定的幕後機制後，在你的 class 加入疊代器的行為就很容易了。\n",
        "    * 定義一個 `__iter__()` method 來回傳一個帶有 `__next__()` method 的物件。\n",
        "    * 如果 class 已定義了 `__next__()`，則 `__iter__()` 可以只回傳 `self`。\n",
        "\n",
        "* 打造一本有「智慧書籤」功能的書。根據上面的「秘密握手」協議，我們的 class 必須做到兩件事：\n",
        "    * `__iter__(self)`：當 `for` 迴圈跟它要書籤 `(iter(our_object))` 時，這個方法必須回傳一個書籤物件。\n",
        "\n",
        "    * `__next__(self)`：那個書籤物件必須有這個方法，讓 `for` 迴圈可以重複呼叫它來取得下一個項目。\n",
        "\n",
        "\n",
        "* 設計一本書 (Iterable) 和一把獨立的書籤 (Iterator)。\n",
        "    * 每次你想看書，書就會給你一把全新的書籤，這把新書籤總是從第一頁開始。你可以同時拿好幾把書籤，在書的不同地方做記號。"
      ],
      "metadata": {
        "id": "9CS3yX5YjWG0"
      }
    },
    {
      "cell_type": "markdown",
      "source": [
        "**範例：一個可以逐字讀出的 Sentence (句子) 物件**\n",
        "\n",
        "* 我們要建立一個 `Sentence` 類別，它可以被 `for` 迴圈遍歷，一次回傳一個單字。\n",
        "\n",
        "**第 1 步：設計「書籤」- `SentenceIterator`**\n",
        "    \n",
        "* 這個類別是疊代器，它的職責很單純：\n",
        "    1. 接收單字的列表。\n",
        "    2. 記住目前讀到第幾個字 (`_index`)。\n",
        "    3. 實作 `__next__` 來回傳下一個字。"
      ],
      "metadata": {
        "id": "3x5WYZQordQ0"
      }
    },
    {
      "cell_type": "code",
      "source": [
        "class SentenceIterator():\n",
        "    def __init__(self, words):\n",
        "        self._words = words\n",
        "        self._index = 0     # 書籤總是從第一個單字 (索引 0) 開始\n",
        "\n",
        "    def __next__(self):\n",
        "        # 如果索引超出了單字列表的範圍\n",
        "        if self._index >= len(self._words):\n",
        "            # 就大喊「沒了！」\n",
        "            raise StopIteration\n",
        "\n",
        "        # 取得目前的單字\n",
        "        current_word = self._words[self._index]\n",
        "        # 把書籤往後移一格，為下一次做準備\n",
        "        self._index += 1\n",
        "        return current_word\n",
        "\n",
        "    def __iter__(self):\n",
        "        # 疊代器協議要求 iterator 物件也要有 __iter__ 方法，\n",
        "        # 通常就是回傳自己。\n",
        "        return self"
      ],
      "metadata": {
        "id": "2RRJwawzVCeE"
      },
      "execution_count": null,
      "outputs": []
    },
    {
      "cell_type": "markdown",
      "source": [
        "**第 2 步：設計「書」- `Sentence`**\n",
        "\n",
        "* 這個類別是可疊代的容器，它的職責是：\n",
        "\n",
        "    1. 儲存完整的句子資料。\n",
        "\n",
        "    2. 實作 `__iter__`，在每次被呼叫時，建立並回傳一個全新的 `SentenceIterator` 書籤。"
      ],
      "metadata": {
        "id": "BvuwBAY5sneB"
      }
    },
    {
      "cell_type": "code",
      "source": [
        "class Sentence:\n",
        "    def __init__(self, text):\n",
        "        # `Sentence` 物件本身只負責儲存資料\n",
        "        self.words = text.split()\n",
        "        print(f\"句子 '{text}' 已建立，包含 {len(self.words)} 個單字。\")\n",
        "        # 注意：這個類別裡沒有 index！它不追蹤疊代的進度。\n",
        "\n",
        "    def __iter__(self):\n",
        "        # 這是關鍵！\n",
        "        # 當 for 迴圈跟我要「書籤」時，\n",
        "        # 我就建立一個全新的、獨立的 SentenceIterator 物件交出去。\n",
        "        print(\">>> Sentence: 正在產生一個全新的書籤 (Iterator)...\")\n",
        "        return SentenceIterator(self.words)"
      ],
      "metadata": {
        "id": "vXskoRROsmyC"
      },
      "execution_count": null,
      "outputs": []
    },
    {
      "cell_type": "code",
      "source": [
        "# 建立一個 Sentence 物件 (一本書)\n",
        "my_sentence = Sentence(\"Python is elegant and powerful\")\n",
        "\n",
        "# --- 第一次遍歷 ---\n",
        "print(\"\\n--- 第一次讀句子 ---\")\n",
        "for word in my_sentence:\n",
        "    print(word)"
      ],
      "metadata": {
        "colab": {
          "base_uri": "https://localhost:8080/"
        },
        "id": "0PK1jjJov_xp",
        "outputId": "ea813ebf-c3a4-4a64-82d8-7bddd05077c1"
      },
      "execution_count": null,
      "outputs": [
        {
          "output_type": "stream",
          "name": "stdout",
          "text": [
            "句子 'Python is elegant and powerful' 已建立，包含 5 個單字。\n",
            "\n",
            "--- 第一次讀句子 ---\n",
            ">>> Sentence: 正在產生一個全新的書籤 (Iterator)...\n",
            "Python\n",
            "is\n",
            "elegant\n",
            "and\n",
            "powerful\n"
          ]
        }
      ]
    },
    {
      "cell_type": "code",
      "source": [
        "# --- 第二次遍歷 ---\n",
        "# 因為每次 for 迴圈都會透過 __iter__ 拿到一個全新的書籤，\n",
        "# 所以我們可以毫無問題地再讀一次！\n",
        "print(\"\\n--- 第二次讀同一個句子 (完全沒問題) ---\")\n",
        "for word in my_sentence:\n",
        "    print(word.upper()) # 這次我們把它變成大寫"
      ],
      "metadata": {
        "colab": {
          "base_uri": "https://localhost:8080/"
        },
        "id": "wMEqpN5BwIZl",
        "outputId": "18bc7db6-f629-44a8-aff0-ed526b18c275"
      },
      "execution_count": null,
      "outputs": [
        {
          "output_type": "stream",
          "name": "stdout",
          "text": [
            "\n",
            "--- 第二次讀同一個句子 (完全沒問題) ---\n",
            ">>> Sentence: 正在產生一個全新的書籤 (Iterator)...\n",
            "PYTHON\n",
            "IS\n",
            "ELEGANT\n",
            "AND\n",
            "POWERFUL\n"
          ]
        }
      ]
    },
    {
      "cell_type": "code",
      "source": [
        "# --- 證明可以同時進行多次疊代 ---\n",
        "print(\"\\n--- 建立兩個獨立的書籤，交錯閱讀 ---\")\n",
        "# 向 my_sentence 要第一個書籤\n",
        "iterator1 = iter(my_sentence)\n",
        "# 再要一個全新的、獨立的書籤\n",
        "iterator2 = iter(my_sentence)\n",
        "\n",
        "# 讀者1 讀第一個字\n",
        "print(f\"讀者1: {next(iterator1)}\") # Python\n",
        "# 讀者2 讀第一個字\n",
        "print(f\"讀者2: {next(iterator2)}\") # Python\n",
        "# 讀者1 讀第二個字\n",
        "print(f\"讀者1: {next(iterator1)}\") # is\n",
        "# 讀者1 讀第三個字\n",
        "print(f\"讀者1: {next(iterator1)}\") # elegant\n",
        "# 讀者2 讀第二個字\n",
        "print(f\"讀者2: {next(iterator2)}\") # is"
      ],
      "metadata": {
        "colab": {
          "base_uri": "https://localhost:8080/"
        },
        "id": "s-MeS2qfwSjt",
        "outputId": "9a5e000a-9d1d-4173-d452-461a058215b6"
      },
      "execution_count": null,
      "outputs": [
        {
          "output_type": "stream",
          "name": "stdout",
          "text": [
            "\n",
            "--- 建立兩個獨立的書籤，交錯閱讀 ---\n",
            ">>> Sentence: 正在產生一個全新的書籤 (Iterator)...\n",
            ">>> Sentence: 正在產生一個全新的書籤 (Iterator)...\n",
            "讀者1: Python\n",
            "讀者2: Python\n",
            "讀者1: is\n",
            "讀者1: elegant\n",
            "讀者2: is\n"
          ]
        }
      ]
    },
    {
      "cell_type": "markdown",
      "source": [
        "## 9.9. 產生器 (Generator)"
      ],
      "metadata": {
        "id": "FjboIJ6RyCzn"
      }
    },
    {
      "cell_type": "markdown",
      "source": [
        "* 產生器 (Generator)是 Python 中一個極其優雅且高效的工具。它基本上是建立疊代器 (Iterator) 的超級簡化版。\n",
        "\n",
        "* 一旦你理解了它，你會發現自己在很多場景下都會優先選擇使用產生器，而不是手動去寫一個完整的 class。\n",
        "\n",
        "* 比喻：「會自動做筆記」的聰明說書人\n",
        "\n",
        "    * 想像一下，傳統的函式 `return` 就像一個說書人一口氣把整個故事講完，然後就結束了。如果你想再聽一遍，他得從頭開始講。\n",
        "\n",
        "    * 而產生器 (Generator) 就像一個非常聰明的說書人，他身邊有一支魔法筆和筆記本。\n",
        "\n",
        "        * 當你第一次找他時，他開始講故事。\n",
        "\n",
        "        * 當他講到一個段落（`yield`），他會暫停，把這個段落的內容給你，然後在筆記本上記下自己講到哪一句、腦中在想什麼（所有區域變數的狀態）。然後他就去休息了。\n",
        "\n",
        "        * 當你下一次再去找他時，他會拿起筆記本，立刻恢復到上次暫停的狀態，然後繼續往下講，直到下一個段落（下一個 `yield`）。\n",
        "\n",
        "    * 這個「暫停並記住所有狀態」的能力，就是產生器的核心魔法。`yield` 這個關鍵字就是那個「魔法暫停按鈕」。"
      ],
      "metadata": {
        "id": "M-gxiX3jyLYu"
      }
    },
    {
      "cell_type": "markdown",
      "source": [
        "* 回顧：Class 為基礎的版本 (手動擋)\n",
        "\n",
        "    * 在之前的範例中，我們為了讓 `Sentence` 物件可以被疊代，必須做兩件事：\n",
        "\n",
        "    * 建立一個 `Sentence` 類別來當作容器 (書)。\n",
        "\n",
        "    * 建立一個完全獨立的 `SentenceIterator` 類別來當作疊代器 (書籤)。\n",
        "\n",
        "    * 這個方法完全正確，功能也很好，但你需要寫兩個 class，並且手動管理 `_index` 這個狀態，還要記得 `raise StopIteration`。\n",
        "\n",
        "* 改造：使用產生器的版本 (自排擋)\n",
        "\n",
        "    * 現在，我們要用產生器來達成完全相同的目標。\n",
        "\n",
        "    * 產生器的核心思想是：任何一個有 `yield` 關鍵字的函式，當它被呼叫時，就會自動變成一個疊代器。\n",
        "\n",
        "    * 我們來看看如何改造 `Sentence` 類別：\n",
        "\n",
        "        * 我們還需要 `Sentence` 這個類別來存放資料。\n",
        "\n",
        "        * 但是，我們完全不需要 `SentenceIterator` 這個類別了！\n",
        "\n",
        "        * 我們只需要把 `__iter__` 這個方法，從「回傳一個物件」改成一個「產生器函式」。"
      ],
      "metadata": {
        "id": "ZG4ZunZK0ymm"
      }
    },
    {
      "cell_type": "code",
      "source": [
        "class Sentence:\n",
        "    def __init__(self, text):\n",
        "        self.words = text.split()\n",
        "        print(f\"句子 '{text}' 已建立。\")\n",
        "\n",
        "    def __iter__(self):\n",
        "        # 這個 __iter__ 現在是一個產生器函式了！\n",
        "        print(\">>> Sentence: 正在產生一個全新的書籤 (Generator)...\")\n",
        "\n",
        "        # 我們把原本在 SentenceIterator.__next__ 裡的邏輯搬進來\n",
        "        # 但用一個簡單的 for 迴圈就可以完成\n",
        "        for word in self.words:\n",
        "            # yield 會回傳一個值，然後 \"暫停\" 在這裡\n",
        "            # 等待下一次的 next() 呼叫\n",
        "            yield word\n",
        "\n",
        "        # 函式結束時，StopIteration 會被自動引發，我們什麼都不用做！\n",
        "\n",
        "# 這就是全部了！ SentenceIterator 整個類別都被 __iter__ 裡面那個簡單的 for 迴圈和 yield 取代了。"
      ],
      "metadata": {
        "id": "wh6WGw1d1y-x"
      },
      "execution_count": null,
      "outputs": []
    },
    {
      "cell_type": "markdown",
      "source": [
        "實際使用與效果 (完全一樣！)\n",
        "\n",
        "對於使用這個 Sentence 類別的人來說，沒有任何改變。它的行為和之前完全一致。"
      ],
      "metadata": {
        "id": "H5hA2cTP2T7h"
      }
    },
    {
      "cell_type": "code",
      "source": [
        "# 建立一個新的 Sentence 物件\n",
        "my_sentence = Sentence(\"Generators are incredibly powerful\")\n",
        "\n",
        "# --- 第一次遍歷 ---\n",
        "print(\"\\n--- 第一次讀句子 ---\")\n",
        "for word in my_sentence:\n",
        "    print(word)\n",
        "\n",
        "# --- 第二次遍歷，一樣沒問題 ---\n",
        "# 因為 for 迴圈會再次呼叫 __iter__，得到一個全新的、獨立的產生器物件\n",
        "print(\"\\n--- 第二次讀同一個句子 ---\")\n",
        "for word in my_sentence:\n",
        "    print(word.upper())\n",
        "\n",
        "# --- 證明可以同時進行多次疊代 ---\n",
        "print(\"\\n--- 建立兩個獨立的產生器，交錯閱讀 ---\")\n",
        "# 每次呼叫 iter() 都會重新執行 __iter__，得到一個全新的產生器\n",
        "gen1 = iter(my_sentence)\n",
        "gen2 = iter(my_sentence)\n",
        "\n",
        "print(f\"讀者1: {next(gen1)}\")\n",
        "print(f\"讀者2: {next(gen2)}\")\n",
        "print(f\"讀者1: {next(gen1)}\")"
      ],
      "metadata": {
        "colab": {
          "base_uri": "https://localhost:8080/"
        },
        "id": "6dxMfwfr2Wzh",
        "outputId": "a3a14824-1085-4527-b055-1f82b266f7fc"
      },
      "execution_count": null,
      "outputs": [
        {
          "output_type": "stream",
          "name": "stdout",
          "text": [
            "句子 'Generators are incredibly powerful' 已建立。\n",
            "\n",
            "--- 第一次讀句子 ---\n",
            ">>> Sentence: 正在產生一個全新的書籤 (Generator)...\n",
            "Generators\n",
            "are\n",
            "incredibly\n",
            "powerful\n",
            "\n",
            "--- 第二次讀同一個句子 ---\n",
            ">>> Sentence: 正在產生一個全新的書籤 (Generator)...\n",
            "GENERATORS\n",
            "ARE\n",
            "INCREDIBLY\n",
            "POWERFUL\n",
            "\n",
            "--- 建立兩個獨立的產生器，交錯閱讀 ---\n",
            ">>> Sentence: 正在產生一個全新的書籤 (Generator)...\n",
            "讀者1: Generators\n",
            ">>> Sentence: 正在產生一個全新的書籤 (Generator)...\n",
            "讀者2: Generators\n",
            "讀者1: are\n"
          ]
        }
      ]
    },
    {
      "cell_type": "markdown",
      "source": [
        "產生器幫你自動完成了三件麻煩事：\n",
        "\n",
        "1. 自動建立 `__iter__()` 和 `__next__()`：\n",
        "    * 你完全不需要寫這兩個「樣板」方法。\n",
        "    * Python 看到 `yield` 就知道這是一個產生器，會自動讓它符合疊代器協議。\n",
        "\n",
        "2. 自動儲存狀態：\n",
        "    * 在 `SentenceIterator` class 中，我們必須手動建立 `self._words` 和 `self._index` 這兩個實例變數來儲存狀態。\n",
        "    * 但在 `Sentence` 產生器中，`word` 只是普通的區域變數。產生器會在每次 `yield` 暫停時，自動幫你把這些區域變數的狀態「冷凍」起來，下次恢復時再「解凍」。這讓程式碼看起來就跟一個普通函式一樣乾淨。\n",
        "\n",
        "3. 自動引發 `StopIteration`：\n",
        "    * 在 `SentenceIterator` class 中，我們必須手動檢查 `self._index` 並 `raise StopIteration`。\n",
        "    * 在產生器中，只要函式正常執行完畢（例如 `for` 迴圈結束，或遇到 `return`），Python 就會自動幫你引發 `StopIteration`。\n",
        "\n",
        "總結\n",
        "\n",
        "* 產生器是建立疊代器的首選捷徑。\n",
        "\n",
        "* `yield` 關鍵字是它的核心，它能暫停函式執行、回傳一個值，並在下次呼叫時恢復狀態。\n",
        "\n",
        "* 相比手動寫 class，產生器自動處理了疊代器協議的所有繁瑣細節，讓程式碼更簡潔、更清晰、更符合 Python 的風格 (Pythonic)。\n",
        "\n",
        "* 簡單來說，當你需要一個疊代器時，先問問自己：「我能用一個產生器來完成嗎？」在絕大多數情況下，答案都是肯定的。"
      ],
      "metadata": {
        "id": "QJCkRanM1N38"
      }
    },
    {
      "cell_type": "markdown",
      "source": [
        "## 9.10 產生器運算式 (Generator Expressions)"
      ],
      "metadata": {
        "id": "h83haMcw5vcV"
      }
    },
    {
      "cell_type": "markdown",
      "source": [
        "* 「產生器運算式 (Generator Expressions)」是 Python 中一個非常實用且高效率的語法糖。\n",
        "    \n",
        "    * 簡單來說，它就是**「濃縮版的產生器 (Generator)」。它讓你用一行程式碼，就能享受到產生器節省記憶體**的好處。\n",
        "\n",
        "* 核心觀念：節省記憶體的「惰性」運算\n",
        "* 要理解產生器運算式，你必須先跟「串列綜合運算 (List Comprehension)」做個比較。\n",
        "\n",
        "1. 串列綜合運算 (List Comprehension) - `[ ... ]` (使用方括號)\n",
        "\n",
        "    * 行為：立即在記憶體中建立一個完整的、全新的列表。\n",
        "\n",
        "    * 比喻：你請工廠立刻生產 100 萬個產品，把它們全部打包好放在一個大倉庫裡，然後你再開始一個一個地檢查。\n",
        "\n",
        "    * 缺點：如果資料量非常大（例如一百萬個數字），會瞬間佔用大量記憶體。\n",
        "\n",
        "    ```python\n",
        "    # 這會立刻建立一個包含 100 萬個數字的 \"完整列表\"\n",
        "    # 非常消耗記憶體！\n",
        "    # large_list = [i*i for i in range(1000000)]\n",
        "    # total = sum(large_list)\n",
        "    ```\n",
        "\n",
        "2. 產生器運算式 (Generator Expression) - `( ... )` (使用圓括號)\n",
        "\n",
        "    * 行為：不會立刻建立任何列表。它只會建立一個「產生器物件」（也就是疊代器）。這個物件處於「待命」狀態，它知道該如何產生資料，但還沒開始動手。\n",
        "\n",
        "    * 比喻：你只給了工廠一張藍圖和一個「開始」按鈕。你每按一次按鈕，工廠才生產 1 個產品交給你。\n",
        "\n",
        "    * 優點：極度節省記憶體。這就是所謂的「惰性求值 (Lazy Evaluation)」。\n",
        "\n",
        "    ```python\n",
        "    # 這 \"不會\" 建立列表，只會建立一個 \"產生器物件\"\n",
        "    # 幾乎不佔記憶體\n",
        "    large_gen = (i*i for i in range(1000000))\n",
        "\n",
        "    # sum() 函式會一次跟 gen \"要一個\" 數字，加總，然後再要下一個\n",
        "    # 記憶體中始終只會有一個數字在流動\n",
        "    total = sum(large_gen)\n",
        "    ```\n",
        "\n",
        "3. 範例\n",
        "    * 產生器運算式最適合的場景：「**立即被外圍函式 (enclosing function) 所使用**」。\n",
        "    \n",
        "    * 注意看，所有的範例都是把 `(...)` 直接放進了 `sum()`、`set()`、`max()` 或 `list()` 這些函式裡面。"
      ],
      "metadata": {
        "id": "BKVxR-WcVNui"
      }
    },
    {
      "cell_type": "code",
      "source": [
        "# sum of squares\n",
        "sum(i*i for i in range(10))"
      ],
      "metadata": {
        "id": "M82LFDMMzAyM",
        "colab": {
          "base_uri": "https://localhost:8080/"
        },
        "outputId": "cd279a9a-32e9-4c37-f17d-5226facbd342"
      },
      "execution_count": 1,
      "outputs": [
        {
          "output_type": "execute_result",
          "data": {
            "text/plain": [
              "285"
            ]
          },
          "metadata": {},
          "execution_count": 1
        }
      ]
    },
    {
      "cell_type": "markdown",
      "source": [
        "`sum(i*i for i in range(10))`\n",
        "\n",
        "拆解：\n",
        "\n",
        "1. `(i*i for i in range(10))` 建立了一個產生器物件。\n",
        "\n",
        "2. `sum()` 函式取得了這個物件。\n",
        "\n",
        "3. `sum()` 函式開始對它進行疊代：\n",
        "\n",
        "    * sum() 問：「下一個數字是什麼？」 產生器回答：「0*0，是 0。」\n",
        "\n",
        "    * sum() 問：「再下一個呢？」 產生器回答：「1*1，是 1。」\n",
        "\n",
        "    * sum() 問：「再下一個呢？」 產生器回答：「2*2，是 4。」\n",
        "\n",
        "4. 這個過程一直持續到 `i` 跑到 `9`。\n",
        "\n",
        "5. 在整個過程中，記憶體中從來沒有一個完整的列表 `[0, 1, 4, ..., 81]` 存在。"
      ],
      "metadata": {
        "id": "UNciufM0X3v-"
      }
    },
    {
      "cell_type": "code",
      "source": [
        "# dot product\n",
        "xvec = [10, 20, 30]\n",
        "yvec = [7, 5, 3]\n",
        "sum(x*y for x,y in zip(xvec, yvec))"
      ],
      "metadata": {
        "colab": {
          "base_uri": "https://localhost:8080/"
        },
        "id": "eavPQ2zDWgtb",
        "outputId": "1de38a76-6bab-4d23-8a6e-05928bb3765b"
      },
      "execution_count": 2,
      "outputs": [
        {
          "output_type": "execute_result",
          "data": {
            "text/plain": [
              "260"
            ]
          },
          "metadata": {},
          "execution_count": 2
        }
      ]
    },
    {
      "cell_type": "markdown",
      "source": [
        "`sum(x*y for x,y in zip(xvec, yvec))`\n",
        "\n",
        "拆解：這是在計算「點積 (dot product)」。\n",
        "\n",
        "1. `zip(xvec, yvec)` 會產生一對一的元組：`(10, 7)`、`(20, 5)`、`(30, 3)`。\n",
        "\n",
        "2. `(x*y for ...)` 建立了一個產生器。\n",
        "\n",
        "3. `sum()` 開始向它要數字：\n",
        "\n",
        "    * 第一個拿到的是 `(10, 7)`，產生器計算 `10*7`，`yield 70`。\n",
        "\n",
        "    * 下一個拿到 `(20, 5)`，產生器計算 `20*5`，`yield 100`。\n",
        "\n",
        "    * 下一個拿到 `(30, 3)`，產生器計算 `30*3`，`yield 90`。\n",
        "\n",
        "4. `sum()` 把它們加總：`70 + 100 + 90 = 260`。同樣地，中途沒有建立任何列表。"
      ],
      "metadata": {
        "id": "i121FQ35YPL6"
      }
    },
    {
      "cell_type": "code",
      "source": [
        "page = \"\"\"This is the page.\"\"\"\n",
        "unique_words = set(word for line in page for word in line.split())\n",
        "print(f\"{unique_words}\")"
      ],
      "metadata": {
        "colab": {
          "base_uri": "https://localhost:8080/"
        },
        "id": "0mgUF4lrWxRl",
        "outputId": "a771f92f-4a89-4bd0-f49b-ec643d7d7a2a"
      },
      "execution_count": 5,
      "outputs": [
        {
          "output_type": "stream",
          "name": "stdout",
          "text": [
            "{'p', 't', 's', 'h', 'a', 'e', 'i', '.', 'T', 'g'}\n"
          ]
        }
      ]
    },
    {
      "cell_type": "markdown",
      "source": [
        "拆解：這是一個非常經典的例子！想像 `page` 是一個非常巨大的 10GB 文字檔案。\n",
        "\n",
        "* 如果用串列綜合運算：[word for line in page ...] 會試圖讀取所有 10GB 的內容，把它們全部分割成單字，然後在記憶體中建立一個可能包含數十億個單字的巨型列表，你的電腦會立刻當機。\n",
        "\n",
        "* 使用產生器運算式：\n",
        "\n",
        "    1. `set()` 函式啟動了產生器。\n",
        "\n",
        "    2. 產生器從 `page` 讀取第一行 (line 1)。\n",
        "\n",
        "    3. 分割這一行，`yield` 第一個字。`set()` 把它加進去。\n",
        "\n",
        "    4. `yield` 第二個字。`set()` 把它加進去（如果已存在則忽略）。\n",
        "\n",
        "    5. ...第一行處理完畢...\n",
        "\n",
        "    6. 產生器從 `page` 讀取第二行 (line 2)，重複上述步驟。\n",
        "\n",
        "結論：在任何時間點，記憶體中都只有「一行」和「一個字」的資料，以及 set 本身。這讓你能夠處理遠遠超過記憶體大小的資料。"
      ],
      "metadata": {
        "id": "naazLYsPYwhQ"
      }
    },
    {
      "cell_type": "code",
      "source": [
        "valedictorian = max((student.gpa, student.name) for student in graduates)"
      ],
      "metadata": {
        "id": "8eGY6afVX2_c"
      },
      "execution_count": null,
      "outputs": []
    },
    {
      "cell_type": "markdown",
      "source": [
        "拆解：`max()` 函式也是一個完美的「消費者」。\n",
        "\n",
        "1. `max()` 只需要在記憶體中保留**「到目前為止的最大值」**。\n",
        "\n",
        "2. 它向產生器要第一個學生 `(3.8, 'Alice')`，並將其設為當前最大值。\n",
        "\n",
        "3. 它再要第二個學生 `(3.9, 'Bob')`，和 `(3.8, 'Alice')` 比較，發現 `(3.9, 'Bob')` 更大，於是更新當前最大值。\n",
        "\n",
        "4. 它再要第三個學生 `(3.7, 'Charlie')`，比較後發現沒有更大，什麼也不做。\n",
        "\n",
        "5. 它就這樣一個一個地比較完所有學生，而不需要先把所有學生的資料都讀取到一個大列表中。"
      ],
      "metadata": {
        "id": "SPSrih8eZusH"
      }
    },
    {
      "cell_type": "markdown",
      "source": [
        "總結\n",
        "\n",
        "* `[...]` (List comprehension)：**立刻**建立完整列表，消耗記憶體。\n",
        "\n",
        "* `(...)` (Generator expression)：**延遲**產生，一次一個，極度節省記憶體。\n",
        "\n",
        "* 使用時機：當你不需要**儲存**所有的結果，而是需要**立即**對它們進行**逐一處理**時（例如加總、找最大值、過濾），請**務必**使用產生器運算式。"
      ],
      "metadata": {
        "id": "ED5UYcFwawj7"
      }
    }
  ]
}