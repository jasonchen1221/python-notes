{
  "nbformat": 4,
  "nbformat_minor": 0,
  "metadata": {
    "colab": {
      "provenance": [],
      "toc_visible": true,
      "authorship_tag": "ABX9TyPeUMSJjrEGecdyuWdKEMJx"
    },
    "kernelspec": {
      "name": "python3",
      "display_name": "Python 3"
    },
    "language_info": {
      "name": "python"
    }
  },
  "cells": [
    {
      "cell_type": "markdown",
      "source": [
        "#6. Module"
      ],
      "metadata": {
        "id": "ZkeBcK9gID9D"
      }
    },
    {
      "cell_type": "markdown",
      "source": [
        "- 模組是指包含 Python 定義和語句的檔案，檔案名稱是模組名稱加上 `.py`。\n",
        "- 在模組中，模組的名稱（作為字串）會是全域變數 `__name__` 的值。\n",
        "\n",
        "例如，用您喜歡的文字編輯器在資料夾中創一個名為 `fibo.py` 的檔案，內容如下："
      ],
      "metadata": {
        "id": "FB19lXL8JWCU"
      }
    },
    {
      "cell_type": "code",
      "execution_count": 1,
      "metadata": {
        "id": "rDiK7TSgH8F_"
      },
      "outputs": [],
      "source": [
        "# Fibonacci numbers module\n",
        "\n",
        "def fib(n):    # write Fibonacci series up to n\n",
        "    a, b = 0, 1\n",
        "    while a < n:\n",
        "        print(a, end=' ')\n",
        "        a, b = b, a+b\n",
        "    print()\n",
        "\n",
        "def fib2(n):   # return Fibonacci series up to n\n",
        "    result = []\n",
        "    a, b = 0, 1\n",
        "    while a < n:\n",
        "        result.append(a)\n",
        "        a, b = b, a+b\n",
        "    return result"
      ]
    },
    {
      "cell_type": "code",
      "source": [
        "import fibo\n",
        "# 這並不會將 fibo 中定義的函式名稱直接加入當前的 namespace 中；它只會加入 fibo 的模組名稱。\n",
        "# 使用此模組名稱，就可以存取函式：\n",
        "fibo.fib(1000)\n",
        "# 0 1 1 2 3 5 8 13 21 34 55 89 144 233 377 610 987\n",
        "\n",
        "fibo.fib2(100)\n",
        "# [0, 1, 1, 2, 3, 5, 8, 13, 21, 34, 55, 89]\n",
        "\n",
        "fibo.__name__\n",
        "# 'fibo'"
      ],
      "metadata": {
        "id": "IQbZ8CQPIBkv"
      },
      "execution_count": null,
      "outputs": []
    },
    {
      "cell_type": "markdown",
      "source": [
        "##6.1. More on Modules\n",
        "- 每個模組都有它自己的私有命名空間 (namespace)，模組內定義的函式會把該模組的私有符號表當成全域命名空間使用。\n",
        "    - 因此，模組的作者可以在模組中使用全域變數，而不必擔心和使用者的全域變數發生意外的名稱衝突。\n",
        "    - 另一方面，如果你知道自己在做什麼，你可以用這個方式取用模組的全域變數，以和引用函式一樣的寫法，`modname.itemname`。\n",
        "\n",
        "- 在一個模組中可以 import 其他模組。\n",
        "    - 把所有的 import 陳述式放在模組（就這邊來說，腳本也是一樣）的最開頭是個慣例，但並沒有強制。\n",
        "    - 如放置在模組的最高層（不在任何函式或 class 中），被 import 的模組名稱將被加入全域命名空間中。"
      ],
      "metadata": {
        "id": "qsraqC5ZJ_v4"
      }
    },
    {
      "cell_type": "code",
      "source": [
        "# import 陳述式有另一種變形寫法，可以直接將名稱從欲 import 的模組，直接 import 至原模組的命名空間中。例如：\n",
        "# 在 import 之後的名稱會被導入，但定義該函式的整個模組名稱並不會被引入在區域命名空間中（因此，示例中的 fibo 未被定義）。\n",
        "from fibo import fib, fib2\n",
        "\n",
        "fib(500)\n",
        "# 0 1 1 2 3 5 8 13 21 34 55 89 144 233 377\n"
      ],
      "metadata": {
        "id": "Yvx4OxYBKj8W"
      },
      "execution_count": null,
      "outputs": []
    },
    {
      "cell_type": "code",
      "source": [
        "# 還有另一種變形寫法，可以 import 模組定義的所有名稱：\n",
        "from fibo import *\n",
        "\n",
        "fib(500)\n",
        "#0 1 1 2 3 5 8 13 21 34 55 89 144 233 377\n",
        "\n",
        "# 這個寫法會 import 模組中所有的名稱，除了使用底線（_）開頭的名稱。\n",
        "# 大多數情況下，Python 程式設計師不大使用這個功能，因為它在直譯器中引入了一組未知的名稱，並且可能覆蓋了某些您已經定義的內容。\n",
        "# 請注意，一般情況下並不建議從模組或套件中 import * 的做法，因為它通常會導致可讀性較差的程式碼。\n",
        "# 但若是使用它來在互動模式中節省打字時間，則是可以接受的。"
      ],
      "metadata": {
        "id": "cgVLB1XoLe2y"
      },
      "execution_count": null,
      "outputs": []
    },
    {
      "cell_type": "code",
      "source": [
        "# 如果模組名稱後面出現 as，則 as 之後的名稱將直接和被 import 模組綁定在一起。\n",
        "import fibo as fib\n",
        "fib.fib(500)\n",
        "#0 1 1 2 3 5 8 13 21 34 55 89 144 233 377\n"
      ],
      "metadata": {
        "id": "boxaYOC6LyB2"
      },
      "execution_count": null,
      "outputs": []
    },
    {
      "cell_type": "code",
      "source": [
        "# 在使用 from 時也可以用同樣的方式獲得類似的效果：\n",
        "from fibo import fib as fibonacci\n",
        "fibonacci(500)\n",
        "#0 1 1 2 3 5 8 13 21 34 55 89 144 233 377"
      ],
      "metadata": {
        "id": "O1rF1aA570Pt"
      },
      "execution_count": null,
      "outputs": []
    },
    {
      "cell_type": "markdown",
      "source": [
        "###6.1.1 Executing modules as scripts\n",
        "當使用以下內容運行 Python 模組時：\n",
        "\n",
        "`python fibo.py <arguments>`\n",
        "\n",
        "如同使用 `import` 指令，模組中的程式碼會被執行，但 `__name__` 被設為 `\"__main__\"`。這意味著，透過在模組的末尾添加以下程式碼：\n",
        "\n",
        "```python\n",
        "if __name__ == \"__main__\":\n",
        "    import sys\n",
        "    fib(int(sys.argv[1]))\n",
        "```\n",
        "- 你可以將檔案作為腳本也同時可以作為被 import 的模組，\n",
        "- 剖析 (parse) 命令列的程式碼只會在當模組是「主」檔案時，才會執行：\n",
        "\n",
        "`$ python fibo.py 50`\n",
        "\n",
        "`0 1 1 2 3 5 8 13 21 34`\n",
        "\n",
        "如果此模組是被 `import` 的，則該段程式碼(`__name__ == \"__main__\"`)不會被執行：\n",
        "```python\n",
        "import fibo\n",
        "```\n",
        "這通常是用來為模組提供方便的使用者介面，或者用於測試目的（執行測試套件時，以腳本的方式執行模組）。"
      ],
      "metadata": {
        "id": "FqlkKbH67_x9"
      }
    },
    {
      "cell_type": "markdown",
      "source": [
        "###6.1.2 The Module Search Path\n",
        "\n",
        "- Import 一個名為 `spam` 的模組時，直譯器首先會搜尋具有該名稱的內建模組。模組名稱列在 `sys.builtin_module_names` 當中。\n",
        "- 如果找不到，接下來會在變數 `sys.path` 所給定的資料夾清單之中，搜尋一個名為 `spam.py` 的檔案。`sys.path` 從這些位置開始進行初始化：\n",
        "    1. 輸入腳本所位在的資料夾（如未指定檔案時，則是當前資料夾）。\n",
        "    2. PYTHONPATH（一連串和 shell 變數 PATH 的語法相同的資料夾名稱）。\n",
        "    3. 與安裝相關的預設值（按慣例會包含一個 site-packages 資料夾，它是由 site 模組所處理）。\n",
        "\n",
        "備註: 在支援符號連結 (symlink) 的檔案系統中，輸入腳本的所在資料夾是在跟隨符號連結之後才被計算的。換言之，包含符號連結的資料夾並沒有增加到模組的搜尋路徑中。\n",
        "\n"
      ],
      "metadata": {
        "id": "etoaLxDB9Zx8"
      }
    },
    {
      "cell_type": "markdown",
      "source": [
        "補充(1): 輸入腳本所在的資料夾\n",
        "規則：如果你用 `python myscript.py` 執行，`sys.path[0]` 會是 `myscript.py` 所在的資料夾。\n",
        "\n",
        "```\n",
        "/home/jason/project/\n",
        " ├── myscript.py\n",
        " └── spam.py\n",
        "```\n",
        "\n",
        "```python\n",
        "# myscript.py\n",
        "import sys\n",
        "print(sys.path[0])  # 會印出 /home/jason/project\n",
        "import spam         # 會在 /home/jason/project 找 spam.py\n",
        "```\n",
        "\n",
        "這讓你可以在同資料夾放自訂模組，直接 import。"
      ],
      "metadata": {
        "id": "XoF2-KsahPEk"
      }
    },
    {
      "cell_type": "markdown",
      "source": [
        "補充(2): `PYTHONPATH` 環境變數\n",
        "\n",
        "規則：在執行 Python 前，如果設定了 `PYTHONPATH`，它會被拆成多個資料夾（用 : 分隔，Windows 用 ;），並加到 `sys.path` 前面。\n",
        "\n",
        "例子（Linux / macOS）：\n",
        "假設你有：\n",
        "```\n",
        "/opt/mylibs/spam.py\n",
        "```\n",
        "在終端機輸入：\n",
        "```\n",
        "export PYTHONPATH=/opt/mylibs:/another/path\n",
        "python myscript.py\n",
        "```\n",
        "在 myscript.py 中：\n",
        "```\n",
        "import sys\n",
        "print(sys.path)  # 前面會多出 ['/opt/mylibs', '/another/path', ...]\n",
        "import spam      # 會先在 /opt/mylibs 找 spam.py\n",
        "```\n",
        "\n",
        "用途：不用改安裝位置，就能暫時加入自訂模組路徑。"
      ],
      "metadata": {
        "id": "uDD-0ccWh27T"
      }
    },
    {
      "cell_type": "markdown",
      "source": [
        "補充(3): 與安裝相關的預設值（含 `site-packages`)\n",
        "\n",
        "規則：Python 安裝時會設定一些預設搜尋路徑，例如標準函式庫目錄、`site-packages`（pip 安裝套件的地方）。\n",
        "\n",
        "例子（Linux 系統常見路徑）：\n",
        "```python\n",
        "import sys\n",
        "for p in sys.path:\n",
        "    print(p)\n",
        "```\n",
        "可能會看到：\n",
        "```\n",
        "/usr/lib/python3.11\n",
        "/usr/lib/python3.11/lib-dynload\n",
        "/usr/local/lib/python3.11/dist-packages\n",
        "```\n",
        "如果你用 `pip install` requests，它會被放到 `site-packages`，所以：\n",
        "```python\n",
        "import requests  # 會在 site-packages 找到\n",
        "```\n",
        "\n",
        "重點：這是 Python 預設就有的搜尋範圍，確保標準庫與安裝套件可用"
      ],
      "metadata": {
        "id": "wp5WFajZI8aM"
      }
    },
    {
      "cell_type": "markdown",
      "source": [
        "總結流程（以 import spam 為例）\n",
        "\n",
        "1. 先找內建模組（`sys.builtin_module_names`）\n",
        "2. 再依序檢查 `sys.path`：\n",
        "    1. 腳本所在資料夾 / 當前目錄\n",
        "    2. `PYTHONPATH` 指定的資料夾\n",
        "    3. 安裝時的預設路徑（含 `site-packages`)\n"
      ],
      "metadata": {
        "id": "wBa-t3gDJnI3"
      }
    },
    {
      "cell_type": "markdown",
      "source": [
        "###6.1.3  “Compiled” Python files\n",
        "\n",
        "- 為了加快載入模組的速度，Python 將每個模組的編譯版本暫存在 `__pycache__` 資料夾下，並命名為 `module.version.pyc`， 這裡的 version 是編譯後的檔案的格式名稱，且名稱通常會包含 Python 的版本編號。\n",
        "    - 例如，在 CPython 3.3 中，spam.py 的編譯版本將被暫存為 `__pycache__/spam.cpython-33.pyc`。\n",
        "    - 此命名準則可以讓來自不同版本的編譯模組和 Python 的不同版本同時共存。\n",
        "\n",
        "- Python 根據原始碼最後修改的日期，檢查編譯版本是否過期而需要重新編譯。這是一個完全自動的過程。\n",
        "\n",
        "- 一些給專家的秘訣：\n",
        "    - 可以在 Python 指令上使用開關參數 (switch) `-O` 或 `-OO` 來減小已編譯模組的大小。\n",
        "        - 開關參數 `-O` 刪除 assert（斷言）陳述式\n",
        "        - `-OO` 同時刪除 assert 陳述式和 __doc__ 字串。\n",
        "        - 由於有些程式可能依賴於上述這些內容，因此只有在您知道自己在做什麼時，才應使用此參數。\n",
        "        - 「已優化」模組有 `opt-` 標記，且通常較小。未來的版本可能會改變優化的效果。\n",
        "    - 讀取 `.pyc` 檔案時，程式的執行速度並不會比讀取 `.py` 檔案快。唯一比較快的地方是載入的速度。\n",
        "    - 模組 `compileall` 可以為資料夾中的所有模組創建 `.pyc` 檔。"
      ],
      "metadata": {
        "id": "LpXVUP6pKERR"
      }
    },
    {
      "cell_type": "markdown",
      "source": [
        "補充(1):\n",
        "```python\n",
        "# spam.py\n",
        "def check(x):\n",
        "    \"\"\"這是檢查函式\"\"\"\n",
        "    assert x > 0, \"x 必須大於 0\"\n",
        "    return x * 2\n",
        "```\n",
        "執行以下指令來編譯並優化：\n",
        "```\n",
        "python -O spam.py\n",
        "```\n",
        "產生的檔案會是：\n",
        "```\n",
        "__pycache__/spam.cpython-311.opt-1.pyc\n",
        "```\n",
        "再執行：\n",
        "```\n",
        "python -OO spam.py\n",
        "```\n",
        "產生的檔案會是：\n",
        "```\n",
        "__pycache__/spam.cpython-311.opt-2.pyc\n",
        "```\n",
        "\n",
        "- 如果你的程式依賴 assert 來做錯誤檢查，或使用 __doc__ 來產生文件，這些優化會讓功能失效。\n",
        "- 適合用在部署時，確定程式邏輯已穩定。\n",
        "\n"
      ],
      "metadata": {
        "id": "xC2J5ZM0Z1DQ"
      }
    },
    {
      "cell_type": "markdown",
      "source": [
        "補充(2): `.pyc` 檔案載入速度較快，但執行速度不\n",
        "\n",
        "- `.pyc` 是 Python 編譯後的位元碼（bytecode）\n",
        "- 載入 `.pyc` 比 `.py` 快，因為省略了解析與編譯步驟。\n",
        "- 但執行速度（邏輯運算、函式呼叫等）是相同的。\n",
        "\n",
        "```python\n",
        "# hello.py\n",
        "print(\"Hello, world!\")\n",
        "```\n",
        "第一次執行：\n",
        "```\n",
        "python hello.py\n",
        "```\n",
        "會自動產生：\n",
        "```\n",
        "__pycache__/hello.cpython-311.pyc\n",
        "```\n",
        "第二次執行：\n",
        "```\n",
        "python hello.py\n",
        "```\n",
        "Python 會直接載入 `.pyc`，略過語法解析，載入速度快一點，但 `print(\"Hello, world!\")` 的執行時間不會變快。\n",
        "\n",
        "\n"
      ],
      "metadata": {
        "id": "AFvqNJrsbK_O"
      }
    },
    {
      "cell_type": "markdown",
      "source": [
        "##6.2. Standard Modules\n",
        "\n",
        "- 變數 `sys.path` 是一個字串 list，它決定直譯器的模組搜尋路徑。\n",
        "    - 它的初始值為環境變數 `PYTHONPATH` 中提取的預設路徑，或是當 `PYTHONPATH` 未設定時，從內建預設值提取。你可以用標準的 list 操作修改該變數：\n",
        "    ```python\n",
        "    import sys\n",
        "    sys.path.append('/ufs/guido/lib/python')\n",
        "    ```"
      ],
      "metadata": {
        "id": "sBT-2tM5btGH"
      }
    },
    {
      "cell_type": "markdown",
      "source": [
        "##6.3 The dir() Function\n",
        "\n",
        "- 內建函式 `dir()` 用於找出模組定義的所有名稱。它回傳一個排序後的字串 list：\n",
        "```python\n",
        ">>> import fibo, sys\n",
        ">>> dir(fibo)\n",
        "['__name__', 'fib', 'fib2']\n",
        ">>> dir(sys)  \n",
        "['__breakpointhook__', '__displayhook__', '__doc__', '__excepthook__',\n",
        " '__interactivehook__', '__loader__', '__name__', '__package__', '__spec__',\n",
        " '__stderr__', '__stdin__', '__stdout__', '__unraisablehook__',\n",
        " '_clear_type_cache', '_current_frames', '_debugmallocstats', '_framework',\n",
        " '_getframe', '_git', '_home', '_xoptions', 'abiflags', 'addaudithook',\n",
        " 'api_version', 'argv', 'audit', 'base_exec_prefix', 'base_prefix',\n",
        " 'breakpointhook', 'builtin_module_names', 'byteorder', 'call_tracing',\n",
        " 'callstats', 'copyright', 'displayhook', 'dont_write_bytecode', 'exc_info',\n",
        " 'excepthook', 'exec_prefix', 'executable', 'exit', 'flags', 'float_info',\n",
        " 'float_repr_style', 'get_asyncgen_hooks', 'get_coroutine_origin_tracking_depth',\n",
        " 'getallocatedblocks', 'getdefaultencoding', 'getdlopenflags',\n",
        " 'getfilesystemencodeerrors', 'getfilesystemencoding', 'getprofile',\n",
        " 'getrecursionlimit', 'getrefcount', 'getsizeof', 'getswitchinterval',\n",
        " 'gettrace', 'hash_info', 'hexversion', 'implementation', 'int_info',\n",
        " 'intern', 'is_finalizing', 'last_traceback', 'last_type', 'last_value',\n",
        " 'maxsize', 'maxunicode', 'meta_path', 'modules', 'path', 'path_hooks',\n",
        " 'path_importer_cache', 'platform', 'prefix', 'ps1', 'ps2', 'pycache_prefix',\n",
        " 'set_asyncgen_hooks', 'set_coroutine_origin_tracking_depth', 'setdlopenflags',\n",
        " 'setprofile', 'setrecursionlimit', 'setswitchinterval', 'settrace', 'stderr',\n",
        " 'stdin', 'stdout', 'thread_info', 'unraisablehook', 'version', 'version_info',\n",
        " 'warnoptions']\n",
        "```\n",
        "\n",
        "- 沒有給引數時，`dir()` 列出目前已定義的名稱：\n",
        "```python\n",
        ">>> a = [1, 2, 3, 4, 5]\n",
        ">>> import fibo\n",
        ">>> fib = fibo.fib\n",
        ">>> dir()\n",
        "['__builtins__', '__name__', 'a', 'fib', 'fibo', 'sys']\n",
        "```\n",
        "\n",
        "- 請注意，它列出所有類型的名稱：變數、模組、函式等。`dir()` 不會列出內建函式和變數的名稱。如果你想要列出它們，它們被定義在標準模組 `builtins` 內：\n",
        "```python\n",
        ">>> import builtins\n",
        ">>> dir(builtins)  \n",
        "['ArithmeticError', 'AssertionError', 'AttributeError', 'BaseException',\n",
        " 'BlockingIOError', 'BrokenPipeError', 'BufferError', 'BytesWarning',\n",
        " 'ChildProcessError', 'ConnectionAbortedError', 'ConnectionError',\n",
        " 'ConnectionRefusedError', 'ConnectionResetError', 'DeprecationWarning',\n",
        " 'EOFError', 'Ellipsis', 'EnvironmentError', 'Exception', 'False',\n",
        " 'FileExistsError', 'FileNotFoundError', 'FloatingPointError',\n",
        " 'FutureWarning', 'GeneratorExit', 'IOError', 'ImportError',\n",
        " 'ImportWarning', 'IndentationError', 'IndexError', 'InterruptedError',\n",
        " 'IsADirectoryError', 'KeyError', 'KeyboardInterrupt', 'LookupError',\n",
        " 'MemoryError', 'NameError', 'None', 'NotADirectoryError', 'NotImplemented',\n",
        " 'NotImplementedError', 'OSError', 'OverflowError',\n",
        " 'PendingDeprecationWarning', 'PermissionError', 'ProcessLookupError',\n",
        " 'ReferenceError', 'ResourceWarning', 'RuntimeError', 'RuntimeWarning',\n",
        " 'StopIteration', 'SyntaxError', 'SyntaxWarning', 'SystemError',\n",
        " 'SystemExit', 'TabError', 'TimeoutError', 'True', 'TypeError',\n",
        " 'UnboundLocalError', 'UnicodeDecodeError', 'UnicodeEncodeError',\n",
        " 'UnicodeError', 'UnicodeTranslateError', 'UnicodeWarning', 'UserWarning',\n",
        " 'ValueError', 'Warning', 'ZeroDivisionError', '_', '__build_class__',\n",
        " '__debug__', '__doc__', '__import__', '__name__', '__package__', 'abs',\n",
        " 'all', 'any', 'ascii', 'bin', 'bool', 'bytearray', 'bytes', 'callable',\n",
        " 'chr', 'classmethod', 'compile', 'complex', 'copyright', 'credits',\n",
        " 'delattr', 'dict', 'dir', 'divmod', 'enumerate', 'eval', 'exec', 'exit',\n",
        " 'filter', 'float', 'format', 'frozenset', 'getattr', 'globals', 'hasattr',\n",
        " 'hash', 'help', 'hex', 'id', 'input', 'int', 'isinstance', 'issubclass',\n",
        " 'iter', 'len', 'license', 'list', 'locals', 'map', 'max', 'memoryview',\n",
        " 'min', 'next', 'object', 'oct', 'open', 'ord', 'pow', 'print', 'property',\n",
        " 'quit', 'range', 'repr', 'reversed', 'round', 'set', 'setattr', 'slice',\n",
        " 'sorted', 'staticmethod', 'str', 'sum', 'super', 'tuple', 'type', 'vars',\n",
        " 'zip']\n",
        "```"
      ],
      "metadata": {
        "id": "JIaCjRU5iiKm"
      }
    },
    {
      "cell_type": "markdown",
      "source": [
        "##6.4. Packages\n",
        "- 套件是一種使用「點分隔模組名稱」組織 Python 模組命名空間的方法。\n",
        "    - 例如，模組名稱 `A.B` 表示套件 A 中名為 B 的子模組。\n",
        "\n",
        "- 假設你想設計一個能統一處理音訊檔案及音訊數據的模組集（「套件」）。以下是你的套件可能的架構:\n",
        "```\n",
        "sound/                  Top-level package\n",
        "    __init__.py         Initialize the sound package\n",
        "    formats/            Subpackage for file format conversions\n",
        "        __init__.py\n",
        "        wavread.py\n",
        "        wavwrite.py\n",
        "        aiffread.py\n",
        "        aiffwrite.py\n",
        "        auread.py\n",
        "        auwrite.py\n",
        "        ...\n",
        "    effects/            Subpackage for sound effects\n",
        "        __init__.py\n",
        "        echo.py\n",
        "        surround.py\n",
        "        reverse.py\n",
        "        ...\n",
        "    filters/            Subpackage for filters\n",
        "        __init__.py\n",
        "        equalizer.py\n",
        "        vocoder.py\n",
        "        karaoke.py\n",
        "        ...\n",
        "```\n",
        "\n",
        "- Import 套件時，Python 會搜尋 `sys.path` 裡的目錄，尋找套件的子目錄。\n",
        "- 必须要有 `__init__.py` 文件才能让 Python 将包含该文件的目录当作 Package 来处理。      \n",
        "    - 这可以防止具有通用名称的目录如 string 在无意中屏蔽后续出现在模块搜索路径中的有效模块。\n",
        "    - 在最简单的情况下，__init__.py 可以只是一个空文件，但它也可以执行 Package 的初始化代码或设置 `__all__` 变量，这将在后面详细描述。\n",
        "\n",
        "1. 需要 `__init__.py` 才能讓資料夾被視為 Package\n",
        "\n",
        "    範例目錄結構:\n",
        "    ```\n",
        "    myproject/\n",
        "    ├── tools/\n",
        "    │    ├── __init__.py\n",
        "    │    └── string_utils.py\n",
        "    └── main.py\n",
        "    ```\n",
        "    - `tools` 資料夾因為有 `__init__.py`，所以 Python 會把它視為一個「Package」。\n",
        "    - 在 `main.py` 中你就可以這樣寫:\n",
        "    ```python\n",
        "    from tools import string_utils\n",
        "    ```\n",
        "    - 如果沒有 `__init__.py`\n",
        "        - Python 可能不會把 `tools` 當作可匯入的 Package\n",
        "        - 在某些環境下會出現 `ModuleNotFoundError`\n",
        "\n",
        "2. 防止通用名稱（如 `string`）遮蔽標準 module\n",
        "    \n",
        "    假設情境：\n",
        "    你建立了一個資料夾叫 string/，裡面放了自訂模組\n",
        "    ```\n",
        "    myproject/\n",
        "    ├── string/\n",
        "    │    ├── __init__.py\n",
        "    │    └── formatter.py\n",
        "    └── main.py\n",
        "    ```\n",
        "    - Python 有一個標準模組叫 `string`。如果你沒有 `__init__.py`，Python 可能會誤認你的 string/ 資料夾為標準模組，導致匯入錯誤或行為異常。\n",
        "    - 解法:\n",
        "        - 加上 `__init__.py`，明確告訴 Python：這是我自訂的 Package，不是標準模組。\n",
        "        - - 這樣 Python 會依照 `sys.path` 的順序正確解析。\n",
        "\n",
        "3. `__init__.py` 可以是空的，也可以執行初始化邏輯\n",
        "\n",
        "    空檔案範例\n",
        "    ```\n",
        "    touch tools/__init__.py\n",
        "    ```\n",
        "    這樣就足夠讓 `tools` 成為 Package。\n",
        "\n",
        "    有邏輯的範例\n",
        "    ```python\n",
        "    # tools/__init__.py\n",
        "    print(\"tools package loaded\")\n",
        "\n",
        "    __all__ = [\"string_utils\"]\n",
        "    ```\n",
        "    - 當你匯入 tools 時會執行這段程式\n",
        "    - `__all__`：定義 `from tools import *` 時，哪些模組會被匯入。\n",
        "\n",
        "\n",
        "\n",
        "\n",
        "\n",
        "\n",
        "\n",
        "\n",
        "\n",
        "\n",
        "\n",
        "\n",
        "\n",
        "\n",
        "\n"
      ],
      "metadata": {
        "id": "0WIbUpEMjkIY"
      }
    },
    {
      "cell_type": "code",
      "source": [
        "# 可以從套件中 import 個別模組，例如：\n",
        "import sound.effects.echo\n",
        "# 引用時必須用它的全名\n",
        "sound.effects.echo.echofilter(input, output, delay=0.7, atten=4)\n",
        "\n",
        "# 另一種 import 子模組的方法是：\n",
        "from sound.effects import echo\n",
        "# 不加套件前綴也可以使用，能以如下方式使用：\n",
        "echo.echofilter(input, output, delay=0.7, atten=4)\n",
        "\n",
        "# 另一種變化是直接 import 所需的函式或變數：\n",
        "from sound.effects.echo import echofilter\n",
        "# echofilter() 就可以直接使用：\n",
        "echofilter(input, output, delay=0.7, atten=4)"
      ],
      "metadata": {
        "id": "pwdUmAzRJ-AZ"
      },
      "execution_count": null,
      "outputs": []
    },
    {
      "cell_type": "markdown",
      "source": [
        "- 注意，使用 `from package import item` 時，\n",
        "    - item 可以是套件的子模組（或子套件），也可以是套件中被定義的名稱，像是函式、class （類別）或變數。\n",
        "    - import 陳述式首先測試套件中有沒有定義該 item；如果沒有，則會假設它是模組，並嘗試載入。如果還是找不到 item，則會引發 `ImportError` 例外。\n",
        "\n",
        "- 相反地，使用 `import item.subitem.subsubitem` 語法時，除了最後一項之外，每一項都必須是套件；最後一項可以是模組或套件，但不能是前一項中定義的 class、函式或變數。\n",
        "\n",
        "範例如下:\n",
        "\n",
        "1. `from package import item`\n",
        "\n",
        "item 可以是\n",
        "- 子模組或子套件\n",
        "- 套件中定義的函式、類別、變數\n",
        "```\n",
        "myproject/\n",
        " ├── mathutils/\n",
        " │    ├── __init__.py\n",
        " │    ├── geometry.py\n",
        " │    └── constants.py\n",
        " └── main.py\n",
        " ```\n",
        " `mathutils/__init__.py`\n",
        " ```python\n",
        "PI = 3.14159\n",
        "\n",
        "def greet():\n",
        "    print(\"Welcome to mathutils!\")\n",
        " ```\n",
        " `main.py`\n",
        " ```python\n",
        "# 匯入套件中定義的變數與函式\n",
        "from mathutils import PI, greet\n",
        "\n",
        "# 匯入子模組\n",
        "from mathutils import geometry\n",
        "\n",
        "# 使用匯入的項目\n",
        "print(PI)         # 3.14159\n",
        "greet()           # Welcome to mathutils!\n",
        "geometry.area(...)  # 假設 geometry.py 中有 area 函式\n",
        " ```\n",
        "\n",
        "- Python 的處理順序:\n",
        "    1. 先檢查 `mathutils.__init__.py` 中是否定義了 `PI、greet`\n",
        "    2. 如果找不到，再檢查 `mathutils/PI.py` 或 `mathutils/greet.py` 是否存在\n",
        "    3. 如果都找不到，就丟出 `ImportError`\n",
        "\n",
        "\n",
        "2. `import item.subitem.subsubitem`\n",
        "\n",
        "- 限制\n",
        "    - 除了最後一項之外，每一層都必須是套件（即資料夾 + `__init__.py`)\n",
        "    - 最後一項可以是模組或套件，但不能是函式、類別或變數\n",
        "\n",
        "範例目錄結構\n",
        "```\n",
        "myproject/\n",
        " ├── mathutils/\n",
        " │    ├── __init__.py\n",
        " │    ├── geometry/\n",
        " │    │    ├── __init__.py\n",
        " │    │    └── area.py\n",
        " └── main.py\n",
        "```\n",
        "\n",
        "`main.py`\n",
        "```python\n",
        "# ✅ 合法：每層都是套件，最後是模組\n",
        "import mathutils.geometry.area\n",
        "\n",
        "# ❌ 非法：不能匯入函式作為中間層\n",
        "import mathutils.greet.message  # 假設 greet 是函式，message 是它的屬性 → 會錯\n",
        "```\n",
        "\n",
        "- 錯誤範例解析\n",
        "    - 假設你在 `mathutils/__init__.py` 中定義了\n",
        "    ```python\n",
        "    def greet():\n",
        "        class Message:\n",
        "            pass\n",
        "    ```\n",
        "    你不能這樣寫\n",
        "    ```python\n",
        "    import mathutils.greet.Message  # ❌ greet 是函式，不是套件\n",
        "    ```\n",
        "    Python 會嘗試在 `mathutils/greet/Message.py` 找檔案，但 `greet` 是函式，不是資料夾 → 引發 `ModuleNotFoundError`\n",
        "\n",
        "\n",
        "\n",
        "\n",
        "\n",
        "\n",
        "\n",
        "\n"
      ],
      "metadata": {
        "id": "JiL6S5RQZ520"
      }
    },
    {
      "cell_type": "markdown",
      "source": [
        "###6.4.1 Importing * From a Package\n",
        "- 當使用者寫下 `from sound.effects import *` 時，會發生什麼事？\n",
        "    - 理想情況下，我們可能希望程式碼會去檔案系統，尋找套件中存在的子模組，並將它們全部 import。\n",
        "    - 這會花費較長的時間，且 import 子模組的過程可能會有不必要的副作用，這些副作用只有在明確地 import 子模組時才會發生。\n",
        "    - 唯一的解法是由套件作者為套件提供明確的索引。\n",
        "        - `import` 陳述式使用以下慣例：如果套件的 `__init__.py` 程式碼有定義一個名為 `__all__` 的 list，若遇到 `from package import *` 的時候，它就會是要被 import 的模組名稱。\n",
        "        - 發布套件的新版本時，套件作者可自行決定是否更新此 list。如果套件作者認為沒有人會從他的套件中 `import *`，他也可能會決定不支援這個 list。舉例來說，`sound/effects/__init__.py` 檔案可包含以下程式碼：\n",
        "        ```python\n",
        "        __all__ = [\"echo\", \"surround\", \"reverse\"]\n",
        "        ```\n",
        "        - 意思是，`from sound.effects import *` 將會 import sound.effects 套件中，這三個被提名的子模組。\n",
        "        - 如果 `__all__` 沒有被定義，`from sound.effects import *` 陳述式   *並不會*   把 sound.effects 套件中所有子模組都 import 到當前的命名空間；它只保證 sound.effects 套件有被 import（可能會運行 `__init__.py` 中的初始化程式碼），然後 import 套件中被定義的全部名稱。這包含 `__init__.py` 定義（以及被明確載入的子模組）的任何名稱。它也包括任何之前被 import 陳述式明確載入的套件子模組。請看以下程式碼：\n",
        "        ```python\n",
        "        import sound.effects.echo\n",
        "        import sound.effects.surround\n",
        "        from sound.effects import *\n",
        "        ```\n",
        "        此例中，當 `from...import` 陳述式被執行時，`echo` 和 `surround` 模組被 import 進當前的命名空間，因為它們是在 sound.effects 套件裡定義的。（當 `__all__` 有被定義時，這規則也有效。）\n",
        "\n",
        "- 雖然，有些特定模組的設計，讓你使用 `import *` 時，該模組只會輸出遵循特定樣式的名稱，但 *在正式環境 (production) 的程式碼中這仍然被視為是不良習慣* 。\n",
        "\n",
        "- 記住，使用 `from package import specific_submodule` 不會有任何問題！實際上，這是推薦用法，除非 import 的模組需要用到的子模組和其他套件的子模組同名。"
      ],
      "metadata": {
        "id": "DSFkov1EK90k"
      }
    },
    {
      "cell_type": "markdown",
      "source": [
        "###6.4.2 套件內引用 (Intra-package References)\n",
        "\n",
        "- 當套件的結構為多個子套件的組合時（如同範例中的 sound 套件），可以使用「絕對 (absolute) import」，引用同層套件中的子模組。\n",
        "    - 例如，要在 `sound.filters.vocoder` 模組中使用 `sound.effects` 中的 `echo` 模組時，可以用 `from sound.effects import echo`。\n",
        "\n",
        "- 你也可以用 `from module import name` 的 import 陳述式，編寫「相對 (relative) import」。這些 import 使用前導句號指示相對 import 中的當前套件和母套件。\n",
        "    - 例如，在 `surround` 模組中，你可以使用：\n",
        "    ```python\n",
        "    from . import echo\n",
        "    from .. import formats\n",
        "    from ..filters import equalizer\n",
        "    ```\n",
        "    - 請注意，相對 import 的運作是以目前的模組名稱為依據。因為主模組的名稱永遠是 `\"__main__\"`，所以如果一個模組預期被用作 Python 應用程式的主模組，那它必須永遠使用絕對 import。"
      ],
      "metadata": {
        "id": "Fcxo4Q9Nn1CR"
      }
    }
  ]
}