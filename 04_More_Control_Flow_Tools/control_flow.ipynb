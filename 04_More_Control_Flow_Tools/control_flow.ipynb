{
  "nbformat": 4,
  "nbformat_minor": 0,
  "metadata": {
    "colab": {
      "provenance": [],
      "toc_visible": true,
      "authorship_tag": "ABX9TyMGVx+dNvlyUNr76rDTOslW"
    },
    "kernelspec": {
      "name": "python3",
      "display_name": "Python 3"
    },
    "language_info": {
      "name": "python"
    }
  },
  "cells": [
    {
      "cell_type": "markdown",
      "source": [
        "##4.2 For Statements"
      ],
      "metadata": {
        "id": "T9yqd45MYKG2"
      }
    },
    {
      "cell_type": "code",
      "source": [
        "words = ['cat', 'window', 'defenestrate']\n",
        "for w in words:\n",
        "    print(w, len(w))"
      ],
      "metadata": {
        "colab": {
          "base_uri": "https://localhost:8080/"
        },
        "id": "QUYkjVcHYOMf",
        "outputId": "9eb69cde-916e-4877-8791-857743634e0d"
      },
      "execution_count": 1,
      "outputs": [
        {
          "output_type": "stream",
          "name": "stdout",
          "text": [
            "cat 3\n",
            "window 6\n",
            "defenestrate 12\n"
          ]
        }
      ]
    },
    {
      "cell_type": "markdown",
      "source": [
        "在疊代一個集合的同時修改該集合的內容，很難獲取想要的結果。比較直觀的替代方式，是疊代該集合的副本，或建立一個新的集合："
      ],
      "metadata": {
        "id": "SoIjxQzaYic5"
      }
    },
    {
      "cell_type": "code",
      "source": [
        "# Create a sample collection\n",
        "users = {'Sherry': 'active', 'Jason': 'inactive', 'Ruth': 'active'}\n",
        "print(users.keys())\n",
        "print(users.items())"
      ],
      "metadata": {
        "colab": {
          "base_uri": "https://localhost:8080/"
        },
        "id": "40ZnVhs3YbmE",
        "outputId": "66e0e6a3-fa85-42be-cc99-550754311e18"
      },
      "execution_count": 2,
      "outputs": [
        {
          "output_type": "stream",
          "name": "stdout",
          "text": [
            "dict_keys(['Sherry', 'Jason', 'Ruth'])\n",
            "dict_items([('Sherry', 'active'), ('Jason', 'inactive'), ('Ruth', 'active')])\n"
          ]
        }
      ]
    },
    {
      "cell_type": "code",
      "source": [
        "for name, status in users.items():\n",
        "  if status == 'inactive':\n",
        "    del users[name]\n",
        "\n",
        "print(users)"
      ],
      "metadata": {
        "colab": {
          "base_uri": "https://localhost:8080/",
          "height": 211
        },
        "id": "AobFvrqObSY1",
        "outputId": "e28cfce3-1d2c-4245-ef72-1a1814228887"
      },
      "execution_count": 3,
      "outputs": [
        {
          "output_type": "error",
          "ename": "RuntimeError",
          "evalue": "dictionary changed size during iteration",
          "traceback": [
            "\u001b[0;31m---------------------------------------------------------------------------\u001b[0m",
            "\u001b[0;31mRuntimeError\u001b[0m                              Traceback (most recent call last)",
            "\u001b[0;32m/tmp/ipython-input-2848007862.py\u001b[0m in \u001b[0;36m<cell line: 0>\u001b[0;34m()\u001b[0m\n\u001b[0;32m----> 1\u001b[0;31m \u001b[0;32mfor\u001b[0m \u001b[0mname\u001b[0m\u001b[0;34m,\u001b[0m \u001b[0mstatus\u001b[0m \u001b[0;32min\u001b[0m \u001b[0musers\u001b[0m\u001b[0;34m.\u001b[0m\u001b[0mitems\u001b[0m\u001b[0;34m(\u001b[0m\u001b[0;34m)\u001b[0m\u001b[0;34m:\u001b[0m\u001b[0;34m\u001b[0m\u001b[0;34m\u001b[0m\u001b[0m\n\u001b[0m\u001b[1;32m      2\u001b[0m   \u001b[0;32mif\u001b[0m \u001b[0mstatus\u001b[0m \u001b[0;34m==\u001b[0m \u001b[0;34m'inactive'\u001b[0m\u001b[0;34m:\u001b[0m\u001b[0;34m\u001b[0m\u001b[0;34m\u001b[0m\u001b[0m\n\u001b[1;32m      3\u001b[0m     \u001b[0;32mdel\u001b[0m \u001b[0musers\u001b[0m\u001b[0;34m[\u001b[0m\u001b[0mname\u001b[0m\u001b[0;34m]\u001b[0m\u001b[0;34m\u001b[0m\u001b[0;34m\u001b[0m\u001b[0m\n\u001b[1;32m      4\u001b[0m \u001b[0;34m\u001b[0m\u001b[0m\n\u001b[1;32m      5\u001b[0m \u001b[0mprint\u001b[0m\u001b[0;34m(\u001b[0m\u001b[0musers\u001b[0m\u001b[0;34m)\u001b[0m\u001b[0;34m\u001b[0m\u001b[0;34m\u001b[0m\u001b[0m\n",
            "\u001b[0;31mRuntimeError\u001b[0m: dictionary changed size during iteration"
          ]
        }
      ]
    },
    {
      "cell_type": "code",
      "source": [
        "# Strategy(1): iterate over a copy\n",
        "for name, status in users.copy().items():\n",
        "  if status == 'inactive':\n",
        "    del users[name]\n",
        "\n",
        "print(users)"
      ],
      "metadata": {
        "colab": {
          "base_uri": "https://localhost:8080/"
        },
        "id": "i3En40-vZMS5",
        "outputId": "7e8d7e45-865b-44b9-bd65-1e41d0d796a2"
      },
      "execution_count": 4,
      "outputs": [
        {
          "output_type": "stream",
          "name": "stdout",
          "text": [
            "{'Sherry': 'active', 'Ruth': 'active'}\n"
          ]
        }
      ]
    },
    {
      "cell_type": "code",
      "source": [
        "users = {'Sherry': 'active', 'Jason': 'inactive', 'Ruth': 'active'}\n",
        "\n",
        "# Strategy(2): Create a new collection\n",
        "active_users = {}\n",
        "for name, status in users.items():\n",
        "  if status == 'active':\n",
        "    active_users[name] = status\n",
        "\n",
        "print(active_users)"
      ],
      "metadata": {
        "colab": {
          "base_uri": "https://localhost:8080/"
        },
        "id": "8VfadqMUax-o",
        "outputId": "289a69be-76f5-41e3-bf9c-5064c1fbf519"
      },
      "execution_count": 5,
      "outputs": [
        {
          "output_type": "stream",
          "name": "stdout",
          "text": [
            "{'Sherry': 'active', 'Ruth': 'active'}\n"
          ]
        }
      ]
    },
    {
      "cell_type": "markdown",
      "source": [
        "##4.3 range() function\n",
        "在很多情況下，由 range() 回傳的物件表現得像是一個 list（串列）一樣，但實際上它並不是。它是一個在疊代時能夠回傳所要求的序列中所有項目的物件，但它不會真正建出這個序列的 list，以節省空間。\n",
        "我們稱這樣的物件為 iterable（可疊代物件），意即能作為函式及架構中可以一直獲取項目直到取盡的對象。"
      ],
      "metadata": {
        "id": "71EB5Z-YmDL1"
      }
    },
    {
      "cell_type": "code",
      "source": [
        "for i in range(5):\n",
        "  print(i)"
      ],
      "metadata": {
        "colab": {
          "base_uri": "https://localhost:8080/"
        },
        "id": "xwQkBKdDb9O_",
        "outputId": "72af1f4d-bdd5-49c5-801f-4bb513f9dc27"
      },
      "execution_count": 6,
      "outputs": [
        {
          "output_type": "stream",
          "name": "stdout",
          "text": [
            "0\n",
            "1\n",
            "2\n",
            "3\n",
            "4\n"
          ]
        }
      ]
    },
    {
      "cell_type": "code",
      "source": [
        "list(range(5, 10))"
      ],
      "metadata": {
        "colab": {
          "base_uri": "https://localhost:8080/"
        },
        "id": "xnraVXAamM0H",
        "outputId": "c319d43a-d4bc-4dc5-d7e9-3ff5a84a1fd2"
      },
      "execution_count": 7,
      "outputs": [
        {
          "output_type": "execute_result",
          "data": {
            "text/plain": [
              "[5, 6, 7, 8, 9]"
            ]
          },
          "metadata": {},
          "execution_count": 7
        }
      ]
    },
    {
      "cell_type": "code",
      "source": [
        "list(range(0, 10, 3))"
      ],
      "metadata": {
        "colab": {
          "base_uri": "https://localhost:8080/"
        },
        "id": "Jojxr4L9mT04",
        "outputId": "317f1977-0d84-4c9d-a57e-f420ad6a3c48"
      },
      "execution_count": 8,
      "outputs": [
        {
          "output_type": "execute_result",
          "data": {
            "text/plain": [
              "[0, 3, 6, 9]"
            ]
          },
          "metadata": {},
          "execution_count": 8
        }
      ]
    },
    {
      "cell_type": "code",
      "source": [
        "list(range(-10, -100, -20))"
      ],
      "metadata": {
        "colab": {
          "base_uri": "https://localhost:8080/"
        },
        "id": "LA2mHRhAmdBc",
        "outputId": "7e6439bb-92d8-4fcb-e453-30260003174c"
      },
      "execution_count": 9,
      "outputs": [
        {
          "output_type": "execute_result",
          "data": {
            "text/plain": [
              "[-10, -30, -50, -70, -90]"
            ]
          },
          "metadata": {},
          "execution_count": 9
        }
      ]
    },
    {
      "cell_type": "markdown",
      "source": [
        "##4.6 match statements"
      ],
      "metadata": {
        "id": "XW1jnyWwonFy"
      }
    },
    {
      "cell_type": "code",
      "source": [
        "def http_error(status):\n",
        "    match status:\n",
        "        case 400:\n",
        "            return \"Bad request\"\n",
        "        case 404:\n",
        "            return \"Not found\"\n",
        "        case 418 | 518:\n",
        "            return \"I'm a teapot\"\n",
        "        case _:\n",
        "            return \"Something's wrong with the internet\""
      ],
      "metadata": {
        "id": "g7bfRCa5mluj"
      },
      "execution_count": 10,
      "outputs": []
    },
    {
      "cell_type": "code",
      "source": [
        "http_error(520)"
      ],
      "metadata": {
        "colab": {
          "base_uri": "https://localhost:8080/",
          "height": 35
        },
        "id": "Im_T8Devq8zg",
        "outputId": "9cf254ad-8105-4068-9127-52c8055d65f7"
      },
      "execution_count": 11,
      "outputs": [
        {
          "output_type": "execute_result",
          "data": {
            "text/plain": [
              "\"Something's wrong with the internet\""
            ],
            "application/vnd.google.colaboratory.intrinsic+json": {
              "type": "string"
            }
          },
          "metadata": {},
          "execution_count": 11
        }
      ]
    },
    {
      "cell_type": "code",
      "source": [
        "#point is an (x, y) tuple\n",
        "def test_point(point):\n",
        "  match point:\n",
        "    case (0, 0):\n",
        "        print(\"Origin\")\n",
        "    case (0, y):\n",
        "        print(f\"Y={y}\")\n",
        "    case (x, 0):\n",
        "        print(f\"X={x}\")\n",
        "    case (x, y):\n",
        "        print(f\"X={x}, Y={y}\")\n",
        "    case _:\n",
        "        raise ValueError(\"Not a point\")"
      ],
      "metadata": {
        "id": "E6cfvq4dq-xc"
      },
      "execution_count": 12,
      "outputs": []
    },
    {
      "cell_type": "code",
      "source": [
        "test_point((0, 0))\n",
        "test_point((5, 0))\n",
        "test_point((1, 3))\n",
        "test_point((2))"
      ],
      "metadata": {
        "colab": {
          "base_uri": "https://localhost:8080/",
          "height": 315
        },
        "id": "xQ_Zx_ANrv5G",
        "outputId": "bf7ee9e0-634e-4d40-d89c-b48873886c05"
      },
      "execution_count": 13,
      "outputs": [
        {
          "output_type": "stream",
          "name": "stdout",
          "text": [
            "Origin\n",
            "X=5\n",
            "X=1, Y=3\n"
          ]
        },
        {
          "output_type": "error",
          "ename": "ValueError",
          "evalue": "Not a point",
          "traceback": [
            "\u001b[0;31m---------------------------------------------------------------------------\u001b[0m",
            "\u001b[0;31mValueError\u001b[0m                                Traceback (most recent call last)",
            "\u001b[0;32m/tmp/ipython-input-512387937.py\u001b[0m in \u001b[0;36m<cell line: 0>\u001b[0;34m()\u001b[0m\n\u001b[1;32m      2\u001b[0m \u001b[0mtest_point\u001b[0m\u001b[0;34m(\u001b[0m\u001b[0;34m(\u001b[0m\u001b[0;36m5\u001b[0m\u001b[0;34m,\u001b[0m \u001b[0;36m0\u001b[0m\u001b[0;34m)\u001b[0m\u001b[0;34m)\u001b[0m\u001b[0;34m\u001b[0m\u001b[0;34m\u001b[0m\u001b[0m\n\u001b[1;32m      3\u001b[0m \u001b[0mtest_point\u001b[0m\u001b[0;34m(\u001b[0m\u001b[0;34m(\u001b[0m\u001b[0;36m1\u001b[0m\u001b[0;34m,\u001b[0m \u001b[0;36m3\u001b[0m\u001b[0;34m)\u001b[0m\u001b[0;34m)\u001b[0m\u001b[0;34m\u001b[0m\u001b[0;34m\u001b[0m\u001b[0m\n\u001b[0;32m----> 4\u001b[0;31m \u001b[0mtest_point\u001b[0m\u001b[0;34m(\u001b[0m\u001b[0;34m(\u001b[0m\u001b[0;36m2\u001b[0m\u001b[0;34m)\u001b[0m\u001b[0;34m)\u001b[0m\u001b[0;34m\u001b[0m\u001b[0;34m\u001b[0m\u001b[0m\n\u001b[0m",
            "\u001b[0;32m/tmp/ipython-input-2396613868.py\u001b[0m in \u001b[0;36mtest_point\u001b[0;34m(point)\u001b[0m\n\u001b[1;32m     11\u001b[0m         \u001b[0mprint\u001b[0m\u001b[0;34m(\u001b[0m\u001b[0;34mf\"X={x}, Y={y}\"\u001b[0m\u001b[0;34m)\u001b[0m\u001b[0;34m\u001b[0m\u001b[0;34m\u001b[0m\u001b[0m\n\u001b[1;32m     12\u001b[0m     \u001b[0mcase\u001b[0m \u001b[0m_\u001b[0m\u001b[0;34m:\u001b[0m\u001b[0;34m\u001b[0m\u001b[0;34m\u001b[0m\u001b[0m\n\u001b[0;32m---> 13\u001b[0;31m         \u001b[0;32mraise\u001b[0m \u001b[0mValueError\u001b[0m\u001b[0;34m(\u001b[0m\u001b[0;34m\"Not a point\"\u001b[0m\u001b[0;34m)\u001b[0m\u001b[0;34m\u001b[0m\u001b[0;34m\u001b[0m\u001b[0m\n\u001b[0m",
            "\u001b[0;31mValueError\u001b[0m: Not a point"
          ]
        }
      ]
    },
    {
      "cell_type": "code",
      "source": [
        "from dataclasses import dataclass\n",
        "\n",
        "@dataclass\n",
        "class Point:\n",
        "    x: int\n",
        "    y: int\n",
        "\n",
        "def where_is(point):\n",
        "    match point:\n",
        "        case Point(x=0, y=0):\n",
        "            print(\"Origin\")\n",
        "        case Point(x=0, y=y):\n",
        "            print(f\"Y={y}\")\n",
        "        case Point(x=x, y=0):\n",
        "            print(f\"X={x}\")\n",
        "        case Point():\n",
        "            print(\"Somewhere else\")\n",
        "        case _:\n",
        "            print(\"Not a point\")"
      ],
      "metadata": {
        "id": "cxiiOYFcrzZF"
      },
      "execution_count": 14,
      "outputs": []
    },
    {
      "cell_type": "code",
      "source": [
        "where_is(Point(0, 0))\n",
        "where_is(Point(1, 0))\n",
        "where_is(Point(2, 3))\n",
        "where_is((1, 2))"
      ],
      "metadata": {
        "colab": {
          "base_uri": "https://localhost:8080/"
        },
        "id": "nvUsLbXTsQlB",
        "outputId": "77b02b44-aadc-4c17-940e-7a0f394819f7"
      },
      "execution_count": 15,
      "outputs": [
        {
          "output_type": "stream",
          "name": "stdout",
          "text": [
            "Origin\n",
            "X=1\n",
            "Somewhere else\n",
            "Not a point\n"
          ]
        }
      ]
    },
    {
      "cell_type": "code",
      "source": [
        "from enum import Enum\n",
        "class Color(Enum):\n",
        "    RED = 'red'\n",
        "    GREEN = 'green'\n",
        "    BLUE = 'blue'\n",
        "\n",
        "color = Color(input(\"Enter your choice of 'red', 'blue' or 'green': \"))\n",
        "\n",
        "match color:\n",
        "    case Color.RED:\n",
        "        print(\"I see red!\")\n",
        "    case Color.GREEN:\n",
        "        print(\"Grass is green\")\n",
        "    case Color.BLUE:\n",
        "        print(\"I'm feeling the blues :(\")"
      ],
      "metadata": {
        "colab": {
          "base_uri": "https://localhost:8080/"
        },
        "id": "X8DenD0ashzK",
        "outputId": "94e636e8-e106-4148-d996-1ce7935ca74a"
      },
      "execution_count": 18,
      "outputs": [
        {
          "output_type": "stream",
          "name": "stdout",
          "text": [
            "Enter your choice of 'red', 'blue' or 'green': blue\n",
            "I'm feeling the blues :(\n"
          ]
        }
      ]
    },
    {
      "cell_type": "code",
      "source": [
        "test = Color('blue')\n",
        "print(test)\n"
      ],
      "metadata": {
        "colab": {
          "base_uri": "https://localhost:8080/"
        },
        "id": "xYI1MrU_uU1Z",
        "outputId": "6892393a-0a19-410e-e4c3-236dcfec1ad2"
      },
      "execution_count": 19,
      "outputs": [
        {
          "output_type": "stream",
          "name": "stdout",
          "text": [
            "Color.BLUE\n"
          ]
        }
      ]
    },
    {
      "cell_type": "markdown",
      "source": [
        "##4.7 Defining Functions"
      ],
      "metadata": {
        "id": "ErtBbIte0Ido"
      }
    },
    {
      "cell_type": "markdown",
      "source": [
        "* 函式執行時會建立一個新的符號表 (symbol table) 來儲存該函式內的區域變數 (local variable)。更精確地說，所有在函式內的變數賦值都會把該值儲存在一個區域符號表。然而，在引用一個變數時，會先從區域符號表開始搜尋，其次為外層函式的區域符號表，其次為全域符號表 (global symbol table)，最後為所有內建的名稱。因此，在函式中，全域變數及外層函式變數雖然可以被引用，但無法被直接賦值（除非全域變數是在 global 陳述式中被定義，或外層函式變數在 nonlocal 陳述式中被定義）。\n",
        "\n",
        "The *execution* of a function introduces a *new symbol table used for the local variables of the function*. More precisely, all variable assignments in a function store the value in the *local symbol table*; whereas variable references first look in the local symbol table, then in the local symbol tables of enclosing functions, then in the global symbol table, and finally in the table of built-in names. Thus, global variables and variables of enclosing functions cannot be directly assigned a value within a function (unless, for global variables, named in a global statement, or, for variables of enclosing functions, named in a nonlocal statement), although they may be referenced."
      ],
      "metadata": {
        "id": "UYpRcSgzSjm7"
      }
    },
    {
      "cell_type": "markdown",
      "source": [
        "* -> 變數尋找順序（local → enclosing → global → builtins）\n",
        "\n"
      ],
      "metadata": {
        "id": "9K156VqATqnP"
      }
    },
    {
      "cell_type": "code",
      "source": [
        "# local 變數與尋找順序\n",
        "x = 100 # Global symbol table\n",
        "\n",
        "def foo():\n",
        "    y = 200 # foo's local symbol table\n",
        "    print(f\"foo -> x: {x}\") # Cannot find local -> find global x=100\n",
        "    print(f\"foo -> y: {y}\") #\n",
        "\n",
        "foo()"
      ],
      "metadata": {
        "id": "ZzNgjcTOucAw",
        "colab": {
          "base_uri": "https://localhost:8080/"
        },
        "outputId": "3c82b13b-c95c-4e19-9b01-192b1e26dc63"
      },
      "execution_count": 20,
      "outputs": [
        {
          "output_type": "stream",
          "name": "stdout",
          "text": [
            "foo -> x: 100\n",
            "foo -> y: 200\n"
          ]
        }
      ]
    },
    {
      "cell_type": "code",
      "source": [
        "# Unbound local error\n",
        "x = 100\n",
        "\n",
        "def bar():\n",
        "    print(x)    # try to access local x, but in this function has assignment for x, Python think x is local.\n",
        "\n",
        "    x = 5       # declare local x -> UnboundLocalError for print(x)\n",
        "\n",
        "bar()"
      ],
      "metadata": {
        "colab": {
          "base_uri": "https://localhost:8080/",
          "height": 297
        },
        "id": "fBHgVEDNWGOJ",
        "outputId": "f03586e3-e106-47f1-a3d7-382a397f9dda"
      },
      "execution_count": 23,
      "outputs": [
        {
          "output_type": "error",
          "ename": "UnboundLocalError",
          "evalue": "cannot access local variable 'x' where it is not associated with a value",
          "traceback": [
            "\u001b[0;31m---------------------------------------------------------------------------\u001b[0m",
            "\u001b[0;31mUnboundLocalError\u001b[0m                         Traceback (most recent call last)",
            "\u001b[0;32m/tmp/ipython-input-108470244.py\u001b[0m in \u001b[0;36m<cell line: 0>\u001b[0;34m()\u001b[0m\n\u001b[1;32m      7\u001b[0m     \u001b[0mx\u001b[0m \u001b[0;34m=\u001b[0m \u001b[0;36m5\u001b[0m       \u001b[0;31m# declare local x -> UnboundLocalError for print(x)\u001b[0m\u001b[0;34m\u001b[0m\u001b[0;34m\u001b[0m\u001b[0m\n\u001b[1;32m      8\u001b[0m \u001b[0;34m\u001b[0m\u001b[0m\n\u001b[0;32m----> 9\u001b[0;31m \u001b[0mbar\u001b[0m\u001b[0;34m(\u001b[0m\u001b[0;34m)\u001b[0m\u001b[0;34m\u001b[0m\u001b[0;34m\u001b[0m\u001b[0m\n\u001b[0m",
            "\u001b[0;32m/tmp/ipython-input-108470244.py\u001b[0m in \u001b[0;36mbar\u001b[0;34m()\u001b[0m\n\u001b[1;32m      3\u001b[0m \u001b[0;34m\u001b[0m\u001b[0m\n\u001b[1;32m      4\u001b[0m \u001b[0;32mdef\u001b[0m \u001b[0mbar\u001b[0m\u001b[0;34m(\u001b[0m\u001b[0;34m)\u001b[0m\u001b[0;34m:\u001b[0m\u001b[0;34m\u001b[0m\u001b[0;34m\u001b[0m\u001b[0m\n\u001b[0;32m----> 5\u001b[0;31m     \u001b[0mprint\u001b[0m\u001b[0;34m(\u001b[0m\u001b[0mx\u001b[0m\u001b[0;34m)\u001b[0m    \u001b[0;31m# try to access local x, but in this function has assignment for x, Python think x is local.\u001b[0m\u001b[0;34m\u001b[0m\u001b[0;34m\u001b[0m\u001b[0m\n\u001b[0m\u001b[1;32m      6\u001b[0m \u001b[0;34m\u001b[0m\u001b[0m\n\u001b[1;32m      7\u001b[0m     \u001b[0mx\u001b[0m \u001b[0;34m=\u001b[0m \u001b[0;36m5\u001b[0m       \u001b[0;31m# declare local x -> UnboundLocalError for print(x)\u001b[0m\u001b[0;34m\u001b[0m\u001b[0;34m\u001b[0m\u001b[0m\n",
            "\u001b[0;31mUnboundLocalError\u001b[0m: cannot access local variable 'x' where it is not associated with a value"
          ]
        }
      ]
    },
    {
      "cell_type": "code",
      "source": [
        "# Use global to modify global variable\n",
        "count = 0\n",
        "\n",
        "def inc():\n",
        "    global count    # Specify to use the variable \"count\" in global symbol tabl\n",
        "    count += 1\n",
        "\n",
        "inc()\n",
        "inc()\n",
        "print(f\"count = {count}\")\n"
      ],
      "metadata": {
        "colab": {
          "base_uri": "https://localhost:8080/"
        },
        "id": "_6nUqC_-W1c8",
        "outputId": "069800cb-7802-453f-de34-1ae5fb0e21a7"
      },
      "execution_count": 27,
      "outputs": [
        {
          "output_type": "stream",
          "name": "stdout",
          "text": [
            "count = 2\n"
          ]
        }
      ]
    },
    {
      "cell_type": "code",
      "source": [
        "# use nonlocal to modify the variables in enclosing functions\n",
        "def outer():\n",
        "    msg = \"hello\"\n",
        "\n",
        "    def inner():\n",
        "        nonlocal msg    # Specify to use the variable \"msg\" in outer()'s symbol table\n",
        "        msg = \"world\"\n",
        "\n",
        "    inner()\n",
        "    print(f\"after inner: {msg}\")\n",
        "\n",
        "outer()\n"
      ],
      "metadata": {
        "colab": {
          "base_uri": "https://localhost:8080/"
        },
        "id": "IQ7ZTzr-Xh9H",
        "outputId": "9791d6f0-10ac-4486-c963-f040b1b6a660"
      },
      "execution_count": 30,
      "outputs": [
        {
          "output_type": "stream",
          "name": "stdout",
          "text": [
            "after inner: world\n"
          ]
        }
      ]
    },
    {
      "cell_type": "code",
      "source": [
        "# comparison\n",
        "def outer():\n",
        "    msg = \"hello\"\n",
        "\n",
        "    def inner():\n",
        "        msg = \"world\"   # this \"msg\" is in inner()'s symbol table\n",
        "\n",
        "    inner()\n",
        "    print(f\"after inner: {msg}\")   # this \"msg\" is in outer()'s symbol table\n",
        "\n",
        "outer()"
      ],
      "metadata": {
        "colab": {
          "base_uri": "https://localhost:8080/"
        },
        "id": "tIZ2NWUWZXYE",
        "outputId": "ef9e016b-cb46-4f0f-cb74-1dc6dac4181a"
      },
      "execution_count": 31,
      "outputs": [
        {
          "output_type": "stream",
          "name": "stdout",
          "text": [
            "after inner: hello\n"
          ]
        }
      ]
    },
    {
      "cell_type": "markdown",
      "source": [
        "* 在一個函式被呼叫的時候，實際傳入的參數（引數）會被加入至該函式的區域符號表。因此，引數傳入的方式為傳值呼叫 (call by value)（這裡傳遞的值永遠是一個物件的參照 (reference)，而不是該物件的值）。當一個函式呼叫別的函式或遞迴呼叫它自己時，在被呼叫的函式中會建立一個新的區域符號表。\n",
        "\n",
        "The actual parameters (arguments) to a function call are introduced in the local symbol table of the called function when it is called; thus, arguments are passed using call by value (where the value is always an object reference, not the value of the object). When a function calls another function, or calls itself recursively, a new local symbol table is created for that call."
      ],
      "metadata": {
        "id": "1FQiz458Sly9"
      }
    },
    {
      "cell_type": "code",
      "source": [
        "# Call by value(value: object reference) -> Pass by \"object reference\"\n",
        "def modify(val, lst):\n",
        "    val = 999       # rebind local variable \"val\"\n",
        "    lst.append(4)   # By reference, operating on the same list. Modify the original object.\n",
        "\n",
        "a = 1\n",
        "b = [1, 2, 3]\n",
        "modify(a, b)\n",
        "print(a, b)"
      ],
      "metadata": {
        "colab": {
          "base_uri": "https://localhost:8080/"
        },
        "id": "h4KSwc_7SmQ6",
        "outputId": "36fa4177-935c-4bf8-da17-722c0724b2e5"
      },
      "execution_count": 33,
      "outputs": [
        {
          "output_type": "stream",
          "name": "stdout",
          "text": [
            "1 [1, 2, 3, 4]\n"
          ]
        }
      ]
    },
    {
      "cell_type": "markdown",
      "source": [
        "Python 的引數傳遞模式：既不是傳值也不是純參考，而是「傳參考的值」:\n",
        "\n",
        "Python 採用「以物件參考為值的呼叫方式」（pass-by-object-reference，或稱 call-by-sharing）。\n",
        "換句話說，呼叫時傳給函式的是物件的參考（reference），但這個參考本身是以值的方式傳入的。\n",
        "\n",
        "* 傳值呼叫 (call by value) vs. 傳參考呼叫 (call by reference)\n",
        "1. 傳值呼叫: 傳遞的是「值」的複本，不論該值多大、是物件還是原始型別，函式內賦新值只會影響副本，不會改到呼叫端。\n",
        "2. 傳參考呼叫: 傳遞的是「變數所在位置（記憶體位址）」的參考，函式透過這個參考操作外部變數本身，賦新值或修改內容都會直接反映到呼叫端。\n",
        "-> Python 不符合嚴格的「純傳值」或「純傳參考」定義，而是：\n",
        "傳參考的值：函式接到一個指向原物件的參考，這個參考本身又是用值的方式傳入。\n",
        "\n",
        "最貼切的描述是：\n",
        "Python 的引數傳遞是將參考當作值傳遞，也就是在呼叫時複製物件參考，但不複製物件本身。\n",
        "1. 與 Symbol Table 的關係:\n",
        "Python 將「變數名稱」與「物件參考」的對應，儲存在函式執行時所建立的 symbol table（實作上是高速的陣列與映射結構）中。\n",
        "引數傳遞機制，其實就是在呼叫時把「參考」放到當次呼叫的 local symbol table 裡，讓後續的賦值與讀取都透過這張 table 完成。\n",
        "\n",
        "\n",
        "\n",
        "\n",
        "\n",
        "\n"
      ],
      "metadata": {
        "id": "HowDGfvAbiuM"
      }
    },
    {
      "cell_type": "markdown",
      "source": [
        "* 實際上，即使一個函式缺少一個 return 陳述式，它亦有一個固定的回傳值。這個值稱為 None（它是一個內建名稱）。"
      ],
      "metadata": {
        "id": "jl3zcs_cXWIR"
      }
    },
    {
      "cell_type": "code",
      "source": [
        "def compute_sum(a, b):\n",
        "    total = a + b\n",
        "    print(total)\n",
        "\n",
        "x = compute_sum(3, 4)\n",
        "\n",
        "print(f\"External received: {x}\")"
      ],
      "metadata": {
        "colab": {
          "base_uri": "https://localhost:8080/"
        },
        "id": "CdzLH5yoXZZN",
        "outputId": "d395bb3c-f9d4-4c14-f48e-fd2d07e40062"
      },
      "execution_count": 35,
      "outputs": [
        {
          "output_type": "stream",
          "name": "stdout",
          "text": [
            "7\n",
            "External received: None\n"
          ]
        }
      ]
    },
    {
      "cell_type": "markdown",
      "source": [
        "None 常見應用:\n",
        "- 用 None 當作「預設值」或「尚未初始化」的標記\n",
        "- 別把 None 誤認為空字串 ''、數字 0 或空列表 []\n",
        "- 在分支裡若某些路徑漏寫 return，也會回傳 None，可能導致程式邏輯錯誤\n",
        "- None 是 singleton，整個程式中只有一個實例\n",
        "- 在條件判斷時，if variable is None: 是檢查「是否真的沒有值」的慣用寫法\n",
        "- None 在布林運算中視為 False\n"
      ],
      "metadata": {
        "id": "Ih9C9VTZkyih"
      }
    },
    {
      "cell_type": "code",
      "source": [
        "def append_list(item, lst=None):\n",
        "    if lst is None:\n",
        "        lst = []\n",
        "    lst.append(item)\n",
        "    return lst\n",
        "\n",
        "print(append_list(1))\n",
        "\n",
        "print(append_list(4, [1, 2, 3]))"
      ],
      "metadata": {
        "colab": {
          "base_uri": "https://localhost:8080/"
        },
        "id": "gvc_gWG0lR8u",
        "outputId": "6b2be5a4-d021-493d-98e6-2dc62d39090c"
      },
      "execution_count": 38,
      "outputs": [
        {
          "output_type": "stream",
          "name": "stdout",
          "text": [
            "[1]\n",
            "[1, 2, 3, 4]\n"
          ]
        }
      ]
    },
    {
      "cell_type": "markdown",
      "source": [
        "Best practice of None:"
      ],
      "metadata": {
        "id": "OLFuLFeTlRW8"
      }
    },
    {
      "cell_type": "code",
      "source": [
        "# 1. 用途區分：缺值 vs 錯誤\n",
        "# 當函式「合法地沒有結果」時，回傳 None\n",
        "# 當發生「不可接受的狀態」或「運算失敗」時，應該丟出例外而不是回傳 None\n",
        "def find_user(id):\n",
        "    user = db.query(id)\n",
        "    if not user:\n",
        "        return None  # 合法：沒找到就是沒有資料\n",
        "    return user\n",
        "\n",
        "def load_config(path):\n",
        "    if not os.path.exists(path):\n",
        "        raise FileNotFoundError(f\"{path} does not exist.\")  # 錯誤：直接以例外通知呼叫端\n",
        "    # ... 讀檔並回傳設定"
      ],
      "metadata": {
        "id": "4lsl9GASlSb2"
      },
      "execution_count": 39,
      "outputs": []
    },
    {
      "cell_type": "code",
      "source": [
        "# 2. 型別提示：明示 Optional\n",
        "# 搭配 PEP 484 的型別提示，讓團隊或靜態檢查工具一眼就看出哪裡可能是 None\n",
        "from typing import Optional\n",
        "import datetime\n",
        "\n",
        "def parse_date(s: str) -> Optional[datetime.date]:\n",
        "    try:\n",
        "        return datetime.strptime(s, \"%Y-%m-%d\").date()\n",
        "    except ValueError:\n",
        "        return None"
      ],
      "metadata": {
        "id": "ydkpZ8icnj5N"
      },
      "execution_count": 41,
      "outputs": []
    },
    {
      "cell_type": "code",
      "source": [
        "# 3. 單一實例：None 是 singleton\n",
        "# - 比較時用 is None 而不是 == None\n",
        "# - None 在布林上下文會當作 False，但為了可讀性，還是用 is／is not\n",
        "a = None\n",
        "b = None\n",
        "c = 5\n",
        "print(id(a))\n",
        "print(id(b))\n",
        "print(a is b)\n",
        "\n",
        "if a is None:\n",
        "    print(f\"a is None\")\n",
        "\n",
        "if c is not None:\n",
        "    print(f\"c is not None\")"
      ],
      "metadata": {
        "colab": {
          "base_uri": "https://localhost:8080/"
        },
        "id": "8XeorTSjn5cV",
        "outputId": "cda27ae0-ed17-48b1-8c3a-39f7eb02176e"
      },
      "execution_count": 45,
      "outputs": [
        {
          "output_type": "stream",
          "name": "stdout",
          "text": [
            "9695488\n",
            "9695488\n",
            "True\n",
            "a is None\n",
            "c is not None\n"
          ]
        }
      ]
    },
    {
      "cell_type": "markdown",
      "source": [
        "##4.8 More on Defining Functions"
      ],
      "metadata": {
        "id": "8F5JGvHoeJeF"
      }
    },
    {
      "cell_type": "markdown",
      "source": [
        "###4.8.1. Default Argument Values"
      ],
      "metadata": {
        "id": "Px7_OTIduuJV"
      }
    },
    {
      "cell_type": "code",
      "source": [
        "def ask_ok(prompt, retries=4, reminder='Please try again!'):\n",
        "    while True:\n",
        "        ok = input(prompt)\n",
        "        if ok in ('y', 'ye', 'yes'):\n",
        "            return True\n",
        "        if ok in ('n', 'no', 'nop', 'nope'):\n",
        "            return False\n",
        "        retries = retries - 1\n",
        "        if retries < 0:\n",
        "            raise ValueError('invalid user response')\n",
        "        print(reminder)"
      ],
      "metadata": {
        "id": "HYOtDyPbeNdj"
      },
      "execution_count": 46,
      "outputs": []
    },
    {
      "cell_type": "code",
      "source": [
        "# 重要警告：預設值只求值一次。\n",
        "# 當預設值為可變物件，例如 list、dictionary（字典）或許多類別實例時，會產生不同的結果。\n",
        "# 例如，以下函式於後續呼叫時會累積曾經傳遞的引數：\n",
        "def f(a, L=[]):\n",
        "    L.append(a)\n",
        "    return L\n",
        "\n",
        "print(f(1))\n",
        "print(f(2))\n",
        "print(f(3))"
      ],
      "metadata": {
        "colab": {
          "base_uri": "https://localhost:8080/"
        },
        "id": "obSoOMewvQUY",
        "outputId": "da276195-add3-4a72-9fae-2a739d2440db"
      },
      "execution_count": 47,
      "outputs": [
        {
          "output_type": "stream",
          "name": "stdout",
          "text": [
            "[1]\n",
            "[1, 2]\n",
            "[1, 2, 3]\n"
          ]
        }
      ]
    },
    {
      "cell_type": "code",
      "source": [
        "# 如果不想在後續呼叫之間共用預設值，應以如下方式編寫函式：\n",
        "def f(a, L=None):\n",
        "    if L is None:\n",
        "        L = []\n",
        "    L.append(a)\n",
        "    return L\n",
        "\n",
        "print(f(1))\n",
        "print(f(2))\n",
        "print(f(3))"
      ],
      "metadata": {
        "colab": {
          "base_uri": "https://localhost:8080/"
        },
        "id": "Y89C_3Z4vs0l",
        "outputId": "2b5de1cb-7b70-4cbf-fd84-548e93339e28"
      },
      "execution_count": 49,
      "outputs": [
        {
          "output_type": "stream",
          "name": "stdout",
          "text": [
            "[1]\n",
            "[2]\n",
            "[3]\n"
          ]
        }
      ]
    },
    {
      "cell_type": "markdown",
      "source": [
        "###4.8.2 Keyword Arguments"
      ],
      "metadata": {
        "id": "jy5upxzixLmM"
      }
    },
    {
      "cell_type": "code",
      "source": [
        "def parrot(voltage, state='a stiff', action='voom', type='Norwegian Blue'):\n",
        "    print(\"-- This parrot wouldn't\", action, end=' ')\n",
        "    print(\"if you put\", voltage, \"volts through it.\")\n",
        "    print(\"-- Lovely plumage, the\", type)\n",
        "    print(\"-- It's\", state, \"!\")\n",
        "    print(\"\\n\")"
      ],
      "metadata": {
        "id": "-Vbtljfiv1Va"
      },
      "execution_count": 52,
      "outputs": []
    },
    {
      "cell_type": "code",
      "source": [
        "# Valid Call\n",
        "parrot(1000)                                          # 1 positional argument\n",
        "parrot(voltage=1000)                                  # 1 keyword argument\n",
        "parrot(voltage=1000000, action='VOOOOOM')             # 2 keyword arguments\n",
        "parrot(action='VOOOOOM', voltage=1000000)             # 2 keyword arguments\n",
        "parrot('a million', 'bereft of life', 'jump')         # 3 positional arguments\n",
        "parrot('a thousand', state='pushing up the daisies')  # 1 positional, 1 keyword"
      ],
      "metadata": {
        "colab": {
          "base_uri": "https://localhost:8080/"
        },
        "id": "sbMQiS5KSQNt",
        "outputId": "3b7d60d5-6cea-4b04-9c6d-f00c705cb138"
      },
      "execution_count": 53,
      "outputs": [
        {
          "output_type": "stream",
          "name": "stdout",
          "text": [
            "-- This parrot wouldn't voom if you put 1000 volts through it.\n",
            "-- Lovely plumage, the Norwegian Blue\n",
            "-- It's a stiff !\n",
            "\n",
            "\n",
            "-- This parrot wouldn't voom if you put 1000 volts through it.\n",
            "-- Lovely plumage, the Norwegian Blue\n",
            "-- It's a stiff !\n",
            "\n",
            "\n",
            "-- This parrot wouldn't VOOOOOM if you put 1000000 volts through it.\n",
            "-- Lovely plumage, the Norwegian Blue\n",
            "-- It's a stiff !\n",
            "\n",
            "\n",
            "-- This parrot wouldn't VOOOOOM if you put 1000000 volts through it.\n",
            "-- Lovely plumage, the Norwegian Blue\n",
            "-- It's a stiff !\n",
            "\n",
            "\n",
            "-- This parrot wouldn't jump if you put a million volts through it.\n",
            "-- Lovely plumage, the Norwegian Blue\n",
            "-- It's bereft of life !\n",
            "\n",
            "\n",
            "-- This parrot wouldn't voom if you put a thousand volts through it.\n",
            "-- Lovely plumage, the Norwegian Blue\n",
            "-- It's pushing up the daisies !\n",
            "\n",
            "\n"
          ]
        }
      ]
    },
    {
      "cell_type": "code",
      "source": [
        "# Invalid Call\n",
        "parrot()                     # required argument missing\n",
        "parrot(voltage=5.0, 'dead')  # non-keyword argument after a keyword argument\n",
        "parrot(110, voltage=220)     # duplicate value for the same argument\n",
        "parrot(actor='John Cleese')  # unknown keyword argument"
      ],
      "metadata": {
        "colab": {
          "base_uri": "https://localhost:8080/",
          "height": 106
        },
        "id": "mrcBR3hGSTQ9",
        "outputId": "5729069a-5772-4616-a3ce-45057f242407"
      },
      "execution_count": 56,
      "outputs": [
        {
          "output_type": "error",
          "ename": "SyntaxError",
          "evalue": "positional argument follows keyword argument (ipython-input-3113429359.py, line 3)",
          "traceback": [
            "\u001b[0;36m  File \u001b[0;32m\"/tmp/ipython-input-3113429359.py\"\u001b[0;36m, line \u001b[0;32m3\u001b[0m\n\u001b[0;31m    parrot(voltage=5.0, 'dead')  # non-keyword argument after a keyword argument\u001b[0m\n\u001b[0m                              ^\u001b[0m\n\u001b[0;31mSyntaxError\u001b[0m\u001b[0;31m:\u001b[0m positional argument follows keyword argument\n"
          ]
        }
      ]
    },
    {
      "cell_type": "code",
      "source": [
        "# 1. kind 是一個必填的位置參數\n",
        "# 2. *arguments 收集所有多餘的位置參數成為一個 tuple\n",
        "# 3. **keywords 收集所有多餘的關鍵字參數成為一個 dict\n",
        "# 4. 呼叫時可用 *、** 解包已有的 list/tuple、dict\n",
        "# 5. 常見於不定參數函式、decorator、CLI 工具封裝\n",
        "\n",
        "def cheeseshop(kind, *arguments, **keywords):\n",
        "    print(\"-- Do you have any\", kind, \"?\")\n",
        "    print(\"-- I'm sorry, we're all out of\", kind)\n",
        "    for arg in arguments:\n",
        "        print(arg)\n",
        "    print(\"-\" * 40)\n",
        "    for kw in keywords:\n",
        "        print(kw, \":\", keywords[kw])"
      ],
      "metadata": {
        "id": "jyxliuXtSqhv"
      },
      "execution_count": 62,
      "outputs": []
    },
    {
      "cell_type": "code",
      "source": [
        "cheeseshop(\"Limburger\",\n",
        "           \"It's very runny, sir.\",\n",
        "           \"It's really very, VERY runny, sir.\",\n",
        "           shopkeeper=\"Michael Palin\",\n",
        "           client=\"John Cleese\",\n",
        "           sketch=\"Cheese Shop Sketch\")\n",
        "# 注意，關鍵字引數的輸出順序與呼叫函式時被提供的順序必定一致。"
      ],
      "metadata": {
        "colab": {
          "base_uri": "https://localhost:8080/"
        },
        "id": "nHWT7MOsTTgW",
        "outputId": "2e804cf9-5985-431f-8f56-2871b1dc4180"
      },
      "execution_count": 63,
      "outputs": [
        {
          "output_type": "stream",
          "name": "stdout",
          "text": [
            "-- Do you have any Limburger ?\n",
            "-- I'm sorry, we're all out of Limburger\n",
            "It's very runny, sir.\n",
            "It's really very, VERY runny, sir.\n",
            "----------------------------------------\n",
            "shopkeeper : Michael Palin\n",
            "client : John Cleese\n",
            "sketch : Cheese Shop Sketch\n"
          ]
        }
      ]
    },
    {
      "cell_type": "code",
      "source": [
        "# Another example:\n",
        "def func(kind, *arguments, **keywords):\n",
        "    print(\"kind       =\", kind)\n",
        "    print(\"arguments  =\", arguments)\n",
        "    print(\"keywords   =\", keywords)\n",
        "\n",
        "func(\"sum\", 1, 2, 3, debug=True, verbose=False)"
      ],
      "metadata": {
        "colab": {
          "base_uri": "https://localhost:8080/"
        },
        "id": "zFstNPu4TaTf",
        "outputId": "b231a169-68ee-4d2b-cdb0-348977fe2fd9"
      },
      "execution_count": 65,
      "outputs": [
        {
          "output_type": "stream",
          "name": "stdout",
          "text": [
            "kind       = sum\n",
            "arguments  = (1, 2, 3)\n",
            "keywords   = {'debug': True, 'verbose': False}\n"
          ]
        }
      ]
    },
    {
      "cell_type": "code",
      "source": [
        "args = [10, 20, 30]\n",
        "kwargs = {\"precision\": 2, \"rounding\": \"floor\"}\n",
        "\n",
        "func(\"average\", *args, **kwargs)\n",
        "# 在呼叫時，*args 會把 list 內的元素拆成位置參數\n",
        "# **kwargs 會把 dict 內的鍵值對拆成關鍵字參數"
      ],
      "metadata": {
        "colab": {
          "base_uri": "https://localhost:8080/"
        },
        "id": "9v4K3iv0dDCi",
        "outputId": "278bacbf-122e-44e2-b6df-0a510c8ae596"
      },
      "execution_count": 67,
      "outputs": [
        {
          "output_type": "stream",
          "name": "stdout",
          "text": [
            "kind       = average\n",
            "arguments  = (10, 20, 30)\n",
            "keywords   = {'precision': 2, 'rounding': 'floor'}\n"
          ]
        }
      ]
    },
    {
      "cell_type": "code",
      "source": [
        "# Usage of typing\n",
        "from typing import Any\n",
        "\n",
        "def func(kind: str, *args: Any, **kwargs: Any) -> None:\n",
        "    print(\"kind       =\", kind)\n",
        "    print(\"arguments  =\", args)\n",
        "    print(\"keywords   =\", kwargs)\n",
        "\n",
        "func(\"sum\", 1, 2, 3, debug=True, verbose=False)"
      ],
      "metadata": {
        "colab": {
          "base_uri": "https://localhost:8080/"
        },
        "id": "yExwQIyJdO5E",
        "outputId": "dcf0b9e9-2e2d-4686-a08a-956740b5af3e"
      },
      "execution_count": 71,
      "outputs": [
        {
          "output_type": "stream",
          "name": "stdout",
          "text": [
            "kind       = sum\n",
            "arguments  = (1, 2, 3)\n",
            "keywords   = {'debug': True, 'verbose': False}\n"
          ]
        }
      ]
    },
    {
      "cell_type": "markdown",
      "source": [
        "###4.8.6 Lambda Expressions\n",
        "lambda 關鍵字用於建立小巧的匿名函式。lambda a, b: a+b 函式返回兩個引數的和。Lambda 函式可用於任何需要函數物件的地方。在語法上，它們被限定只能是單一運算式。在語義上，它就是一個普通函式定義的語法糖 (syntactic sugar)。與巢狀函式定義一樣，lambda 函式可以從包含它的作用域中引用變數："
      ],
      "metadata": {
        "id": "frOG3pBm7r5h"
      }
    },
    {
      "cell_type": "code",
      "source": [
        "def make_incrementor(n):\n",
        "    return lambda x: x + n\n",
        "\n",
        "# which is equivlant to\n",
        "def _make_incrementor(n):\n",
        "    def increment(x):\n",
        "        return x + n\n",
        "    return increment\n",
        "\n",
        "f = make_incrementor(42)    # n = 42\n",
        "print(f(0))                 # x = 0\n",
        "print(f(10))                # x = 10\n",
        "print(f(20))                # x = 20"
      ],
      "metadata": {
        "colab": {
          "base_uri": "https://localhost:8080/"
        },
        "id": "n8AEj7BY7rSU",
        "outputId": "2f3cec68-36c4-4648-8c58-78eba9c4f90f"
      },
      "execution_count": 75,
      "outputs": [
        {
          "output_type": "stream",
          "name": "stdout",
          "text": [
            "42\n",
            "52\n",
            "62\n"
          ]
        }
      ]
    },
    {
      "cell_type": "code",
      "source": [
        "pairs = [(1, 'one'), (2, 'two'), (3, 'three'), (4, 'four')]\n",
        "pairs.sort(key=lambda pair: pair[1])\n",
        "print(pairs)\n",
        "\n",
        "# which is euqivlant to\n",
        "def get_second(pair: tuple[int, str]) -> str:\n",
        "    return pair[1]\n",
        "pairs = [(1, 'one'), (2, 'two'), (3, 'three'), (4, 'four')]\n",
        "pairs.sort(key=get_second)\n",
        "print(pairs)\n",
        "\n"
      ],
      "metadata": {
        "colab": {
          "base_uri": "https://localhost:8080/"
        },
        "id": "_uO5EdMLfGqh",
        "outputId": "a9acda2b-d1fa-4b7d-f157-3d54de75591b"
      },
      "execution_count": 78,
      "outputs": [
        {
          "output_type": "stream",
          "name": "stdout",
          "text": [
            "[(4, 'four'), (1, 'one'), (3, 'three'), (2, 'two')]\n",
            "[(4, 'four'), (1, 'one'), (3, 'three'), (2, 'two')]\n"
          ]
        }
      ]
    },
    {
      "cell_type": "markdown",
      "source": [
        "###4.8.7\n"
      ],
      "metadata": {
        "id": "lgph1sj1_udO"
      }
    },
    {
      "cell_type": "code",
      "source": [],
      "metadata": {
        "id": "Thw6fqZp-goD"
      },
      "execution_count": null,
      "outputs": []
    }
  ]
}