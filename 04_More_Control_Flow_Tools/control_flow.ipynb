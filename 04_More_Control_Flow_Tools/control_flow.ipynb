{
  "nbformat": 4,
  "nbformat_minor": 0,
  "metadata": {
    "colab": {
      "provenance": [],
      "toc_visible": true,
      "authorship_tag": "ABX9TyONF8k08z4l71XBZh60B3i0"
    },
    "kernelspec": {
      "name": "python3",
      "display_name": "Python 3"
    },
    "language_info": {
      "name": "python"
    }
  },
  "cells": [
    {
      "cell_type": "markdown",
      "source": [
        "##4.2 For Statements"
      ],
      "metadata": {
        "id": "T9yqd45MYKG2"
      }
    },
    {
      "cell_type": "code",
      "source": [
        "words = ['cat', 'window', 'defenestrate']\n",
        "for w in words:\n",
        "    print(w, len(w))"
      ],
      "metadata": {
        "colab": {
          "base_uri": "https://localhost:8080/"
        },
        "id": "QUYkjVcHYOMf",
        "outputId": "833a6487-d3e7-45ea-86b8-08e84f61bb54"
      },
      "execution_count": null,
      "outputs": [
        {
          "output_type": "stream",
          "name": "stdout",
          "text": [
            "cat 3\n",
            "window 6\n",
            "defenestrate 12\n"
          ]
        }
      ]
    },
    {
      "cell_type": "markdown",
      "source": [
        "在疊代一個集合的同時修改該集合的內容，很難獲取想要的結果。比較直觀的替代方式，是疊代該集合的副本，或建立一個新的集合："
      ],
      "metadata": {
        "id": "SoIjxQzaYic5"
      }
    },
    {
      "cell_type": "code",
      "source": [
        "# Create a sample collection\n",
        "users = {'Sherry': 'active', 'Jason': 'inactive', 'Ruth': 'active'}\n",
        "print(users.keys())\n",
        "print(users.items())"
      ],
      "metadata": {
        "colab": {
          "base_uri": "https://localhost:8080/"
        },
        "id": "40ZnVhs3YbmE",
        "outputId": "97cac201-6abc-41dd-e1c3-04f2f916c8a0"
      },
      "execution_count": null,
      "outputs": [
        {
          "output_type": "stream",
          "name": "stdout",
          "text": [
            "dict_keys(['Sherry', 'Jason', 'Ruth'])\n",
            "dict_items([('Sherry', 'active'), ('Jason', 'inactive'), ('Ruth', 'active')])\n"
          ]
        }
      ]
    },
    {
      "cell_type": "code",
      "source": [
        "for name, status in users.items():\n",
        "  if status == 'inactive':\n",
        "    del users[name]\n",
        "\n",
        "print(users)"
      ],
      "metadata": {
        "colab": {
          "base_uri": "https://localhost:8080/",
          "height": 211
        },
        "id": "AobFvrqObSY1",
        "outputId": "439fa022-331e-4d3f-f1d3-ed665dd3624b"
      },
      "execution_count": null,
      "outputs": [
        {
          "output_type": "error",
          "ename": "RuntimeError",
          "evalue": "dictionary changed size during iteration",
          "traceback": [
            "\u001b[0;31m---------------------------------------------------------------------------\u001b[0m",
            "\u001b[0;31mRuntimeError\u001b[0m                              Traceback (most recent call last)",
            "\u001b[0;32m/tmp/ipython-input-2848007862.py\u001b[0m in \u001b[0;36m<cell line: 0>\u001b[0;34m()\u001b[0m\n\u001b[0;32m----> 1\u001b[0;31m \u001b[0;32mfor\u001b[0m \u001b[0mname\u001b[0m\u001b[0;34m,\u001b[0m \u001b[0mstatus\u001b[0m \u001b[0;32min\u001b[0m \u001b[0musers\u001b[0m\u001b[0;34m.\u001b[0m\u001b[0mitems\u001b[0m\u001b[0;34m(\u001b[0m\u001b[0;34m)\u001b[0m\u001b[0;34m:\u001b[0m\u001b[0;34m\u001b[0m\u001b[0;34m\u001b[0m\u001b[0m\n\u001b[0m\u001b[1;32m      2\u001b[0m   \u001b[0;32mif\u001b[0m \u001b[0mstatus\u001b[0m \u001b[0;34m==\u001b[0m \u001b[0;34m'inactive'\u001b[0m\u001b[0;34m:\u001b[0m\u001b[0;34m\u001b[0m\u001b[0;34m\u001b[0m\u001b[0m\n\u001b[1;32m      3\u001b[0m     \u001b[0;32mdel\u001b[0m \u001b[0musers\u001b[0m\u001b[0;34m[\u001b[0m\u001b[0mname\u001b[0m\u001b[0;34m]\u001b[0m\u001b[0;34m\u001b[0m\u001b[0;34m\u001b[0m\u001b[0m\n\u001b[1;32m      4\u001b[0m \u001b[0;34m\u001b[0m\u001b[0m\n\u001b[1;32m      5\u001b[0m \u001b[0mprint\u001b[0m\u001b[0;34m(\u001b[0m\u001b[0musers\u001b[0m\u001b[0;34m)\u001b[0m\u001b[0;34m\u001b[0m\u001b[0;34m\u001b[0m\u001b[0m\n",
            "\u001b[0;31mRuntimeError\u001b[0m: dictionary changed size during iteration"
          ]
        }
      ]
    },
    {
      "cell_type": "code",
      "source": [
        "# Strategy(1): iterate over a copy\n",
        "for name, status in users.copy().items():\n",
        "  if status == 'inactive':\n",
        "    del users[name]\n",
        "\n",
        "print(users)"
      ],
      "metadata": {
        "colab": {
          "base_uri": "https://localhost:8080/"
        },
        "id": "i3En40-vZMS5",
        "outputId": "acbf7cb0-b302-4236-d84a-13f8ca0db28f"
      },
      "execution_count": null,
      "outputs": [
        {
          "output_type": "stream",
          "name": "stdout",
          "text": [
            "{'Sherry': 'active', 'Ruth': 'active'}\n"
          ]
        }
      ]
    },
    {
      "cell_type": "code",
      "source": [
        "users = {'Sherry': 'active', 'Jason': 'inactive', 'Ruth': 'active'}\n",
        "\n",
        "# Strategy(2): Create a new collection\n",
        "active_users = {}\n",
        "for name, status in users.items():\n",
        "  if status == 'active':\n",
        "    active_users[name] = status\n",
        "\n",
        "print(active_users)"
      ],
      "metadata": {
        "colab": {
          "base_uri": "https://localhost:8080/"
        },
        "id": "8VfadqMUax-o",
        "outputId": "e0392b9b-5046-4bc9-fc4d-dd25d776ad38"
      },
      "execution_count": null,
      "outputs": [
        {
          "output_type": "stream",
          "name": "stdout",
          "text": [
            "{'Sherry': 'active', 'Ruth': 'active'}\n"
          ]
        }
      ]
    },
    {
      "cell_type": "markdown",
      "source": [
        "##4.3 range() function\n",
        "在很多情況下，由 range() 回傳的物件表現得像是一個 list（串列）一樣，但實際上它並不是。它是一個在疊代時能夠回傳所要求的序列中所有項目的物件，但它不會真正建出這個序列的 list，以節省空間。\n",
        "我們稱這樣的物件為 iterable（可疊代物件），意即能作為函式及架構中可以一直獲取項目直到取盡的對象。"
      ],
      "metadata": {
        "id": "71EB5Z-YmDL1"
      }
    },
    {
      "cell_type": "code",
      "source": [
        "for i in range(5):\n",
        "  print(i)"
      ],
      "metadata": {
        "colab": {
          "base_uri": "https://localhost:8080/"
        },
        "id": "xwQkBKdDb9O_",
        "outputId": "aa1c6509-2b20-4171-a95b-52a33d023b25"
      },
      "execution_count": null,
      "outputs": [
        {
          "output_type": "stream",
          "name": "stdout",
          "text": [
            "0\n",
            "1\n",
            "2\n",
            "3\n",
            "4\n"
          ]
        }
      ]
    },
    {
      "cell_type": "code",
      "source": [
        "list(range(5, 10))"
      ],
      "metadata": {
        "colab": {
          "base_uri": "https://localhost:8080/"
        },
        "id": "xnraVXAamM0H",
        "outputId": "464f477a-91b4-4bed-8ae2-99dfe5ad6318"
      },
      "execution_count": null,
      "outputs": [
        {
          "output_type": "execute_result",
          "data": {
            "text/plain": [
              "[5, 6, 7, 8, 9]"
            ]
          },
          "metadata": {},
          "execution_count": 7
        }
      ]
    },
    {
      "cell_type": "code",
      "source": [
        "list(range(0, 10, 3))"
      ],
      "metadata": {
        "colab": {
          "base_uri": "https://localhost:8080/"
        },
        "id": "Jojxr4L9mT04",
        "outputId": "07d20406-fc37-4f70-e0eb-4020d920182d"
      },
      "execution_count": null,
      "outputs": [
        {
          "output_type": "execute_result",
          "data": {
            "text/plain": [
              "[0, 3, 6, 9]"
            ]
          },
          "metadata": {},
          "execution_count": 8
        }
      ]
    },
    {
      "cell_type": "code",
      "source": [
        "list(range(-10, -100, -20))"
      ],
      "metadata": {
        "colab": {
          "base_uri": "https://localhost:8080/"
        },
        "id": "LA2mHRhAmdBc",
        "outputId": "b652e625-a75b-4de5-be04-e844a83d2f39"
      },
      "execution_count": null,
      "outputs": [
        {
          "output_type": "execute_result",
          "data": {
            "text/plain": [
              "[-10, -30, -50, -70, -90]"
            ]
          },
          "metadata": {},
          "execution_count": 9
        }
      ]
    },
    {
      "cell_type": "markdown",
      "source": [
        "##4.6 match statements"
      ],
      "metadata": {
        "id": "XW1jnyWwonFy"
      }
    },
    {
      "cell_type": "code",
      "source": [
        "def http_error(status):\n",
        "    match status:\n",
        "        case 400:\n",
        "            return \"Bad request\"\n",
        "        case 404:\n",
        "            return \"Not found\"\n",
        "        case 418 | 518:\n",
        "            return \"I'm a teapot\"\n",
        "        case _:\n",
        "            return \"Something's wrong with the internet\""
      ],
      "metadata": {
        "id": "g7bfRCa5mluj"
      },
      "execution_count": null,
      "outputs": []
    },
    {
      "cell_type": "code",
      "source": [
        "http_error(520)"
      ],
      "metadata": {
        "colab": {
          "base_uri": "https://localhost:8080/",
          "height": 35
        },
        "id": "Im_T8Devq8zg",
        "outputId": "5559a9fc-637e-4480-9776-2caf3bd2c594"
      },
      "execution_count": null,
      "outputs": [
        {
          "output_type": "execute_result",
          "data": {
            "text/plain": [
              "\"Something's wrong with the internet\""
            ],
            "application/vnd.google.colaboratory.intrinsic+json": {
              "type": "string"
            }
          },
          "metadata": {},
          "execution_count": 11
        }
      ]
    },
    {
      "cell_type": "code",
      "source": [
        "#point is an (x, y) tuple\n",
        "def test_point(point):\n",
        "  match point:\n",
        "    case (0, 0):\n",
        "        print(\"Origin\")\n",
        "    case (0, y):\n",
        "        print(f\"Y={y}\")\n",
        "    case (x, 0):\n",
        "        print(f\"X={x}\")\n",
        "    case (x, y):\n",
        "        print(f\"X={x}, Y={y}\")\n",
        "    case _:\n",
        "        raise ValueError(\"Not a point\")"
      ],
      "metadata": {
        "id": "E6cfvq4dq-xc"
      },
      "execution_count": null,
      "outputs": []
    },
    {
      "cell_type": "code",
      "source": [
        "test_point((0, 0))\n",
        "test_point((5, 0))\n",
        "test_point((1, 3))\n",
        "test_point((2))"
      ],
      "metadata": {
        "colab": {
          "base_uri": "https://localhost:8080/",
          "height": 315
        },
        "id": "xQ_Zx_ANrv5G",
        "outputId": "e5cce6dc-ce17-437b-c6fb-f241c838414d"
      },
      "execution_count": null,
      "outputs": [
        {
          "output_type": "stream",
          "name": "stdout",
          "text": [
            "Origin\n",
            "X=5\n",
            "X=1, Y=3\n"
          ]
        },
        {
          "output_type": "error",
          "ename": "ValueError",
          "evalue": "Not a point",
          "traceback": [
            "\u001b[0;31m---------------------------------------------------------------------------\u001b[0m",
            "\u001b[0;31mValueError\u001b[0m                                Traceback (most recent call last)",
            "\u001b[0;32m/tmp/ipython-input-512387937.py\u001b[0m in \u001b[0;36m<cell line: 0>\u001b[0;34m()\u001b[0m\n\u001b[1;32m      2\u001b[0m \u001b[0mtest_point\u001b[0m\u001b[0;34m(\u001b[0m\u001b[0;34m(\u001b[0m\u001b[0;36m5\u001b[0m\u001b[0;34m,\u001b[0m \u001b[0;36m0\u001b[0m\u001b[0;34m)\u001b[0m\u001b[0;34m)\u001b[0m\u001b[0;34m\u001b[0m\u001b[0;34m\u001b[0m\u001b[0m\n\u001b[1;32m      3\u001b[0m \u001b[0mtest_point\u001b[0m\u001b[0;34m(\u001b[0m\u001b[0;34m(\u001b[0m\u001b[0;36m1\u001b[0m\u001b[0;34m,\u001b[0m \u001b[0;36m3\u001b[0m\u001b[0;34m)\u001b[0m\u001b[0;34m)\u001b[0m\u001b[0;34m\u001b[0m\u001b[0;34m\u001b[0m\u001b[0m\n\u001b[0;32m----> 4\u001b[0;31m \u001b[0mtest_point\u001b[0m\u001b[0;34m(\u001b[0m\u001b[0;34m(\u001b[0m\u001b[0;36m2\u001b[0m\u001b[0;34m)\u001b[0m\u001b[0;34m)\u001b[0m\u001b[0;34m\u001b[0m\u001b[0;34m\u001b[0m\u001b[0m\n\u001b[0m",
            "\u001b[0;32m/tmp/ipython-input-2396613868.py\u001b[0m in \u001b[0;36mtest_point\u001b[0;34m(point)\u001b[0m\n\u001b[1;32m     11\u001b[0m         \u001b[0mprint\u001b[0m\u001b[0;34m(\u001b[0m\u001b[0;34mf\"X={x}, Y={y}\"\u001b[0m\u001b[0;34m)\u001b[0m\u001b[0;34m\u001b[0m\u001b[0;34m\u001b[0m\u001b[0m\n\u001b[1;32m     12\u001b[0m     \u001b[0mcase\u001b[0m \u001b[0m_\u001b[0m\u001b[0;34m:\u001b[0m\u001b[0;34m\u001b[0m\u001b[0;34m\u001b[0m\u001b[0m\n\u001b[0;32m---> 13\u001b[0;31m         \u001b[0;32mraise\u001b[0m \u001b[0mValueError\u001b[0m\u001b[0;34m(\u001b[0m\u001b[0;34m\"Not a point\"\u001b[0m\u001b[0;34m)\u001b[0m\u001b[0;34m\u001b[0m\u001b[0;34m\u001b[0m\u001b[0m\n\u001b[0m",
            "\u001b[0;31mValueError\u001b[0m: Not a point"
          ]
        }
      ]
    },
    {
      "cell_type": "code",
      "source": [
        "from dataclasses import dataclass\n",
        "\n",
        "@dataclass\n",
        "class Point:\n",
        "    x: int\n",
        "    y: int\n",
        "\n",
        "def where_is(point):\n",
        "    match point:\n",
        "        case Point(x=0, y=0):\n",
        "            print(\"Origin\")\n",
        "        case Point(x=0, y=y):\n",
        "            print(f\"Y={y}\")\n",
        "        case Point(x=x, y=0):\n",
        "            print(f\"X={x}\")\n",
        "        case Point():\n",
        "            print(\"Somewhere else\")\n",
        "        case _:\n",
        "            print(\"Not a point\")"
      ],
      "metadata": {
        "id": "cxiiOYFcrzZF"
      },
      "execution_count": null,
      "outputs": []
    },
    {
      "cell_type": "code",
      "source": [
        "where_is(Point(0, 0))\n",
        "where_is(Point(1, 0))\n",
        "where_is(Point(2, 3))\n",
        "where_is((1, 2))"
      ],
      "metadata": {
        "colab": {
          "base_uri": "https://localhost:8080/"
        },
        "id": "nvUsLbXTsQlB",
        "outputId": "cd34e062-49cb-410c-88a7-1c3288577b64"
      },
      "execution_count": null,
      "outputs": [
        {
          "output_type": "stream",
          "name": "stdout",
          "text": [
            "Origin\n",
            "X=1\n",
            "Somewhere else\n",
            "Not a point\n"
          ]
        }
      ]
    },
    {
      "cell_type": "code",
      "source": [
        "from enum import Enum\n",
        "class Color(Enum):\n",
        "    RED = 'red'\n",
        "    GREEN = 'green'\n",
        "    BLUE = 'blue'\n",
        "\n",
        "color = Color(input(\"Enter your choice of 'red', 'blue' or 'green': \"))\n",
        "\n",
        "match color:\n",
        "    case Color.RED:\n",
        "        print(\"I see red!\")\n",
        "    case Color.GREEN:\n",
        "        print(\"Grass is green\")\n",
        "    case Color.BLUE:\n",
        "        print(\"I'm feeling the blues :(\")"
      ],
      "metadata": {
        "colab": {
          "base_uri": "https://localhost:8080/"
        },
        "id": "X8DenD0ashzK",
        "outputId": "7073a450-083d-49c5-a412-c8622bc1c646"
      },
      "execution_count": null,
      "outputs": [
        {
          "output_type": "stream",
          "name": "stdout",
          "text": [
            "Enter your choice of 'red', 'blue' or 'green': blue\n",
            "I'm feeling the blues :(\n"
          ]
        }
      ]
    },
    {
      "cell_type": "code",
      "source": [
        "test = Color('blue')\n",
        "print(test)\n"
      ],
      "metadata": {
        "colab": {
          "base_uri": "https://localhost:8080/"
        },
        "id": "xYI1MrU_uU1Z",
        "outputId": "e6d33a96-f527-4273-9d4e-875a47c4055e"
      },
      "execution_count": null,
      "outputs": [
        {
          "output_type": "stream",
          "name": "stdout",
          "text": [
            "Color.BLUE\n"
          ]
        }
      ]
    },
    {
      "cell_type": "markdown",
      "source": [
        "##4.7 Defining Functions"
      ],
      "metadata": {
        "id": "ErtBbIte0Ido"
      }
    },
    {
      "cell_type": "markdown",
      "source": [
        "* 函式執行時會建立一個新的符號表 (symbol table) 來儲存該函式內的區域變數 (local variable)。更精確地說，所有在函式內的變數賦值都會把該值儲存在一個區域符號表。然而，在引用一個變數時，會先從區域符號表開始搜尋，其次為外層函式的區域符號表，其次為全域符號表 (global symbol table)，最後為所有內建的名稱。因此，在函式中，全域變數及外層函式變數雖然可以被引用，但無法被直接賦值（除非全域變數是在 global 陳述式中被定義，或外層函式變數在 nonlocal 陳述式中被定義）。\n",
        "\n",
        "The *execution* of a function introduces a *new symbol table used for the local variables of the function*. More precisely, all variable assignments in a function store the value in the *local symbol table*; whereas variable references first look in the local symbol table, then in the local symbol tables of enclosing functions, then in the global symbol table, and finally in the table of built-in names. Thus, global variables and variables of enclosing functions cannot be directly assigned a value within a function (unless, for global variables, named in a global statement, or, for variables of enclosing functions, named in a nonlocal statement), although they may be referenced."
      ],
      "metadata": {
        "id": "UYpRcSgzSjm7"
      }
    },
    {
      "cell_type": "markdown",
      "source": [
        "* -> 變數尋找順序（local → enclosing → global → builtins）\n",
        "\n"
      ],
      "metadata": {
        "id": "9K156VqATqnP"
      }
    },
    {
      "cell_type": "code",
      "source": [
        "# local 變數與尋找順序\n",
        "x = 100 # Global symbol table\n",
        "\n",
        "def foo():\n",
        "    y = 200 # foo's local symbol table\n",
        "    print(f\"foo -> x: {x}\") # Cannot find local -> find global x=100\n",
        "    print(f\"foo -> y: {y}\") #\n",
        "\n",
        "foo()"
      ],
      "metadata": {
        "id": "ZzNgjcTOucAw",
        "colab": {
          "base_uri": "https://localhost:8080/"
        },
        "outputId": "0c481961-d8ca-445a-b8de-affbd1fa1310"
      },
      "execution_count": null,
      "outputs": [
        {
          "output_type": "stream",
          "name": "stdout",
          "text": [
            "foo -> x: 100\n",
            "foo -> y: 200\n"
          ]
        }
      ]
    },
    {
      "cell_type": "code",
      "source": [
        "# Unbound local error\n",
        "x = 100\n",
        "\n",
        "def bar():\n",
        "    print(x)    # try to access local x, but in this function has assignment for x, Python think x is local.\n",
        "\n",
        "    x = 5       # declare local x -> UnboundLocalError for print(x)\n",
        "\n",
        "bar()"
      ],
      "metadata": {
        "colab": {
          "base_uri": "https://localhost:8080/",
          "height": 297
        },
        "id": "fBHgVEDNWGOJ",
        "outputId": "d0812e18-7aca-4b01-ba28-6a716ea990ba"
      },
      "execution_count": null,
      "outputs": [
        {
          "output_type": "error",
          "ename": "UnboundLocalError",
          "evalue": "cannot access local variable 'x' where it is not associated with a value",
          "traceback": [
            "\u001b[0;31m---------------------------------------------------------------------------\u001b[0m",
            "\u001b[0;31mUnboundLocalError\u001b[0m                         Traceback (most recent call last)",
            "\u001b[0;32m/tmp/ipython-input-108470244.py\u001b[0m in \u001b[0;36m<cell line: 0>\u001b[0;34m()\u001b[0m\n\u001b[1;32m      7\u001b[0m     \u001b[0mx\u001b[0m \u001b[0;34m=\u001b[0m \u001b[0;36m5\u001b[0m       \u001b[0;31m# declare local x -> UnboundLocalError for print(x)\u001b[0m\u001b[0;34m\u001b[0m\u001b[0;34m\u001b[0m\u001b[0m\n\u001b[1;32m      8\u001b[0m \u001b[0;34m\u001b[0m\u001b[0m\n\u001b[0;32m----> 9\u001b[0;31m \u001b[0mbar\u001b[0m\u001b[0;34m(\u001b[0m\u001b[0;34m)\u001b[0m\u001b[0;34m\u001b[0m\u001b[0;34m\u001b[0m\u001b[0m\n\u001b[0m",
            "\u001b[0;32m/tmp/ipython-input-108470244.py\u001b[0m in \u001b[0;36mbar\u001b[0;34m()\u001b[0m\n\u001b[1;32m      3\u001b[0m \u001b[0;34m\u001b[0m\u001b[0m\n\u001b[1;32m      4\u001b[0m \u001b[0;32mdef\u001b[0m \u001b[0mbar\u001b[0m\u001b[0;34m(\u001b[0m\u001b[0;34m)\u001b[0m\u001b[0;34m:\u001b[0m\u001b[0;34m\u001b[0m\u001b[0;34m\u001b[0m\u001b[0m\n\u001b[0;32m----> 5\u001b[0;31m     \u001b[0mprint\u001b[0m\u001b[0;34m(\u001b[0m\u001b[0mx\u001b[0m\u001b[0;34m)\u001b[0m    \u001b[0;31m# try to access local x, but in this function has assignment for x, Python think x is local.\u001b[0m\u001b[0;34m\u001b[0m\u001b[0;34m\u001b[0m\u001b[0m\n\u001b[0m\u001b[1;32m      6\u001b[0m \u001b[0;34m\u001b[0m\u001b[0m\n\u001b[1;32m      7\u001b[0m     \u001b[0mx\u001b[0m \u001b[0;34m=\u001b[0m \u001b[0;36m5\u001b[0m       \u001b[0;31m# declare local x -> UnboundLocalError for print(x)\u001b[0m\u001b[0;34m\u001b[0m\u001b[0;34m\u001b[0m\u001b[0m\n",
            "\u001b[0;31mUnboundLocalError\u001b[0m: cannot access local variable 'x' where it is not associated with a value"
          ]
        }
      ]
    },
    {
      "cell_type": "code",
      "source": [
        "# Use global to modify global variable\n",
        "count = 0\n",
        "\n",
        "def inc():\n",
        "    global count    # Specify to use the variable \"count\" in global symbol tabl\n",
        "    count += 1\n",
        "\n",
        "inc()\n",
        "inc()\n",
        "print(f\"count = {count}\")\n"
      ],
      "metadata": {
        "colab": {
          "base_uri": "https://localhost:8080/"
        },
        "id": "_6nUqC_-W1c8",
        "outputId": "533eb147-c956-4be4-914f-c28b5139e7a8"
      },
      "execution_count": null,
      "outputs": [
        {
          "output_type": "stream",
          "name": "stdout",
          "text": [
            "count = 2\n"
          ]
        }
      ]
    },
    {
      "cell_type": "code",
      "source": [
        "# use nonlocal to modify the variables in enclosing functions\n",
        "def outer():\n",
        "    msg = \"hello\"\n",
        "\n",
        "    def inner():\n",
        "        nonlocal msg    # Specify to use the variable \"msg\" in outer()'s symbol table\n",
        "        msg = \"world\"\n",
        "\n",
        "    inner()\n",
        "    print(f\"after inner: {msg}\")\n",
        "\n",
        "outer()\n"
      ],
      "metadata": {
        "colab": {
          "base_uri": "https://localhost:8080/"
        },
        "id": "IQ7ZTzr-Xh9H",
        "outputId": "ada78cb4-4a22-4ee7-dd12-b35404bc409f"
      },
      "execution_count": null,
      "outputs": [
        {
          "output_type": "stream",
          "name": "stdout",
          "text": [
            "after inner: world\n"
          ]
        }
      ]
    },
    {
      "cell_type": "code",
      "source": [
        "# comparison\n",
        "def outer():\n",
        "    msg = \"hello\"\n",
        "\n",
        "    def inner():\n",
        "        msg = \"world\"   # this \"msg\" is in inner()'s symbol table\n",
        "\n",
        "    inner()\n",
        "    print(f\"after inner: {msg}\")   # this \"msg\" is in outer()'s symbol table\n",
        "\n",
        "outer()"
      ],
      "metadata": {
        "colab": {
          "base_uri": "https://localhost:8080/"
        },
        "id": "tIZ2NWUWZXYE",
        "outputId": "b9790b76-56fe-4409-b2b5-bf1145e34b3c"
      },
      "execution_count": null,
      "outputs": [
        {
          "output_type": "stream",
          "name": "stdout",
          "text": [
            "after inner: hello\n"
          ]
        }
      ]
    },
    {
      "cell_type": "markdown",
      "source": [
        "* 在一個函式被呼叫的時候，實際傳入的參數（引數）會被加入至該函式的區域符號表。因此，引數傳入的方式為傳值呼叫 (call by value)（這裡傳遞的值永遠是一個物件的參照 (reference)，而不是該物件的值）。當一個函式呼叫別的函式或遞迴呼叫它自己時，在被呼叫的函式中會建立一個新的區域符號表。\n",
        "\n",
        "The actual parameters (arguments) to a function call are introduced in the local symbol table of the called function when it is called; thus, arguments are passed using call by value (where the value is always an object reference, not the value of the object). When a function calls another function, or calls itself recursively, a new local symbol table is created for that call."
      ],
      "metadata": {
        "id": "1FQiz458Sly9"
      }
    },
    {
      "cell_type": "code",
      "source": [
        "# Call by value(value: object reference) -> Pass by \"object reference\"\n",
        "def modify(val, lst):\n",
        "    val = 999       # rebind local variable \"val\"\n",
        "    lst.append(4)   # By reference, operating on the same list. Modify the original object.\n",
        "\n",
        "a = 1\n",
        "b = [1, 2, 3]\n",
        "modify(a, b)\n",
        "print(a, b)"
      ],
      "metadata": {
        "colab": {
          "base_uri": "https://localhost:8080/"
        },
        "id": "h4KSwc_7SmQ6",
        "outputId": "7e71b40f-2964-426c-dde8-71a80147aede"
      },
      "execution_count": null,
      "outputs": [
        {
          "output_type": "stream",
          "name": "stdout",
          "text": [
            "1 [1, 2, 3, 4]\n"
          ]
        }
      ]
    },
    {
      "cell_type": "markdown",
      "source": [
        "Python 的引數傳遞模式：既不是傳值也不是純參考，而是「傳參考的值」:\n",
        "\n",
        "Python 採用「以物件參考為值的呼叫方式」（pass-by-object-reference，或稱 call-by-sharing）。\n",
        "換句話說，呼叫時傳給函式的是物件的參考（reference），但這個參考本身是以值的方式傳入的。\n",
        "\n",
        "* 傳值呼叫 (call by value) vs. 傳參考呼叫 (call by reference)\n",
        "1. 傳值呼叫: 傳遞的是「值」的複本，不論該值多大、是物件還是原始型別，函式內賦新值只會影響副本，不會改到呼叫端。\n",
        "2. 傳參考呼叫: 傳遞的是「變數所在位置（記憶體位址）」的參考，函式透過這個參考操作外部變數本身，賦新值或修改內容都會直接反映到呼叫端。\n",
        "-> Python 不符合嚴格的「純傳值」或「純傳參考」定義，而是：\n",
        "傳參考的值：函式接到一個指向原物件的參考，這個參考本身又是用值的方式傳入。\n",
        "\n",
        "最貼切的描述是：\n",
        "Python 的引數傳遞是將參考當作值傳遞，也就是在呼叫時複製物件參考，但不複製物件本身。\n",
        "1. 與 Symbol Table 的關係:\n",
        "Python 將「變數名稱」與「物件參考」的對應，儲存在函式執行時所建立的 symbol table（實作上是高速的陣列與映射結構）中。\n",
        "引數傳遞機制，其實就是在呼叫時把「參考」放到當次呼叫的 local symbol table 裡，讓後續的賦值與讀取都透過這張 table 完成。\n",
        "\n",
        "\n",
        "\n",
        "\n",
        "\n",
        "\n"
      ],
      "metadata": {
        "id": "HowDGfvAbiuM"
      }
    },
    {
      "cell_type": "markdown",
      "source": [
        "* 實際上，即使一個函式缺少一個 return 陳述式，它亦有一個固定的回傳值。這個值稱為 None（它是一個內建名稱）。"
      ],
      "metadata": {
        "id": "jl3zcs_cXWIR"
      }
    },
    {
      "cell_type": "code",
      "source": [
        "def compute_sum(a, b):\n",
        "    total = a + b\n",
        "    print(total)\n",
        "\n",
        "x = compute_sum(3, 4)\n",
        "\n",
        "print(f\"External received: {x}\")"
      ],
      "metadata": {
        "colab": {
          "base_uri": "https://localhost:8080/"
        },
        "id": "CdzLH5yoXZZN",
        "outputId": "b8ca7c9f-7516-424d-ffb5-58d4f29439ce"
      },
      "execution_count": null,
      "outputs": [
        {
          "output_type": "stream",
          "name": "stdout",
          "text": [
            "7\n",
            "External received: None\n"
          ]
        }
      ]
    },
    {
      "cell_type": "markdown",
      "source": [
        "None 常見應用:\n",
        "- 用 None 當作「預設值」或「尚未初始化」的標記\n",
        "- 別把 None 誤認為空字串 ''、數字 0 或空列表 []\n",
        "- 在分支裡若某些路徑漏寫 return，也會回傳 None，可能導致程式邏輯錯誤\n",
        "- None 是 singleton，整個程式中只有一個實例\n",
        "- 在條件判斷時，if variable is None: 是檢查「是否真的沒有值」的慣用寫法\n",
        "- None 在布林運算中視為 False\n"
      ],
      "metadata": {
        "id": "Ih9C9VTZkyih"
      }
    },
    {
      "cell_type": "code",
      "source": [
        "def append_list(item, lst=None):\n",
        "    if lst is None:\n",
        "        lst = []\n",
        "    lst.append(item)\n",
        "    return lst\n",
        "\n",
        "print(append_list(1))\n",
        "\n",
        "print(append_list(4, [1, 2, 3]))"
      ],
      "metadata": {
        "colab": {
          "base_uri": "https://localhost:8080/"
        },
        "id": "gvc_gWG0lR8u",
        "outputId": "7e3bdcd5-3862-46dd-d718-317a73012fe1"
      },
      "execution_count": null,
      "outputs": [
        {
          "output_type": "stream",
          "name": "stdout",
          "text": [
            "[1]\n",
            "[1, 2, 3, 4]\n"
          ]
        }
      ]
    },
    {
      "cell_type": "markdown",
      "source": [
        "Best practice of None:"
      ],
      "metadata": {
        "id": "OLFuLFeTlRW8"
      }
    },
    {
      "cell_type": "code",
      "source": [
        "# 1. 用途區分：缺值 vs 錯誤\n",
        "# 當函式「合法地沒有結果」時，回傳 None\n",
        "# 當發生「不可接受的狀態」或「運算失敗」時，應該丟出例外而不是回傳 None\n",
        "def find_user(id):\n",
        "    user = db.query(id)\n",
        "    if not user:\n",
        "        return None  # 合法：沒找到就是沒有資料\n",
        "    return user\n",
        "\n",
        "def load_config(path):\n",
        "    if not os.path.exists(path):\n",
        "        raise FileNotFoundError(f\"{path} does not exist.\")  # 錯誤：直接以例外通知呼叫端\n",
        "    # ... 讀檔並回傳設定"
      ],
      "metadata": {
        "id": "4lsl9GASlSb2"
      },
      "execution_count": null,
      "outputs": []
    },
    {
      "cell_type": "code",
      "source": [
        "# 2. 型別提示：明示 Optional\n",
        "# 搭配 PEP 484 的型別提示，讓團隊或靜態檢查工具一眼就看出哪裡可能是 None\n",
        "from typing import Optional\n",
        "import datetime\n",
        "\n",
        "def parse_date(s: str) -> Optional[datetime.date]:\n",
        "    try:\n",
        "        return datetime.strptime(s, \"%Y-%m-%d\").date()\n",
        "    except ValueError:\n",
        "        return None"
      ],
      "metadata": {
        "id": "ydkpZ8icnj5N"
      },
      "execution_count": null,
      "outputs": []
    },
    {
      "cell_type": "code",
      "source": [
        "# 3. 單一實例：None 是 singleton\n",
        "# - 比較時用 is None 而不是 == None\n",
        "# - None 在布林上下文會當作 False，但為了可讀性，還是用 is／is not\n",
        "a = None\n",
        "b = None\n",
        "c = 5\n",
        "print(id(a))\n",
        "print(id(b))\n",
        "print(a is b)\n",
        "\n",
        "if a is None:\n",
        "    print(f\"a is None\")\n",
        "\n",
        "if c is not None:\n",
        "    print(f\"c is not None\")"
      ],
      "metadata": {
        "colab": {
          "base_uri": "https://localhost:8080/"
        },
        "id": "8XeorTSjn5cV",
        "outputId": "9618b7a3-2040-4a1d-ac36-4629f86dfa20"
      },
      "execution_count": null,
      "outputs": [
        {
          "output_type": "stream",
          "name": "stdout",
          "text": [
            "9695488\n",
            "9695488\n",
            "True\n",
            "a is None\n",
            "c is not None\n"
          ]
        }
      ]
    },
    {
      "cell_type": "markdown",
      "source": [
        "##4.8 More on Defining Functions"
      ],
      "metadata": {
        "id": "8F5JGvHoeJeF"
      }
    },
    {
      "cell_type": "markdown",
      "source": [
        "###4.8.1. Default Argument Values"
      ],
      "metadata": {
        "id": "Px7_OTIduuJV"
      }
    },
    {
      "cell_type": "code",
      "source": [
        "def ask_ok(prompt, retries=4, reminder='Please try again!'):\n",
        "    while True:\n",
        "        ok = input(prompt)\n",
        "        if ok in ('y', 'ye', 'yes'):\n",
        "            return True\n",
        "        if ok in ('n', 'no', 'nop', 'nope'):\n",
        "            return False\n",
        "        retries = retries - 1\n",
        "        if retries < 0:\n",
        "            raise ValueError('invalid user response')\n",
        "        print(reminder)"
      ],
      "metadata": {
        "id": "HYOtDyPbeNdj"
      },
      "execution_count": null,
      "outputs": []
    },
    {
      "cell_type": "code",
      "source": [
        "# 重要警告：預設值只求值一次。\n",
        "# 當預設值為可變物件，例如 list、dictionary（字典）或許多類別實例時，會產生不同的結果。\n",
        "# 例如，以下函式於後續呼叫時會累積曾經傳遞的引數：\n",
        "def f(a, L=[]):\n",
        "    L.append(a)\n",
        "    return L\n",
        "\n",
        "print(f(1))\n",
        "print(f(2))\n",
        "print(f(3))"
      ],
      "metadata": {
        "colab": {
          "base_uri": "https://localhost:8080/"
        },
        "id": "obSoOMewvQUY",
        "outputId": "c28c3f64-5ef2-4f91-8079-aa4702fb9498"
      },
      "execution_count": null,
      "outputs": [
        {
          "output_type": "stream",
          "name": "stdout",
          "text": [
            "[1]\n",
            "[1, 2]\n",
            "[1, 2, 3]\n"
          ]
        }
      ]
    },
    {
      "cell_type": "code",
      "source": [
        "# 如果不想在後續呼叫之間共用預設值，應以如下方式編寫函式：\n",
        "def f(a, L=None):\n",
        "    if L is None:\n",
        "        L = []\n",
        "    L.append(a)\n",
        "    return L\n",
        "\n",
        "print(f(1))\n",
        "print(f(2))\n",
        "print(f(3))"
      ],
      "metadata": {
        "colab": {
          "base_uri": "https://localhost:8080/"
        },
        "id": "Y89C_3Z4vs0l",
        "outputId": "00cb0163-ccec-4b84-b147-1ff85b4236ef"
      },
      "execution_count": null,
      "outputs": [
        {
          "output_type": "stream",
          "name": "stdout",
          "text": [
            "[1]\n",
            "[2]\n",
            "[3]\n"
          ]
        }
      ]
    },
    {
      "cell_type": "markdown",
      "source": [
        "###4.8.2 Keyword Arguments"
      ],
      "metadata": {
        "id": "jy5upxzixLmM"
      }
    },
    {
      "cell_type": "code",
      "source": [
        "def parrot(voltage, state='a stiff', action='voom', type='Norwegian Blue'):\n",
        "    print(\"-- This parrot wouldn't\", action, end=' ')\n",
        "    print(\"if you put\", voltage, \"volts through it.\")\n",
        "    print(\"-- Lovely plumage, the\", type)\n",
        "    print(\"-- It's\", state, \"!\")\n",
        "    print(\"\\n\")"
      ],
      "metadata": {
        "id": "-Vbtljfiv1Va"
      },
      "execution_count": null,
      "outputs": []
    },
    {
      "cell_type": "code",
      "source": [
        "# Valid Call\n",
        "parrot(1000)                                          # 1 positional argument\n",
        "parrot(voltage=1000)                                  # 1 keyword argument\n",
        "parrot(voltage=1000000, action='VOOOOOM')             # 2 keyword arguments\n",
        "parrot(action='VOOOOOM', voltage=1000000)             # 2 keyword arguments\n",
        "parrot('a million', 'bereft of life', 'jump')         # 3 positional arguments\n",
        "parrot('a thousand', state='pushing up the daisies')  # 1 positional, 1 keyword"
      ],
      "metadata": {
        "colab": {
          "base_uri": "https://localhost:8080/"
        },
        "id": "sbMQiS5KSQNt",
        "outputId": "286890e9-32e9-430d-9eb2-d68ba977d1e2"
      },
      "execution_count": null,
      "outputs": [
        {
          "output_type": "stream",
          "name": "stdout",
          "text": [
            "-- This parrot wouldn't voom if you put 1000 volts through it.\n",
            "-- Lovely plumage, the Norwegian Blue\n",
            "-- It's a stiff !\n",
            "\n",
            "\n",
            "-- This parrot wouldn't voom if you put 1000 volts through it.\n",
            "-- Lovely plumage, the Norwegian Blue\n",
            "-- It's a stiff !\n",
            "\n",
            "\n",
            "-- This parrot wouldn't VOOOOOM if you put 1000000 volts through it.\n",
            "-- Lovely plumage, the Norwegian Blue\n",
            "-- It's a stiff !\n",
            "\n",
            "\n",
            "-- This parrot wouldn't VOOOOOM if you put 1000000 volts through it.\n",
            "-- Lovely plumage, the Norwegian Blue\n",
            "-- It's a stiff !\n",
            "\n",
            "\n",
            "-- This parrot wouldn't jump if you put a million volts through it.\n",
            "-- Lovely plumage, the Norwegian Blue\n",
            "-- It's bereft of life !\n",
            "\n",
            "\n",
            "-- This parrot wouldn't voom if you put a thousand volts through it.\n",
            "-- Lovely plumage, the Norwegian Blue\n",
            "-- It's pushing up the daisies !\n",
            "\n",
            "\n"
          ]
        }
      ]
    },
    {
      "cell_type": "code",
      "source": [
        "# Invalid Call\n",
        "parrot()                     # required argument missing\n",
        "parrot(voltage=5.0, 'dead')  # non-keyword argument after a keyword argument\n",
        "parrot(110, voltage=220)     # duplicate value for the same argument\n",
        "parrot(actor='John Cleese')  # unknown keyword argument"
      ],
      "metadata": {
        "colab": {
          "base_uri": "https://localhost:8080/",
          "height": 106
        },
        "id": "mrcBR3hGSTQ9",
        "outputId": "c16ceac8-9ea4-4875-82e3-41a5e8d1d653"
      },
      "execution_count": null,
      "outputs": [
        {
          "output_type": "error",
          "ename": "SyntaxError",
          "evalue": "positional argument follows keyword argument (ipython-input-3113429359.py, line 3)",
          "traceback": [
            "\u001b[0;36m  File \u001b[0;32m\"/tmp/ipython-input-3113429359.py\"\u001b[0;36m, line \u001b[0;32m3\u001b[0m\n\u001b[0;31m    parrot(voltage=5.0, 'dead')  # non-keyword argument after a keyword argument\u001b[0m\n\u001b[0m                              ^\u001b[0m\n\u001b[0;31mSyntaxError\u001b[0m\u001b[0;31m:\u001b[0m positional argument follows keyword argument\n"
          ]
        }
      ]
    },
    {
      "cell_type": "code",
      "source": [
        "# 1. kind 是一個必填的位置參數\n",
        "# 2. *arguments 收集所有多餘的位置參數成為一個 tuple\n",
        "# 3. **keywords 收集所有多餘的關鍵字參數成為一個 dict\n",
        "# 4. 呼叫時可用 *、** 解包已有的 list/tuple、dict\n",
        "# 5. 常見於不定參數函式、decorator、CLI 工具封裝\n",
        "\n",
        "def cheeseshop(kind, *arguments, **keywords):\n",
        "    print(\"-- Do you have any\", kind, \"?\")\n",
        "    print(\"-- I'm sorry, we're all out of\", kind)\n",
        "    for arg in arguments:\n",
        "        print(arg)\n",
        "    print(\"-\" * 40)\n",
        "    for kw in keywords:\n",
        "        print(kw, \":\", keywords[kw])"
      ],
      "metadata": {
        "id": "jyxliuXtSqhv"
      },
      "execution_count": null,
      "outputs": []
    },
    {
      "cell_type": "code",
      "source": [
        "cheeseshop(\"Limburger\",\n",
        "           \"It's very runny, sir.\",\n",
        "           \"It's really very, VERY runny, sir.\",\n",
        "           shopkeeper=\"Michael Palin\",\n",
        "           client=\"John Cleese\",\n",
        "           sketch=\"Cheese Shop Sketch\")\n",
        "# 注意，關鍵字引數的輸出順序與呼叫函式時被提供的順序必定一致。"
      ],
      "metadata": {
        "colab": {
          "base_uri": "https://localhost:8080/"
        },
        "id": "nHWT7MOsTTgW",
        "outputId": "56a820a5-15ef-4833-9f8b-875a35c69de6"
      },
      "execution_count": null,
      "outputs": [
        {
          "output_type": "stream",
          "name": "stdout",
          "text": [
            "-- Do you have any Limburger ?\n",
            "-- I'm sorry, we're all out of Limburger\n",
            "It's very runny, sir.\n",
            "It's really very, VERY runny, sir.\n",
            "----------------------------------------\n",
            "shopkeeper : Michael Palin\n",
            "client : John Cleese\n",
            "sketch : Cheese Shop Sketch\n"
          ]
        }
      ]
    },
    {
      "cell_type": "code",
      "source": [
        "# Another example:\n",
        "def func(kind, *arguments, **keywords):\n",
        "    print(\"kind       =\", kind)\n",
        "    print(\"arguments  =\", arguments)\n",
        "    print(\"keywords   =\", keywords)\n",
        "\n",
        "func(\"sum\", 1, 2, 3, debug=True, verbose=False)"
      ],
      "metadata": {
        "colab": {
          "base_uri": "https://localhost:8080/"
        },
        "id": "zFstNPu4TaTf",
        "outputId": "30ae2309-3732-4133-9ebb-93de163f605b"
      },
      "execution_count": null,
      "outputs": [
        {
          "output_type": "stream",
          "name": "stdout",
          "text": [
            "kind       = sum\n",
            "arguments  = (1, 2, 3)\n",
            "keywords   = {'debug': True, 'verbose': False}\n"
          ]
        }
      ]
    },
    {
      "cell_type": "code",
      "source": [
        "args = [10, 20, 30]\n",
        "kwargs = {\"precision\": 2, \"rounding\": \"floor\"}\n",
        "\n",
        "func(\"average\", *args, **kwargs)\n",
        "# 在呼叫時，*args 會把 list 內的元素拆成位置參數\n",
        "# **kwargs 會把 dict 內的鍵值對拆成關鍵字參數"
      ],
      "metadata": {
        "colab": {
          "base_uri": "https://localhost:8080/"
        },
        "id": "9v4K3iv0dDCi",
        "outputId": "3bce0a74-d5bf-4392-9c40-138ff148f26a"
      },
      "execution_count": null,
      "outputs": [
        {
          "output_type": "stream",
          "name": "stdout",
          "text": [
            "kind       = average\n",
            "arguments  = (10, 20, 30)\n",
            "keywords   = {'precision': 2, 'rounding': 'floor'}\n"
          ]
        }
      ]
    },
    {
      "cell_type": "code",
      "source": [
        "# Usage of typing\n",
        "from typing import Any\n",
        "\n",
        "def func(kind: str, *args: Any, **kwargs: Any) -> None:\n",
        "    print(\"kind       =\", kind)\n",
        "    print(\"arguments  =\", args)\n",
        "    print(\"keywords   =\", kwargs)\n",
        "\n",
        "func(\"sum\", 1, 2, 3, debug=True, verbose=False)"
      ],
      "metadata": {
        "colab": {
          "base_uri": "https://localhost:8080/"
        },
        "id": "yExwQIyJdO5E",
        "outputId": "ee0fd506-21e2-48b4-8e7e-36a68bc0c1b2"
      },
      "execution_count": null,
      "outputs": [
        {
          "output_type": "stream",
          "name": "stdout",
          "text": [
            "kind       = sum\n",
            "arguments  = (1, 2, 3)\n",
            "keywords   = {'debug': True, 'verbose': False}\n"
          ]
        }
      ]
    },
    {
      "cell_type": "markdown",
      "source": [
        "###4.8.6 Lambda Expressions\n",
        "lambda 關鍵字用於建立小巧的匿名函式。lambda a, b: a+b 函式返回兩個引數的和。Lambda 函式可用於任何需要函數物件的地方。在語法上，它們被限定只能是單一運算式。在語義上，它就是一個普通函式定義的語法糖 (syntactic sugar)。與巢狀函式定義一樣，lambda 函式可以從包含它的作用域中引用變數："
      ],
      "metadata": {
        "id": "frOG3pBm7r5h"
      }
    },
    {
      "cell_type": "code",
      "source": [
        "def make_incrementor(n):\n",
        "    return lambda x: x + n\n",
        "\n",
        "# which is equivlant to\n",
        "def _make_incrementor(n):\n",
        "    def increment(x):\n",
        "        return x + n\n",
        "    return increment\n",
        "\n",
        "f = make_incrementor(42)    # n = 42\n",
        "print(f(0))                 # x = 0\n",
        "print(f(10))                # x = 10\n",
        "print(f(20))                # x = 20"
      ],
      "metadata": {
        "colab": {
          "base_uri": "https://localhost:8080/"
        },
        "id": "n8AEj7BY7rSU",
        "outputId": "5127e5c3-e65f-404c-beca-0dbd1a5e0a33"
      },
      "execution_count": null,
      "outputs": [
        {
          "output_type": "stream",
          "name": "stdout",
          "text": [
            "42\n",
            "52\n",
            "62\n"
          ]
        }
      ]
    },
    {
      "cell_type": "code",
      "source": [
        "pairs = [(1, 'one'), (2, 'two'), (3, 'three'), (4, 'four')]\n",
        "pairs.sort(key=lambda pair: pair[1])\n",
        "print(pairs)\n",
        "\n",
        "# which is euqivlant to\n",
        "def get_second(pair: tuple[int, str]) -> str:\n",
        "    return pair[1]\n",
        "pairs = [(1, 'one'), (2, 'two'), (3, 'three'), (4, 'four')]\n",
        "pairs.sort(key=get_second)\n",
        "print(pairs)\n",
        "\n"
      ],
      "metadata": {
        "colab": {
          "base_uri": "https://localhost:8080/"
        },
        "id": "_uO5EdMLfGqh",
        "outputId": "086be198-ed76-4c04-ac3b-31c73f126ed0"
      },
      "execution_count": null,
      "outputs": [
        {
          "output_type": "stream",
          "name": "stdout",
          "text": [
            "[(4, 'four'), (1, 'one'), (3, 'three'), (2, 'two')]\n",
            "[(4, 'four'), (1, 'one'), (3, 'three'), (2, 'two')]\n"
          ]
        }
      ]
    },
    {
      "cell_type": "markdown",
      "source": [
        "###4.8.7 Documentation Strings\n"
      ],
      "metadata": {
        "id": "lgph1sj1_udO"
      }
    },
    {
      "cell_type": "code",
      "source": [
        "def my_func():\n",
        "    \"\"\"The 1st line is suggest to be a brief and clear documentaion of this function.\n",
        "\n",
        "    The 2nd line is suggested to be empty.\n",
        "    Addtional contents is suggested to be written from the 2nd line.\n",
        "    \"\"\"\n",
        "    pass\n",
        "\n",
        "print(my_func.__doc__)"
      ],
      "metadata": {
        "id": "Thw6fqZp-goD",
        "colab": {
          "base_uri": "https://localhost:8080/"
        },
        "outputId": "f147d680-ba34-48f2-caf3-34c3a6b2696f"
      },
      "execution_count": null,
      "outputs": [
        {
          "output_type": "stream",
          "name": "stdout",
          "text": [
            "The 1st line is suggest to be a brief and clear documentaion of this function.\n",
            "    \n",
            "    The 2nd line is suggested to be empty.\n",
            "    Addtional contents is suggested to be written from the 2nd line.\n",
            "    \n"
          ]
        }
      ]
    },
    {
      "cell_type": "markdown",
      "source": [
        "###4.8.8 Function Annotations"
      ],
      "metadata": {
        "id": "gunp759KF3Tl"
      }
    },
    {
      "cell_type": "code",
      "source": [
        "def my_func(ham: str, eggs_add: int = 1) -> str:\n",
        "    pass\n",
        "\n",
        "print(my_func.__annotations__)"
      ],
      "metadata": {
        "colab": {
          "base_uri": "https://localhost:8080/"
        },
        "id": "zRJG4vtnEtb_",
        "outputId": "d1a73289-246c-4c19-aa3a-6d6a550c1dfb"
      },
      "execution_count": null,
      "outputs": [
        {
          "output_type": "stream",
          "name": "stdout",
          "text": [
            "{'ham': <class 'str'>, 'eggs_add': <class 'int'>, 'return': <class 'str'>}\n"
          ]
        }
      ]
    },
    {
      "cell_type": "markdown",
      "source": [
        "##4.9 Coding Style\n",
        "對於 Python，大多數的專案都遵循 PEP 8 的樣式指南；它推行的編碼樣式相當可讀且賞心悅目。每個 Python 開發者都應該花點時間研讀"
      ],
      "metadata": {
        "id": "wRf47po2K5AT"
      }
    },
    {
      "cell_type": "markdown",
      "source": [
        "PEP 8 – Python 程式碼風格指南\n",
        "* Introduction\n",
        "1. 本文提供 Python 標準函式庫（standard library）程式碼的編碼慣例。\n",
        "2. 請參閱另一份配套資訊 PEP，該文件描述了 Python C 語言實作中 C 程式碼的風格指南。\n",
        "3. 本文件與 PEP 257（Docstring 規範）改編自 Guido 的原始《Python Style Guide》文章，並融合 Barry 的風格指南部分內容。\n",
        "4. 隨著新的慣例被識別，以及語言本身的演變，使得舊的慣例被淘汰，本風格指南也會持續更新。\n",
        "許多專案會有自己的編碼風格指南；若與本指南衝突，則以該專案的指南為準。\n",
        "\n",
        "風格指南的核心是*一致性*。\n",
        "與本風格指南一致很重要，*專案內一致性更重要*，而*在單個模組或函式內一致性則是最重要的。*\n",
        "\n"
      ],
      "metadata": {
        "id": "-MMDFE1aMmtp"
      }
    },
    {
      "cell_type": "markdown",
      "source": [
        "###Code Lay-out\n",
        "1. 縮排（Indentation）\n",
        "- 每一層縮排使用 4 個空格。\n",
        " - 續行（Continuation lines）應該在括號、中括號與大括號內使用 Python 的隱式行連接，使換行元素垂直對齊；\n",
        " - 或是採用懸掛縮排（hanging indent）。使用懸掛縮排時需注意：第一行不應有引數，且後續縮排應足以清楚區分為續行\n"
      ],
      "metadata": {
        "id": "3sFBSsa_NWyT"
      }
    },
    {
      "cell_type": "code",
      "source": [
        "# Correct:\n",
        "\n",
        "# Aligned with opening delimiter.\n",
        "foo = long_function_name(var_one, var_two,\n",
        "                         var_three, var_four)\n",
        "\n",
        "# Add 4 spaces (an extra level of indentation) to distinguish arguments from the rest.\n",
        "def long_function_name(\n",
        "        var_one, var_two, var_three,\n",
        "        var_four):\n",
        "    print(var_one)\n",
        "\n",
        "# Hanging indents should add a level.\n",
        "foo = long_function_name(\n",
        "    var_one, var_two,\n",
        "    var_three, var_four)"
      ],
      "metadata": {
        "id": "-DRk77kbN7ZJ"
      },
      "execution_count": null,
      "outputs": []
    },
    {
      "cell_type": "code",
      "source": [
        "# Wrong:\n",
        "\n",
        "# Arguments on first line forbidden when not using vertical alignment.\n",
        "foo = long_function_name(var_one, var_two,\n",
        "    var_three, var_four)\n",
        "\n",
        "# Further indentation required as indentation is not distinguishable.\n",
        "def long_function_name(\n",
        "    var_one, var_two, var_three,\n",
        "    var_four):\n",
        "    print(var_one)"
      ],
      "metadata": {
        "id": "9apkidIQOoU5"
      },
      "execution_count": null,
      "outputs": []
    },
    {
      "cell_type": "markdown",
      "source": [
        "2. 若 if 條件部分過長需要跨行，須注意：\n",
        "- if（兩字元）+ 空格 + 開括號，會自然形成 4 空格的縮排，可能與 if 內程式碼縮排衝突。\n",
        "- 本 PEP 對如何進一步視覺區分不作明確規定，可接受做法包括：\n"
      ],
      "metadata": {
        "id": "MO-0ZuA2Px4j"
      }
    },
    {
      "cell_type": "code",
      "source": [
        "# No extra indentation.\n",
        "if (this_is_one_thing and\n",
        "    that_is_another_thing):\n",
        "    do_something()\n",
        "\n",
        "# Add a comment, which will provide some distinction in editors\n",
        "# supporting syntax highlighting.\n",
        "if (this_is_one_thing and\n",
        "    that_is_another_thing):\n",
        "    # Since both conditions are true, we can frobnicate.\n",
        "    do_something()\n",
        "\n",
        "# Add some extra indentation on the conditional continuation line.\n",
        "if (this_is_one_thing\n",
        "        and that_is_another_thing):\n",
        "    do_something()"
      ],
      "metadata": {
        "id": "QUymIXlOQYQz"
      },
      "execution_count": null,
      "outputs": []
    },
    {
      "cell_type": "markdown",
      "source": [
        "3. 多行結構的閉括號可以：\n",
        "- 對齊列表最後一行的第一個非空白字元\n",
        "- 或對齊開頭的第一個字元\n"
      ],
      "metadata": {
        "id": "h0XsC3pvQz-A"
      }
    },
    {
      "cell_type": "code",
      "source": [
        "my_list = [\n",
        "    1, 2, 3,\n",
        "    4, 5, 6,\n",
        "    ]\n",
        "result = some_function_that_takes_arguments(\n",
        "    'a', 'b', 'c',\n",
        "    'd', 'e', 'f',\n",
        "    )"
      ],
      "metadata": {
        "id": "tklrTQkiQ8-0"
      },
      "execution_count": null,
      "outputs": []
    },
    {
      "cell_type": "code",
      "source": [
        "my_list = [\n",
        "    1, 2, 3,\n",
        "    4, 5, 6,\n",
        "]\n",
        "result = some_function_that_takes_arguments(\n",
        "    'a', 'b', 'c',\n",
        "    'd', 'e', 'f',\n",
        ")"
      ],
      "metadata": {
        "id": "H0Jklkc4RBWI"
      },
      "execution_count": null,
      "outputs": []
    },
    {
      "cell_type": "markdown",
      "source": [
        "###Tab 還是空格？\n",
        "- 偏好使用空格縮排。\n",
        "- Tab 僅用於與已使用 Tab 縮排的代碼保持一致。\n",
        "- Python 禁止混用 Tab 與空格縮排。\n"
      ],
      "metadata": {
        "id": "lnmR-BtuRE1D"
      }
    },
    {
      "cell_type": "markdown",
      "source": [
        "###最大行長（Maximum Line Length）\n",
        "- 限制所有行長 ≤ 79 個字元\n",
        "- docstring 與註解 ≤ 72 個字元\n",
        "\n",
        "理由：保持編輯器視窗寬度可並列多檔，同時利於代碼審查工具並排顯示版本差異。\n",
        "\n",
        "對於長行換行，應優先使用括號等隱式續行，而非反斜線。\n",
        "\n"
      ],
      "metadata": {
        "id": "1A_NWuejV2I8"
      }
    },
    {
      "cell_type": "markdown",
      "source": [
        "###二元運算子換行位置\n",
        "- 過去建議在二元運算子後換行，但可讀性較差。\n",
        "- 數學出版傳統（Donald Knuth）建議在二元運算子前換行，可讓運算子更易與運算元匹配：\n"
      ],
      "metadata": {
        "id": "0mXKNJUSWDJs"
      }
    },
    {
      "cell_type": "code",
      "source": [
        "# Wrong:\n",
        "# operators sit far away from their operands\n",
        "income = (gross_wages +\n",
        "          taxable_interest +\n",
        "          (dividends - qualified_dividends) -\n",
        "          ira_deduction -\n",
        "          student_loan_interest)"
      ],
      "metadata": {
        "id": "2tbGani7VwE5"
      },
      "execution_count": null,
      "outputs": []
    },
    {
      "cell_type": "code",
      "source": [
        "# Correct:\n",
        "# easy to match operators with operands\n",
        "income = (gross_wages\n",
        "          + taxable_interest\n",
        "          + (dividends - qualified_dividends)\n",
        "          - ira_deduction\n",
        "          - student_loan_interest)"
      ],
      "metadata": {
        "id": "YxOv24LdWKxG"
      },
      "execution_count": null,
      "outputs": []
    },
    {
      "cell_type": "markdown",
      "source": [
        "###空行（Blank Lines）\n",
        "- 頂層函式與類定義之間用 兩行空白\n",
        "- 類內方法之間用 一行空白\n",
        "- 可用空行分組相關函式\n",
        "- 函式內可用空行區分邏輯部分\n",
        "\n",
        "Python 接受 control-L（^L）換頁符作為空白字元，部分工具會將其視為分頁。\n"
      ],
      "metadata": {
        "id": "8Kp0ouNGWNBQ"
      }
    },
    {
      "cell_type": "markdown",
      "source": [
        "###Imports\n",
        "\n",
        "所有匯入語句應放在檔案最上方，緊接在任何模組註解與 docstring 之後，並位於模組全域變數與常數之前。\n",
        "\n",
        "匯入應按下列順序分組，每組之間留一行空白：\n",
        "- 標準函式庫的匯入\n",
        "- 相關第三方函式庫的匯入\n",
        "- 本地應用程式或特定函式庫的匯入\n",
        "\n",
        "\n"
      ],
      "metadata": {
        "id": "FqEdcE9sWlbd"
      }
    },
    {
      "cell_type": "code",
      "source": [
        "# 強烈建議使用絕對匯入，因為它們通常更易閱讀，若匯入系統設定錯誤也會提供較佳的錯誤訊息。例如：\n",
        "import mypkg.sibling\n",
        "from mypkg import sibling\n",
        "from mypkg.sibling import example\n",
        "\n",
        "# 在包結構複雜且絶對匯入顯得冗長的情況下，顯式相對匯入也是可接受的替代方案：\n",
        "from . import sibling\n",
        "from .sibling import example"
      ],
      "metadata": {
        "id": "IElzg6ztWiZB"
      },
      "execution_count": null,
      "outputs": []
    },
    {
      "cell_type": "code",
      "source": [
        "# 標準函式庫程式碼應避免過度複雜的包結構，並始終使用絕對匯入。\n",
        "# 從包含類的模組匯入類時，通常可直接這樣寫：\n",
        "from myclass import MyClass\n",
        "from foo.bar.yourclass import YourClass\n",
        "\n",
        "# 若此寫法導致本地命名衝突，則可改為：\n",
        "import myclass\n",
        "import foo.bar.yourclass\n",
        "\n",
        "# 然後使用：\n",
        "myclass.MyClass\n",
        "foo.bar.yourclass.YourClass"
      ],
      "metadata": {
        "id": "FAvQZRPj0Fvk"
      },
      "execution_count": null,
      "outputs": []
    },
    {
      "cell_type": "markdown",
      "source": [
        "應避免使用萬用字元匯入（from <module> import *），因為它會讓讀者和自動化工具難以判別命名空間中有哪些名稱。\n",
        "\n",
        "唯一可辯護的使用案例是：重新發布一個內部介面作為公開 API 的一部分（例如以可選加速模組覆蓋純 Python 實作，且覆蓋哪些定義事先未知）。\n",
        "\n",
        "此時，仍需遵循下文關於公開和內部介面的規範。\n"
      ],
      "metadata": {
        "id": "h214YXwc0g-C"
      }
    },
    {
      "cell_type": "markdown",
      "source": [
        "###模組級別魔術名稱（Module Level Dunder Names）"
      ],
      "metadata": {
        "id": "tVrHo7JE0xom"
      }
    },
    {
      "cell_type": "markdown",
      "source": [
        "模組級別的「dunders」（前後各兩個底線的名稱，如 __all__、__author__、__version__ 等）應放在模組 docstring 之後，但在除 __future__ 匯入以外的所有匯入語句之前。\n",
        "\n",
        "Python 強制規定，__future__ 匯入必須在模組中出現在除了 docstring 以外的任何程式碼之前。\n"
      ],
      "metadata": {
        "id": "NR7Ct3r91GZq"
      }
    },
    {
      "cell_type": "code",
      "source": [
        "\"\"\"This is the example module.\n",
        "\n",
        "This module does stuff.\n",
        "\"\"\"\n",
        "\n",
        "from __future__ import barry_as_FLUFL\n",
        "#為何要將 __future__ 匯入放在最前\n",
        "# - Python 解析器在載入模組時就必須知道哪些未來功能要啟用，必須在任何可執行程式碼（註解和 docstring 除外）之前解析它們。\n",
        "# - 若放在其他匯入或程式碼之後，編譯階段已經走過，這些新語法特性就不會生效，甚至會直接報語法錯誤。\n",
        "\n",
        "__all__ = ['a', 'b', 'c']\n",
        "__version__ = '0.1'\n",
        "__author__ = 'Cardinal Biggles'\n",
        "#為何 __all__、__version__ 等 dunder 要在一般匯入之前\n",
        "# 1. 定義模組公開 API\n",
        "#   - __all__ 告訴工具與使用者「當執行 from module import * 時，僅匯出這些名稱」。\n",
        "#   - 如果先匯入其他模組，再定義 __all__，那些匯入進來的名稱也有可能被納入，破壞預期的命名空間。\n",
        "# 2. 提供 metadata 以供工具讀取\n",
        "#   - 文檔生成器（如 Sphinx）、封裝工具或 CI 腳本常常在不執行模組內部邏輯的情況下，直接讀取 __version__、__author__ 等屬性，方便生成文件或驗證版本。\n",
        "#   - 放在匯入之前，可以保證在不加載龐大依賴的情況下，就能取得模組元資訊。\n",
        "# 3. 減少初始化時的循環依賴與性能負擔\n",
        "#   - 若模組頂層就有複雜匯入，可能造成啟動緩慢或循環匯入。提前定義 dunder，可讓純屬性宣告獨立於重度匯入邏輯之外。\n",
        "\n",
        "import os\n",
        "import sys"
      ],
      "metadata": {
        "id": "cjHAYARx0rjM"
      },
      "execution_count": null,
      "outputs": []
    },
    {
      "cell_type": "markdown",
      "source": [
        "###字串引用(String Quotes)\n",
        "\n",
        "- 在 Python 中，單引號字串和雙引號字串完全相同。PEP 本身對二者並無偏好，*但務必選定一種並貫徹使用*。\n",
        "\n",
        "- *若字串中包含單引號或雙引號，請使用另一種引號以避免在字串內加入反斜線，這能提升可讀性。*\n",
        "\n",
        "- *對於三引號字串，應始終使用雙引號*，以與 PEP 257 中的 docstring 慣例保持一致。\n",
        "\n"
      ],
      "metadata": {
        "id": "adokQ7pn1XQi"
      }
    },
    {
      "cell_type": "markdown",
      "source": [
        "###表達式與敘述中的空白（Whitespace in Expressions and Statements）\n",
        "\n",
        "討厭的多餘空白（Pet Peeves）\n",
        "\n",
        "請避免在以下情境中出現多餘空白：\n"
      ],
      "metadata": {
        "id": "H-Uc8yTXdbYJ"
      }
    },
    {
      "cell_type": "code",
      "source": [
        "# 括號、方括號或大括號內部立即出現空格：\n",
        "# Correct:\n",
        "spam(ham[1], {eggs: 2})\n",
        "\n",
        "# Wrong:\n",
        "spam( ham[ 1 ], { eggs: 2 } )"
      ],
      "metadata": {
        "id": "Qr5m0B5Qc6_1"
      },
      "execution_count": null,
      "outputs": []
    },
    {
      "cell_type": "code",
      "source": [
        "# 逗號後緊接閉括號前的空格：\n",
        "# Correct:\n",
        "foo = (0,)\n",
        "\n",
        "# Wrong:\n",
        "bar = (0, )"
      ],
      "metadata": {
        "id": "uG_3Eu8Od73I"
      },
      "execution_count": null,
      "outputs": []
    },
    {
      "cell_type": "code",
      "source": [
        "# 逗號、分號或冒號前的空格：\n",
        "# Correct:\n",
        "if x == 4: print(x, y); x, y = y, x\n",
        "\n",
        "# Wrong:\n",
        "if x == 4 : print(x , y) ; x , y = y , x"
      ],
      "metadata": {
        "id": "hDOkMVrTeKEI"
      },
      "execution_count": null,
      "outputs": []
    },
    {
      "cell_type": "code",
      "source": [
        "# 在函式呼叫引數列表開括號前：\n",
        "# Correct:\n",
        "spam(1)\n",
        "\n",
        "# Wrong:\n",
        "spam (1)"
      ],
      "metadata": {
        "id": "IC3AhPUaeVkI"
      },
      "execution_count": null,
      "outputs": []
    },
    {
      "cell_type": "code",
      "source": [
        "# 在索引或切片的開括號前：\n",
        "# Correct:\n",
        "dct['key'] = lst[index]\n",
        "\n",
        "# Wrong:\n",
        "dct ['key'] = lst [index]"
      ],
      "metadata": {
        "id": "D97zWZeOejc2"
      },
      "execution_count": null,
      "outputs": []
    },
    {
      "cell_type": "code",
      "source": [
        "# 為了對齊而在賦值或其他運算子周圍加入多於一個空格：\n",
        "# Correct:\n",
        "x = 1\n",
        "y = 2\n",
        "long_variable = 3\n",
        "\n",
        "# Wrong:\n",
        "x             = 1\n",
        "y             = 2\n",
        "long_variable = 3"
      ],
      "metadata": {
        "id": "OjuLpUi_eoWU"
      },
      "execution_count": null,
      "outputs": []
    },
    {
      "cell_type": "code",
      "source": [
        "# 切片中的冒號視為最低優先序的二元運算子，左右兩邊應保持相同空格量。\n",
        "# 在擴展切片時，所有冒號都應應用相同的空格。\n",
        "# 例外：若省略某個切片參數，則不留空格。\n",
        "# Correct:\n",
        "ham[1:9], ham[1:9:3], ham[:9:3], ham[1::3], ham[1:9:]\n",
        "ham[lower:upper], ham[lower:upper:], ham[lower::step]\n",
        "ham[lower+offset : upper+offset]\n",
        "ham[: upper_fn(x) : step_fn(x)], ham[:: step_fn(x)]\n",
        "ham[lower + offset : upper + offset]\n",
        "\n",
        "# Wrong:\n",
        "ham[lower + offset:upper + offset]\n",
        "ham[1: 9], ham[1 :9], ham[1:9 :3]\n",
        "ham[lower : : step]\n",
        "ham[ : upper]"
      ],
      "metadata": {
        "id": "fXPfDiMOez2M"
      },
      "execution_count": null,
      "outputs": []
    },
    {
      "cell_type": "markdown",
      "source": [
        "###其他建議（Other Recommendations）\n",
        "1.  避免行尾出現空白，它通常是隱形的，容易造成混淆。例如反斜線 + 空格 + 換行不再算作續行標記。\n",
        "\n",
        "2.  一律在下列二元運算子兩側各留一個空格：\n",
        "    - 賦值（=）\n",
        "    - 增強賦值（+=、-= 等）\n",
        "    - 比較（==、<、>、!=、<=、>=、in、not in、is、is not）\n",
        "    - 布林運算（and、or、not）\n"
      ],
      "metadata": {
        "id": "zYdHhFrQfPhv"
      }
    },
    {
      "cell_type": "code",
      "source": [
        "# 如遇不同優先序的運算子，可在優先度最低者兩側考慮加空格，但絕不要多於一個空格，且必須保持左右對稱：\n",
        "# Correct:\n",
        "i = i + 1\n",
        "submitted += 1\n",
        "x = x*2 - 1\n",
        "hypot2 = x*x + y*y\n",
        "c = (a+b) * (a-b)\n",
        "\n",
        "# Wrong:\n",
        "i=i+1\n",
        "submitted +=1\n",
        "x = x * 2 - 1\n",
        "hypot2 = x * x + y * y\n",
        "c = (a + b) * (a - b)"
      ],
      "metadata": {
        "id": "AeDbvVASfgzI"
      },
      "execution_count": null,
      "outputs": []
    },
    {
      "cell_type": "code",
      "source": [
        "# 函式註記（annotations）應遵循一般冒號規則，若有 -> 返回值註記，箭頭兩側應留空格。\n",
        "# Correct:\n",
        "def munge(input: AnyStr): ...\n",
        "def munge() -> PosInt: ...\n",
        "\n",
        "# Wrong:\n",
        "def munge(input:AnyStr): ...\n",
        "def munge()->PosInt: ...\n"
      ],
      "metadata": {
        "id": "bUYmDL9bf2eD"
      },
      "execution_count": null,
      "outputs": []
    },
    {
      "cell_type": "code",
      "source": [
        "# 在 keyword 參數或未註記參數的預設值前後，不要加空格：\n",
        "# Correct:\n",
        "def complex(real, imag=0.0):\n",
        "    return magic(r=real, i=imag)\n",
        "\n",
        "# Wrong:\n",
        "def complex(real, imag = 0.0):\n",
        "    return magic(r = real, i = imag)\n"
      ],
      "metadata": {
        "id": "4xEh5kDaf_Rb"
      },
      "execution_count": null,
      "outputs": []
    },
    {
      "cell_type": "code",
      "source": [
        "# 若參數同時有註記和預設值，= 兩側保留一個空格：\n",
        "# Correct:\n",
        "def munge(sep: AnyStr = None): ...\n",
        "def munge(input: AnyStr, sep: AnyStr = None, limit=1000): ...\n",
        "\n",
        "# Wrong:\n",
        "def munge(input: AnyStr=None): ...\n",
        "def munge(input: AnyStr, limit = 1000): ...\n"
      ],
      "metadata": {
        "id": "i9_XFEPYgGWh"
      },
      "execution_count": null,
      "outputs": []
    },
    {
      "cell_type": "code",
      "source": [
        "# 盡量避免在同一行書寫多個陳述（compound statements）。\n",
        "# Correct:\n",
        "if foo == 'blah':\n",
        "    do_blah_thing()\n",
        "do_one()\n",
        "do_two()\n",
        "do_three()\n",
        "\n",
        "# Wrong:\n",
        "if foo == 'blah': do_blah_thing()\n",
        "do_one(); do_two(); do_three()"
      ],
      "metadata": {
        "id": "xM_xgg5ngSNY"
      },
      "execution_count": null,
      "outputs": []
    },
    {
      "cell_type": "code",
      "source": [
        "# 即便對於小型單行的 if/for/while，有時可以同行，但絕不要用於多分支或多子句的情境，且避免把長行摺疊到一行。\n",
        "# Wrong:\n",
        "if foo == 'blah': do_blah_thing()\n",
        "for x in lst: total += x\n",
        "while t < 10: t = delay()\n",
        "\n",
        "# Wrong:\n",
        "if foo == 'blah': do_blah_thing()\n",
        "else: do_non_blah_thing()\n",
        "\n",
        "try: something()\n",
        "finally: cleanup()\n",
        "\n",
        "do_one(); do_two(); do_three(long, argument,\n",
        "                             list, like, this)\n",
        "\n",
        "if foo == 'blah': one(); two(); three()"
      ],
      "metadata": {
        "id": "UdCrYSPxgkn2"
      },
      "execution_count": null,
      "outputs": []
    },
    {
      "cell_type": "markdown",
      "source": [
        "###何時使用結尾逗號（When to Use Trailing Commas）\n",
        "\n",
        "\n"
      ],
      "metadata": {
        "id": "W-CbsWj2g0Fa"
      }
    },
    {
      "cell_type": "code",
      "source": [
        "# 結尾逗號通常是可選的，唯一必須使用的情況是建立僅有一個元素的 tuple。\n",
        "# 為了清晰起見，建議將此情況加上（技術上屬於多餘的）括號：\n",
        "# Correct:\n",
        "FILES = ('setup.cfg',)\n",
        "\n",
        "# Wrong:\n",
        "FILES = 'setup.cfg',"
      ],
      "metadata": {
        "id": "neIyC-A0s15W"
      },
      "execution_count": null,
      "outputs": []
    },
    {
      "cell_type": "code",
      "source": [
        "# 當結尾逗號並非必要時，如果預期值的清單、引數列表或匯入項會隨時間在版本控制系統中擴展，它們往往很有幫助。\n",
        "# 模式是：將每個值（或引數、匯入項等）各自放在單獨一行，並始終加上結尾逗號，然後將關閉的括號 / 方括號 / 大括號放在下一行。\n",
        "# 然而，除了上述單元素 tuple 的情況外，結尾逗號出現在與閉合分隔符同一行的寫法沒有意義：\n",
        "# Correct:\n",
        "FILES = [\n",
        "    'setup.cfg',\n",
        "    'tox.ini',\n",
        "    ]\n",
        "initialize(FILES,\n",
        "           error=True,\n",
        "           )\n",
        "\n",
        "# Wrong:\n",
        "FILES = ['setup.cfg', 'tox.ini',]\n",
        "initialize(FILES, error=True,)\n"
      ],
      "metadata": {
        "id": "ylmR60Rrs7ld"
      },
      "execution_count": null,
      "outputs": []
    },
    {
      "cell_type": "markdown",
      "source": [
        "###註解（Comments）\n",
        "\n",
        "與程式碼相矛盾的註解比沒有註解更糟。當程式碼變更時，一定要優先保持註解更新！\n",
        "\n",
        "註解應為完整的句子。第一個單字應該大寫，除非它是以小寫字母開頭的識別字（切勿改變識別字的大小寫）。\n",
        "\n",
        "區塊註解（block comments）通常由一個或多個段落構成，每個句子以句號結尾。\n",
        "\n",
        "在多句的註解中，句號後應使用一或兩個空格，最後一句除外。\n",
        "\n",
        "確保你的註解對使用該語言的其他讀者而言清晰易懂。\n",
        "\n",
        "對於來自非英語國家的 Python 程式員：請使用英文撰寫註解，除非你120% 確定該程式碼絕不會被不懂你語言的人閱讀。\n"
      ],
      "metadata": {
        "id": "l-NeLn1AtN8j"
      }
    },
    {
      "cell_type": "markdown",
      "source": [
        "####區塊註解（Block Comments）\n",
        "區塊註解通常適用於緊接在其後的某段（或全部）程式碼，並與該程式碼保持相同縮排層級。\n",
        "\n",
        "區塊註解的每一行都以 # 後接一個空格開始（除非是註解內部的縮排文字）。\n",
        "\n",
        "區塊註解中的段落應以僅含 # 的空行分隔。\n"
      ],
      "metadata": {
        "id": "bUYPoL6wttY0"
      }
    },
    {
      "cell_type": "markdown",
      "source": [
        "####行內註解（Inline Comments）\n",
        "行內註解應謹慎使用。\n",
        "\n",
        "行內註解是在與程式碼同一行的位置加上的註解。\n",
        "\n",
        "它們應與程式碼之間至少間隔兩個空格，並以 # 後接一個空格開始。\n",
        "\n",
        "\n"
      ],
      "metadata": {
        "id": "mxhV6ZaDt1zE"
      }
    },
    {
      "cell_type": "code",
      "source": [
        "# 若行內註解只是陳述顯而易見的事，則沒有必要，反而會分散注意力。不要這樣寫：\n",
        "x = x + 1                 # Increment x"
      ],
      "metadata": {
        "id": "jn2bSWaitr5D"
      },
      "execution_count": null,
      "outputs": []
    },
    {
      "cell_type": "code",
      "source": [
        "# 但在某些情況下，這樣則很有用：\n",
        "x = x + 1                 # Compensate for border"
      ],
      "metadata": {
        "id": "GdgwAPNHuAdH"
      },
      "execution_count": null,
      "outputs": []
    },
    {
      "cell_type": "markdown",
      "source": [
        "####文件字串（Documentation Strings, Docstrings）\n",
        "撰寫良好文件字串的慣例（又稱 “docstrings”）在 PEP 257 中有詳細規範。\n",
        "\n",
        "為所有公共的模組、函式、類別和方法撰寫 docstring。\n",
        "\n",
        "對於非公共方法，不必有 docstring，但應在 def 行之後寫一個註解描述該方法功能。\n"
      ],
      "metadata": {
        "id": "zsL0-mZkuGbp"
      }
    },
    {
      "cell_type": "code",
      "source": [
        "# PEP 257 描述了良好的 docstring 慣例。最重要的一點是：\n",
        "# 結束多行 docstring 的 \"\"\" 應單獨置於一行：\n",
        "\"\"\"Return a foobang\n",
        "\n",
        "Optional plotz says to frobnicate the bizbaz first.\n",
        "\"\"\"\n"
      ],
      "metadata": {
        "id": "Ozr5c1TLv1sv"
      },
      "execution_count": null,
      "outputs": []
    },
    {
      "cell_type": "code",
      "source": [
        "# 對於單行的 docstring，請將結束的 \"\"\" 與內容放在同一行：\n",
        "\"\"\"Return an ex-parrot.\"\"\"\n"
      ],
      "metadata": {
        "id": "uUC0bg-rv-YR"
      },
      "execution_count": null,
      "outputs": []
    },
    {
      "cell_type": "markdown",
      "source": [
        "###Naming Conventions\n",
        "Python 標準函式庫的命名慣例有點混亂，因此我們永遠不可能完全達到一致——儘管如此，以下是目前建議的命名標準。\n",
        "\n",
        "新的模組和套件（包括第三方框架）應遵循這些標準，但如果現有函式庫已採用不同風格，則應優先保持其內部一致性。\n"
      ],
      "metadata": {
        "id": "SkGxzDMkwCPd"
      }
    },
    {
      "cell_type": "markdown",
      "source": [
        "####首要原則（Overriding Principle）\n",
        "對使用者可見的 *公共 API 名稱* 應遵循反映「使用方式」而非「實作細節」的命名慣例。\n"
      ],
      "metadata": {
        "id": "ErlBXv6BwaYW"
      }
    },
    {
      "cell_type": "markdown",
      "source": [
        "####描述性：命名風格（Descriptive: Naming Styles）\n",
        "\n",
        "存在許多不同的命名風格。能夠辨別所使用的命名風格，而不依賴其用途，是一件有幫助的事。\n",
        "\n",
        "常見的命名風格包括：\n",
        "- `b`（單一小寫字母）\n",
        "- `B`（單一大寫字母）\n",
        "- `lowercase`（全小寫）\n",
        "- `lower_case_with_underscores`（小寫加底線分隔）\n",
        "- `UPPERCASE`（全大寫）\n",
        "- `UPPER_CASE_WITH_UNDERSCORES`（全大寫加底線分隔）\n",
        "- `CapitalizedWords`（或 `CapWords`、`CamelCase` —— 因字母的高低起伏而得名），有時也被稱為 StudlyCaps。\n",
        "- 注意： 在 CapWords 中使用縮寫時，應將縮寫的所有字母大寫。因此 `HTTPServerError` 比 `HttpServerError` 更佳。\n",
        "- `mixedCase`（與 `CapitalizedWords` 不同，首字為小寫）\n",
        "- `Capitalized_Words_With_Underscores`（這種風格很醜！）\n",
        "\n",
        "\n"
      ],
      "metadata": {
        "id": "PPKROSkFwabB"
      }
    },
    {
      "cell_type": "markdown",
      "source": [
        "####特殊形式：前後底線（Special Forms with Leading or Trailing Underscores）\n",
        "\n",
        "以下是幾種使用底線的特殊形式（通常可與任一大小寫風格組合使用）：\n",
        "\n",
        "- `_single_leading_underscore`：弱式「僅供內部使用」指示。例如：from M import * 不會匯入名稱以下劃線開頭的物件。\n",
        "- `single_trailing_underscore_`：依慣例用於避免與 Python 關鍵字衝突，例如：\n",
        "```python\n",
        "tkinter.Toplevel(master, class_='ClassName')\n",
        "```\n",
        "- `__double_leading_underscore`：當用於命名類別屬性時，會觸發名稱改編（name mangling）（例如在類別 `FooBar` 內，`__boo` 會變成 `_FooBar__boo`；見下文）。\n",
        "- `__double_leading_and_trailing_underscore__`：所謂的「魔術方法」或「特殊屬性」，存在於使用者可控的命名空間中。例如：`__init__`、`__import__` 或 `__file__`。不要自行創造這類名稱；僅在文件中有說明的情況下使用。\n",
        "\n"
      ],
      "metadata": {
        "id": "jhIAPErWxjf6"
      }
    },
    {
      "cell_type": "markdown",
      "source": [
        "#### 規範性：命名慣例（Prescriptive: Naming Conventions）"
      ],
      "metadata": {
        "id": "td-xLGnQwaeQ"
      }
    },
    {
      "cell_type": "markdown",
      "source": [
        "#####應避免的名稱（Names to Avoid）\n",
        "1. 切勿使用以下字元作為單一字元的變數名稱：\n",
        "- `l`（小寫 L）\n",
        "- `O`（大寫 O）\n",
        "- `I`（大寫 I）\n",
        "2. 在某些字型中，這些字元與數字 1 和 0 無法區分。\n",
        "如果想用 l，請改用 L。\n"
      ],
      "metadata": {
        "id": "BjPmTB6kPJem"
      }
    },
    {
      "cell_type": "code",
      "source": [
        "# ❌ 錯誤（字型下難辨識，容易和數字混淆）\n",
        "l = 5   # 小寫 L\n",
        "O = 10  # 大寫 O\n",
        "I = 20  # 大寫 I\n",
        "\n",
        "# ✅ 正確\n",
        "length = 5\n",
        "order_count = 10\n",
        "index_val = 20\n",
        "\n",
        "# 若一定要用單字母\n",
        "L = 5"
      ],
      "metadata": {
        "id": "vr507veyTx_v"
      },
      "execution_count": null,
      "outputs": []
    },
    {
      "cell_type": "markdown",
      "source": [
        "#####套件與模組名稱（Package and Module Names）\n",
        "1. *模組名稱*應該簡短且全小寫。\n",
        "\n",
        "    如有助於可讀性，可使用底線 `_`。\n",
        "\n",
        "2. *Python 套件名稱*也應簡短且全小寫，但*不建議*使用底線。\n",
        "\n",
        "3. 當用 C 或 C++ 撰寫的擴充模組有對應的 Python 模組（提供更高層級、面向物件的介面）時，C/C++ 模組名稱應加*前導底線*（例如 `_socket`）。\n"
      ],
      "metadata": {
        "id": "EPVeiyhDPms0"
      }
    },
    {
      "cell_type": "code",
      "source": [
        "# ✅ 正確：模組短且全小寫，可用底線增強可讀性\n",
        "math_utils.py\n",
        "\n",
        "# ❌ 錯誤：駝峰或大寫不建議\n",
        "MathUtils.py\n",
        "\n",
        "# ✅ C 擴充模組命名\n",
        "_socket   # C/C++ 模組\n",
        "socket.py # Python 封裝介面"
      ],
      "metadata": {
        "id": "k_HDEFwDT4js"
      },
      "execution_count": null,
      "outputs": []
    },
    {
      "cell_type": "markdown",
      "source": [
        "#####類別名稱（Class Names）\n",
        "1. 類別名稱應採用 *CapWords* 風格（例如 `MyClassName`）。\n",
        "\n",
        "2. 如果該類別的介面主要被當作可呼叫物件使用，且已撰寫文件說明，則可以改用函式命名規則。\n",
        "\n",
        "3. *內建名稱*有不同的慣例：大多數內建名稱是單一單詞（或兩個單詞連寫），只有例外名稱與內建常數才使用 CapWords。\n"
      ],
      "metadata": {
        "id": "ZpNDsjrAQA17"
      }
    },
    {
      "cell_type": "code",
      "source": [
        "# ✅ 正確\n",
        "class NetworkClient:\n",
        "    pass\n",
        "\n",
        "# ❌ 錯誤\n",
        "class network_client:\n",
        "    pass"
      ],
      "metadata": {
        "id": "go9YcZUPUGYg"
      },
      "execution_count": null,
      "outputs": []
    },
    {
      "cell_type": "markdown",
      "source": [
        "#####型別變數名稱（Type Variable Names）\n",
        "1. PEP 484 引入的型別變數名稱，通常使用 CapWords，並偏好短名稱，例如：`T`、`AnyStr`、`Num`。\n",
        "\n",
        "2. 建議在宣告協變與逆變行為時分別添加 `_co` 與 `_contra` 後綴：\n",
        "\n",
        "```python\n",
        "from typing import TypeVar\n",
        "\n",
        "VT_co = TypeVar('VT_co', covariant=True)\n",
        "KT_contra = TypeVar('KT_contra', contravariant=True)\n",
        "```"
      ],
      "metadata": {
        "id": "Gbwt35aKQVOa"
      }
    },
    {
      "cell_type": "code",
      "source": [
        "from typing import TypeVar\n",
        "\n",
        "# ✅ 簡短且符合規範\n",
        "T = TypeVar('T')\n",
        "AnyStr = TypeVar('AnyStr', str, bytes)\n",
        "VT_co = TypeVar('VT_co', covariant=True)\n",
        "KT_contra = TypeVar('KT_contra', contravariant=True)"
      ],
      "metadata": {
        "id": "666wQHiOUiYL"
      },
      "execution_count": null,
      "outputs": []
    },
    {
      "cell_type": "markdown",
      "source": [
        "#####例外名稱（Exception Names）\n",
        "1. 例外應該是類別，因此適用類別命名慣例。\n",
        "\n",
        "2. 如果例外實際上代表錯誤，建議名稱以 `Error` 作為後綴。\n"
      ],
      "metadata": {
        "id": "s-T_9OLuQr4V"
      }
    },
    {
      "cell_type": "code",
      "source": [
        "# ✅ 正確\n",
        "class ConfigError(Exception):\n",
        "    pass\n",
        "\n",
        "# ❌ 錯誤（缺少 Error 後綴）\n",
        "class Config(Exception):\n",
        "    pass"
      ],
      "metadata": {
        "id": "2luJmrzOUrwe"
      },
      "execution_count": null,
      "outputs": []
    },
    {
      "cell_type": "markdown",
      "source": [
        "#####全域變數名稱（Global Variable Names）\n",
        "1. （希望這些變數僅在單一模組內使用。）\n",
        "\n",
        "2. 命名規則與函式相同。\n",
        "\n",
        "3. 設計成可用 `from M import *` 匯入的模組應使用 `__all__` 機制以避免匯出全域變數，或採用舊有慣例在名稱前加底線 `_`（此方式可表示該變數為「模組非公開」）。\n"
      ],
      "metadata": {
        "id": "5yqNWxZRQw-0"
      }
    },
    {
      "cell_type": "code",
      "source": [
        "# module.py\n",
        "# ✅ 非公開全域變數\n",
        "_temp_cache = {}\n",
        "\n",
        "# ✅ 使用 __all__ 控制匯出\n",
        "__all__ = ['get_data']\n",
        "\n",
        "def get_data():\n",
        "    ..."
      ],
      "metadata": {
        "id": "bbtDwsKmUxIs"
      },
      "execution_count": null,
      "outputs": []
    },
    {
      "cell_type": "markdown",
      "source": [
        "#####函式與變數名稱（Function and Variable Names）\n",
        "1. 函式名稱應全小寫，必要時使用底線 `_` 分隔單字以提升可讀性。\n",
        "\n",
        "2. 變數名稱遵循與函式相同的規則。\n",
        "\n",
        "3. 只有在既有程式碼風格已採用 `mixedCase`（例如 threading.py）時，才可使用該風格，以保留向後相容性。\n"
      ],
      "metadata": {
        "id": "LpTwbkRnRAZi"
      }
    },
    {
      "cell_type": "code",
      "source": [
        "# ✅ 正確：小寫+底線\n",
        "def calculate_total(price, tax_rate):\n",
        "    return price * (1 + tax_rate)\n",
        "\n",
        "total_amount = calculate_total(100, 0.05)\n",
        "\n",
        "# ❌ 錯誤：駝峰式（除非沿用舊風格）\n",
        "def CalculateTotal(...):\n",
        "    ..."
      ],
      "metadata": {
        "id": "MRNCesU7U4Tc"
      },
      "execution_count": null,
      "outputs": []
    },
    {
      "cell_type": "markdown",
      "source": [
        "#####函式與方法的參數（Function and Method Arguments）\n",
        "1. 實例方法的第一個參數必須命名為 `self`。\n",
        "\n",
        "2. 類別方法的第一個參數必須命名為 `cls`。\n",
        "\n",
        "3. 若函式參數名稱與保留關鍵字衝突，通常優先在名稱後加單一底線 `_`，而非縮寫或拼字變形。\n",
        "- 例如：`class_` 優於 `clss`。（更好的做法是使用同義詞以避免衝突。）\n"
      ],
      "metadata": {
        "id": "iGYlxrsDSxKe"
      }
    },
    {
      "cell_type": "code",
      "source": [
        "class MyClass:\n",
        "    # ✅ 實例方法：self\n",
        "    def instance_method(self, value):\n",
        "        self.value = value\n",
        "\n",
        "    # ✅ 類別方法：cls\n",
        "    @classmethod\n",
        "    def from_config(cls, config):\n",
        "        return cls(config)\n",
        "\n",
        "# 關鍵字衝突\n",
        "def create_class(name, class_):\n",
        "    print(class_)"
      ],
      "metadata": {
        "id": "8qfyZXiQU91R"
      },
      "execution_count": null,
      "outputs": []
    },
    {
      "cell_type": "markdown",
      "source": [
        "#####方法名稱與實例變數（Method Names and Instance Variables）\n",
        "1. 遵循函式命名規則：全小寫、單字用底線 `_` 分隔。\n",
        "\n",
        "2. 單一前導底線 `_` 用於非公開方法與實例變數。\n",
        "\n",
        "3. 雙前導底線 `__` 會觸發 Python 名稱改編（name mangling）機制以避免與子類別命名衝突。\n",
        "\n",
        "Python 會將屬性名稱改編為 `_ClassName__attr`。\n",
        "\n",
        "例如，若類別 `Foo` 有屬性 `__a`，則無法直接用 `Foo.__a` 存取（但可用 `Foo._Foo__a` 強行存取）。\n",
        "\n",
        "注意： 雙前導底線應僅在設計可被繼承的類別中，為避免名稱衝突時才使用。\n",
        "另外，關於 `__names` 的使用仍有一些爭議（見下文）。\n"
      ],
      "metadata": {
        "id": "gaGdS-CGS9i4"
      }
    },
    {
      "cell_type": "code",
      "source": [
        "class Foo:\n",
        "    # ✅ 非公開成員\n",
        "    def _internal_method(self):\n",
        "        pass\n",
        "\n",
        "    # ✅ 名稱改編避免衝突\n",
        "    def __private_method(self):\n",
        "        pass\n",
        "\n",
        "class Bar(Foo):\n",
        "    def __private_method(self):  # 不會覆蓋 Foo 的 __private_method\n",
        "        pass"
      ],
      "metadata": {
        "id": "sp5qKp_DVN3V"
      },
      "execution_count": null,
      "outputs": []
    },
    {
      "cell_type": "markdown",
      "source": [
        "#####常數（Constants）\n",
        "1. 常數通常定義在模組層級，並使用*全大寫字母*，單字以底線 `_` 分隔。\n",
        "\n",
        "例如：`MAX_OVERFLOW`、`TOTAL`\n",
        "\n",
        "\n"
      ],
      "metadata": {
        "id": "kE78w1NHTUj9"
      }
    },
    {
      "cell_type": "code",
      "source": [
        "# ✅ 模組層級常數\n",
        "MAX_CONNECTIONS = 10\n",
        "DEFAULT_TIMEOUT = 30"
      ],
      "metadata": {
        "id": "bjEt92dwVTjQ"
      },
      "execution_count": null,
      "outputs": []
    },
    {
      "cell_type": "markdown",
      "source": [
        "#####為繼承而設計（Designing for Inheritance）\n",
        "在設計類別時，務必先決定其方法與實例變數（統稱為「屬性」）應該是 *公開（public）* 還是 *非公開（non-public）*。\n",
        "\n",
        "若拿不定主意，應先選擇 *非公開*；因為將非公開屬性改為公開相對容易，而將公開屬性改成非公開則困難得多。\n",
        "\n",
        "- 公開屬性：\n",
        "指你預期無關的外部使用者（clients）會使用的屬性，並且你承諾未來不會進行破壞相容性的修改。\n",
        "- 非公開屬性：\n",
        "指不打算讓第三方使用的屬性，對其未來的變更或移除不做任何保證。\n",
        "\n",
        "我們在此不使用「私有（private）」一詞，因為在 Python 中沒有真正意義上的私有屬性（除非付出通常沒必要的額外代價）。\n",
        "\n",
        "還有一類屬性屬於 「*子類別 API*」（在其他語言中常稱為「受保護 protected」）。\n",
        "\n",
        "某些類別專為被繼承設計，用來擴展或修改類別行為。\n",
        "\n",
        "設計此類別時，應明確決定哪些屬性是公開的，哪些屬性屬於子類別 API，哪些則僅供基底類別自身使用。\n"
      ],
      "metadata": {
        "id": "asR__i7WVWZP"
      }
    },
    {
      "cell_type": "markdown",
      "source": [
        "######Pythonic 命名準則\n",
        "- 公開屬性 不應有前置底線 `_`。\n",
        "- 若公開屬性名稱與保留關鍵字衝突，應在名稱末尾加上一個底線（`_`），\n",
        "這比縮寫或改壞拼字更佳。\n",
        "    - 例外：`cls` 是指代類別的首選拼法，特別是在類別方法的第一個參數。\n",
        "\n",
        "- 簡單的公開資料屬性\n",
        "    \n",
        "    直接公開屬性名稱即可，避免不必要的 getter/setter 方法。\n",
        "\n",
        "    若日後需要在存取時加入額外行為，可使用 `@property` 在不改變外部存取語法的前提下添加功能。\n",
        "    - 注意 1：盡量保持功能行為無副作用，但快取等副作用通常可接受。\n",
        "    - 注意 2：避免將計算量大的操作包成屬性存取，因為屬性語法會讓呼叫者誤以為開銷很低。\n",
        "\n",
        "- *不希望子類別使用的屬性*\n",
        "\n",
        "    可用「雙前底線、無尾底線」命名（`__attr`），\n",
        "    觸發 Python 的名稱改編（name mangling）機制，將類別名稱編入屬性名中，\n",
        "    以減少子類別意外產生命名衝突的機率。\n",
        "    - 注意 1：僅使用「簡單類別名稱」進行改編，若子類別名稱與屬性名都相同，仍可能衝突。\n",
        "    - 注意 2：名稱改編會讓某些情況（如除錯、`__getattr__()`）更不方便，但該算法有文件記載，手動處理也容易。\n",
        "    - 注意 3：並非所有人都喜歡名稱改編，應在防止衝突與進階使用者的可存取性之間取得平衡。\n"
      ],
      "metadata": {
        "id": "Cl6xyd_JWKSI"
      }
    },
    {
      "cell_type": "markdown",
      "source": [
        "######公開與內部介面（Public and Internal Interfaces）\n",
        "*相容性保證僅適用於公開介面。*\n",
        "\n",
        "因此使用者必須能清楚區分哪些介面是公開的，哪些是內部的。\n",
        "\n",
        "- 有文件記載的介面 視為公開，\n",
        "\n",
        "    除非文件中明確聲明該介面屬於試驗性（provisional）或內部介面，\n",
        "    不受相容性保證約束。\n",
        "\n",
        "- 無文件記載的介面 一律假定為內部介面。\n",
        "\n",
        "    為了更好地支援自省（introspection），模組應使用 `__all__` 明確聲明公開 API 的名稱列表。\n",
        "    \n",
        "    將 `__all__` 設為空清單代表該模組沒有任何公開 API。\n",
        "    \n",
        "    即使已正確設置 `__all__`，\n",
        "    內部介面（無論是套件、模組、類別、函式、屬性或其他名稱）仍應以單前底線 `_` 開頭。\n",
        "    \n",
        "    如果某名稱所在的命名空間（套件、模組或類別）屬於內部，該名稱也視為內部。\n",
        "\n",
        "*匯入的名稱* 應一律視為實作細節。\n",
        "\n",
        "其他模組不應依賴間接存取這些匯入名稱，\n",
        "\n",
        "除非它們是明確記錄為公開 API 的一部分，例如 `os.path`，\n",
        "\n",
        "或套件的 `__init__` 模組將子模組的功能對外暴露。\n"
      ],
      "metadata": {
        "id": "Wok7jiNGXFfj"
      }
    },
    {
      "cell_type": "code",
      "source": [
        "# 公開（public）vs 非公開（non-public）屬性\n",
        "class UserProfile:\n",
        "    def __init__(self, username, password):\n",
        "        # ✅ 公開屬性\n",
        "        self.username = username\n",
        "\n",
        "        # ✅ 非公開屬性（單前底線）\n",
        "        self._password = password\n",
        "\n",
        "    def check_password(self, pwd):\n",
        "        return self._password == pwd\n",
        "\n",
        "\n",
        "user = UserProfile(\"jason\", \"secret\")\n",
        "print(user.username)     # ✅ 外部可安全使用\n",
        "print(user._password)    # ⚠ 可讀但非 API 保證，不建議外部直接使用"
      ],
      "metadata": {
        "id": "bgMm5ky5XmY6"
      },
      "execution_count": null,
      "outputs": []
    },
    {
      "cell_type": "code",
      "source": [
        "# 子類別 API（protected-like）屬性\n",
        "class BaseParser:\n",
        "    def parse(self, data):\n",
        "        tokens = self._tokenize(data)  # 子類別可重寫\n",
        "        return tokens\n",
        "\n",
        "    def _tokenize(self, data):\n",
        "        raise NotImplementedError\n",
        "\n",
        "\n",
        "class MyParser(BaseParser):\n",
        "    def _tokenize(self, data):  # 子類別 API\n",
        "        return data.split()\n",
        "\n",
        "\n",
        "p = MyParser()\n",
        "print(p.parse(\"a b c\"))"
      ],
      "metadata": {
        "id": "VZevyItSirzU"
      },
      "execution_count": null,
      "outputs": []
    },
    {
      "cell_type": "code",
      "source": [
        "# 關鍵字衝突 → 使用尾底線 _\n",
        "class DataStore:\n",
        "    def __init__(self, class_):  # `class` 是保留字\n",
        "        self.class_ = class_\n",
        "\n",
        "\n",
        "ds = DataStore(\"MyClass\")\n",
        "print(ds.class_)"
      ],
      "metadata": {
        "id": "q-I5iLOMi2lF"
      },
      "execution_count": null,
      "outputs": []
    },
    {
      "cell_type": "code",
      "source": [
        "# 公開屬性直接公開，延後封裝\n",
        "class Config:\n",
        "    # 簡單公開資料屬性\n",
        "    timeout = 30\n",
        "\n",
        "cfg = Config()\n",
        "print(cfg.timeout)  # ✅ 直接訪問\n",
        "\n",
        "# 日後若要加行為，可用 @property 保留存取語法\n",
        "class ConfigV2:\n",
        "    def __init__(self):\n",
        "        self._timeout = 30\n",
        "\n",
        "    @property\n",
        "    def timeout(self):\n",
        "        print(\"讀取 timeout\")  # 允許快取等輕量副作用\n",
        "        return self._timeout\n",
        "\n",
        "\n",
        "cfg2 = ConfigV2()\n",
        "print(cfg2.timeout)"
      ],
      "metadata": {
        "id": "U-4DgrMui9Ft"
      },
      "execution_count": null,
      "outputs": []
    },
    {
      "cell_type": "code",
      "source": [
        "# 避免子類別誤用 → 雙前底線（名稱改編）\n",
        "class SecureBase:\n",
        "    def __init__(self):\n",
        "        self.__token = \"abc123\"  # 名稱會變成 _SecureBase__token\n",
        "\n",
        "    def get_token(self):\n",
        "        return self.__token\n",
        "\n",
        "\n",
        "class SubSecure(SecureBase):\n",
        "    def __init__(self):\n",
        "        super().__init__()\n",
        "        self.__token = \"xyz999\"  # 不會覆蓋基底類別的同名屬性\n",
        "\n",
        "\n",
        "obj = SubSecure()\n",
        "print(obj.get_token())  # 仍印出 abc123"
      ],
      "metadata": {
        "id": "g1a-XW_zoHJZ"
      },
      "execution_count": null,
      "outputs": []
    },
    {
      "cell_type": "code",
      "source": [
        "#  __all__ 控制公開 API\n",
        "\n",
        "# module mymodule.py\n",
        "__all__ = [\"public_func\"]\n",
        "\n",
        "def public_func():\n",
        "    return \"This is public\"\n",
        "\n",
        "def _internal_func():\n",
        "    return \"This is internal\"\n",
        "\n",
        "# anothor .py\n",
        "from mymodule import *  # 只會匯入 public_func"
      ],
      "metadata": {
        "id": "EAQ1ylvqoQkK"
      },
      "execution_count": null,
      "outputs": []
    },
    {
      "cell_type": "code",
      "source": [
        "# 內部介面命名\n",
        "\n",
        "# 單前底線表示內部\n",
        "_internal_cache = {}\n",
        "\n",
        "def _helper():\n",
        "    pass"
      ],
      "metadata": {
        "id": "v3SH_QNGobpm"
      },
      "execution_count": null,
      "outputs": []
    },
    {
      "cell_type": "code",
      "source": [
        "# 匯入名稱的 API 暴露\n",
        "# pkg/__init__.py\n",
        "from .utils import useful_func  # ✅ 明確暴露\n",
        "__all__ = [\"useful_func\"]\n",
        "\n",
        "# 其他地方可以安全使用 pkg.useful_func"
      ],
      "metadata": {
        "id": "YYMtJlEHoinj"
      },
      "execution_count": null,
      "outputs": []
    },
    {
      "cell_type": "markdown",
      "source": [
        "###Programming Recommendations"
      ],
      "metadata": {
        "id": "YCYG6-Rgopit"
      }
    },
    {
      "cell_type": "markdown",
      "source": [
        "####單例值比較（Comparisons to Singletons）\n",
        "- 與 `None` 之類的單例值比較時，應一律使用 `is` 或 `is not`，絕不要使用相等運算子（`==` 或 `!=`）。\n",
        "- 另外，當你想測試某變數或參數（預設為 `None`）是否被設為其他值時，避免寫成 `if x`，應該寫成 `if x is not None` —— 因為該「其他值」可能是布林上下文中為 `False` 的型別（例如空容器），這會造成誤判。\n",
        "\n"
      ],
      "metadata": {
        "id": "l4E14IHTCqoR"
      }
    },
    {
      "cell_type": "code",
      "source": [
        "# Correct:\n",
        "if value is None:\n",
        "    handle_missing()\n",
        "\n",
        "# Wrong:\n",
        "if value == None:   # PEP 8 明確禁止\n",
        "    handle_missing()"
      ],
      "metadata": {
        "id": "xBJwMnn5NE3f"
      },
      "execution_count": null,
      "outputs": []
    },
    {
      "cell_type": "markdown",
      "source": [
        "####is not 優於 not ... is\n",
        "雖然兩者功能相同，但可讀性上前者更佳，並為推薦用法：\n"
      ],
      "metadata": {
        "id": "QtE3lseDDFli"
      }
    },
    {
      "cell_type": "code",
      "source": [
        "# Correct:\n",
        "if foo is not None:\n",
        "\n",
        "# Wrong:\n",
        "if not foo is None:"
      ],
      "metadata": {
        "id": "nyS078Xvo1oy"
      },
      "execution_count": null,
      "outputs": []
    },
    {
      "cell_type": "markdown",
      "source": [
        "####排序運算子實作（Ordering Operations）\n",
        "- 在實作豐富比較（rich comparisons）時，最好實作全部六種運算方法：\n",
        "`__eq__`、`__ne__`、`__lt__`、`__le__`、`__gt__`、`__ge__`，\n",
        "而非假設呼叫方僅會使用某種特定比較。\n",
        "- 可用 `functools.total_ordering()` 裝飾器來減少撰寫重複程式碼的工作量。\n",
        "- PEP 207 指出 Python 假設比較運算具有對稱性（reflexivity），因此直譯器可能會自動將：\n",
        "    - `y > x` 轉換為 `x < y`\n",
        "    - `y >= x` 轉換為 `x <= y`\n",
        "    - `x == y` / `x != y` 對調參數\n",
        "- `sort()` 與 `min()` 保證使用 `<` 運算子，`max()` 使用 `>`，但仍建議實作全部六種方法以避免其他情境下的混淆。\n"
      ],
      "metadata": {
        "id": "4dmGe8oEDPZ1"
      }
    },
    {
      "cell_type": "code",
      "source": [
        "from functools import total_ordering\n",
        "\n",
        "@total_ordering\n",
        "class Version:\n",
        "    def __init__(self, major):\n",
        "        self.major = major\n",
        "\n",
        "    def __eq__(self, other):\n",
        "        return self.major == other.major\n",
        "\n",
        "    def __lt__(self, other):\n",
        "        return self.major < other.major"
      ],
      "metadata": {
        "id": "P1K6P1UCNM0d"
      },
      "execution_count": null,
      "outputs": []
    },
    {
      "cell_type": "markdown",
      "source": [
        "####def 優於 lambda 賦值\n",
        "- 永遠使用 def 陳述句來定義函式，而非將 lambda 直接賦值給變數：\n",
        "- 使用 `def` 可讓函式物件的名稱是 `f` 而不是 `<lambda>`，\n",
        "這對追蹤錯誤（traceback）與字串表示更有幫助。\n",
        "- 將 `lambda` 賦值給名稱，會失去 `lambda` 唯一的優勢（可嵌入更大的運算式中）。\n",
        "\n"
      ],
      "metadata": {
        "id": "gyxtexfnDx-D"
      }
    },
    {
      "cell_type": "code",
      "source": [
        "# Correct：\n",
        "def f(x): return 2 * x\n",
        "\n",
        "# Wrong：\n",
        "f = lambda x: 2 * x"
      ],
      "metadata": {
        "id": "K5vxQu-pDw3y"
      },
      "execution_count": null,
      "outputs": []
    },
    {
      "cell_type": "markdown",
      "source": [
        "####例外處理（Exceptions）\n",
        "- 例外類別應繼承自 `Exception` 而不是 `BaseException`。\n",
        "直接繼承 `BaseException` 僅限於幾乎不應被捕捉的情況（如 `SystemExit`、`KeyboardInterrupt`）。\n",
        "- 設計例外階層時，應根據呼叫端需要區分的狀況來設計，而非依據拋出例外的位置。\n",
        "目標是讓程式能回答「出了什麼問題？」而不是單純說「發生了問題」。\n",
        "可參考 PEP 3151 關於內建例外階層的經驗。\n",
        "- 類別命名慣例同樣適用於例外，若為錯誤類例外，類名應加上 `Error` 後綴；\n",
        "對於用於控制流程或訊號傳遞的非錯誤類例外則不必。\n"
      ],
      "metadata": {
        "id": "e8O0NQU7EJ5B"
      }
    },
    {
      "cell_type": "code",
      "source": [
        "# Correct\n",
        "class ConfigError(Exception):\n",
        "    pass\n",
        "\n",
        "# Wrong\n",
        "class ConfigError(BaseException):\n",
        "    pass"
      ],
      "metadata": {
        "id": "Xg9GaiHpNWEq"
      },
      "execution_count": null,
      "outputs": []
    },
    {
      "cell_type": "markdown",
      "source": [
        "####例外鏈（Exception Chaining）\n",
        "- 使用 `raise X from Y` 明確替換例外，同時保留原回溯（traceback）。\n",
        "- 使用 `raise X from None` 刻意替換內層例外時，應確保將相關資訊轉移到新例外中（如轉換 `KeyError` → `AttributeError` 時保留屬性名，或將原例外訊息文字嵌入新例外）。\n"
      ],
      "metadata": {
        "id": "oiuFzLeZEZ1o"
      }
    },
    {
      "cell_type": "code",
      "source": [
        "# Correct\n",
        "try:\n",
        "    open(\"data.txt\")\n",
        "except FileNotFoundError as e:\n",
        "    raise ConfigError(\"Missing data file\") from e\n",
        "\n",
        "# 刻意隱藏內層例外\n",
        "try:\n",
        "    int(\"abc\")\n",
        "except ValueError:\n",
        "    raise ConfigError(\"Invalid config\") from None"
      ],
      "metadata": {
        "id": "4XH0AHlsNane"
      },
      "execution_count": null,
      "outputs": []
    },
    {
      "cell_type": "markdown",
      "source": [
        "####捕捉例外的最佳實踐\n",
        "- 盡量捕捉特定例外，而非使用裸 `except:`：\n",
        "- 裸 `except:` 會攔截 `SystemExit` 與 `KeyboardInterrupt`，\n",
        "讓 Ctrl+C 難以中斷程式，且可能掩蓋其他問題。\n",
        "- 若要攔截所有程式錯誤型例外，請使用 `except Exception:`\n",
        "（裸 except 相當於 `except BaseException:`）。\n",
        "\n"
      ],
      "metadata": {
        "id": "uz8dC4y5Eqyw"
      }
    },
    {
      "cell_type": "code",
      "source": [
        "# Correct：\n",
        "try:\n",
        "    import platform_specific_module\n",
        "except ImportError:\n",
        "    platform_specific_module = None"
      ],
      "metadata": {
        "id": "5YGCrkBrEkUo"
      },
      "execution_count": null,
      "outputs": []
    },
    {
      "cell_type": "markdown",
      "source": [
        "####裸 except 合理的兩種情況：\n",
        "- 例外處理器會輸出或記錄回溯，讓使用者知道發生了錯誤。\n",
        "- 需要執行清理動作後再用 raise 讓例外繼續向上拋出（但通常 try...finally 更佳）。\n"
      ],
      "metadata": {
        "id": "qJHSy4nHFAdG"
      }
    },
    {
      "cell_type": "markdown",
      "source": [
        "####捕捉作業系統錯誤\n",
        "- 優先使用 Python 3.3 引入的明確例外階層，\n",
        "- 不要依賴檢查 `errno` 值。\n"
      ],
      "metadata": {
        "id": "E1EkETamD-F1"
      }
    },
    {
      "cell_type": "markdown",
      "source": [
        "####try/except 區塊範圍最小化\n",
        "將 `try` 子句限制在必要的最小範圍，避免掩蓋錯誤：\n"
      ],
      "metadata": {
        "id": "6u9RPztUFNFZ"
      }
    },
    {
      "cell_type": "code",
      "source": [
        "# Correct：\n",
        "try:\n",
        "    value = collection[key]\n",
        "except KeyError:\n",
        "    return key_not_found(key)\n",
        "else:\n",
        "    return handle_value(value)\n",
        "\n",
        "# Wrong:\n",
        "try:\n",
        "    # Too broad!\n",
        "    return handle_value(collection[key])\n",
        "except KeyError:\n",
        "    # Will also catch KeyError raised by handle_value()\n",
        "    return key_not_found(key)"
      ],
      "metadata": {
        "id": "ogbPgJ11FLLC"
      },
      "execution_count": null,
      "outputs": []
    },
    {
      "cell_type": "markdown",
      "source": [
        "####資源清理\n",
        "- 當資源僅在某段程式中使用時，應使用 `with` 語句保證及時、可靠地釋放資源；\n",
        "- `try/finally` 也可接受。\n",
        "- 若 context manager 除了取得/釋放資源之外還執行其他動作，應透過獨立方法呼叫：\n"
      ],
      "metadata": {
        "id": "HkiDVMm-FkeX"
      }
    },
    {
      "cell_type": "code",
      "source": [
        "# Correct:\n",
        "with conn.begin_transaction():\n",
        "    do_stuff_in_transaction(conn)\n",
        "\n",
        "# Wrong:\n",
        "with conn:\n",
        "    do_stuff_in_transaction(conn)"
      ],
      "metadata": {
        "id": "tcevzWV3FsVy"
      },
      "execution_count": null,
      "outputs": []
    },
    {
      "cell_type": "markdown",
      "source": [
        "####return 陳述一致性\n",
        "- 同一函式中，return 陳述應保持一致：要嘛全部回傳值，要嘛全部不回傳值。\n",
        "- 若有任何 return 回傳值，那些不回傳值的 return 應寫成 `return None`：\n"
      ],
      "metadata": {
        "id": "p5OuMMt4FzJI"
      }
    },
    {
      "cell_type": "code",
      "source": [
        "# Correct:\n",
        "\n",
        "def foo(x):\n",
        "    if x >= 0:\n",
        "        return math.sqrt(x)\n",
        "    else:\n",
        "        return None\n",
        "\n",
        "def bar(x):\n",
        "    if x < 0:\n",
        "        return None\n",
        "    return math.sqrt(x)\n",
        "\n",
        "# Wrong:\n",
        "def foo(x):\n",
        "    if x >= 0:\n",
        "        return math.sqrt(x)\n",
        "\n",
        "def bar(x):\n",
        "    if x < 0:\n",
        "        return\n",
        "    return math.sqrt(x)"
      ],
      "metadata": {
        "id": "T6-zXFBJF6VR"
      },
      "execution_count": 1,
      "outputs": []
    },
    {
      "cell_type": "markdown",
      "source": [
        "####其他最佳實踐\n"
      ],
      "metadata": {
        "id": "S4uG2aKnGEk5"
      }
    },
    {
      "cell_type": "code",
      "source": [
        "# 用 .startswith() / .endswith() 取代字串切片檢查前綴/後綴。\n",
        "# Correct:\n",
        "if foo.startswith('bar'):\n",
        "    pass\n",
        "\n",
        "# Wrong:\n",
        "if foo[:3] == 'bar':\n",
        "    pass"
      ],
      "metadata": {
        "id": "iR91_7VZGBze"
      },
      "execution_count": null,
      "outputs": []
    },
    {
      "cell_type": "code",
      "source": [
        "# 型別比較用 isinstance()，不要直接比對 type()\n",
        "# Correct:\n",
        "if isinstance(obj, int):\n",
        "    pass\n",
        "\n",
        "# Wrong:\n",
        "if type(obj) is type(1):\n",
        "    pass"
      ],
      "metadata": {
        "id": "ZlpOVX6jHvzy"
      },
      "execution_count": null,
      "outputs": []
    },
    {
      "cell_type": "code",
      "source": [
        "# 判斷序列是否為空，用 if not seq: / if seq:，避免用 len(seq).\n",
        "# Correct:\n",
        "if not seq:\n",
        "    pass\n",
        "if seq:\n",
        "    pass\n",
        "\n",
        "# Wrong:\n",
        "if len(seq):\n",
        "    pass\n",
        "\n",
        "if not len(seq):\n",
        "    pass"
      ],
      "metadata": {
        "id": "5_B2HnyTH7Y4"
      },
      "execution_count": null,
      "outputs": []
    },
    {
      "cell_type": "code",
      "source": [
        "# 不要用 == True/False 比對布林值，更不要用 is True/False。\n",
        "# Correct:\n",
        "if greeting:\n",
        "    pass\n",
        "\n",
        "# Wrong:\n",
        "if greeting == True:\n",
        "    pass\n",
        "\n",
        "#Worse:\n",
        "# Wrong:\n",
        "if greeting is True:\n",
        "    pass"
      ],
      "metadata": {
        "id": "vqjI34maIFZ4"
      },
      "execution_count": null,
      "outputs": []
    },
    {
      "cell_type": "code",
      "source": [
        "# 避免在 finally 區塊中使用會跳出該區塊的 return / break / continue，以免取消原本正在傳遞的例外。\n",
        "# Wrong:\n",
        "def foo():\n",
        "    try:\n",
        "        1 / 0\n",
        "    finally:\n",
        "        return 42\n"
      ],
      "metadata": {
        "id": "qlDiVa5YIX7m"
      },
      "execution_count": null,
      "outputs": []
    },
    {
      "cell_type": "code",
      "source": [
        "# 避免依賴 CPython 特有的字串串接最佳化\n",
        "# Wrong：在迴圈中直接用 += 串接字串，效能差且不可攜\n",
        "result = \"\"\n",
        "for s in sequence:\n",
        "    result += s\n",
        "\n",
        "# Correct：使用 join()，跨實作效能一致\n",
        "result = \"\".join(sequence)"
      ],
      "metadata": {
        "id": "viauzvk_M3o1"
      },
      "execution_count": null,
      "outputs": []
    },
    {
      "cell_type": "markdown",
      "source": [
        "    "
      ],
      "metadata": {
        "id": "B9FJSfGVIebJ"
      }
    }
  ]
}